{
 "cells": [
  {
   "cell_type": "code",
   "execution_count": 2,
   "id": "pursuant-summer",
   "metadata": {},
   "outputs": [],
   "source": [
    "import numpy as np\n",
    "from scipy.stats import norm\n",
    "import matplotlib.pyplot as plt\n",
    "from tqdm import tqdm\n",
    "import sdeint\n",
    "%load_ext autoreload\n",
    "%autoreload 2\n"
   ]
  },
  {
   "cell_type": "markdown",
   "id": "typical-injection",
   "metadata": {},
   "source": [
    "Covariance evolution"
   ]
  },
  {
   "cell_type": "code",
   "execution_count": 5,
   "id": "lined-familiar",
   "metadata": {},
   "outputs": [],
   "source": [
    "covs = []\n",
    "means = []\n",
    "\n",
    "#define parameters\n",
    "gamma = 0.3 # cavity decay rate\n",
    "Gamma = 0.8 #measurement rate\n",
    "eta = 1 # measurement efficiency\n",
    "n = 2 # number of photons?\n",
    "w = 0.4 # hamornic oscillator freq mecanical\n",
    "m = 1 # mass harmonic oscillator mechanical\n",
    "T = 2*np.pi/w\n",
    "\n",
    "A = np.array([\n",
    "    [0., 1/m],\n",
    "    [-m*w**2, 0.]])\n",
    "\n",
    "## initial condition (stationary case)\n",
    "x0 = np.array([2,0])\n",
    "B=np.eye(2)*1e-14\n",
    "\n",
    "def f(x,t):\n",
    "    return A.dot(x)\n",
    "\n",
    "def G(x,t):\n",
    "    return B\n",
    "\n",
    "result = sdeint.itoint(f,G, x0, np.linspace(0,T, 101))"
   ]
  },
  {
   "cell_type": "code",
   "execution_count": 6,
   "id": "imperial-activation",
   "metadata": {},
   "outputs": [],
   "source": [
    "from scipy import integrate"
   ]
  },
  {
   "cell_type": "code",
   "execution_count": 7,
   "id": "refined-promotion",
   "metadata": {},
   "outputs": [],
   "source": [
    "def harm_osc(x, t, m, w):\n",
    "    pos, mom = x\n",
    "    dydt = [mom/m, -pos*m*w**2]\n",
    "    return dydt"
   ]
  },
  {
   "cell_type": "code",
   "execution_count": 8,
   "id": "solved-vegetarian",
   "metadata": {},
   "outputs": [],
   "source": [
    "y0=[1,0]\n",
    "t = np.linspace(0,int(500*T),int(500*T*100))\n",
    "resu = integrate.odeint(harm_osc, y0, t, args=(m,w))"
   ]
  },
  {
   "cell_type": "code",
   "execution_count": 9,
   "id": "directed-savannah",
   "metadata": {},
   "outputs": [
    {
     "data": {
      "text/plain": [
       "[<matplotlib.lines.Line2D at 0x7fa23ac70ac8>]"
      ]
     },
     "execution_count": 9,
     "metadata": {},
     "output_type": "execute_result"
    },
    {
     "data": {
      "image/png": "[encoded data removed]",
      "text/plain": [
       "<Figure size 432x288 with 1 Axes>"
      ]
     },
     "metadata": {
      "needs_background": "light"
     },
     "output_type": "display_data"
    }
   ],
   "source": [
    "plt.plot(resu[:,0])"
   ]
  },
  {
   "cell_type": "code",
   "execution_count": null,
   "id": "acknowledged-intensity",
   "metadata": {},
   "outputs": [],
   "source": []
  }
 ],
 "metadata": {
  "kernelspec": {
   "display_name": "Python 3",
   "language": "python",
   "name": "python3"
  },
  "language_info": {
   "codemirror_mode": {
    "name": "ipython",
    "version": 3
   },
   "file_extension": ".py",
   "mimetype": "text/x-python",
   "name": "python",
   "nbconvert_exporter": "python",
   "pygments_lexer": "ipython3",
   "version": "3.6.9"
  }
 },
 "nbformat": 4,
 "nbformat_minor": 5
}
