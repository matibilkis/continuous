{
 "cells": [
  {
   "cell_type": "code",
   "execution_count": 5,
   "id": "pursuant-summer",
   "metadata": {},
   "outputs": [
    {
     "name": "stdout",
     "output_type": "stream",
     "text": [
      "The autoreload extension is already loaded. To reload it, use:\n",
      "  %reload_ext autoreload\n"
     ]
    }
   ],
   "source": [
    "import numpy as np\n",
    "from scipy.stats import norm\n",
    "import matplotlib.pyplot as plt\n",
    "from tqdm import tqdm\n",
    "from misc import *\n",
    "import tensorflow as tf\n",
    "%load_ext autoreload\n",
    "%autoreload 2\n"
   ]
  },
  {
   "cell_type": "markdown",
   "id": "typical-injection",
   "metadata": {},
   "source": [
    "Covariance evolution"
   ]
  },
  {
   "cell_type": "code",
   "execution_count": 2,
   "id": "lined-familiar",
   "metadata": {},
   "outputs": [
    {
     "name": "stderr",
     "output_type": "stream",
     "text": [
      "100%|██████████| 200000/200000 [00:07<00:00, 26665.09it/s]\n"
     ]
    }
   ],
   "source": [
    "covs = []\n",
    "means = []\n",
    "\n",
    "#define parameters\n",
    "gamma = 1.0 #damping from outside \n",
    "Gamma = 0.8 #measurement rate\n",
    "eta = 1 # measurement efficiency\n",
    "n = 2 # number of photons?\n",
    "w = 0.4 # hamornic oscillator freq mecanical\n",
    "m = 1 # mass harmonic oscillator mechanical\n",
    "T = 2*np.pi/w\n",
    "\n",
    "C= np.diag([np.sqrt(4*eta*Gamma)]*2)\n",
    "\n",
    "A = np.array([\n",
    "    [0., 1/m],\n",
    "    [-m*w**2, 0.]])\n",
    "\n",
    "D = np.diag([gamma*(n + 0.5) + Gamma]*2)\n",
    "\n",
    "## initial condition\n",
    "su = n + 0.5 + Gamma/gamma\n",
    "cov_in = np.diag([np.sqrt(1+ (16*eta*Gamma*su/gamma) -1)*gamma/(8*eta*Gamma)]*2)\n",
    "x_in = np.array([1,0])\n",
    "\n",
    "\n",
    "covs = [cov_in]\n",
    "means = [x_in]\n",
    "dt = 5e-4\n",
    "tf = 100\n",
    "tot_steps = int(tf/dt)\n",
    "\n",
    "xi = lambda cov: np.dot(cov, ct(C)) #+ ct(Gamma_matrix)\n",
    "\n",
    "for k in tqdm(range(tot_steps)):\n",
    "    \n",
    "    x = means[-1]\n",
    "    cov = covs[-1]\n",
    "    \n",
    "    XiCov = xi(cov)\n",
    "\n",
    "    dy = np.dot(C, x + np.dot(np.linalg.inv(C), np.random.randn(2)/np.sqrt(dt)))*dt \n",
    "    dx = np.dot(A - XiCov.dot(C), x)*dt + XiCov.dot(dy)\n",
    "    dcov = (np.dot(A,cov) + np.dot(cov, ct(A)) + D - np.dot(XiCov, ct(XiCov)))*dt\n",
    "    \n",
    "    covs.append(covs[-1] + dcov)\n",
    "    means.append(means[-1] + dx)"
   ]
  },
  {
   "cell_type": "code",
   "execution_count": 3,
   "id": "wireless-diploma",
   "metadata": {},
   "outputs": [
    {
     "data": {
      "text/plain": [
       "[<matplotlib.lines.Line2D at 0x7ff24be8fdd8>]"
      ]
     },
     "execution_count": 3,
     "metadata": {},
     "output_type": "execute_result"
    },
    {
     "data": {
      "image/png": "[encoded data removed]",
      "text/plain": [
       "<Figure size 432x288 with 1 Axes>"
      ]
     },
     "metadata": {
      "needs_background": "light"
     },
     "output_type": "display_data"
    }
   ],
   "source": [
    "plt.plot([means[k][0] for k in range(len(means))])"
   ]
  },
  {
   "cell_type": "code",
   "execution_count": 4,
   "id": "indian-atlantic",
   "metadata": {},
   "outputs": [],
   "source": []
  },
  {
   "cell_type": "code",
   "execution_count": 50,
   "id": "grateful-boutique",
   "metadata": {},
   "outputs": [],
   "source": [
    "class ModelA(tf.keras.Model):\n",
    "    def __init__(self, target_A, seed_val=0.1 ):\n",
    "        \"\"\"\n",
    "        Encoder network\n",
    "        \"\"\"\n",
    "        super(ModelA,self).__init__()\n",
    "        self.l1 = tf.keras.layers.Dense(32,kernel_initializer=tf.random_uniform_initializer(),bias_initializer = tf.keras.initializers.Zeros())\n",
    "        self.l2 = tf.keras.layers.Dense(32,kernel_initializer=tf.random_uniform_initializer(),bias_initializer = tf.keras.initializers.Zeros())\n",
    "        self.loutput = tf.keras.layers.Dense(4, bias_initializer = tf.keras.initializers.Zeros())\n",
    "        self.target_A = tf.cast(A, np.float32)\n",
    "        self.total_loss = Metrica(name=\"total_loss\")\n",
    "\n",
    "        \n",
    "    def call(self, inputs):\n",
    "        f = tf.nn.sigmoid(self.l1(inputs))\n",
    "        f = tf.nn.sigmoid(self.l2(f))\n",
    "        f = self.loutput(f)\n",
    "        return f\n",
    "    \n",
    "    def spit_A(self):\n",
    "        return tf.reshape(self(tf.ones((1,1))),(2,2))\n",
    "    @property\n",
    "    def metrics(self):\n",
    "        \"\"\"\n",
    "        this helps monitring training\n",
    "        \"\"\"\n",
    "        return [self.total_loss]\n",
    "\n",
    "    \n",
    "    def train_step(self, data):\n",
    "        x, y = data\n",
    "        with tf.GradientTape() as tape:\n",
    "            tape.watch(self.trainable_variables)\n",
    "            A_pred = self.spit_A()\n",
    "            loss = tf.keras.losses.MeanSquaredError()(A_pred,self.target_A)\n",
    "        grads = tape.gradient(loss, self.trainable_variables)\n",
    "        self.optimizer.apply_gradients(zip(grads, self.trainable_variables))\n",
    "        self.total_loss.update_state(loss)\n",
    "        return {k.name:k.result() for k in self.metrics}\n",
    "    \n",
    "    \n",
    "class Metrica(tf.keras.metrics.Metric):\n",
    "    \"\"\"\n",
    "    This helps to monitor training (for instance each loss)\n",
    "    \"\"\"\n",
    "    def __init__(self, name):\n",
    "        super(Metrica, self).__init__()\n",
    "        self._name=name\n",
    "        self.metric_variable = self.add_weight(name=name, initializer='zeros')\n",
    "\n",
    "    def update_state(self, new_value, sample_weight=None):\n",
    "        self.metric_variable.assign(new_value)\n",
    "\n",
    "    def result(self):\n",
    "        return self.metric_variable\n",
    "\n",
    "    def reset_states(self):\n",
    "        self.metric_variable.assign(0.)"
   ]
  },
  {
   "cell_type": "code",
   "execution_count": 51,
   "id": "twenty-pipeline",
   "metadata": {},
   "outputs": [],
   "source": [
    "model = ModelA(target_A = A.astype(np.float64))\n",
    "model.compile(optimizer=tf.keras.optimizers.Adam(lr=1e-2), loss=\"mse\")"
   ]
  },
  {
   "cell_type": "code",
   "execution_count": 52,
   "id": "excellent-hazard",
   "metadata": {},
   "outputs": [],
   "source": [
    "history_training =  model.fit(x=tf.random.uniform((1,100)), y=tf.random.uniform((1,100)), epochs=1000, verbose=0)"
   ]
  },
  {
   "cell_type": "code",
   "execution_count": 53,
   "id": "characteristic-circle",
   "metadata": {},
   "outputs": [
    {
     "data": {
      "text/plain": [
       "<tf.Tensor: shape=(2, 2), dtype=float32, numpy=\n",
       "array([[ 0.0000000e+00,  1.0000000e+00],\n",
       "       [-1.6000000e-01,  3.7252903e-08]], dtype=float32)>"
      ]
     },
     "execution_count": 53,
     "metadata": {},
     "output_type": "execute_result"
    }
   ],
   "source": [
    "model.spit_A()"
   ]
  },
  {
   "cell_type": "code",
   "execution_count": 58,
   "id": "novel-defeat",
   "metadata": {},
   "outputs": [
    {
     "data": {
      "image/png": "[encoded data removed]",
      "text/plain": [
       "<Figure size 432x288 with 1 Axes>"
      ]
     },
     "metadata": {
      "needs_background": "light"
     },
     "output_type": "display_data"
    }
   ],
   "source": [
    "ax=plt.subplot2grid((1,1),(0,0))\n",
    "ax.plot(history_training.history[\"total_loss\"])\n",
    "ax.set_yscale('log')"
   ]
  },
  {
   "cell_type": "code",
   "execution_count": null,
   "id": "upper-cleveland",
   "metadata": {},
   "outputs": [],
   "source": []
  }
 ],
 "metadata": {
  "kernelspec": {
   "display_name": "Python 3",
   "language": "python",
   "name": "python3"
  },
  "language_info": {
   "codemirror_mode": {
    "name": "ipython",
    "version": 3
   },
   "file_extension": ".py",
   "mimetype": "text/x-python",
   "name": "python",
   "nbconvert_exporter": "python",
   "pygments_lexer": "ipython3",
   "version": "3.6.9"
  }
 },
 "nbformat": 4,
 "nbformat_minor": 5
}
