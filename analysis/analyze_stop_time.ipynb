{
 "cells": [
  {
   "cell_type": "code",
   "execution_count": 1,
   "id": "1951c08f-0317-4a48-ad4b-d791895bd796",
   "metadata": {},
   "outputs": [],
   "source": [
    "import os \n",
    "os.chdir(\"..\")\n",
    "\n",
    "%load_ext autoreload\n",
    "%autoreload 2\n",
    "from numerics.integration.steps import *\n",
    "import numpy as np\n",
    "import matplotlib.pyplot as plt\n",
    "from tqdm import tqdm\n",
    "from numerics.utilities.misc import *\n",
    "import time\n",
    "from scipy.special import erf\n",
    "import pickle\n",
    "\n"
   ]
  },
  {
   "cell_type": "code",
   "execution_count": 47,
   "id": "55617db9-48d8-40fe-832d-6dc443ef29b7",
   "metadata": {},
   "outputs": [
    {
     "name": "stderr",
     "output_type": "stream",
     "text": [
      "100%|██████████| 999/999 [14:06<00:00,  1.18it/s]\n"
     ]
    }
   ],
   "source": [
    "mode = \"damping\"\n",
    "dtt = 1e-6\n",
    "pars = give_def_params_discrimination(flip=0, mode = mode)\n",
    "params, exp_path = check_params(pars)\n",
    "\n",
    "total_time, dt = get_total_time_dt(params, ppp=1000, dt=dtt, total_time=4)\n",
    "times = np.arange(0, total_time+ dt, dt)\n",
    "\n",
    "\n",
    "\n",
    "\n",
    "\n",
    "\n",
    "def prob(t, b, kappa0, kappa1, eta0 , eta1, n0, n1, gamma0, gamma1):\n",
    "    Su1 = n1 + 0.5 + (kappa1 / gamma1)\n",
    "    Su0 = n0 + 0.5 + (kappa0 / gamma0)\n",
    "\n",
    "    S1 = (np.sqrt(1 + (16.0*eta1*kappa1*Su1/gamma1)) - 1)*(gamma1/(8.0*eta1*kappa1))\n",
    "    S0 = (np.sqrt(1 + (16.0*eta0*kappa0*Su0/gamma0)) - 1)*( gamma0/(8.0*eta0*kappa0))\n",
    "\n",
    "    lam = gamma0 + (8*eta0*kappa0*S0)\n",
    "\n",
    "    aa = (4*eta1*kappa1*(S1**2))/gamma1\n",
    "    bb =(4*eta0*kappa0*S0**2)*(1+((16.0*eta1*kappa1*S1)/ (gamma1 + lam)) + (64.0*(eta1 * kappa1 * S1)**(2)/(gamma1 * (gamma1 + lam))))/ lam\n",
    "    c =8 *(S0*S1*(eta0*kappa0 *eta1*kappa1)**(0.5)) * (gamma1+ (4.0*eta1*kappa1*S1) ) / ((gamma1 + lam)*gamma1)\n",
    "\n",
    "    mu = 4*(eta1*kappa1*aa + (eta0*kappa0*bb) - 2*np.sqrt(eta1*kappa1*eta0*kappa0)*c)\n",
    "    S= np.sqrt(2*mu)\n",
    "\n",
    "    div = (np.sqrt(2*np.pi)*S*(t**(3/2)))\n",
    "    return  abs(b)*np.exp(-((abs(b)-mu*t)**2)/(2*t*(S**2)))/div, mu\n",
    "\n",
    "\n",
    "\n",
    "pars = give_def_params_discrimination(flip=0, mode = \"damping\")\n",
    "params, exp_path = check_params(pars)\n",
    "[gamma1, omega1, n1, eta1, kappa1], [gamma0, omega0, n0, eta0, kappa0] = params\n",
    "\n",
    "\n",
    "\n",
    "indis = np.logspace(2,np.log10(len(times)-1), 100)\n",
    "indis = [int(k) for k in indis]\n",
    "timind = [times[ind] for ind in indis]\n",
    "\n",
    "\n",
    "\n",
    "def get_stop_time(ell,b):\n",
    "    ind_times = np.argmin(np.logical_and(ell < b, ell > -b))\n",
    "    return times[ind_times]\n",
    "    \n",
    "    \n",
    "def load_liks(itrajj, mode=\"damping\", dtt=1e-4, total_time=4.):\n",
    "    pars = give_def_params_discrimination(flip=0, mode = mode, )\n",
    "    params, exp_path = check_params(pars)\n",
    "\n",
    "    total_time, dt = get_total_time_dt(params, ppp=1000, dt=dtt, total_time = total_time)\n",
    "    \n",
    "    logliks =load_data_discrimination_liks(itraj=itrajj, total_time = total_time, dt=dt, exp_path = exp_path)\n",
    "    l0,l1 = logliks[:,0], logliks[:,1]\n",
    "    log_lik_ratio = l1 - l0  ###\n",
    "\n",
    "    #pars = give_def_params_discrimination(flip=1, mode=mode)\n",
    "    #params, exp_path = check_params(pars)\n",
    "    #total_time, dt = get_total_time_dt(params, ppp=1000,dt=dtt ,total_time = total_time)\n",
    "    #logliks_swap =load_data_discrimination_liks(itraj=itrajj, total_time = total_time, dt=dt, exp_path = exp_path)\n",
    "    #log_lik_ratio_swap = logliks_swap[:,0] - logliks_swap[:,1]  \n",
    "    \n",
    "    return log_lik_ratio#, log_lik_ratio_swap\n",
    "\n",
    "    \n",
    "boundsB = [3]\n",
    "mode=\"damping\"\n",
    "dtt=1e-6\n",
    "total_time=4\n",
    "Ntrajs=1000\n",
    "\n",
    "total_time, dt = get_total_time_dt(params, ppp=1000, dt=dtt, total_time=4.)\n",
    "times = np.arange(0, total_time+ dt, dt)\n",
    "\n",
    "stop = {}\n",
    "stop[\"_0\"] = {i:[] for i in range(1,Ntrajs)}\n",
    "stop[\"_1\"] = {i:[] for i in range(1,Ntrajs)}\n",
    "\n",
    "horr=[]\n",
    "\n",
    "for itraj in tqdm(range(1, Ntrajs)):\n",
    "    log_lik_ratio = load_liks(itraj, mode=mode, dtt=dtt, total_time=total_time)\n",
    "    for b in boundsB:\n",
    "        stop[\"_1\"][itraj].append(get_stop_time(log_lik_ratio, b))"
   ]
  },
  {
   "cell_type": "code",
   "execution_count": 50,
   "id": "83e3bff8-bdb8-45f5-afe6-4f4ef8bde95e",
   "metadata": {},
   "outputs": [
    {
     "ename": "OSError",
     "evalue": "[Errno 122] Disk quota exceeded",
     "output_type": "error",
     "traceback": [
      "\u001b[0;31m---------------------------------------------------------------------------\u001b[0m",
      "\u001b[0;31mOSError\u001b[0m                                   Traceback (most recent call last)",
      "\u001b[0;32m<ipython-input-50-1b2a1f67e83d>\u001b[0m in \u001b[0;36m<module>\u001b[0;34m\u001b[0m\n\u001b[1;32m      2\u001b[0m \u001b[0mos\u001b[0m\u001b[0;34m.\u001b[0m\u001b[0mmakedirs\u001b[0m\u001b[0;34m(\u001b[0m\u001b[0mfreq_dir\u001b[0m\u001b[0;34m,\u001b[0m \u001b[0mexist_ok\u001b[0m\u001b[0;34m=\u001b[0m\u001b[0;32mTrue\u001b[0m\u001b[0;34m)\u001b[0m\u001b[0;34m\u001b[0m\u001b[0;34m\u001b[0m\u001b[0m\n\u001b[1;32m      3\u001b[0m \u001b[0;32mwith\u001b[0m \u001b[0mopen\u001b[0m\u001b[0;34m(\u001b[0m\u001b[0mfreq_dir\u001b[0m\u001b[0;34m+\u001b[0m\u001b[0;34m\"stop.pickle\"\u001b[0m\u001b[0;34m,\u001b[0m \u001b[0;34m'wb'\u001b[0m\u001b[0;34m)\u001b[0m \u001b[0;32mas\u001b[0m \u001b[0mhandle\u001b[0m\u001b[0;34m:\u001b[0m\u001b[0;34m\u001b[0m\u001b[0;34m\u001b[0m\u001b[0m\n\u001b[0;32m----> 4\u001b[0;31m     \u001b[0mpickle\u001b[0m\u001b[0;34m.\u001b[0m\u001b[0mdump\u001b[0m\u001b[0;34m(\u001b[0m\u001b[0mstop\u001b[0m\u001b[0;34m,\u001b[0m \u001b[0mhandle\u001b[0m\u001b[0;34m,\u001b[0m \u001b[0mprotocol\u001b[0m\u001b[0;34m=\u001b[0m\u001b[0mpickle\u001b[0m\u001b[0;34m.\u001b[0m\u001b[0mHIGHEST_PROTOCOL\u001b[0m\u001b[0;34m)\u001b[0m\u001b[0;34m\u001b[0m\u001b[0;34m\u001b[0m\u001b[0m\n\u001b[0m",
      "\u001b[0;31mOSError\u001b[0m: [Errno 122] Disk quota exceeded"
     ]
    }
   ],
   "source": [
    "freq_dir = get_def_path(mode=\"hypothesis_testing\")+\"mode_{}/dt_{}_total_time_bounds{}/\".format(dt,total_time,boundsB)\n",
    "os.makedirs(freq_dir, exist_ok=True)\n",
    "with open(freq_dir+\"stop.pickle\", 'wb') as handle:\n",
    "    pickle.dump(stop, handle, protocol=pickle.HIGHEST_PROTOCOL)\n"
   ]
  },
  {
   "cell_type": "code",
   "execution_count": 51,
   "id": "2283b998-eec1-49c8-afe9-71794a8ce565",
   "metadata": {},
   "outputs": [],
   "source": [
    "stopp1 = list(stop[\"_1\"].values())"
   ]
  },
  {
   "cell_type": "code",
   "execution_count": 52,
   "id": "defaf499-c24f-4efe-93e0-1a86c380ca07",
   "metadata": {},
   "outputs": [],
   "source": [
    "st=[]\n",
    "for k in stopp1:\n",
    "    if len(k) == 0:\n",
    "        pass\n",
    "    else:\n",
    "        st.append(k)"
   ]
  },
  {
   "cell_type": "code",
   "execution_count": 53,
   "id": "2a258ad1-bec6-49b9-9e5d-85ff936b3170",
   "metadata": {},
   "outputs": [],
   "source": [
    "stop1 = np.stack(st)"
   ]
  },
  {
   "cell_type": "code",
   "execution_count": 56,
   "id": "db1fe0ea-5028-4820-8229-6c543c8506a7",
   "metadata": {},
   "outputs": [
    {
     "data": {
      "text/plain": [
       "(array([ 9., 23., 32., 48., 47., 46., 60., 41., 42., 40., 50., 32., 38.,\n",
       "        27., 36., 34., 32., 22., 19., 20., 19., 13., 23., 14., 16., 13.,\n",
       "        16., 15.,  9., 15., 12., 13.,  7.,  9.,  6.,  6.,  9.,  5.,  4.,\n",
       "         7.,  7.,  6.,  2.,  3.,  2.,  6.,  2.,  1.,  5.,  4.,  0.,  1.,\n",
       "         2.,  2.,  2.,  3.,  2.,  2.,  0.,  1.,  1.,  1.,  2.,  1.,  1.,\n",
       "         2.,  0.,  0.,  0.,  0.,  0.,  0.,  0.,  0.,  0.,  1.,  1.,  1.,\n",
       "         0.,  2.,  0.,  2.,  1.,  0.,  0.,  0.,  0.,  0.,  0.,  0.,  0.,\n",
       "         0.,  0.,  0.,  0.,  0.,  0.,  0.,  0.,  1.]),\n",
       " array([0.063712  , 0.09101979, 0.11832758, 0.14563537, 0.17294316,\n",
       "        0.20025095, 0.22755874, 0.25486653, 0.28217432, 0.30948211,\n",
       "        0.3367899 , 0.36409769, 0.39140548, 0.41871327, 0.44602106,\n",
       "        0.47332885, 0.50063664, 0.52794443, 0.55525222, 0.58256001,\n",
       "        0.6098678 , 0.63717559, 0.66448338, 0.69179117, 0.71909896,\n",
       "        0.74640675, 0.77371454, 0.80102233, 0.82833012, 0.85563791,\n",
       "        0.8829457 , 0.91025349, 0.93756128, 0.96486907, 0.99217686,\n",
       "        1.01948465, 1.04679244, 1.07410023, 1.10140802, 1.12871581,\n",
       "        1.1560236 , 1.18333139, 1.21063918, 1.23794697, 1.26525476,\n",
       "        1.29256255, 1.31987034, 1.34717813, 1.37448592, 1.40179371,\n",
       "        1.4291015 , 1.45640929, 1.48371708, 1.51102487, 1.53833266,\n",
       "        1.56564045, 1.59294824, 1.62025603, 1.64756382, 1.67487161,\n",
       "        1.7021794 , 1.72948719, 1.75679498, 1.78410277, 1.81141056,\n",
       "        1.83871835, 1.86602614, 1.89333393, 1.92064172, 1.94794951,\n",
       "        1.9752573 , 2.00256509, 2.02987288, 2.05718067, 2.08448846,\n",
       "        2.11179625, 2.13910404, 2.16641183, 2.19371962, 2.22102741,\n",
       "        2.2483352 , 2.27564299, 2.30295078, 2.33025857, 2.35756636,\n",
       "        2.38487415, 2.41218194, 2.43948973, 2.46679752, 2.49410531,\n",
       "        2.5214131 , 2.54872089, 2.57602868, 2.60333647, 2.63064426,\n",
       "        2.65795205, 2.68525984, 2.71256763, 2.73987542, 2.76718321,\n",
       "        2.794491  ]),\n",
       " <BarContainer object of 100 artists>)"
      ]
     },
     "execution_count": 56,
     "metadata": {},
     "output_type": "execute_result"
    },
    {
     "data": {
      "image/png": "[encoded data removed]",
      "text/plain": [
       "<Figure size 432x288 with 1 Axes>"
      ]
     },
     "metadata": {
      "needs_background": "light"
     },
     "output_type": "display_data"
    }
   ],
   "source": [
    "plt.hist(stop1[:,0], bins=100)"
   ]
  },
  {
   "cell_type": "code",
   "execution_count": 61,
   "id": "0f676ae4-85b5-4b5e-bef4-6178c3456097",
   "metadata": {},
   "outputs": [],
   "source": [
    "pars = give_def_params_discrimination(flip=0, mode = \"damping\")\n",
    "params, exp_path = check_params(pars)\n",
    "[gamma1, omega1, n1, eta1, kappa1], [gamma0, omega0, n0, eta0, kappa0] = params\n",
    "\n",
    "t=1\n",
    "b = boundsB[-1]\n",
    "tti = np.linspace(1e-4,4,100)\n",
    "probs = [ggiulio_prob(t, boundsB[0], kappa0, kappa1, eta0 , eta1, n0, n1, gamma0, gamma1)[0] for t in tti]"
   ]
  },
  {
   "cell_type": "code",
   "execution_count": 69,
   "id": "d3573528-0ab4-4a71-963b-cea6ebe399d6",
   "metadata": {},
   "outputs": [],
   "source": [
    "def ggiulio_prob(t, b, kappa0, kappa1, eta0 , eta1, n0, n1, gamma0, gamma1):\n",
    "    Su1 = n1 + 0.5 + (kappa1 / gamma1)\n",
    "    Su0 = n0 + 0.5 + (kappa0 / gamma0)\n",
    "\n",
    "    S1 = (np.sqrt(1 + (16.0*eta1*kappa1*Su1/gamma1)) - 1)*(gamma1/(8.0*eta1*kappa1))\n",
    "    S0 = (np.sqrt(1 + (16.0*eta0*kappa0*Su0/gamma0)) - 1)*( gamma0/(8.0*eta0*kappa0))\n",
    "\n",
    "    lam = gamma0 + (8*eta0*kappa0*S0)\n",
    "\n",
    "    aa = (4*eta1*kappa1*(S1**2))/gamma1\n",
    "    bb =(4*eta0*kappa0*S0**2)*(1+((16.0*eta1*kappa1*S1)/ (gamma1 + lam)) + (64.0*(eta1 * kappa1 * S1)**(2)/(gamma1 * (gamma1 + lam))))/ lam\n",
    "    c =8 *(S0*S1*(eta0*kappa0 *eta1*kappa1)**(0.5)) * (gamma1+ (4.0*eta1*kappa1*S1) ) / ((gamma1 + lam)*gamma1)\n",
    "\n",
    "    mu = 4*(eta1*kappa1*aa + (eta0*kappa0*bb) - 2*np.sqrt(eta1*kappa1*eta0*kappa0)*c)\n",
    "    S= np.sqrt(2*mu)\n",
    "\n",
    "    div = (np.sqrt(2*np.pi)*S*(t**(3/2)))\n",
    "    return  abs(b)*np.exp(-((abs(b)-mu*t)**2)/(2*t*(S**2)))/div"
   ]
  },
  {
   "cell_type": "code",
   "execution_count": 70,
   "id": "6530c050-9ce8-46f8-bdc1-636ce322d735",
   "metadata": {},
   "outputs": [],
   "source": [
    "pars = give_def_params_discrimination(flip=0, mode = \"damping\")\n",
    "params, exp_path = check_params(pars)\n",
    "[gamma1, omega1, n1, eta1, kappa1], [gamma0, omega0, n0, eta0, kappa0] = params\n",
    "\n",
    "t=1\n",
    "b = boundsB[-1]\n",
    "tti = np.linspace(1e-4,4,100)\n",
    "probs = [ggiulio_prob(t, boundsB[0], kappa0, kappa1, eta0 , eta1, n0, n1, gamma0, gamma1) for t in tti]"
   ]
  },
  {
   "cell_type": "code",
   "execution_count": 71,
   "id": "75937dc5-a931-4ead-82f8-229fb2ad2060",
   "metadata": {},
   "outputs": [
    {
     "data": {
      "text/plain": [
       "<BarContainer object of 199 artists>"
      ]
     },
     "execution_count": 71,
     "metadata": {},
     "output_type": "execute_result"
    },
    {
     "data": {
      "image/png": "[encoded data removed]",
      "text/plain": [
       "<Figure size 432x288 with 1 Axes>"
      ]
     },
     "metadata": {
      "needs_background": "light"
     },
     "output_type": "display_data"
    }
   ],
   "source": [
    "counts, bins, bars = plt.hist(stop1[:,0], bins=int(len(st)/5), density=True)\n",
    "time_bins = (bins[1:] + bins[:-1])*0.5\n",
    "db = bins[1] - bins[0]\n",
    "plt.plot(np.linspace(1e-4,4,100), probs)\n",
    "plt.bar(time_bins, counts, width=bins[1]-bins[0],color=\"black\")"
   ]
  },
  {
   "cell_type": "code",
   "execution_count": null,
   "id": "b478c491-14b3-4d0f-b6e2-53908957dbea",
   "metadata": {},
   "outputs": [],
   "source": [
    "\n",
    "counts, bins, bars = plt.hist(stop1[:,0], bins=20, density=True)\n",
    "\n",
    "time_bins = (bins[1:] + bins[:-1])*0.5\n",
    "db = bins[1] - bins[0]\n",
    "plt.plot(np.linspace(1e-4,4,100), probs)\n",
    "plt.plot(time_bins, counts, color=\"black\")"
   ]
  },
  {
   "cell_type": "code",
   "execution_count": null,
   "id": "f907174d-a8fb-4104-abc9-94be98c39b6b",
   "metadata": {},
   "outputs": [],
   "source": []
  },
  {
   "cell_type": "code",
   "execution_count": null,
   "id": "4dbed9d6-9a0c-43c5-a2a5-e5aed4d5d3af",
   "metadata": {},
   "outputs": [],
   "source": []
  },
  {
   "cell_type": "code",
   "execution_count": 145,
   "id": "9ff3e31c-f88f-4c9f-b372-bd75b4e6139c",
   "metadata": {},
   "outputs": [],
   "source": [
    "probs = [prob(t, boundsB[-3], kappa0, kappa1, eta0 , eta1, n0, n1, gamma0, gamma1)[0] for t in np.linspace(1e-4,4,100)]\n",
    "timms = np.linspace(1e-4,4,100)\n",
    "dd = timms[1] - timms[0]"
   ]
  },
  {
   "cell_type": "code",
   "execution_count": 146,
   "id": "79767267-5127-4807-b08d-88d3fd980e09",
   "metadata": {},
   "outputs": [
    {
     "data": {
      "text/plain": [
       "(0.6627157330177854, 0.662647334829573, 0.7484709083333333, 0.7474553572854292)"
      ]
     },
     "execution_count": 146,
     "metadata": {},
     "output_type": "execute_result"
    }
   ],
   "source": [
    "(boundsB[-3]/mu1 , np.sum(probs*timms*dd), np.sum(counts*time_bins)*db, np.mean(stop1[:,0]))"
   ]
  },
  {
   "cell_type": "code",
   "execution_count": 151,
   "id": "085c233b-689f-471e-8f86-b3be2c6ee14d",
   "metadata": {},
   "outputs": [
    {
     "data": {
      "text/plain": [
       "(0.0627417346841858, 0.5504787796153295)"
      ]
     },
     "execution_count": 151,
     "metadata": {},
     "output_type": "execute_result"
    }
   ],
   "source": [
    "boundsB[-3]/(mu1**2) , np.sum(probs*(timms**2)*dd) - np.sum(((probs*timms)*dd)**2)#, np.sum(counts*time_bins)*db, np.std(stop1[:,0]))"
   ]
  },
  {
   "cell_type": "code",
   "execution_count": 153,
   "id": "d5bb3c45-fdbb-4268-90db-e03430afb4ed",
   "metadata": {},
   "outputs": [
    {
     "data": {
      "text/plain": [
       "0.4720284732415118"
      ]
     },
     "execution_count": 153,
     "metadata": {},
     "output_type": "execute_result"
    }
   ],
   "source": [
    "np.std(stop1[:,0])"
   ]
  },
  {
   "cell_type": "code",
   "execution_count": 129,
   "id": "bc51dc40-b6e3-4d13-b8c0-ce9031233f33",
   "metadata": {},
   "outputs": [
    {
     "data": {
      "text/plain": [
       "0.7478100897205587"
      ]
     },
     "execution_count": 129,
     "metadata": {},
     "output_type": "execute_result"
    }
   ],
   "source": []
  },
  {
   "cell_type": "code",
   "execution_count": null,
   "id": "782c7316-80ea-4d42-9db0-a40e8ed15c98",
   "metadata": {},
   "outputs": [],
   "source": []
  },
  {
   "cell_type": "code",
   "execution_count": null,
   "id": "2fa5501e-6498-4872-a382-6d49ebf86c41",
   "metadata": {},
   "outputs": [],
   "source": []
  },
  {
   "cell_type": "code",
   "execution_count": null,
   "id": "9e235124-fa56-40aa-8b62-6334a7895230",
   "metadata": {},
   "outputs": [],
   "source": []
  },
  {
   "cell_type": "code",
   "execution_count": 112,
   "id": "a046b95f-002f-4826-9122-10920466ccb8",
   "metadata": {},
   "outputs": [
    {
     "data": {
      "text/plain": [
       "[<matplotlib.lines.Line2D at 0x2b993ed71f98>]"
      ]
     },
     "execution_count": 112,
     "metadata": {},
     "output_type": "execute_result"
    },
    {
     "data": {
      "image/png": "[encoded data removed]",
      "text/plain": [
       "<Figure size 432x288 with 1 Axes>"
      ]
     },
     "metadata": {
      "needs_background": "light"
     },
     "output_type": "display_data"
    }
   ],
   "source": [
    "plt.plot(np.linspace(1e-4,4,100), probs)\n",
    "plt.plot(bins[0] + 0.5*(bins[:1] + bins[:-1]), counts)"
   ]
  },
  {
   "cell_type": "code",
   "execution_count": null,
   "id": "098830bb-dbb2-44c9-9d26-058fae6002de",
   "metadata": {},
   "outputs": [],
   "source": [
    "stops1 = list(stop[\"_1\"].values())\n",
    "stops1 = np.stack(stops1)\n",
    "stop_times1 = np.mean(stops1, axis=0)\n",
    "\n",
    "\n",
    "counts, bins, bars = plt.hist(stops1[:,-1], bins=75, density=True)\n",
    "\n",
    "np.save(freq_dir+\"counts\", counts)\n",
    "np.save(freq_dir+\"bins\", bins)\n",
    "\n"
   ]
  },
  {
   "cell_type": "code",
   "execution_count": null,
   "id": "b6df06e8-e641-4dd4-aadb-7c9cd06fb81b",
   "metadata": {},
   "outputs": [],
   "source": []
  },
  {
   "cell_type": "code",
   "execution_count": null,
   "id": "b46bf567-09dd-4925-a9e8-2f2da6e8b052",
   "metadata": {},
   "outputs": [],
   "source": []
  },
  {
   "cell_type": "code",
   "execution_count": 61,
   "id": "fe6c71b2-c168-421f-90c9-8dc87b84c804",
   "metadata": {},
   "outputs": [],
   "source": [
    "dd = bins[1]-bins[0]"
   ]
  },
  {
   "cell_type": "code",
   "execution_count": 62,
   "id": "fd0dc388-f656-44ca-8546-89437c3fac74",
   "metadata": {},
   "outputs": [],
   "source": [
    "times_middle = (bins[1:] + bins[:-1])/2"
   ]
  },
  {
   "cell_type": "code",
   "execution_count": 63,
   "id": "23ee6f86-2bae-4853-988c-4d281eaae0f7",
   "metadata": {},
   "outputs": [
    {
     "data": {
      "text/plain": [
       "0.7011207331331333"
      ]
     },
     "execution_count": 63,
     "metadata": {},
     "output_type": "execute_result"
    }
   ],
   "source": [
    "np.sum(counts*times_middle)*dd"
   ]
  },
  {
   "cell_type": "code",
   "execution_count": 64,
   "id": "cf546404-f50c-4d88-9fcf-1a1382416a1a",
   "metadata": {},
   "outputs": [],
   "source": []
  },
  {
   "cell_type": "code",
   "execution_count": 65,
   "id": "4fa5020f-9b5a-40cc-a9d2-4b8cf1f036be",
   "metadata": {},
   "outputs": [],
   "source": [
    "probs = [ggiulio_prob(t,  boundsB[-1],kappa0, kappa1, eta0 , eta1, n0, n1, gamma0, gamma1) for t in times_middle]"
   ]
  },
  {
   "cell_type": "code",
   "execution_count": 79,
   "id": "c1d598e2-7193-47f4-9014-386b89aa209a",
   "metadata": {},
   "outputs": [
    {
     "data": {
      "text/plain": [
       "[<matplotlib.lines.Line2D at 0x2b993e8aa438>]"
      ]
     },
     "execution_count": 79,
     "metadata": {},
     "output_type": "execute_result"
    },
    {
     "data": {
      "image/png": "[encoded data removed]",
      "text/plain": [
       "<Figure size 432x288 with 1 Axes>"
      ]
     },
     "metadata": {
      "needs_background": "light"
     },
     "output_type": "display_data"
    }
   ],
   "source": [
    "plt.plot(bins[:-1], counts*)\n",
    "plt.plot(times_middle,probs)"
   ]
  },
  {
   "cell_type": "code",
   "execution_count": null,
   "id": "2cd75312-31b7-4973-aeef-8aadbcfe3b36",
   "metadata": {},
   "outputs": [
    {
     "data": {
      "text/plain": [
       "48.468163686682416"
      ]
     },
     "execution_count": 174,
     "metadata": {},
     "output_type": "execute_result"
    }
   ],
   "source": []
  },
  {
   "cell_type": "code",
   "execution_count": 173,
   "id": "9681b57c-6269-4791-b0e8-ff1408bb630e",
   "metadata": {},
   "outputs": [
    {
     "data": {
      "text/plain": [
       "44.82284400327462"
      ]
     },
     "execution_count": 173,
     "metadata": {},
     "output_type": "execute_result"
    }
   ],
   "source": [
    "np.sum(probs)"
   ]
  },
  {
   "cell_type": "code",
   "execution_count": 96,
   "id": "79fee030-02ce-4651-8c8d-334f5e52eaa9",
   "metadata": {},
   "outputs": [
    {
     "name": "stderr",
     "output_type": "stream",
     "text": [
      "  1%|          | 8/998 [01:26<2:59:19, 10.87s/it]\n"
     ]
    },
    {
     "ename": "KeyboardInterrupt",
     "evalue": "",
     "output_type": "error",
     "traceback": [
      "\u001b[0;31m---------------------------------------------------------------------------\u001b[0m",
      "\u001b[0;31mKeyboardInterrupt\u001b[0m                         Traceback (most recent call last)",
      "\u001b[0;32m<ipython-input-96-8e1cc579c872>\u001b[0m in \u001b[0;36m<module>\u001b[0;34m\u001b[0m\n\u001b[1;32m     52\u001b[0m         \u001b[0;32mfor\u001b[0m \u001b[0mindb\u001b[0m\u001b[0;34m,\u001b[0m \u001b[0mb\u001b[0m \u001b[0;32min\u001b[0m \u001b[0menumerate\u001b[0m\u001b[0;34m(\u001b[0m\u001b[0mboundsB\u001b[0m\u001b[0;34m)\u001b[0m\u001b[0;34m:\u001b[0m\u001b[0;34m\u001b[0m\u001b[0;34m\u001b[0m\u001b[0m\n\u001b[1;32m     53\u001b[0m             \u001b[0mdeter_1\u001b[0m \u001b[0;34m=\u001b[0m \u001b[0mlog_lik_ratio\u001b[0m\u001b[0;34m[\u001b[0m\u001b[0mtime_index\u001b[0m\u001b[0;34m]\u001b[0m \u001b[0;34m<=\u001b[0m \u001b[0mb\u001b[0m\u001b[0;34m\u001b[0m\u001b[0;34m\u001b[0m\u001b[0m\n\u001b[0;32m---> 54\u001b[0;31m             \u001b[0mdeter_0\u001b[0m \u001b[0;34m=\u001b[0m \u001b[0mlog_lik_ratio_swap\u001b[0m\u001b[0;34m[\u001b[0m\u001b[0mtime_index\u001b[0m\u001b[0;34m]\u001b[0m \u001b[0;34m>=\u001b[0m \u001b[0mb\u001b[0m\u001b[0;34m\u001b[0m\u001b[0;34m\u001b[0m\u001b[0m\n\u001b[0m\u001b[1;32m     55\u001b[0m \u001b[0;34m\u001b[0m\u001b[0m\n\u001b[1;32m     56\u001b[0m             \u001b[0mdeter\u001b[0m\u001b[0;34m[\u001b[0m\u001b[0;34m\"h0/h1\"\u001b[0m\u001b[0;34m]\u001b[0m\u001b[0;34m[\u001b[0m\u001b[0mindb\u001b[0m\u001b[0;34m]\u001b[0m\u001b[0;34m[\u001b[0m\u001b[0mind\u001b[0m\u001b[0;34m]\u001b[0m \u001b[0;34m+=\u001b[0m  \u001b[0;34m(\u001b[0m\u001b[0mint\u001b[0m\u001b[0;34m(\u001b[0m\u001b[0mdeter_1\u001b[0m\u001b[0;34m)\u001b[0m \u001b[0;34m-\u001b[0m \u001b[0mdeter\u001b[0m\u001b[0;34m[\u001b[0m\u001b[0;34m\"h0/h1\"\u001b[0m\u001b[0;34m]\u001b[0m\u001b[0;34m[\u001b[0m\u001b[0mindb\u001b[0m\u001b[0;34m]\u001b[0m\u001b[0;34m[\u001b[0m\u001b[0mind\u001b[0m\u001b[0;34m]\u001b[0m \u001b[0;34m)\u001b[0m\u001b[0;34m/\u001b[0m\u001b[0mn\u001b[0m\u001b[0;34m\u001b[0m\u001b[0;34m\u001b[0m\u001b[0m\n",
      "\u001b[0;31mKeyboardInterrupt\u001b[0m: "
     ]
    }
   ],
   "source": [
    "\n",
    "\n",
    "\n",
    "for itraj in tqdm(range(2,Ntrajs)):\n",
    "\n",
    "    log_lik_ratio = log_lik_ratio\n",
    "    log_lik_ratio_swap = log_lik_ratio_swap\n",
    "\n",
    "    l_1 += log_lik_ratio\n",
    "    l_0+= log_lik_ratio_swap\n",
    "    n+=1\n",
    "    for time_index in range(len(times)):\n",
    "        for indb, b in enumerate(boundsB):\n",
    "            deter_1 = log_lik_ratio[time_index] <= b\n",
    "            deter_0 = log_lik_ratio_swap[time_index] >= b\n",
    "\n",
    "            deter[\"h0/h1\"][indb][ind] +=  (int(deter_1) - deter[\"h0/h1\"][indb][ind] )/n\n",
    "            deter[\"h1/h0\"][indb][ind] += (int(deter_0) - deter[\"h1/h0\"][indb][ind])/n\n",
    "\n",
    "    \n",
    "l_1/=Ntrajs\n",
    "l_0/=Ntrajs\n",
    "\n",
    "freq_dir = get_def_path(mode=\"hypothesis_testing\")+\"mode_{}_nolog_/N_trajs_{}/dt_{}_T_{}/bounds_{}/\".format(mode,Ntrajs, dtt, total_time, len(boundsB))\n",
    "os.makedirs(freq_dir, exist_ok=True)\n",
    "with open(freq_dir+\"stop.pickle\", 'wb') as handle:\n",
    "    pickle.dump(stop, handle, protocol=pickle.HIGHEST_PROTOCOL)\n",
    "        \n",
    "with open(freq_dir+\"deter.pickle\", 'wb') as handle:\n",
    "    pickle.dump(deter, handle, protocol=pickle.HIGHEST_PROTOCOL)"
   ]
  },
  {
   "cell_type": "code",
   "execution_count": 7,
   "id": "0d861e56-fb87-4ea2-b691-aec1b6aa2bd5",
   "metadata": {},
   "outputs": [],
   "source": [
    "boundsB = np.arange(0,4,.2)\n",
    "mode=\"damping\"\n",
    "dtt=1e-5\n",
    "total_time=6.\n",
    "Ntrajs=1000\n",
    "\n",
    "\n",
    "freq_dir = get_def_path(mode=\"hypothesis_testing\")+\"mode_{}/N_trajs_{}/dt_{}_T_{}/bounds_{}/\".format(mode,Ntrajs, dtt, total_time, len(boundsB))\n",
    "with open(freq_dir+\"stop.pickle\", 'rb') as handle:\n",
    "    stop = pickle.load( handle)\n",
    "        \n",
    "with open(freq_dir+\"deter.pickle\", 'rb') as handle:\n",
    "    deter =  pickle.load( handle)"
   ]
  },
  {
   "cell_type": "code",
   "execution_count": 10,
   "id": "050667c4-a307-49b4-8dcd-80bea3118587",
   "metadata": {},
   "outputs": [
    {
     "name": "stderr",
     "output_type": "stream",
     "text": [
      "100%|██████████| 998/998 [00:00<00:00, 13172.53it/s]\n",
      "100%|██████████| 998/998 [00:00<00:00, 12981.31it/s]\n"
     ]
    }
   ],
   "source": [
    "### compute stopping time\n",
    "\n",
    "stopps1 = [np.array(stop[\"_1\"][k])[~np.isnan(stop[\"_1\"][k])] for k in stop[\"_1\"].keys()]\n",
    "stopps0 = [np.array(stop[\"_0\"][k])[~np.isnan(stop[\"_0\"][k])] for k in stop[\"_0\"].keys()]\n",
    "\n",
    "ind_max_traj1 = np.argmax([len(k) for k in stopps1])\n",
    "if ind_max_traj1 == 0:\n",
    "    ind_max_traj1 = len(boundsB)\n",
    "ind_max_traj0 = np.argmax([len(k) for k in stopps0])\n",
    "if ind_max_traj0 == 0:\n",
    "    ind_max_traj0 = len(boundsB)\n",
    "\n",
    "stop_time1 = stopps1[ind_max_traj1]\n",
    "stop_time1_sq = stopps1[ind_max_traj1]**2\n",
    "ns1 = 2*np.ones(len(stopps1[ind_max_traj1]))\n",
    "\n",
    "stop_time0 = stopps0[ind_max_traj0]\n",
    "stop_time0_sq = stopps0[ind_max_traj1]**2\n",
    "ns0 = 2*np.ones(len(stopps0[ind_max_traj0]))\n",
    "\n",
    "itrajs1 = list(range(1,Ntrajs))\n",
    "itrajs0 = list(range(1,Ntrajs))\n",
    "itrajs1.remove(ind_max_traj1+1)\n",
    "itrajs0.remove(ind_max_traj0+1)\n",
    "\n",
    "for i in tqdm(itrajs1):\n",
    "    for ind,b in enumerate(boundsB):\n",
    "        try:\n",
    "            stop_time1[ind] += (stopps1[i][ind] - stop_time1[ind])/ns1[ind]\n",
    "            stop_time1_sq[ind] += (stopps1[i][ind]**2 - stop_time1_sq[ind])/ns1[ind]\n",
    "\n",
    "            ns1[ind] +=1\n",
    "        except Exception:\n",
    "            pass\n",
    "        \n",
    "for i in tqdm(itrajs0):\n",
    "    for ind,b in enumerate(boundsB[:len(stopps0[ind_max_traj0])]):\n",
    "        try:\n",
    "            \n",
    "            stop_time0[ind] += (stopps0[i][ind] - stop_time0[ind])/ns0[ind]\n",
    "            stop_time0_sq[ind] += (stopps0[i][ind]**2 - stop_time0_sq[ind])/ns0[ind]\n",
    "\n",
    "            ns0[ind] +=1\n",
    "        except Exception:\n",
    "            pass"
   ]
  },
  {
   "cell_type": "code",
   "execution_count": 16,
   "id": "178adb02-35b1-447c-b9b5-2c2e601a3d08",
   "metadata": {},
   "outputs": [
    {
     "data": {
      "text/plain": [
       "89"
      ]
     },
     "execution_count": 16,
     "metadata": {},
     "output_type": "execute_result"
    }
   ],
   "source": [
    "fulls = list(range(1,Ntrajs))\n",
    "fulls.pop(88)"
   ]
  },
  {
   "cell_type": "code",
   "execution_count": 58,
   "id": "b172d051-87cf-41ae-9e14-a184f3f967ce",
   "metadata": {},
   "outputs": [
    {
     "data": {
      "text/plain": [
       "0.43520982351988585"
      ]
     },
     "execution_count": 59,
     "metadata": {},
     "output_type": "execute_result"
    }
   ],
   "source": [
    "stop_time1[-1]"
   ]
  },
  {
   "cell_type": "code",
   "execution_count": 63,
   "id": "a344702c-b538-4391-9273-35f5e1281bd7",
   "metadata": {},
   "outputs": [
    {
     "data": {
      "text/plain": [
       "(0.43638071021803143, 0.3597599693525121)"
      ]
     },
     "execution_count": 63,
     "metadata": {},
     "output_type": "execute_result"
    }
   ],
   "source": [
    "np.mean(stimes)**2"
   ]
  },
  {
   "cell_type": "code",
   "execution_count": null,
   "id": "1f91a5fa-4e2b-4348-9d35-1e8da9e19457",
   "metadata": {},
   "outputs": [],
   "source": [
    "gp1(t, boundsB[-1], "
   ]
  },
  {
   "cell_type": "code",
   "execution_count": 53,
   "id": "ce1e0eba-a885-422c-8274-255041a20894",
   "metadata": {},
   "outputs": [
    {
     "name": "stdout",
     "output_type": "stream",
     "text": [
      "0.16348703437707846 0.188627643435136\n"
     ]
    }
   ],
   "source": [
    "b=boundsB[-1]\n",
    "sigg = b*(1+b)/(mu1**2)\n",
    "\n",
    "numerics = (stop_time1_sq - stop_time1[-1]**2)[-1]\n",
    "print(sigg, numerics)"
   ]
  },
  {
   "cell_type": "code",
   "execution_count": 40,
   "id": "f1c320a1-8671-465e-838f-21da06f963ae",
   "metadata": {},
   "outputs": [],
   "source": [
    "stimes = [stop[\"_1\"][k][len(boundsB)-1] for k in fulls]"
   ]
  },
  {
   "cell_type": "code",
   "execution_count": 49,
   "id": "35895294-c07c-4379-a92c-e53a60382886",
   "metadata": {},
   "outputs": [
    {
     "data": {
      "text/plain": [
       "0.1901022335102253"
      ]
     },
     "execution_count": 49,
     "metadata": {},
     "output_type": "execute_result"
    }
   ],
   "source": [
    "np.std(stimes)**2"
   ]
  },
  {
   "cell_type": "code",
   "execution_count": 51,
   "id": "b2504837-8e59-4845-961e-89bbe7bdd9ad",
   "metadata": {},
   "outputs": [
    {
     "data": {
      "text/plain": [
       "0.188627643435136"
      ]
     },
     "execution_count": 51,
     "metadata": {},
     "output_type": "execute_result"
    }
   ],
   "source": []
  },
  {
   "cell_type": "code",
   "execution_count": 36,
   "id": "8863c871-bbf4-4c9b-86ef-e426215f5a15",
   "metadata": {},
   "outputs": [
    {
     "data": {
      "text/plain": [
       "0.3333786958622863"
      ]
     },
     "execution_count": 36,
     "metadata": {},
     "output_type": "execute_result"
    }
   ],
   "source": []
  },
  {
   "cell_type": "code",
   "execution_count": 59,
   "id": "2d15762c-b3cb-45be-9ca4-fbe60e7345be",
   "metadata": {},
   "outputs": [],
   "source": [
    "last = [stopps1[k][-1] for k in range(len(itrajs1))]"
   ]
  },
  {
   "cell_type": "code",
   "execution_count": 60,
   "id": "e764fc99-d2c6-4c6d-a90f-bf749873b1f9",
   "metadata": {},
   "outputs": [
    {
     "data": {
      "text/plain": [
       "0.6596718242402558"
      ]
     },
     "execution_count": 60,
     "metadata": {},
     "output_type": "execute_result"
    }
   ],
   "source": [
    "np.mean(last)"
   ]
  },
  {
   "cell_type": "code",
   "execution_count": null,
   "id": "ea580554-8125-41fe-9b7e-00a995c3eef1",
   "metadata": {},
   "outputs": [],
   "source": []
  },
  {
   "cell_type": "code",
   "execution_count": 44,
   "id": "03868923-a0cb-47f4-8f17-33f937fe3b96",
   "metadata": {},
   "outputs": [
    {
     "data": {
      "text/plain": [
       "[<matplotlib.lines.Line2D at 0x2aebbd0757f0>]"
      ]
     },
     "execution_count": 44,
     "metadata": {},
     "output_type": "execute_result"
    },
    {
     "data": {
      "image/png": "[encoded data removed]",
      "text/plain": [
       "<Figure size 432x288 with 1 Axes>"
      ]
     },
     "metadata": {
      "needs_background": "light"
     },
     "output_type": "display_data"
    }
   ],
   "source": [
    "plt.plot(stop_time0)"
   ]
  },
  {
   "cell_type": "code",
   "execution_count": 10,
   "id": "183e57d8-35da-4dde-b4c4-c6621d8e98bf",
   "metadata": {},
   "outputs": [],
   "source": [
    "stop0 = np.stack(stop[\"_0\"].values())\n",
    "stop1 = np.stack(stop[\"_1\"].values())\n",
    "mmeans = np.mean(stop1,axis=0)\n",
    "sstd = np.std(stop1,axis=0)"
   ]
  },
  {
   "cell_type": "code",
   "execution_count": 11,
   "id": "354448db-9d38-4d7f-9d93-efff7e94130a",
   "metadata": {},
   "outputs": [],
   "source": [
    "stopping_0, std_stopping_0 = np.mean(stop0,axis=0), np.std(stop0,axis=0)\n",
    "stopping_1, std_stopping_1 = np.mean(stop1,axis=0), np.std(stop1,axis=0)"
   ]
  },
  {
   "cell_type": "code",
   "execution_count": 14,
   "id": "92efc49d-76cc-425a-a371-3d17ce91a4fa",
   "metadata": {},
   "outputs": [],
   "source": [
    "import os \n",
    "freq_dir = get_def_path(mode=\"hypothesis_testing\")+\"{}/{}/dt{}/bounds{}\".format(mode,len(stop[\"_1\"]), dt, len(boundsB))\n",
    "os.makedirs(freq_dir, exist_ok=True)\n",
    "\n",
    "np.save(freq_dir+\"times_here\", timind)\n",
    "\n",
    "np.save(freq_dir+\"mean_likelihood_0\", l_0)\n",
    "np.save(freq_dir+\"mean_likelihood_1\", l_1)\n",
    "np.save(freq_dir+\"boundsB\", boundsB)\n",
    "np.save(freq_dir+\"stop_time0\",stopping_0)\n",
    "np.save(freq_dir+\"stop_time1\",stopping_1)\n",
    "np.save(freq_dir+\"alpha_deter\",np.array(deter[\"h0/h1\"]))\n",
    "np.save(freq_dir+\"beta_deter\",np.array(deter[\"h1/h0\"]))"
   ]
  },
  {
   "cell_type": "code",
   "execution_count": 15,
   "id": "8614bbfe-87bf-4692-9aef-67220a64aca9",
   "metadata": {},
   "outputs": [],
   "source": [
    "alpha = np.array(list(deter[\"h0/h1\"].values()))\n",
    "beta = np.array(list(deter[\"h1/h0\"].values()))"
   ]
  },
  {
   "cell_type": "code",
   "execution_count": 64,
   "id": "5e4d1fad-9a71-46ce-aadc-ade23efee0f6",
   "metadata": {},
   "outputs": [
    {
     "name": "stderr",
     "output_type": "stream",
     "text": [
      "/nfs/pic.es/user/m/mbilkis/qenv_bilkis/lib64/python3.6/site-packages/ipykernel_launcher.py:1: RuntimeWarning: invalid value encountered in double_scalars\n",
      "  \"\"\"Entry point for launching an IPython kernel.\n"
     ]
    }
   ],
   "source": [
    "avg_err_alpha = lambda o: (1-np.exp(-o))/(np.exp(o) - np.exp(-o))\n",
    "\n",
    "def ggiulio_prob(t, b, kappa0, kappa1, eta0 , eta1, n0, n1, gamma0, gamma1):\n",
    "    Su1 = n1 + 0.5 + (kappa1 / gamma1)\n",
    "    Su0 = n0 + 0.5 + (kappa0 / gamma0)\n",
    "\n",
    "    S1 = (np.sqrt(1 + (16.0*eta1*kappa1*Su1/gamma1)) - 1)*(gamma1/(8.0*eta1*kappa1))\n",
    "    S0 = (np.sqrt(1 + (16.0*eta0*kappa0*Su0/gamma0)) - 1)*( gamma0/(8.0*eta0*kappa0))\n",
    "\n",
    "    lam = gamma0 + (8*eta0*kappa0*S0)\n",
    "\n",
    "    aa = (4*eta1*kappa1*(S1**2))/gamma1\n",
    "    bb =(4*eta0*kappa0*S0**2)*(1+((16.0*eta1*kappa1*S1)/ (gamma1 + lam)) + (64.0*(eta1 * kappa1 * S1)**(2)/(gamma1 * (gamma1 + lam))))/ lam\n",
    "    c =8 *(S0*S1*(eta0*kappa0 *eta1*kappa1)**(0.5)) * (gamma1+ (4.0*eta1*kappa1*S1) ) / ((gamma1 + lam)*gamma1)\n",
    "\n",
    "    mu = 4*(eta1*kappa1*aa + (eta0*kappa0*bb) - 2*np.sqrt(eta1*kappa1*eta0*kappa0)*c)\n",
    "    S= np.sqrt(2*mu)\n",
    "\n",
    "    div = (np.sqrt(2*np.pi)*S*(t**(3/2)))\n",
    "    return  abs(b)*np.exp(-((abs(b)-mu*t)**2)/(2*t*(S**2)))/div\n",
    "\n",
    "def drift(kappa0, kappa1, eta0 , eta1, n0, n1, gamma0, gamma1):\n",
    "    Su1 = n1 + 0.5 + (kappa1 / gamma1)\n",
    "    Su0 = n0 + 0.5 + (kappa0 / gamma0)\n",
    "\n",
    "    S1 = (np.sqrt(1 + (16.0*eta1*kappa1*Su1/gamma1)) - 1)*(gamma1/(8.0*eta1*kappa1))\n",
    "    S0 = (np.sqrt(1 + (16.0*eta0*kappa0*Su0/gamma0)) - 1)*( gamma0/(8.0*eta0*kappa0))\n",
    "\n",
    "    lam = gamma0 + (8*eta0*kappa0*S0)\n",
    "\n",
    "    aa = (4*eta1*kappa1*(S1**2))/gamma1\n",
    "    bb =(4*eta0*kappa0*S0**2)*(1+((16.0*eta1*kappa1*S1)/ (gamma1 + lam)) + (64.0*(eta1 * kappa1 * S1)**(2)/(gamma1 * (gamma1 + lam))))/ lam\n",
    "    c =8 *(S0*S1*(eta0*kappa0 *eta1*kappa1)**(0.5)) * (gamma1+ (4.0*eta1*kappa1*S1) ) / ((gamma1 + lam)*gamma1)\n",
    "\n",
    "    mu = 4*(eta1*kappa1*aa + (eta0*kappa0*bb) - 2*np.sqrt(eta1*kappa1*eta0*kappa0)*c)\n",
    "    return mu \n",
    "\n",
    "\n",
    "pars = give_def_params_discrimination(flip=1, mode = \"damping\")\n",
    "params, exp_path = check_params(pars)\n",
    "[gamma1, omega1, n1, eta1, kappa1], [gamma0, omega0, n0, eta0, kappa0] = params\n",
    "\n",
    "mu0 = drift(kappa0, kappa1, eta0 , eta1, n0, n1, gamma0, gamma1)\n",
    "\n",
    "pars = give_def_params_discrimination(flip=0, mode = \"damping\")\n",
    "params, exp_path = check_params(pars)\n",
    "[gamma1, omega1, n1, eta1, kappa1], [gamma0, omega0, n0, eta0, kappa0] = params\n",
    "\n",
    "mu1 = drift(kappa0, kappa1, eta0 , eta1, n0, n1, gamma0, gamma1)\n",
    "errs = [avg_err_alpha(b) for b in boundsB]"
   ]
  },
  {
   "cell_type": "code",
   "execution_count": 72,
   "id": "daee8775-a5f7-464c-adfa-31355c10ed3f",
   "metadata": {},
   "outputs": [],
   "source": [
    "timms = np.linspace(1e-8,total_time, 1000)\n",
    "probs = [ggiulio_prob(t, b, kappa0, kappa1, eta0 , eta1, n0, n1, gamma0, gamma1) for t in timms]"
   ]
  },
  {
   "cell_type": "code",
   "execution_count": 73,
   "id": "4c6e45c2-32af-42ad-8455-0aaa76af2ddb",
   "metadata": {},
   "outputs": [
    {
     "data": {
      "text/plain": [
       "[<matplotlib.lines.Line2D at 0x2b4a17757978>]"
      ]
     },
     "execution_count": 73,
     "metadata": {},
     "output_type": "execute_result"
    },
    {
     "data": {
      "image/png": "[encoded data removed]",
      "text/plain": [
       "<Figure size 432x288 with 1 Axes>"
      ]
     },
     "metadata": {
      "needs_background": "light"
     },
     "output_type": "display_data"
    }
   ],
   "source": [
    "plt.plot(timms, probs)"
   ]
  },
  {
   "cell_type": "code",
   "execution_count": 75,
   "id": "67ae0b30-d115-4a82-bb9e-f7fdf4210f99",
   "metadata": {},
   "outputs": [],
   "source": [
    "dt = timms[1]-timms[0]"
   ]
  },
  {
   "cell_type": "code",
   "execution_count": 76,
   "id": "233c5bda-3c4d-4505-9a12-71cdd59026c1",
   "metadata": {},
   "outputs": [
    {
     "data": {
      "text/plain": [
       "0.9999999935567757"
      ]
     },
     "execution_count": 76,
     "metadata": {},
     "output_type": "execute_result"
    }
   ],
   "source": [
    "np.sum(probs)*dt"
   ]
  },
  {
   "cell_type": "code",
   "execution_count": 79,
   "id": "dc084ce6-d2f7-4451-b10b-7181b8f16610",
   "metadata": {},
   "outputs": [
    {
     "data": {
      "text/plain": [
       "0.3597599284195039"
      ]
     },
     "execution_count": 79,
     "metadata": {},
     "output_type": "execute_result"
    }
   ],
   "source": [
    "np.sum(probs*timms)*dt"
   ]
  },
  {
   "cell_type": "code",
   "execution_count": 82,
   "id": "a5799d9e-9902-4d02-9ac5-6ecd69d4287a",
   "metadata": {},
   "outputs": [
    {
     "data": {
      "text/plain": [
       "0.6597043455366092"
      ]
     },
     "execution_count": 82,
     "metadata": {},
     "output_type": "execute_result"
    }
   ],
   "source": [
    "stop_time1[-1]"
   ]
  },
  {
   "cell_type": "code",
   "execution_count": null,
   "id": "e0edecd3-880c-47da-bc9a-3ef16b139388",
   "metadata": {},
   "outputs": [],
   "source": []
  },
  {
   "cell_type": "code",
   "execution_count": null,
   "id": "786c1152-05b4-4cb2-b419-c75162e43aeb",
   "metadata": {},
   "outputs": [],
   "source": []
  },
  {
   "cell_type": "code",
   "execution_count": null,
   "id": "90225702-d7b1-4c91-b715-31d63a516a58",
   "metadata": {},
   "outputs": [],
   "source": []
  },
  {
   "cell_type": "code",
   "execution_count": null,
   "id": "f7ab15ab-358a-417e-96a7-8453e450eb98",
   "metadata": {},
   "outputs": [],
   "source": []
  },
  {
   "cell_type": "code",
   "execution_count": null,
   "id": "948cc9d6-5f27-48d0-83ab-15194250b98c",
   "metadata": {},
   "outputs": [],
   "source": []
  },
  {
   "cell_type": "code",
   "execution_count": null,
   "id": "45e34468-d22e-4940-8b8e-90f21863d986",
   "metadata": {},
   "outputs": [],
   "source": []
  },
  {
   "cell_type": "markdown",
   "id": "7b52460b-2ae1-4d4b-a112-2f15c23415a8",
   "metadata": {},
   "source": [
    "Loading old data\n"
   ]
  },
  {
   "cell_type": "code",
   "execution_count": 114,
   "id": "282f88f8-7c75-4c6b-8cb6-91a2eb3cf63a",
   "metadata": {},
   "outputs": [],
   "source": [
    "dirr = \"/data/uab-giq/scratch/matias/quantera/trajectories/hypothesis_testing/damping_disc_unamed/set2_dt1e-5/\""
   ]
  },
  {
   "cell_type": "code",
   "execution_count": 191,
   "id": "d6b236b9-2fc3-43dc-8a0d-e6325535fe21",
   "metadata": {},
   "outputs": [],
   "source": [
    "alphaset2 = np.load(dirr+\"alpha_deter.npy\", allow_pickle=True)\n",
    "betaset2 = np.load(dirr+\"beta_deter.npy\", allow_pickle=True)\n",
    "\n",
    "boundsB2 = np.load(dirr+\"boundsB.npy\")\n",
    "times2 = np.arange(0,4+1e-5,1e-5)\n",
    "\n",
    "indis2 = np.logspace(2,np.log10(len(times2)-1), 50)\n",
    "indis2 = [int(k) for k in indis2]\n",
    "timindis2 = [times2[i] for i in indis2]"
   ]
  },
  {
   "cell_type": "code",
   "execution_count": 193,
   "id": "774cf9ef-b8f5-4cd7-bf75-4566f9b0bda9",
   "metadata": {},
   "outputs": [],
   "source": [
    "alphaset2 = np.stack(list(alphaset2.item().values()))\n",
    "betaset2 = np.stack(list(betaset2.item().values()))"
   ]
  },
  {
   "cell_type": "code",
   "execution_count": 187,
   "id": "224e9659-c7bb-4fda-a967-13b3c88f169c",
   "metadata": {},
   "outputs": [
    {
     "name": "stderr",
     "output_type": "stream",
     "text": [
      "/nfs/pic.es/user/m/mbilkis/qenv_bilkis/lib64/python3.6/site-packages/ipykernel_launcher.py:3: RuntimeWarning: divide by zero encountered in double_scalars\n",
      "  This is separate from the ipykernel package so we can avoid doing imports until\n"
     ]
    }
   ],
   "source": [
    "ind = -1\n",
    "b = boundsB2[ind]\n",
    "alph = np.array([.5*(1 - erf((-b + mu0*t)/(2*np.sqrt(mu1*t)))) for t in times2])"
   ]
  },
  {
   "cell_type": "code",
   "execution_count": 194,
   "id": "71aa0843-aeb4-4578-988d-5653f55663a8",
   "metadata": {},
   "outputs": [
    {
     "data": {
      "text/plain": [
       "[<matplotlib.lines.Line2D at 0x2ac0d2014b00>]"
      ]
     },
     "execution_count": 194,
     "metadata": {},
     "output_type": "execute_result"
    },
    {
     "data": {
      "image/png": "[encoded data removed]",
      "text/plain": [
       "<Figure size 432x288 with 1 Axes>"
      ]
     },
     "metadata": {
      "needs_background": "light"
     },
     "output_type": "display_data"
    }
   ],
   "source": [
    "plt.plot(times2,alph)\n",
    "plt.plot(timindis2, alphaset2[-1,:])"
   ]
  },
  {
   "cell_type": "code",
   "execution_count": 180,
   "id": "1b428a4c-9d94-48d3-a76a-38ec38677f77",
   "metadata": {},
   "outputs": [
    {
     "data": {
      "text/plain": [
       "array([[0.37246964, 0.36842105, 0.37651822, 0.3805668 , 0.38461538,\n",
       "        0.39271255, 0.39271255, 0.39676113, 0.44534413, 0.43724696,\n",
       "        0.41295547, 0.4048583 , 0.44129555, 0.46558704, 0.44939271,\n",
       "        0.40080972, 0.42105263, 0.40080972, 0.39271255, 0.39271255,\n",
       "        0.37651822, 0.38461538, 0.3805668 , 0.36437247, 0.3562753 ,\n",
       "        0.32793522, 0.33198381, 0.37246964, 0.32388664, 0.31578947,\n",
       "        0.29149798, 0.27935223, 0.26720648, 0.26315789, 0.23076923,\n",
       "        0.23076923, 0.18218623, 0.1417004 , 0.10526316, 0.09311741,\n",
       "        0.10121457, 0.10526316, 0.09311741, 0.06882591, 0.07287449,\n",
       "        0.03238866, 0.02024291, 0.01619433, 0.0242915 , 0.01619433],\n",
       "       [1.        , 1.        , 1.        , 1.        , 1.        ,\n",
       "        0.99595142, 0.99595142, 0.96761134, 0.94736842, 0.93117409,\n",
       "        0.91497976, 0.90688259, 0.86639676, 0.81376518, 0.7854251 ,\n",
       "        0.8097166 , 0.74493927, 0.67206478, 0.65182186, 0.62753036,\n",
       "        0.62348178, 0.55870445, 0.55060729, 0.53441296, 0.50607287,\n",
       "        0.46963563, 0.45748988, 0.46558704, 0.42105263, 0.42510121,\n",
       "        0.3805668 , 0.34412955, 0.33198381, 0.31983806, 0.27935223,\n",
       "        0.28744939, 0.2388664 , 0.1902834 , 0.13765182, 0.1417004 ,\n",
       "        0.12145749, 0.12550607, 0.10931174, 0.08906883, 0.07692308,\n",
       "        0.03643725, 0.0242915 , 0.01619433, 0.0242915 , 0.01619433],\n",
       "       [1.        , 1.        , 1.        , 1.        , 1.        ,\n",
       "        1.        , 1.        , 1.        , 1.        , 1.        ,\n",
       "        0.99595142, 0.99595142, 0.99190283, 0.98380567, 0.97975709,\n",
       "        0.95951417, 0.92712551, 0.90283401, 0.84615385, 0.82186235,\n",
       "        0.8097166 , 0.7854251 , 0.73684211, 0.68016194, 0.6437247 ,\n",
       "        0.63967611, 0.59919028, 0.58704453, 0.5465587 , 0.51417004,\n",
       "        0.49797571, 0.4291498 , 0.43319838, 0.38866397, 0.33198381,\n",
       "        0.31578947, 0.29959514, 0.2388664 , 0.18623482, 0.17004049,\n",
       "        0.14574899, 0.13765182, 0.13765182, 0.09716599, 0.08906883,\n",
       "        0.04048583, 0.02834008, 0.02024291, 0.02834008, 0.01619433],\n",
       "       [1.        , 1.        , 1.        , 1.        , 1.        ,\n",
       "        1.        , 1.        , 1.        , 1.        , 1.        ,\n",
       "        1.        , 1.        , 1.        , 1.        , 0.99595142,\n",
       "        0.99595142, 0.99190283, 0.97975709, 0.96356275, 0.94331984,\n",
       "        0.92307692, 0.91093117, 0.88259109, 0.83805668, 0.82995951,\n",
       "        0.78137652, 0.74089069, 0.70445344, 0.67611336, 0.61538462,\n",
       "        0.59919028, 0.51821862, 0.50607287, 0.46153846, 0.40080972,\n",
       "        0.36842105, 0.33198381, 0.28340081, 0.24696356, 0.19433198,\n",
       "        0.18218623, 0.14979757, 0.15384615, 0.10931174, 0.09716599,\n",
       "        0.05668016, 0.04048583, 0.02024291, 0.02834008, 0.02024291],\n",
       "       [1.        , 1.        , 1.        , 1.        , 1.        ,\n",
       "        1.        , 1.        , 1.        , 1.        , 1.        ,\n",
       "        1.        , 1.        , 1.        , 1.        , 1.        ,\n",
       "        1.        , 1.        , 1.        , 0.99595142, 0.98380567,\n",
       "        0.9757085 , 0.9757085 , 0.97165992, 0.93927126, 0.92712551,\n",
       "        0.88663968, 0.85020243, 0.80566802, 0.7854251 , 0.72874494,\n",
       "        0.70445344, 0.63562753, 0.5951417 , 0.55465587, 0.48987854,\n",
       "        0.41295547, 0.3805668 , 0.33603239, 0.29149798, 0.22672065,\n",
       "        0.21862348, 0.17408907, 0.17004049, 0.12145749, 0.10526316,\n",
       "        0.07287449, 0.05263158, 0.0242915 , 0.02834008, 0.02834008],\n",
       "       [1.        , 1.        , 1.        , 1.        , 1.        ,\n",
       "        1.        , 1.        , 1.        , 1.        , 1.        ,\n",
       "        1.        , 1.        , 1.        , 1.        , 1.        ,\n",
       "        1.        , 1.        , 1.        , 1.        , 0.99595142,\n",
       "        0.98785425, 0.98380567, 0.98785425, 0.97975709, 0.97165992,\n",
       "        0.96356275, 0.951417  , 0.91497976, 0.87449393, 0.8340081 ,\n",
       "        0.7854251 , 0.73279352, 0.70040486, 0.6437247 , 0.55060729,\n",
       "        0.48582996, 0.44939271, 0.38461538, 0.36032389, 0.27935223,\n",
       "        0.25506073, 0.20242915, 0.18623482, 0.13360324, 0.10931174,\n",
       "        0.08502024, 0.05668016, 0.03238866, 0.02834008, 0.02834008],\n",
       "       [1.        , 1.        , 1.        , 1.        , 1.        ,\n",
       "        1.        , 1.        , 1.        , 1.        , 1.        ,\n",
       "        1.        , 1.        , 1.        , 1.        , 1.        ,\n",
       "        1.        , 1.        , 1.        , 1.        , 1.        ,\n",
       "        1.        , 0.99595142, 0.99190283, 0.99190283, 0.98785425,\n",
       "        0.97975709, 0.97165992, 0.95951417, 0.93522267, 0.87854251,\n",
       "        0.8340081 , 0.81781377, 0.77732794, 0.73684211, 0.61133603,\n",
       "        0.57489879, 0.51012146, 0.43319838, 0.41700405, 0.30364372,\n",
       "        0.29149798, 0.23076923, 0.20242915, 0.14979757, 0.12550607,\n",
       "        0.09311741, 0.06477733, 0.03643725, 0.03238866, 0.02834008],\n",
       "       [1.        , 1.        , 1.        , 1.        , 1.        ,\n",
       "        1.        , 1.        , 1.        , 1.        , 1.        ,\n",
       "        1.        , 1.        , 1.        , 1.        , 1.        ,\n",
       "        1.        , 1.        , 1.        , 1.        , 1.        ,\n",
       "        1.        , 0.99595142, 0.99595142, 0.99595142, 0.99190283,\n",
       "        0.98785425, 0.98380567, 0.97165992, 0.96356275, 0.92712551,\n",
       "        0.90688259, 0.84615385, 0.82591093, 0.7854251 , 0.69230769,\n",
       "        0.6194332 , 0.57489879, 0.49797571, 0.4534413 , 0.3562753 ,\n",
       "        0.33198381, 0.26315789, 0.23481781, 0.17004049, 0.13765182,\n",
       "        0.11336032, 0.07287449, 0.048583  , 0.03643725, 0.02834008],\n",
       "       [1.        , 1.        , 1.        , 1.        , 1.        ,\n",
       "        1.        , 1.        , 1.        , 1.        , 1.        ,\n",
       "        1.        , 1.        , 1.        , 1.        , 1.        ,\n",
       "        1.        , 1.        , 1.        , 1.        , 1.        ,\n",
       "        1.        , 0.99595142, 0.99595142, 0.99595142, 0.99595142,\n",
       "        0.99595142, 0.99595142, 0.98380567, 0.97975709, 0.9757085 ,\n",
       "        0.93522267, 0.90283401, 0.87044534, 0.84210526, 0.77327935,\n",
       "        0.68421053, 0.63562753, 0.57489879, 0.50202429, 0.41700405,\n",
       "        0.3805668 , 0.30364372, 0.24696356, 0.19838057, 0.15789474,\n",
       "        0.13360324, 0.07692308, 0.05668016, 0.04048583, 0.02834008],\n",
       "       [1.        , 1.        , 1.        , 1.        , 1.        ,\n",
       "        1.        , 1.        , 1.        , 1.        , 1.        ,\n",
       "        1.        , 1.        , 1.        , 1.        , 1.        ,\n",
       "        1.        , 1.        , 1.        , 1.        , 1.        ,\n",
       "        1.        , 1.        , 0.99595142, 0.99595142, 0.99595142,\n",
       "        0.99595142, 0.99595142, 0.99595142, 0.99190283, 0.98785425,\n",
       "        0.96356275, 0.93117409, 0.89473684, 0.86234818, 0.81376518,\n",
       "        0.73684211, 0.70445344, 0.63157895, 0.55870445, 0.47773279,\n",
       "        0.41700405, 0.32388664, 0.27125506, 0.21052632, 0.18218623,\n",
       "        0.14574899, 0.08906883, 0.06477733, 0.04453441, 0.03238866],\n",
       "       [1.        , 1.        , 1.        , 1.        , 1.        ,\n",
       "        1.        , 1.        , 1.        , 1.        , 1.        ,\n",
       "        1.        , 1.        , 1.        , 1.        , 1.        ,\n",
       "        1.        , 1.        , 1.        , 1.        , 1.        ,\n",
       "        1.        , 1.        , 0.99595142, 0.99595142, 0.99595142,\n",
       "        0.99595142, 1.        , 0.99595142, 0.99595142, 0.99190283,\n",
       "        0.97975709, 0.94736842, 0.93117409, 0.91093117, 0.84210526,\n",
       "        0.77732794, 0.72874494, 0.68825911, 0.61133603, 0.52226721,\n",
       "        0.44534413, 0.35222672, 0.31174089, 0.23481781, 0.20647773,\n",
       "        0.15789474, 0.10931174, 0.07692308, 0.048583  , 0.03643725],\n",
       "       [1.        , 1.        , 1.        , 1.        , 1.        ,\n",
       "        1.        , 1.        , 1.        , 1.        , 1.        ,\n",
       "        1.        , 1.        , 1.        , 1.        , 1.        ,\n",
       "        1.        , 1.        , 1.        , 1.        , 1.        ,\n",
       "        1.        , 1.        , 0.99595142, 0.99595142, 0.99595142,\n",
       "        0.99595142, 1.        , 1.        , 0.99595142, 0.99595142,\n",
       "        0.98785425, 0.96761134, 0.951417  , 0.93117409, 0.90283401,\n",
       "        0.84615385, 0.7611336 , 0.72064777, 0.66801619, 0.56680162,\n",
       "        0.48987854, 0.39676113, 0.33198381, 0.27125506, 0.22672065,\n",
       "        0.18218623, 0.11740891, 0.08502024, 0.06072874, 0.03643725]])"
      ]
     },
     "execution_count": 180,
     "metadata": {},
     "output_type": "execute_result"
    }
   ],
   "source": []
  },
  {
   "cell_type": "code",
   "execution_count": 159,
   "id": "23009645-1913-4f05-b8f3-fdbb104b89ad",
   "metadata": {},
   "outputs": [
    {
     "data": {
      "text/plain": [
       "[<matplotlib.lines.Line2D at 0x2ac0d0f94550>]"
      ]
     },
     "execution_count": 159,
     "metadata": {},
     "output_type": "execute_result"
    },
    {
     "data": {
      "image/png": "[encoded data removed]",
      "text/plain": [
       "<Figure size 432x288 with 1 Axes>"
      ]
     },
     "metadata": {
      "needs_background": "light"
     },
     "output_type": "display_data"
    }
   ],
   "source": [
    "plt.plot(ltt, aaal1[-1,:])"
   ]
  },
  {
   "cell_type": "code",
   "execution_count": null,
   "id": "b0451e9a-0e1d-4578-bb26-f28e25ee6c6e",
   "metadata": {},
   "outputs": [],
   "source": []
  },
  {
   "cell_type": "code",
   "execution_count": null,
   "id": "b107638e-67e6-431e-a798-a4a039c4dc3f",
   "metadata": {},
   "outputs": [],
   "source": []
  },
  {
   "cell_type": "code",
   "execution_count": null,
   "id": "faf84f57-64ec-491f-8c99-08edb1d1a638",
   "metadata": {},
   "outputs": [],
   "source": []
  },
  {
   "cell_type": "code",
   "execution_count": 129,
   "id": "eff03dee-8cf2-4395-9c3a-646569022e3e",
   "metadata": {},
   "outputs": [
    {
     "data": {
      "text/plain": [
       "Text(0, 0.5, 'time')"
      ]
     },
     "execution_count": 129,
     "metadata": {},
     "output_type": "execute_result"
    },
    {
     "name": "stdout",
     "output_type": "stream",
     "text": [
      "Error in callback <function flush_figures at 0x2ac0be59ea60> (for post_execute):\n"
     ]
    },
    {
     "name": "stderr",
     "output_type": "stream",
     "text": [
      "Exception ignored in: <generator object _setattr_cm at 0x2ac0d0cd6d58>\n",
      "Traceback (most recent call last):\n",
      "  File \"/nfs/pic.es/user/m/mbilkis/qenv_bilkis/lib64/python3.6/site-packages/matplotlib/cbook/__init__.py\", line 2080, in _setattr_cm\n",
      "KeyboardInterrupt: \n",
      "\n",
      "KeyboardInterrupt\n",
      "\n"
     ]
    }
   ],
   "source": [
    "\n",
    "ax = plt.subplot(133)\n",
    "k=8\n",
    "ax.plot(errs, stopping_1)\n",
    "ax.fill_between(errs, stopping_1 - std_stopping_1, stopping_1 + std_stopping_1, alpha=0.5)\n",
    "for indb, b in enumerate(boundsplot):\n",
    "    ax.plot(beta[indb,:][:-k], timind[:-k], label=r'$P_1 = \\beta^{b}$'+\"b = {}\".format(np.round(b,2)))\n",
    "#ax.set_xscale(\"log\")\n",
    "ax.legend()\n",
    "ax.set_xlabel(\"error\")\n",
    "ax.set_ylabel(\"time\")"
   ]
  },
  {
   "cell_type": "code",
   "execution_count": 201,
   "id": "85abae30-c9f7-42b3-b270-4c11753ce50c",
   "metadata": {},
   "outputs": [
    {
     "data": {
      "text/plain": [
       "array([1.        , 1.        , 1.        , 1.        , 1.        ,\n",
       "       1.        , 1.        , 1.        , 1.        , 1.        ,\n",
       "       1.        , 1.        , 1.        , 1.        , 1.        ,\n",
       "       1.        , 1.        , 1.        , 1.        , 1.        ,\n",
       "       1.        , 1.        , 1.        , 1.        , 1.        ,\n",
       "       0.9974587 , 0.99618806, 0.99237611, 0.98221093, 0.97712834,\n",
       "       0.94027954, 0.89580686, 0.83989835, 0.75730623, 0.65819568,\n",
       "       0.52858958, 0.41296061, 0.30622618, 0.19440915, 0.12833545,\n",
       "       0.08259212, 0.03939009, 0.01778907, 0.00635324, 0.0025413 ,\n",
       "       0.0025413 , 0.00127065, 0.00127065, 0.00127065, 0.        ])"
      ]
     },
     "execution_count": 201,
     "metadata": {},
     "output_type": "execute_result"
    }
   ],
   "source": [
    "beta[-1,:]"
   ]
  },
  {
   "cell_type": "code",
   "execution_count": 202,
   "id": "ffba0f85-56f5-47d8-acce-455a3597b58d",
   "metadata": {},
   "outputs": [
    {
     "data": {
      "text/plain": [
       "array([1.        , 1.        , 1.        , 1.        , 1.        ,\n",
       "       1.        , 1.        , 1.        , 1.        , 1.        ,\n",
       "       1.        , 1.        , 1.        , 1.        , 1.        ,\n",
       "       1.        , 1.        , 1.        , 1.        , 1.        ,\n",
       "       1.        , 1.        , 1.        , 1.        , 1.        ,\n",
       "       0.9974587 , 0.99618806, 0.99237611, 0.98221093, 0.97712834,\n",
       "       0.94027954, 0.89580686, 0.83989835, 0.75730623, 0.65819568,\n",
       "       0.52858958, 0.41296061, 0.30622618, 0.19440915, 0.12833545,\n",
       "       0.08259212, 0.03939009, 0.01778907, 0.00635324, 0.0025413 ,\n",
       "       0.0025413 , 0.00127065, 0.00127065, 0.00127065, 0.        ])"
      ]
     },
     "execution_count": 202,
     "metadata": {},
     "output_type": "execute_result"
    }
   ],
   "source": [
    "alpha[-1,:]"
   ]
  },
  {
   "cell_type": "code",
   "execution_count": 140,
   "id": "e6fa88b4-6992-4e2b-b36c-27935682f8e6",
   "metadata": {},
   "outputs": [
    {
     "data": {
      "image/png": "[encoded data removed]",
      "text/plain": [
       "<Figure size 432x288 with 1 Axes>"
      ]
     },
     "metadata": {
      "needs_background": "light"
     },
     "output_type": "display_data"
    }
   ],
   "source": [
    "ii = 3\n",
    "lastt = [stopps0[k][ii] for k in range(len(stopps0))]\n",
    "counts, bins, bars = plt.hist(lastt, bins=int(len(lastt)/4), density= True)\n",
    "[gamma1, omega1, n1, eta1, kappa1], [gamma0, omega0, n0, eta0, kappa0] = params\n",
    "gp1 = [ggiulio_prob(t, boundsB[ii], kappa0, kappa1, eta0, eta1, n0, n1, gamma0,gamma1) for t in timind]"
   ]
  },
  {
   "cell_type": "code",
   "execution_count": 141,
   "id": "638e2254-d84e-4aa4-a91c-46cf0a743d5c",
   "metadata": {},
   "outputs": [
    {
     "data": {
      "text/plain": [
       "[<matplotlib.lines.Line2D at 0x2b934591c9b0>]"
      ]
     },
     "execution_count": 141,
     "metadata": {},
     "output_type": "execute_result"
    },
    {
     "data": {
      "image/png": "[encoded data removed]",
      "text/plain": [
       "<Figure size 432x288 with 1 Axes>"
      ]
     },
     "metadata": {
      "needs_background": "light"
     },
     "output_type": "display_data"
    }
   ],
   "source": [
    "plt.plot(0.5*(bins[1:]+bins[:-1]), counts)\n",
    "plt.plot(timind, gp1)"
   ]
  },
  {
   "cell_type": "code",
   "execution_count": 143,
   "id": "d493fe35-0884-45a9-8ad9-4357e6fcfcf4",
   "metadata": {},
   "outputs": [
    {
     "data": {
      "text/plain": [
       "0.38821527816845625"
      ]
     },
     "execution_count": 143,
     "metadata": {},
     "output_type": "execute_result"
    }
   ],
   "source": [
    "np.sum(lastt)/len(lastt)"
   ]
  },
  {
   "cell_type": "code",
   "execution_count": 145,
   "id": "b47a062b-5369-43b5-abf4-4c9f3bfecdee",
   "metadata": {},
   "outputs": [
    {
     "data": {
      "text/plain": [
       "0.38821527816845625"
      ]
     },
     "execution_count": 145,
     "metadata": {},
     "output_type": "execute_result"
    }
   ],
   "source": [
    "np.mean(lastt)"
   ]
  },
  {
   "cell_type": "code",
   "execution_count": 146,
   "id": "79ffa39d-1313-4795-923a-3994360a5614",
   "metadata": {},
   "outputs": [
    {
     "data": {
      "text/plain": [
       "0.28402102843619376"
      ]
     },
     "execution_count": 146,
     "metadata": {},
     "output_type": "execute_result"
    }
   ],
   "source": []
  },
  {
   "cell_type": "code",
   "execution_count": 147,
   "id": "eac2b320-32c1-4dbc-8e84-d7b7cde3632c",
   "metadata": {},
   "outputs": [
    {
     "data": {
      "text/plain": [
       "0.4094501085042787"
      ]
     },
     "execution_count": 147,
     "metadata": {},
     "output_type": "execute_result"
    }
   ],
   "source": [
    "np.mean(counts)"
   ]
  },
  {
   "cell_type": "code",
   "execution_count": null,
   "id": "1863fe21-4808-45b3-968d-9b18ab296c7f",
   "metadata": {},
   "outputs": [],
   "source": []
  },
  {
   "cell_type": "code",
   "execution_count": null,
   "id": "552e51a4-7a70-4213-bad0-bfee024dd353",
   "metadata": {},
   "outputs": [],
   "source": []
  },
  {
   "cell_type": "code",
   "execution_count": 113,
   "id": "45f90d50-36e6-4de7-a8d7-c18fa564cae7",
   "metadata": {},
   "outputs": [
    {
     "data": {
      "text/plain": [
       "0.3903657727290472"
      ]
     },
     "execution_count": 113,
     "metadata": {},
     "output_type": "execute_result"
    }
   ],
   "source": [
    "np.mean(counts)"
   ]
  },
  {
   "cell_type": "code",
   "execution_count": 108,
   "id": "0a6aa586-cca0-400c-b466-d5ff682f9ff6",
   "metadata": {},
   "outputs": [
    {
     "data": {
      "text/plain": [
       "0.37869470458159166"
      ]
     },
     "execution_count": 108,
     "metadata": {},
     "output_type": "execute_result"
    }
   ],
   "source": [
    "boundsB[4]/mu"
   ]
  },
  {
   "cell_type": "code",
   "execution_count": null,
   "id": "06fbc52e-971e-4542-9cb3-f9b4f67b8edf",
   "metadata": {},
   "outputs": [],
   "source": []
  },
  {
   "cell_type": "code",
   "execution_count": null,
   "id": "0e122efb-1d58-4bf1-a0f2-10a5c62f8963",
   "metadata": {},
   "outputs": [],
   "source": []
  },
  {
   "cell_type": "code",
   "execution_count": 43,
   "id": "dc6b9c5c-ed7c-443d-9d3f-1d1fe06eab9f",
   "metadata": {},
   "outputs": [
    {
     "name": "stderr",
     "output_type": "stream",
     "text": [
      "/nfs/pic.es/user/m/mbilkis/qenv_bilkis/lib64/python3.6/site-packages/ipykernel_launcher.py:1: RuntimeWarning: invalid value encountered in double_scalars\n",
      "  \"\"\"Entry point for launching an IPython kernel.\n"
     ]
    },
    {
     "data": {
      "text/plain": [
       "[<matplotlib.lines.Line2D at 0x2b9338542470>]"
      ]
     },
     "execution_count": 43,
     "metadata": {},
     "output_type": "execute_result"
    },
    {
     "data": {
      "image/png": "[encoded data removed]",
      "text/plain": [
       "<Figure size 432x288 with 1 Axes>"
      ]
     },
     "metadata": {
      "needs_background": "light"
     },
     "output_type": "display_data"
    }
   ],
   "source": [
    "plt.plot(np.abs(np.log(np.array([avg_err_alpha(b) for b in boundsB])))/mu)\n",
    "plt.plot(0.5*(stop_time0 + stop_time1))"
   ]
  },
  {
   "cell_type": "code",
   "execution_count": null,
   "id": "5681d0e2-b176-42ed-a5a9-9d0cffbeac94",
   "metadata": {},
   "outputs": [],
   "source": []
  },
  {
   "cell_type": "code",
   "execution_count": null,
   "id": "79d09a71-a4d2-4c6c-a0c6-b1145af1ec0e",
   "metadata": {},
   "outputs": [],
   "source": []
  },
  {
   "cell_type": "code",
   "execution_count": null,
   "id": "ed84563f-04b5-451f-abaa-fef3790eecdc",
   "metadata": {},
   "outputs": [],
   "source": [
    "ax = plt.subplot(111)\n",
    "ax.plot(alpha[-1,:],timind,'.')\n",
    "ax.plot([avg_err_alpha(b) for b in boundsB],[times[int(np.argmin(np.abs(times - ss)))] for ss in stop_time0])\n",
    "ax.plot([avg_err_alpha(b) for b in boundsB],4*np.array([times[int(np.argmin(np.abs(times - ss)))] for ss in stop_time0]))\n",
    "\n",
    "ax.set_xscale(\"log\")"
   ]
  },
  {
   "cell_type": "code",
   "execution_count": 26,
   "id": "ac3fb65d-1473-49f5-bfc0-b2590d16b566",
   "metadata": {},
   "outputs": [],
   "source": [
    "times_det_alpha_is_b = np.zeros((alpha.shape[0], len(boundsB)))\n",
    "for contour, bo in enumerate(range(alpha.shape[0])):\n",
    "    times_det_alpha_is_b[contour] = [times[int(i)] for i in indis_alpha_is_b[contour]]"
   ]
  },
  {
   "cell_type": "code",
   "execution_count": 90,
   "id": "77c978bc-b052-4371-aadf-f0fd30172e73",
   "metadata": {},
   "outputs": [],
   "source": [
    "timind = [times[ind] for ind in indis]"
   ]
  },
  {
   "cell_type": "code",
   "execution_count": 89,
   "id": "efdbf9a6-0986-4c13-b04f-70eaea1143cc",
   "metadata": {},
   "outputs": [
    {
     "name": "stderr",
     "output_type": "stream",
     "text": [
      "/nfs/pic.es/user/m/mbilkis/qenv_bilkis/lib64/python3.6/site-packages/ipykernel_launcher.py:1: RuntimeWarning: invalid value encountered in double_scalars\n",
      "  \"\"\"Entry point for launching an IPython kernel.\n"
     ]
    },
    {
     "data": {
      "text/plain": [
       "[<matplotlib.lines.Line2D at 0x2afd72695fd0>]"
      ]
     },
     "execution_count": 89,
     "metadata": {},
     "output_type": "execute_result"
    },
    {
     "name": "stdout",
     "output_type": "stream",
     "text": [
      "Error in callback <function flush_figures at 0x2afd67df4840> (for post_execute):\n"
     ]
    },
    {
     "ename": "KeyboardInterrupt",
     "evalue": "",
     "output_type": "error",
     "traceback": [
      "\u001b[0;31m---------------------------------------------------------------------------\u001b[0m",
      "\u001b[0;31mKeyboardInterrupt\u001b[0m                         Traceback (most recent call last)",
      "\u001b[0;32m~/qenv_bilkis/lib64/python3.6/site-packages/ipykernel/pylab/backend_inline.py\u001b[0m in \u001b[0;36mflush_figures\u001b[0;34m()\u001b[0m\n\u001b[1;32m    117\u001b[0m         \u001b[0;31m# ignore the tracking, just draw and close all figures\u001b[0m\u001b[0;34m\u001b[0m\u001b[0;34m\u001b[0m\u001b[0;34m\u001b[0m\u001b[0m\n\u001b[1;32m    118\u001b[0m         \u001b[0;32mtry\u001b[0m\u001b[0;34m:\u001b[0m\u001b[0;34m\u001b[0m\u001b[0;34m\u001b[0m\u001b[0m\n\u001b[0;32m--> 119\u001b[0;31m             \u001b[0;32mreturn\u001b[0m \u001b[0mshow\u001b[0m\u001b[0;34m(\u001b[0m\u001b[0;32mTrue\u001b[0m\u001b[0;34m)\u001b[0m\u001b[0;34m\u001b[0m\u001b[0;34m\u001b[0m\u001b[0m\n\u001b[0m\u001b[1;32m    120\u001b[0m         \u001b[0;32mexcept\u001b[0m \u001b[0mException\u001b[0m \u001b[0;32mas\u001b[0m \u001b[0me\u001b[0m\u001b[0;34m:\u001b[0m\u001b[0;34m\u001b[0m\u001b[0;34m\u001b[0m\u001b[0m\n\u001b[1;32m    121\u001b[0m             \u001b[0;31m# safely show traceback if in IPython, else raise\u001b[0m\u001b[0;34m\u001b[0m\u001b[0;34m\u001b[0m\u001b[0;34m\u001b[0m\u001b[0m\n",
      "\u001b[0;32m~/qenv_bilkis/lib64/python3.6/site-packages/ipykernel/pylab/backend_inline.py\u001b[0m in \u001b[0;36mshow\u001b[0;34m(close, block)\u001b[0m\n\u001b[1;32m     39\u001b[0m             display(\n\u001b[1;32m     40\u001b[0m                 \u001b[0mfigure_manager\u001b[0m\u001b[0;34m.\u001b[0m\u001b[0mcanvas\u001b[0m\u001b[0;34m.\u001b[0m\u001b[0mfigure\u001b[0m\u001b[0;34m,\u001b[0m\u001b[0;34m\u001b[0m\u001b[0;34m\u001b[0m\u001b[0m\n\u001b[0;32m---> 41\u001b[0;31m                 \u001b[0mmetadata\u001b[0m\u001b[0;34m=\u001b[0m\u001b[0m_fetch_figure_metadata\u001b[0m\u001b[0;34m(\u001b[0m\u001b[0mfigure_manager\u001b[0m\u001b[0;34m.\u001b[0m\u001b[0mcanvas\u001b[0m\u001b[0;34m.\u001b[0m\u001b[0mfigure\u001b[0m\u001b[0;34m)\u001b[0m\u001b[0;34m\u001b[0m\u001b[0;34m\u001b[0m\u001b[0m\n\u001b[0m\u001b[1;32m     42\u001b[0m             )\n\u001b[1;32m     43\u001b[0m     \u001b[0;32mfinally\u001b[0m\u001b[0;34m:\u001b[0m\u001b[0;34m\u001b[0m\u001b[0;34m\u001b[0m\u001b[0m\n",
      "\u001b[0;32m~/qenv_bilkis/lib64/python3.6/site-packages/IPython/core/display.py\u001b[0m in \u001b[0;36mdisplay\u001b[0;34m(include, exclude, metadata, transient, display_id, *objs, **kwargs)\u001b[0m\n\u001b[1;32m    311\u001b[0m             \u001b[0mpublish_display_data\u001b[0m\u001b[0;34m(\u001b[0m\u001b[0mdata\u001b[0m\u001b[0;34m=\u001b[0m\u001b[0mobj\u001b[0m\u001b[0;34m,\u001b[0m \u001b[0mmetadata\u001b[0m\u001b[0;34m=\u001b[0m\u001b[0mmetadata\u001b[0m\u001b[0;34m,\u001b[0m \u001b[0;34m**\u001b[0m\u001b[0mkwargs\u001b[0m\u001b[0;34m)\u001b[0m\u001b[0;34m\u001b[0m\u001b[0;34m\u001b[0m\u001b[0m\n\u001b[1;32m    312\u001b[0m         \u001b[0;32melse\u001b[0m\u001b[0;34m:\u001b[0m\u001b[0;34m\u001b[0m\u001b[0;34m\u001b[0m\u001b[0m\n\u001b[0;32m--> 313\u001b[0;31m             \u001b[0mformat_dict\u001b[0m\u001b[0;34m,\u001b[0m \u001b[0mmd_dict\u001b[0m \u001b[0;34m=\u001b[0m \u001b[0mformat\u001b[0m\u001b[0;34m(\u001b[0m\u001b[0mobj\u001b[0m\u001b[0;34m,\u001b[0m \u001b[0minclude\u001b[0m\u001b[0;34m=\u001b[0m\u001b[0minclude\u001b[0m\u001b[0;34m,\u001b[0m \u001b[0mexclude\u001b[0m\u001b[0;34m=\u001b[0m\u001b[0mexclude\u001b[0m\u001b[0;34m)\u001b[0m\u001b[0;34m\u001b[0m\u001b[0;34m\u001b[0m\u001b[0m\n\u001b[0m\u001b[1;32m    314\u001b[0m             \u001b[0;32mif\u001b[0m \u001b[0;32mnot\u001b[0m \u001b[0mformat_dict\u001b[0m\u001b[0;34m:\u001b[0m\u001b[0;34m\u001b[0m\u001b[0;34m\u001b[0m\u001b[0m\n\u001b[1;32m    315\u001b[0m                 \u001b[0;31m# nothing to display (e.g. _ipython_display_ took over)\u001b[0m\u001b[0;34m\u001b[0m\u001b[0;34m\u001b[0m\u001b[0;34m\u001b[0m\u001b[0m\n",
      "\u001b[0;32m~/qenv_bilkis/lib64/python3.6/site-packages/IPython/core/formatters.py\u001b[0m in \u001b[0;36mformat\u001b[0;34m(self, obj, include, exclude)\u001b[0m\n\u001b[1;32m    178\u001b[0m             \u001b[0mmd\u001b[0m \u001b[0;34m=\u001b[0m \u001b[0;32mNone\u001b[0m\u001b[0;34m\u001b[0m\u001b[0;34m\u001b[0m\u001b[0m\n\u001b[1;32m    179\u001b[0m             \u001b[0;32mtry\u001b[0m\u001b[0;34m:\u001b[0m\u001b[0;34m\u001b[0m\u001b[0;34m\u001b[0m\u001b[0m\n\u001b[0;32m--> 180\u001b[0;31m                 \u001b[0mdata\u001b[0m \u001b[0;34m=\u001b[0m \u001b[0mformatter\u001b[0m\u001b[0;34m(\u001b[0m\u001b[0mobj\u001b[0m\u001b[0;34m)\u001b[0m\u001b[0;34m\u001b[0m\u001b[0;34m\u001b[0m\u001b[0m\n\u001b[0m\u001b[1;32m    181\u001b[0m             \u001b[0;32mexcept\u001b[0m\u001b[0;34m:\u001b[0m\u001b[0;34m\u001b[0m\u001b[0;34m\u001b[0m\u001b[0m\n\u001b[1;32m    182\u001b[0m                 \u001b[0;31m# FIXME: log the exception\u001b[0m\u001b[0;34m\u001b[0m\u001b[0;34m\u001b[0m\u001b[0;34m\u001b[0m\u001b[0m\n",
      "\u001b[0;32m<decorator-gen-9>\u001b[0m in \u001b[0;36m__call__\u001b[0;34m(self, obj)\u001b[0m\n",
      "\u001b[0;32m~/qenv_bilkis/lib64/python3.6/site-packages/IPython/core/formatters.py\u001b[0m in \u001b[0;36mcatch_format_error\u001b[0;34m(method, self, *args, **kwargs)\u001b[0m\n\u001b[1;32m    222\u001b[0m     \u001b[0;34m\"\"\"show traceback on failed format call\"\"\"\u001b[0m\u001b[0;34m\u001b[0m\u001b[0;34m\u001b[0m\u001b[0m\n\u001b[1;32m    223\u001b[0m     \u001b[0;32mtry\u001b[0m\u001b[0;34m:\u001b[0m\u001b[0;34m\u001b[0m\u001b[0;34m\u001b[0m\u001b[0m\n\u001b[0;32m--> 224\u001b[0;31m         \u001b[0mr\u001b[0m \u001b[0;34m=\u001b[0m \u001b[0mmethod\u001b[0m\u001b[0;34m(\u001b[0m\u001b[0mself\u001b[0m\u001b[0;34m,\u001b[0m \u001b[0;34m*\u001b[0m\u001b[0margs\u001b[0m\u001b[0;34m,\u001b[0m \u001b[0;34m**\u001b[0m\u001b[0mkwargs\u001b[0m\u001b[0;34m)\u001b[0m\u001b[0;34m\u001b[0m\u001b[0;34m\u001b[0m\u001b[0m\n\u001b[0m\u001b[1;32m    225\u001b[0m     \u001b[0;32mexcept\u001b[0m \u001b[0mNotImplementedError\u001b[0m\u001b[0;34m:\u001b[0m\u001b[0;34m\u001b[0m\u001b[0;34m\u001b[0m\u001b[0m\n\u001b[1;32m    226\u001b[0m         \u001b[0;31m# don't warn on NotImplementedErrors\u001b[0m\u001b[0;34m\u001b[0m\u001b[0;34m\u001b[0m\u001b[0;34m\u001b[0m\u001b[0m\n",
      "\u001b[0;32m~/qenv_bilkis/lib64/python3.6/site-packages/IPython/core/formatters.py\u001b[0m in \u001b[0;36m__call__\u001b[0;34m(self, obj)\u001b[0m\n\u001b[1;32m    339\u001b[0m                 \u001b[0;32mpass\u001b[0m\u001b[0;34m\u001b[0m\u001b[0;34m\u001b[0m\u001b[0m\n\u001b[1;32m    340\u001b[0m             \u001b[0;32melse\u001b[0m\u001b[0;34m:\u001b[0m\u001b[0;34m\u001b[0m\u001b[0;34m\u001b[0m\u001b[0m\n\u001b[0;32m--> 341\u001b[0;31m                 \u001b[0;32mreturn\u001b[0m \u001b[0mprinter\u001b[0m\u001b[0;34m(\u001b[0m\u001b[0mobj\u001b[0m\u001b[0;34m)\u001b[0m\u001b[0;34m\u001b[0m\u001b[0;34m\u001b[0m\u001b[0m\n\u001b[0m\u001b[1;32m    342\u001b[0m             \u001b[0;31m# Finally look for special method names\u001b[0m\u001b[0;34m\u001b[0m\u001b[0;34m\u001b[0m\u001b[0;34m\u001b[0m\u001b[0m\n\u001b[1;32m    343\u001b[0m             \u001b[0mmethod\u001b[0m \u001b[0;34m=\u001b[0m \u001b[0mget_real_method\u001b[0m\u001b[0;34m(\u001b[0m\u001b[0mobj\u001b[0m\u001b[0;34m,\u001b[0m \u001b[0mself\u001b[0m\u001b[0;34m.\u001b[0m\u001b[0mprint_method\u001b[0m\u001b[0;34m)\u001b[0m\u001b[0;34m\u001b[0m\u001b[0;34m\u001b[0m\u001b[0m\n",
      "\u001b[0;32m~/qenv_bilkis/lib64/python3.6/site-packages/IPython/core/pylabtools.py\u001b[0m in \u001b[0;36m<lambda>\u001b[0;34m(fig)\u001b[0m\n\u001b[1;32m    246\u001b[0m \u001b[0;34m\u001b[0m\u001b[0m\n\u001b[1;32m    247\u001b[0m     \u001b[0;32mif\u001b[0m \u001b[0;34m'png'\u001b[0m \u001b[0;32min\u001b[0m \u001b[0mformats\u001b[0m\u001b[0;34m:\u001b[0m\u001b[0;34m\u001b[0m\u001b[0;34m\u001b[0m\u001b[0m\n\u001b[0;32m--> 248\u001b[0;31m         \u001b[0mpng_formatter\u001b[0m\u001b[0;34m.\u001b[0m\u001b[0mfor_type\u001b[0m\u001b[0;34m(\u001b[0m\u001b[0mFigure\u001b[0m\u001b[0;34m,\u001b[0m \u001b[0;32mlambda\u001b[0m \u001b[0mfig\u001b[0m\u001b[0;34m:\u001b[0m \u001b[0mprint_figure\u001b[0m\u001b[0;34m(\u001b[0m\u001b[0mfig\u001b[0m\u001b[0;34m,\u001b[0m \u001b[0;34m'png'\u001b[0m\u001b[0;34m,\u001b[0m \u001b[0;34m**\u001b[0m\u001b[0mkwargs\u001b[0m\u001b[0;34m)\u001b[0m\u001b[0;34m)\u001b[0m\u001b[0;34m\u001b[0m\u001b[0;34m\u001b[0m\u001b[0m\n\u001b[0m\u001b[1;32m    249\u001b[0m     \u001b[0;32mif\u001b[0m \u001b[0;34m'retina'\u001b[0m \u001b[0;32min\u001b[0m \u001b[0mformats\u001b[0m \u001b[0;32mor\u001b[0m \u001b[0;34m'png2x'\u001b[0m \u001b[0;32min\u001b[0m \u001b[0mformats\u001b[0m\u001b[0;34m:\u001b[0m\u001b[0;34m\u001b[0m\u001b[0;34m\u001b[0m\u001b[0m\n\u001b[1;32m    250\u001b[0m         \u001b[0mpng_formatter\u001b[0m\u001b[0;34m.\u001b[0m\u001b[0mfor_type\u001b[0m\u001b[0;34m(\u001b[0m\u001b[0mFigure\u001b[0m\u001b[0;34m,\u001b[0m \u001b[0;32mlambda\u001b[0m \u001b[0mfig\u001b[0m\u001b[0;34m:\u001b[0m \u001b[0mretina_figure\u001b[0m\u001b[0;34m(\u001b[0m\u001b[0mfig\u001b[0m\u001b[0;34m,\u001b[0m \u001b[0;34m**\u001b[0m\u001b[0mkwargs\u001b[0m\u001b[0;34m)\u001b[0m\u001b[0;34m)\u001b[0m\u001b[0;34m\u001b[0m\u001b[0;34m\u001b[0m\u001b[0m\n",
      "\u001b[0;32m~/qenv_bilkis/lib64/python3.6/site-packages/IPython/core/pylabtools.py\u001b[0m in \u001b[0;36mprint_figure\u001b[0;34m(fig, fmt, bbox_inches, **kwargs)\u001b[0m\n\u001b[1;32m    130\u001b[0m         \u001b[0mFigureCanvasBase\u001b[0m\u001b[0;34m(\u001b[0m\u001b[0mfig\u001b[0m\u001b[0;34m)\u001b[0m\u001b[0;34m\u001b[0m\u001b[0;34m\u001b[0m\u001b[0m\n\u001b[1;32m    131\u001b[0m \u001b[0;34m\u001b[0m\u001b[0m\n\u001b[0;32m--> 132\u001b[0;31m     \u001b[0mfig\u001b[0m\u001b[0;34m.\u001b[0m\u001b[0mcanvas\u001b[0m\u001b[0;34m.\u001b[0m\u001b[0mprint_figure\u001b[0m\u001b[0;34m(\u001b[0m\u001b[0mbytes_io\u001b[0m\u001b[0;34m,\u001b[0m \u001b[0;34m**\u001b[0m\u001b[0mkw\u001b[0m\u001b[0;34m)\u001b[0m\u001b[0;34m\u001b[0m\u001b[0;34m\u001b[0m\u001b[0m\n\u001b[0m\u001b[1;32m    133\u001b[0m     \u001b[0mdata\u001b[0m \u001b[0;34m=\u001b[0m \u001b[0mbytes_io\u001b[0m\u001b[0;34m.\u001b[0m\u001b[0mgetvalue\u001b[0m\u001b[0;34m(\u001b[0m\u001b[0;34m)\u001b[0m\u001b[0;34m\u001b[0m\u001b[0;34m\u001b[0m\u001b[0m\n\u001b[1;32m    134\u001b[0m     \u001b[0;32mif\u001b[0m \u001b[0mfmt\u001b[0m \u001b[0;34m==\u001b[0m \u001b[0;34m'svg'\u001b[0m\u001b[0;34m:\u001b[0m\u001b[0;34m\u001b[0m\u001b[0;34m\u001b[0m\u001b[0m\n",
      "\u001b[0;32m~/qenv_bilkis/lib64/python3.6/site-packages/matplotlib/backend_bases.py\u001b[0m in \u001b[0;36mprint_figure\u001b[0;34m(self, filename, dpi, facecolor, edgecolor, orientation, format, bbox_inches, pad_inches, bbox_extra_artists, backend, **kwargs)\u001b[0m\n\u001b[1;32m   2194\u001b[0m \u001b[0;34m\u001b[0m\u001b[0m\n\u001b[1;32m   2195\u001b[0m                     bbox_inches = self.figure.get_tightbbox(\n\u001b[0;32m-> 2196\u001b[0;31m                         renderer, bbox_extra_artists=bbox_extra_artists)\n\u001b[0m\u001b[1;32m   2197\u001b[0m                     \u001b[0;32mif\u001b[0m \u001b[0mpad_inches\u001b[0m \u001b[0;32mis\u001b[0m \u001b[0;32mNone\u001b[0m\u001b[0;34m:\u001b[0m\u001b[0;34m\u001b[0m\u001b[0;34m\u001b[0m\u001b[0m\n\u001b[1;32m   2198\u001b[0m                         \u001b[0mpad_inches\u001b[0m \u001b[0;34m=\u001b[0m \u001b[0mrcParams\u001b[0m\u001b[0;34m[\u001b[0m\u001b[0;34m'savefig.pad_inches'\u001b[0m\u001b[0;34m]\u001b[0m\u001b[0;34m\u001b[0m\u001b[0;34m\u001b[0m\u001b[0m\n",
      "\u001b[0;32m~/qenv_bilkis/lib64/python3.6/site-packages/matplotlib/figure.py\u001b[0m in \u001b[0;36mget_tightbbox\u001b[0;34m(self, renderer, bbox_extra_artists)\u001b[0m\n\u001b[1;32m   2514\u001b[0m                 \u001b[0;32mtry\u001b[0m\u001b[0;34m:\u001b[0m\u001b[0;34m\u001b[0m\u001b[0;34m\u001b[0m\u001b[0m\n\u001b[1;32m   2515\u001b[0m                     bbox = ax.get_tightbbox(\n\u001b[0;32m-> 2516\u001b[0;31m                         renderer, bbox_extra_artists=bbox_extra_artists)\n\u001b[0m\u001b[1;32m   2517\u001b[0m                 \u001b[0;32mexcept\u001b[0m \u001b[0mTypeError\u001b[0m\u001b[0;34m:\u001b[0m\u001b[0;34m\u001b[0m\u001b[0;34m\u001b[0m\u001b[0m\n\u001b[1;32m   2518\u001b[0m                     \u001b[0mbbox\u001b[0m \u001b[0;34m=\u001b[0m \u001b[0max\u001b[0m\u001b[0;34m.\u001b[0m\u001b[0mget_tightbbox\u001b[0m\u001b[0;34m(\u001b[0m\u001b[0mrenderer\u001b[0m\u001b[0;34m)\u001b[0m\u001b[0;34m\u001b[0m\u001b[0;34m\u001b[0m\u001b[0m\n",
      "\u001b[0;32m~/qenv_bilkis/lib64/python3.6/site-packages/matplotlib/axes/_base.py\u001b[0m in \u001b[0;36mget_tightbbox\u001b[0;34m(self, renderer, call_axes_locator, bbox_extra_artists, for_layout_only)\u001b[0m\n\u001b[1;32m   4152\u001b[0m                 \u001b[0;32mtry\u001b[0m\u001b[0;34m:\u001b[0m\u001b[0;34m\u001b[0m\u001b[0;34m\u001b[0m\u001b[0m\n\u001b[1;32m   4153\u001b[0m                     bb_xaxis = self.xaxis.get_tightbbox(\n\u001b[0;32m-> 4154\u001b[0;31m                         renderer, for_layout_only=for_layout_only)\n\u001b[0m\u001b[1;32m   4155\u001b[0m                 \u001b[0;32mexcept\u001b[0m \u001b[0mTypeError\u001b[0m\u001b[0;34m:\u001b[0m\u001b[0;34m\u001b[0m\u001b[0;34m\u001b[0m\u001b[0m\n\u001b[1;32m   4156\u001b[0m                     \u001b[0;31m# in case downstream library has redefined axis:\u001b[0m\u001b[0;34m\u001b[0m\u001b[0;34m\u001b[0m\u001b[0;34m\u001b[0m\u001b[0m\n",
      "\u001b[0;32m~/qenv_bilkis/lib64/python3.6/site-packages/matplotlib/axis.py\u001b[0m in \u001b[0;36mget_tightbbox\u001b[0;34m(self, renderer, for_layout_only)\u001b[0m\n\u001b[1;32m   1113\u001b[0m         \u001b[0;31m# go back to just this axis's tick labels\u001b[0m\u001b[0;34m\u001b[0m\u001b[0;34m\u001b[0m\u001b[0;34m\u001b[0m\u001b[0m\n\u001b[1;32m   1114\u001b[0m         ticklabelBoxes, ticklabelBoxes2 = self._get_tick_bboxes(\n\u001b[0;32m-> 1115\u001b[0;31m                     ticks_to_draw, renderer)\n\u001b[0m\u001b[1;32m   1116\u001b[0m \u001b[0;34m\u001b[0m\u001b[0m\n\u001b[1;32m   1117\u001b[0m         \u001b[0mself\u001b[0m\u001b[0;34m.\u001b[0m\u001b[0m_update_offset_text_position\u001b[0m\u001b[0;34m(\u001b[0m\u001b[0mticklabelBoxes\u001b[0m\u001b[0;34m,\u001b[0m \u001b[0mticklabelBoxes2\u001b[0m\u001b[0;34m)\u001b[0m\u001b[0;34m\u001b[0m\u001b[0;34m\u001b[0m\u001b[0m\n",
      "\u001b[0;32m~/qenv_bilkis/lib64/python3.6/site-packages/matplotlib/axis.py\u001b[0m in \u001b[0;36m_get_tick_bboxes\u001b[0;34m(self, ticks, renderer)\u001b[0m\n\u001b[1;32m   1090\u001b[0m         \u001b[0;34m\"\"\"Return lists of bboxes for ticks' label1's and label2's.\"\"\"\u001b[0m\u001b[0;34m\u001b[0m\u001b[0;34m\u001b[0m\u001b[0m\n\u001b[1;32m   1091\u001b[0m         return ([tick.label1.get_window_extent(renderer)\n\u001b[0;32m-> 1092\u001b[0;31m                  for tick in ticks if tick.label1.get_visible()],\n\u001b[0m\u001b[1;32m   1093\u001b[0m                 [tick.label2.get_window_extent(renderer)\n\u001b[1;32m   1094\u001b[0m                  for tick in ticks if tick.label2.get_visible()])\n",
      "\u001b[0;32m~/qenv_bilkis/lib64/python3.6/site-packages/matplotlib/axis.py\u001b[0m in \u001b[0;36m<listcomp>\u001b[0;34m(.0)\u001b[0m\n\u001b[1;32m   1090\u001b[0m         \u001b[0;34m\"\"\"Return lists of bboxes for ticks' label1's and label2's.\"\"\"\u001b[0m\u001b[0;34m\u001b[0m\u001b[0;34m\u001b[0m\u001b[0m\n\u001b[1;32m   1091\u001b[0m         return ([tick.label1.get_window_extent(renderer)\n\u001b[0;32m-> 1092\u001b[0;31m                  for tick in ticks if tick.label1.get_visible()],\n\u001b[0m\u001b[1;32m   1093\u001b[0m                 [tick.label2.get_window_extent(renderer)\n\u001b[1;32m   1094\u001b[0m                  for tick in ticks if tick.label2.get_visible()])\n",
      "\u001b[0;32m~/qenv_bilkis/lib64/python3.6/site-packages/matplotlib/text.py\u001b[0m in \u001b[0;36mget_window_extent\u001b[0;34m(self, renderer, dpi)\u001b[0m\n\u001b[1;32m    902\u001b[0m             \u001b[0mbbox\u001b[0m\u001b[0;34m,\u001b[0m \u001b[0minfo\u001b[0m\u001b[0;34m,\u001b[0m \u001b[0mdescent\u001b[0m \u001b[0;34m=\u001b[0m \u001b[0mself\u001b[0m\u001b[0;34m.\u001b[0m\u001b[0m_get_layout\u001b[0m\u001b[0;34m(\u001b[0m\u001b[0mself\u001b[0m\u001b[0;34m.\u001b[0m\u001b[0m_renderer\u001b[0m\u001b[0;34m)\u001b[0m\u001b[0;34m\u001b[0m\u001b[0;34m\u001b[0m\u001b[0m\n\u001b[1;32m    903\u001b[0m             \u001b[0mx\u001b[0m\u001b[0;34m,\u001b[0m \u001b[0my\u001b[0m \u001b[0;34m=\u001b[0m \u001b[0mself\u001b[0m\u001b[0;34m.\u001b[0m\u001b[0mget_unitless_position\u001b[0m\u001b[0;34m(\u001b[0m\u001b[0;34m)\u001b[0m\u001b[0;34m\u001b[0m\u001b[0;34m\u001b[0m\u001b[0m\n\u001b[0;32m--> 904\u001b[0;31m             \u001b[0mx\u001b[0m\u001b[0;34m,\u001b[0m \u001b[0my\u001b[0m \u001b[0;34m=\u001b[0m \u001b[0mself\u001b[0m\u001b[0;34m.\u001b[0m\u001b[0mget_transform\u001b[0m\u001b[0;34m(\u001b[0m\u001b[0;34m)\u001b[0m\u001b[0;34m.\u001b[0m\u001b[0mtransform\u001b[0m\u001b[0;34m(\u001b[0m\u001b[0;34m(\u001b[0m\u001b[0mx\u001b[0m\u001b[0;34m,\u001b[0m \u001b[0my\u001b[0m\u001b[0;34m)\u001b[0m\u001b[0;34m)\u001b[0m\u001b[0;34m\u001b[0m\u001b[0;34m\u001b[0m\u001b[0m\n\u001b[0m\u001b[1;32m    905\u001b[0m             \u001b[0mbbox\u001b[0m \u001b[0;34m=\u001b[0m \u001b[0mbbox\u001b[0m\u001b[0;34m.\u001b[0m\u001b[0mtranslated\u001b[0m\u001b[0;34m(\u001b[0m\u001b[0mx\u001b[0m\u001b[0;34m,\u001b[0m \u001b[0my\u001b[0m\u001b[0;34m)\u001b[0m\u001b[0;34m\u001b[0m\u001b[0;34m\u001b[0m\u001b[0m\n\u001b[1;32m    906\u001b[0m             \u001b[0;32mreturn\u001b[0m \u001b[0mbbox\u001b[0m\u001b[0;34m\u001b[0m\u001b[0;34m\u001b[0m\u001b[0m\n",
      "\u001b[0;32m~/qenv_bilkis/lib64/python3.6/site-packages/matplotlib/transforms.py\u001b[0m in \u001b[0;36mtransform\u001b[0;34m(self, values)\u001b[0m\n\u001b[1;32m   1420\u001b[0m \u001b[0;34m\u001b[0m\u001b[0m\n\u001b[1;32m   1421\u001b[0m         \u001b[0;31m# Transform the values\u001b[0m\u001b[0;34m\u001b[0m\u001b[0;34m\u001b[0m\u001b[0;34m\u001b[0m\u001b[0m\n\u001b[0;32m-> 1422\u001b[0;31m         \u001b[0mres\u001b[0m \u001b[0;34m=\u001b[0m \u001b[0mself\u001b[0m\u001b[0;34m.\u001b[0m\u001b[0mtransform_affine\u001b[0m\u001b[0;34m(\u001b[0m\u001b[0mself\u001b[0m\u001b[0;34m.\u001b[0m\u001b[0mtransform_non_affine\u001b[0m\u001b[0;34m(\u001b[0m\u001b[0mvalues\u001b[0m\u001b[0;34m)\u001b[0m\u001b[0;34m)\u001b[0m\u001b[0;34m\u001b[0m\u001b[0;34m\u001b[0m\u001b[0m\n\u001b[0m\u001b[1;32m   1423\u001b[0m \u001b[0;34m\u001b[0m\u001b[0m\n\u001b[1;32m   1424\u001b[0m         \u001b[0;31m# Convert the result back to the shape of the input values.\u001b[0m\u001b[0;34m\u001b[0m\u001b[0;34m\u001b[0m\u001b[0;34m\u001b[0m\u001b[0m\n",
      "\u001b[0;32m~/qenv_bilkis/lib64/python3.6/site-packages/matplotlib/transforms.py\u001b[0m in \u001b[0;36mtransform_non_affine\u001b[0;34m(self, points)\u001b[0m\n\u001b[1;32m   2346\u001b[0m     \u001b[0;32mdef\u001b[0m \u001b[0mtransform_non_affine\u001b[0m\u001b[0;34m(\u001b[0m\u001b[0mself\u001b[0m\u001b[0;34m,\u001b[0m \u001b[0mpoints\u001b[0m\u001b[0;34m)\u001b[0m\u001b[0;34m:\u001b[0m\u001b[0;34m\u001b[0m\u001b[0;34m\u001b[0m\u001b[0m\n\u001b[1;32m   2347\u001b[0m         \u001b[0;31m# docstring inherited\u001b[0m\u001b[0;34m\u001b[0m\u001b[0;34m\u001b[0m\u001b[0;34m\u001b[0m\u001b[0m\n\u001b[0;32m-> 2348\u001b[0;31m         \u001b[0;32mif\u001b[0m \u001b[0mself\u001b[0m\u001b[0;34m.\u001b[0m\u001b[0m_a\u001b[0m\u001b[0;34m.\u001b[0m\u001b[0mis_affine\u001b[0m \u001b[0;32mand\u001b[0m \u001b[0mself\u001b[0m\u001b[0;34m.\u001b[0m\u001b[0m_b\u001b[0m\u001b[0;34m.\u001b[0m\u001b[0mis_affine\u001b[0m\u001b[0;34m:\u001b[0m\u001b[0;34m\u001b[0m\u001b[0;34m\u001b[0m\u001b[0m\n\u001b[0m\u001b[1;32m   2349\u001b[0m             \u001b[0;32mreturn\u001b[0m \u001b[0mpoints\u001b[0m\u001b[0;34m\u001b[0m\u001b[0;34m\u001b[0m\u001b[0m\n\u001b[1;32m   2350\u001b[0m         \u001b[0;32melif\u001b[0m \u001b[0;32mnot\u001b[0m \u001b[0mself\u001b[0m\u001b[0;34m.\u001b[0m\u001b[0m_a\u001b[0m\u001b[0;34m.\u001b[0m\u001b[0mis_affine\u001b[0m \u001b[0;32mand\u001b[0m \u001b[0mself\u001b[0m\u001b[0;34m.\u001b[0m\u001b[0m_b\u001b[0m\u001b[0;34m.\u001b[0m\u001b[0mis_affine\u001b[0m\u001b[0;34m:\u001b[0m\u001b[0;34m\u001b[0m\u001b[0;34m\u001b[0m\u001b[0m\n",
      "\u001b[0;32m~/qenv_bilkis/lib64/python3.6/site-packages/matplotlib/transforms.py\u001b[0m in \u001b[0;36m<lambda>\u001b[0;34m(self)\u001b[0m\n\u001b[1;32m   2141\u001b[0m         \u001b[0;32mreturn\u001b[0m \u001b[0;32mFalse\u001b[0m\u001b[0;34m\u001b[0m\u001b[0;34m\u001b[0m\u001b[0m\n\u001b[1;32m   2142\u001b[0m \u001b[0;34m\u001b[0m\u001b[0m\n\u001b[0;32m-> 2143\u001b[0;31m     \u001b[0mis_affine\u001b[0m \u001b[0;34m=\u001b[0m \u001b[0mproperty\u001b[0m\u001b[0;34m(\u001b[0m\u001b[0;32mlambda\u001b[0m \u001b[0mself\u001b[0m\u001b[0;34m:\u001b[0m \u001b[0mself\u001b[0m\u001b[0;34m.\u001b[0m\u001b[0m_x\u001b[0m\u001b[0;34m.\u001b[0m\u001b[0mis_affine\u001b[0m \u001b[0;32mand\u001b[0m \u001b[0mself\u001b[0m\u001b[0;34m.\u001b[0m\u001b[0m_y\u001b[0m\u001b[0;34m.\u001b[0m\u001b[0mis_affine\u001b[0m\u001b[0;34m)\u001b[0m\u001b[0;34m\u001b[0m\u001b[0;34m\u001b[0m\u001b[0m\n\u001b[0m\u001b[1;32m   2144\u001b[0m     has_inverse = property(\n\u001b[1;32m   2145\u001b[0m         lambda self: self._x.has_inverse and self._y.has_inverse)\n",
      "\u001b[0;31mKeyboardInterrupt\u001b[0m: "
     ]
    }
   ],
   "source": [
    "#plt.plot(timind, [avg_err_alpha(b) for b in boundsB])\n",
    "plt.plot(timind, alpha[0,:])\n",
    "plt.plot(stop_time0, [avg_err_alpha(b) for b in boundsB])"
   ]
  },
  {
   "cell_type": "code",
   "execution_count": 35,
   "id": "75dd526f-d1f1-4175-990b-f24524a657ff",
   "metadata": {},
   "outputs": [
    {
     "data": {
      "text/plain": [
       "array([ 0., 45., 45., 45., 45., 45., 45., 46., 46., 46., 46., 46., 46.,\n",
       "       47., 47., 47., 47., 47., 47., 47., 47., 48., 48., 48., 48., 48.,\n",
       "       48., 48., 49., 49., 49., 49., 49., 49., 49., 49., 49., 49., 49.,\n",
       "       49., 49., 49., 49., 49., 49., 49., 49., 49., 49., 49., 49., 49.,\n",
       "       49., 49., 49., 49., 49., 49., 49., 49., 49., 49., 49., 49., 49.,\n",
       "       49., 49., 49., 49., 49., 49., 49., 49., 49., 49., 49., 49., 49.,\n",
       "       49., 49., 49., 49., 49., 49., 49., 49., 49., 49., 49., 49., 49.,\n",
       "       49., 49., 49., 49., 49., 49., 49., 49., 49.])"
      ]
     },
     "execution_count": 35,
     "metadata": {},
     "output_type": "execute_result"
    }
   ],
   "source": [
    "indis_alpha_is_b[-1,:]"
   ]
  },
  {
   "cell_type": "code",
   "execution_count": 29,
   "id": "55343e34-4188-4aa0-b903-9783be8422fa",
   "metadata": {},
   "outputs": [
    {
     "data": {
      "text/plain": [
       "[<matplotlib.lines.Line2D at 0x2afd72014240>]"
      ]
     },
     "execution_count": 29,
     "metadata": {},
     "output_type": "execute_result"
    },
    {
     "data": {
      "image/png": "[encoded data removed]",
      "text/plain": [
       "<Figure size 432x288 with 1 Axes>"
      ]
     },
     "metadata": {
      "needs_background": "light"
     },
     "output_type": "display_data"
    }
   ],
   "source": [
    "plt.plot(times_det_alpha_is_b[-1])\n",
    "#plt.plot(stop_time0)"
   ]
  },
  {
   "cell_type": "code",
   "execution_count": null,
   "id": "2d47b907-c42e-4177-b5b3-7edbd78e3d1c",
   "metadata": {},
   "outputs": [],
   "source": []
  },
  {
   "cell_type": "code",
   "execution_count": null,
   "id": "f582715f-b3ec-4f10-8abc-2af561186849",
   "metadata": {},
   "outputs": [],
   "source": [
    "for itraj in tqdm(range(2,3000)):\n",
    "    try:\n",
    "        log_lik_ratio, log_lik_ratio_swap = load_liks(itraj)\n",
    "        stop[\"h0/h1\"][itraj] = []\n",
    "        stop[\"h1/h0\"][itraj] = []\n",
    "        ll += log_lik_ratio\n",
    "        ll0+= log_lik_ratio_swap\n",
    "        n+=1\n",
    "        for ind, time_index in enumerate(indis):\n",
    "            h0_deter = log_lik_ratio[time_index] <= 0\n",
    "            h1_deter = log_lik_ratio_swap[time_index] <= 0\n",
    "            deter[\"h0/h1\"][ind] +=  (int(h0_deter) - deter[\"h0/h1\"][ind] )/n\n",
    "            deter[\"h1/h0\"][ind] += (int(h0_deter) - deter[\"h1/h0\"][ind])/n\n",
    "            \n",
    "            deter[\"h0/h1\"][ind] +=  (int(h0_deter) - deter[\"h0/h1\"][ind] )/n\n",
    "            deter[\"h1/h0\"][ind] += (int(h0_deter) - deter[\"h1/h0\"][ind])/n\n",
    "        for b in boundsB:\n",
    "            stop[\"h0/h1\"][itraj].append(get_stop_time(log_lik_ratio, b))\n",
    "            stop[\"h1/h0\"][itraj].append(get_stop_time(log_lik_ratio_swap, b))\n"
   ]
  },
  {
   "cell_type": "code",
   "execution_count": 24,
   "id": "62335e0a-cee1-465d-ae8b-6256530f9b66",
   "metadata": {},
   "outputs": [
    {
     "data": {
      "text/plain": [
       "[<matplotlib.lines.Line2D at 0x2b220ba98710>]"
      ]
     },
     "execution_count": 24,
     "metadata": {},
     "output_type": "execute_result"
    },
    {
     "data": {
      "image/png": "[encoded data removed]",
      "text/plain": [
       "<Figure size 432x288 with 1 Axes>"
      ]
     },
     "metadata": {
      "needs_background": "light"
     },
     "output_type": "display_data"
    }
   ],
   "source": [
    "plt.plot(np.array(deter[\"h1/h0\"]))"
   ]
  },
  {
   "cell_type": "code",
   "execution_count": 21,
   "id": "b58a3cf0-2b8d-4972-bfdf-55068b797910",
   "metadata": {},
   "outputs": [
    {
     "data": {
      "text/plain": [
       "[<matplotlib.lines.Line2D at 0x2b220b97f9e8>]"
      ]
     },
     "execution_count": 21,
     "metadata": {},
     "output_type": "execute_result"
    },
    {
     "data": {
      "image/png": "[encoded data removed]",
      "text/plain": [
       "<Figure size 432x288 with 1 Axes>"
      ]
     },
     "metadata": {
      "needs_background": "light"
     },
     "output_type": "display_data"
    }
   ],
   "source": [
    "plt.plot([times[ind] for ind in indis], 0.5*np.array(deter[\"h0/h1\"])+np.array(deter[\"h1/h0\"]))"
   ]
  },
  {
   "cell_type": "code",
   "execution_count": 120,
   "id": "d78fbe40-1cf7-4855-b05b-f63e3ad2c32f",
   "metadata": {},
   "outputs": [
    {
     "ename": "NameError",
     "evalue": "name 'ind_max_traj' is not defined",
     "output_type": "error",
     "traceback": [
      "\u001b[0;31m---------------------------------------------------------------------------\u001b[0m",
      "\u001b[0;31mNameError\u001b[0m                                 Traceback (most recent call last)",
      "\u001b[0;32m<ipython-input-120-0a5221a8141d>\u001b[0m in \u001b[0;36m<module>\u001b[0;34m\u001b[0m\n\u001b[1;32m      2\u001b[0m \u001b[0mplt\u001b[0m\u001b[0;34m.\u001b[0m\u001b[0mtitle\u001b[0m\u001b[0;34m(\u001b[0m\u001b[0;34m\"frequency discrimination\"\u001b[0m\u001b[0;34m)\u001b[0m\u001b[0;34m\u001b[0m\u001b[0;34m\u001b[0m\u001b[0m\n\u001b[1;32m      3\u001b[0m \u001b[0mlin\u001b[0m\u001b[0;34m=\u001b[0m\u001b[0;36m6\u001b[0m\u001b[0;34m\u001b[0m\u001b[0;34m\u001b[0m\u001b[0m\n\u001b[0;32m----> 4\u001b[0;31m \u001b[0max\u001b[0m\u001b[0;34m.\u001b[0m\u001b[0mplot\u001b[0m\u001b[0;34m(\u001b[0m\u001b[0mstop_time1\u001b[0m\u001b[0;34m,\u001b[0m \u001b[0;34m[\u001b[0m\u001b[0mavg_err_alpha\u001b[0m\u001b[0;34m(\u001b[0m\u001b[0mb\u001b[0m\u001b[0;34m)\u001b[0m \u001b[0;32mfor\u001b[0m \u001b[0mb\u001b[0m \u001b[0;32min\u001b[0m \u001b[0mboundsB\u001b[0m\u001b[0;34m[\u001b[0m\u001b[0;34m:\u001b[0m\u001b[0mlen\u001b[0m\u001b[0;34m(\u001b[0m\u001b[0mstopps1\u001b[0m\u001b[0;34m[\u001b[0m\u001b[0mind_max_traj\u001b[0m\u001b[0;34m]\u001b[0m\u001b[0;34m)\u001b[0m\u001b[0;34m]\u001b[0m\u001b[0;34m]\u001b[0m\u001b[0;34m,\u001b[0m \u001b[0;34m'.'\u001b[0m\u001b[0;34m,\u001b[0m\u001b[0mlabel\u001b[0m\u001b[0;34m=\u001b[0m\u001b[0;34mr'$\\langle \\tau \\rangle_{|H1}$'\u001b[0m\u001b[0;34m,\u001b[0m \u001b[0mlinewidth\u001b[0m\u001b[0;34m=\u001b[0m\u001b[0mlin\u001b[0m\u001b[0;34m)\u001b[0m\u001b[0;34m\u001b[0m\u001b[0;34m\u001b[0m\u001b[0m\n\u001b[0m\u001b[1;32m      5\u001b[0m \u001b[0max\u001b[0m\u001b[0;34m.\u001b[0m\u001b[0mplot\u001b[0m\u001b[0;34m(\u001b[0m\u001b[0mstop_time0\u001b[0m\u001b[0;34m,\u001b[0m \u001b[0;34m[\u001b[0m\u001b[0mavg_err_alpha\u001b[0m\u001b[0;34m(\u001b[0m\u001b[0mb\u001b[0m\u001b[0;34m)\u001b[0m \u001b[0;32mfor\u001b[0m \u001b[0mb\u001b[0m \u001b[0;32min\u001b[0m \u001b[0mboundsB\u001b[0m\u001b[0;34m[\u001b[0m\u001b[0;34m:\u001b[0m\u001b[0mlen\u001b[0m\u001b[0;34m(\u001b[0m\u001b[0mstopps0\u001b[0m\u001b[0;34m[\u001b[0m\u001b[0mind_max_traj\u001b[0m\u001b[0;34m]\u001b[0m\u001b[0;34m)\u001b[0m\u001b[0;34m]\u001b[0m\u001b[0;34m]\u001b[0m\u001b[0;34m,\u001b[0m \u001b[0;34m'.'\u001b[0m\u001b[0;34m,\u001b[0m\u001b[0mlabel\u001b[0m\u001b[0;34m=\u001b[0m\u001b[0;34mr'$\\langle \\tau \\rangle_{|H0}$'\u001b[0m\u001b[0;34m,\u001b[0m \u001b[0mlinewidth\u001b[0m\u001b[0;34m=\u001b[0m\u001b[0mlin\u001b[0m\u001b[0;34m)\u001b[0m\u001b[0;34m\u001b[0m\u001b[0;34m\u001b[0m\u001b[0m\n\u001b[1;32m      6\u001b[0m \u001b[0max\u001b[0m\u001b[0;34m.\u001b[0m\u001b[0mplot\u001b[0m\u001b[0;34m(\u001b[0m\u001b[0;34m[\u001b[0m\u001b[0mtimes\u001b[0m\u001b[0;34m[\u001b[0m\u001b[0mind\u001b[0m\u001b[0;34m]\u001b[0m \u001b[0;32mfor\u001b[0m \u001b[0mind\u001b[0m \u001b[0;32min\u001b[0m \u001b[0mindis\u001b[0m\u001b[0;34m]\u001b[0m\u001b[0;34m,\u001b[0m \u001b[0;36m0.5\u001b[0m\u001b[0;34m*\u001b[0m\u001b[0mnp\u001b[0m\u001b[0;34m.\u001b[0m\u001b[0marray\u001b[0m\u001b[0;34m(\u001b[0m\u001b[0mdeter\u001b[0m\u001b[0;34m[\u001b[0m\u001b[0;34m\"h0/h1\"\u001b[0m\u001b[0;34m]\u001b[0m\u001b[0;34m)\u001b[0m\u001b[0;34m+\u001b[0m\u001b[0mnp\u001b[0m\u001b[0;34m.\u001b[0m\u001b[0marray\u001b[0m\u001b[0;34m(\u001b[0m\u001b[0mdeter\u001b[0m\u001b[0;34m[\u001b[0m\u001b[0;34m\"h1/h0\"\u001b[0m\u001b[0;34m]\u001b[0m\u001b[0;34m)\u001b[0m\u001b[0;34m,\u001b[0m\u001b[0mcolor\u001b[0m\u001b[0;34m=\u001b[0m\u001b[0;34m\"black\"\u001b[0m\u001b[0;34m,\u001b[0m \u001b[0mlabel\u001b[0m\u001b[0;34m=\u001b[0m\u001b[0;34m\"deterministic\"\u001b[0m\u001b[0;34m)\u001b[0m\u001b[0;34m\u001b[0m\u001b[0;34m\u001b[0m\u001b[0m\n",
      "\u001b[0;31mNameError\u001b[0m: name 'ind_max_traj' is not defined"
     ]
    },
    {
     "data": {
      "image/png": "[encoded data removed]",
      "text/plain": [
       "<Figure size 432x288 with 1 Axes>"
      ]
     },
     "metadata": {
      "needs_background": "light"
     },
     "output_type": "display_data"
    }
   ],
   "source": [
    "ax = plt.subplot(111)\n",
    "plt.title(\"frequency discrimination\")\n",
    "lin=6\n",
    "ax.plot(stop_time1, [avg_err_alpha(b) for b in boundsB[:len(stopps1[ind_max_traj])]], '.',label=r'$\\langle \\tau \\rangle_{|H1}$', linewidth=lin)\n",
    "ax.plot(stop_time0, [avg_err_alpha(b) for b in boundsB[:len(stopps0[ind_max_traj])]], '.',label=r'$\\langle \\tau \\rangle_{|H0}$', linewidth=lin)\n",
    "ax.plot([times[ind] for ind in indis], 0.5*np.array(deter[\"h0/h1\"])+np.array(deter[\"h1/h0\"]),color=\"black\", label=\"deterministic\")\n",
    "ax.scatter([times[ind] for ind in indis], 0.5*np.array(deter[\"h0/h1\"])+np.array(deter[\"h1/h0\"]), color=\"black\")\n",
    "\n",
    "ax.set_xlabel(\"time\")\n",
    "ax.set_ylabel(r'$P_e = \\frac{1}{2} (\\alpha + \\beta)$')\n",
    "ax.legend(prop={\"size\":15})"
   ]
  },
  {
   "cell_type": "code",
   "execution_count": 471,
   "id": "6374e62d-8c56-4a04-a72b-1da545edfbc1",
   "metadata": {},
   "outputs": [],
   "source": [
    "ll *= len(stop[\"h0/h1\"])**2\n",
    "ll0 *= len(stop[\"h0/h1\"])**2"
   ]
  },
  {
   "cell_type": "code",
   "execution_count": 14,
   "id": "80bf647d-6735-4ad5-b03b-bdaf24e5625a",
   "metadata": {},
   "outputs": [
    {
     "data": {
      "text/plain": [
       "<matplotlib.legend.Legend at 0x2b277e2a3898>"
      ]
     },
     "execution_count": 14,
     "metadata": {},
     "output_type": "execute_result"
    },
    {
     "data": {
      "image/png": "[encoded data removed]",
      "text/plain": [
       "<Figure size 720x720 with 1 Axes>"
      ]
     },
     "metadata": {
      "needs_background": "light"
     },
     "output_type": "display_data"
    }
   ],
   "source": [
    "\n",
    "colors1 = plt.get_cmap(\"Reds\")\n",
    "colors0 = plt.get_cmap(\"Blues\")\n",
    "\n",
    "plt.figure(figsize=(10,10))\n",
    "alphaMean=0.6\n",
    "plt.plot(times, ll[:-1],linewidth=10, alpha=alphaMean,  color=\"red\", label=r'$\\langle \\ell_{|H_1}\\rangle$')\n",
    "Ntraj = 10\n",
    "c1 = colors1(np.linspace(0,1,Ntraj))[::-1]\n",
    "c0 = colors0(np.linspace(0,1,Ntraj))[::-1]\n",
    "             \n",
    "for ii, itraj in enumerate(range(1,Ntraj)):\n",
    "    log_lik_ratio, log_lik_ratio_swap = load_liks(itraj)\n",
    "    plt.plot(times,log_lik_ratio[:-1], c=c1[ii], alpha=0.75)\n",
    "    plt.plot(times, log_lik_ratio_swap[:-1],c=c0[ii], alpha=0.75)\n",
    "plt.plot(times,ll0[:-1], linewidth=10, alpha=alphaMean, color=\"blue\", label=r'$\\langle \\ell_{|H_0}\\rangle$')\n",
    "plt.plot(times, np.zeros(len(ll0)-1),\"--\")\n",
    "\n",
    "plt.legend(prop={\"size\":20})"
   ]
  },
  {
   "cell_type": "code",
   "execution_count": 476,
   "id": "90c4fba3-a3a5-4cbe-9a41-ea98a7fcf409",
   "metadata": {},
   "outputs": [],
   "source": [
    "import os \n",
    "freq_dir = get_def_path(mode=\"continuous\")+\"freq_discrimination/\"\n",
    "os.makedirs(freq_dir, exist_ok=True)\n",
    "\n",
    "np.save(freq_dir+\"mean_likelihood_0\", ll0)\n",
    "np.save(freq_dir+\"mean_likelihood_1\", ll)\n",
    "np.save(freq_dir+\"boundsB\", boundsB)\n",
    "np.save(freq_dir+\"stop_time1\",stop_time1)\n",
    "np.save(freq_dir+\"stop_time0\",stop_time0)\n",
    "np.save(freq_dir+\"alpha_deter\",np.array(deter[\"h0/h1\"]))\n",
    "np.save(freq_dir+\"beta_deter\",np.array(deter[\"h1/h0\"]))"
   ]
  },
  {
   "cell_type": "code",
   "execution_count": 477,
   "id": "639dd159-3600-4a88-a538-156e43a3aefe",
   "metadata": {},
   "outputs": [],
   "source": []
  },
  {
   "cell_type": "code",
   "execution_count": null,
   "id": "bb01e6d6-c325-49d6-a5bb-45dd93d6d1c5",
   "metadata": {},
   "outputs": [],
   "source": []
  }
 ],
 "metadata": {
  "kernelspec": {
   "display_name": "qenv_bilkis",
   "language": "python",
   "name": "qenv_bilkis"
  },
  "language_info": {
   "codemirror_mode": {
    "name": "ipython",
    "version": 3
   },
   "file_extension": ".py",
   "mimetype": "text/x-python",
   "name": "python",
   "nbconvert_exporter": "python",
   "pygments_lexer": "ipython3",
   "version": "3.6.8"
  }
 },
 "nbformat": 4,
 "nbformat_minor": 5
}
