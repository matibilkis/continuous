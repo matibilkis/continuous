{
 "cells": [
  {
   "cell_type": "code",
   "execution_count": 1,
   "id": "2be72649",
   "metadata": {},
   "outputs": [
    {
     "data": {
      "text/html": [
       "<style>.container { width:100% !important; }</style>"
      ],
      "text/plain": [
       "<IPython.core.display.HTML object>"
      ]
     },
     "metadata": {},
     "output_type": "display_data"
    }
   ],
   "source": [
    "%load_ext autoreload\n",
    "%autoreload 2\n",
    "from IPython.core.display import display, HTML\n",
    "display(HTML(\"<style>.container { width:100% !important; }</style>\"))\n",
    "\n",
    "\n",
    "import os \n",
    "os.chdir(\"..\")"
   ]
  },
  {
   "cell_type": "code",
   "execution_count": 3,
   "id": "80ef0fb7",
   "metadata": {},
   "outputs": [],
   "source": [
    "from numerics.integration.steps import *\n",
    "import numpy as np\n",
    "import matplotlib.pyplot as plt\n",
    "from tqdm import tqdm\n",
    "from numerics.utilities.misc import *"
   ]
  },
  {
   "cell_type": "code",
   "execution_count": 4,
   "id": "written-differential",
   "metadata": {},
   "outputs": [],
   "source": [
    "pars = give_def_params_discrimination(flip=0) ## H0 is the true hypothesis\n",
    "params, exp_path = check_params(pars)"
   ]
  },
  {
   "cell_type": "code",
   "execution_count": 21,
   "id": "architectural-cutting",
   "metadata": {},
   "outputs": [],
   "source": [
    "times, logliks, states1, states0, signals, covs1, covs0 =load_data_discrimination(itraj=20,\n",
    "                                                                                  total_time = 1.0, \n",
    "                                                                                  dt=1e-6, exp_path = exp_path)"
   ]
  },
  {
   "cell_type": "code",
   "execution_count": 22,
   "id": "moral-robertson",
   "metadata": {},
   "outputs": [],
   "source": [
    "l0,l1 = logliks[:,0], logliks[:,1]"
   ]
  },
  {
   "cell_type": "code",
   "execution_count": 31,
   "id": "amazing-swift",
   "metadata": {},
   "outputs": [],
   "source": [
    "np.random.seed(0)"
   ]
  },
  {
   "cell_type": "code",
   "execution_count": 35,
   "id": "economic-million",
   "metadata": {},
   "outputs": [
    {
     "data": {
      "text/plain": [
       "(100, 2)"
      ]
     },
     "execution_count": 35,
     "metadata": {},
     "output_type": "execute_result"
    }
   ],
   "source": [
    "np.random.randn(100,2).shape"
   ]
  },
  {
   "cell_type": "code",
   "execution_count": 32,
   "id": "disciplinary-geography",
   "metadata": {},
   "outputs": [
    {
     "data": {
      "text/plain": [
       "1.764052345967664"
      ]
     },
     "execution_count": 32,
     "metadata": {},
     "output_type": "execute_result"
    }
   ],
   "source": [
    "np.random.normal()"
   ]
  },
  {
   "cell_type": "code",
   "execution_count": 24,
   "id": "massive-dictionary",
   "metadata": {},
   "outputs": [
    {
     "data": {
      "text/plain": [
       "[<matplotlib.lines.Line2D at 0x7f250e2e2e10>]"
      ]
     },
     "execution_count": 24,
     "metadata": {},
     "output_type": "execute_result"
    },
    {
     "data": {
      "image/png": "[encoded data removed]",
      "text/plain": [
       "<Figure size 432x288 with 1 Axes>"
      ]
     },
     "metadata": {
      "needs_background": "light"
     },
     "output_type": "display_data"
    }
   ],
   "source": [
    "plt.plot(l1-l0)"
   ]
  },
  {
   "cell_type": "code",
   "execution_count": 11,
   "id": "postal-command",
   "metadata": {},
   "outputs": [
    {
     "data": {
      "text/plain": [
       "[<matplotlib.lines.Line2D at 0x7f250e54f128>]"
      ]
     },
     "execution_count": 11,
     "metadata": {},
     "output_type": "execute_result"
    },
    {
     "data": {
      "image/png": "[encoded data removed]",
      "text/plain": [
       "<Figure size 432x288 with 1 Axes>"
      ]
     },
     "metadata": {
      "needs_background": "light"
     },
     "output_type": "display_data"
    }
   ],
   "source": [
    "aa = -1\n",
    "plt.plot(times[:aa], (l0)[:-1][:aa])"
   ]
  },
  {
   "cell_type": "code",
   "execution_count": 19,
   "id": "73ef86c3",
   "metadata": {},
   "outputs": [],
   "source": [
    "def stop_time(itraj, a=-3, b=3):\n",
    "    pars = give_def_params_discrimination(flip=0) ## H0 is the true hypothesis\n",
    "    params, exp_path = check_params(pars)\n",
    "    times, logliks, states1, states0, signals, covs1, covs0 =load_data_discrimination(itraj=itraj, total_time = 4, dt=1e-6, exp_path = exp_path)\n",
    "    l0,l1 = logliks[:,0], logliks[:,1]\n",
    "    log_lik_ratio = l1 - l0  ###\n",
    "    stopping_time_ind =np.argmin(np.logical_and(log_lik_ratio < b, log_lik_ratio > a))\n",
    "    return times[stopping_time_ind]"
   ]
  },
  {
   "cell_type": "code",
   "execution_count": null,
   "id": "b3fa6c23",
   "metadata": {},
   "outputs": [
    {
     "name": "stderr",
     "output_type": "stream",
     "text": [
      "  8%|▊         | 76/1000 [02:38<36:44,  2.39s/it]"
     ]
    }
   ],
   "source": [
    "st = []\n",
    "for itraj in tqdm(range(1,1001)):\n",
    "    try:\n",
    "        st.append(stop_time(itraj, b=3, a=-3))\n",
    "    except Exception:\n",
    "        pass"
   ]
  },
  {
   "cell_type": "code",
   "execution_count": null,
   "id": "d93e9a23",
   "metadata": {},
   "outputs": [],
   "source": [
    "counts, bins, bars = plt.hist(st, bins=int(len(st)/5),  density=True)"
   ]
  },
  {
   "cell_type": "code",
   "execution_count": null,
   "id": "69c5c4bd",
   "metadata": {},
   "outputs": [],
   "source": [
    "def ggiulio_prob(t, b, kappa0, kappa1, eta0 , eta1, n0, n1, gamma0, gamma1):\n",
    "    Su1 = n1 + 0.5 + (kappa1 / gamma1)\n",
    "    Su0 = n0 + 0.5 + (kappa0 / gamma0)\n",
    "\n",
    "    S1 = (np.sqrt(1 + (16.0*eta1*kappa1*Su1/gamma1)) - 1)*(gamma1/(8.0*eta1*kappa1))\n",
    "    S0 = (np.sqrt(1 + (16.0*eta0*kappa0*Su0/gamma0)) - 1)*( gamma0/(8.0*eta0*kappa0))\n",
    "\n",
    "    lam = gamma0 + (8*eta0*kappa0*S0)\n",
    "\n",
    "    aa = (4*eta1*kappa1*(S1**2))/gamma1\n",
    "    bb =(4*eta0*kappa0*S0**2)*(1+((16.0*eta1*kappa1*S1)/ (gamma1 + lam)) + (64.0*(eta1 * kappa1 * S1)**(2)/(gamma1 * (gamma1 + lam))))/ lam\n",
    "    c =8 *(S0*S1*(eta0*kappa0 *eta1*kappa1)**(0.5)) * (gamma1+ (4.0*eta1*kappa1*S1) ) / ((gamma1 + lam)*gamma1)\n",
    "\n",
    "    mu = 4*(eta1*kappa1*aa + (eta0*kappa0*bb) - 2*np.sqrt(eta1*kappa1*eta0*kappa0)*c)\n",
    "    S= np.sqrt(2*mu)\n",
    "\n",
    "    div = (np.sqrt(2*np.pi)*S*(t**(3/2)))\n",
    "    return  abs(b)*np.exp(-((abs(b)-mu*t)**2)/(2*t*(S**2)))/div"
   ]
  },
  {
   "cell_type": "code",
   "execution_count": null,
   "id": "5c39b50a",
   "metadata": {},
   "outputs": [],
   "source": [
    "[gamma1, omega1, n1, eta1, kappa1], [gamma0, omega0, n0, eta0, kappa0] = params\n",
    "gp1 = [ggiulio_prob(t, 3, kappa0, kappa1, eta0, eta1, n0, n1, gamma0,gamma1) for t in times]"
   ]
  },
  {
   "cell_type": "code",
   "execution_count": null,
   "id": "5f6d6b65-27ce-4c78-a32a-b9c094c930e0",
   "metadata": {},
   "outputs": [],
   "source": [
    "np.save(\"gp1\",gp1)\n",
    "np.save(\"stopp_time_1K\",counts)\n",
    "np.save(\"stopp_time_1K_bins\",bins)"
   ]
  },
  {
   "cell_type": "code",
   "execution_count": null,
   "id": "fbcf6610",
   "metadata": {},
   "outputs": [],
   "source": [
    "plt.plot(times,gp1,linewidth=5, label=\"stopping time - giulio\")\n",
    "plt.bar(.5*(bins[1:]+bins[:-1]),counts, alpha=0.75,width=bins[1]-bins[0],color=\"black\", label=\"simulation\")\n",
    "plt.legend()\n",
    "plt.savefig(\"giulio_plot.pdf\")"
   ]
  },
  {
   "cell_type": "code",
   "execution_count": null,
   "id": "1b553ce3-8272-4581-b75b-66ab6368f0fc",
   "metadata": {},
   "outputs": [],
   "source": []
  },
  {
   "cell_type": "code",
   "execution_count": null,
   "id": "dec9e335-4dc2-4fc0-bf9e-f9eb4ef9e2dd",
   "metadata": {},
   "outputs": [],
   "source": []
  },
  {
   "cell_type": "code",
   "execution_count": 167,
   "id": "8c40ae87",
   "metadata": {},
   "outputs": [
    {
     "name": "stderr",
     "output_type": "stream",
     "text": [
      "100%|█████████████████████████████████████████████████████████████████████████████████████████████████████████████████████████████████████████████| 500/500 [00:05<00:00, 91.42it/s]\n"
     ]
    }
   ],
   "source": [
    "ind_time_sprt_avg_stop_time = np.argmin(np.abs(times - np.mean(stprt_stop[\"h1\"])))\n",
    "\n",
    "stprt_stop = {}\n",
    "stprt_stop[\"h0\"] = []\n",
    "stprt_stop[\"h1\"] = []\n",
    "\n",
    "np_errs = {}\n",
    "np_errs[\"h0/h1\"] = []\n",
    "np_errs[\"h1/h0\"] = []\n",
    "\n",
    "for itraj in tqdm(range(1000)):\n",
    "        \n",
    "    try:\n",
    "\n",
    "        pars = give_def_params_discrimination(flip=0) ## H0 is the true hypothesis\n",
    "        params, exp_path = check_params(pars)\n",
    "        times, logliks, states1, states0, signals, covs1, covs0 =load_data_discrimination(itraj=itraj, total_time = 4, dt=1e-6, exp_path = exp_path)\n",
    "        l0,l1 = logliks[:,0], logliks[:,1]\n",
    "        log_lik_ratio = l1 - l0  ###\n",
    "        \n",
    "        ### stand up at the equal likelihood point ---> you choose max-likelihood hypothesis!\n",
    "        h0 = log_lik_ratio[ind_time_sprt_avg_stop_time] <= 0\n",
    "        np_errs[\"h0/h1\"].append(int(h0))\n",
    "\n",
    "        #### for the other hypothesis, flip the parameters\n",
    "\n",
    "        pars = give_def_params_discrimination(h1true=0)\n",
    "        params, exp_path = check_params(pars)\n",
    "\n",
    "        times, l0, l1, states, states1, signals, covs, covs1 = load_data_discrimination(exp_path = exp_path, periods = 2, ppp=100000,itraj=itraj)\n",
    "        log_lik_ratio = (l0-l1)\n",
    "\n",
    "        ### stand up at the equal likelihood point ---> you choose max-likelihood hypothesis!\n",
    "        h1 = log_lik_ratio[ind_time_sprt_avg_stop_time] <= 0\n",
    "        np_errs[\"h1/h0\"].append(int(h1))\n",
    "    except Exception:\n",
    "        pass\n"
   ]
  },
  {
   "cell_type": "code",
   "execution_count": 168,
   "id": "2d2ea536",
   "metadata": {},
   "outputs": [
    {
     "name": "stdout",
     "output_type": "stream",
     "text": [
      "0.158 0.816\n",
      "0.084 0.924\n"
     ]
    }
   ],
   "source": [
    "print(np.mean(np_errs[\"h0/h1\"]), np.mean(np_errs[\"h1/h0\"]))\n",
    "print(np.mean(sprt_errs[\"h0/h1\"]), np.mean(sprt_errs[\"h1/h0\"]))"
   ]
  },
  {
   "cell_type": "code",
   "execution_count": 173,
   "id": "5a9ecfd0",
   "metadata": {},
   "outputs": [
    {
     "data": {
      "text/plain": [
       "0.049787068367863944"
      ]
     },
     "execution_count": 173,
     "metadata": {},
     "output_type": "execute_result"
    }
   ],
   "source": [
    "1- np.e"
   ]
  },
  {
   "cell_type": "code",
   "execution_count": null,
   "id": "cd2c125f",
   "metadata": {},
   "outputs": [],
   "source": []
  },
  {
   "cell_type": "code",
   "execution_count": 70,
   "id": "0ffa0e8e",
   "metadata": {},
   "outputs": [],
   "source": [
    "pars = give_def_params_discrimination(h1true=1)\n",
    "params, exp_path = check_params(pars)\n",
    "\n",
    "times, l0, l1, states, states1, signals, covs, covs1 = load_data_discrimination(exp_path = exp_path, periods = 2, ppp=100000,itraj=1)\n",
    "log_lik_ratio = l0-l1\n",
    "\n",
    "bools = np.logical_and(log_lik_ratio <= b(ep1), a(ep0) <= log_lik_ratio)\n",
    "indi = np.argmin(bools)\n",
    "stprt_stop[\"h1\"] = times[indi]\n",
    "\n",
    "h0 = log_lik_ratio[indi] <= a(ep0)"
   ]
  },
  {
   "cell_type": "code",
   "execution_count": 72,
   "id": "78ea0579",
   "metadata": {},
   "outputs": [
    {
     "data": {
      "text/plain": [
       "1"
      ]
     },
     "execution_count": 72,
     "metadata": {},
     "output_type": "execute_result"
    }
   ],
   "source": [
    "int(h0)"
   ]
  },
  {
   "cell_type": "code",
   "execution_count": null,
   "id": "b833d7a9",
   "metadata": {},
   "outputs": [],
   "source": []
  },
  {
   "cell_type": "code",
   "execution_count": null,
   "id": "5bb2e122",
   "metadata": {},
   "outputs": [],
   "source": []
  },
  {
   "cell_type": "code",
   "execution_count": 40,
   "id": "34c4e30b",
   "metadata": {},
   "outputs": [
    {
     "name": "stderr",
     "output_type": "stream",
     "text": [
      "  0%|                                                                                                                                                         | 0/9 [00:00<?, ?it/s]\n"
     ]
    },
    {
     "ename": "FileNotFoundError",
     "evalue": "[Errno 2] No such file or directory: '../quantera/trajectories/discrimination/[[1.0, 0, 20, 1.0, 1.0], [0.3, 0, 2, 1.0, 1.0]]/1itraj/rossler_real_traj_method/50periods/1000ppp/1rppp/states.npy'",
     "output_type": "error",
     "traceback": [
      "\u001b[0;31m---------------------------------------------------------------------------\u001b[0m",
      "\u001b[0;31mFileNotFoundError\u001b[0m                         Traceback (most recent call last)",
      "\u001b[0;32m/tmp/ipykernel_136570/775941159.py\u001b[0m in \u001b[0;36m<module>\u001b[0;34m\u001b[0m\n\u001b[1;32m      4\u001b[0m \u001b[0;32mfor\u001b[0m \u001b[0mitraj\u001b[0m \u001b[0;32min\u001b[0m \u001b[0mtqdm\u001b[0m\u001b[0;34m(\u001b[0m\u001b[0mrange\u001b[0m\u001b[0;34m(\u001b[0m\u001b[0;36m1\u001b[0m\u001b[0;34m,\u001b[0m\u001b[0;36m10\u001b[0m\u001b[0;34m)\u001b[0m\u001b[0;34m)\u001b[0m\u001b[0;34m:\u001b[0m\u001b[0;34m\u001b[0m\u001b[0;34m\u001b[0m\u001b[0m\n\u001b[1;32m      5\u001b[0m \u001b[0;34m\u001b[0m\u001b[0m\n\u001b[0;32m----> 6\u001b[0;31m     \u001b[0mtimes\u001b[0m\u001b[0;34m,\u001b[0m \u001b[0ml0\u001b[0m\u001b[0;34m,\u001b[0m \u001b[0ml1\u001b[0m\u001b[0;34m,\u001b[0m \u001b[0mstates\u001b[0m\u001b[0;34m,\u001b[0m \u001b[0mstates1\u001b[0m\u001b[0;34m,\u001b[0m \u001b[0msignals\u001b[0m\u001b[0;34m,\u001b[0m \u001b[0mcovs\u001b[0m\u001b[0;34m,\u001b[0m \u001b[0mcovs1\u001b[0m \u001b[0;34m=\u001b[0m \u001b[0mload_data\u001b[0m\u001b[0;34m(\u001b[0m\u001b[0mexp_path\u001b[0m \u001b[0;34m=\u001b[0m \u001b[0mexp_path\u001b[0m\u001b[0;34m,\u001b[0m \u001b[0mperiods\u001b[0m \u001b[0;34m=\u001b[0m \u001b[0;36m50\u001b[0m\u001b[0;34m,\u001b[0m \u001b[0mppp\u001b[0m\u001b[0;34m=\u001b[0m\u001b[0;36m1000\u001b[0m\u001b[0;34m,\u001b[0m \u001b[0mitraj\u001b[0m\u001b[0;34m=\u001b[0m\u001b[0mitraj\u001b[0m\u001b[0;34m)\u001b[0m\u001b[0;34m\u001b[0m\u001b[0;34m\u001b[0m\u001b[0m\n\u001b[0m\u001b[1;32m      7\u001b[0m     \u001b[0mlog_lik_ratio\u001b[0m \u001b[0;34m=\u001b[0m \u001b[0ml0\u001b[0m\u001b[0;34m-\u001b[0m\u001b[0ml1\u001b[0m\u001b[0;34m\u001b[0m\u001b[0;34m\u001b[0m\u001b[0m\n\u001b[1;32m      8\u001b[0m \u001b[0;34m\u001b[0m\u001b[0m\n",
      "\u001b[0;32m~/Desktop/continuous/numerics/utilities/misc.py\u001b[0m in \u001b[0;36mload_data\u001b[0;34m(exp_path, itraj, ppp, periods, rppp, method, display)\u001b[0m\n\u001b[1;32m    169\u001b[0m \u001b[0;34m\u001b[0m\u001b[0m\n\u001b[1;32m    170\u001b[0m     \u001b[0mtimes\u001b[0m \u001b[0;34m=\u001b[0m \u001b[0mnp\u001b[0m\u001b[0;34m.\u001b[0m\u001b[0mload\u001b[0m\u001b[0;34m(\u001b[0m\u001b[0mpath\u001b[0m\u001b[0;34m+\u001b[0m\u001b[0;34m\"times.npy\"\u001b[0m\u001b[0;34m,\u001b[0m \u001b[0mallow_pickle\u001b[0m\u001b[0;34m=\u001b[0m\u001b[0;32mTrue\u001b[0m\u001b[0;34m)\u001b[0m\u001b[0;34m.\u001b[0m\u001b[0mastype\u001b[0m\u001b[0;34m(\u001b[0m\u001b[0mnp\u001b[0m\u001b[0;34m.\u001b[0m\u001b[0mfloat32\u001b[0m\u001b[0;34m)\u001b[0m \u001b[0;31m### this is \\textbf{q}(t)\u001b[0m\u001b[0;34m\u001b[0m\u001b[0;34m\u001b[0m\u001b[0m\n\u001b[0;32m--> 171\u001b[0;31m     \u001b[0mstates\u001b[0m \u001b[0;34m=\u001b[0m \u001b[0mnp\u001b[0m\u001b[0;34m.\u001b[0m\u001b[0mload\u001b[0m\u001b[0;34m(\u001b[0m\u001b[0mpath\u001b[0m\u001b[0;34m+\u001b[0m\u001b[0;34m\"states.npy\"\u001b[0m\u001b[0;34m,\u001b[0m \u001b[0mallow_pickle\u001b[0m\u001b[0;34m=\u001b[0m\u001b[0;32mTrue\u001b[0m\u001b[0;34m)\u001b[0m\u001b[0;34m.\u001b[0m\u001b[0mastype\u001b[0m\u001b[0;34m(\u001b[0m\u001b[0mnp\u001b[0m\u001b[0;34m.\u001b[0m\u001b[0mfloat32\u001b[0m\u001b[0;34m)\u001b[0m \u001b[0;31m### this is \\textbf{q}(t)\u001b[0m\u001b[0;34m\u001b[0m\u001b[0;34m\u001b[0m\u001b[0m\n\u001b[0m\u001b[1;32m    172\u001b[0m     \u001b[0mcovs\u001b[0m \u001b[0;34m=\u001b[0m \u001b[0mnp\u001b[0m\u001b[0;34m.\u001b[0m\u001b[0mload\u001b[0m\u001b[0;34m(\u001b[0m\u001b[0mpath\u001b[0m\u001b[0;34m+\u001b[0m\u001b[0;34m\"covs.npy\"\u001b[0m\u001b[0;34m,\u001b[0m \u001b[0mallow_pickle\u001b[0m\u001b[0;34m=\u001b[0m\u001b[0;32mTrue\u001b[0m\u001b[0;34m)\u001b[0m\u001b[0;34m.\u001b[0m\u001b[0mastype\u001b[0m\u001b[0;34m(\u001b[0m\u001b[0mnp\u001b[0m\u001b[0;34m.\u001b[0m\u001b[0mfloat32\u001b[0m\u001b[0;34m)\u001b[0m \u001b[0;31m## this is the \\Sigma(t)\u001b[0m\u001b[0;34m\u001b[0m\u001b[0;34m\u001b[0m\u001b[0m\n\u001b[1;32m    173\u001b[0m     \u001b[0mstates1\u001b[0m \u001b[0;34m=\u001b[0m \u001b[0mnp\u001b[0m\u001b[0;34m.\u001b[0m\u001b[0mload\u001b[0m\u001b[0;34m(\u001b[0m\u001b[0mpath\u001b[0m\u001b[0;34m+\u001b[0m\u001b[0;34m\"states1.npy\"\u001b[0m\u001b[0;34m,\u001b[0m \u001b[0mallow_pickle\u001b[0m\u001b[0;34m=\u001b[0m\u001b[0;32mTrue\u001b[0m\u001b[0;34m)\u001b[0m\u001b[0;34m.\u001b[0m\u001b[0mastype\u001b[0m\u001b[0;34m(\u001b[0m\u001b[0mnp\u001b[0m\u001b[0;34m.\u001b[0m\u001b[0mfloat32\u001b[0m\u001b[0;34m)\u001b[0m \u001b[0;31m### this is \\textbf{q}(t)\u001b[0m\u001b[0;34m\u001b[0m\u001b[0;34m\u001b[0m\u001b[0m\n",
      "\u001b[0;32m~/.local/lib/python3.9/site-packages/numpy/lib/npyio.py\u001b[0m in \u001b[0;36mload\u001b[0;34m(file, mmap_mode, allow_pickle, fix_imports, encoding)\u001b[0m\n\u001b[1;32m    415\u001b[0m             \u001b[0mown_fid\u001b[0m \u001b[0;34m=\u001b[0m \u001b[0;32mFalse\u001b[0m\u001b[0;34m\u001b[0m\u001b[0;34m\u001b[0m\u001b[0m\n\u001b[1;32m    416\u001b[0m         \u001b[0;32melse\u001b[0m\u001b[0;34m:\u001b[0m\u001b[0;34m\u001b[0m\u001b[0;34m\u001b[0m\u001b[0m\n\u001b[0;32m--> 417\u001b[0;31m             \u001b[0mfid\u001b[0m \u001b[0;34m=\u001b[0m \u001b[0mstack\u001b[0m\u001b[0;34m.\u001b[0m\u001b[0menter_context\u001b[0m\u001b[0;34m(\u001b[0m\u001b[0mopen\u001b[0m\u001b[0;34m(\u001b[0m\u001b[0mos_fspath\u001b[0m\u001b[0;34m(\u001b[0m\u001b[0mfile\u001b[0m\u001b[0;34m)\u001b[0m\u001b[0;34m,\u001b[0m \u001b[0;34m\"rb\"\u001b[0m\u001b[0;34m)\u001b[0m\u001b[0;34m)\u001b[0m\u001b[0;34m\u001b[0m\u001b[0;34m\u001b[0m\u001b[0m\n\u001b[0m\u001b[1;32m    418\u001b[0m             \u001b[0mown_fid\u001b[0m \u001b[0;34m=\u001b[0m \u001b[0;32mTrue\u001b[0m\u001b[0;34m\u001b[0m\u001b[0;34m\u001b[0m\u001b[0m\n\u001b[1;32m    419\u001b[0m \u001b[0;34m\u001b[0m\u001b[0m\n",
      "\u001b[0;31mFileNotFoundError\u001b[0m: [Errno 2] No such file or directory: '../quantera/trajectories/discrimination/[[1.0, 0, 20, 1.0, 1.0], [0.3, 0, 2, 1.0, 1.0]]/1itraj/rossler_real_traj_method/50periods/1000ppp/1rppp/states.npy'"
     ]
    }
   ],
   "source": [
    "alpha = 0\n",
    "beta = 0\n",
    "\n",
    "for itraj in tqdm(range(1,10)):\n",
    "\n",
    "    pars = give_def_params_discrimination(h1true=1)\n",
    "    params, exp_path = check_params(pars)\n",
    "    \n",
    "    times, l0, l1, states, states1, signals, covs, covs1 = load_data(exp_path = exp_path, periods = 50, ppp=1000, itraj=itraj)\n",
    "    log_lik_ratio = l0-l1\n",
    "\n",
    "    bools = np.logical_and(log_lik_ratio <= b(ep1), a(ep0) <= log_lik_ratio)\n",
    "    indi = np.argmin(bools)\n",
    "\n",
    "    h1 = log_lik_ratio[indi] >= b(ep1)\n",
    "    h0 = log_lik_ratio[indi] <= a(ep0)\n",
    "    \n",
    "    alpha += h0"
   ]
  },
  {
   "cell_type": "code",
   "execution_count": null,
   "id": "a7051b8e",
   "metadata": {},
   "outputs": [],
   "source": []
  }
 ],
 "metadata": {
  "kernelspec": {
   "display_name": "Python 3",
   "language": "python",
   "name": "python3"
  },
  "language_info": {
   "codemirror_mode": {
    "name": "ipython",
    "version": 3
   },
   "file_extension": ".py",
   "mimetype": "text/x-python",
   "name": "python",
   "nbconvert_exporter": "python",
   "pygments_lexer": "ipython3",
   "version": "3.6.9"
  }
 },
 "nbformat": 4,
 "nbformat_minor": 5
}
