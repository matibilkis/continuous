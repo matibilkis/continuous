{
 "cells": [
  {
   "cell_type": "code",
   "execution_count": 1,
   "id": "1e252baa-0261-4337-9f9a-ce28c1896ea3",
   "metadata": {},
   "outputs": [],
   "source": [
    "import os \n",
    "os.chdir(\"..\")\n"
   ]
  },
  {
   "cell_type": "code",
   "execution_count": 5,
   "id": "fd3f384b-641c-41b2-a4e8-3500ee23c5a7",
   "metadata": {},
   "outputs": [
    {
     "name": "stdout",
     "output_type": "stream",
     "text": [
      "The autoreload extension is already loaded. To reload it, use:\n",
      "  %reload_ext autoreload\n"
     ]
    }
   ],
   "source": [
    "%load_ext autoreload\n",
    "%autoreload 2\n",
    "from numerics.integration.steps import *\n",
    "import numpy as np\n",
    "import matplotlib.pyplot as plt\n",
    "from tqdm import tqdm\n",
    "from numerics.utilities.misc import *\n",
    "import time\n",
    "from scipy.special import erf\n",
    "import pickle\n"
   ]
  },
  {
   "cell_type": "code",
   "execution_count": 10,
   "id": "57ac9db0-9edb-4fa6-8564-e693049f6f55",
   "metadata": {},
   "outputs": [],
   "source": [
    "log_lik_ratio, log_lik_ratio_swap = load_liks(itraj, mode=mode, dtt=dtt, total_time=total_time)"
   ]
  },
  {
   "cell_type": "code",
   "execution_count": 13,
   "id": "7737d2f3-b3fc-4af8-b55c-d026ccaa4979",
   "metadata": {},
   "outputs": [
    {
     "name": "stderr",
     "output_type": "stream",
     "text": [
      "  0%|          | 0/999 [00:00<?, ?it/s]\n"
     ]
    },
    {
     "ename": "NameError",
     "evalue": "name 'times' is not defined",
     "output_type": "error",
     "traceback": [
      "\u001b[0;31m---------------------------------------------------------------------------\u001b[0m",
      "\u001b[0;31mNameError\u001b[0m                                 Traceback (most recent call last)",
      "\u001b[0;32m<ipython-input-13-fae64bdc65bd>\u001b[0m in \u001b[0;36m<module>\u001b[0;34m\u001b[0m\n\u001b[1;32m     46\u001b[0m \u001b[0;34m\u001b[0m\u001b[0m\n\u001b[1;32m     47\u001b[0m     \u001b[0;32mfor\u001b[0m \u001b[0mindb\u001b[0m\u001b[0;34m,\u001b[0m\u001b[0mb\u001b[0m \u001b[0;32min\u001b[0m \u001b[0menumerate\u001b[0m\u001b[0;34m(\u001b[0m\u001b[0mboundsB\u001b[0m\u001b[0;34m)\u001b[0m\u001b[0;34m:\u001b[0m\u001b[0;34m\u001b[0m\u001b[0;34m\u001b[0m\u001b[0m\n\u001b[0;32m---> 48\u001b[0;31m         \u001b[0mstop\u001b[0m\u001b[0;34m[\u001b[0m\u001b[0;34m\"_1\"\u001b[0m\u001b[0;34m]\u001b[0m\u001b[0;34m[\u001b[0m\u001b[0mitraj\u001b[0m\u001b[0;34m]\u001b[0m\u001b[0;34m.\u001b[0m\u001b[0mappend\u001b[0m\u001b[0;34m(\u001b[0m\u001b[0mget_stop_time\u001b[0m\u001b[0;34m(\u001b[0m\u001b[0mlog_lik_ratio\u001b[0m\u001b[0;34m,\u001b[0m \u001b[0mb\u001b[0m\u001b[0;34m)\u001b[0m\u001b[0;34m)\u001b[0m\u001b[0;34m\u001b[0m\u001b[0;34m\u001b[0m\u001b[0m\n\u001b[0m\u001b[1;32m     49\u001b[0m         \u001b[0mstop\u001b[0m\u001b[0;34m[\u001b[0m\u001b[0;34m\"_0\"\u001b[0m\u001b[0;34m]\u001b[0m\u001b[0;34m[\u001b[0m\u001b[0mitraj\u001b[0m\u001b[0;34m]\u001b[0m\u001b[0;34m.\u001b[0m\u001b[0mappend\u001b[0m\u001b[0;34m(\u001b[0m\u001b[0mget_stop_time\u001b[0m\u001b[0;34m(\u001b[0m\u001b[0mlog_lik_ratio_swap\u001b[0m\u001b[0;34m,\u001b[0m \u001b[0mb\u001b[0m\u001b[0;34m)\u001b[0m\u001b[0;34m)\u001b[0m\u001b[0;34m\u001b[0m\u001b[0;34m\u001b[0m\u001b[0m\n\u001b[1;32m     50\u001b[0m \u001b[0;34m\u001b[0m\u001b[0m\n",
      "\u001b[0;32m~/continuous/numerics/utilities/misc.py\u001b[0m in \u001b[0;36mget_stop_time\u001b[0;34m(ell, b)\u001b[0m\n\u001b[1;32m    120\u001b[0m     \u001b[0;32melse\u001b[0m\u001b[0;34m:\u001b[0m\u001b[0;34m\u001b[0m\u001b[0;34m\u001b[0m\u001b[0m\n\u001b[1;32m    121\u001b[0m         \u001b[0mind_times\u001b[0m \u001b[0;34m=\u001b[0m \u001b[0mnp\u001b[0m\u001b[0;34m.\u001b[0m\u001b[0margmin\u001b[0m\u001b[0;34m(\u001b[0m\u001b[0mlogicals\u001b[0m\u001b[0;34m)\u001b[0m\u001b[0;34m\u001b[0m\u001b[0;34m\u001b[0m\u001b[0m\n\u001b[0;32m--> 122\u001b[0;31m         \u001b[0;32mreturn\u001b[0m \u001b[0mtimes\u001b[0m\u001b[0;34m[\u001b[0m\u001b[0mind_times\u001b[0m\u001b[0;34m]\u001b[0m\u001b[0;34m\u001b[0m\u001b[0;34m\u001b[0m\u001b[0m\n\u001b[0m\u001b[1;32m    123\u001b[0m \u001b[0;34m\u001b[0m\u001b[0m\n\u001b[1;32m    124\u001b[0m \u001b[0;34m\u001b[0m\u001b[0m\n",
      "\u001b[0;31mNameError\u001b[0m: name 'times' is not defined"
     ]
    }
   ],
   "source": [
    "\n",
    "mode = \"frequencies\"\n",
    "pars = give_def_params_discrimination(flip=0, mode = mode)\n",
    "params, exp_path = check_params_discrimination(pars)\n",
    "[gamma1, omega1, n1, eta1, kappa1], [gamma0, omega0, n0, eta0, kappa0] = params\n",
    "\n",
    "dtt = 1e-6\n",
    "total_time = 50\n",
    "\n",
    "total_time, dt = get_total_time_dt(params, dt=dtt, total_time=total_time)\n",
    "times = np.arange(0, total_time+ dt, dt)\n",
    "\n",
    "\n",
    "Ntraj = 1000\n",
    "boundsB= np.arange(.1,4.5,1.)\n",
    "\n",
    "\n",
    "stop = {}\n",
    "stop[\"_0\"] = {i:[] for i in range(1,Ntraj)}\n",
    "stop[\"_1\"] = {i:[] for i in range(1,Ntraj)}\n",
    "\n",
    "\n",
    "indis = np.logspace(2,np.log10(len(times)-1), 100)\n",
    "indis = [int(k) for k in indis]\n",
    "timind = [times[ind] for ind in indis]\n",
    "\n",
    "er=[]\n",
    "deter = {}\n",
    "deter[\"h0/h1\"] = {indb:[0]*len(indis) for indb in range(len(boundsB))}\n",
    "deter[\"h1/h0\"] = {indb:[0]*len(indis) for indb in range(len(boundsB))}\n",
    "\n",
    "l0,l1 = np.zeros((2,len(times)+1))\n",
    "\n",
    "indis = np.logspace(2,np.log10(len(times)-1), 100)\n",
    "indis = [int(k) for k in indis]\n",
    "timind = [times[ind] for ind in indis]\n",
    "\n",
    "\n",
    "\n",
    "n=1\n",
    "ers = []\n",
    "for itraj in tqdm(range(1,Ntraj)):\n",
    "    #try:\n",
    "\n",
    "    log_lik_ratio, log_lik_ratio_swap = load_liks(itraj, mode=mode, dtt=dtt, total_time=total_time)\n",
    "\n",
    "    for indb,b in enumerate(boundsB):\n",
    "        stop[\"_1\"][itraj].append(get_stop_time(log_lik_ratio, b, times))\n",
    "        stop[\"_0\"][itraj].append(get_stop_time(log_lik_ratio_swap, b, times))\n",
    "\n",
    "        for ind, time_index in enumerate(indis):\n",
    "            deter_1 = log_lik_ratio[time_index] < b\n",
    "            deter_0 = log_lik_ratio_swap[time_index] > b\n",
    "            deter[\"h0/h1\"][indb][ind] +=  (int(deter_1) - deter[\"h0/h1\"][indb][ind] )/n\n",
    "            deter[\"h1/h0\"][indb][ind] += (int(deter_0) - deter[\"h1/h0\"][indb][ind])/n\n",
    "    l1= l1 + log_lik_ratio\n",
    "    l0 = l0 +log_lik_ratio_swap\n",
    "    n+=1\n",
    "    #except Exception:\n",
    "    #    ers.append(itraj)\n",
    "l0/=(Ntraj - len(ers))\n",
    "l1/=(Ntraj - len(ers))"
   ]
  },
  {
   "cell_type": "code",
   "execution_count": 7,
   "id": "9bdf1a67-26b6-4b39-940f-7bd88f1e34da",
   "metadata": {},
   "outputs": [
    {
     "ename": "IndexError",
     "evalue": "too many indices for array",
     "output_type": "error",
     "traceback": [
      "\u001b[0;31m---------------------------------------------------------------------------\u001b[0m",
      "\u001b[0;31mIndexError\u001b[0m                                Traceback (most recent call last)",
      "\u001b[0;32m<ipython-input-7-3534913ad16a>\u001b[0m in \u001b[0;36m<module>\u001b[0;34m\u001b[0m\n\u001b[1;32m     12\u001b[0m \u001b[0;32mfor\u001b[0m \u001b[0mindb\u001b[0m\u001b[0;34m,\u001b[0m \u001b[0mb\u001b[0m \u001b[0;32min\u001b[0m \u001b[0menumerate\u001b[0m\u001b[0;34m(\u001b[0m\u001b[0mboundsB\u001b[0m\u001b[0;34m)\u001b[0m\u001b[0;34m:\u001b[0m\u001b[0;34m\u001b[0m\u001b[0;34m\u001b[0m\u001b[0m\n\u001b[1;32m     13\u001b[0m \u001b[0;34m\u001b[0m\u001b[0m\n\u001b[0;32m---> 14\u001b[0;31m     \u001b[0mcounts\u001b[0m\u001b[0;34m,\u001b[0m \u001b[0mbins\u001b[0m \u001b[0;34m=\u001b[0m \u001b[0mnp\u001b[0m\u001b[0;34m.\u001b[0m\u001b[0mhistogram\u001b[0m\u001b[0;34m(\u001b[0m\u001b[0mstops\u001b[0m\u001b[0;34m[\u001b[0m\u001b[0;34m:\u001b[0m\u001b[0;34m,\u001b[0m\u001b[0mindb\u001b[0m\u001b[0;34m]\u001b[0m\u001b[0;34m,\u001b[0m \u001b[0;36m50\u001b[0m\u001b[0;34m,\u001b[0m \u001b[0mnormed\u001b[0m\u001b[0;34m=\u001b[0m\u001b[0;32mTrue\u001b[0m\u001b[0;34m)\u001b[0m\u001b[0;34m\u001b[0m\u001b[0;34m\u001b[0m\u001b[0m\n\u001b[0m\u001b[1;32m     15\u001b[0m     \u001b[0mtimms\u001b[0m \u001b[0;34m=\u001b[0m \u001b[0mnp\u001b[0m\u001b[0;34m.\u001b[0m\u001b[0mlinspace\u001b[0m\u001b[0;34m(\u001b[0m\u001b[0;36m0\u001b[0m\u001b[0;34m,\u001b[0m\u001b[0mnp\u001b[0m\u001b[0;34m.\u001b[0m\u001b[0mmax\u001b[0m\u001b[0;34m(\u001b[0m\u001b[0mbins\u001b[0m\u001b[0;34m)\u001b[0m\u001b[0;34m,\u001b[0m \u001b[0;36m100\u001b[0m\u001b[0;34m)\u001b[0m\u001b[0;34m\u001b[0m\u001b[0;34m\u001b[0m\u001b[0m\n\u001b[1;32m     16\u001b[0m     \u001b[0mgp1\u001b[0m \u001b[0;34m=\u001b[0m\u001b[0;34m[\u001b[0m\u001b[0mprob\u001b[0m\u001b[0;34m(\u001b[0m\u001b[0mt\u001b[0m\u001b[0;34m,\u001b[0m \u001b[0mb\u001b[0m\u001b[0;34m,\u001b[0m \u001b[0mkappa0\u001b[0m\u001b[0;34m,\u001b[0m \u001b[0mkappa1\u001b[0m\u001b[0;34m,\u001b[0m \u001b[0meta0\u001b[0m \u001b[0;34m,\u001b[0m \u001b[0meta1\u001b[0m\u001b[0;34m,\u001b[0m \u001b[0mn0\u001b[0m\u001b[0;34m,\u001b[0m \u001b[0mn1\u001b[0m\u001b[0;34m,\u001b[0m \u001b[0mgamma0\u001b[0m\u001b[0;34m,\u001b[0m \u001b[0mgamma1\u001b[0m\u001b[0;34m)\u001b[0m\u001b[0;34m[\u001b[0m\u001b[0;36m0\u001b[0m\u001b[0;34m]\u001b[0m \u001b[0;32mfor\u001b[0m \u001b[0mt\u001b[0m \u001b[0;32min\u001b[0m \u001b[0mtimms\u001b[0m\u001b[0;34m]\u001b[0m\u001b[0;34m\u001b[0m\u001b[0;34m\u001b[0m\u001b[0m\n",
      "\u001b[0;31mIndexError\u001b[0m: too many indices for array"
     ]
    }
   ],
   "source": [
    "stops = []\n",
    "for k in stop[\"_1\"].values():\n",
    "    if len(k) != 0:\n",
    "        stops.append(k)\n",
    "stops = np.squeeze(stops)\n",
    "\n",
    "\n",
    "cons = []\n",
    "anals = []\n",
    "timbin = []\n",
    "timanals = []\n",
    "for indb, b in enumerate(boundsB):\n",
    "\n",
    "    counts, bins = np.histogram(stops[:,indb], 50, normed=True)\n",
    "    timms = np.linspace(0,np.max(bins), 100)\n",
    "    gp1 =[prob(t, b, kappa0, kappa1, eta0 , eta1, n0, n1, gamma0, gamma1)[0] for t in timms]\n",
    "    timbins = .5*(bins[1:] + bins[:-1])\n",
    "    cons.append(counts)\n",
    "    anals.append(gp1)\n",
    "    timbin.append(timbins)\n",
    "    timanals.append(timms)"
   ]
  },
  {
   "cell_type": "code",
   "execution_count": null,
   "id": "c4e8b0af-b44a-46b3-bc7b-92e2a5366fa1",
   "metadata": {},
   "outputs": [],
   "source": []
  }
 ],
 "metadata": {
  "kernelspec": {
   "display_name": "qenv_bilkis",
   "language": "python",
   "name": "qenv_bilkis"
  },
  "language_info": {
   "codemirror_mode": {
    "name": "ipython",
    "version": 3
   },
   "file_extension": ".py",
   "mimetype": "text/x-python",
   "name": "python",
   "nbconvert_exporter": "python",
   "pygments_lexer": "ipython3",
   "version": "3.6.8"
  }
 },
 "nbformat": 4,
 "nbformat_minor": 5
}
