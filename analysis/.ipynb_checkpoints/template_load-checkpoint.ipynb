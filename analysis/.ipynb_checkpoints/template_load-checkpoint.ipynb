{
 "cells": [
  {
   "cell_type": "code",
   "execution_count": 1,
   "id": "f49f572a",
   "metadata": {},
   "outputs": [],
   "source": [
    "%load_ext autoreload\n",
    "%autoreload 2\n",
    "\n",
    "import os \n",
    "os.chdir(\"..\")\n"
   ]
  },
  {
   "cell_type": "code",
   "execution_count": 18,
   "id": "24cb929c",
   "metadata": {},
   "outputs": [],
   "source": [
    "from numerics.utilities.misc import * \n",
    "import matplotlib.pyplot as plt "
   ]
  },
  {
   "cell_type": "code",
   "execution_count": 8,
   "id": "e5ca8c2f",
   "metadata": {},
   "outputs": [],
   "source": [
    "\n",
    "params, exp_path = def_params()"
   ]
  },
  {
   "cell_type": "code",
   "execution_count": 22,
   "id": "1f6fecc7",
   "metadata": {},
   "outputs": [],
   "source": [
    "\n",
    "def load(itraj = 1,total_time = 50., dt = 1e-3, exp_path=\"\"):\n",
    "    pp = get_path_config(total_time=total_time, dt=dt, itraj=itraj, exp_path = exp_path)\n",
    "    states = np.load(pp+\"states.npy\")\n",
    "    dys = np.load(pp+\"dys.npy\")\n",
    "    return states, dys"
   ]
  },
  {
   "cell_type": "code",
   "execution_count": 25,
   "id": "a286f1e3",
   "metadata": {},
   "outputs": [],
   "source": [
    "states, dys = load(itraj=1, exp_path=exp_path, total_time=4, dt=1e-3)"
   ]
  },
  {
   "cell_type": "code",
   "execution_count": 26,
   "id": "841accf9",
   "metadata": {},
   "outputs": [
    {
     "data": {
      "text/plain": [
       "[<matplotlib.lines.Line2D at 0x7f732158f460>,\n",
       " <matplotlib.lines.Line2D at 0x7f732158f4c0>]"
      ]
     },
     "execution_count": 26,
     "metadata": {},
     "output_type": "execute_result"
    },
    {
     "data": {
      "image/png": "[encoded data removed]",
      "text/plain": [
       "<Figure size 432x288 with 1 Axes>"
      ]
     },
     "metadata": {
      "needs_background": "light"
     },
     "output_type": "display_data"
    }
   ],
   "source": [
    "plt.plot(states)"
   ]
  },
  {
   "cell_type": "code",
   "execution_count": null,
   "id": "3cf7636e",
   "metadata": {},
   "outputs": [],
   "source": []
  }
 ],
 "metadata": {
  "kernelspec": {
   "display_name": "Python 3 (ipykernel)",
   "language": "python",
   "name": "python3"
  },
  "language_info": {
   "codemirror_mode": {
    "name": "ipython",
    "version": 3
   },
   "file_extension": ".py",
   "mimetype": "text/x-python",
   "name": "python",
   "nbconvert_exporter": "python",
   "pygments_lexer": "ipython3",
   "version": "3.10.4"
  }
 },
 "nbformat": 4,
 "nbformat_minor": 5
}
