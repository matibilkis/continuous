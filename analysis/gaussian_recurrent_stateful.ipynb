{
 "cells": [
  {
   "cell_type": "code",
   "execution_count": 1,
   "metadata": {},
   "outputs": [],
   "source": [
    "%load_ext autoreload\n",
    "%autoreload 2\n",
    "\n",
    "import os \n",
    "os.chdir(\"..\")\n",
    "\n",
    "from numerics.utilities.misc import * \n",
    "import matplotlib.pyplot as plt \n",
    "import tensorflow as tf \n",
    "from numerics.integration.matrices import *\n",
    "from numerics.machine_learning.models import * "
   ]
  },
  {
   "cell_type": "code",
   "execution_count": 28,
   "metadata": {},
   "outputs": [],
   "source": [
    "params, exp_path = def_params()\n",
    "total_time = 100.\n",
    "dt = 1e-4\n",
    "states_si, dys_si = load(itraj=1, exp_path=exp_path, total_time=total_time, dt=dt, ext_signal=1)\n",
    "#tfsignals = tf.convert_to_tensor(dys_si.astype(np.float32)[tf.newaxis])\n",
    "times = get_time(total_time,dt).astype(np.float32)\n",
    "dd = tf.unstack(dys_si.astype(np.float32),axis=1)\n",
    "\n",
    "tfsignals = tf.stack([times[:-1],dd[0], dd[1]])\n",
    "tfsignals = tf.transpose(tfsignals)[tf.newaxis]\n",
    "\n",
    "multipdt = int(1e0)\n",
    "tfsignals = tfsignals[:,::multipdt,:]\n",
    "tfsignals = tfsignals[:,0:int(1e4),:]\n",
    "\n",
    "\n",
    "A, D , E, B  = genoni_matrices(*params)\n",
    "xicov, covss = genoni_xi_cov(A,D, E, B ,params, stat=True)\n",
    "\n",
    "initial_parameters = np.array([9.5, 2*np.pi/10]).astype(np.float32)\n",
    "true_parameters = np.array([10., 2*np.pi/10]).astype(np.float32)"
   ]
  },
  {
   "cell_type": "code",
   "execution_count": 31,
   "metadata": {},
   "outputs": [],
   "source": [
    "BS = 1\n",
    "model = Model(params=params, dt=multipdt*dt, initial_parameters=initial_parameters, true_parameters=true_parameters, cov_in=covss, batch_size=(BS,None,2))\n",
    "model.recurrent_layer.build(tf.TensorShape([1,None,3]))\n",
    "model.compile(optimizer=tf.keras.optimizers.Adam(learning_rate=1e-2))"
   ]
  },
  {
   "cell_type": "code",
   "execution_count": 32,
   "metadata": {},
   "outputs": [
    {
     "name": "stdout",
     "output_type": "stream",
     "text": [
      "Epoch 1/50\n",
      "1/1 [==============================] - 1s 1s/step - LOSS: 1.0111 - PARAMS: 5.0691 - GRADS: -1.3177e-04\n",
      "Epoch 2/50\n",
      "1/1 [==============================] - 1s 1s/step - LOSS: 1.0137 - PARAMS: 5.0671 - GRADS: 2.8854e-04\n",
      "Epoch 3/50\n",
      "1/1 [==============================] - 1s 975ms/step - LOSS: 1.0217 - PARAMS: 5.0636 - GRADS: 5.7029e-04\n",
      "Epoch 4/50\n",
      "1/1 [==============================] - 1s 939ms/step - LOSS: 1.0299 - PARAMS: 5.0595 - GRADS: 7.5875e-04\n",
      "Epoch 5/50\n",
      "1/1 [==============================] - 1s 1s/step - LOSS: 1.0367 - PARAMS: 5.0551 - GRADS: 8.8457e-04\n",
      "Epoch 6/50\n",
      "1/1 [==============================] - 1s 1s/step - LOSS: 1.0417 - PARAMS: 5.0505 - GRADS: 9.6834e-04\n",
      "Epoch 7/50\n",
      "1/1 [==============================] - 1s 1s/step - LOSS: 1.0453 - PARAMS: 5.0458 - GRADS: 0.0010\n",
      "Epoch 8/50\n",
      "1/1 [==============================] - 1s 1s/step - LOSS: 1.0478 - PARAMS: 5.0409 - GRADS: 0.0011\n",
      "Epoch 9/50\n",
      "1/1 [==============================] - 1s 946ms/step - LOSS: 1.0495 - PARAMS: 5.0360 - GRADS: 0.0011\n",
      "Epoch 10/50\n",
      "1/1 [==============================] - 1s 986ms/step - LOSS: 1.0506 - PARAMS: 5.0309 - GRADS: 0.0011\n",
      "Epoch 11/50\n",
      "1/1 [==============================] - 1s 1s/step - LOSS: 1.0513 - PARAMS: 5.0259 - GRADS: 0.0011\n",
      "Epoch 12/50\n",
      "1/1 [==============================] - 1s 937ms/step - LOSS: 1.0517 - PARAMS: 5.0207 - GRADS: 0.0011\n",
      "Epoch 13/50\n",
      "1/1 [==============================] - 1s 957ms/step - LOSS: 1.0520 - PARAMS: 5.0156 - GRADS: 0.0011\n",
      "Epoch 14/50\n",
      "1/1 [==============================] - 1s 1s/step - LOSS: 1.0521 - PARAMS: 5.0104 - GRADS: 0.0011\n",
      "Epoch 15/50\n",
      "1/1 [==============================] - 1s 984ms/step - LOSS: 1.0521 - PARAMS: 5.0052 - GRADS: 0.0011\n",
      "Epoch 16/50\n",
      "1/1 [==============================] - 1s 986ms/step - LOSS: 1.0521 - PARAMS: 4.9999 - GRADS: 0.0011\n",
      "Epoch 17/50\n",
      "1/1 [==============================] - 1s 1s/step - LOSS: 1.0520 - PARAMS: 4.9947 - GRADS: 0.0011\n",
      "Epoch 18/50\n",
      "1/1 [==============================] - 1s 1s/step - LOSS: 1.0520 - PARAMS: 4.9894 - GRADS: 0.0011\n",
      "Epoch 19/50\n",
      "1/1 [==============================] - 1s 1000ms/step - LOSS: 1.0519 - PARAMS: 4.9841 - GRADS: 0.0011\n",
      "Epoch 20/50\n",
      "1/1 [==============================] - 1s 1s/step - LOSS: 1.0517 - PARAMS: 4.9789 - GRADS: 0.0011\n",
      "Epoch 21/50\n",
      "1/1 [==============================] - 1s 1s/step - LOSS: 1.0516 - PARAMS: 4.9736 - GRADS: 0.0011\n",
      "Epoch 22/50\n",
      "1/1 [==============================] - 1s 954ms/step - LOSS: 1.0515 - PARAMS: 4.9683 - GRADS: 0.0011\n",
      "Epoch 23/50\n",
      "1/1 [==============================] - 1s 1s/step - LOSS: 1.0514 - PARAMS: 4.9630 - GRADS: 0.0011\n",
      "Epoch 24/50\n",
      "1/1 [==============================] - 1s 977ms/step - LOSS: 1.0512 - PARAMS: 4.9577 - GRADS: 0.0011\n",
      "Epoch 25/50\n",
      "1/1 [==============================] - 1s 990ms/step - LOSS: 1.0511 - PARAMS: 4.9525 - GRADS: 0.0011\n",
      "Epoch 26/50\n",
      "1/1 [==============================] - 1s 1s/step - LOSS: 1.0509 - PARAMS: 4.9472 - GRADS: 0.0011\n",
      "Epoch 27/50\n",
      "1/1 [==============================] - 1s 1s/step - LOSS: 1.0508 - PARAMS: 4.9419 - GRADS: 0.0011\n",
      "Epoch 28/50\n",
      "1/1 [==============================] - 1s 1s/step - LOSS: 1.0507 - PARAMS: 4.9367 - GRADS: 0.0011\n",
      "Epoch 29/50\n",
      "1/1 [==============================] - 1s 983ms/step - LOSS: 1.0505 - PARAMS: 4.9314 - GRADS: 0.0011\n",
      "Epoch 30/50\n",
      "1/1 [==============================] - 1s 1s/step - LOSS: 1.0504 - PARAMS: 4.9261 - GRADS: 0.0011\n",
      "Epoch 31/50\n",
      "1/1 [==============================] - 1s 992ms/step - LOSS: 1.0503 - PARAMS: 4.9209 - GRADS: 0.0011\n",
      "Epoch 32/50\n",
      "1/1 [==============================] - 1s 1s/step - LOSS: 1.0501 - PARAMS: 4.9157 - GRADS: 0.0011\n",
      "Epoch 33/50\n",
      "1/1 [==============================] - 1s 1s/step - LOSS: 1.0500 - PARAMS: 4.9104 - GRADS: 0.0011\n",
      "Epoch 34/50\n",
      "1/1 [==============================] - 1s 1s/step - LOSS: 1.0498 - PARAMS: 4.9052 - GRADS: 0.0011\n",
      "Epoch 35/50\n",
      "1/1 [==============================] - 1s 1s/step - LOSS: 1.0497 - PARAMS: 4.9000 - GRADS: 0.0011\n",
      "Epoch 36/50\n",
      "1/1 [==============================] - 1s 1s/step - LOSS: 1.0496 - PARAMS: 4.8948 - GRADS: 0.0011\n",
      "Epoch 37/50\n",
      "1/1 [==============================] - 1s 1s/step - LOSS: 1.0494 - PARAMS: 4.8896 - GRADS: 0.0011\n",
      "Epoch 38/50\n",
      "1/1 [==============================] - 1s 1s/step - LOSS: 1.0493 - PARAMS: 4.8844 - GRADS: 0.0011\n",
      "Epoch 39/50\n",
      "1/1 [==============================] - 1s 990ms/step - LOSS: 1.0492 - PARAMS: 4.8792 - GRADS: 0.0011\n",
      "Epoch 40/50\n",
      "1/1 [==============================] - 1s 972ms/step - LOSS: 1.0490 - PARAMS: 4.8740 - GRADS: 0.0011\n",
      "Epoch 41/50\n",
      "1/1 [==============================] - 1s 1s/step - LOSS: 1.0489 - PARAMS: 4.8689 - GRADS: 0.0011\n",
      "Epoch 42/50\n",
      "1/1 [==============================] - 1s 1s/step - LOSS: 1.0488 - PARAMS: 4.8637 - GRADS: 0.0011\n",
      "Epoch 43/50\n",
      "1/1 [==============================] - 1s 1s/step - LOSS: 1.0486 - PARAMS: 4.8586 - GRADS: 0.0011\n",
      "Epoch 44/50\n",
      "1/1 [==============================] - 1s 1s/step - LOSS: 1.0485 - PARAMS: 4.8534 - GRADS: 0.0011\n",
      "Epoch 45/50\n",
      "1/1 [==============================] - 1s 998ms/step - LOSS: 1.0484 - PARAMS: 4.8483 - GRADS: 0.0011\n",
      "Epoch 46/50\n",
      "1/1 [==============================] - 1s 986ms/step - LOSS: 1.0482 - PARAMS: 4.8432 - GRADS: 0.0011\n",
      "Epoch 47/50\n",
      "1/1 [==============================] - 1s 984ms/step - LOSS: 1.0481 - PARAMS: 4.8381 - GRADS: 0.0011\n",
      "Epoch 48/50\n",
      "1/1 [==============================] - 1s 1s/step - LOSS: 1.0480 - PARAMS: 4.8330 - GRADS: 0.0011\n",
      "Epoch 49/50\n",
      "1/1 [==============================] - 1s 974ms/step - LOSS: 1.0479 - PARAMS: 4.8279 - GRADS: 0.0011\n",
      "Epoch 50/50\n",
      "1/1 [==============================] - 1s 975ms/step - LOSS: 1.0477 - PARAMS: 4.8228 - GRADS: 0.0011\n"
     ]
    }
   ],
   "source": [
    "history = model.fit(x=tfsignals, y=tfsignals, epochs=50, batch_size=1, shuffle=False,)"
   ]
  },
  {
   "cell_type": "code",
   "execution_count": 33,
   "metadata": {},
   "outputs": [
    {
     "data": {
      "text/plain": [
       "[<matplotlib.lines.Line2D at 0x7fa314646130>]"
      ]
     },
     "execution_count": 33,
     "metadata": {},
     "output_type": "execute_result"
    },
    {
     "data": {
      "image/png": "[encoded data removed]",
      "text/plain": [
       "<Figure size 432x288 with 1 Axes>"
      ]
     },
     "metadata": {
      "needs_background": "light"
     },
     "output_type": "display_data"
    }
   ],
   "source": [
    "plt.plot(np.squeeze(history.history[\"PARAMS\"])[:,0])"
   ]
  },
  {
   "cell_type": "code",
   "execution_count": 2,
   "metadata": {},
   "outputs": [
    {
     "data": {
      "text/plain": [
       "[PhysicalDevice(name='/physical_device:GPU:0', device_type='GPU')]"
      ]
     },
     "execution_count": 2,
     "metadata": {},
     "output_type": "execute_result"
    }
   ],
   "source": [
    "tf.config.list_physical_devices('GPU')"
   ]
  },
  {
   "cell_type": "code",
   "execution_count": 7,
   "metadata": {},
   "outputs": [
    {
     "name": "stdout",
     "output_type": "stream",
     "text": [
      "Please install GPU version of TF\n"
     ]
    }
   ],
   "source": [
    "if tf.test.gpu_device_name():\n",
    "    print('Default GPU Device: {}'.format(tf.test.gpu_device_name()))\n",
    "else:\n",
    "    print(\"Please install GPU version of TF\")"
   ]
  },
  {
   "cell_type": "code",
   "execution_count": null,
   "metadata": {},
   "outputs": [],
   "source": []
  }
 ],
 "metadata": {
  "kernelspec": {
   "display_name": "Python 3",
   "language": "python",
   "name": "python3"
  },
  "language_info": {
   "codemirror_mode": {
    "name": "ipython",
    "version": 3
   },
   "file_extension": ".py",
   "mimetype": "text/x-python",
   "name": "python",
   "nbconvert_exporter": "python",
   "pygments_lexer": "ipython3",
   "version": "3.8.10"
  }
 },
 "nbformat": 4,
 "nbformat_minor": 5
}
