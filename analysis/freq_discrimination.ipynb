{
 "cells": [
  {
   "cell_type": "code",
   "execution_count": 2,
   "id": "1951c08f-0317-4a48-ad4b-d791895bd796",
   "metadata": {},
   "outputs": [],
   "source": [
    "import os \n",
    "os.chdir(\"..\")\n"
   ]
  },
  {
   "cell_type": "code",
   "execution_count": 32,
   "id": "433e2d4a-53c1-47d2-80e4-3b3aded226b4",
   "metadata": {},
   "outputs": [
    {
     "name": "stdout",
     "output_type": "stream",
     "text": [
      "The autoreload extension is already loaded. To reload it, use:\n",
      "  %reload_ext autoreload\n"
     ]
    }
   ],
   "source": [
    "%load_ext autoreload\n",
    "%autoreload 2\n",
    "from numerics.integration.steps import *\n",
    "import numpy as np\n",
    "import matplotlib.pyplot as plt\n",
    "from tqdm import tqdm\n",
    "from numerics.utilities.misc import *\n",
    "\n"
   ]
  },
  {
   "cell_type": "code",
   "execution_count": 34,
   "id": "88b520bf-8009-4f6d-a649-d75be4cc8fa0",
   "metadata": {},
   "outputs": [],
   "source": [
    "params = give_def_params()\n",
    "params, exp_path = check_params(params)\n",
    "[eta, gamma, kappa, omega, n] = params\n",
    "\n"
   ]
  },
  {
   "cell_type": "code",
   "execution_count": 44,
   "id": "9e5ca5ce-f3b5-4339-80e9-4875fa27236d",
   "metadata": {},
   "outputs": [
    {
     "name": "stdout",
     "output_type": "stream",
     "text": [
      "FREQUENCY DISCRIMINATION!\n",
      "\n"
     ]
    }
   ],
   "source": [
    "pars = give_def_params_discrimination(flip=0, mode=\"frequencies\") ## H0 is the true hypothesis\n",
    "params, exp_path = check_params(pars)\n",
    "\n",
    "total_time, dt = get_total_time_dt(params, ppp=1e4)\n",
    "\n",
    "times, logliks, states1, states0, signals, covs1, covs0 =load_data_discrimination(itraj=10, total_time = total_time, dt=dt, exp_path = exp_path)"
   ]
  },
  {
   "cell_type": "code",
   "execution_count": 56,
   "id": "24b658de-8097-42e5-ae7d-fedc72ebf0dd",
   "metadata": {},
   "outputs": [
    {
     "data": {
      "text/plain": [
       "array([ 0.0000000e+00,  1.4927807e-01,  9.7197413e-01, -2.5537089e+05,\n",
       "        2.4492620e+15, -1.5947105e+37,            inf,            inf,\n",
       "                  nan,            nan,            nan,            nan,\n",
       "                  nan,            nan,            nan,            nan,\n",
       "                  nan,            nan,            nan,            nan,\n",
       "                  nan,            nan,            nan,            nan,\n",
       "                  nan,            nan,            nan,            nan,\n",
       "                  nan,            nan,            nan,            nan,\n",
       "                  nan,            nan,            nan,            nan,\n",
       "                  nan,            nan,            nan,            nan,\n",
       "                  nan,            nan,            nan,            nan,\n",
       "                  nan,            nan,            nan,            nan,\n",
       "                  nan,            nan,            nan,            nan,\n",
       "                  nan,            nan,            nan,            nan,\n",
       "                  nan,            nan,            nan,            nan,\n",
       "                  nan,            nan,            nan,            nan,\n",
       "                  nan,            nan,            nan,            nan,\n",
       "                  nan,            nan,            nan,            nan,\n",
       "                  nan,            nan,            nan,            nan,\n",
       "                  nan,            nan,            nan,            nan,\n",
       "                  nan,            nan,            nan,            nan,\n",
       "                  nan,            nan,            nan,            nan,\n",
       "                  nan,            nan,            nan,            nan,\n",
       "                  nan,            nan,            nan,            nan,\n",
       "                  nan,            nan,            nan,            nan],\n",
       "      dtype=float32)"
      ]
     },
     "execution_count": 56,
     "metadata": {},
     "output_type": "execute_result"
    }
   ],
   "source": [
    "states1[:,0][:100]"
   ]
  },
  {
   "cell_type": "code",
   "execution_count": 53,
   "id": "384c3c43-77ae-4a22-b7d6-7bb88871a060",
   "metadata": {},
   "outputs": [
    {
     "data": {
      "text/plain": [
       "[<matplotlib.lines.Line2D at 0x2b38c29d3518>]"
      ]
     },
     "execution_count": 53,
     "metadata": {},
     "output_type": "execute_result"
    },
    {
     "data": {
      "image/png": "[encoded data removed]",
      "text/plain": [
       "<Figure size 432x288 with 1 Axes>"
      ]
     },
     "metadata": {
      "needs_background": "light"
     },
     "output_type": "display_data"
    }
   ],
   "source": [
    "plt.plot(states1[:100,0])"
   ]
  },
  {
   "cell_type": "code",
   "execution_count": 19,
   "id": "86aa9c06-30ab-468b-9463-8b3ff1d9f404",
   "metadata": {},
   "outputs": [],
   "source": [
    "times = load_data(ppp=ppp, periods=periods,method=method, itraj=itraj, exp_path=exp_path , rppp = rppp_reference)\n"
   ]
  },
  {
   "cell_type": "code",
   "execution_count": 28,
   "id": "fe2aa33b-4b77-456e-8525-3018d9425cb8",
   "metadata": {},
   "outputs": [
    {
     "data": {
      "text/plain": [
       "9.999999558922882e-05"
      ]
     },
     "execution_count": 28,
     "metadata": {},
     "output_type": "execute_result"
    }
   ],
   "source": [
    "ppp*(times[1]-times[0])/(2*np.pi)"
   ]
  },
  {
   "cell_type": "code",
   "execution_count": 23,
   "id": "7fe34214-3398-439f-8519-89782870e151",
   "metadata": {},
   "outputs": [
    {
     "data": {
      "text/plain": [
       "array([6.2831850e-07, 6.2831850e-07, 6.2831862e-07, ..., 6.3329935e-07,\n",
       "       6.2584877e-07, 6.2584877e-07], dtype=float32)"
      ]
     },
     "execution_count": 23,
     "metadata": {},
     "output_type": "execute_result"
    }
   ],
   "source": [
    "times[1:] - times[:-1]"
   ]
  },
  {
   "cell_type": "code",
   "execution_count": null,
   "id": "26f3b389-4571-49ea-af83-89b037498ce8",
   "metadata": {},
   "outputs": [],
   "source": []
  }
 ],
 "metadata": {
  "kernelspec": {
   "display_name": "qenv_bilkis",
   "language": "python",
   "name": "qenv_bilkis"
  },
  "language_info": {
   "codemirror_mode": {
    "name": "ipython",
    "version": 3
   },
   "file_extension": ".py",
   "mimetype": "text/x-python",
   "name": "python",
   "nbconvert_exporter": "python",
   "pygments_lexer": "ipython3",
   "version": "3.6.8"
  }
 },
 "nbformat": 4,
 "nbformat_minor": 5
}
