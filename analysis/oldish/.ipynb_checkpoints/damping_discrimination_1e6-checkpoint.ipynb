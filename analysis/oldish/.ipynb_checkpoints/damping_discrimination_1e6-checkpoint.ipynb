{
 "cells": [
  {
   "cell_type": "code",
   "execution_count": 62,
   "id": "1951c08f-0317-4a48-ad4b-d791895bd796",
   "metadata": {},
   "outputs": [],
   "source": [
    "import os \n",
    "os.chdir(\"..\")\n"
   ]
  },
  {
   "cell_type": "code",
   "execution_count": 63,
   "id": "433e2d4a-53c1-47d2-80e4-3b3aded226b4",
   "metadata": {},
   "outputs": [
    {
     "name": "stdout",
     "output_type": "stream",
     "text": [
      "The autoreload extension is already loaded. To reload it, use:\n",
      "  %reload_ext autoreload\n"
     ]
    }
   ],
   "source": [
    "%load_ext autoreload\n",
    "%autoreload 2\n",
    "from numerics.integration.steps import *\n",
    "import numpy as np\n",
    "import matplotlib.pyplot as plt\n",
    "from tqdm import tqdm\n",
    "from numerics.utilities.misc import *\n",
    "\n"
   ]
  },
  {
   "cell_type": "code",
   "execution_count": 64,
   "id": "15ff7604-fe87-4ce0-8ddd-6d0e38286194",
   "metadata": {},
   "outputs": [],
   "source": [
    "pars = give_def_params_discrimination(flip=0, mode = \"damping\")\n",
    "params, exp_path = check_params(pars)\n",
    "\n",
    "total_time, dt = get_total_time_dt(params, ppp=1000, dt=1e-5)\n",
    "times = np.arange(0, total_time+ dt, dt)"
   ]
  },
  {
   "cell_type": "code",
   "execution_count": 109,
   "id": "5d440dc9-f8e2-41f6-bc63-d8cb789eaf14",
   "metadata": {},
   "outputs": [],
   "source": [
    "def load_liks(itrajj, mode=\"damping\"):\n",
    "    pars = give_def_params_discrimination(flip=0, mode = mode)\n",
    "    params, exp_path = check_params(pars)\n",
    "\n",
    "    total_time, dt = get_total_time_dt(params, ppp=1000, dt=1e-5)\n",
    "    \n",
    "    logliks =load_data_discrimination_liks(itraj=itrajj, total_time = total_time, dt=dt, exp_path = exp_path)\n",
    "    l0,l1 = logliks[:,0], logliks[:,1]\n",
    "    log_lik_ratio = l1 - l0  ###\n",
    "\n",
    "    pars = give_def_params_discrimination(flip=1, mode=mode)\n",
    "    params, exp_path = check_params(pars)\n",
    "    total_time, dt = get_total_time_dt(params, ppp=1000,dt=1e-5)\n",
    "    logliks_swap =load_data_discrimination_liks(itraj=itrajj, total_time = total_time, dt=dt, exp_path = exp_path)\n",
    "    log_lik_ratio_swap = logliks_swap[:,0] - logliks_swap[:,1]  \n",
    "    \n",
    "    return log_lik_ratio, log_lik_ratio_swap"
   ]
  },
  {
   "cell_type": "code",
   "execution_count": 111,
   "id": "3e807a42-0239-4eed-a3c0-a0f991404014",
   "metadata": {},
   "outputs": [],
   "source": [
    "indfin = np.argmin(np.abs(times - 2))\n",
    "\n",
    "times = times[:indfin]\n",
    "log_lik_ratio = log_lik_ratio[:indfin]\n",
    "log_lik_ratio = log_lik_ratio_swap[:indfin]"
   ]
  },
  {
   "cell_type": "code",
   "execution_count": 112,
   "id": "ea5058d8-2b8a-449f-b16b-e988fda70f36",
   "metadata": {},
   "outputs": [],
   "source": [
    "indis = np.logspace(2,np.log10(len(times)-1), 50)\n",
    "indis = [int(k) for k in indis]\n",
    "\n",
    "\n",
    "def decide_stop(l, a, b):\n",
    "    if a<=l<=b:\n",
    "        return 0\n",
    "    else:\n",
    "        return 1"
   ]
  },
  {
   "cell_type": "code",
   "execution_count": 113,
   "id": "79fee030-02ce-4651-8c8d-334f5e52eaa9",
   "metadata": {},
   "outputs": [
    {
     "name": "stderr",
     "output_type": "stream",
     "text": [
      "100%|██████████| 50/50 [00:00<00:00, 5171.13it/s]\n",
      "100%|██████████| 2998/2998 [00:09<00:00, 312.55it/s] \n"
     ]
    }
   ],
   "source": [
    "boundsB = np.arange(0,3,.25)\n",
    "\n",
    "\n",
    "deter, stoch = {}, {}\n",
    "deter[\"h0/h1\"]  = {k:[] for k in range(len(boundsB))}\n",
    "deter[\"h1/h0\"] = {k:[] for k in range(len(boundsB))}\n",
    "\n",
    "stoch[\"h1/h0\"] = {}\n",
    "stoch[\"h0/h1\"] = {}\n",
    "stop = {}\n",
    "stop[\"h1/h0\"] = {i:[] for i in range(1,2)}\n",
    "stop[\"h0/h1\"] = {i:[] for i in range(1,2)}\n",
    "\n",
    "\n",
    "\n",
    "itraj = 1\n",
    "log_lik_ratio, log_lik_ratio_swap = load_liks(itraj)\n",
    "log_lik_ratio = log_lik_ratio[:indfin]\n",
    "log_lik_ratio_swap = log_lik_ratio_swap[:indfin]\n",
    "\n",
    "def get_stop_time(log_lik_ratio,b):\n",
    "    ind_times = np.argmin(np.logical_and(log_lik_ratio <= b, log_lik_ratio >= -b))\n",
    "    if ind_times !=0:\n",
    "        return times[ind_times]\n",
    "    else:\n",
    "        return np.nan\n",
    "\n",
    "ll = log_lik_ratio\n",
    "ll0 = log_lik_ratio_swap\n",
    "for time_index in tqdm(indis):\n",
    "    for indb, b in enumerate(boundsB):\n",
    "        h0_deter = log_lik_ratio[time_index] <= b\n",
    "        h1_deter = log_lik_ratio_swap[time_index] <= b\n",
    "        deter[\"h0/h1\"][indb].append(int(h0_deter))\n",
    "        deter[\"h1/h0\"][indb].append(int(h0_deter))\n",
    "for b in boundsB:\n",
    "    stop[\"h0/h1\"][itraj].append(get_stop_time(log_lik_ratio, b))\n",
    "    stop[\"h1/h0\"][itraj].append(get_stop_time(log_lik_ratio_swap, b))\n",
    "n=1\n",
    "\n",
    "Ntrajs=3000\n",
    "\n",
    "for itraj in tqdm(range(2,Ntrajs)):\n",
    "    try:\n",
    "        log_lik_ratio, log_lik_ratio_swap = load_liks(itraj)\n",
    "        log_lik_ratio = log_lik_ratio[:indfin]\n",
    "        log_lik_ratio_swap = log_lik_ratio_swap[:indfin]\n",
    "        \n",
    "        stop[\"h0/h1\"][itraj] = []\n",
    "        stop[\"h1/h0\"][itraj] = []\n",
    "        ll += log_lik_ratio\n",
    "        ll0+= log_lik_ratio_swap\n",
    "        n+=1\n",
    "        for ind, time_index in enumerate(indis):\n",
    "            for indb, b in enumerate(boundsB):\n",
    "                h0_deter = log_lik_ratio[time_index] <= b\n",
    "                h1_deter = log_lik_ratio_swap[time_index] <= b\n",
    "                deter[\"h0/h1\"][indb][ind] +=  (int(h0_deter) - deter[\"h0/h1\"][indb][ind] )/n\n",
    "                deter[\"h1/h0\"][indb][ind] += (int(h0_deter) - deter[\"h1/h0\"][indb][ind])/n\n",
    "            \n",
    "        for b in boundsB:\n",
    "            stop[\"h0/h1\"][itraj].append(get_stop_time(log_lik_ratio, b))\n",
    "            stop[\"h1/h0\"][itraj].append(get_stop_time(log_lik_ratio_swap, b))\n",
    "    except Exception:\n",
    "        pass"
   ]
  },
  {
   "cell_type": "code",
   "execution_count": 119,
   "id": "8bcaceb0-9331-4964-9af1-b3c805f781a6",
   "metadata": {},
   "outputs": [
    {
     "data": {
      "text/plain": [
       "247"
      ]
     },
     "execution_count": 119,
     "metadata": {},
     "output_type": "execute_result"
    }
   ],
   "source": []
  },
  {
   "cell_type": "code",
   "execution_count": 114,
   "id": "aecea328-28fb-44b3-8315-63d317669afd",
   "metadata": {},
   "outputs": [
    {
     "name": "stderr",
     "output_type": "stream",
     "text": [
      "100%|██████████| 2998/2998 [00:00<00:00, 21938.94it/s]\n",
      "100%|██████████| 2998/2998 [00:00<00:00, 25185.62it/s]\n"
     ]
    }
   ],
   "source": [
    "stopps1 = [np.array(stop[\"h0/h1\"][k])[~np.isnan(stop[\"h0/h1\"][k])] for k in stop[\"h0/h1\"].keys()]\n",
    "stopps0 = [np.array(stop[\"h1/h0\"][k])[~np.isnan(stop[\"h1/h0\"][k])] for k in stop[\"h1/h0\"].keys()]\n",
    "\n",
    "ind_max_traj1 = np.argmax([len(k) for k in stopps1])\n",
    "ind_max_traj0 = np.argmax([len(k) for k in stopps0])\n",
    "\n",
    "\n",
    "stop_time1 = stopps1[ind_max_traj1]\n",
    "stop_time1_sq = stopps1[ind_max_traj1]**2\n",
    "ns1 = 2*np.ones(len(stopps1[ind_max_traj1]))\n",
    "\n",
    "stop_time0 = stopps0[ind_max_traj0]\n",
    "stop_time0_sq = stopps0[ind_max_traj1]**2\n",
    "ns0 = 2*np.ones(len(stopps0[ind_max_traj0]))\n",
    "\n",
    "itrajs1 = list(range(1,Ntrajs))\n",
    "itrajs0 = list(range(1,Ntrajs))\n",
    "itrajs1.remove(ind_max_traj1+1)\n",
    "itrajs0.remove(ind_max_traj0+1)\n",
    "\n",
    "for i in tqdm(itrajs1):\n",
    "    for ind,b in enumerate(boundsB[:len(stopps1[ind_max_traj1])]):\n",
    "        try: \n",
    "            stop_time1[ind] += (stopps1[i][ind] - stop_time1[ind])/ns1[ind]\n",
    "            stop_time1_sq[ind] += (stopps1[i][ind]**2 - stop_time1_sq[ind])/ns1[ind]\n",
    "            \n",
    "            ns1[ind] +=1\n",
    "        except Exception:\n",
    "            pass\n",
    "        \n",
    "for i in tqdm(itrajs0):\n",
    "    for ind,b in enumerate(boundsB[:len(stopps0[ind_max_traj0])]):\n",
    "        try: \n",
    "            stop_time0[ind] += (stopps0[i][ind] - stop_time0[ind])/ns0[ind]\n",
    "            stop_time0_sq[ind] += (stopps0[i][ind]**2 - stop_time0_sq[ind])/ns1[ind]\n",
    "            \n",
    "            ns0[ind] +=1\n",
    "        except Exception:\n",
    "            pass"
   ]
  },
  {
   "cell_type": "code",
   "execution_count": 115,
   "id": "92efc49d-76cc-425a-a371-3d17ce91a4fa",
   "metadata": {},
   "outputs": [],
   "source": [
    "import os \n",
    "freq_dir = get_def_path(mode=\"continuous\")+\"damping_discrimination/set2_dt1e-5/\"\n",
    "os.makedirs(freq_dir, exist_ok=True)\n",
    "\n",
    "np.save(freq_dir+\"mean_likelihood_0\", ll0)\n",
    "np.save(freq_dir+\"mean_likelihood_1\", ll)\n",
    "np.save(freq_dir+\"boundsB\", boundsB)\n",
    "np.save(freq_dir+\"stop_time1\",stop_time1)\n",
    "np.save(freq_dir+\"stop_time0\",stop_time0)\n",
    "np.save(freq_dir+\"alpha_deter\",np.array(deter[\"h0/h1\"]))\n",
    "np.save(freq_dir+\"beta_deter\",np.array(deter[\"h1/h0\"]))"
   ]
  },
  {
   "cell_type": "code",
   "execution_count": 116,
   "id": "8614bbfe-87bf-4692-9aef-67220a64aca9",
   "metadata": {},
   "outputs": [],
   "source": [
    "alpha = np.array(list(deter[\"h0/h1\"].values()))\n",
    "beta = np.array(list(deter[\"h1/h0\"].values()))"
   ]
  },
  {
   "cell_type": "code",
   "execution_count": 118,
   "id": "ea22977a-168c-49e9-9f00-906fe02fc6e1",
   "metadata": {},
   "outputs": [
    {
     "data": {
      "text/plain": [
       "[<matplotlib.lines.Line2D at 0x2b4bb8755828>]"
      ]
     },
     "execution_count": 118,
     "metadata": {},
     "output_type": "execute_result"
    },
    {
     "data": {
      "image/png": "[encoded data removed]",
      "text/plain": [
       "<Figure size 432x288 with 1 Axes>"
      ]
     },
     "metadata": {
      "needs_background": "light"
     },
     "output_type": "display_data"
    }
   ],
   "source": [
    "plt.plot(alpha[0,:])\n",
    "plt.plot(beta[0,:])"
   ]
  },
  {
   "cell_type": "code",
   "execution_count": 83,
   "id": "c940c766-adbf-427f-9d17-2f8baeee53fa",
   "metadata": {},
   "outputs": [
    {
     "name": "stderr",
     "output_type": "stream",
     "text": [
      "/nfs/pic.es/user/m/mbilkis/qenv_bilkis/lib64/python3.6/site-packages/ipykernel_launcher.py:1: RuntimeWarning: invalid value encountered in double_scalars\n",
      "  \"\"\"Entry point for launching an IPython kernel.\n",
      "/nfs/pic.es/user/m/mbilkis/qenv_bilkis/lib64/python3.6/site-packages/ipykernel_launcher.py:1: RuntimeWarning: invalid value encountered in double_scalars\n",
      "  \"\"\"Entry point for launching an IPython kernel.\n"
     ]
    },
    {
     "data": {
      "text/plain": [
       "Text(0.5, 0, '$P_e = \\\\frac{1}{2} (\\\\alpha + \\\\beta)$')"
      ]
     },
     "execution_count": 83,
     "metadata": {},
     "output_type": "execute_result"
    },
    {
     "data": {
      "image/png": "[encoded data removed]",
      "text/plain": [
       "<Figure size 432x288 with 1 Axes>"
      ]
     },
     "metadata": {
      "needs_background": "light"
     },
     "output_type": "display_data"
    }
   ],
   "source": [
    "avg_err_alpha = lambda o: (1-np.exp(-o))/(np.exp(o) - np.exp(-o))\n",
    "\n",
    "ax = plt.subplot(111)\n",
    "plt.title(\"frequency discrimination\")\n",
    "lin=6\n",
    "ax.plot([avg_err_alpha(b) for b in boundsB[:len(stop_time1)]],stop_time1, '.',label=r'$\\langle \\tau \\rangle_{|H1}$', linewidth=lin)\n",
    "ax.plot([avg_err_alpha(b) for b in boundsB[:len(stop_time1)]],stop_time0, '.',label=r'$\\langle \\tau \\rangle_{|H0}$', linewidth=lin)\n",
    "#ax.plot(0.5*np.array(deter[\"h0/h1\"])+np.array(deter[\"h1/h0\"]),[times[ind] for ind in indis] ,color=\"black\", label=\"deterministic\")\n",
    "#ax.scatter( 0.5*np.array(deter[\"h0/h1\"])+np.array(deter[\"h1/h0\"]),[times[ind] for ind in indis], color=\"black\")\n",
    "\n",
    "ax.set_xscale(\"log\")\n",
    "ax.set_ylabel(\"time\")\n",
    "ax.set_xlabel(r'$P_e = \\frac{1}{2} (\\alpha + \\beta)$')\n",
    "#ax.legend(prop={\"size\":15})"
   ]
  },
  {
   "cell_type": "code",
   "execution_count": 38,
   "id": "78ff291a-1107-4f2f-b8a7-7e1da6269749",
   "metadata": {},
   "outputs": [],
   "source": [
    "ind_stop_times = [np.argmin(np.abs(times - stop_time0[ind])) for ind in range(len(stop_time0))]"
   ]
  },
  {
   "cell_type": "code",
   "execution_count": 39,
   "id": "44d6edcd-522f-4762-b735-c8b43e79e90a",
   "metadata": {},
   "outputs": [],
   "source": [
    "alpha = np.array(deter[\"h1/h0\"])"
   ]
  },
  {
   "cell_type": "code",
   "execution_count": 44,
   "id": "20e12ea9-bf6c-4fed-8bc6-89991bf9335e",
   "metadata": {},
   "outputs": [],
   "source": [
    "indis_alpha_is_b = [np.argmin(np.abs(alpha - avg_err_alpha(b))) for b in boundsB]"
   ]
  },
  {
   "cell_type": "code",
   "execution_count": 45,
   "id": "ac3fb65d-1473-49f5-bfc0-b2590d16b566",
   "metadata": {},
   "outputs": [],
   "source": [
    "times_det_alpha_is_b = [times[i] for i in indis_alpha_is_b]"
   ]
  },
  {
   "cell_type": "code",
   "execution_count": 56,
   "id": "77c978bc-b052-4371-aadf-f0fd30172e73",
   "metadata": {},
   "outputs": [],
   "source": [
    "timind = [times[ind] for ind in indis]"
   ]
  },
  {
   "cell_type": "code",
   "execution_count": 60,
   "id": "efdbf9a6-0986-4c13-b04f-70eaea1143cc",
   "metadata": {},
   "outputs": [
    {
     "data": {
      "text/plain": [
       "[<matplotlib.lines.Line2D at 0x2b4bb80a49e8>]"
      ]
     },
     "execution_count": 60,
     "metadata": {},
     "output_type": "execute_result"
    },
    {
     "data": {
      "image/png": "[encoded data removed]",
      "text/plain": [
       "<Figure size 432x288 with 1 Axes>"
      ]
     },
     "metadata": {
      "needs_background": "light"
     },
     "output_type": "display_data"
    }
   ],
   "source": [
    "#plt.plot(timind, [avg_err_alpha(b) for b in boundsB])\n",
    "plt.plot(timind, alpha)\n",
    "plt.plot(stop_time0, [avg_err_alpha(b) for b in boundsB])"
   ]
  },
  {
   "cell_type": "code",
   "execution_count": 50,
   "id": "75dd526f-d1f1-4175-990b-f24524a657ff",
   "metadata": {},
   "outputs": [
    {
     "data": {
      "text/plain": [
       "[0.002,\n",
       " 0.0026000000000000003,\n",
       " 0.003,\n",
       " 0.0033,\n",
       " 0.0035,\n",
       " 0.0037,\n",
       " 0.0039000000000000003,\n",
       " 0.004,\n",
       " 0.004,\n",
       " 0.0043,\n",
       " 0.0044,\n",
       " 0.0044,\n",
       " 0.0046,\n",
       " 0.0046,\n",
       " 0.0046,\n",
       " 0.0046,\n",
       " 0.0048000000000000004,\n",
       " 0.0048000000000000004]"
      ]
     },
     "execution_count": 50,
     "metadata": {},
     "output_type": "execute_result"
    }
   ],
   "source": [
    "times_det_alpha_is_b"
   ]
  },
  {
   "cell_type": "code",
   "execution_count": 48,
   "id": "55343e34-4188-4aa0-b903-9783be8422fa",
   "metadata": {},
   "outputs": [
    {
     "data": {
      "text/plain": [
       "[<matplotlib.lines.Line2D at 0x2b4bb3fa2908>]"
      ]
     },
     "execution_count": 48,
     "metadata": {},
     "output_type": "execute_result"
    },
    {
     "data": {
      "image/png": "[encoded data removed]",
      "text/plain": [
       "<Figure size 432x288 with 1 Axes>"
      ]
     },
     "metadata": {
      "needs_background": "light"
     },
     "output_type": "display_data"
    }
   ],
   "source": [
    "plt.plot(times_det_alpha_is_b)\n",
    "plt.plot(stop_time0)"
   ]
  },
  {
   "cell_type": "code",
   "execution_count": null,
   "id": "2d47b907-c42e-4177-b5b3-7edbd78e3d1c",
   "metadata": {},
   "outputs": [],
   "source": []
  },
  {
   "cell_type": "code",
   "execution_count": null,
   "id": "f582715f-b3ec-4f10-8abc-2af561186849",
   "metadata": {},
   "outputs": [],
   "source": [
    "for itraj in tqdm(range(2,3000)):\n",
    "    try:\n",
    "        log_lik_ratio, log_lik_ratio_swap = load_liks(itraj)\n",
    "        stop[\"h0/h1\"][itraj] = []\n",
    "        stop[\"h1/h0\"][itraj] = []\n",
    "        ll += log_lik_ratio\n",
    "        ll0+= log_lik_ratio_swap\n",
    "        n+=1\n",
    "        for ind, time_index in enumerate(indis):\n",
    "            h0_deter = log_lik_ratio[time_index] <= 0\n",
    "            h1_deter = log_lik_ratio_swap[time_index] <= 0\n",
    "            deter[\"h0/h1\"][ind] +=  (int(h0_deter) - deter[\"h0/h1\"][ind] )/n\n",
    "            deter[\"h1/h0\"][ind] += (int(h0_deter) - deter[\"h1/h0\"][ind])/n\n",
    "            \n",
    "            deter[\"h0/h1\"][ind] +=  (int(h0_deter) - deter[\"h0/h1\"][ind] )/n\n",
    "            deter[\"h1/h0\"][ind] += (int(h0_deter) - deter[\"h1/h0\"][ind])/n\n",
    "        for b in boundsB:\n",
    "            stop[\"h0/h1\"][itraj].append(get_stop_time(log_lik_ratio, b))\n",
    "            stop[\"h1/h0\"][itraj].append(get_stop_time(log_lik_ratio_swap, b))\n"
   ]
  },
  {
   "cell_type": "code",
   "execution_count": 24,
   "id": "62335e0a-cee1-465d-ae8b-6256530f9b66",
   "metadata": {},
   "outputs": [
    {
     "data": {
      "text/plain": [
       "[<matplotlib.lines.Line2D at 0x2b220ba98710>]"
      ]
     },
     "execution_count": 24,
     "metadata": {},
     "output_type": "execute_result"
    },
    {
     "data": {
      "image/png": "[encoded data removed]",
      "text/plain": [
       "<Figure size 432x288 with 1 Axes>"
      ]
     },
     "metadata": {
      "needs_background": "light"
     },
     "output_type": "display_data"
    }
   ],
   "source": [
    "plt.plot(np.array(deter[\"h1/h0\"]))"
   ]
  },
  {
   "cell_type": "code",
   "execution_count": 21,
   "id": "b58a3cf0-2b8d-4972-bfdf-55068b797910",
   "metadata": {},
   "outputs": [
    {
     "data": {
      "text/plain": [
       "[<matplotlib.lines.Line2D at 0x2b220b97f9e8>]"
      ]
     },
     "execution_count": 21,
     "metadata": {},
     "output_type": "execute_result"
    },
    {
     "data": {
      "image/png": "[encoded data removed]",
      "text/plain": [
       "<Figure size 432x288 with 1 Axes>"
      ]
     },
     "metadata": {
      "needs_background": "light"
     },
     "output_type": "display_data"
    }
   ],
   "source": [
    "plt.plot([times[ind] for ind in indis], 0.5*np.array(deter[\"h0/h1\"])+np.array(deter[\"h1/h0\"]))"
   ]
  },
  {
   "cell_type": "code",
   "execution_count": 465,
   "id": "d78fbe40-1cf7-4855-b05b-f63e3ad2c32f",
   "metadata": {},
   "outputs": [
    {
     "data": {
      "text/plain": [
       "<matplotlib.legend.Legend at 0x2b38d0b49c18>"
      ]
     },
     "execution_count": 465,
     "metadata": {},
     "output_type": "execute_result"
    },
    {
     "data": {
      "image/png": "[encoded data removed]",
      "text/plain": [
       "<Figure size 432x288 with 1 Axes>"
      ]
     },
     "metadata": {
      "needs_background": "light"
     },
     "output_type": "display_data"
    }
   ],
   "source": [
    "ax = plt.subplot(111)\n",
    "plt.title(\"frequency discrimination\")\n",
    "lin=6\n",
    "ax.plot(stop_time1, [avg_err_alpha(b) for b in boundsB[:len(stopps1[ind_max_traj])]], '.',label=r'$\\langle \\tau \\rangle_{|H1}$', linewidth=lin)\n",
    "ax.plot(stop_time0, [avg_err_alpha(b) for b in boundsB[:len(stopps0[ind_max_traj])]], '.',label=r'$\\langle \\tau \\rangle_{|H0}$', linewidth=lin)\n",
    "ax.plot([times[ind] for ind in indis], 0.5*np.array(deter[\"h0/h1\"])+np.array(deter[\"h1/h0\"]),color=\"black\", label=\"deterministic\")\n",
    "ax.scatter([times[ind] for ind in indis], 0.5*np.array(deter[\"h0/h1\"])+np.array(deter[\"h1/h0\"]), color=\"black\")\n",
    "\n",
    "ax.set_xlabel(\"time\")\n",
    "ax.set_ylabel(r'$P_e = \\frac{1}{2} (\\alpha + \\beta)$')\n",
    "ax.legend(prop={\"size\":15})"
   ]
  },
  {
   "cell_type": "code",
   "execution_count": 471,
   "id": "6374e62d-8c56-4a04-a72b-1da545edfbc1",
   "metadata": {},
   "outputs": [],
   "source": [
    "ll *= len(stop[\"h0/h1\"])**2\n",
    "ll0 *= len(stop[\"h0/h1\"])**2"
   ]
  },
  {
   "cell_type": "code",
   "execution_count": 14,
   "id": "80bf647d-6735-4ad5-b03b-bdaf24e5625a",
   "metadata": {},
   "outputs": [
    {
     "data": {
      "text/plain": [
       "<matplotlib.legend.Legend at 0x2b277e2a3898>"
      ]
     },
     "execution_count": 14,
     "metadata": {},
     "output_type": "execute_result"
    },
    {
     "data": {
      "image/png": "[encoded data removed]",
      "text/plain": [
       "<Figure size 720x720 with 1 Axes>"
      ]
     },
     "metadata": {
      "needs_background": "light"
     },
     "output_type": "display_data"
    }
   ],
   "source": [
    "\n",
    "colors1 = plt.get_cmap(\"Reds\")\n",
    "colors0 = plt.get_cmap(\"Blues\")\n",
    "\n",
    "plt.figure(figsize=(10,10))\n",
    "alphaMean=0.6\n",
    "plt.plot(times, ll[:-1],linewidth=10, alpha=alphaMean,  color=\"red\", label=r'$\\langle \\ell_{|H_1}\\rangle$')\n",
    "Ntraj = 10\n",
    "c1 = colors1(np.linspace(0,1,Ntraj))[::-1]\n",
    "c0 = colors0(np.linspace(0,1,Ntraj))[::-1]\n",
    "             \n",
    "for ii, itraj in enumerate(range(1,Ntraj)):\n",
    "    log_lik_ratio, log_lik_ratio_swap = load_liks(itraj)\n",
    "    plt.plot(times,log_lik_ratio[:-1], c=c1[ii], alpha=0.75)\n",
    "    plt.plot(times, log_lik_ratio_swap[:-1],c=c0[ii], alpha=0.75)\n",
    "plt.plot(times,ll0[:-1], linewidth=10, alpha=alphaMean, color=\"blue\", label=r'$\\langle \\ell_{|H_0}\\rangle$')\n",
    "plt.plot(times, np.zeros(len(ll0)-1),\"--\")\n",
    "\n",
    "plt.legend(prop={\"size\":20})"
   ]
  },
  {
   "cell_type": "code",
   "execution_count": 476,
   "id": "90c4fba3-a3a5-4cbe-9a41-ea98a7fcf409",
   "metadata": {},
   "outputs": [],
   "source": [
    "import os \n",
    "freq_dir = get_def_path(mode=\"continuous\")+\"freq_discrimination/\"\n",
    "os.makedirs(freq_dir, exist_ok=True)\n",
    "\n",
    "np.save(freq_dir+\"mean_likelihood_0\", ll0)\n",
    "np.save(freq_dir+\"mean_likelihood_1\", ll)\n",
    "np.save(freq_dir+\"boundsB\", boundsB)\n",
    "np.save(freq_dir+\"stop_time1\",stop_time1)\n",
    "np.save(freq_dir+\"stop_time0\",stop_time0)\n",
    "np.save(freq_dir+\"alpha_deter\",np.array(deter[\"h0/h1\"]))\n",
    "np.save(freq_dir+\"beta_deter\",np.array(deter[\"h1/h0\"]))"
   ]
  },
  {
   "cell_type": "code",
   "execution_count": 477,
   "id": "639dd159-3600-4a88-a538-156e43a3aefe",
   "metadata": {},
   "outputs": [],
   "source": []
  },
  {
   "cell_type": "code",
   "execution_count": null,
   "id": "bb01e6d6-c325-49d6-a5bb-45dd93d6d1c5",
   "metadata": {},
   "outputs": [],
   "source": []
  }
 ],
 "metadata": {
  "kernelspec": {
   "display_name": "qenv_bilkis",
   "language": "python",
   "name": "qenv_bilkis"
  },
  "language_info": {
   "codemirror_mode": {
    "name": "ipython",
    "version": 3
   },
   "file_extension": ".py",
   "mimetype": "text/x-python",
   "name": "python",
   "nbconvert_exporter": "python",
   "pygments_lexer": "ipython3",
   "version": "3.6.8"
  }
 },
 "nbformat": 4,
 "nbformat_minor": 5
}
