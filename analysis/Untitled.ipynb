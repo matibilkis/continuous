{
 "cells": [
  {
   "cell_type": "code",
   "execution_count": 1,
   "id": "95c98385",
   "metadata": {},
   "outputs": [],
   "source": [
    "import tensorflow as tf"
   ]
  },
  {
   "cell_type": "code",
   "execution_count": 2,
   "id": "85431695",
   "metadata": {},
   "outputs": [],
   "source": [
    "class Model(tf.keras.Model):\n",
    "    def __init__(self, nu = 20):\n",
    "        super(Model,self).__init__()\n",
    "        \n",
    "        self.la = tf.keras.layers.Dense(128)\n",
    "        self.l1 = tf.keras.layers.Dense(128)\n",
    "        self.l2 = tf.keras.layers.Dense(128)\n",
    "        \n",
    "    def call(inpts):\n",
    "        feat = self.l(inpts)\n",
    "        for l in [self.la, self.l1, self.l2]:\n",
    "            feat = tf.nn.sigmoid(feat)\n",
    "            feat = l(feat)\n",
    "        return feat"
   ]
  },
  {
   "cell_type": "code",
   "execution_count": null,
   "id": "39409f43",
   "metadata": {},
   "outputs": [],
   "source": [
    "my_model = Model()"
   ]
  },
  {
   "cell_type": "code",
   "execution_count": 1,
   "id": "66b6133b",
   "metadata": {},
   "outputs": [
    {
     "ename": "NameError",
     "evalue": "name 'my_model' is not defined",
     "output_type": "error",
     "traceback": [
      "\u001b[0;31m---------------------------------------------------------------------------\u001b[0m",
      "\u001b[0;31mNameError\u001b[0m                                 Traceback (most recent call last)",
      "Input \u001b[0;32mIn [1]\u001b[0m, in \u001b[0;36m<cell line: 1>\u001b[0;34m()\u001b[0m\n\u001b[0;32m----> 1\u001b[0m \u001b[43mmy_model\u001b[49m(tf\u001b[38;5;241m.\u001b[39mrandom\u001b[38;5;241m.\u001b[39muniform((\u001b[38;5;241m1\u001b[39m,\u001b[38;5;241m100\u001b[39m)))\n",
      "\u001b[0;31mNameError\u001b[0m: name 'my_model' is not defined"
     ]
    }
   ],
   "source": [
    "my_model(tf.random.uniform((1,100)))"
   ]
  },
  {
   "cell_type": "code",
   "execution_count": null,
   "id": "9eb4abc7",
   "metadata": {},
   "outputs": [],
   "source": []
  }
 ],
 "metadata": {
  "kernelspec": {
   "display_name": "Python 3 (ipykernel)",
   "language": "python",
   "name": "python3"
  },
  "language_info": {
   "codemirror_mode": {
    "name": "ipython",
    "version": 3
   },
   "file_extension": ".py",
   "mimetype": "text/x-python",
   "name": "python",
   "nbconvert_exporter": "python",
   "pygments_lexer": "ipython3",
   "version": "3.10.4"
  }
 },
 "nbformat": 4,
 "nbformat_minor": 5
}
