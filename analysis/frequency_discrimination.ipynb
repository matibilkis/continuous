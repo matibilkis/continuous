{
 "cells": [
  {
   "cell_type": "code",
   "execution_count": 1,
   "id": "1e252baa-0261-4337-9f9a-ce28c1896ea3",
   "metadata": {},
   "outputs": [],
   "source": [
    "import os \n",
    "os.chdir(\"..\")\n"
   ]
  },
  {
   "cell_type": "code",
   "execution_count": 5,
   "id": "fd3f384b-641c-41b2-a4e8-3500ee23c5a7",
   "metadata": {},
   "outputs": [
    {
     "name": "stdout",
     "output_type": "stream",
     "text": [
      "The autoreload extension is already loaded. To reload it, use:\n",
      "  %reload_ext autoreload\n"
     ]
    }
   ],
   "source": [
    "%load_ext autoreload\n",
    "%autoreload 2\n",
    "from numerics.integration.steps import *\n",
    "import numpy as np\n",
    "import matplotlib.pyplot as plt\n",
    "from tqdm import tqdm\n",
    "from numerics.utilities.misc import *\n",
    "import time\n",
    "from scipy.special import erf\n",
    "import pickle\n"
   ]
  },
  {
   "cell_type": "code",
   "execution_count": 10,
   "id": "57ac9db0-9edb-4fa6-8564-e693049f6f55",
   "metadata": {},
   "outputs": [],
   "source": [
    "log_lik_ratio, log_lik_ratio_swap = load_liks(itraj, mode=mode, dtt=dtt, total_time=total_time)"
   ]
  },
  {
   "cell_type": "code",
   "execution_count": 40,
   "id": "7737d2f3-b3fc-4af8-b55c-d026ccaa4979",
   "metadata": {},
   "outputs": [
    {
     "name": "stderr",
     "output_type": "stream",
     "text": [
      "100%|██████████| 9999/9999 [00:18<00:00, 537.48it/s]  \n"
     ]
    }
   ],
   "source": [
    "\n",
    "mode = \"frequencies\"\n",
    "pars = give_def_params_discrimination(flip=0, mode = mode)\n",
    "params, exp_path = check_params_discrimination(pars)\n",
    "[gamma1, omega1, n1, eta1, kappa1], [gamma0, omega0, n0, eta0, kappa0] = params\n",
    "\n",
    "dtt = 1e-6\n",
    "total_time = 50\n",
    "\n",
    "total_time, dt = get_total_time_dt(params, dt=dtt, total_time=total_time)\n",
    "times = np.arange(0, total_time+ dt, dt)\n",
    "\n",
    "\n",
    "Ntraj = 10000\n",
    "boundsB= np.arange(.1,10,1.)\n",
    "\n",
    "\n",
    "stop = {}\n",
    "stop[\"_0\"] = {i:[] for i in range(1,Ntraj)}\n",
    "stop[\"_1\"] = {i:[] for i in range(1,Ntraj)}\n",
    "\n",
    "\n",
    "indis = np.logspace(2,np.log10(len(times)-1), 100)\n",
    "indis = [int(k) for k in indis]\n",
    "timind = [times[ind] for ind in indis]\n",
    "\n",
    "er=[]\n",
    "deter = {}\n",
    "deter[\"h0/h1\"] = {indb:[0]*len(indis) for indb in range(len(boundsB))}\n",
    "deter[\"h1/h0\"] = {indb:[0]*len(indis) for indb in range(len(boundsB))}\n",
    "\n",
    "l0,l1 = np.zeros((2,len(times)+1))\n",
    "\n",
    "indis = np.logspace(2,np.log10(len(times)-1), 100)\n",
    "indis = [int(k) for k in indis]\n",
    "timind = [times[ind] for ind in indis]\n",
    "\n",
    "\n",
    "\n",
    "n=1\n",
    "ers = []\n",
    "for itraj in tqdm(range(1,Ntraj)):\n",
    "    try:\n",
    "\n",
    "        log_lik_ratio, log_lik_ratio_swap = load_liks(itraj, mode=mode, dtt=dtt, total_time=total_time)\n",
    "\n",
    "        for indb,b in enumerate(boundsB):\n",
    "            stop[\"_1\"][itraj].append(get_stop_time(log_lik_ratio, b, times))\n",
    "            stop[\"_0\"][itraj].append(get_stop_time(log_lik_ratio_swap, b, times))\n",
    "\n",
    "            for ind, time_index in enumerate(indis):\n",
    "                deter_1 = log_lik_ratio[time_index] < b\n",
    "                deter_0 = log_lik_ratio_swap[time_index] > b\n",
    "                deter[\"h0/h1\"][indb][ind] +=  (int(deter_1) - deter[\"h0/h1\"][indb][ind] )/n\n",
    "                deter[\"h1/h0\"][indb][ind] += (int(deter_0) - deter[\"h1/h0\"][indb][ind])/n\n",
    "        l1= l1 + log_lik_ratio\n",
    "        l0 = l0 +log_lik_ratio_swap\n",
    "        n+=1\n",
    "    except Exception:\n",
    "        ers.append(itraj)\n",
    "l0/=(Ntraj - len(ers))\n",
    "l1/=(Ntraj - len(ers))"
   ]
  },
  {
   "cell_type": "code",
   "execution_count": 43,
   "id": "3b66d2a9-84ac-4e9d-be4c-650239be163a",
   "metadata": {},
   "outputs": [
    {
     "data": {
      "text/plain": [
       "8999"
      ]
     },
     "execution_count": 43,
     "metadata": {},
     "output_type": "execute_result"
    }
   ],
   "source": []
  },
  {
   "cell_type": "code",
   "execution_count": 41,
   "id": "9bdf1a67-26b6-4b39-940f-7bd88f1e34da",
   "metadata": {},
   "outputs": [
    {
     "name": "stderr",
     "output_type": "stream",
     "text": [
      "/nfs/pic.es/user/m/mbilkis/qenv_bilkis/lib64/python3.6/site-packages/ipykernel_launcher.py:18: VisibleDeprecationWarning: Passing `normed=True` on non-uniform bins has always been broken, and computes neither the probability density function nor the probability mass function. The result is only correct if the bins are uniform, when density=True will produce the same result anyway. The argument will be removed in a future version of numpy.\n",
      "/nfs/pic.es/user/m/mbilkis/qenv_bilkis/lib64/python3.6/site-packages/ipykernel_launcher.py:19: VisibleDeprecationWarning: Passing `normed=True` on non-uniform bins has always been broken, and computes neither the probability density function nor the probability mass function. The result is only correct if the bins are uniform, when density=True will produce the same result anyway. The argument will be removed in a future version of numpy.\n"
     ]
    }
   ],
   "source": [
    "stops1 = []\n",
    "for k in stop[\"_1\"].values():\n",
    "    if len(k) != 0:\n",
    "        stops1.append(k)\n",
    "stops1 = np.squeeze(stops1)\n",
    "\n",
    "stops0 = []\n",
    "for k in stop[\"_0\"].values():\n",
    "    if len(k) != 0:\n",
    "        stops0.append(k)\n",
    "stops0 = np.squeeze(stops0)\n",
    "\n",
    "\n",
    "cons1, cons0 = [], []\n",
    "anals1, anals0 = [], []\n",
    "timbin0, timbin1 = [], []\n",
    "for indb, b in enumerate(boundsB):\n",
    "    counts1, bins1 = np.histogram(stops1[:,indb][~np.isnan(stops1[:,indb])], 50, normed=True)\n",
    "    counts0, bins0 = np.histogram(stops0[:,indb][~np.isnan(stops0[:,indb])], 50, normed=True)\n",
    "    \n",
    "    timms1 = np.linspace(0,np.max(bins1), 100)\n",
    "    timms0 = np.linspace(0,np.max(bins0), 100)\n",
    "    \n",
    "    timbins1 = .5*(bins1[1:] + bins1[:-1])\n",
    "    timbins0 = .5*(bins0[1:] + bins0[:-1])\n",
    "    \n",
    "    cons1.append(counts1)\n",
    "    cons0.append(counts0)\n",
    "    \n",
    "    timbin1.append(timbins1)\n",
    "    timbin0.append(timbins0)\n",
    "    "
   ]
  },
  {
   "cell_type": "code",
   "execution_count": 42,
   "id": "c4e8b0af-b44a-46b3-bc7b-92e2a5366fa1",
   "metadata": {},
   "outputs": [
    {
     "data": {
      "image/png": "[encoded data removed]",
      "text/plain": [
       "<Figure size 864x864 with 4 Axes>"
      ]
     },
     "metadata": {
      "needs_background": "light"
     },
     "output_type": "display_data"
    }
   ],
   "source": [
    "plt.figure(figsize=(12,12))\n",
    "plt.suptitle(\"Stopping time distribution\\n#Trajs = {}\\nFrequency discrimination\".format(len(stops)),size=20)\n",
    "axx = [221, 222, 223, 224]\n",
    "selected_b = [boundsB[int(k)] for k in np.linspace(0,len(boundsB)-1, 4)]\n",
    "for indb, b in enumerate(selected_b):\n",
    "    ax = plt.subplot(axx[indb])\n",
    "    ax.set_title('$b=$'+str(np.round(b,2)))\n",
    "    ax.bar(timbin1[indb], cons1[indb], width=timbin1[indb][1]-timbin1[indb][0], color=\"blue\", alpha=1,label=r'$P(\\tau|H1)$')\n",
    "    ax.bar(timbin0[indb], cons0[indb], width=timbin0[indb][1]-timbin0[indb][0], color=\"green\", alpha=0.25, label=r'$P(\\tau|H0)$')\n",
    "    \n",
    "    ax.set_xlabel(r'$\\tau$',size=20)\n",
    "    ax.set_ylabel(r'$P(\\tau)$', size=20)\n",
    "    ax.legend(prop={\"size\":10})\n",
    "#plt.savefig(path+\"stopping_times.pdf\")"
   ]
  },
  {
   "cell_type": "code",
   "execution_count": null,
   "id": "973862fe-5eed-411a-9fd3-55f68d7ae8ec",
   "metadata": {},
   "outputs": [],
   "source": []
  }
 ],
 "metadata": {
  "kernelspec": {
   "display_name": "qenv_bilkis",
   "language": "python",
   "name": "qenv_bilkis"
  },
  "language_info": {
   "codemirror_mode": {
    "name": "ipython",
    "version": 3
   },
   "file_extension": ".py",
   "mimetype": "text/x-python",
   "name": "python",
   "nbconvert_exporter": "python",
   "pygments_lexer": "ipython3",
   "version": "3.6.8"
  }
 },
 "nbformat": 4,
 "nbformat_minor": 5
}
