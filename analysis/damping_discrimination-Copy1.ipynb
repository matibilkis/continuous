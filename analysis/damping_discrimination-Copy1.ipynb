{
 "cells": [
  {
   "cell_type": "code",
   "execution_count": 1,
   "id": "1951c08f-0317-4a48-ad4b-d791895bd796",
   "metadata": {},
   "outputs": [],
   "source": [
    "import os \n",
    "os.chdir(\"..\")\n"
   ]
  },
  {
   "cell_type": "code",
   "execution_count": 2,
   "id": "433e2d4a-53c1-47d2-80e4-3b3aded226b4",
   "metadata": {},
   "outputs": [],
   "source": [
    "%load_ext autoreload\n",
    "%autoreload 2\n",
    "from numerics.integration.steps import *\n",
    "import numpy as np\n",
    "import matplotlib.pyplot as plt\n",
    "from tqdm import tqdm\n",
    "from numerics.utilities.misc import *\n",
    "import time"
   ]
  },
  {
   "cell_type": "code",
   "execution_count": null,
   "id": "55617db9-48d8-40fe-832d-6dc443ef29b7",
   "metadata": {},
   "outputs": [],
   "source": [
    "mode = \"damping\"\n",
    "dtt = 1e-4\n",
    "pars = give_def_params_discrimination(flip=0, mode = mode)\n",
    "params, exp_path = check_params(pars)\n",
    "\n",
    "total_time, dt = get_total_time_dt(params, ppp=1000, dt=dtt, total_time=8)\n",
    "times = np.arange(0, total_time+ dt, dt)"
   ]
  },
  {
   "cell_type": "code",
   "execution_count": null,
   "id": "b8729473-3750-4006-8e82-7377fbf1cb95",
   "metadata": {},
   "outputs": [],
   "source": []
  },
  {
   "cell_type": "code",
   "execution_count": 3,
   "id": "5d440dc9-f8e2-41f6-bc63-d8cb789eaf14",
   "metadata": {},
   "outputs": [],
   "source": [
    "mode = \"damping\"\n",
    "dtt = 1e-5\n",
    "pars = give_def_params_discrimination(flip=0, mode = mode)\n",
    "params, exp_path = check_params(pars)\n",
    "\n",
    "total_time, dt = get_total_time_dt(params, ppp=1000, dt=dtt)\n",
    "times = np.arange(0, total_time+ dt, dt)\n",
    "\n",
    "def load_liks(itrajj, mode=\"damping\", dtt=1e-5):\n",
    "    pars = give_def_params_discrimination(flip=0, mode = mode)\n",
    "    params, exp_path = check_params(pars)\n",
    "\n",
    "    total_time, dt = get_total_time_dt(params, ppp=1000, dt=dtt)\n",
    "    \n",
    "    logliks =load_data_discrimination_liks(itraj=itrajj, total_time = total_time, dt=dt, exp_path = exp_path)\n",
    "    l0,l1 = logliks[:,0], logliks[:,1]\n",
    "    log_lik_ratio = l1 - l0  ###\n",
    "\n",
    "    pars = give_def_params_discrimination(flip=1, mode=mode)\n",
    "    params, exp_path = check_params(pars)\n",
    "    total_time, dt = get_total_time_dt(params, ppp=1000,dt=dtt)\n",
    "    logliks_swap =load_data_discrimination_liks(itraj=itrajj, total_time = total_time, dt=dt, exp_path = exp_path)\n",
    "    log_lik_ratio_swap = logliks_swap[:,0] - logliks_swap[:,1]  \n",
    "    \n",
    "    return log_lik_ratio, log_lik_ratio_swap"
   ]
  },
  {
   "cell_type": "code",
   "execution_count": 4,
   "id": "ea5058d8-2b8a-449f-b16b-e988fda70f36",
   "metadata": {},
   "outputs": [],
   "source": [
    "indfin = np.argmin(np.abs(times - 4))\n",
    "times = times[:indfin]\n",
    "\n",
    "\n",
    "indis = np.logspace(2,np.log10(len(times)-1), 50)\n",
    "indis = [int(k) for k in indis]\n",
    "\n",
    "timind = [times[ind] for ind in indis]\n",
    "\n",
    "def decide_stop(l, a, b):\n",
    "    if a<=l<=b:\n",
    "        return 0\n",
    "    else:\n",
    "        return 1"
   ]
  },
  {
   "cell_type": "code",
   "execution_count": 5,
   "id": "79fee030-02ce-4651-8c8d-334f5e52eaa9",
   "metadata": {},
   "outputs": [
    {
     "name": "stderr",
     "output_type": "stream",
     "text": [
      "100%|██████████| 50/50 [00:00<00:00, 2340.60it/s]\n",
      "100%|██████████| 9998/9998 [27:14<00:00,  6.12it/s]\n"
     ]
    }
   ],
   "source": [
    "boundsB = np.arange(0,10,.1)\n",
    "\n",
    "deter, stoch = {}, {}\n",
    "deter[\"h0/h1\"]  = {k:[] for k in range(len(boundsB))}\n",
    "deter[\"h1/h0\"] = {k:[] for k in range(len(boundsB))}\n",
    "\n",
    "stoch[\"h1/h0\"] = {}\n",
    "stoch[\"h0/h1\"] = {}\n",
    "stop = {}\n",
    "stop[\"h1/h0\"] = {i:[] for i in range(1,2)}\n",
    "stop[\"h0/h1\"] = {i:[] for i in range(1,2)}\n",
    "\n",
    "\n",
    "\n",
    "itraj = 1\n",
    "log_lik_ratio, log_lik_ratio_swap = load_liks(itraj)\n",
    "log_lik_ratio = log_lik_ratio[:indfin]\n",
    "log_lik_ratio_swap = log_lik_ratio_swap[:indfin]\n",
    "\n",
    "def get_stop_time(log_lik_ratio,b):\n",
    "    ind_times = np.argmin(np.logical_and(log_lik_ratio <= b, log_lik_ratio >= -b))\n",
    "    if ind_times !=0:\n",
    "        return times[ind_times]\n",
    "    else:\n",
    "        return np.nan\n",
    "\n",
    "ll = log_lik_ratio\n",
    "ll0 = log_lik_ratio_swap\n",
    "for time_index in tqdm(indis):\n",
    "    for indb, b in enumerate(boundsB):\n",
    "        h0_deter = log_lik_ratio[time_index] <= b\n",
    "        h1_deter = log_lik_ratio_swap[time_index] <= b\n",
    "        deter[\"h0/h1\"][indb].append(int(h0_deter))\n",
    "        deter[\"h1/h0\"][indb].append(int(h0_deter))\n",
    "for b in boundsB:\n",
    "    stop[\"h0/h1\"][itraj].append(get_stop_time(log_lik_ratio, b))\n",
    "    stop[\"h1/h0\"][itraj].append(get_stop_time(log_lik_ratio_swap, b))\n",
    "n=1\n",
    "\n",
    "Ntrajs=10000\n",
    "\n",
    "for itraj in tqdm(range(2,Ntrajs)):\n",
    "    try:\n",
    "        log_lik_ratio, log_lik_ratio_swap = load_liks(itraj)\n",
    "        log_lik_ratio = log_lik_ratio[:indfin]\n",
    "        log_lik_ratio_swap = log_lik_ratio_swap[:indfin]\n",
    "        \n",
    "        stop[\"h0/h1\"][itraj] = []\n",
    "        stop[\"h1/h0\"][itraj] = []\n",
    "        ll += log_lik_ratio\n",
    "        ll0+= log_lik_ratio_swap\n",
    "        n+=1\n",
    "        for ind, time_index in enumerate(indis):\n",
    "            for indb, b in enumerate(boundsB):\n",
    "                h0_deter = log_lik_ratio[time_index] <= b\n",
    "                h1_deter = log_lik_ratio_swap[time_index] <= b\n",
    "                deter[\"h0/h1\"][indb][ind] +=  (int(h0_deter) - deter[\"h0/h1\"][indb][ind] )/n\n",
    "                deter[\"h1/h0\"][indb][ind] += (int(h0_deter) - deter[\"h1/h0\"][indb][ind])/n\n",
    "            \n",
    "        for b in boundsB:\n",
    "            stop[\"h0/h1\"][itraj].append(get_stop_time(log_lik_ratio, b))\n",
    "            stop[\"h1/h0\"][itraj].append(get_stop_time(log_lik_ratio_swap, b))\n",
    "    except Exception:\n",
    "        pass"
   ]
  },
  {
   "cell_type": "code",
   "execution_count": 6,
   "id": "aecea328-28fb-44b3-8315-63d317669afd",
   "metadata": {},
   "outputs": [
    {
     "name": "stderr",
     "output_type": "stream",
     "text": [
      "100%|██████████| 9998/9998 [00:03<00:00, 2988.12it/s]\n",
      "100%|██████████| 9998/9998 [00:03<00:00, 3239.36it/s]\n"
     ]
    }
   ],
   "source": [
    "### compute stopping time\n",
    "\n",
    "stopps1 = [np.array(stop[\"h0/h1\"][k])[~np.isnan(stop[\"h0/h1\"][k])] for k in stop[\"h0/h1\"].keys()]\n",
    "stopps0 = [np.array(stop[\"h1/h0\"][k])[~np.isnan(stop[\"h1/h0\"][k])] for k in stop[\"h1/h0\"].keys()]\n",
    "\n",
    "ind_max_traj1 = np.argmax([len(k) for k in stopps1])\n",
    "ind_max_traj0 = np.argmax([len(k) for k in stopps0])\n",
    "\n",
    "\n",
    "stop_time1 = stopps1[ind_max_traj1]\n",
    "stop_time1_sq = stopps1[ind_max_traj1]**2\n",
    "ns1 = 2*np.ones(len(stopps1[ind_max_traj1]))\n",
    "\n",
    "stop_time0 = stopps0[ind_max_traj0]\n",
    "stop_time0_sq = stopps0[ind_max_traj1]**2\n",
    "ns0 = 2*np.ones(len(stopps0[ind_max_traj0]))\n",
    "\n",
    "itrajs1 = list(range(1,Ntrajs))\n",
    "itrajs0 = list(range(1,Ntrajs))\n",
    "itrajs1.remove(ind_max_traj1+1)\n",
    "itrajs0.remove(ind_max_traj0+1)\n",
    "\n",
    "for i in tqdm(itrajs1):\n",
    "    for ind,b in enumerate(boundsB[:len(stopps1[ind_max_traj1])]):\n",
    "        try: \n",
    "            stop_time1[ind] += (stopps1[i][ind] - stop_time1[ind])/ns1[ind]\n",
    "            stop_time1_sq[ind] += (stopps1[i][ind]**2 - stop_time1_sq[ind])/ns1[ind]\n",
    "            \n",
    "            ns1[ind] +=1\n",
    "        except Exception:\n",
    "            pass\n",
    "        \n",
    "for i in tqdm(itrajs0):\n",
    "    for ind,b in enumerate(boundsB[:len(stopps0[ind_max_traj0])]):\n",
    "        try: \n",
    "            stop_time0[ind] += (stopps0[i][ind] - stop_time0[ind])/ns0[ind]\n",
    "            stop_time0_sq[ind] += (stopps0[i][ind]**2 - stop_time0_sq[ind])/ns0[ind]\n",
    "            \n",
    "            ns0[ind] +=1\n",
    "        except Exception:\n",
    "            pass"
   ]
  },
  {
   "cell_type": "code",
   "execution_count": 126,
   "id": "3d6f0c99-9279-4744-98c3-bdcfd0a97cbb",
   "metadata": {},
   "outputs": [
    {
     "data": {
      "text/plain": [
       "array([2.00000e-05, 1.73000e-03, 7.10000e-03, 8.13000e-03, 1.01900e-02,\n",
       "       1.07300e-02, 1.16100e-02, 1.51600e-02, 1.61600e-02, 1.83100e-02,\n",
       "       4.12600e-02, 4.32800e-02, 5.00200e-02, 5.48600e-02, 5.58000e-02,\n",
       "       6.55500e-02, 6.66000e-02, 7.37400e-02, 7.43300e-02, 7.98200e-02,\n",
       "       8.97000e-02, 9.04200e-02, 1.00030e-01, 1.03320e-01, 1.08870e-01,\n",
       "       1.14520e-01, 1.15270e-01, 1.16800e-01, 2.95520e-01, 2.96360e-01,\n",
       "       6.65660e-01, 6.66390e-01, 6.68090e-01, 6.72070e-01, 6.73530e-01,\n",
       "       6.74530e-01, 6.76060e-01, 6.77520e-01, 6.77920e-01, 6.78690e-01,\n",
       "       6.80250e-01, 7.35000e-01, 7.36300e-01, 7.67120e-01, 7.76140e-01,\n",
       "       7.91610e-01, 7.92330e-01, 7.93440e-01, 7.94260e-01, 8.04090e-01,\n",
       "       8.15640e-01, 8.18870e-01, 8.19660e-01, 8.20070e-01, 8.28120e-01,\n",
       "       8.29220e-01, 8.50960e-01, 8.51590e-01, 8.53340e-01, 8.68940e-01,\n",
       "       8.82030e-01, 8.84730e-01, 8.87680e-01, 8.89580e-01, 8.90320e-01,\n",
       "       8.91980e-01, 9.01730e-01, 9.04140e-01, 9.83380e-01, 9.84090e-01,\n",
       "       1.01082e+00, 1.07474e+00, 1.07578e+00, 1.07696e+00, 1.07995e+00,\n",
       "       1.08068e+00, 1.09001e+00, 1.09086e+00, 1.11234e+00, 1.11681e+00,\n",
       "       1.12893e+00, 1.17158e+00, 1.17235e+00, 1.17314e+00, 1.17378e+00,\n",
       "       1.17472e+00, 1.17668e+00, 1.17862e+00, 1.18416e+00, 1.19381e+00,\n",
       "       1.19595e+00, 1.19666e+00, 1.20631e+00, 1.20840e+00, 1.20891e+00,\n",
       "       1.20979e+00, 1.21188e+00, 1.21268e+00, 1.21434e+00, 1.37091e+00])"
      ]
     },
     "execution_count": 126,
     "metadata": {},
     "output_type": "execute_result"
    }
   ],
   "source": [
    "stopps1[-1]"
   ]
  },
  {
   "cell_type": "code",
   "execution_count": null,
   "id": "09261f77-36f6-433d-9638-295b3188386c",
   "metadata": {},
   "outputs": [],
   "source": []
  },
  {
   "cell_type": "code",
   "execution_count": null,
   "id": "01eb6908-1cf2-42a7-9a61-60c87640c2c7",
   "metadata": {},
   "outputs": [],
   "source": []
  },
  {
   "cell_type": "code",
   "execution_count": null,
   "id": "97b89431-83c3-47ba-8584-aa91d75ee952",
   "metadata": {},
   "outputs": [],
   "source": []
  },
  {
   "cell_type": "code",
   "execution_count": null,
   "id": "4b8fb882-fe8e-4dc3-b62e-ba49e8be20f1",
   "metadata": {},
   "outputs": [],
   "source": []
  },
  {
   "cell_type": "code",
   "execution_count": 7,
   "id": "92efc49d-76cc-425a-a371-3d17ce91a4fa",
   "metadata": {},
   "outputs": [],
   "source": [
    "import os \n",
    "freq_dir = get_def_path(mode=\"hypothesis_testing\")+\"{}/{}/dt{}/\".format(mode,Ntrajs, dt)\n",
    "os.makedirs(freq_dir, exist_ok=True)\n",
    "\n",
    "np.save(freq_dir+\"times_here\", timind)\n",
    "\n",
    "np.save(freq_dir+\"mean_likelihood_0\", ll0)\n",
    "np.save(freq_dir+\"mean_likelihood_1\", ll)\n",
    "np.save(freq_dir+\"boundsB\", boundsB)\n",
    "np.save(freq_dir+\"stop_time1\",stop_time1)\n",
    "np.save(freq_dir+\"stop_time0\",stop_time0)\n",
    "np.save(freq_dir+\"alpha_deter\",np.array(deter[\"h0/h1\"]))\n",
    "np.save(freq_dir+\"beta_deter\",np.array(deter[\"h1/h0\"]))"
   ]
  },
  {
   "cell_type": "code",
   "execution_count": 8,
   "id": "8614bbfe-87bf-4692-9aef-67220a64aca9",
   "metadata": {},
   "outputs": [],
   "source": [
    "alpha = np.array(list(deter[\"h0/h1\"].values()))\n",
    "beta = np.array(list(deter[\"h1/h0\"].values()))"
   ]
  },
  {
   "cell_type": "code",
   "execution_count": 9,
   "id": "c940c766-adbf-427f-9d17-2f8baeee53fa",
   "metadata": {},
   "outputs": [
    {
     "name": "stderr",
     "output_type": "stream",
     "text": [
      "/nfs/pic.es/user/m/mbilkis/qenv_bilkis/lib64/python3.6/site-packages/ipykernel_launcher.py:1: RuntimeWarning: invalid value encountered in double_scalars\n",
      "  \"\"\"Entry point for launching an IPython kernel.\n",
      "/nfs/pic.es/user/m/mbilkis/qenv_bilkis/lib64/python3.6/site-packages/ipykernel_launcher.py:1: RuntimeWarning: invalid value encountered in double_scalars\n",
      "  \"\"\"Entry point for launching an IPython kernel.\n"
     ]
    },
    {
     "data": {
      "text/plain": [
       "Text(0.5, 0, '$P_e = \\\\frac{1}{2} (\\\\alpha + \\\\beta)$')"
      ]
     },
     "execution_count": 9,
     "metadata": {},
     "output_type": "execute_result"
    },
    {
     "data": {
      "image/png": "[encoded data removed]",
      "text/plain": [
       "<Figure size 432x288 with 1 Axes>"
      ]
     },
     "metadata": {
      "needs_background": "light"
     },
     "output_type": "display_data"
    }
   ],
   "source": [
    "avg_err_alpha = lambda o: (1-np.exp(-o))/(np.exp(o) - np.exp(-o))\n",
    "\n",
    "ax = plt.subplot(111)\n",
    "plt.title(\"{} discrimination\".format(mode))\n",
    "lin=6\n",
    "ax.plot([avg_err_alpha(b) for b in boundsB[:len(stop_time1)]],stop_time1, '.',label=r'$\\langle \\tau \\rangle_{|H1}$', linewidth=lin)\n",
    "ax.plot([avg_err_alpha(b) for b in boundsB[:len(stop_time1)]],stop_time0, '.',label=r'$\\langle \\tau \\rangle_{|H0}$', linewidth=lin)\n",
    "#ax.plot(0.5*np.array(deter[\"h0/h1\"])+np.array(deter[\"h1/h0\"]),[times[ind] for ind in indis] ,color=\"black\", label=\"deterministic\")\n",
    "#ax.scatter( 0.5*np.array(deter[\"h0/h1\"])+np.array(deter[\"h1/h0\"]),[times[ind] for ind in indis], color=\"black\")\n",
    "\n",
    "ax.set_xscale(\"log\")\n",
    "ax.set_ylabel(\"time\")\n",
    "ax.set_xlabel(r'$P_e = \\frac{1}{2} (\\alpha + \\beta)$')\n",
    "#ax.legend(prop={\"size\":15})"
   ]
  },
  {
   "cell_type": "code",
   "execution_count": 115,
   "id": "d75bbce8-b191-4ffb-977e-27f016ed5802",
   "metadata": {},
   "outputs": [
    {
     "data": {
      "text/plain": [
       "array([0.        , 0.00926052, 0.01852104, 0.02778156, 0.03704208,\n",
       "       0.0463026 , 0.05556312, 0.06482364, 0.07408415, 0.08334467,\n",
       "       0.09260519, 0.10186571, 0.11112623, 0.12038675, 0.12964727,\n",
       "       0.13890779, 0.14816831, 0.15742883, 0.16668935, 0.17594987,\n",
       "       0.18521039, 0.19447091, 0.20373143, 0.21299194, 0.22225246,\n",
       "       0.23151298, 0.2407735 , 0.25003402, 0.25929454, 0.26855506,\n",
       "       0.27781558, 0.2870761 , 0.29633662, 0.30559714, 0.31485766,\n",
       "       0.32411818, 0.3333787 , 0.34263922, 0.35189973, 0.36116025,\n",
       "       0.37042077, 0.37968129, 0.38894181, 0.39820233, 0.40746285,\n",
       "       0.41672337, 0.42598389, 0.43524441, 0.44450493, 0.45376545,\n",
       "       0.46302597, 0.47228649, 0.48154701, 0.49080752, 0.50006804,\n",
       "       0.50932856, 0.51858908, 0.5278496 , 0.53711012, 0.54637064,\n",
       "       0.55563116, 0.56489168, 0.5741522 , 0.58341272, 0.59267324,\n",
       "       0.60193376, 0.61119428, 0.6204548 , 0.62971531, 0.63897583,\n",
       "       0.64823635, 0.65749687, 0.66675739, 0.67601791, 0.68527843,\n",
       "       0.69453895, 0.70379947, 0.71305999, 0.72232051, 0.73158103,\n",
       "       0.74084155, 0.75010207, 0.75936259, 0.7686231 , 0.77788362,\n",
       "       0.78714414, 0.79640466, 0.80566518, 0.8149257 , 0.82418622,\n",
       "       0.83344674, 0.84270726, 0.85196778, 0.8612283 , 0.87048882,\n",
       "       0.87974934, 0.88900986, 0.89827037, 0.90753089, 0.91679141])"
      ]
     },
     "execution_count": 115,
     "metadata": {},
     "output_type": "execute_result"
    }
   ],
   "source": [
    "boundsB/mu"
   ]
  },
  {
   "cell_type": "code",
   "execution_count": 116,
   "id": "4579e49a-072a-41ee-86bd-0f1fc9e61086",
   "metadata": {},
   "outputs": [
    {
     "data": {
      "text/plain": [
       "array([2.00000000e-05, 1.53464149e-03, 4.93169951e-03, 1.00378175e-02,\n",
       "       1.68170183e-02, 2.50240900e-02, 3.45296292e-02, 4.58913027e-02,\n",
       "       5.85467488e-02, 7.22492515e-02, 8.78239245e-02, 1.02820959e-01,\n",
       "       1.19656296e-01, 1.38154008e-01, 1.57567530e-01, 1.76243993e-01,\n",
       "       1.95775345e-01, 2.16079226e-01, 2.35820501e-01, 2.57813363e-01,\n",
       "       2.81542980e-01, 3.02843604e-01, 3.24754353e-01, 3.47243762e-01,\n",
       "       3.69043352e-01, 3.91160761e-01, 4.13510598e-01, 4.36837941e-01,\n",
       "       4.58297523e-01, 4.80275774e-01, 5.01495063e-01, 5.24034484e-01,\n",
       "       5.43078927e-01, 5.64150560e-01, 5.84729436e-01, 6.04158254e-01,\n",
       "       6.23809127e-01, 6.44347559e-01, 6.65903222e-01, 6.84926074e-01,\n",
       "       7.03527943e-01, 7.23848760e-01, 7.44803270e-01, 7.63966363e-01,\n",
       "       7.82365170e-01, 8.00056033e-01, 8.18256635e-01, 8.37336695e-01,\n",
       "       8.54494162e-01, 8.72934617e-01, 8.92770346e-01, 9.12954139e-01,\n",
       "       9.31009089e-01, 9.50817558e-01, 9.69752505e-01, 9.88860367e-01,\n",
       "       1.00849424e+00, 1.02666767e+00, 1.04355236e+00, 1.06162432e+00,\n",
       "       1.07935510e+00, 1.09760091e+00, 1.11476043e+00, 1.13285261e+00,\n",
       "       1.15207954e+00, 1.16911112e+00, 1.18803268e+00, 1.20442955e+00,\n",
       "       1.22354767e+00, 1.24086178e+00, 1.25724331e+00, 1.27223242e+00,\n",
       "       1.28842525e+00, 1.30505298e+00, 1.32341374e+00, 1.34025059e+00,\n",
       "       1.35692249e+00, 1.37503169e+00, 1.39115204e+00, 1.40827056e+00,\n",
       "       1.42624604e+00, 1.44406598e+00, 1.46050808e+00, 1.47633184e+00,\n",
       "       1.49261323e+00, 1.50989882e+00, 1.52921630e+00, 1.54527130e+00,\n",
       "       1.56321622e+00, 1.57933839e+00, 1.59599546e+00, 1.61306036e+00,\n",
       "       1.63011362e+00, 1.64778336e+00, 1.66323068e+00, 1.67888189e+00,\n",
       "       1.69377928e+00, 1.71062559e+00, 1.72395314e+00, 1.73840191e+00])"
      ]
     },
     "execution_count": 116,
     "metadata": {},
     "output_type": "execute_result"
    }
   ],
   "source": [
    "stop_time0"
   ]
  },
  {
   "cell_type": "code",
   "execution_count": 123,
   "id": "97253847-b63b-4755-a92e-a2b2b41bd595",
   "metadata": {},
   "outputs": [
    {
     "data": {
      "image/png": "[encoded data removed]",
      "text/plain": [
       "<Figure size 432x288 with 1 Axes>"
      ]
     },
     "metadata": {
      "needs_background": "light"
     },
     "output_type": "display_data"
    }
   ],
   "source": [
    "ax=plt.subplot(111)\n",
    "ax.plot(stop_time0/mu)\n",
    "ax.set_yscale(\"log\")"
   ]
  },
  {
   "cell_type": "code",
   "execution_count": 118,
   "id": "80d105a3-cc4d-4645-a596-0752c282d3c6",
   "metadata": {},
   "outputs": [
    {
     "data": {
      "text/plain": [
       "[<matplotlib.lines.Line2D at 0x2afd72aff320>]"
      ]
     },
     "execution_count": 118,
     "metadata": {},
     "output_type": "execute_result"
    },
    {
     "data": {
      "image/png": "[encoded data removed]",
      "text/plain": [
       "<Figure size 432x288 with 1 Axes>"
      ]
     },
     "metadata": {
      "needs_background": "light"
     },
     "output_type": "display_data"
    }
   ],
   "source": [
    "plt.plot(boundsB,stop_time0)\n",
    "plt.plot(boundsB,stop_time1)\n",
    "plt.plot(boundsB, boundsB/mu)"
   ]
  },
  {
   "cell_type": "code",
   "execution_count": 94,
   "id": "d28c9bfc-6797-4dbc-9db2-e614cc8a9009",
   "metadata": {},
   "outputs": [],
   "source": [
    "def give_avg(b, mu):\n",
    "    return np.exp(-b)/mu"
   ]
  },
  {
   "cell_type": "code",
   "execution_count": 96,
   "id": "0d7f273b-5a2d-4104-94c8-0330dce05e8b",
   "metadata": {},
   "outputs": [
    {
     "data": {
      "text/plain": [
       "array([9.26051933e-02, 8.37926440e-02, 7.58187196e-02, 6.86036145e-02,\n",
       "       6.20751174e-02, 5.61678890e-02, 5.08228076e-02, 4.59863780e-02,\n",
       "       4.16101956e-02, 3.76504619e-02, 3.40675468e-02, 3.08255910e-02,\n",
       "       2.78921482e-02, 2.52378594e-02, 2.28361595e-02, 2.06630116e-02,\n",
       "       1.86966661e-02, 1.69174431e-02, 1.53075355e-02, 1.38508309e-02,\n",
       "       1.25327501e-02, 1.13401012e-02, 1.02609479e-02, 9.28448960e-03,\n",
       "       8.40095360e-03, 7.60149716e-03, 6.87811907e-03, 6.22357950e-03,\n",
       "       5.63132760e-03, 5.09543593e-03, 4.61054109e-03, 4.17179010e-03,\n",
       "       3.77479178e-03, 3.41557285e-03, 3.09053812e-03, 2.79643453e-03,\n",
       "       2.53031860e-03, 2.28952695e-03, 2.07164965e-03, 1.87450612e-03,\n",
       "       1.69612328e-03, 1.53471581e-03, 1.38866829e-03, 1.25651903e-03,\n",
       "       1.13694543e-03, 1.02875077e-03, 9.30852192e-04, 8.42269894e-04,\n",
       "       7.62117316e-04, 6.89592265e-04, 6.23968884e-04, 5.64590394e-04,\n",
       "       5.10862515e-04, 4.62247519e-04, 4.18258851e-04, 3.78456259e-04,\n",
       "       3.42441384e-04, 3.09853778e-04, 2.80367292e-04, 2.53686817e-04,\n",
       "       2.29545324e-04, 2.07701199e-04, 1.87935816e-04, 1.70051359e-04,\n",
       "       1.53868832e-04, 1.39226277e-04, 1.25977145e-04, 1.13988835e-04,\n",
       "       1.03141363e-04, 9.33261645e-05, 8.44450057e-05, 7.64090009e-05,\n",
       "       6.91377231e-05, 6.25583989e-05, 5.66051801e-05, 5.12184850e-05,\n",
       "       4.63444017e-05, 4.19341488e-05, 3.79435869e-05, 3.43327772e-05,\n",
       "       3.10655815e-05, 2.81093006e-05, 2.54343469e-05, 2.30139488e-05,\n",
       "       2.08238820e-05, 1.88422276e-05, 1.70491526e-05, 1.54267112e-05,\n",
       "       1.39586656e-05, 1.26303229e-05, 1.14283888e-05, 1.03408338e-05,\n",
       "       9.35677334e-06, 8.46635863e-06, 7.66067808e-06, 6.93166818e-06,\n",
       "       6.27203273e-06, 5.67516991e-06, 5.13510608e-06, 4.64643613e-06])"
      ]
     },
     "execution_count": 96,
     "metadata": {},
     "output_type": "execute_result"
    }
   ],
   "source": [
    "np.exp(-boundsB)/mu"
   ]
  },
  {
   "cell_type": "code",
   "execution_count": 13,
   "id": "c8a426c6-cf7f-439f-8f1b-15cd10cd8c24",
   "metadata": {},
   "outputs": [],
   "source": [
    "alpha = np.array(list(deter[\"h1/h0\"].values()))\n",
    "beta = np.array(list(deter[\"h0/h1\"].values()))"
   ]
  },
  {
   "cell_type": "code",
   "execution_count": 17,
   "id": "9633878a-507f-4364-8f20-7a061aa6c149",
   "metadata": {},
   "outputs": [
    {
     "data": {
      "image/png": "[encoded data removed]",
      "text/plain": [
       "<Figure size 432x288 with 1 Axes>"
      ]
     },
     "metadata": {
      "needs_background": "light"
     },
     "output_type": "display_data"
    }
   ],
   "source": [
    "ax = plt.subplot(111)\n",
    "ax.plot(alpha[-3,:])\n",
    "ax.set_yscale(\"log\")"
   ]
  },
  {
   "cell_type": "code",
   "execution_count": 18,
   "id": "78ff291a-1107-4f2f-b8a7-7e1da6269749",
   "metadata": {},
   "outputs": [],
   "source": [
    "ind_stop_times = [np.argmin(np.abs(times - stop_time0[ind])) for ind in range(len(stop_time0))]"
   ]
  },
  {
   "cell_type": "code",
   "execution_count": 20,
   "id": "20e12ea9-bf6c-4fed-8bc6-89991bf9335e",
   "metadata": {},
   "outputs": [
    {
     "name": "stderr",
     "output_type": "stream",
     "text": [
      "/nfs/pic.es/user/m/mbilkis/qenv_bilkis/lib64/python3.6/site-packages/ipykernel_launcher.py:1: RuntimeWarning: invalid value encountered in double_scalars\n",
      "  \"\"\"Entry point for launching an IPython kernel.\n"
     ]
    }
   ],
   "source": [
    "indis_alpha_is_b = np.zeros((alpha.shape[0], len(boundsB)))\n",
    "for contour, bo in enumerate(range(alpha.shape[0])):\n",
    "    indis_alpha_is_b[contour] = [np.argmin(np.abs(alpha[contour,:] - avg_err_alpha(b))) for b in boundsB]"
   ]
  },
  {
   "cell_type": "code",
   "execution_count": 73,
   "id": "725c9199-d372-48ff-8f98-d20e43ea2d69",
   "metadata": {},
   "outputs": [],
   "source": [
    "def ggiulio_prob(t, b, kappa0, kappa1, eta0 , eta1, n0, n1, gamma0, gamma1):\n",
    "    Su1 = n1 + 0.5 + (kappa1 / gamma1)\n",
    "    Su0 = n0 + 0.5 + (kappa0 / gamma0)\n",
    "\n",
    "    S1 = (np.sqrt(1 + (16.0*eta1*kappa1*Su1/gamma1)) - 1)*(gamma1/(8.0*eta1*kappa1))\n",
    "    S0 = (np.sqrt(1 + (16.0*eta0*kappa0*Su0/gamma0)) - 1)*( gamma0/(8.0*eta0*kappa0))\n",
    "\n",
    "    lam = gamma0 + (8*eta0*kappa0*S0)\n",
    "\n",
    "    aa = (4*eta1*kappa1*(S1**2))/gamma1\n",
    "    bb =(4*eta0*kappa0*S0**2)*(1+((16.0*eta1*kappa1*S1)/ (gamma1 + lam)) + (64.0*(eta1 * kappa1 * S1)**(2)/(gamma1 * (gamma1 + lam))))/ lam\n",
    "    c =8 *(S0*S1*(eta0*kappa0 *eta1*kappa1)**(0.5)) * (gamma1+ (4.0*eta1*kappa1*S1) ) / ((gamma1 + lam)*gamma1)\n",
    "\n",
    "    mu = 4*(eta1*kappa1*aa + (eta0*kappa0*bb) - 2*np.sqrt(eta1*kappa1*eta0*kappa0)*c)\n",
    "    #S= np.sqrt(2*mu)\n",
    "\n",
    "    #div = (np.sqrt(2*np.pi)*S*(t**(3/2)))\n",
    "    return  mu# abs(b)*np.exp(-((abs(b)-mu*t)**2)/(2*t*(S**2)))/div, mu"
   ]
  },
  {
   "cell_type": "code",
   "execution_count": 82,
   "id": "5e4d1fad-9a71-46ce-aadc-ade23efee0f6",
   "metadata": {},
   "outputs": [],
   "source": [
    "pars = give_def_params_discrimination(flip=1, mode = \"damping\")\n",
    "params, exp_path = check_params(pars)\n",
    "[gamma1, omega1, n1, eta1, kappa1], [gamma0, omega0, n0, eta0, kappa0] = params\n",
    "\n",
    "mu= ggiulio_prob(100, 3, kappa0, kappa1, eta0 , eta1, n0, n1, gamma0, gamma1)\n"
   ]
  },
  {
   "cell_type": "code",
   "execution_count": null,
   "id": "dc6b9c5c-ed7c-443d-9d3f-1d1fe06eab9f",
   "metadata": {},
   "outputs": [],
   "source": [
    "plt.plot(np.abs(np.log(np.array([avg_err_alpha(b) for b in boundsB])))/mu)\n",
    "plt.plot(0.5*(stop_time0 + stop_time1))"
   ]
  },
  {
   "cell_type": "code",
   "execution_count": null,
   "id": "5681d0e2-b176-42ed-a5a9-9d0cffbeac94",
   "metadata": {},
   "outputs": [],
   "source": []
  },
  {
   "cell_type": "code",
   "execution_count": null,
   "id": "79d09a71-a4d2-4c6c-a0c6-b1145af1ec0e",
   "metadata": {},
   "outputs": [],
   "source": []
  },
  {
   "cell_type": "code",
   "execution_count": null,
   "id": "ed84563f-04b5-451f-abaa-fef3790eecdc",
   "metadata": {},
   "outputs": [],
   "source": [
    "ax = plt.subplot(111)\n",
    "ax.plot(alpha[-1,:],timind,'.')\n",
    "ax.plot([avg_err_alpha(b) for b in boundsB],[times[int(np.argmin(np.abs(times - ss)))] for ss in stop_time0])\n",
    "ax.plot([avg_err_alpha(b) for b in boundsB],4*np.array([times[int(np.argmin(np.abs(times - ss)))] for ss in stop_time0]))\n",
    "\n",
    "ax.set_xscale(\"log\")"
   ]
  },
  {
   "cell_type": "code",
   "execution_count": 26,
   "id": "ac3fb65d-1473-49f5-bfc0-b2590d16b566",
   "metadata": {},
   "outputs": [],
   "source": [
    "times_det_alpha_is_b = np.zeros((alpha.shape[0], len(boundsB)))\n",
    "for contour, bo in enumerate(range(alpha.shape[0])):\n",
    "    times_det_alpha_is_b[contour] = [times[int(i)] for i in indis_alpha_is_b[contour]]"
   ]
  },
  {
   "cell_type": "code",
   "execution_count": 90,
   "id": "77c978bc-b052-4371-aadf-f0fd30172e73",
   "metadata": {},
   "outputs": [],
   "source": [
    "timind = [times[ind] for ind in indis]"
   ]
  },
  {
   "cell_type": "code",
   "execution_count": 89,
   "id": "efdbf9a6-0986-4c13-b04f-70eaea1143cc",
   "metadata": {},
   "outputs": [
    {
     "name": "stderr",
     "output_type": "stream",
     "text": [
      "/nfs/pic.es/user/m/mbilkis/qenv_bilkis/lib64/python3.6/site-packages/ipykernel_launcher.py:1: RuntimeWarning: invalid value encountered in double_scalars\n",
      "  \"\"\"Entry point for launching an IPython kernel.\n"
     ]
    },
    {
     "data": {
      "text/plain": [
       "[<matplotlib.lines.Line2D at 0x2afd72695fd0>]"
      ]
     },
     "execution_count": 89,
     "metadata": {},
     "output_type": "execute_result"
    },
    {
     "name": "stdout",
     "output_type": "stream",
     "text": [
      "Error in callback <function flush_figures at 0x2afd67df4840> (for post_execute):\n"
     ]
    },
    {
     "ename": "KeyboardInterrupt",
     "evalue": "",
     "output_type": "error",
     "traceback": [
      "\u001b[0;31m---------------------------------------------------------------------------\u001b[0m",
      "\u001b[0;31mKeyboardInterrupt\u001b[0m                         Traceback (most recent call last)",
      "\u001b[0;32m~/qenv_bilkis/lib64/python3.6/site-packages/ipykernel/pylab/backend_inline.py\u001b[0m in \u001b[0;36mflush_figures\u001b[0;34m()\u001b[0m\n\u001b[1;32m    117\u001b[0m         \u001b[0;31m# ignore the tracking, just draw and close all figures\u001b[0m\u001b[0;34m\u001b[0m\u001b[0;34m\u001b[0m\u001b[0;34m\u001b[0m\u001b[0m\n\u001b[1;32m    118\u001b[0m         \u001b[0;32mtry\u001b[0m\u001b[0;34m:\u001b[0m\u001b[0;34m\u001b[0m\u001b[0;34m\u001b[0m\u001b[0m\n\u001b[0;32m--> 119\u001b[0;31m             \u001b[0;32mreturn\u001b[0m \u001b[0mshow\u001b[0m\u001b[0;34m(\u001b[0m\u001b[0;32mTrue\u001b[0m\u001b[0;34m)\u001b[0m\u001b[0;34m\u001b[0m\u001b[0;34m\u001b[0m\u001b[0m\n\u001b[0m\u001b[1;32m    120\u001b[0m         \u001b[0;32mexcept\u001b[0m \u001b[0mException\u001b[0m \u001b[0;32mas\u001b[0m \u001b[0me\u001b[0m\u001b[0;34m:\u001b[0m\u001b[0;34m\u001b[0m\u001b[0;34m\u001b[0m\u001b[0m\n\u001b[1;32m    121\u001b[0m             \u001b[0;31m# safely show traceback if in IPython, else raise\u001b[0m\u001b[0;34m\u001b[0m\u001b[0;34m\u001b[0m\u001b[0;34m\u001b[0m\u001b[0m\n",
      "\u001b[0;32m~/qenv_bilkis/lib64/python3.6/site-packages/ipykernel/pylab/backend_inline.py\u001b[0m in \u001b[0;36mshow\u001b[0;34m(close, block)\u001b[0m\n\u001b[1;32m     39\u001b[0m             display(\n\u001b[1;32m     40\u001b[0m                 \u001b[0mfigure_manager\u001b[0m\u001b[0;34m.\u001b[0m\u001b[0mcanvas\u001b[0m\u001b[0;34m.\u001b[0m\u001b[0mfigure\u001b[0m\u001b[0;34m,\u001b[0m\u001b[0;34m\u001b[0m\u001b[0;34m\u001b[0m\u001b[0m\n\u001b[0;32m---> 41\u001b[0;31m                 \u001b[0mmetadata\u001b[0m\u001b[0;34m=\u001b[0m\u001b[0m_fetch_figure_metadata\u001b[0m\u001b[0;34m(\u001b[0m\u001b[0mfigure_manager\u001b[0m\u001b[0;34m.\u001b[0m\u001b[0mcanvas\u001b[0m\u001b[0;34m.\u001b[0m\u001b[0mfigure\u001b[0m\u001b[0;34m)\u001b[0m\u001b[0;34m\u001b[0m\u001b[0;34m\u001b[0m\u001b[0m\n\u001b[0m\u001b[1;32m     42\u001b[0m             )\n\u001b[1;32m     43\u001b[0m     \u001b[0;32mfinally\u001b[0m\u001b[0;34m:\u001b[0m\u001b[0;34m\u001b[0m\u001b[0;34m\u001b[0m\u001b[0m\n",
      "\u001b[0;32m~/qenv_bilkis/lib64/python3.6/site-packages/IPython/core/display.py\u001b[0m in \u001b[0;36mdisplay\u001b[0;34m(include, exclude, metadata, transient, display_id, *objs, **kwargs)\u001b[0m\n\u001b[1;32m    311\u001b[0m             \u001b[0mpublish_display_data\u001b[0m\u001b[0;34m(\u001b[0m\u001b[0mdata\u001b[0m\u001b[0;34m=\u001b[0m\u001b[0mobj\u001b[0m\u001b[0;34m,\u001b[0m \u001b[0mmetadata\u001b[0m\u001b[0;34m=\u001b[0m\u001b[0mmetadata\u001b[0m\u001b[0;34m,\u001b[0m \u001b[0;34m**\u001b[0m\u001b[0mkwargs\u001b[0m\u001b[0;34m)\u001b[0m\u001b[0;34m\u001b[0m\u001b[0;34m\u001b[0m\u001b[0m\n\u001b[1;32m    312\u001b[0m         \u001b[0;32melse\u001b[0m\u001b[0;34m:\u001b[0m\u001b[0;34m\u001b[0m\u001b[0;34m\u001b[0m\u001b[0m\n\u001b[0;32m--> 313\u001b[0;31m             \u001b[0mformat_dict\u001b[0m\u001b[0;34m,\u001b[0m \u001b[0mmd_dict\u001b[0m \u001b[0;34m=\u001b[0m \u001b[0mformat\u001b[0m\u001b[0;34m(\u001b[0m\u001b[0mobj\u001b[0m\u001b[0;34m,\u001b[0m \u001b[0minclude\u001b[0m\u001b[0;34m=\u001b[0m\u001b[0minclude\u001b[0m\u001b[0;34m,\u001b[0m \u001b[0mexclude\u001b[0m\u001b[0;34m=\u001b[0m\u001b[0mexclude\u001b[0m\u001b[0;34m)\u001b[0m\u001b[0;34m\u001b[0m\u001b[0;34m\u001b[0m\u001b[0m\n\u001b[0m\u001b[1;32m    314\u001b[0m             \u001b[0;32mif\u001b[0m \u001b[0;32mnot\u001b[0m \u001b[0mformat_dict\u001b[0m\u001b[0;34m:\u001b[0m\u001b[0;34m\u001b[0m\u001b[0;34m\u001b[0m\u001b[0m\n\u001b[1;32m    315\u001b[0m                 \u001b[0;31m# nothing to display (e.g. _ipython_display_ took over)\u001b[0m\u001b[0;34m\u001b[0m\u001b[0;34m\u001b[0m\u001b[0;34m\u001b[0m\u001b[0m\n",
      "\u001b[0;32m~/qenv_bilkis/lib64/python3.6/site-packages/IPython/core/formatters.py\u001b[0m in \u001b[0;36mformat\u001b[0;34m(self, obj, include, exclude)\u001b[0m\n\u001b[1;32m    178\u001b[0m             \u001b[0mmd\u001b[0m \u001b[0;34m=\u001b[0m \u001b[0;32mNone\u001b[0m\u001b[0;34m\u001b[0m\u001b[0;34m\u001b[0m\u001b[0m\n\u001b[1;32m    179\u001b[0m             \u001b[0;32mtry\u001b[0m\u001b[0;34m:\u001b[0m\u001b[0;34m\u001b[0m\u001b[0;34m\u001b[0m\u001b[0m\n\u001b[0;32m--> 180\u001b[0;31m                 \u001b[0mdata\u001b[0m \u001b[0;34m=\u001b[0m \u001b[0mformatter\u001b[0m\u001b[0;34m(\u001b[0m\u001b[0mobj\u001b[0m\u001b[0;34m)\u001b[0m\u001b[0;34m\u001b[0m\u001b[0;34m\u001b[0m\u001b[0m\n\u001b[0m\u001b[1;32m    181\u001b[0m             \u001b[0;32mexcept\u001b[0m\u001b[0;34m:\u001b[0m\u001b[0;34m\u001b[0m\u001b[0;34m\u001b[0m\u001b[0m\n\u001b[1;32m    182\u001b[0m                 \u001b[0;31m# FIXME: log the exception\u001b[0m\u001b[0;34m\u001b[0m\u001b[0;34m\u001b[0m\u001b[0;34m\u001b[0m\u001b[0m\n",
      "\u001b[0;32m<decorator-gen-9>\u001b[0m in \u001b[0;36m__call__\u001b[0;34m(self, obj)\u001b[0m\n",
      "\u001b[0;32m~/qenv_bilkis/lib64/python3.6/site-packages/IPython/core/formatters.py\u001b[0m in \u001b[0;36mcatch_format_error\u001b[0;34m(method, self, *args, **kwargs)\u001b[0m\n\u001b[1;32m    222\u001b[0m     \u001b[0;34m\"\"\"show traceback on failed format call\"\"\"\u001b[0m\u001b[0;34m\u001b[0m\u001b[0;34m\u001b[0m\u001b[0m\n\u001b[1;32m    223\u001b[0m     \u001b[0;32mtry\u001b[0m\u001b[0;34m:\u001b[0m\u001b[0;34m\u001b[0m\u001b[0;34m\u001b[0m\u001b[0m\n\u001b[0;32m--> 224\u001b[0;31m         \u001b[0mr\u001b[0m \u001b[0;34m=\u001b[0m \u001b[0mmethod\u001b[0m\u001b[0;34m(\u001b[0m\u001b[0mself\u001b[0m\u001b[0;34m,\u001b[0m \u001b[0;34m*\u001b[0m\u001b[0margs\u001b[0m\u001b[0;34m,\u001b[0m \u001b[0;34m**\u001b[0m\u001b[0mkwargs\u001b[0m\u001b[0;34m)\u001b[0m\u001b[0;34m\u001b[0m\u001b[0;34m\u001b[0m\u001b[0m\n\u001b[0m\u001b[1;32m    225\u001b[0m     \u001b[0;32mexcept\u001b[0m \u001b[0mNotImplementedError\u001b[0m\u001b[0;34m:\u001b[0m\u001b[0;34m\u001b[0m\u001b[0;34m\u001b[0m\u001b[0m\n\u001b[1;32m    226\u001b[0m         \u001b[0;31m# don't warn on NotImplementedErrors\u001b[0m\u001b[0;34m\u001b[0m\u001b[0;34m\u001b[0m\u001b[0;34m\u001b[0m\u001b[0m\n",
      "\u001b[0;32m~/qenv_bilkis/lib64/python3.6/site-packages/IPython/core/formatters.py\u001b[0m in \u001b[0;36m__call__\u001b[0;34m(self, obj)\u001b[0m\n\u001b[1;32m    339\u001b[0m                 \u001b[0;32mpass\u001b[0m\u001b[0;34m\u001b[0m\u001b[0;34m\u001b[0m\u001b[0m\n\u001b[1;32m    340\u001b[0m             \u001b[0;32melse\u001b[0m\u001b[0;34m:\u001b[0m\u001b[0;34m\u001b[0m\u001b[0;34m\u001b[0m\u001b[0m\n\u001b[0;32m--> 341\u001b[0;31m                 \u001b[0;32mreturn\u001b[0m \u001b[0mprinter\u001b[0m\u001b[0;34m(\u001b[0m\u001b[0mobj\u001b[0m\u001b[0;34m)\u001b[0m\u001b[0;34m\u001b[0m\u001b[0;34m\u001b[0m\u001b[0m\n\u001b[0m\u001b[1;32m    342\u001b[0m             \u001b[0;31m# Finally look for special method names\u001b[0m\u001b[0;34m\u001b[0m\u001b[0;34m\u001b[0m\u001b[0;34m\u001b[0m\u001b[0m\n\u001b[1;32m    343\u001b[0m             \u001b[0mmethod\u001b[0m \u001b[0;34m=\u001b[0m \u001b[0mget_real_method\u001b[0m\u001b[0;34m(\u001b[0m\u001b[0mobj\u001b[0m\u001b[0;34m,\u001b[0m \u001b[0mself\u001b[0m\u001b[0;34m.\u001b[0m\u001b[0mprint_method\u001b[0m\u001b[0;34m)\u001b[0m\u001b[0;34m\u001b[0m\u001b[0;34m\u001b[0m\u001b[0m\n",
      "\u001b[0;32m~/qenv_bilkis/lib64/python3.6/site-packages/IPython/core/pylabtools.py\u001b[0m in \u001b[0;36m<lambda>\u001b[0;34m(fig)\u001b[0m\n\u001b[1;32m    246\u001b[0m \u001b[0;34m\u001b[0m\u001b[0m\n\u001b[1;32m    247\u001b[0m     \u001b[0;32mif\u001b[0m \u001b[0;34m'png'\u001b[0m \u001b[0;32min\u001b[0m \u001b[0mformats\u001b[0m\u001b[0;34m:\u001b[0m\u001b[0;34m\u001b[0m\u001b[0;34m\u001b[0m\u001b[0m\n\u001b[0;32m--> 248\u001b[0;31m         \u001b[0mpng_formatter\u001b[0m\u001b[0;34m.\u001b[0m\u001b[0mfor_type\u001b[0m\u001b[0;34m(\u001b[0m\u001b[0mFigure\u001b[0m\u001b[0;34m,\u001b[0m \u001b[0;32mlambda\u001b[0m \u001b[0mfig\u001b[0m\u001b[0;34m:\u001b[0m \u001b[0mprint_figure\u001b[0m\u001b[0;34m(\u001b[0m\u001b[0mfig\u001b[0m\u001b[0;34m,\u001b[0m \u001b[0;34m'png'\u001b[0m\u001b[0;34m,\u001b[0m \u001b[0;34m**\u001b[0m\u001b[0mkwargs\u001b[0m\u001b[0;34m)\u001b[0m\u001b[0;34m)\u001b[0m\u001b[0;34m\u001b[0m\u001b[0;34m\u001b[0m\u001b[0m\n\u001b[0m\u001b[1;32m    249\u001b[0m     \u001b[0;32mif\u001b[0m \u001b[0;34m'retina'\u001b[0m \u001b[0;32min\u001b[0m \u001b[0mformats\u001b[0m \u001b[0;32mor\u001b[0m \u001b[0;34m'png2x'\u001b[0m \u001b[0;32min\u001b[0m \u001b[0mformats\u001b[0m\u001b[0;34m:\u001b[0m\u001b[0;34m\u001b[0m\u001b[0;34m\u001b[0m\u001b[0m\n\u001b[1;32m    250\u001b[0m         \u001b[0mpng_formatter\u001b[0m\u001b[0;34m.\u001b[0m\u001b[0mfor_type\u001b[0m\u001b[0;34m(\u001b[0m\u001b[0mFigure\u001b[0m\u001b[0;34m,\u001b[0m \u001b[0;32mlambda\u001b[0m \u001b[0mfig\u001b[0m\u001b[0;34m:\u001b[0m \u001b[0mretina_figure\u001b[0m\u001b[0;34m(\u001b[0m\u001b[0mfig\u001b[0m\u001b[0;34m,\u001b[0m \u001b[0;34m**\u001b[0m\u001b[0mkwargs\u001b[0m\u001b[0;34m)\u001b[0m\u001b[0;34m)\u001b[0m\u001b[0;34m\u001b[0m\u001b[0;34m\u001b[0m\u001b[0m\n",
      "\u001b[0;32m~/qenv_bilkis/lib64/python3.6/site-packages/IPython/core/pylabtools.py\u001b[0m in \u001b[0;36mprint_figure\u001b[0;34m(fig, fmt, bbox_inches, **kwargs)\u001b[0m\n\u001b[1;32m    130\u001b[0m         \u001b[0mFigureCanvasBase\u001b[0m\u001b[0;34m(\u001b[0m\u001b[0mfig\u001b[0m\u001b[0;34m)\u001b[0m\u001b[0;34m\u001b[0m\u001b[0;34m\u001b[0m\u001b[0m\n\u001b[1;32m    131\u001b[0m \u001b[0;34m\u001b[0m\u001b[0m\n\u001b[0;32m--> 132\u001b[0;31m     \u001b[0mfig\u001b[0m\u001b[0;34m.\u001b[0m\u001b[0mcanvas\u001b[0m\u001b[0;34m.\u001b[0m\u001b[0mprint_figure\u001b[0m\u001b[0;34m(\u001b[0m\u001b[0mbytes_io\u001b[0m\u001b[0;34m,\u001b[0m \u001b[0;34m**\u001b[0m\u001b[0mkw\u001b[0m\u001b[0;34m)\u001b[0m\u001b[0;34m\u001b[0m\u001b[0;34m\u001b[0m\u001b[0m\n\u001b[0m\u001b[1;32m    133\u001b[0m     \u001b[0mdata\u001b[0m \u001b[0;34m=\u001b[0m \u001b[0mbytes_io\u001b[0m\u001b[0;34m.\u001b[0m\u001b[0mgetvalue\u001b[0m\u001b[0;34m(\u001b[0m\u001b[0;34m)\u001b[0m\u001b[0;34m\u001b[0m\u001b[0;34m\u001b[0m\u001b[0m\n\u001b[1;32m    134\u001b[0m     \u001b[0;32mif\u001b[0m \u001b[0mfmt\u001b[0m \u001b[0;34m==\u001b[0m \u001b[0;34m'svg'\u001b[0m\u001b[0;34m:\u001b[0m\u001b[0;34m\u001b[0m\u001b[0;34m\u001b[0m\u001b[0m\n",
      "\u001b[0;32m~/qenv_bilkis/lib64/python3.6/site-packages/matplotlib/backend_bases.py\u001b[0m in \u001b[0;36mprint_figure\u001b[0;34m(self, filename, dpi, facecolor, edgecolor, orientation, format, bbox_inches, pad_inches, bbox_extra_artists, backend, **kwargs)\u001b[0m\n\u001b[1;32m   2194\u001b[0m \u001b[0;34m\u001b[0m\u001b[0m\n\u001b[1;32m   2195\u001b[0m                     bbox_inches = self.figure.get_tightbbox(\n\u001b[0;32m-> 2196\u001b[0;31m                         renderer, bbox_extra_artists=bbox_extra_artists)\n\u001b[0m\u001b[1;32m   2197\u001b[0m                     \u001b[0;32mif\u001b[0m \u001b[0mpad_inches\u001b[0m \u001b[0;32mis\u001b[0m \u001b[0;32mNone\u001b[0m\u001b[0;34m:\u001b[0m\u001b[0;34m\u001b[0m\u001b[0;34m\u001b[0m\u001b[0m\n\u001b[1;32m   2198\u001b[0m                         \u001b[0mpad_inches\u001b[0m \u001b[0;34m=\u001b[0m \u001b[0mrcParams\u001b[0m\u001b[0;34m[\u001b[0m\u001b[0;34m'savefig.pad_inches'\u001b[0m\u001b[0;34m]\u001b[0m\u001b[0;34m\u001b[0m\u001b[0;34m\u001b[0m\u001b[0m\n",
      "\u001b[0;32m~/qenv_bilkis/lib64/python3.6/site-packages/matplotlib/figure.py\u001b[0m in \u001b[0;36mget_tightbbox\u001b[0;34m(self, renderer, bbox_extra_artists)\u001b[0m\n\u001b[1;32m   2514\u001b[0m                 \u001b[0;32mtry\u001b[0m\u001b[0;34m:\u001b[0m\u001b[0;34m\u001b[0m\u001b[0;34m\u001b[0m\u001b[0m\n\u001b[1;32m   2515\u001b[0m                     bbox = ax.get_tightbbox(\n\u001b[0;32m-> 2516\u001b[0;31m                         renderer, bbox_extra_artists=bbox_extra_artists)\n\u001b[0m\u001b[1;32m   2517\u001b[0m                 \u001b[0;32mexcept\u001b[0m \u001b[0mTypeError\u001b[0m\u001b[0;34m:\u001b[0m\u001b[0;34m\u001b[0m\u001b[0;34m\u001b[0m\u001b[0m\n\u001b[1;32m   2518\u001b[0m                     \u001b[0mbbox\u001b[0m \u001b[0;34m=\u001b[0m \u001b[0max\u001b[0m\u001b[0;34m.\u001b[0m\u001b[0mget_tightbbox\u001b[0m\u001b[0;34m(\u001b[0m\u001b[0mrenderer\u001b[0m\u001b[0;34m)\u001b[0m\u001b[0;34m\u001b[0m\u001b[0;34m\u001b[0m\u001b[0m\n",
      "\u001b[0;32m~/qenv_bilkis/lib64/python3.6/site-packages/matplotlib/axes/_base.py\u001b[0m in \u001b[0;36mget_tightbbox\u001b[0;34m(self, renderer, call_axes_locator, bbox_extra_artists, for_layout_only)\u001b[0m\n\u001b[1;32m   4152\u001b[0m                 \u001b[0;32mtry\u001b[0m\u001b[0;34m:\u001b[0m\u001b[0;34m\u001b[0m\u001b[0;34m\u001b[0m\u001b[0m\n\u001b[1;32m   4153\u001b[0m                     bb_xaxis = self.xaxis.get_tightbbox(\n\u001b[0;32m-> 4154\u001b[0;31m                         renderer, for_layout_only=for_layout_only)\n\u001b[0m\u001b[1;32m   4155\u001b[0m                 \u001b[0;32mexcept\u001b[0m \u001b[0mTypeError\u001b[0m\u001b[0;34m:\u001b[0m\u001b[0;34m\u001b[0m\u001b[0;34m\u001b[0m\u001b[0m\n\u001b[1;32m   4156\u001b[0m                     \u001b[0;31m# in case downstream library has redefined axis:\u001b[0m\u001b[0;34m\u001b[0m\u001b[0;34m\u001b[0m\u001b[0;34m\u001b[0m\u001b[0m\n",
      "\u001b[0;32m~/qenv_bilkis/lib64/python3.6/site-packages/matplotlib/axis.py\u001b[0m in \u001b[0;36mget_tightbbox\u001b[0;34m(self, renderer, for_layout_only)\u001b[0m\n\u001b[1;32m   1113\u001b[0m         \u001b[0;31m# go back to just this axis's tick labels\u001b[0m\u001b[0;34m\u001b[0m\u001b[0;34m\u001b[0m\u001b[0;34m\u001b[0m\u001b[0m\n\u001b[1;32m   1114\u001b[0m         ticklabelBoxes, ticklabelBoxes2 = self._get_tick_bboxes(\n\u001b[0;32m-> 1115\u001b[0;31m                     ticks_to_draw, renderer)\n\u001b[0m\u001b[1;32m   1116\u001b[0m \u001b[0;34m\u001b[0m\u001b[0m\n\u001b[1;32m   1117\u001b[0m         \u001b[0mself\u001b[0m\u001b[0;34m.\u001b[0m\u001b[0m_update_offset_text_position\u001b[0m\u001b[0;34m(\u001b[0m\u001b[0mticklabelBoxes\u001b[0m\u001b[0;34m,\u001b[0m \u001b[0mticklabelBoxes2\u001b[0m\u001b[0;34m)\u001b[0m\u001b[0;34m\u001b[0m\u001b[0;34m\u001b[0m\u001b[0m\n",
      "\u001b[0;32m~/qenv_bilkis/lib64/python3.6/site-packages/matplotlib/axis.py\u001b[0m in \u001b[0;36m_get_tick_bboxes\u001b[0;34m(self, ticks, renderer)\u001b[0m\n\u001b[1;32m   1090\u001b[0m         \u001b[0;34m\"\"\"Return lists of bboxes for ticks' label1's and label2's.\"\"\"\u001b[0m\u001b[0;34m\u001b[0m\u001b[0;34m\u001b[0m\u001b[0m\n\u001b[1;32m   1091\u001b[0m         return ([tick.label1.get_window_extent(renderer)\n\u001b[0;32m-> 1092\u001b[0;31m                  for tick in ticks if tick.label1.get_visible()],\n\u001b[0m\u001b[1;32m   1093\u001b[0m                 [tick.label2.get_window_extent(renderer)\n\u001b[1;32m   1094\u001b[0m                  for tick in ticks if tick.label2.get_visible()])\n",
      "\u001b[0;32m~/qenv_bilkis/lib64/python3.6/site-packages/matplotlib/axis.py\u001b[0m in \u001b[0;36m<listcomp>\u001b[0;34m(.0)\u001b[0m\n\u001b[1;32m   1090\u001b[0m         \u001b[0;34m\"\"\"Return lists of bboxes for ticks' label1's and label2's.\"\"\"\u001b[0m\u001b[0;34m\u001b[0m\u001b[0;34m\u001b[0m\u001b[0m\n\u001b[1;32m   1091\u001b[0m         return ([tick.label1.get_window_extent(renderer)\n\u001b[0;32m-> 1092\u001b[0;31m                  for tick in ticks if tick.label1.get_visible()],\n\u001b[0m\u001b[1;32m   1093\u001b[0m                 [tick.label2.get_window_extent(renderer)\n\u001b[1;32m   1094\u001b[0m                  for tick in ticks if tick.label2.get_visible()])\n",
      "\u001b[0;32m~/qenv_bilkis/lib64/python3.6/site-packages/matplotlib/text.py\u001b[0m in \u001b[0;36mget_window_extent\u001b[0;34m(self, renderer, dpi)\u001b[0m\n\u001b[1;32m    902\u001b[0m             \u001b[0mbbox\u001b[0m\u001b[0;34m,\u001b[0m \u001b[0minfo\u001b[0m\u001b[0;34m,\u001b[0m \u001b[0mdescent\u001b[0m \u001b[0;34m=\u001b[0m \u001b[0mself\u001b[0m\u001b[0;34m.\u001b[0m\u001b[0m_get_layout\u001b[0m\u001b[0;34m(\u001b[0m\u001b[0mself\u001b[0m\u001b[0;34m.\u001b[0m\u001b[0m_renderer\u001b[0m\u001b[0;34m)\u001b[0m\u001b[0;34m\u001b[0m\u001b[0;34m\u001b[0m\u001b[0m\n\u001b[1;32m    903\u001b[0m             \u001b[0mx\u001b[0m\u001b[0;34m,\u001b[0m \u001b[0my\u001b[0m \u001b[0;34m=\u001b[0m \u001b[0mself\u001b[0m\u001b[0;34m.\u001b[0m\u001b[0mget_unitless_position\u001b[0m\u001b[0;34m(\u001b[0m\u001b[0;34m)\u001b[0m\u001b[0;34m\u001b[0m\u001b[0;34m\u001b[0m\u001b[0m\n\u001b[0;32m--> 904\u001b[0;31m             \u001b[0mx\u001b[0m\u001b[0;34m,\u001b[0m \u001b[0my\u001b[0m \u001b[0;34m=\u001b[0m \u001b[0mself\u001b[0m\u001b[0;34m.\u001b[0m\u001b[0mget_transform\u001b[0m\u001b[0;34m(\u001b[0m\u001b[0;34m)\u001b[0m\u001b[0;34m.\u001b[0m\u001b[0mtransform\u001b[0m\u001b[0;34m(\u001b[0m\u001b[0;34m(\u001b[0m\u001b[0mx\u001b[0m\u001b[0;34m,\u001b[0m \u001b[0my\u001b[0m\u001b[0;34m)\u001b[0m\u001b[0;34m)\u001b[0m\u001b[0;34m\u001b[0m\u001b[0;34m\u001b[0m\u001b[0m\n\u001b[0m\u001b[1;32m    905\u001b[0m             \u001b[0mbbox\u001b[0m \u001b[0;34m=\u001b[0m \u001b[0mbbox\u001b[0m\u001b[0;34m.\u001b[0m\u001b[0mtranslated\u001b[0m\u001b[0;34m(\u001b[0m\u001b[0mx\u001b[0m\u001b[0;34m,\u001b[0m \u001b[0my\u001b[0m\u001b[0;34m)\u001b[0m\u001b[0;34m\u001b[0m\u001b[0;34m\u001b[0m\u001b[0m\n\u001b[1;32m    906\u001b[0m             \u001b[0;32mreturn\u001b[0m \u001b[0mbbox\u001b[0m\u001b[0;34m\u001b[0m\u001b[0;34m\u001b[0m\u001b[0m\n",
      "\u001b[0;32m~/qenv_bilkis/lib64/python3.6/site-packages/matplotlib/transforms.py\u001b[0m in \u001b[0;36mtransform\u001b[0;34m(self, values)\u001b[0m\n\u001b[1;32m   1420\u001b[0m \u001b[0;34m\u001b[0m\u001b[0m\n\u001b[1;32m   1421\u001b[0m         \u001b[0;31m# Transform the values\u001b[0m\u001b[0;34m\u001b[0m\u001b[0;34m\u001b[0m\u001b[0;34m\u001b[0m\u001b[0m\n\u001b[0;32m-> 1422\u001b[0;31m         \u001b[0mres\u001b[0m \u001b[0;34m=\u001b[0m \u001b[0mself\u001b[0m\u001b[0;34m.\u001b[0m\u001b[0mtransform_affine\u001b[0m\u001b[0;34m(\u001b[0m\u001b[0mself\u001b[0m\u001b[0;34m.\u001b[0m\u001b[0mtransform_non_affine\u001b[0m\u001b[0;34m(\u001b[0m\u001b[0mvalues\u001b[0m\u001b[0;34m)\u001b[0m\u001b[0;34m)\u001b[0m\u001b[0;34m\u001b[0m\u001b[0;34m\u001b[0m\u001b[0m\n\u001b[0m\u001b[1;32m   1423\u001b[0m \u001b[0;34m\u001b[0m\u001b[0m\n\u001b[1;32m   1424\u001b[0m         \u001b[0;31m# Convert the result back to the shape of the input values.\u001b[0m\u001b[0;34m\u001b[0m\u001b[0;34m\u001b[0m\u001b[0;34m\u001b[0m\u001b[0m\n",
      "\u001b[0;32m~/qenv_bilkis/lib64/python3.6/site-packages/matplotlib/transforms.py\u001b[0m in \u001b[0;36mtransform_non_affine\u001b[0;34m(self, points)\u001b[0m\n\u001b[1;32m   2346\u001b[0m     \u001b[0;32mdef\u001b[0m \u001b[0mtransform_non_affine\u001b[0m\u001b[0;34m(\u001b[0m\u001b[0mself\u001b[0m\u001b[0;34m,\u001b[0m \u001b[0mpoints\u001b[0m\u001b[0;34m)\u001b[0m\u001b[0;34m:\u001b[0m\u001b[0;34m\u001b[0m\u001b[0;34m\u001b[0m\u001b[0m\n\u001b[1;32m   2347\u001b[0m         \u001b[0;31m# docstring inherited\u001b[0m\u001b[0;34m\u001b[0m\u001b[0;34m\u001b[0m\u001b[0;34m\u001b[0m\u001b[0m\n\u001b[0;32m-> 2348\u001b[0;31m         \u001b[0;32mif\u001b[0m \u001b[0mself\u001b[0m\u001b[0;34m.\u001b[0m\u001b[0m_a\u001b[0m\u001b[0;34m.\u001b[0m\u001b[0mis_affine\u001b[0m \u001b[0;32mand\u001b[0m \u001b[0mself\u001b[0m\u001b[0;34m.\u001b[0m\u001b[0m_b\u001b[0m\u001b[0;34m.\u001b[0m\u001b[0mis_affine\u001b[0m\u001b[0;34m:\u001b[0m\u001b[0;34m\u001b[0m\u001b[0;34m\u001b[0m\u001b[0m\n\u001b[0m\u001b[1;32m   2349\u001b[0m             \u001b[0;32mreturn\u001b[0m \u001b[0mpoints\u001b[0m\u001b[0;34m\u001b[0m\u001b[0;34m\u001b[0m\u001b[0m\n\u001b[1;32m   2350\u001b[0m         \u001b[0;32melif\u001b[0m \u001b[0;32mnot\u001b[0m \u001b[0mself\u001b[0m\u001b[0;34m.\u001b[0m\u001b[0m_a\u001b[0m\u001b[0;34m.\u001b[0m\u001b[0mis_affine\u001b[0m \u001b[0;32mand\u001b[0m \u001b[0mself\u001b[0m\u001b[0;34m.\u001b[0m\u001b[0m_b\u001b[0m\u001b[0;34m.\u001b[0m\u001b[0mis_affine\u001b[0m\u001b[0;34m:\u001b[0m\u001b[0;34m\u001b[0m\u001b[0;34m\u001b[0m\u001b[0m\n",
      "\u001b[0;32m~/qenv_bilkis/lib64/python3.6/site-packages/matplotlib/transforms.py\u001b[0m in \u001b[0;36m<lambda>\u001b[0;34m(self)\u001b[0m\n\u001b[1;32m   2141\u001b[0m         \u001b[0;32mreturn\u001b[0m \u001b[0;32mFalse\u001b[0m\u001b[0;34m\u001b[0m\u001b[0;34m\u001b[0m\u001b[0m\n\u001b[1;32m   2142\u001b[0m \u001b[0;34m\u001b[0m\u001b[0m\n\u001b[0;32m-> 2143\u001b[0;31m     \u001b[0mis_affine\u001b[0m \u001b[0;34m=\u001b[0m \u001b[0mproperty\u001b[0m\u001b[0;34m(\u001b[0m\u001b[0;32mlambda\u001b[0m \u001b[0mself\u001b[0m\u001b[0;34m:\u001b[0m \u001b[0mself\u001b[0m\u001b[0;34m.\u001b[0m\u001b[0m_x\u001b[0m\u001b[0;34m.\u001b[0m\u001b[0mis_affine\u001b[0m \u001b[0;32mand\u001b[0m \u001b[0mself\u001b[0m\u001b[0;34m.\u001b[0m\u001b[0m_y\u001b[0m\u001b[0;34m.\u001b[0m\u001b[0mis_affine\u001b[0m\u001b[0;34m)\u001b[0m\u001b[0;34m\u001b[0m\u001b[0;34m\u001b[0m\u001b[0m\n\u001b[0m\u001b[1;32m   2144\u001b[0m     has_inverse = property(\n\u001b[1;32m   2145\u001b[0m         lambda self: self._x.has_inverse and self._y.has_inverse)\n",
      "\u001b[0;31mKeyboardInterrupt\u001b[0m: "
     ]
    }
   ],
   "source": [
    "#plt.plot(timind, [avg_err_alpha(b) for b in boundsB])\n",
    "plt.plot(timind, alpha[0,:])\n",
    "plt.plot(stop_time0, [avg_err_alpha(b) for b in boundsB])"
   ]
  },
  {
   "cell_type": "code",
   "execution_count": 35,
   "id": "75dd526f-d1f1-4175-990b-f24524a657ff",
   "metadata": {},
   "outputs": [
    {
     "data": {
      "text/plain": [
       "array([ 0., 45., 45., 45., 45., 45., 45., 46., 46., 46., 46., 46., 46.,\n",
       "       47., 47., 47., 47., 47., 47., 47., 47., 48., 48., 48., 48., 48.,\n",
       "       48., 48., 49., 49., 49., 49., 49., 49., 49., 49., 49., 49., 49.,\n",
       "       49., 49., 49., 49., 49., 49., 49., 49., 49., 49., 49., 49., 49.,\n",
       "       49., 49., 49., 49., 49., 49., 49., 49., 49., 49., 49., 49., 49.,\n",
       "       49., 49., 49., 49., 49., 49., 49., 49., 49., 49., 49., 49., 49.,\n",
       "       49., 49., 49., 49., 49., 49., 49., 49., 49., 49., 49., 49., 49.,\n",
       "       49., 49., 49., 49., 49., 49., 49., 49., 49.])"
      ]
     },
     "execution_count": 35,
     "metadata": {},
     "output_type": "execute_result"
    }
   ],
   "source": [
    "indis_alpha_is_b[-1,:]"
   ]
  },
  {
   "cell_type": "code",
   "execution_count": 29,
   "id": "55343e34-4188-4aa0-b903-9783be8422fa",
   "metadata": {},
   "outputs": [
    {
     "data": {
      "text/plain": [
       "[<matplotlib.lines.Line2D at 0x2afd72014240>]"
      ]
     },
     "execution_count": 29,
     "metadata": {},
     "output_type": "execute_result"
    },
    {
     "data": {
      "image/png": "[encoded data removed]",
      "text/plain": [
       "<Figure size 432x288 with 1 Axes>"
      ]
     },
     "metadata": {
      "needs_background": "light"
     },
     "output_type": "display_data"
    }
   ],
   "source": [
    "plt.plot(times_det_alpha_is_b[-1])\n",
    "#plt.plot(stop_time0)"
   ]
  },
  {
   "cell_type": "code",
   "execution_count": null,
   "id": "2d47b907-c42e-4177-b5b3-7edbd78e3d1c",
   "metadata": {},
   "outputs": [],
   "source": []
  },
  {
   "cell_type": "code",
   "execution_count": null,
   "id": "f582715f-b3ec-4f10-8abc-2af561186849",
   "metadata": {},
   "outputs": [],
   "source": [
    "for itraj in tqdm(range(2,3000)):\n",
    "    try:\n",
    "        log_lik_ratio, log_lik_ratio_swap = load_liks(itraj)\n",
    "        stop[\"h0/h1\"][itraj] = []\n",
    "        stop[\"h1/h0\"][itraj] = []\n",
    "        ll += log_lik_ratio\n",
    "        ll0+= log_lik_ratio_swap\n",
    "        n+=1\n",
    "        for ind, time_index in enumerate(indis):\n",
    "            h0_deter = log_lik_ratio[time_index] <= 0\n",
    "            h1_deter = log_lik_ratio_swap[time_index] <= 0\n",
    "            deter[\"h0/h1\"][ind] +=  (int(h0_deter) - deter[\"h0/h1\"][ind] )/n\n",
    "            deter[\"h1/h0\"][ind] += (int(h0_deter) - deter[\"h1/h0\"][ind])/n\n",
    "            \n",
    "            deter[\"h0/h1\"][ind] +=  (int(h0_deter) - deter[\"h0/h1\"][ind] )/n\n",
    "            deter[\"h1/h0\"][ind] += (int(h0_deter) - deter[\"h1/h0\"][ind])/n\n",
    "        for b in boundsB:\n",
    "            stop[\"h0/h1\"][itraj].append(get_stop_time(log_lik_ratio, b))\n",
    "            stop[\"h1/h0\"][itraj].append(get_stop_time(log_lik_ratio_swap, b))\n"
   ]
  },
  {
   "cell_type": "code",
   "execution_count": 24,
   "id": "62335e0a-cee1-465d-ae8b-6256530f9b66",
   "metadata": {},
   "outputs": [
    {
     "data": {
      "text/plain": [
       "[<matplotlib.lines.Line2D at 0x2b220ba98710>]"
      ]
     },
     "execution_count": 24,
     "metadata": {},
     "output_type": "execute_result"
    },
    {
     "data": {
      "image/png": "[encoded data removed]",
      "text/plain": [
       "<Figure size 432x288 with 1 Axes>"
      ]
     },
     "metadata": {
      "needs_background": "light"
     },
     "output_type": "display_data"
    }
   ],
   "source": [
    "plt.plot(np.array(deter[\"h1/h0\"]))"
   ]
  },
  {
   "cell_type": "code",
   "execution_count": 21,
   "id": "b58a3cf0-2b8d-4972-bfdf-55068b797910",
   "metadata": {},
   "outputs": [
    {
     "data": {
      "text/plain": [
       "[<matplotlib.lines.Line2D at 0x2b220b97f9e8>]"
      ]
     },
     "execution_count": 21,
     "metadata": {},
     "output_type": "execute_result"
    },
    {
     "data": {
      "image/png": "[encoded data removed]",
      "text/plain": [
       "<Figure size 432x288 with 1 Axes>"
      ]
     },
     "metadata": {
      "needs_background": "light"
     },
     "output_type": "display_data"
    }
   ],
   "source": [
    "plt.plot([times[ind] for ind in indis], 0.5*np.array(deter[\"h0/h1\"])+np.array(deter[\"h1/h0\"]))"
   ]
  },
  {
   "cell_type": "code",
   "execution_count": 120,
   "id": "d78fbe40-1cf7-4855-b05b-f63e3ad2c32f",
   "metadata": {},
   "outputs": [
    {
     "ename": "NameError",
     "evalue": "name 'ind_max_traj' is not defined",
     "output_type": "error",
     "traceback": [
      "\u001b[0;31m---------------------------------------------------------------------------\u001b[0m",
      "\u001b[0;31mNameError\u001b[0m                                 Traceback (most recent call last)",
      "\u001b[0;32m<ipython-input-120-0a5221a8141d>\u001b[0m in \u001b[0;36m<module>\u001b[0;34m\u001b[0m\n\u001b[1;32m      2\u001b[0m \u001b[0mplt\u001b[0m\u001b[0;34m.\u001b[0m\u001b[0mtitle\u001b[0m\u001b[0;34m(\u001b[0m\u001b[0;34m\"frequency discrimination\"\u001b[0m\u001b[0;34m)\u001b[0m\u001b[0;34m\u001b[0m\u001b[0;34m\u001b[0m\u001b[0m\n\u001b[1;32m      3\u001b[0m \u001b[0mlin\u001b[0m\u001b[0;34m=\u001b[0m\u001b[0;36m6\u001b[0m\u001b[0;34m\u001b[0m\u001b[0;34m\u001b[0m\u001b[0m\n\u001b[0;32m----> 4\u001b[0;31m \u001b[0max\u001b[0m\u001b[0;34m.\u001b[0m\u001b[0mplot\u001b[0m\u001b[0;34m(\u001b[0m\u001b[0mstop_time1\u001b[0m\u001b[0;34m,\u001b[0m \u001b[0;34m[\u001b[0m\u001b[0mavg_err_alpha\u001b[0m\u001b[0;34m(\u001b[0m\u001b[0mb\u001b[0m\u001b[0;34m)\u001b[0m \u001b[0;32mfor\u001b[0m \u001b[0mb\u001b[0m \u001b[0;32min\u001b[0m \u001b[0mboundsB\u001b[0m\u001b[0;34m[\u001b[0m\u001b[0;34m:\u001b[0m\u001b[0mlen\u001b[0m\u001b[0;34m(\u001b[0m\u001b[0mstopps1\u001b[0m\u001b[0;34m[\u001b[0m\u001b[0mind_max_traj\u001b[0m\u001b[0;34m]\u001b[0m\u001b[0;34m)\u001b[0m\u001b[0;34m]\u001b[0m\u001b[0;34m]\u001b[0m\u001b[0;34m,\u001b[0m \u001b[0;34m'.'\u001b[0m\u001b[0;34m,\u001b[0m\u001b[0mlabel\u001b[0m\u001b[0;34m=\u001b[0m\u001b[0;34mr'$\\langle \\tau \\rangle_{|H1}$'\u001b[0m\u001b[0;34m,\u001b[0m \u001b[0mlinewidth\u001b[0m\u001b[0;34m=\u001b[0m\u001b[0mlin\u001b[0m\u001b[0;34m)\u001b[0m\u001b[0;34m\u001b[0m\u001b[0;34m\u001b[0m\u001b[0m\n\u001b[0m\u001b[1;32m      5\u001b[0m \u001b[0max\u001b[0m\u001b[0;34m.\u001b[0m\u001b[0mplot\u001b[0m\u001b[0;34m(\u001b[0m\u001b[0mstop_time0\u001b[0m\u001b[0;34m,\u001b[0m \u001b[0;34m[\u001b[0m\u001b[0mavg_err_alpha\u001b[0m\u001b[0;34m(\u001b[0m\u001b[0mb\u001b[0m\u001b[0;34m)\u001b[0m \u001b[0;32mfor\u001b[0m \u001b[0mb\u001b[0m \u001b[0;32min\u001b[0m \u001b[0mboundsB\u001b[0m\u001b[0;34m[\u001b[0m\u001b[0;34m:\u001b[0m\u001b[0mlen\u001b[0m\u001b[0;34m(\u001b[0m\u001b[0mstopps0\u001b[0m\u001b[0;34m[\u001b[0m\u001b[0mind_max_traj\u001b[0m\u001b[0;34m]\u001b[0m\u001b[0;34m)\u001b[0m\u001b[0;34m]\u001b[0m\u001b[0;34m]\u001b[0m\u001b[0;34m,\u001b[0m \u001b[0;34m'.'\u001b[0m\u001b[0;34m,\u001b[0m\u001b[0mlabel\u001b[0m\u001b[0;34m=\u001b[0m\u001b[0;34mr'$\\langle \\tau \\rangle_{|H0}$'\u001b[0m\u001b[0;34m,\u001b[0m \u001b[0mlinewidth\u001b[0m\u001b[0;34m=\u001b[0m\u001b[0mlin\u001b[0m\u001b[0;34m)\u001b[0m\u001b[0;34m\u001b[0m\u001b[0;34m\u001b[0m\u001b[0m\n\u001b[1;32m      6\u001b[0m \u001b[0max\u001b[0m\u001b[0;34m.\u001b[0m\u001b[0mplot\u001b[0m\u001b[0;34m(\u001b[0m\u001b[0;34m[\u001b[0m\u001b[0mtimes\u001b[0m\u001b[0;34m[\u001b[0m\u001b[0mind\u001b[0m\u001b[0;34m]\u001b[0m \u001b[0;32mfor\u001b[0m \u001b[0mind\u001b[0m \u001b[0;32min\u001b[0m \u001b[0mindis\u001b[0m\u001b[0;34m]\u001b[0m\u001b[0;34m,\u001b[0m \u001b[0;36m0.5\u001b[0m\u001b[0;34m*\u001b[0m\u001b[0mnp\u001b[0m\u001b[0;34m.\u001b[0m\u001b[0marray\u001b[0m\u001b[0;34m(\u001b[0m\u001b[0mdeter\u001b[0m\u001b[0;34m[\u001b[0m\u001b[0;34m\"h0/h1\"\u001b[0m\u001b[0;34m]\u001b[0m\u001b[0;34m)\u001b[0m\u001b[0;34m+\u001b[0m\u001b[0mnp\u001b[0m\u001b[0;34m.\u001b[0m\u001b[0marray\u001b[0m\u001b[0;34m(\u001b[0m\u001b[0mdeter\u001b[0m\u001b[0;34m[\u001b[0m\u001b[0;34m\"h1/h0\"\u001b[0m\u001b[0;34m]\u001b[0m\u001b[0;34m)\u001b[0m\u001b[0;34m,\u001b[0m\u001b[0mcolor\u001b[0m\u001b[0;34m=\u001b[0m\u001b[0;34m\"black\"\u001b[0m\u001b[0;34m,\u001b[0m \u001b[0mlabel\u001b[0m\u001b[0;34m=\u001b[0m\u001b[0;34m\"deterministic\"\u001b[0m\u001b[0;34m)\u001b[0m\u001b[0;34m\u001b[0m\u001b[0;34m\u001b[0m\u001b[0m\n",
      "\u001b[0;31mNameError\u001b[0m: name 'ind_max_traj' is not defined"
     ]
    },
    {
     "data": {
      "image/png": "[encoded data removed]",
      "text/plain": [
       "<Figure size 432x288 with 1 Axes>"
      ]
     },
     "metadata": {
      "needs_background": "light"
     },
     "output_type": "display_data"
    }
   ],
   "source": [
    "ax = plt.subplot(111)\n",
    "plt.title(\"frequency discrimination\")\n",
    "lin=6\n",
    "ax.plot(stop_time1, [avg_err_alpha(b) for b in boundsB[:len(stopps1[ind_max_traj])]], '.',label=r'$\\langle \\tau \\rangle_{|H1}$', linewidth=lin)\n",
    "ax.plot(stop_time0, [avg_err_alpha(b) for b in boundsB[:len(stopps0[ind_max_traj])]], '.',label=r'$\\langle \\tau \\rangle_{|H0}$', linewidth=lin)\n",
    "ax.plot([times[ind] for ind in indis], 0.5*np.array(deter[\"h0/h1\"])+np.array(deter[\"h1/h0\"]),color=\"black\", label=\"deterministic\")\n",
    "ax.scatter([times[ind] for ind in indis], 0.5*np.array(deter[\"h0/h1\"])+np.array(deter[\"h1/h0\"]), color=\"black\")\n",
    "\n",
    "ax.set_xlabel(\"time\")\n",
    "ax.set_ylabel(r'$P_e = \\frac{1}{2} (\\alpha + \\beta)$')\n",
    "ax.legend(prop={\"size\":15})"
   ]
  },
  {
   "cell_type": "code",
   "execution_count": 471,
   "id": "6374e62d-8c56-4a04-a72b-1da545edfbc1",
   "metadata": {},
   "outputs": [],
   "source": [
    "ll *= len(stop[\"h0/h1\"])**2\n",
    "ll0 *= len(stop[\"h0/h1\"])**2"
   ]
  },
  {
   "cell_type": "code",
   "execution_count": 14,
   "id": "80bf647d-6735-4ad5-b03b-bdaf24e5625a",
   "metadata": {},
   "outputs": [
    {
     "data": {
      "text/plain": [
       "<matplotlib.legend.Legend at 0x2b277e2a3898>"
      ]
     },
     "execution_count": 14,
     "metadata": {},
     "output_type": "execute_result"
    },
    {
     "data": {
      "image/png": "[encoded data removed]",
      "text/plain": [
       "<Figure size 720x720 with 1 Axes>"
      ]
     },
     "metadata": {
      "needs_background": "light"
     },
     "output_type": "display_data"
    }
   ],
   "source": [
    "\n",
    "colors1 = plt.get_cmap(\"Reds\")\n",
    "colors0 = plt.get_cmap(\"Blues\")\n",
    "\n",
    "plt.figure(figsize=(10,10))\n",
    "alphaMean=0.6\n",
    "plt.plot(times, ll[:-1],linewidth=10, alpha=alphaMean,  color=\"red\", label=r'$\\langle \\ell_{|H_1}\\rangle$')\n",
    "Ntraj = 10\n",
    "c1 = colors1(np.linspace(0,1,Ntraj))[::-1]\n",
    "c0 = colors0(np.linspace(0,1,Ntraj))[::-1]\n",
    "             \n",
    "for ii, itraj in enumerate(range(1,Ntraj)):\n",
    "    log_lik_ratio, log_lik_ratio_swap = load_liks(itraj)\n",
    "    plt.plot(times,log_lik_ratio[:-1], c=c1[ii], alpha=0.75)\n",
    "    plt.plot(times, log_lik_ratio_swap[:-1],c=c0[ii], alpha=0.75)\n",
    "plt.plot(times,ll0[:-1], linewidth=10, alpha=alphaMean, color=\"blue\", label=r'$\\langle \\ell_{|H_0}\\rangle$')\n",
    "plt.plot(times, np.zeros(len(ll0)-1),\"--\")\n",
    "\n",
    "plt.legend(prop={\"size\":20})"
   ]
  },
  {
   "cell_type": "code",
   "execution_count": 476,
   "id": "90c4fba3-a3a5-4cbe-9a41-ea98a7fcf409",
   "metadata": {},
   "outputs": [],
   "source": [
    "import os \n",
    "freq_dir = get_def_path(mode=\"continuous\")+\"freq_discrimination/\"\n",
    "os.makedirs(freq_dir, exist_ok=True)\n",
    "\n",
    "np.save(freq_dir+\"mean_likelihood_0\", ll0)\n",
    "np.save(freq_dir+\"mean_likelihood_1\", ll)\n",
    "np.save(freq_dir+\"boundsB\", boundsB)\n",
    "np.save(freq_dir+\"stop_time1\",stop_time1)\n",
    "np.save(freq_dir+\"stop_time0\",stop_time0)\n",
    "np.save(freq_dir+\"alpha_deter\",np.array(deter[\"h0/h1\"]))\n",
    "np.save(freq_dir+\"beta_deter\",np.array(deter[\"h1/h0\"]))"
   ]
  },
  {
   "cell_type": "code",
   "execution_count": 477,
   "id": "639dd159-3600-4a88-a538-156e43a3aefe",
   "metadata": {},
   "outputs": [],
   "source": []
  },
  {
   "cell_type": "code",
   "execution_count": null,
   "id": "bb01e6d6-c325-49d6-a5bb-45dd93d6d1c5",
   "metadata": {},
   "outputs": [],
   "source": []
  }
 ],
 "metadata": {
  "kernelspec": {
   "display_name": "qenv_bilkis",
   "language": "python",
   "name": "qenv_bilkis"
  },
  "language_info": {
   "codemirror_mode": {
    "name": "ipython",
    "version": 3
   },
   "file_extension": ".py",
   "mimetype": "text/x-python",
   "name": "python",
   "nbconvert_exporter": "python",
   "pygments_lexer": "ipython3",
   "version": "3.6.8"
  }
 },
 "nbformat": 4,
 "nbformat_minor": 5
}
