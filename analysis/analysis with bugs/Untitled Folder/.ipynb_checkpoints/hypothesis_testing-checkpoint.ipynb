{
 "cells": [
  {
   "cell_type": "code",
   "execution_count": 4,
   "id": "2be72649",
   "metadata": {},
   "outputs": [
    {
     "data": {
      "text/html": [
       "<style>.container { width:100% !important; }</style>"
      ],
      "text/plain": [
       "<IPython.core.display.HTML object>"
      ]
     },
     "metadata": {},
     "output_type": "display_data"
    }
   ],
   "source": [
    "%load_ext autoreload\n",
    "%autoreload 2\n",
    "from IPython.core.display import display, HTML\n",
    "display(HTML(\"<style>.container { width:100% !important; }</style>\"))\n",
    "\n",
    "\n",
    "import os \n",
    "os.chdir(\"..\")"
   ]
  },
  {
   "cell_type": "code",
   "execution_count": 5,
   "id": "80ef0fb7",
   "metadata": {},
   "outputs": [],
   "source": [
    "from numerics.integration.steps import *\n",
    "import numpy as np\n",
    "import matplotlib.pyplot as plt\n",
    "from tqdm import tqdm\n",
    "from numerics.utilities.misc import *"
   ]
  },
  {
   "cell_type": "code",
   "execution_count": 6,
   "id": "written-differential",
   "metadata": {},
   "outputs": [],
   "source": [
    "pars = give_def_params_discrimination(flip=0) ## H0 is the true hypothesis\n",
    "params, exp_path = check_params(pars)"
   ]
  },
  {
   "cell_type": "code",
   "execution_count": 8,
   "id": "architectural-cutting",
   "metadata": {},
   "outputs": [],
   "source": [
    "times, logliks, states1, states0, signals, covs1, covs0 =load_data_discrimination(itraj=20,\n",
    "                                                                                  total_time = 4, \n",
    "                                                                                  dt=1e-6, exp_path = exp_path)"
   ]
  },
  {
   "cell_type": "code",
   "execution_count": 13,
   "id": "5f59e3ea-95d2-4469-a669-741b679d4d49",
   "metadata": {},
   "outputs": [],
   "source": [
    "st = np.load(\"analysis/plot_data_stopping_time/stopp_time_1K.npy\")"
   ]
  },
  {
   "cell_type": "code",
   "execution_count": 19,
   "id": "73ef86c3",
   "metadata": {},
   "outputs": [],
   "source": [
    "def stop_time(itraj, a=-3, b=3):\n",
    "    pars = give_def_params_discrimination(flip=0) ## H0 is the true hypothesis\n",
    "    params, exp_path = check_params(pars)\n",
    "    times, logliks, states1, states0, signals, covs1, covs0 =load_data_discrimination(itraj=itraj, total_time = 4, dt=1e-6, exp_path = exp_path)\n",
    "    l0,l1 = logliks[:,0], logliks[:,1]\n",
    "    log_lik_ratio = l1 - l0  ###\n",
    "    stopping_time_ind =np.argmin(np.logical_and(log_lik_ratio < b, log_lik_ratio > a))\n",
    "    return times[stopping_time_ind]"
   ]
  },
  {
   "cell_type": "code",
   "execution_count": 18,
   "id": "d3c52c25-186d-4772-adf7-cb71fa212bd3",
   "metadata": {},
   "outputs": [],
   "source": [
    "ind_time_sprt_avg_stop_time = np.argmin(np.abs(times - np.mean(st)))"
   ]
  },
  {
   "cell_type": "code",
   "execution_count": 21,
   "id": "8a0d4368-3f2f-4462-9a15-4e42d9cb2ddb",
   "metadata": {},
   "outputs": [
    {
     "data": {
      "text/plain": [
       "845066"
      ]
     },
     "execution_count": 21,
     "metadata": {},
     "output_type": "execute_result"
    }
   ],
   "source": [
    "ind_time_sprt_avg_stop_time"
   ]
  },
  {
   "cell_type": "code",
   "execution_count": 22,
   "id": "d144aab4-03dc-410a-8830-dd6d14daa134",
   "metadata": {},
   "outputs": [],
   "source": [
    "stprt_stop = {}\n",
    "stprt_stop[\"h0\"] = []\n",
    "stprt_stop[\"h1\"] = []\n",
    "\n",
    "np_errs = {}\n",
    "np_errs[\"h0/h1\"] = []\n",
    "np_errs[\"h1/h0\"] = []\n"
   ]
  },
  {
   "cell_type": "code",
   "execution_count": 24,
   "id": "5838c73d-94d9-4bef-b61c-d6a352cafa00",
   "metadata": {},
   "outputs": [],
   "source": [
    "itraj = 1\n",
    "\n",
    "pars = give_def_params_discrimination(flip=0) ## H0 is the true hypothesis\n",
    "params, exp_path = check_params(pars)\n",
    "times, logliks, states1, states0, signals, covs1, covs0 =load_data_discrimination(itraj=itraj, total_time = 4, dt=1e-6, exp_path = exp_path)\n",
    "l0,l1 = logliks[:,0], logliks[:,1]\n",
    "log_lik_ratio = l1 - l0  ###\n",
    "\n",
    "\n",
    "h0 = log_lik_ratio[ind_time_sprt_avg_stop_time] <= 0\n",
    "np_errs[\"h0/h1\"].append(int(h0))\n"
   ]
  },
  {
   "cell_type": "code",
   "execution_count": 167,
   "id": "8c40ae87",
   "metadata": {},
   "outputs": [
    {
     "name": "stderr",
     "output_type": "stream",
     "text": [
      "100%|█████████████████████████████████████████████████████████████████████████████████████████████████████████████████████████████████████████████| 500/500 [00:05<00:00, 91.42it/s]\n"
     ]
    }
   ],
   "source": [
    "\n",
    "\n",
    "\n",
    "for itraj in tqdm(range(10)):\n",
    "        \n",
    "    try:\n",
    "\n",
    "        pars = give_def_params_discrimination(flip=0) ## H0 is the true hypothesis\n",
    "        params, exp_path = check_params(pars)\n",
    "        times, logliks, states1, states0, signals, covs1, covs0 =load_data_discrimination(itraj=itraj, total_time = 4, dt=1e-6, exp_path = exp_path)\n",
    "        l0,l1 = logliks[:,0], logliks[:,1]\n",
    "        log_lik_ratio = l1 - l0  ###\n",
    "        \n",
    "        ### stand up at the equal likelihood point ---> you choose max-likelihood hypothesis!\n",
    "        h0 = log_lik_ratio[ind_time_sprt_avg_stop_time] <= 0\n",
    "        np_errs[\"h0/h1\"].append(int(h0))\n",
    "\n",
    "        #### for the other hypothesis, flip the parameters\n",
    "        pars = give_def_params_discrimination(flip=1)\n",
    "        params, exp_path = check_params(pars)\n",
    "        times, logliks, states1, states0, signals, covs1, covs0 = load_data_discrimination(itraj=itraj, total_time = 4, dt=1e-6, exp_path = exp_path)\n",
    "        ### logliks ---> p(yt | \\thetaNull)  , p(yt | thetaTrue )\n",
    "        ### now we want to see the p(H1 | H0) ---> check how many times we'd guess for h1 if data generated by h0 at stopping time\n",
    "        log_lik_ratio_swap = logliks[:,0] - logliks[:,1]  ### since i swapped the parameters, this gives p(y_t | h1)/p(y_t | h0)   (now in the case where i generate y_t under h0)\n",
    "\n",
    "        ### stand up at the equal likelihood point ---> you choose max-likelihood hypothesis!\n",
    "        h1 = log_lik_ratio_swap[ind_time_sprt_avg_stop_time] <= 0\n",
    "        np_errs[\"h1/h0\"].append(int(h1))\n",
    "    except Exception:\n",
    "        pass\n"
   ]
  },
  {
   "cell_type": "code",
   "execution_count": 168,
   "id": "2d2ea536",
   "metadata": {},
   "outputs": [
    {
     "name": "stdout",
     "output_type": "stream",
     "text": [
      "0.158 0.816\n",
      "0.084 0.924\n"
     ]
    }
   ],
   "source": [
    "print(np.mean(np_errs[\"h0/h1\"]), np.mean(np_errs[\"h1/h0\"]))\n",
    "print(np.mean(sprt_errs[\"h0/h1\"]), np.mean(sprt_errs[\"h1/h0\"]))"
   ]
  },
  {
   "cell_type": "code",
   "execution_count": 173,
   "id": "5a9ecfd0",
   "metadata": {},
   "outputs": [
    {
     "data": {
      "text/plain": [
       "0.049787068367863944"
      ]
     },
     "execution_count": 173,
     "metadata": {},
     "output_type": "execute_result"
    }
   ],
   "source": [
    "1- np.e"
   ]
  },
  {
   "cell_type": "code",
   "execution_count": null,
   "id": "cd2c125f",
   "metadata": {},
   "outputs": [],
   "source": []
  },
  {
   "cell_type": "code",
   "execution_count": 70,
   "id": "0ffa0e8e",
   "metadata": {},
   "outputs": [],
   "source": [
    "pars = give_def_params_discrimination(h1true=1)\n",
    "params, exp_path = check_params(pars)\n",
    "\n",
    "times, l0, l1, states, states1, signals, covs, covs1 = load_data_discrimination(exp_path = exp_path, periods = 2, ppp=100000,itraj=1)\n",
    "log_lik_ratio = l0-l1\n",
    "\n",
    "bools = np.logical_and(log_lik_ratio <= b(ep1), a(ep0) <= log_lik_ratio)\n",
    "indi = np.argmin(bools)\n",
    "stprt_stop[\"h1\"] = times[indi]\n",
    "\n",
    "h0 = log_lik_ratio[indi] <= a(ep0)"
   ]
  },
  {
   "cell_type": "code",
   "execution_count": 72,
   "id": "78ea0579",
   "metadata": {},
   "outputs": [
    {
     "data": {
      "text/plain": [
       "1"
      ]
     },
     "execution_count": 72,
     "metadata": {},
     "output_type": "execute_result"
    }
   ],
   "source": [
    "int(h0)"
   ]
  },
  {
   "cell_type": "code",
   "execution_count": null,
   "id": "b833d7a9",
   "metadata": {},
   "outputs": [],
   "source": []
  },
  {
   "cell_type": "code",
   "execution_count": null,
   "id": "5bb2e122",
   "metadata": {},
   "outputs": [],
   "source": []
  },
  {
   "cell_type": "code",
   "execution_count": 40,
   "id": "34c4e30b",
   "metadata": {},
   "outputs": [
    {
     "name": "stderr",
     "output_type": "stream",
     "text": [
      "  0%|                                                                                                                                                         | 0/9 [00:00<?, ?it/s]\n"
     ]
    },
    {
     "ename": "FileNotFoundError",
     "evalue": "[Errno 2] No such file or directory: '../quantera/trajectories/discrimination/[[1.0, 0, 20, 1.0, 1.0], [0.3, 0, 2, 1.0, 1.0]]/1itraj/rossler_real_traj_method/50periods/1000ppp/1rppp/states.npy'",
     "output_type": "error",
     "traceback": [
      "\u001b[0;31m---------------------------------------------------------------------------\u001b[0m",
      "\u001b[0;31mFileNotFoundError\u001b[0m                         Traceback (most recent call last)",
      "\u001b[0;32m/tmp/ipykernel_136570/775941159.py\u001b[0m in \u001b[0;36m<module>\u001b[0;34m\u001b[0m\n\u001b[1;32m      4\u001b[0m \u001b[0;32mfor\u001b[0m \u001b[0mitraj\u001b[0m \u001b[0;32min\u001b[0m \u001b[0mtqdm\u001b[0m\u001b[0;34m(\u001b[0m\u001b[0mrange\u001b[0m\u001b[0;34m(\u001b[0m\u001b[0;36m1\u001b[0m\u001b[0;34m,\u001b[0m\u001b[0;36m10\u001b[0m\u001b[0;34m)\u001b[0m\u001b[0;34m)\u001b[0m\u001b[0;34m:\u001b[0m\u001b[0;34m\u001b[0m\u001b[0;34m\u001b[0m\u001b[0m\n\u001b[1;32m      5\u001b[0m \u001b[0;34m\u001b[0m\u001b[0m\n\u001b[0;32m----> 6\u001b[0;31m     \u001b[0mtimes\u001b[0m\u001b[0;34m,\u001b[0m \u001b[0ml0\u001b[0m\u001b[0;34m,\u001b[0m \u001b[0ml1\u001b[0m\u001b[0;34m,\u001b[0m \u001b[0mstates\u001b[0m\u001b[0;34m,\u001b[0m \u001b[0mstates1\u001b[0m\u001b[0;34m,\u001b[0m \u001b[0msignals\u001b[0m\u001b[0;34m,\u001b[0m \u001b[0mcovs\u001b[0m\u001b[0;34m,\u001b[0m \u001b[0mcovs1\u001b[0m \u001b[0;34m=\u001b[0m \u001b[0mload_data\u001b[0m\u001b[0;34m(\u001b[0m\u001b[0mexp_path\u001b[0m \u001b[0;34m=\u001b[0m \u001b[0mexp_path\u001b[0m\u001b[0;34m,\u001b[0m \u001b[0mperiods\u001b[0m \u001b[0;34m=\u001b[0m \u001b[0;36m50\u001b[0m\u001b[0;34m,\u001b[0m \u001b[0mppp\u001b[0m\u001b[0;34m=\u001b[0m\u001b[0;36m1000\u001b[0m\u001b[0;34m,\u001b[0m \u001b[0mitraj\u001b[0m\u001b[0;34m=\u001b[0m\u001b[0mitraj\u001b[0m\u001b[0;34m)\u001b[0m\u001b[0;34m\u001b[0m\u001b[0;34m\u001b[0m\u001b[0m\n\u001b[0m\u001b[1;32m      7\u001b[0m     \u001b[0mlog_lik_ratio\u001b[0m \u001b[0;34m=\u001b[0m \u001b[0ml0\u001b[0m\u001b[0;34m-\u001b[0m\u001b[0ml1\u001b[0m\u001b[0;34m\u001b[0m\u001b[0;34m\u001b[0m\u001b[0m\n\u001b[1;32m      8\u001b[0m \u001b[0;34m\u001b[0m\u001b[0m\n",
      "\u001b[0;32m~/Desktop/continuous/numerics/utilities/misc.py\u001b[0m in \u001b[0;36mload_data\u001b[0;34m(exp_path, itraj, ppp, periods, rppp, method, display)\u001b[0m\n\u001b[1;32m    169\u001b[0m \u001b[0;34m\u001b[0m\u001b[0m\n\u001b[1;32m    170\u001b[0m     \u001b[0mtimes\u001b[0m \u001b[0;34m=\u001b[0m \u001b[0mnp\u001b[0m\u001b[0;34m.\u001b[0m\u001b[0mload\u001b[0m\u001b[0;34m(\u001b[0m\u001b[0mpath\u001b[0m\u001b[0;34m+\u001b[0m\u001b[0;34m\"times.npy\"\u001b[0m\u001b[0;34m,\u001b[0m \u001b[0mallow_pickle\u001b[0m\u001b[0;34m=\u001b[0m\u001b[0;32mTrue\u001b[0m\u001b[0;34m)\u001b[0m\u001b[0;34m.\u001b[0m\u001b[0mastype\u001b[0m\u001b[0;34m(\u001b[0m\u001b[0mnp\u001b[0m\u001b[0;34m.\u001b[0m\u001b[0mfloat32\u001b[0m\u001b[0;34m)\u001b[0m \u001b[0;31m### this is \\textbf{q}(t)\u001b[0m\u001b[0;34m\u001b[0m\u001b[0;34m\u001b[0m\u001b[0m\n\u001b[0;32m--> 171\u001b[0;31m     \u001b[0mstates\u001b[0m \u001b[0;34m=\u001b[0m \u001b[0mnp\u001b[0m\u001b[0;34m.\u001b[0m\u001b[0mload\u001b[0m\u001b[0;34m(\u001b[0m\u001b[0mpath\u001b[0m\u001b[0;34m+\u001b[0m\u001b[0;34m\"states.npy\"\u001b[0m\u001b[0;34m,\u001b[0m \u001b[0mallow_pickle\u001b[0m\u001b[0;34m=\u001b[0m\u001b[0;32mTrue\u001b[0m\u001b[0;34m)\u001b[0m\u001b[0;34m.\u001b[0m\u001b[0mastype\u001b[0m\u001b[0;34m(\u001b[0m\u001b[0mnp\u001b[0m\u001b[0;34m.\u001b[0m\u001b[0mfloat32\u001b[0m\u001b[0;34m)\u001b[0m \u001b[0;31m### this is \\textbf{q}(t)\u001b[0m\u001b[0;34m\u001b[0m\u001b[0;34m\u001b[0m\u001b[0m\n\u001b[0m\u001b[1;32m    172\u001b[0m     \u001b[0mcovs\u001b[0m \u001b[0;34m=\u001b[0m \u001b[0mnp\u001b[0m\u001b[0;34m.\u001b[0m\u001b[0mload\u001b[0m\u001b[0;34m(\u001b[0m\u001b[0mpath\u001b[0m\u001b[0;34m+\u001b[0m\u001b[0;34m\"covs.npy\"\u001b[0m\u001b[0;34m,\u001b[0m \u001b[0mallow_pickle\u001b[0m\u001b[0;34m=\u001b[0m\u001b[0;32mTrue\u001b[0m\u001b[0;34m)\u001b[0m\u001b[0;34m.\u001b[0m\u001b[0mastype\u001b[0m\u001b[0;34m(\u001b[0m\u001b[0mnp\u001b[0m\u001b[0;34m.\u001b[0m\u001b[0mfloat32\u001b[0m\u001b[0;34m)\u001b[0m \u001b[0;31m## this is the \\Sigma(t)\u001b[0m\u001b[0;34m\u001b[0m\u001b[0;34m\u001b[0m\u001b[0m\n\u001b[1;32m    173\u001b[0m     \u001b[0mstates1\u001b[0m \u001b[0;34m=\u001b[0m \u001b[0mnp\u001b[0m\u001b[0;34m.\u001b[0m\u001b[0mload\u001b[0m\u001b[0;34m(\u001b[0m\u001b[0mpath\u001b[0m\u001b[0;34m+\u001b[0m\u001b[0;34m\"states1.npy\"\u001b[0m\u001b[0;34m,\u001b[0m \u001b[0mallow_pickle\u001b[0m\u001b[0;34m=\u001b[0m\u001b[0;32mTrue\u001b[0m\u001b[0;34m)\u001b[0m\u001b[0;34m.\u001b[0m\u001b[0mastype\u001b[0m\u001b[0;34m(\u001b[0m\u001b[0mnp\u001b[0m\u001b[0;34m.\u001b[0m\u001b[0mfloat32\u001b[0m\u001b[0;34m)\u001b[0m \u001b[0;31m### this is \\textbf{q}(t)\u001b[0m\u001b[0;34m\u001b[0m\u001b[0;34m\u001b[0m\u001b[0m\n",
      "\u001b[0;32m~/.local/lib/python3.9/site-packages/numpy/lib/npyio.py\u001b[0m in \u001b[0;36mload\u001b[0;34m(file, mmap_mode, allow_pickle, fix_imports, encoding)\u001b[0m\n\u001b[1;32m    415\u001b[0m             \u001b[0mown_fid\u001b[0m \u001b[0;34m=\u001b[0m \u001b[0;32mFalse\u001b[0m\u001b[0;34m\u001b[0m\u001b[0;34m\u001b[0m\u001b[0m\n\u001b[1;32m    416\u001b[0m         \u001b[0;32melse\u001b[0m\u001b[0;34m:\u001b[0m\u001b[0;34m\u001b[0m\u001b[0;34m\u001b[0m\u001b[0m\n\u001b[0;32m--> 417\u001b[0;31m             \u001b[0mfid\u001b[0m \u001b[0;34m=\u001b[0m \u001b[0mstack\u001b[0m\u001b[0;34m.\u001b[0m\u001b[0menter_context\u001b[0m\u001b[0;34m(\u001b[0m\u001b[0mopen\u001b[0m\u001b[0;34m(\u001b[0m\u001b[0mos_fspath\u001b[0m\u001b[0;34m(\u001b[0m\u001b[0mfile\u001b[0m\u001b[0;34m)\u001b[0m\u001b[0;34m,\u001b[0m \u001b[0;34m\"rb\"\u001b[0m\u001b[0;34m)\u001b[0m\u001b[0;34m)\u001b[0m\u001b[0;34m\u001b[0m\u001b[0;34m\u001b[0m\u001b[0m\n\u001b[0m\u001b[1;32m    418\u001b[0m             \u001b[0mown_fid\u001b[0m \u001b[0;34m=\u001b[0m \u001b[0;32mTrue\u001b[0m\u001b[0;34m\u001b[0m\u001b[0;34m\u001b[0m\u001b[0m\n\u001b[1;32m    419\u001b[0m \u001b[0;34m\u001b[0m\u001b[0m\n",
      "\u001b[0;31mFileNotFoundError\u001b[0m: [Errno 2] No such file or directory: '../quantera/trajectories/discrimination/[[1.0, 0, 20, 1.0, 1.0], [0.3, 0, 2, 1.0, 1.0]]/1itraj/rossler_real_traj_method/50periods/1000ppp/1rppp/states.npy'"
     ]
    }
   ],
   "source": [
    "alpha = 0\n",
    "beta = 0\n",
    "\n",
    "for itraj in tqdm(range(1,10)):\n",
    "\n",
    "    pars = give_def_params_discrimination(h1true=1)\n",
    "    params, exp_path = check_params(pars)\n",
    "    \n",
    "    times, l0, l1, states, states1, signals, covs, covs1 = load_data(exp_path = exp_path, periods = 50, ppp=1000, itraj=itraj)\n",
    "    log_lik_ratio = l0-l1\n",
    "\n",
    "    bools = np.logical_and(log_lik_ratio <= b(ep1), a(ep0) <= log_lik_ratio)\n",
    "    indi = np.argmin(bools)\n",
    "\n",
    "    h1 = log_lik_ratio[indi] >= b(ep1)\n",
    "    h0 = log_lik_ratio[indi] <= a(ep0)\n",
    "    \n",
    "    alpha += h0"
   ]
  },
  {
   "cell_type": "code",
   "execution_count": null,
   "id": "a7051b8e",
   "metadata": {},
   "outputs": [],
   "source": []
  }
 ],
 "metadata": {
  "kernelspec": {
   "display_name": "qenv_bilkis",
   "language": "python",
   "name": "qenv_bilkis"
  },
  "language_info": {
   "codemirror_mode": {
    "name": "ipython",
    "version": 3
   },
   "file_extension": ".py",
   "mimetype": "text/x-python",
   "name": "python",
   "nbconvert_exporter": "python",
   "pygments_lexer": "ipython3",
   "version": "3.6.8"
  }
 },
 "nbformat": 4,
 "nbformat_minor": 5
}
