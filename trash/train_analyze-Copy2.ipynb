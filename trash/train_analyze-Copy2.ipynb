{
 "cells": [
  {
   "cell_type": "code",
   "execution_count": 1,
   "id": "eleven-ribbon",
   "metadata": {},
   "outputs": [],
   "source": [
    "%load_ext autoreload\n",
    "%autoreload 2\n",
    "\n",
    "import numpy as np\n",
    "from scipy.stats import norm\n",
    "import matplotlib.pyplot as plt\n",
    "from tqdm import tqdm\n",
    "from misc import *\n",
    "import argparse\n",
    "import os\n",
    "import pickle"
   ]
  },
  {
   "cell_type": "code",
   "execution_count": 4,
   "id": "particular-intellectual",
   "metadata": {},
   "outputs": [],
   "source": [
    "params = give_def_params()\n",
    "params, exp_path = check_params(params)\n",
    "[eta, gamma, kappa, omega, n] = params\n",
    "\n",
    "train_id = 0\n",
    "periods = 10\n",
    "ppp = 1000\n",
    "itraj = 1500\n",
    "rppp_reference = 1\n",
    "method=\"rossler\"\n",
    "dt = (2*np.pi/(omega*ppp))\n",
    "\n",
    "states, covs, signals, params, times, u_th, covs_th = load_data(ppp=ppp, periods=periods, \n",
    "                                                 method=method, itraj=itraj, exp_path=exp_path , rppp = rppp_reference)\n",
    "\n"
   ]
  },
  {
   "cell_type": "code",
   "execution_count": 176,
   "id": "94ab0ca3-9baf-4a92-839b-2df02641a4a2",
   "metadata": {},
   "outputs": [],
   "source": [
    "from lmfit.models import LorentzianModel\n",
    "def fit_lorentzian(signals):\n",
    "    Period = 2*np.pi/omega\n",
    "    spectra_signal = np.abs(np.fft.fft(signals[:,0]))**2\n",
    "    freqs_signal = np.fft.fftfreq(n = len(spectra_signal), d= Period/ppp)*(2*np.pi)\n",
    "\n",
    "    cutoff = 2*omega \n",
    "    cond  = np.logical_and(freqs_signal < cutoff, freqs_signal>=0)\n",
    "    spectra_signal = spectra_signal[cond]\n",
    "    freqs_signal = freqs_signal[cond]\n",
    "\n",
    "    mod = LorentzianModel()\n",
    "\n",
    "    pars = mod.guess(spectra_signal, x=freqs_signal)\n",
    "    out = mod.fit(spectra_signal, pars, x=freqs_signal)\n",
    "    \n",
    "    return out.values[\"center\"]"
   ]
  },
  {
   "cell_type": "code",
   "execution_count": 181,
   "id": "fd2aa2f7-459a-47a0-b7fb-b030ac09c336",
   "metadata": {},
   "outputs": [
    {
     "name": "stderr",
     "output_type": "stream",
     "text": [
      "100%|██████████| 99/99 [00:59<00:00,  1.67it/s]\n"
     ]
    }
   ],
   "source": [
    "uts= {}\n",
    "omegas = {}\n",
    "fits = []\n",
    "for itraj in tqdm(range(1,100)):\n",
    "    states, covs, signals, params, times, u_th, covs_th = load_data(ppp=ppp, periods=periods, \n",
    "                                                     method=method, itraj=itraj, exp_path=exp_path , rppp = rppp_reference)\n",
    "    uts[itraj] = (u_th[:,0]**2)*dt\n",
    "    \n",
    "    train_path = get_path_config(periods = periods, ppp= ppp, rppp=1, method=method, itraj=itraj, exp_path=exp_path) +\"training/train_id_{}/\".format(train_id)\n",
    "    omegas[itraj] = np.squeeze(np.load(train_path+\"Coeffs_A.npy\"))[-1]\n",
    "    fits.append(fit_lorentzian(signals))    "
   ]
  },
  {
   "cell_type": "code",
   "execution_count": 172,
   "id": "c74fd287-cf4c-43db-a4fc-9b354488a2ec",
   "metadata": {},
   "outputs": [
    {
     "data": {
      "text/plain": [
       "(array([1., 0., 0., ..., 0., 0., 1.]),\n",
       " array([ 8926.53257454,  8928.35244277,  8930.17231099, ...,\n",
       "        11650.87530616, 11652.69517438, 11654.5150426 ]),\n",
       " <BarContainer object of 1499 artists>)"
      ]
     },
     "execution_count": 172,
     "metadata": {},
     "output_type": "execute_result"
    },
    {
     "data": {
      "image/png": "[encoded data removed]",
      "text/plain": [
       "<Figure size 432x288 with 1 Axes>"
      ]
     },
     "metadata": {
      "needs_background": "light"
     },
     "output_type": "display_data"
    }
   ],
   "source": [
    "plt.hist(fits, bins=len(fits))"
   ]
  },
  {
   "cell_type": "code",
   "execution_count": 175,
   "id": "68062623-c0ea-43fa-b52b-210eee3f51df",
   "metadata": {},
   "outputs": [
    {
     "data": {
      "text/plain": [
       "(10000.329433000663, 205.37378284020306)"
      ]
     },
     "execution_count": 175,
     "metadata": {},
     "output_type": "execute_result"
    }
   ],
   "source": [
    "np.mean(np.array(fits)), np.std(np.array(fits))"
   ]
  },
  {
   "cell_type": "code",
   "execution_count": null,
   "id": "3e49c94a-de84-4dbe-93d8-8c0c04d807e1",
   "metadata": {},
   "outputs": [],
   "source": []
  },
  {
   "cell_type": "code",
   "execution_count": null,
   "id": "3c7b80a6-af11-45a9-b059-9c5879664ad3",
   "metadata": {},
   "outputs": [],
   "source": []
  },
  {
   "cell_type": "code",
   "execution_count": 167,
   "id": "1585679a-cf0a-451c-a9ab-fe732caf78b0",
   "metadata": {},
   "outputs": [
    {
     "data": {
      "text/plain": [
       "[<matplotlib.lines.Line2D at 0x2baa8dcfe390>]"
      ]
     },
     "execution_count": 167,
     "metadata": {},
     "output_type": "execute_result"
    },
    {
     "data": {
      "image/png": "[encoded data removed]",
      "text/plain": [
       "<Figure size 432x288 with 1 Axes>"
      ]
     },
     "metadata": {
      "needs_background": "light"
     },
     "output_type": "display_data"
    }
   ],
   "source": [
    "plt.plot(freqs_signal, spectra_signal)"
   ]
  },
  {
   "cell_type": "code",
   "execution_count": 145,
   "id": "e7a6d296-f6d4-4e43-ab01-9ca0e7d5bb3f",
   "metadata": {},
   "outputs": [
    {
     "data": {
      "text/plain": [
       "62894.68492486765"
      ]
     },
     "execution_count": 145,
     "metadata": {},
     "output_type": "execute_result"
    }
   ],
   "source": [
    "cutoff*fomega"
   ]
  },
  {
   "cell_type": "code",
   "execution_count": 138,
   "id": "f4e3198f-31a4-4c2f-995b-7323e7b9c20b",
   "metadata": {},
   "outputs": [
    {
     "data": {
      "text/plain": [
       "9645.541042731857"
      ]
     },
     "execution_count": 138,
     "metadata": {},
     "output_type": "execute_result"
    }
   ],
   "source": [
    "out.values[\"center\"]"
   ]
  },
  {
   "cell_type": "code",
   "execution_count": 139,
   "id": "0c0d4ba7-1434-4b0f-a7f3-0146a20ab0f2",
   "metadata": {},
   "outputs": [
    {
     "data": {
      "text/plain": [
       "[<matplotlib.lines.Line2D at 0x2baa8e0c2be0>]"
      ]
     },
     "execution_count": 139,
     "metadata": {},
     "output_type": "execute_result"
    },
    {
     "data": {
      "image/png": "[encoded data removed]",
      "text/plain": [
       "<Figure size 432x288 with 1 Axes>"
      ]
     },
     "metadata": {
      "needs_background": "light"
     },
     "output_type": "display_data"
    }
   ],
   "source": [
    "ax = plt.subplot(111)\n",
    "ax.plot(freqs_signal*(2*np.pi),spectra_signal,'.')\n",
    "#ax.set_xscale(\"log\")\n",
    "#ax.set_yscale(\"log\")"
   ]
  },
  {
   "cell_type": "code",
   "execution_count": null,
   "id": "cd9ae78e-ab10-4e69-83c5-08a41c26ef77",
   "metadata": {},
   "outputs": [],
   "source": []
  },
  {
   "cell_type": "code",
   "execution_count": 108,
   "id": "24e78cfb-183e-456d-883f-958302c2fe31",
   "metadata": {},
   "outputs": [],
   "source": [
    "Period = 2*np.pi/omega\n",
    "spectra_signal = np.abs(np.fft.fft(signals[:,0]))**2\n",
    "freqs_signal = np.fft.fftfreq(n = len(spectra_signal), d= Period/ppp)\n",
    "fomega = 2*np.pi*omega"
   ]
  },
  {
   "cell_type": "code",
   "execution_count": 134,
   "id": "8df86f92-83fe-417d-b884-3f479dc0c971",
   "metadata": {},
   "outputs": [
    {
     "data": {
      "text/plain": [
       "[<matplotlib.lines.Line2D at 0x2baa8decda20>]"
      ]
     },
     "execution_count": 134,
     "metadata": {},
     "output_type": "execute_result"
    },
    {
     "data": {
      "image/png": "[encoded data removed]",
      "text/plain": [
       "<Figure size 432x288 with 1 Axes>"
      ]
     },
     "metadata": {
      "needs_background": "light"
     },
     "output_type": "display_data"
    }
   ],
   "source": []
  },
  {
   "cell_type": "code",
   "execution_count": 89,
   "id": "abf66873-4527-44cb-a821-1f4d90492a3d",
   "metadata": {},
   "outputs": [],
   "source": [
    "Period = 2*np.pi/omega\n",
    "spectra_signal = np.abs(np.fft.fft(signals[:,0]))\n",
    "freqs_signal = np.fft.fftfreq(n = len(spectra_signal), d= Period/ppp)\n",
    "\n",
    "fomega = 2*np.pi*omega\n",
    "spectra_signal = spectra_signal[np.abs(freqs_signal) < 2*fomega]\n",
    "freqs_signal = freqs_signal[np.abs(freqs_signal)< 2*fomega]#np.fft.fftfreq(n = len(spectra_signal), d= Period/ppp)\n",
    "\n",
    "mod = LorentzianModel()\n",
    "\n",
    "pars = mod.guess(spectra_signal, x=freqs_signal)\n",
    "out = mod.fit(spectra_signal, pars, x=freqs_signal)"
   ]
  },
  {
   "cell_type": "code",
   "execution_count": 90,
   "id": "2906df40-ba9a-4384-bc72-5f2d58665895",
   "metadata": {},
   "outputs": [
    {
     "data": {
      "text/plain": [
       "{'amplitude': 6497.517688803726,\n",
       " 'center': 0.22038910563821285,\n",
       " 'sigma': 3414.688246833464,\n",
       " 'fwhm': 6829.376493666928,\n",
       " 'height': 0.605684635395125}"
      ]
     },
     "execution_count": 90,
     "metadata": {},
     "output_type": "execute_result"
    }
   ],
   "source": [
    "out.values"
   ]
  },
  {
   "cell_type": "code",
   "execution_count": 80,
   "id": "43741ad0-444c-4933-a6ee-8c63ea403679",
   "metadata": {},
   "outputs": [],
   "source": [
    "def lor(x, values):\n",
    "    #f(x; A, \\mu, \\sigma) = \\frac{A}{\\pi} \\big[\\frac{\\sigma}{(x - \\mu)^2 + \\sigma^2}\\big]\n",
    "    A, x0, sigma = values.values()[:3]\n",
    "    \n",
    "    return (A/np.pi)*( sigma /((x-x0)**2 + sigma**2))"
   ]
  },
  {
   "cell_type": "code",
   "execution_count": 91,
   "id": "8e903835-5288-4332-9aaa-503d5814d5d8",
   "metadata": {},
   "outputs": [
    {
     "data": {
      "image/png": "[encoded data removed]",
      "text/plain": [
       "<Figure size 432x288 with 1 Axes>"
      ]
     },
     "metadata": {
      "needs_background": "light"
     },
     "output_type": "display_data"
    }
   ],
   "source": [
    "ax = plt.subplot(111)\n",
    "ax.plot(freqs_signal,spectra_signal)\n",
    "#ax.set_xlim([-2*fomega,2*fomega])\n",
    "ax.set_xscale(\"log\")\n"
   ]
  },
  {
   "cell_type": "code",
   "execution_count": null,
   "id": "cec1f399-ddca-444b-9881-013a9f2b6d3b",
   "metadata": {},
   "outputs": [],
   "source": []
  },
  {
   "cell_type": "code",
   "execution_count": 65,
   "id": "18fc9813-f4a1-45ce-a458-bad31c70244a",
   "metadata": {},
   "outputs": [
    {
     "data": {
      "text/plain": [
       "10.011767205630568"
      ]
     },
     "execution_count": 65,
     "metadata": {},
     "output_type": "execute_result"
    }
   ],
   "source": [
    "out.values[\"center\"]"
   ]
  },
  {
   "cell_type": "code",
   "execution_count": null,
   "id": "f77a8278-4a5e-4d16-ab02-9950d8246fad",
   "metadata": {},
   "outputs": [],
   "source": [
    "fomega = omega/(2*np.pi)\n",
    "ax.set_xlim([-2*fomega,2*fomega])\n",
    "\n",
    "ax = plt.subplot(111)\n",
    "A = 0.5*1e4\n",
    "ax.plot(freqs_state,spectra_state)\n",
    "ax.set_xlim([-10*fomega,10*fomega])\n",
    "#ax.axvline(params[-2]/(2*np.pi),color=\"black\")\n",
    "ax.set_ylabel(\"|x(f)|^2\",size=20)\n",
    "ax.axvline(fomega,color=\"black\")\n",
    "ax.axvline(-fomega, color=\"black\")\n",
    "\n",
    "#ax.yaxis.set_label_position(\"right\")\n",
    "ax.yaxis.tick_right()\n",
    "ax.set_xlabel(\"f\",size=20)\n",
    "#ax.set_xscale(\"log\")\n",
    "ax.set_yscale(\"log\")"
   ]
  },
  {
   "cell_type": "code",
   "execution_count": null,
   "id": "f8cc0a34-2800-488c-a80a-1d2c418c8bd0",
   "metadata": {},
   "outputs": [],
   "source": []
  },
  {
   "cell_type": "code",
   "execution_count": null,
   "id": "99fbd379-27f8-4878-9cb9-fbd0df0720b2",
   "metadata": {},
   "outputs": [],
   "source": []
  },
  {
   "cell_type": "code",
   "execution_count": 61,
   "id": "42e1d031-3068-435d-aba2-94803f9d0811",
   "metadata": {},
   "outputs": [],
   "source": [
    "Period = 2*np.pi/omega\n",
    "spectra_signal = np.abs(np.fft.fft(signals[:,0]))**2\n",
    "freqs_signal = np.fft.fftfreq(n = len(spectra_signal), d= Period/ppp)\n",
    "\n",
    "fomega = 2*np.pi*omega\n",
    "spectra_signal = spectra_signal[np.abs(freqs_signal) < 2*fomega]\n",
    "freqs_signal = freqs_signal[np.abs(freqs_signal)< 2*fomega]#np.fft.fftfreq(n = len(spectra_signal), d= Period/ppp)\n"
   ]
  },
  {
   "cell_type": "code",
   "execution_count": null,
   "id": "4f271bce-298d-465b-9933-edbe40a9ac57",
   "metadata": {},
   "outputs": [],
   "source": []
  },
  {
   "cell_type": "code",
   "execution_count": 60,
   "id": "f8dba6db-5768-4bbc-bba1-223724d0637b",
   "metadata": {},
   "outputs": [
    {
     "data": {
      "text/plain": [
       "array([[ 0.00055821,  0.        ],\n",
       "       [-0.00092933,  0.        ],\n",
       "       [-0.00112945,  0.        ],\n",
       "       ...,\n",
       "       [ 0.00013405,  0.        ],\n",
       "       [-0.00070007,  0.        ],\n",
       "       [-0.00090219,  0.        ]], dtype=float32)"
      ]
     },
     "execution_count": 60,
     "metadata": {},
     "output_type": "execute_result"
    }
   ],
   "source": [
    "\n",
    "\n",
    "mod = LorentzianModel()\n",
    "\n",
    "pars = mod.guess(spectra_signal, x=freqs_signal)\n",
    "out = mod.fit(spectra_signal, pars, x=freqs_signal)\n"
   ]
  },
  {
   "cell_type": "code",
   "execution_count": 14,
   "id": "9fe8b459-67b4-4c4c-a092-fff0006429a1",
   "metadata": {},
   "outputs": [],
   "source": [
    "u_th_trajs_time = np.stack(list(uts.values()))\n",
    "fisher_trajs = np.array([np.sum(u_th_trajs_time[:,:t],axis=1) for t in range(len(states))])\n",
    "fisher_time = np.mean(fisher_trajs,axis=1)"
   ]
  },
  {
   "cell_type": "code",
   "execution_count": 51,
   "id": "d97f539b-8044-4ecd-bea0-b0db6d867952",
   "metadata": {},
   "outputs": [
    {
     "data": {
      "text/plain": [
       "Text(0, 0.5, '$I(\\\\omega)$')"
      ]
     },
     "execution_count": 51,
     "metadata": {},
     "output_type": "execute_result"
    },
    {
     "data": {
      "image/png": "[encoded data removed]",
      "text/plain": [
       "<Figure size 432x288 with 1 Axes>"
      ]
     },
     "metadata": {
      "needs_background": "light"
     },
     "output_type": "display_data"
    }
   ],
   "source": [
    "plt.plot(np.sqrt(len(fisher_trajs)*fisher_time))\n",
    "plt.xlabel(\"time\")\n",
    "plt.ylabel(r'$I(\\omega)$', size=30)"
   ]
  },
  {
   "cell_type": "code",
   "execution_count": 53,
   "id": "80a96ad6-b280-46c7-8bd4-3b4a6d7ed8c8",
   "metadata": {},
   "outputs": [
    {
     "data": {
      "text/plain": [
       "123.470024"
      ]
     },
     "execution_count": 53,
     "metadata": {},
     "output_type": "execute_result"
    }
   ],
   "source": [
    "np.sqrt(len(fisher_trajs)*fisher_time)[-1]"
   ]
  },
  {
   "cell_type": "code",
   "execution_count": 15,
   "id": "5f9cb61d-48af-4872-bb85-d7cedbb57ac6",
   "metadata": {},
   "outputs": [
    {
     "data": {
      "text/plain": [
       "Text(0, 0.5, '$I(\\\\omega)$')"
      ]
     },
     "execution_count": 15,
     "metadata": {},
     "output_type": "execute_result"
    },
    {
     "data": {
      "image/png": "[encoded data removed]",
      "text/plain": [
       "<Figure size 432x288 with 1 Axes>"
      ]
     },
     "metadata": {
      "needs_background": "light"
     },
     "output_type": "display_data"
    }
   ],
   "source": [
    "plt.plot(fisher_time)\n",
    "plt.xlabel(\"time\")\n",
    "plt.ylabel(r'$I(\\omega)$', size=30)"
   ]
  },
  {
   "cell_type": "code",
   "execution_count": 36,
   "id": "bb4c575f-3fa0-4b81-9caf-c4c232cfd321",
   "metadata": {},
   "outputs": [],
   "source": [
    "omegas = np.array(list(omegas.values()))"
   ]
  },
  {
   "cell_type": "code",
   "execution_count": 37,
   "id": "8770b427-ac56-4f7c-a76a-dddd699cd9f0",
   "metadata": {},
   "outputs": [
    {
     "data": {
      "text/plain": [
       "(9998.706, 129.11346)"
      ]
     },
     "execution_count": 37,
     "metadata": {},
     "output_type": "execute_result"
    }
   ],
   "source": [
    "(np.mean(omegas), np.std(omegas))"
   ]
  },
  {
   "cell_type": "code",
   "execution_count": 38,
   "id": "68dc06a7-9993-4cac-a6a7-122c79da7190",
   "metadata": {},
   "outputs": [
    {
     "data": {
      "text/plain": [
       "0.8099536670587076"
      ]
     },
     "execution_count": 38,
     "metadata": {},
     "output_type": "execute_result"
    }
   ],
   "source": [
    "np.sqrt(1/fisher_time[-1])"
   ]
  },
  {
   "cell_type": "code",
   "execution_count": 39,
   "id": "5a6cab30-ff1d-4fb0-8598-59b92d0a97c3",
   "metadata": {},
   "outputs": [
    {
     "data": {
      "text/plain": [
       "(1591.6020070525897, 32.68489680402395)"
      ]
     },
     "execution_count": 39,
     "metadata": {},
     "output_type": "execute_result"
    }
   ],
   "source": [
    "### this is actually wrong, since i don't restrict the data...\n",
    "fits = np.array(fits)\n",
    "(np.mean(fits), np.std(fits))"
   ]
  },
  {
   "cell_type": "code",
   "execution_count": 40,
   "id": "a9e6e4fa-7489-466e-bb47-efbd5400e445",
   "metadata": {},
   "outputs": [
    {
     "data": {
      "text/plain": [
       "(array([1., 0., 0., ..., 0., 0., 1.]),\n",
       " array([ 8777.345,  8778.941,  8780.537, ..., 11167.106, 11168.702,\n",
       "        11170.299], dtype=float32),\n",
       " <BarContainer object of 1499 artists>)"
      ]
     },
     "execution_count": 40,
     "metadata": {},
     "output_type": "execute_result"
    },
    {
     "data": {
      "image/png": "[encoded data removed]",
      "text/plain": [
       "<Figure size 432x288 with 1 Axes>"
      ]
     },
     "metadata": {
      "needs_background": "light"
     },
     "output_type": "display_data"
    }
   ],
   "source": [
    "plt.hist(omegas, bins=len(omegas))"
   ]
  },
  {
   "cell_type": "code",
   "execution_count": 54,
   "id": "e0d2e101-0573-4d20-9622-8186e44ebeba",
   "metadata": {},
   "outputs": [
    {
     "data": {
      "text/plain": [
       "(array([1., 0., 0., ..., 0., 0., 1.]),\n",
       " array([ 8926.61838829,  8928.43869114,  8930.25899398, ...,\n",
       "        11651.61174914, 11653.43205199, 11655.25235483]),\n",
       " <BarContainer object of 1499 artists>)"
      ]
     },
     "execution_count": 54,
     "metadata": {},
     "output_type": "execute_result"
    },
    {
     "data": {
      "image/png": "[encoded data removed]",
      "text/plain": [
       "<Figure size 432x288 with 1 Axes>"
      ]
     },
     "metadata": {
      "needs_background": "light"
     },
     "output_type": "display_data"
    }
   ],
   "source": [
    "plt.hist(2*np.pi*fits, bins=len(fits))"
   ]
  },
  {
   "cell_type": "code",
   "execution_count": 46,
   "id": "f53f005d-a211-42c8-a2d9-f6a32bde3408",
   "metadata": {},
   "outputs": [
    {
     "data": {
      "text/plain": [
       "205.36526336572433"
      ]
     },
     "execution_count": 46,
     "metadata": {},
     "output_type": "execute_result"
    }
   ],
   "source": [
    "np.mean(fits*2*np.pi)\n",
    "np.std(fits*2*np.pi)"
   ]
  },
  {
   "cell_type": "code",
   "execution_count": null,
   "id": "4b17c3ce-cc64-49a6-ba10-d233448c344e",
   "metadata": {},
   "outputs": [],
   "source": []
  },
  {
   "cell_type": "code",
   "execution_count": 20,
   "id": "14399cea-f5f8-4f9a-90b7-fb6defc2fc4c",
   "metadata": {},
   "outputs": [],
   "source": [
    "np.save(\"fits_lorentzians_1500.npy\", np.array(fits))"
   ]
  },
  {
   "cell_type": "code",
   "execution_count": null,
   "id": "14e55723-2d1c-42d3-a292-11487b819161",
   "metadata": {},
   "outputs": [],
   "source": []
  },
  {
   "cell_type": "code",
   "execution_count": null,
   "id": "4225bb96-ee2c-4dee-b4f2-e083dcede347",
   "metadata": {},
   "outputs": [],
   "source": []
  },
  {
   "cell_type": "code",
   "execution_count": null,
   "id": "599e34f6-98fc-436f-bf54-f124aa97b8de",
   "metadata": {},
   "outputs": [],
   "source": []
  },
  {
   "cell_type": "code",
   "execution_count": null,
   "id": "62e4381b-5bbb-420a-88af-1b8fb3d44acb",
   "metadata": {},
   "outputs": [],
   "source": []
  },
  {
   "cell_type": "code",
   "execution_count": null,
   "id": "297fbe85-c24b-4a27-840a-60609dd6a326",
   "metadata": {},
   "outputs": [],
   "source": []
  },
  {
   "cell_type": "code",
   "execution_count": null,
   "id": "0360c393-3395-47aa-a1f6-5998210e5ec0",
   "metadata": {},
   "outputs": [],
   "source": []
  },
  {
   "cell_type": "code",
   "execution_count": null,
   "id": "292df074-668f-4d85-bcea-d5674f3213ff",
   "metadata": {},
   "outputs": [],
   "source": []
  },
  {
   "cell_type": "code",
   "execution_count": null,
   "id": "50d45fb1-43de-40d9-9d8e-33ae3154a5bb",
   "metadata": {},
   "outputs": [],
   "source": []
  },
  {
   "cell_type": "code",
   "execution_count": 50,
   "id": "1c6f322b-b309-40b3-9a95-3fdf89fcbf2f",
   "metadata": {},
   "outputs": [],
   "source": [
    "Period = 2*np.pi/omega\n",
    "spectra_signal = np.abs(np.fft.fft(signals[:,0]))**2\n",
    "freqs_signal = np.fft.fftfreq(n = len(spectra_signal), d= Period/ppp)\n",
    "\n",
    "\n",
    "conds0 = freqs_signal>=0\n",
    "conds0 = (fomega - 2*fomega <= freqs_signal) \n",
    "conds1 = (fomega + 2*fomega > freqs_signal) \n",
    "conds = np.logical_and(conds0,conds1,conds0)\n",
    "\n",
    "spectra_signal = spectra_signal[conds]\n",
    "freqs_signal = freqs_signal[conds]#np.fft.fftfreq(n = len(spectra_signal), d= Period/ppp)"
   ]
  },
  {
   "cell_type": "code",
   "execution_count": 51,
   "id": "275aaafa-8e88-456d-9676-f249170965a7",
   "metadata": {},
   "outputs": [
    {
     "data": {
      "image/png": "[encoded data removed]",
      "text/plain": [
       "<Figure size 432x288 with 1 Axes>"
      ]
     },
     "metadata": {
      "needs_background": "light"
     },
     "output_type": "display_data"
    }
   ],
   "source": [
    "ax = plt.subplot(111)\n",
    "ax.plot(freqs_signal,spectra_signal)\n",
    "fomega = omega/(2*np.pi)\n",
    "ax.set_ylabel(\"|dy(f)|^2\")\n",
    "ax.set_xlabel(\"f\")\n",
    "#ax.axvline(params[-2]/(2*np.pi),color=\"black\")\n",
    "#ax.set_xlim([fomega-fomega/10,fomega + 0.1*fomega])\n",
    "\n",
    "ax.set_yscale(\"log\")"
   ]
  },
  {
   "cell_type": "code",
   "execution_count": 33,
   "id": "ed3704c5-23d3-4dea-a4a2-d9f730561c72",
   "metadata": {},
   "outputs": [],
   "source": []
  },
  {
   "cell_type": "code",
   "execution_count": null,
   "id": "8715e6b7-781a-493c-a1b8-4e05d592ef59",
   "metadata": {},
   "outputs": [],
   "source": []
  },
  {
   "cell_type": "code",
   "execution_count": 85,
   "id": "48887b40-4bce-4fc0-8257-02b96da2a897",
   "metadata": {},
   "outputs": [],
   "source": [
    "nors = np.array([np.random.normal(loc=0, scale=2) for k in range(1000)])"
   ]
  },
  {
   "cell_type": "code",
   "execution_count": 86,
   "id": "09525bf9-b144-4515-ad12-965c257b1db9",
   "metadata": {},
   "outputs": [
    {
     "data": {
      "text/plain": [
       "0.056373556811301004"
      ]
     },
     "execution_count": 86,
     "metadata": {},
     "output_type": "execute_result"
    }
   ],
   "source": [
    "np.mean(nors)"
   ]
  },
  {
   "cell_type": "code",
   "execution_count": 88,
   "id": "f78f374a-dc43-475b-bf75-89b64b6e4b24",
   "metadata": {},
   "outputs": [
    {
     "data": {
      "text/plain": [
       "4.23719914573008"
      ]
     },
     "execution_count": 88,
     "metadata": {},
     "output_type": "execute_result"
    }
   ],
   "source": [
    "np.std(nors)**2"
   ]
  },
  {
   "cell_type": "code",
   "execution_count": null,
   "id": "e87ca02f-dc44-47b9-8b92-bad9ab37c1e8",
   "metadata": {},
   "outputs": [],
   "source": []
  },
  {
   "cell_type": "code",
   "execution_count": 19,
   "id": "welsh-worry",
   "metadata": {},
   "outputs": [],
   "source": [
    "total_loss = np.load(train_path+\"Coeffs_A.npy\")"
   ]
  },
  {
   "cell_type": "code",
   "execution_count": 13,
   "id": "473bfc11",
   "metadata": {},
   "outputs": [],
   "source": [
    "omegas = np.array(list(omegas.values()))"
   ]
  },
  {
   "cell_type": "code",
   "execution_count": 27,
   "id": "7e201b15-0bd1-4f43-9526-9c7fbc71f15b",
   "metadata": {},
   "outputs": [
    {
     "data": {
      "text/plain": [
       "[<matplotlib.lines.Line2D at 0x2b21838e1fd0>]"
      ]
     },
     "execution_count": 27,
     "metadata": {},
     "output_type": "execute_result"
    },
    {
     "data": {
      "image/png": "[encoded data removed]",
      "text/plain": [
       "<Figure size 432x288 with 1 Axes>"
      ]
     },
     "metadata": {
      "needs_background": "light"
     },
     "output_type": "display_data"
    }
   ],
   "source": [
    "plt.plot(u_th[:,0]**2)"
   ]
  },
  {
   "cell_type": "code",
   "execution_count": 28,
   "id": "e1e27b70-4552-456c-8063-e4f677a1527e",
   "metadata": {},
   "outputs": [
    {
     "data": {
      "text/plain": [
       "array([0.00000000e+00, 1.97404600e-03, 8.94335937e-03, ...,\n",
       "       1.23998322e+02, 1.24064835e+02, 1.23960487e+02], dtype=float32)"
      ]
     },
     "execution_count": 28,
     "metadata": {},
     "output_type": "execute_result"
    }
   ],
   "source": [
    "fisher_times"
   ]
  },
  {
   "cell_type": "code",
   "execution_count": 29,
   "id": "2337627c-91ff-4a9c-b131-c3eb7d99f5ff",
   "metadata": {},
   "outputs": [],
   "source": []
  },
  {
   "cell_type": "code",
   "execution_count": 35,
   "id": "dbd734a3-bffa-4b7c-aff7-cef714495004",
   "metadata": {},
   "outputs": [],
   "source": []
  },
  {
   "cell_type": "code",
   "execution_count": 39,
   "id": "bfdcb3be-cca7-4a51-bea4-200e9e4fb150",
   "metadata": {},
   "outputs": [],
   "source": [
    "fish = np.array(fissh)*dt"
   ]
  },
  {
   "cell_type": "code",
   "execution_count": 37,
   "id": "e181e531-b41e-40e3-a339-be2cd8d793a2",
   "metadata": {},
   "outputs": [
    {
     "data": {
      "text/plain": [
       "[<matplotlib.lines.Line2D at 0x2b21aed9f5f8>]"
      ]
     },
     "execution_count": 37,
     "metadata": {},
     "output_type": "execute_result"
    },
    {
     "data": {
      "image/png": "[encoded data removed]",
      "text/plain": [
       "<Figure size 432x288 with 1 Axes>"
      ]
     },
     "metadata": {
      "needs_background": "light"
     },
     "output_type": "display_data"
    }
   ],
   "source": [
    "plt.plot(np.array(fissh)*dt)"
   ]
  },
  {
   "cell_type": "code",
   "execution_count": 40,
   "id": "d4a18bb0-9734-4c26-90bd-7b997b4dd92b",
   "metadata": {},
   "outputs": [],
   "source": [
    "ffish = np.fft.fft(fish)"
   ]
  },
  {
   "cell_type": "code",
   "execution_count": 42,
   "id": "a3f0cac0-8085-4b8d-b4a3-167753f85164",
   "metadata": {},
   "outputs": [
    {
     "data": {
      "image/png": "[encoded data removed]",
      "text/plain": [
       "<Figure size 432x288 with 1 Axes>"
      ]
     },
     "metadata": {
      "needs_background": "light"
     },
     "output_type": "display_data"
    }
   ],
   "source": [
    "ax = plt.subplot(111)\n",
    "freqs_signal = np.fft.fftfreq(n = len(ffish), d= dt)\n",
    "ax.plot(np.abs(ffish)**2)\n",
    "ax.set_xscale(\"log\")\n",
    "ax.set_yscale(\"log\")"
   ]
  },
  {
   "cell_type": "code",
   "execution_count": null,
   "id": "951ebe50-fed3-4939-8bc9-228098841ca9",
   "metadata": {},
   "outputs": [],
   "source": []
  },
  {
   "cell_type": "code",
   "execution_count": 38,
   "id": "1047f215-ad38-40b4-9410-aaaff981cc08",
   "metadata": {},
   "outputs": [
    {
     "data": {
      "text/plain": [
       "0.6030686695032133"
      ]
     },
     "execution_count": 38,
     "metadata": {},
     "output_type": "execute_result"
    }
   ],
   "source": [
    "1/(np.array(fissh)*dt)[-1]"
   ]
  },
  {
   "cell_type": "code",
   "execution_count": 14,
   "id": "98fc787e-ea8f-4f11-9a52-164bcfd3f661",
   "metadata": {},
   "outputs": [
    {
     "data": {
      "text/plain": [
       "106.71982"
      ]
     },
     "execution_count": 14,
     "metadata": {},
     "output_type": "execute_result"
    }
   ],
   "source": [
    "np.std(omegas)"
   ]
  },
  {
   "cell_type": "code",
   "execution_count": 15,
   "id": "5528c8f5-899e-4cb7-8b2a-f2d0505bba0e",
   "metadata": {},
   "outputs": [
    {
     "data": {
      "text/plain": [
       "10008.641"
      ]
     },
     "execution_count": 15,
     "metadata": {},
     "output_type": "execute_result"
    }
   ],
   "source": [
    "np.mean(omegas)"
   ]
  },
  {
   "cell_type": "code",
   "execution_count": null,
   "id": "aa0ee387-e260-4a03-8a8f-41057a7c4ab1",
   "metadata": {},
   "outputs": [],
   "source": []
  },
  {
   "cell_type": "code",
   "execution_count": null,
   "id": "99a929d7-3f62-4a03-bda7-1647f67b06f7",
   "metadata": {},
   "outputs": [],
   "source": []
  },
  {
   "cell_type": "code",
   "execution_count": null,
   "id": "0b9a478b-7b82-455c-8835-b49b3714a8fe",
   "metadata": {},
   "outputs": [],
   "source": []
  },
  {
   "cell_type": "code",
   "execution_count": null,
   "id": "ec58a2b0-57b0-433c-8fd5-434290596f63",
   "metadata": {},
   "outputs": [],
   "source": []
  },
  {
   "cell_type": "code",
   "execution_count": null,
   "id": "052d50e5-4162-4db5-8f95-f46a371d7db4",
   "metadata": {},
   "outputs": [],
   "source": []
  },
  {
   "cell_type": "code",
   "execution_count": 8,
   "id": "42fe9286-330e-4a98-ac28-a175128165a2",
   "metadata": {},
   "outputs": [],
   "source": [
    "u_th2 = np.stack(list(uths.values()))"
   ]
  },
  {
   "cell_type": "code",
   "execution_count": 9,
   "id": "a96d7e0b-7f89-4887-9a15-9c5da7ae2c0b",
   "metadata": {},
   "outputs": [
    {
     "data": {
      "text/plain": [
       "(165, 10001, 2)"
      ]
     },
     "execution_count": 9,
     "metadata": {},
     "output_type": "execute_result"
    }
   ],
   "source": [
    "u_th2.shape"
   ]
  },
  {
   "cell_type": "code",
   "execution_count": 10,
   "id": "cdae78da-bfc2-437d-8c1b-d28060a46913",
   "metadata": {},
   "outputs": [],
   "source": [
    "u_th2 = u_th2[:,:,0]"
   ]
  },
  {
   "cell_type": "code",
   "execution_count": 11,
   "id": "4efff74c-10b2-43d7-977d-ec5d07c42175",
   "metadata": {},
   "outputs": [],
   "source": [
    "fisher_times = np.mean(u_th2,axis=0)"
   ]
  },
  {
   "cell_type": "code",
   "execution_count": 13,
   "id": "ac0b3975-ec04-4fa6-bb91-05646aab1894",
   "metadata": {},
   "outputs": [
    {
     "data": {
      "text/plain": [
       "[<matplotlib.lines.Line2D at 0x2b21aea6f898>]"
      ]
     },
     "execution_count": 13,
     "metadata": {},
     "output_type": "execute_result"
    },
    {
     "data": {
      "image/png": "[encoded data removed]",
      "text/plain": [
       "<Figure size 432x288 with 1 Axes>"
      ]
     },
     "metadata": {
      "needs_background": "light"
     },
     "output_type": "display_data"
    }
   ],
   "source": [
    "plt.plot(fisher_times)"
   ]
  },
  {
   "cell_type": "code",
   "execution_count": 14,
   "id": "b1298ec9-b564-4807-8788-ab408b093ba1",
   "metadata": {},
   "outputs": [
    {
     "name": "stderr",
     "output_type": "stream",
     "text": [
      "100%|██████████| 500/500 [00:02<00:00, 178.82it/s]\n"
     ]
    }
   ],
   "source": []
  },
  {
   "cell_type": "code",
   "execution_count": 19,
   "id": "b4e59764-5eea-41fb-b88e-91557044cca3",
   "metadata": {},
   "outputs": [],
   "source": [
    "fishers = np.mean(np.square(np.stack(list(uts.values()))[:,:,0]),axis=0)"
   ]
  },
  {
   "cell_type": "code",
   "execution_count": 20,
   "id": "2cd560f8-d4fc-468a-901e-fae90de168d0",
   "metadata": {},
   "outputs": [
    {
     "data": {
      "text/plain": [
       "[<matplotlib.lines.Line2D at 0x2b21aec165f8>]"
      ]
     },
     "execution_count": 20,
     "metadata": {},
     "output_type": "execute_result"
    },
    {
     "data": {
      "image/png": "[encoded data removed]",
      "text/plain": [
       "<Figure size 432x288 with 1 Axes>"
      ]
     },
     "metadata": {
      "needs_background": "light"
     },
     "output_type": "display_data"
    }
   ],
   "source": [
    "plt.plot(fishers)"
   ]
  },
  {
   "cell_type": "code",
   "execution_count": 24,
   "id": "0b7c9c07-b171-4556-a4eb-0a935e1c4417",
   "metadata": {},
   "outputs": [
    {
     "data": {
      "text/plain": [
       "[<matplotlib.lines.Line2D at 0x2b21ad08e2e8>]"
      ]
     },
     "execution_count": 24,
     "metadata": {},
     "output_type": "execute_result"
    },
    {
     "data": {
      "image/png": "[encoded data removed]",
      "text/plain": [
       "<Figure size 432x288 with 1 Axes>"
      ]
     },
     "metadata": {
      "needs_background": "light"
     },
     "output_type": "display_data"
    }
   ],
   "source": [
    "plt.plot(np.std(np.square(np.stack(list(uts.values()))[:,:,0]),axis=0))"
   ]
  },
  {
   "cell_type": "code",
   "execution_count": null,
   "id": "8bbbab45-18ac-4f0a-8e4e-1311b1a69239",
   "metadata": {},
   "outputs": [],
   "source": []
  },
  {
   "cell_type": "code",
   "execution_count": null,
   "id": "df47a95b-f8eb-4a65-9f0e-fd5975c337c5",
   "metadata": {},
   "outputs": [],
   "source": []
  },
  {
   "cell_type": "code",
   "execution_count": null,
   "id": "76805e25-8808-4dc1-b761-f9edcf1b021f",
   "metadata": {},
   "outputs": [],
   "source": []
  },
  {
   "cell_type": "code",
   "execution_count": 41,
   "id": "530bee8f-8d1e-4158-8346-4283210a5c83",
   "metadata": {},
   "outputs": [],
   "source": [
    "omms = np.squeeze(np.array(list(omegas.values())))"
   ]
  },
  {
   "cell_type": "code",
   "execution_count": 31,
   "id": "c3402945-6646-4c27-bfc9-851a0532aec3",
   "metadata": {},
   "outputs": [],
   "source": [
    "means_ev = np.array([np.mean(omegas[i]) for i in omegas.keys()])\n",
    "means_std = np.array([np.std(omegas[i]) for i in omegas.keys()])"
   ]
  },
  {
   "cell_type": "code",
   "execution_count": 36,
   "id": "0d06350c-5c0c-4f0e-8f07-dab069ca7423",
   "metadata": {},
   "outputs": [
    {
     "data": {
      "image/png": "[encoded data removed]",
      "text/plain": [
       "<Figure size 432x288 with 1 Axes>"
      ]
     },
     "metadata": {
      "needs_background": "light"
     },
     "output_type": "display_data"
    }
   ],
   "source": [
    "ax = plt.subplot(111)\n",
    "times = range(len(means_ev))\n",
    "ax.plot(times, means_ev)\n",
    "ax.fill_between(times, means_ev - means_std/2, means_ev + means_std/2,facecolor='green')\n",
    "ax.set_xscale(\"log\")"
   ]
  },
  {
   "cell_type": "code",
   "execution_count": 38,
   "id": "7634037d-3931-4850-b0bb-cb0f5622024b",
   "metadata": {},
   "outputs": [
    {
     "data": {
      "text/plain": [
       "array([9897.656 , 9754.582 , 9726.26  , 9768.734 , 9841.891 , 9918.215 ,\n",
       "       9973.783 , 9994.334 , 9980.986 , 9943.738 , 9895.225 , 9848.751 ,\n",
       "       9816.289 , 9804.912 , 9814.9   , 9841.187 , 9875.705 , 9909.207 ,\n",
       "       9933.213 , 9942.329 , 9935.65  , 9916.406 , 9890.602 , 9865.434 ,\n",
       "       9847.516 , 9841.069 , 9846.838 , 9862.21  , 9882.232 , 9901.03  ,\n",
       "       9913.427 , 9916.417 , 9909.928 , 9896.605 , 9880.862 , 9867.522 ,\n",
       "       9860.379 , 9861.085 , 9868.78  , 9880.539 , 9892.39  , 9900.603 ,\n",
       "       9902.863 , 9898.936 , 9890.598 , 9880.932 , 9873.235 , 9869.916 ,\n",
       "       9871.729 , 9877.632 , 9885.264 , 9891.84  , 9895.149 , 9894.297 ,\n",
       "       9889.937 , 9883.926 , 9878.579 , 9875.794 , 9876.38  , 9879.833 ,\n",
       "       9884.617 , 9888.8125, 9890.872 , 9890.189 , 9887.263 , 9883.425 ,\n",
       "       9880.262 , 9878.968 , 9879.896 , 9882.481 , 9885.535 , 9887.771 ,\n",
       "       9888.344 , 9887.161 , 9884.869 , 9882.525 , 9881.122 , 9881.173 ,\n",
       "       9882.528 , 9884.49  , 9886.156 , 9886.825 , 9886.293 , 9884.9   ,\n",
       "       9883.343 , 9882.33  , 9882.269 , 9883.102 , 9884.371 , 9885.457 ,\n",
       "       9885.875 , 9885.493 , 9884.56  , 9883.562 , 9882.975 , 9883.039 ,\n",
       "       9883.666 , 9884.505 , 9885.133 , 9885.265 , 9884.883 , 9884.219 ,\n",
       "       9883.625 , 9883.388 , 9883.593 , 9884.097 , 9884.621 , 9884.899 ,\n",
       "       9884.813 , 9884.439 , 9883.995 , 9883.716 , 9883.7295, 9884.002 ,\n",
       "       9884.368 , 9884.629 , 9884.656 , 9884.457 , 9884.158 , 9883.928 ,\n",
       "       9883.883 , 9884.03  , 9884.272 , 9884.47  , 9884.52  , 9884.407 ,\n",
       "       9884.21  , 9884.044 , 9883.998 , 9884.087 , 9884.248 , 9884.385 ,\n",
       "       9884.424 , 9884.351 , 9884.217 , 9884.105 , 9884.077 , 9884.141 ,\n",
       "       9884.251 , 9884.34  , 9884.357 , 9884.301 , 9884.21  , 9884.141 ,\n",
       "       9884.132 , 9884.184 , 9884.259 , 9884.311 , 9884.312 , 9884.265 ,\n",
       "       9884.202 , 9884.164 , 9884.171 , 9884.214 , 9884.265 , 9884.29  ,\n",
       "       9884.277 , 9884.238 , 9884.199 , 9884.185 , 9884.201 , 9884.235 ,\n",
       "       9884.265 , 9884.2705, 9884.251 , 9884.222 , 9884.202 , 9884.203 ,\n",
       "       9884.223 , 9884.247 , 9884.26  , 9884.253 , 9884.233 , 9884.215 ,\n",
       "       9884.21  , 9884.22  , 9884.236 , 9884.249 , 9884.248 , 9884.237 ,\n",
       "       9884.224 , 9884.217 , 9884.221 , 9884.232 , 9884.242 , 9884.244 ,\n",
       "       9884.238 , 9884.229 , 9884.223 , 9884.224 , 9884.23  , 9884.238 ,\n",
       "       9884.241 , 9884.237 , 9884.2295, 9884.225 , 9884.226 , 9884.23  ,\n",
       "       9884.236 , 9884.238 , 9884.236 , 9884.23  , 9884.228 , 9884.228 ,\n",
       "       9884.23  , 9884.234 , 9884.236 , 9884.234 , 9884.23  , 9884.229 ,\n",
       "       9884.2295, 9884.232 , 9884.234 , 9884.234 , 9884.232 , 9884.2295,\n",
       "       9884.229 , 9884.23  , 9884.234 , 9884.235 , 9884.234 , 9884.231 ,\n",
       "       9884.2295, 9884.2295, 9884.231 , 9884.233 , 9884.234 , 9884.233 ,\n",
       "       9884.231 , 9884.23  , 9884.231 , 9884.232 , 9884.232 , 9884.232 ,\n",
       "       9884.231 , 9884.231 , 9884.232 , 9884.232 , 9884.231 , 9884.231 ,\n",
       "       9884.232 , 9884.232 , 9884.231 , 9884.231 , 9884.232 , 9884.232 ,\n",
       "       9884.231 , 9884.231 , 9884.232 , 9884.232 , 9884.231 , 9884.231 ,\n",
       "       9884.232 , 9884.232 , 9884.231 , 9884.231 , 9884.232 , 9884.232 ,\n",
       "       9884.231 , 9884.231 , 9884.232 ], dtype=float32)"
      ]
     },
     "execution_count": 38,
     "metadata": {},
     "output_type": "execute_result"
    }
   ],
   "source": []
  },
  {
   "cell_type": "code",
   "execution_count": null,
   "id": "1c796856-7c4a-480b-b43a-3201c92740bf",
   "metadata": {},
   "outputs": [],
   "source": []
  },
  {
   "cell_type": "code",
   "execution_count": null,
   "id": "af57d026-436c-49ee-b064-d6a9a57f81a9",
   "metadata": {},
   "outputs": [],
   "source": []
  },
  {
   "cell_type": "code",
   "execution_count": null,
   "id": "f1162953-ea0e-4f6e-afa3-403452966ba2",
   "metadata": {},
   "outputs": [],
   "source": []
  },
  {
   "cell_type": "code",
   "execution_count": null,
   "id": "76d1b6b3-6bb3-4960-b03b-372125a9003b",
   "metadata": {},
   "outputs": [],
   "source": []
  },
  {
   "cell_type": "code",
   "execution_count": 22,
   "id": "4cfd6d02-b1d6-4070-84e5-6a8ff14c9e5d",
   "metadata": {},
   "outputs": [
    {
     "ename": "FileNotFoundError",
     "evalue": "[Errno 2] No such file or directory: '/data/uab-giq/scratch/matias/quantera/trajectories/[1, 100, 1000000, 10000.0, 1]/4itraj/rossler_real_traj_method/10periods/1000ppp/1rppp/fisher_tf/fisher_tf.npy'",
     "output_type": "error",
     "traceback": [
      "\u001b[0;31m---------------------------------------------------------------------------\u001b[0m",
      "\u001b[0;31mFileNotFoundError\u001b[0m                         Traceback (most recent call last)",
      "\u001b[0;32m<ipython-input-22-8852b53eac7e>\u001b[0m in \u001b[0;36m<module>\u001b[0;34m\u001b[0m\n\u001b[1;32m      1\u001b[0m \u001b[0mfisher_tf_path\u001b[0m \u001b[0;34m=\u001b[0m \u001b[0mget_path_config\u001b[0m\u001b[0;34m(\u001b[0m\u001b[0mperiods\u001b[0m \u001b[0;34m=\u001b[0m \u001b[0mperiods\u001b[0m\u001b[0;34m,\u001b[0m \u001b[0mppp\u001b[0m\u001b[0;34m=\u001b[0m \u001b[0mppp\u001b[0m\u001b[0;34m,\u001b[0m \u001b[0mrppp\u001b[0m\u001b[0;34m=\u001b[0m\u001b[0;36m1\u001b[0m\u001b[0;34m,\u001b[0m \u001b[0mmethod\u001b[0m\u001b[0;34m=\u001b[0m\u001b[0mmethod\u001b[0m\u001b[0;34m,\u001b[0m \u001b[0mitraj\u001b[0m\u001b[0;34m=\u001b[0m\u001b[0;36m4\u001b[0m\u001b[0;34m,\u001b[0m \u001b[0mexp_path\u001b[0m\u001b[0;34m=\u001b[0m\u001b[0mexp_path\u001b[0m\u001b[0;34m)\u001b[0m \u001b[0;34m+\u001b[0m\u001b[0;34m\"fisher_tf/\"\u001b[0m\u001b[0;34m\u001b[0m\u001b[0;34m\u001b[0m\u001b[0m\n\u001b[0;32m----> 2\u001b[0;31m \u001b[0mgg\u001b[0m \u001b[0;34m=\u001b[0m \u001b[0mnp\u001b[0m\u001b[0;34m.\u001b[0m\u001b[0mload\u001b[0m\u001b[0;34m(\u001b[0m\u001b[0mfisher_tf_path\u001b[0m\u001b[0;34m+\u001b[0m\u001b[0;34m\"fisher_tf.npy\"\u001b[0m\u001b[0;34m)\u001b[0m\u001b[0;34m\u001b[0m\u001b[0;34m\u001b[0m\u001b[0m\n\u001b[0m",
      "\u001b[0;32m~/qenv_bilkis/lib64/python3.6/site-packages/numpy/lib/npyio.py\u001b[0m in \u001b[0;36mload\u001b[0;34m(file, mmap_mode, allow_pickle, fix_imports, encoding)\u001b[0m\n\u001b[1;32m    426\u001b[0m         \u001b[0mown_fid\u001b[0m \u001b[0;34m=\u001b[0m \u001b[0;32mFalse\u001b[0m\u001b[0;34m\u001b[0m\u001b[0;34m\u001b[0m\u001b[0m\n\u001b[1;32m    427\u001b[0m     \u001b[0;32melse\u001b[0m\u001b[0;34m:\u001b[0m\u001b[0;34m\u001b[0m\u001b[0;34m\u001b[0m\u001b[0m\n\u001b[0;32m--> 428\u001b[0;31m         \u001b[0mfid\u001b[0m \u001b[0;34m=\u001b[0m \u001b[0mopen\u001b[0m\u001b[0;34m(\u001b[0m\u001b[0mos_fspath\u001b[0m\u001b[0;34m(\u001b[0m\u001b[0mfile\u001b[0m\u001b[0;34m)\u001b[0m\u001b[0;34m,\u001b[0m \u001b[0;34m\"rb\"\u001b[0m\u001b[0;34m)\u001b[0m\u001b[0;34m\u001b[0m\u001b[0;34m\u001b[0m\u001b[0m\n\u001b[0m\u001b[1;32m    429\u001b[0m         \u001b[0mown_fid\u001b[0m \u001b[0;34m=\u001b[0m \u001b[0;32mTrue\u001b[0m\u001b[0;34m\u001b[0m\u001b[0;34m\u001b[0m\u001b[0m\n\u001b[1;32m    430\u001b[0m \u001b[0;34m\u001b[0m\u001b[0m\n",
      "\u001b[0;31mFileNotFoundError\u001b[0m: [Errno 2] No such file or directory: '/data/uab-giq/scratch/matias/quantera/trajectories/[1, 100, 1000000, 10000.0, 1]/4itraj/rossler_real_traj_method/10periods/1000ppp/1rppp/fisher_tf/fisher_tf.npy'"
     ]
    }
   ],
   "source": [
    "fisher_tf_path = get_path_config(periods = periods, ppp= ppp, rppp=1, method=method, itraj=4, exp_path=exp_path) +\"fisher_tf/\"\n",
    "gg = np.load(fisher_tf_path+\"fisher_tf.npy\")\n"
   ]
  },
  {
   "cell_type": "code",
   "execution_count": null,
   "id": "669282bf-4ade-4cdb-a03e-170394f0fd2a",
   "metadata": {},
   "outputs": [],
   "source": []
  },
  {
   "cell_type": "code",
   "execution_count": null,
   "id": "26be2fc9-0776-44aa-a120-38ea262bdd75",
   "metadata": {},
   "outputs": [],
   "source": []
  },
  {
   "cell_type": "code",
   "execution_count": null,
   "id": "3ba26345-716a-4f31-9337-b4b4d712249d",
   "metadata": {},
   "outputs": [],
   "source": []
  },
  {
   "cell_type": "code",
   "execution_count": null,
   "id": "ff936665-b8a3-4ef6-9eb0-857094b4c17d",
   "metadata": {},
   "outputs": [],
   "source": []
  },
  {
   "cell_type": "code",
   "execution_count": 40,
   "id": "52498ef7",
   "metadata": {},
   "outputs": [
    {
     "data": {
      "text/plain": [
       "<matplotlib.lines.Line2D at 0x7f0f1fbe1c10>"
      ]
     },
     "execution_count": 40,
     "metadata": {},
     "output_type": "execute_result"
    },
    {
     "data": {
      "image/png": "[encoded data removed]",
      "text/plain": [
       "<Figure size 432x288 with 1 Axes>"
      ]
     },
     "metadata": {
      "needs_background": "light"
     },
     "output_type": "display_data"
    }
   ],
   "source": [
    "ax = plt.subplot(111)\n",
    "ax.plot(total_loss[:,0,0])\n",
    "ax.axhline(omega,color=\"black\")"
   ]
  },
  {
   "cell_type": "code",
   "execution_count": 20,
   "id": "133d3e2a",
   "metadata": {},
   "outputs": [
    {
     "data": {
      "text/plain": [
       "10097.62700785465"
      ]
     },
     "execution_count": 20,
     "metadata": {},
     "output_type": "execute_result"
    }
   ],
   "source": [
    "np.random.seed(0)\n",
    "np.random.uniform(omega - omega/10, omega + omega/10 )"
   ]
  },
  {
   "cell_type": "code",
   "execution_count": 41,
   "id": "dbfe8e51",
   "metadata": {},
   "outputs": [
    {
     "data": {
      "text/plain": [
       "10000.0"
      ]
     },
     "execution_count": 41,
     "metadata": {},
     "output_type": "execute_result"
    }
   ],
   "source": [
    "omega"
   ]
  },
  {
   "cell_type": "code",
   "execution_count": 22,
   "id": "77abc1f1",
   "metadata": {},
   "outputs": [
    {
     "data": {
      "text/plain": [
       "10000.0"
      ]
     },
     "execution_count": 22,
     "metadata": {},
     "output_type": "execute_result"
    }
   ],
   "source": [
    "omega"
   ]
  },
  {
   "cell_type": "code",
   "execution_count": 31,
   "id": "26cb999a",
   "metadata": {},
   "outputs": [
    {
     "data": {
      "text/plain": [
       "0.6027633760716439"
      ]
     },
     "execution_count": 31,
     "metadata": {},
     "output_type": "execute_result"
    }
   ],
   "source": [
    "np.random.random()"
   ]
  },
  {
   "cell_type": "code",
   "execution_count": 1,
   "id": "8e21c30c",
   "metadata": {},
   "outputs": [
    {
     "ename": "NameError",
     "evalue": "name 'omega' is not defined",
     "output_type": "error",
     "traceback": [
      "\u001b[0;31m---------------------------------------------------------------------------\u001b[0m",
      "\u001b[0;31mNameError\u001b[0m                                 Traceback (most recent call last)",
      "\u001b[0;32m<ipython-input-1-ac709e90fa86>\u001b[0m in \u001b[0;36m<module>\u001b[0;34m\u001b[0m\n\u001b[0;32m----> 1\u001b[0;31m \u001b[0momega\u001b[0m\u001b[0;34m\u001b[0m\u001b[0;34m\u001b[0m\u001b[0m\n\u001b[0m",
      "\u001b[0;31mNameError\u001b[0m: name 'omega' is not defined"
     ]
    }
   ],
   "source": []
  },
  {
   "cell_type": "code",
   "execution_count": null,
   "id": "26ee1553",
   "metadata": {},
   "outputs": [],
   "source": []
  },
  {
   "cell_type": "code",
   "execution_count": null,
   "id": "5a6e6f00",
   "metadata": {},
   "outputs": [],
   "source": []
  },
  {
   "cell_type": "code",
   "execution_count": null,
   "id": "d05491b9",
   "metadata": {},
   "outputs": [],
   "source": []
  },
  {
   "cell_type": "code",
   "execution_count": null,
   "id": "860c42fa",
   "metadata": {},
   "outputs": [],
   "source": []
  },
  {
   "cell_type": "code",
   "execution_count": null,
   "id": "f4a3cde1",
   "metadata": {},
   "outputs": [],
   "source": []
  },
  {
   "cell_type": "code",
   "execution_count": null,
   "id": "7df5ec81",
   "metadata": {},
   "outputs": [],
   "source": []
  },
  {
   "cell_type": "code",
   "execution_count": 4,
   "id": "intimate-delaware",
   "metadata": {},
   "outputs": [
    {
     "ename": "NameError",
     "evalue": "name 'C' is not defined",
     "output_type": "error",
     "traceback": [
      "\u001b[0;31m---------------------------------------------------------------------------\u001b[0m",
      "\u001b[0;31mNameError\u001b[0m                                 Traceback (most recent call last)",
      "\u001b[0;32m/tmp/ipykernel_124014/396656657.py\u001b[0m in \u001b[0;36m<module>\u001b[0;34m\u001b[0m\n\u001b[1;32m      1\u001b[0m \u001b[0mPeriod\u001b[0m \u001b[0;34m=\u001b[0m \u001b[0;36m2\u001b[0m\u001b[0;34m*\u001b[0m\u001b[0mnp\u001b[0m\u001b[0;34m.\u001b[0m\u001b[0mpi\u001b[0m\u001b[0;34m/\u001b[0m\u001b[0momega\u001b[0m\u001b[0;34m\u001b[0m\u001b[0;34m\u001b[0m\u001b[0m\n\u001b[1;32m      2\u001b[0m \u001b[0mdt\u001b[0m \u001b[0;34m=\u001b[0m \u001b[0mPeriod\u001b[0m\u001b[0;34m/\u001b[0m\u001b[0mppp\u001b[0m\u001b[0;34m\u001b[0m\u001b[0;34m\u001b[0m\u001b[0m\n\u001b[0;32m----> 3\u001b[0;31m \u001b[0mCxdt\u001b[0m \u001b[0;34m=\u001b[0m \u001b[0mnp\u001b[0m\u001b[0;34m.\u001b[0m\u001b[0meinsum\u001b[0m\u001b[0;34m(\u001b[0m\u001b[0;34m'ij,bj->bi'\u001b[0m\u001b[0;34m,\u001b[0m\u001b[0mC\u001b[0m\u001b[0;34m,\u001b[0m\u001b[0mstates\u001b[0m\u001b[0;34m[\u001b[0m\u001b[0;34m:\u001b[0m\u001b[0;34m-\u001b[0m\u001b[0;36m1\u001b[0m\u001b[0;34m]\u001b[0m\u001b[0;34m)\u001b[0m\u001b[0;34m*\u001b[0m\u001b[0mdt\u001b[0m\u001b[0;34m\u001b[0m\u001b[0;34m\u001b[0m\u001b[0m\n\u001b[0m\u001b[1;32m      4\u001b[0m \u001b[0mlikelihoods\u001b[0m \u001b[0;34m=\u001b[0m \u001b[0mnp\u001b[0m\u001b[0;34m.\u001b[0m\u001b[0msquare\u001b[0m\u001b[0;34m(\u001b[0m\u001b[0;34m(\u001b[0m\u001b[0msignals\u001b[0m \u001b[0;34m-\u001b[0m \u001b[0mCxdt\u001b[0m\u001b[0;34m)\u001b[0m\u001b[0;34m/\u001b[0m\u001b[0;34m(\u001b[0m\u001b[0;36m2\u001b[0m\u001b[0;34m*\u001b[0m\u001b[0mdt\u001b[0m\u001b[0;34m)\u001b[0m\u001b[0;34m)\u001b[0m\u001b[0;34m\u001b[0m\u001b[0;34m\u001b[0m\u001b[0m\n",
      "\u001b[0;31mNameError\u001b[0m: name 'C' is not defined"
     ]
    }
   ],
   "source": [
    "Period = 2*np.pi/omega\n",
    "dt = Period/ppp\n",
    "Cxdt = np.einsum('ij,bj->bi',C,states[:-1])*dt\n",
    "likelihoods = np.square((signals - Cxdt)/(2*dt))"
   ]
  },
  {
   "cell_type": "markdown",
   "id": "organizational-breathing",
   "metadata": {},
   "source": [
    "First check: $\\sum_t \\frac{1}{2 dt} (dy_t -Cx dt)^2  \\sim N/2$"
   ]
  },
  {
   "cell_type": "code",
   "execution_count": 18,
   "id": "fluid-collective",
   "metadata": {},
   "outputs": [
    {
     "name": "stdout",
     "output_type": "stream",
     "text": [
      "5000.0 5056.618984100279\n"
     ]
    }
   ],
   "source": [
    "print(ppp*periods/2, np.sum((0.5/dt)*(signals-Cxdt)**2))"
   ]
  },
  {
   "cell_type": "markdown",
   "id": "limiting-injection",
   "metadata": {},
   "source": [
    "Second check: $\\sum_t (dy_t - Cxdt)^2 \\sim \\sum_t dW^2 = T$"
   ]
  },
  {
   "cell_type": "code",
   "execution_count": 19,
   "id": "hired-birthday",
   "metadata": {},
   "outputs": [
    {
     "name": "stdout",
     "output_type": "stream",
     "text": [
      "0.006283185307179586 0.0063543348209808455\n"
     ]
    }
   ],
   "source": [
    "print(Period*periods, np.sum((signals-Cxdt)**2))"
   ]
  },
  {
   "cell_type": "markdown",
   "id": "endless-effort",
   "metadata": {},
   "source": [
    "Third check: fluctuations to be minimized"
   ]
  },
  {
   "cell_type": "code",
   "execution_count": 53,
   "id": "moderate-saturn",
   "metadata": {},
   "outputs": [],
   "source": [
    "rppp_reference=1\n",
    "path_landscape= get_path_config(periods = periods, ppp= ppp, rppp=rppp_reference, method=method, itraj=itraj, exp_path = exp_path)+\"landscape/\"\n",
    "omegas = np.load(path_landscape+\"omegas.npy\")\n",
    "cost = np.load(path_landscape+\"losses.npy\")"
   ]
  },
  {
   "cell_type": "code",
   "execution_count": 55,
   "id": "rural-poverty",
   "metadata": {},
   "outputs": [
    {
     "data": {
      "text/plain": [
       "[<matplotlib.lines.Line2D at 0x7f8d621ddcc0>]"
      ]
     },
     "execution_count": 55,
     "metadata": {},
     "output_type": "execute_result"
    },
    {
     "data": {
      "image/png": "[encoded data removed]",
      "text/plain": [
       "<Figure size 432x288 with 1 Axes>"
      ]
     },
     "metadata": {
      "needs_background": "light"
     },
     "output_type": "display_data"
    }
   ],
   "source": [
    "plt.plot(cost[:,-1])"
   ]
  },
  {
   "cell_type": "code",
   "execution_count": null,
   "id": "immune-israeli",
   "metadata": {},
   "outputs": [],
   "source": []
  },
  {
   "cell_type": "code",
   "execution_count": 61,
   "id": "proud-direction",
   "metadata": {},
   "outputs": [],
   "source": []
  },
  {
   "cell_type": "code",
   "execution_count": 62,
   "id": "modular-northeast",
   "metadata": {},
   "outputs": [],
   "source": []
  },
  {
   "cell_type": "code",
   "execution_count": 63,
   "id": "polished-essence",
   "metadata": {},
   "outputs": [
    {
     "data": {
      "text/plain": [
       "array([37.47813034, 37.47813034, 37.47813034, 37.47813034, 37.47813034,\n",
       "       37.47813034, 37.47813034, 37.47813034, 37.47813034, 37.47813034,\n",
       "       37.47813034, 37.47813034, 37.47813034, 37.47813034, 37.47813034,\n",
       "       37.47813034, 37.47813034, 37.47813034, 37.47813034, 37.47813034,\n",
       "       37.47813034, 37.47813034, 37.47813034, 37.47813034, 37.47813034,\n",
       "       37.47813034, 37.47813034, 37.47813034, 37.47813034, 37.47813034,\n",
       "       37.47813034, 37.47813034, 37.47813034, 37.47813034, 37.47813034,\n",
       "       37.47813034, 37.47813034, 37.47813034, 37.47813034, 37.47813034,\n",
       "       37.47813034, 37.47813034, 37.47813034, 37.47813034, 37.47813034,\n",
       "       37.47813034, 37.47813034, 37.47813034, 37.47813034, 37.47813034,\n",
       "       37.47813034, 37.47813034, 37.47813034, 37.47813034, 37.47813034,\n",
       "       37.47813034, 37.47813034, 37.47813034, 37.47813034, 37.47813034,\n",
       "       37.47813034, 37.47813034, 37.47813034, 37.47813034, 37.47813034,\n",
       "       37.47813034, 37.47813034, 37.47813034, 37.47813034, 37.47813034,\n",
       "       37.47813034, 37.47813034, 37.47813034, 37.47813034, 37.47813034,\n",
       "       37.47813034, 37.47813034, 37.47813034, 37.47813034, 37.47813034,\n",
       "       37.47813034, 37.47813034, 37.47813034, 37.47813034, 37.47813034,\n",
       "       37.47813034, 37.47813034, 37.47813034, 37.47813034, 37.47813034,\n",
       "       37.47813034, 37.47813034, 37.47813034, 37.47813034, 37.47813034,\n",
       "       37.47813034, 37.47813034, 37.47813034, 37.47813034, 37.47813034,\n",
       "       37.47813034, 37.47813034, 37.47813034, 37.47813034, 37.47813034,\n",
       "       37.47813034, 37.47813034, 37.47813034, 37.47813034, 37.47813034,\n",
       "       37.47813034, 37.47813034, 37.47813034, 37.47813034, 37.47813034,\n",
       "       37.47813034, 37.47813034, 37.47813034, 37.47813034, 37.47813034,\n",
       "       37.47813034, 37.47813034, 37.47813034, 37.47813034, 37.47813034,\n",
       "       37.47813034, 37.47813034, 37.47813034, 37.47813034, 37.47813034,\n",
       "       37.47795486, 37.47795486, 37.47795486, 37.47795486, 37.47795486,\n",
       "       37.47795486, 37.47795486, 37.47813034, 37.47813034, 37.47813034,\n",
       "       37.47813034, 37.47813034, 37.47795486, 37.47795486, 37.47795486,\n",
       "       37.47795486, 37.47795486, 37.47795486, 37.47795486, 37.47795486,\n",
       "       37.47795486, 37.47795486, 37.47795486, 37.47795486, 37.47795486,\n",
       "       37.47795486, 37.47795486, 37.47795486, 37.47795486, 37.47795486,\n",
       "       37.47795486, 37.47795486, 37.47795486, 37.47795486, 37.47795486,\n",
       "       37.47795486, 37.47795486, 37.47795486, 37.47795486, 37.47795486,\n",
       "       37.47795486, 37.47795486, 37.47795486, 37.47795486, 37.47795486,\n",
       "       37.47795486, 37.47795486, 37.47813034, 37.47795486, 37.47795486,\n",
       "       37.47795486, 37.47795486, 37.47777557, 37.47795486, 37.47777557,\n",
       "       37.47813034, 37.47813034, 37.47813034, 37.47795486, 37.47795486,\n",
       "       37.47795486, 37.47813034, 37.47777557, 37.47813034, 37.47795486,\n",
       "       37.47795486, 37.47795486, 37.47795486, 37.47795486, 37.47795486,\n",
       "       37.47795486, 37.47795486, 37.47795486, 37.47813034, 37.47795486,\n",
       "       37.47795486, 37.47795486, 37.47795486, 37.47795486, 37.47777557,\n",
       "       37.47813034, 37.47795486, 37.47777557, 37.47795486, 37.47777557,\n",
       "       37.47777557, 37.47795486, 37.47777557, 37.47777557, 37.47777557,\n",
       "       37.47777557, 37.47777557, 37.47777557, 37.47777557, 37.47777557,\n",
       "       37.47777557, 37.47777557, 37.47777557, 37.47777557, 37.47777557,\n",
       "       37.47777557, 37.47777557, 37.47777557, 37.47777557, 37.47777557,\n",
       "       37.47777557, 37.47777557, 37.47777557, 37.47777557, 37.47777557,\n",
       "       37.47777557, 37.47777557, 37.47777557, 37.47777557, 37.47777557,\n",
       "       37.47777557, 37.47777557, 37.47777557, 37.47777557, 37.47777557,\n",
       "       37.47777557, 37.47777557, 37.47777557, 37.47777557, 37.47777557,\n",
       "       37.47777557, 37.47777557, 37.47777557, 37.4776001 , 37.4776001 ,\n",
       "       37.47777557, 37.47777557, 37.47777557, 37.47777557, 37.4776001 ,\n",
       "       37.47777557, 37.4776001 , 37.4776001 , 37.47777557, 37.47777557,\n",
       "       37.47742081, 37.47742081, 37.4776001 , 37.4776001 , 37.47742081,\n",
       "       37.47742081, 37.47742081, 37.47742081, 37.47742081, 37.47742081,\n",
       "       37.4776001 , 37.4776001 , 37.4776001 , 37.47777557, 37.4776001 ,\n",
       "       37.47742081, 37.4776001 , 37.47742081, 37.4776001 , 37.47742081,\n",
       "       37.4776001 , 37.4776001 , 37.47742081, 37.4776001 , 37.47777557,\n",
       "       37.4776001 , 37.4776001 , 37.4776001 , 37.4776001 , 37.47777557,\n",
       "       37.4776001 , 37.47777557, 37.4776001 , 37.4776001 , 37.47777557,\n",
       "       37.4776001 , 37.4776001 , 37.4776001 , 37.4776001 , 37.4776001 ,\n",
       "       37.4776001 , 37.4776001 , 37.4776001 , 37.4776001 , 37.4776001 ,\n",
       "       37.4776001 , 37.4776001 , 37.4776001 , 37.4776001 , 37.4776001 ,\n",
       "       37.4776001 , 37.4776001 , 37.47742081, 37.4776001 , 37.47742081,\n",
       "       37.47742081, 37.47742081, 37.47742081, 37.47724533, 37.47724533,\n",
       "       37.47724533, 37.47724533, 37.47742081, 37.47742081, 37.47742081,\n",
       "       37.47742081, 37.47742081, 37.47724533, 37.47742081, 37.47742081,\n",
       "       37.47724533, 37.47724533, 37.47724533, 37.47724533, 37.47742081,\n",
       "       37.47724533, 37.47724533, 37.47724533, 37.47742081, 37.47724533,\n",
       "       37.47724533, 37.47706604, 37.47724533, 37.47706604, 37.47706604,\n",
       "       37.47706604, 37.47706604, 37.47706604, 37.47706604, 37.47706604,\n",
       "       37.47706604, 37.47706604, 37.47706604, 37.47706604, 37.47706604,\n",
       "       37.47706604, 37.47706604, 37.47706604, 37.47706604, 37.47706604,\n",
       "       37.47706604, 37.47706604, 37.47706604, 37.47706604, 37.47724533,\n",
       "       37.47706604, 37.47706604, 37.47706604, 37.47706604, 37.47706604,\n",
       "       37.47706604, 37.47706604, 37.47706604, 37.47706604, 37.47689056,\n",
       "       37.47671127, 37.47706604, 37.47689056, 37.47706604, 37.47706604,\n",
       "       37.47706604, 37.47706604, 37.47706604, 37.47706604, 37.47706604,\n",
       "       37.47706604, 37.47706604, 37.47706604, 37.47689056, 37.47689056,\n",
       "       37.47706604, 37.47689056, 37.47689056, 37.47689056, 37.47689056,\n",
       "       37.47689056, 37.47671127, 37.47689056, 37.47671127, 37.47671127,\n",
       "       37.47671127, 37.47671127, 37.47671127, 37.47671127, 37.47706604,\n",
       "       37.47706604, 37.47706604, 37.47689056, 37.47689056, 37.47706604,\n",
       "       37.47706604, 37.47689056, 37.47689056, 37.47706604, 37.47671127,\n",
       "       37.47671127, 37.47671127, 37.47671127, 37.47671127, 37.47671127,\n",
       "       37.47671127, 37.47671127, 37.47671127, 37.47671127, 37.47671127,\n",
       "       37.47671127, 37.47671127, 37.47671127, 37.47671127, 37.4765358 ,\n",
       "       37.4765358 , 37.47671127, 37.47671127, 37.47671127, 37.4765358 ,\n",
       "       37.4765358 , 37.4765358 , 37.4765358 , 37.47671127, 37.47671127,\n",
       "       37.4765358 , 37.47671127, 37.4765358 , 37.4765358 , 37.47635651,\n",
       "       37.47635651, 37.47635651, 37.47635651, 37.4765358 , 37.47635651,\n",
       "       37.47635651, 37.47635651, 37.47635651, 37.4765358 , 37.47671127,\n",
       "       37.47635651, 37.47635651, 37.47635651, 37.47635651, 37.47635651,\n",
       "       37.47635651, 37.47635651, 37.47635651, 37.47635651, 37.47635651,\n",
       "       37.47635651, 37.47635651, 37.47635651, 37.47635651, 37.47635651,\n",
       "       37.47635651, 37.47635651, 37.47635651, 37.47635651, 37.47635651,\n",
       "       37.47635651, 37.47635651, 37.47635651, 37.47635651, 37.47635651,\n",
       "       37.47635651, 37.47617722, 37.47635651, 37.47617722, 37.47617722,\n",
       "       37.47635651, 37.47600174, 37.47617722, 37.47617722, 37.47600174,\n",
       "       37.47600174, 37.47600174, 37.47617722, 37.47600174, 37.47617722,\n",
       "       37.47600174, 37.47600174, 37.47617722, 37.47600174, 37.47600174,\n",
       "       37.47600174, 37.47600174, 37.47600174, 37.47600174, 37.47600174,\n",
       "       37.47600174, 37.47600174, 37.47600174, 37.47600174, 37.47600174,\n",
       "       37.47600174, 37.47582245, 37.47600174, 37.47582245, 37.47582245,\n",
       "       37.47582245, 37.47564697, 37.47564697, 37.47564697, 37.47564697,\n",
       "       37.47582245, 37.47582245, 37.47582245, 37.47564697, 37.47564697,\n",
       "       37.47564697, 37.47564697, 37.47582245, 37.47582245, 37.47600174,\n",
       "       37.47582245, 37.47564697])"
      ]
     },
     "execution_count": 63,
     "metadata": {},
     "output_type": "execute_result"
    }
   ],
   "source": []
  },
  {
   "cell_type": "code",
   "execution_count": null,
   "id": "noticed-boost",
   "metadata": {},
   "outputs": [],
   "source": []
  },
  {
   "cell_type": "code",
   "execution_count": null,
   "id": "concerned-foundation",
   "metadata": {},
   "outputs": [],
   "source": []
  },
  {
   "cell_type": "code",
   "execution_count": 47,
   "id": "caring-provider",
   "metadata": {},
   "outputs": [],
   "source": [
    "simu_states = {}\n",
    "for ind, om in enumerate(omegas):\n",
    "    simu_states[om] = np.load(path_landscape+\"simu_states/{}.npy\".format(om))"
   ]
  },
  {
   "cell_type": "code",
   "execution_count": 48,
   "id": "disciplinary-logging",
   "metadata": {},
   "outputs": [],
   "source": [
    "states_simu  = simu_states[omega]"
   ]
  },
  {
   "cell_type": "code",
   "execution_count": 49,
   "id": "abstract-sitting",
   "metadata": {},
   "outputs": [],
   "source": [
    "new_cost = {}\n",
    "for ind, om in enumerate(omegas):\n",
    "    Csimu_dt = np.einsum(\"ij,bj->bi\",C,simu_states[om][:-1])*dt\n",
    "    initial_cost = np.sum(np.square(signals-Csimu_dt))\n",
    "    new_cost[om] = (initial_cost - Period*periods)/(2*C[0,0]*(dt**(3/2)))"
   ]
  },
  {
   "cell_type": "code",
   "execution_count": 50,
   "id": "recorded-decline",
   "metadata": {},
   "outputs": [
    {
     "data": {
      "text/plain": [
       "[<matplotlib.lines.Line2D at 0x7f8d61d2d518>]"
      ]
     },
     "execution_count": 50,
     "metadata": {},
     "output_type": "execute_result"
    },
    {
     "data": {
      "image/png": "[encoded data removed]",
      "text/plain": [
       "<Figure size 432x288 with 1 Axes>"
      ]
     },
     "metadata": {
      "needs_background": "light"
     },
     "output_type": "display_data"
    }
   ],
   "source": [
    "plt.plot(list(new_cost.keys()), list(new_cost.values()))"
   ]
  },
  {
   "cell_type": "code",
   "execution_count": 36,
   "id": "beautiful-korea",
   "metadata": {},
   "outputs": [],
   "source": []
  },
  {
   "cell_type": "code",
   "execution_count": 40,
   "id": "healthy-generator",
   "metadata": {},
   "outputs": [
    {
     "data": {
      "text/plain": [
       "0.02148462262923569"
      ]
     },
     "execution_count": 40,
     "metadata": {},
     "output_type": "execute_result"
    }
   ],
   "source": []
  },
  {
   "cell_type": "code",
   "execution_count": null,
   "id": "plastic-above",
   "metadata": {},
   "outputs": [],
   "source": []
  },
  {
   "cell_type": "code",
   "execution_count": 56,
   "id": "played-philip",
   "metadata": {},
   "outputs": [],
   "source": [
    "params = give_def_params()\n",
    "params, exp_path = check_params(params)\n",
    "[eta, gamma, kappa, omega, n] = params\n",
    "\n",
    "\n",
    "params = give_def_params(mode=\"aspel\") #params = [eta, gamma, kappa, omega, n]\n",
    "\n",
    "params = give_def_params()\n",
    "params, exp_path = check_params(params)\n",
    "[eta, gamma, kappa, omega, n] = params\n",
    "\n",
    "\n",
    "\n",
    "\n",
    "periods = 1000\n",
    "ppp = 5000\n",
    "method = \"rossler\"\n",
    "rppp = 1\n",
    "itraj = 1\n",
    "states, covs, signals, params, times = load_data(ppp=ppp, periods=periods, method=method, itraj=itraj, exp_path=exp_path , rppp = 1)\n"
   ]
  },
  {
   "cell_type": "code",
   "execution_count": 59,
   "id": "ignored-holly",
   "metadata": {},
   "outputs": [],
   "source": [
    "states, covs, signals, params, times = load_data(ppp=1000, periods=100, method=method, itraj=itraj, exp_path=exp_path , rppp = rppp_reference)\n"
   ]
  },
  {
   "cell_type": "code",
   "execution_count": 62,
   "id": "psychological-beads",
   "metadata": {},
   "outputs": [
    {
     "data": {
      "text/plain": [
       "'[1, 6283.185307179586, 3472471.485641353, 10000.0, 20]/'"
      ]
     },
     "execution_count": 62,
     "metadata": {},
     "output_type": "execute_result"
    }
   ],
   "source": [
    "exp_path"
   ]
  },
  {
   "cell_type": "code",
   "execution_count": null,
   "id": "entertaining-springer",
   "metadata": {},
   "outputs": [],
   "source": []
  },
  {
   "cell_type": "code",
   "execution_count": null,
   "id": "basic-report",
   "metadata": {},
   "outputs": [],
   "source": []
  },
  {
   "cell_type": "code",
   "execution_count": null,
   "id": "alpha-vessel",
   "metadata": {},
   "outputs": [],
   "source": []
  },
  {
   "cell_type": "code",
   "execution_count": 6,
   "id": "vertical-gibraltar",
   "metadata": {},
   "outputs": [],
   "source": [
    "loss_0 = np.sum(likelihoods)/times[-1]"
   ]
  },
  {
   "cell_type": "code",
   "execution_count": 7,
   "id": "daily-cycling",
   "metadata": {},
   "outputs": [
    {
     "data": {
      "text/plain": [
       "1.0000569614623043"
      ]
     },
     "execution_count": 7,
     "metadata": {},
     "output_type": "execute_result"
    }
   ],
   "source": [
    "np.sum(np.square((signals[:,0] - Cxdt[:,0]))/dt)/(ppp*periods)"
   ]
  },
  {
   "cell_type": "code",
   "execution_count": null,
   "id": "marked-syntax",
   "metadata": {},
   "outputs": [],
   "source": []
  },
  {
   "cell_type": "code",
   "execution_count": null,
   "id": "running-injection",
   "metadata": {},
   "outputs": [],
   "source": []
  },
  {
   "cell_type": "code",
   "execution_count": 25,
   "id": "formed-latino",
   "metadata": {},
   "outputs": [],
   "source": [
    "negs = -np.inf\n",
    "Period = 2*np.pi/params[-2]\n",
    "\n",
    "fourier_signal = np.fft.fft(signals[:,0])\n",
    "freqs_signal = np.fft.fftfreq(n = len(fourier_signal), d= Period/ppp)\n",
    "\n",
    "filter_cond = freqs_signal>negs\n",
    "freqs_signal = freqs_signal[filter_cond]\n",
    "spectra_signal = np.abs(fourier_signal[filter_cond])**2\n",
    "\n",
    "fourier_state = np.fft.fft(states[:,0])\n",
    "freqs_state = np.fft.fftfreq(n = len(fourier_state), d= Period/ppp)\n",
    "\n",
    "filter_cond = freqs_state>negs\n",
    "freqs_state = freqs_state[filter_cond]\n",
    "spectra_state = np.abs(fourier_state[filter_cond])**2\n"
   ]
  },
  {
   "cell_type": "code",
   "execution_count": null,
   "id": "european-boost",
   "metadata": {},
   "outputs": [],
   "source": [
    "ax = plt.subplot(211)\n",
    "\n",
    "ax.plot(freqs_signal,spectra_signal)\n",
    "ax.set_ylabel(\"|dy(f)|^2\")\n",
    "ax.set_xlabel(\"f\")\n",
    "#ax.axvline(params[-2]/(2*np.pi),color=\"black\")\n",
    "#ax.set_xscale(\"log\")\n",
    "ax.set_yscale(\"log\")\n"
   ]
  },
  {
   "cell_type": "code",
   "execution_count": 44,
   "id": "flush-russian",
   "metadata": {},
   "outputs": [
    {
     "ename": "NameError",
     "evalue": "name 'C' is not defined",
     "output_type": "error",
     "traceback": [
      "\u001b[0;31m---------------------------------------------------------------------------\u001b[0m",
      "\u001b[0;31mNameError\u001b[0m                                 Traceback (most recent call last)",
      "\u001b[0;32m<ipython-input-44-8b880febb395>\u001b[0m in \u001b[0;36m<module>\u001b[0;34m\u001b[0m\n\u001b[0;32m----> 1\u001b[0;31m \u001b[0msignals\u001b[0m \u001b[0;34m-\u001b[0m \u001b[0mnp\u001b[0m\u001b[0;34m.\u001b[0m\u001b[0meinsum\u001b[0m\u001b[0;34m(\u001b[0m\u001b[0;34m'ij,bj->bi'\u001b[0m\u001b[0;34m,\u001b[0m\u001b[0mC\u001b[0m\u001b[0;34m,\u001b[0m\u001b[0mstates\u001b[0m\u001b[0;34m)\u001b[0m\u001b[0;34m\u001b[0m\u001b[0;34m\u001b[0m\u001b[0m\n\u001b[0m",
      "\u001b[0;31mNameError\u001b[0m: name 'C' is not defined"
     ]
    }
   ],
   "source": []
  },
  {
   "cell_type": "code",
   "execution_count": 42,
   "id": "small-tract",
   "metadata": {},
   "outputs": [
    {
     "data": {
      "image/png": "[encoded data removed]",
      "text/plain": [
       "<Figure size 432x288 with 1 Axes>"
      ]
     },
     "metadata": {
      "needs_background": "light"
     },
     "output_type": "display_data"
    }
   ],
   "source": [
    "\n",
    "fomega = omega/(2*np.pi)\n",
    "ax.set_xlim([-10*fomega,10*fomega])\n",
    "\n",
    "ax = plt.subplot(111)\n",
    "A = 0.5*1e4\n",
    "ax.plot(freqs_state,spectra_state)\n",
    "ax.set_xlim([-10*fomega,10*fomega])\n",
    "#ax.axvline(params[-2]/(2*np.pi),color=\"black\")\n",
    "ax.set_ylabel(\"|x(f)|^2\",size=20)\n",
    "ax.axvline(fomega,color=\"black\")\n",
    "ax.axvline(-fomega, color=\"black\")\n",
    "\n",
    "#ax.yaxis.set_label_position(\"right\")\n",
    "ax.yaxis.tick_right()\n",
    "ax.set_xlabel(\"f\",size=20)\n",
    "#ax.set_xscale(\"log\")\n",
    "ax.set_yscale(\"log\")"
   ]
  },
  {
   "cell_type": "code",
   "execution_count": 30,
   "id": "dress-eclipse",
   "metadata": {},
   "outputs": [],
   "source": [
    "coss = np.cos(omega*times)\n",
    "ffcoss = np.fft.fft(coss)"
   ]
  },
  {
   "cell_type": "code",
   "execution_count": 32,
   "id": "intellectual-flooring",
   "metadata": {},
   "outputs": [
    {
     "data": {
      "text/plain": [
       "[<matplotlib.lines.Line2D at 0x7f38bb9a6470>]"
      ]
     },
     "execution_count": 32,
     "metadata": {},
     "output_type": "execute_result"
    },
    {
     "data": {
      "image/png": "[encoded data removed]",
      "text/plain": [
       "<Figure size 432x288 with 1 Axes>"
      ]
     },
     "metadata": {
      "needs_background": "light"
     },
     "output_type": "display_data"
    }
   ],
   "source": [
    "plt.plot(np.abs(ffcoss)**2)"
   ]
  },
  {
   "cell_type": "code",
   "execution_count": null,
   "id": "sexual-chicago",
   "metadata": {},
   "outputs": [],
   "source": []
  },
  {
   "cell_type": "code",
   "execution_count": null,
   "id": "connected-round",
   "metadata": {},
   "outputs": [],
   "source": []
  },
  {
   "cell_type": "code",
   "execution_count": null,
   "id": "sunrise-printing",
   "metadata": {},
   "outputs": [],
   "source": []
  },
  {
   "cell_type": "code",
   "execution_count": null,
   "id": "coordinated-amber",
   "metadata": {},
   "outputs": [],
   "source": []
  },
  {
   "cell_type": "code",
   "execution_count": 46,
   "id": "adjustable-murray",
   "metadata": {},
   "outputs": [
    {
     "ename": "FileNotFoundError",
     "evalue": "[Errno 2] No such file or directory: '../quantera/trajectories/[0.74, 6283.185307179586, 3472471.485641353, 42000.0, 20]/1itraj/rossler_real_traj_method/100periods/1000ppp/2rppp/times.npy'",
     "output_type": "error",
     "traceback": [
      "\u001b[0;31m---------------------------------------------------------------------------\u001b[0m",
      "\u001b[0;31mFileNotFoundError\u001b[0m                         Traceback (most recent call last)",
      "\u001b[0;32m<ipython-input-46-654394c4ba3a>\u001b[0m in \u001b[0;36m<module>\u001b[0;34m\u001b[0m\n\u001b[1;32m      5\u001b[0m \u001b[0mrppps\u001b[0m \u001b[0;34m=\u001b[0m \u001b[0;34m[\u001b[0m\u001b[0;36m1\u001b[0m\u001b[0;34m]\u001b[0m \u001b[0;34m+\u001b[0m \u001b[0mlist\u001b[0m\u001b[0;34m(\u001b[0m\u001b[0mwindows\u001b[0m\u001b[0;34m)\u001b[0m\u001b[0;34m\u001b[0m\u001b[0;34m\u001b[0m\u001b[0m\n\u001b[1;32m      6\u001b[0m \u001b[0;32mfor\u001b[0m \u001b[0mrppp\u001b[0m \u001b[0;32min\u001b[0m \u001b[0mrppps\u001b[0m\u001b[0;34m:\u001b[0m\u001b[0;34m\u001b[0m\u001b[0;34m\u001b[0m\u001b[0m\n\u001b[0;32m----> 7\u001b[0;31m     \u001b[0mrossler_dt\u001b[0m\u001b[0;34m[\u001b[0m\u001b[0mrppp\u001b[0m\u001b[0;34m]\u001b[0m\u001b[0;34m,\u001b[0m \u001b[0mcovs\u001b[0m\u001b[0;34m,\u001b[0m \u001b[0msignals\u001b[0m\u001b[0;34m,\u001b[0m \u001b[0mparams\u001b[0m\u001b[0;34m,\u001b[0m \u001b[0mtimes\u001b[0m \u001b[0;34m=\u001b[0m \u001b[0mload_data\u001b[0m\u001b[0;34m(\u001b[0m\u001b[0mperiods\u001b[0m\u001b[0;34m=\u001b[0m\u001b[0mperiods\u001b[0m\u001b[0;34m,\u001b[0m \u001b[0mppp\u001b[0m\u001b[0;34m=\u001b[0m\u001b[0mppp\u001b[0m\u001b[0;34m,\u001b[0m \u001b[0mmethod\u001b[0m\u001b[0;34m=\u001b[0m\u001b[0;34m\"rossler\"\u001b[0m\u001b[0;34m,\u001b[0m \u001b[0mrppp\u001b[0m \u001b[0;34m=\u001b[0m \u001b[0mrppp\u001b[0m\u001b[0;34m,\u001b[0m \u001b[0mexp_path\u001b[0m\u001b[0;34m=\u001b[0m\u001b[0mexp_path\u001b[0m\u001b[0;34m)\u001b[0m\u001b[0;34m\u001b[0m\u001b[0;34m\u001b[0m\u001b[0m\n\u001b[0m\u001b[1;32m      8\u001b[0m \u001b[0;34m\u001b[0m\u001b[0m\n\u001b[1;32m      9\u001b[0m \u001b[0merrs_rossler_strobo\u001b[0m \u001b[0;34m=\u001b[0m \u001b[0;34m{\u001b[0m\u001b[0;34m}\u001b[0m\u001b[0;34m\u001b[0m\u001b[0;34m\u001b[0m\u001b[0m\n",
      "\u001b[0;32m~/Desktop/continuous/misc.py\u001b[0m in \u001b[0;36mload_data\u001b[0;34m(exp_path, itraj, ppp, periods, rppp, method, display)\u001b[0m\n\u001b[1;32m     87\u001b[0m     \u001b[0mpath\u001b[0m \u001b[0;34m=\u001b[0m \u001b[0mget_path_config\u001b[0m\u001b[0;34m(\u001b[0m\u001b[0mperiods\u001b[0m \u001b[0;34m=\u001b[0m \u001b[0mperiods\u001b[0m\u001b[0;34m,\u001b[0m \u001b[0mppp\u001b[0m\u001b[0;34m=\u001b[0m \u001b[0mppp\u001b[0m\u001b[0;34m,\u001b[0m \u001b[0mrppp\u001b[0m\u001b[0;34m=\u001b[0m\u001b[0mrppp\u001b[0m\u001b[0;34m,\u001b[0m \u001b[0mmethod\u001b[0m\u001b[0;34m=\u001b[0m\u001b[0mmethod\u001b[0m\u001b[0;34m,\u001b[0m \u001b[0mitraj\u001b[0m\u001b[0;34m=\u001b[0m\u001b[0mitraj\u001b[0m\u001b[0;34m,\u001b[0m \u001b[0mexp_path\u001b[0m\u001b[0;34m=\u001b[0m\u001b[0mexp_path\u001b[0m\u001b[0;34m)\u001b[0m\u001b[0;34m\u001b[0m\u001b[0;34m\u001b[0m\u001b[0m\n\u001b[1;32m     88\u001b[0m \u001b[0;34m\u001b[0m\u001b[0m\n\u001b[0;32m---> 89\u001b[0;31m     \u001b[0mtimes\u001b[0m \u001b[0;34m=\u001b[0m \u001b[0mnp\u001b[0m\u001b[0;34m.\u001b[0m\u001b[0mload\u001b[0m\u001b[0;34m(\u001b[0m\u001b[0mpath\u001b[0m\u001b[0;34m+\u001b[0m\u001b[0;34m\"times.npy\"\u001b[0m\u001b[0;34m,\u001b[0m \u001b[0mallow_pickle\u001b[0m\u001b[0;34m=\u001b[0m\u001b[0;32mTrue\u001b[0m\u001b[0;34m)\u001b[0m\u001b[0;34m.\u001b[0m\u001b[0mastype\u001b[0m\u001b[0;34m(\u001b[0m\u001b[0mnp\u001b[0m\u001b[0;34m.\u001b[0m\u001b[0mfloat32\u001b[0m\u001b[0;34m)\u001b[0m \u001b[0;31m### this is \\textbf{q}(t)\u001b[0m\u001b[0;34m\u001b[0m\u001b[0;34m\u001b[0m\u001b[0m\n\u001b[0m\u001b[1;32m     90\u001b[0m     \u001b[0mstates\u001b[0m \u001b[0;34m=\u001b[0m \u001b[0mnp\u001b[0m\u001b[0;34m.\u001b[0m\u001b[0mload\u001b[0m\u001b[0;34m(\u001b[0m\u001b[0mpath\u001b[0m\u001b[0;34m+\u001b[0m\u001b[0;34m\"states.npy\"\u001b[0m\u001b[0;34m,\u001b[0m \u001b[0mallow_pickle\u001b[0m\u001b[0;34m=\u001b[0m\u001b[0;32mTrue\u001b[0m\u001b[0;34m)\u001b[0m\u001b[0;34m.\u001b[0m\u001b[0mastype\u001b[0m\u001b[0;34m(\u001b[0m\u001b[0mnp\u001b[0m\u001b[0;34m.\u001b[0m\u001b[0mfloat32\u001b[0m\u001b[0;34m)\u001b[0m \u001b[0;31m### this is \\textbf{q}(t)\u001b[0m\u001b[0;34m\u001b[0m\u001b[0;34m\u001b[0m\u001b[0m\n\u001b[1;32m     91\u001b[0m     \u001b[0mcovs\u001b[0m \u001b[0;34m=\u001b[0m \u001b[0mnp\u001b[0m\u001b[0;34m.\u001b[0m\u001b[0mload\u001b[0m\u001b[0;34m(\u001b[0m\u001b[0mpath\u001b[0m\u001b[0;34m+\u001b[0m\u001b[0;34m\"covs.npy\"\u001b[0m\u001b[0;34m,\u001b[0m \u001b[0mallow_pickle\u001b[0m\u001b[0;34m=\u001b[0m\u001b[0;32mTrue\u001b[0m\u001b[0;34m)\u001b[0m\u001b[0;34m.\u001b[0m\u001b[0mastype\u001b[0m\u001b[0;34m(\u001b[0m\u001b[0mnp\u001b[0m\u001b[0;34m.\u001b[0m\u001b[0mfloat32\u001b[0m\u001b[0;34m)\u001b[0m \u001b[0;31m## this is the \\Sigma(t)\u001b[0m\u001b[0;34m\u001b[0m\u001b[0;34m\u001b[0m\u001b[0m\n",
      "\u001b[0;32m~/.local/lib/python3.6/site-packages/numpy/lib/npyio.py\u001b[0m in \u001b[0;36mload\u001b[0;34m(file, mmap_mode, allow_pickle, fix_imports, encoding)\u001b[0m\n\u001b[1;32m    414\u001b[0m             \u001b[0mown_fid\u001b[0m \u001b[0;34m=\u001b[0m \u001b[0;32mFalse\u001b[0m\u001b[0;34m\u001b[0m\u001b[0;34m\u001b[0m\u001b[0m\n\u001b[1;32m    415\u001b[0m         \u001b[0;32melse\u001b[0m\u001b[0;34m:\u001b[0m\u001b[0;34m\u001b[0m\u001b[0;34m\u001b[0m\u001b[0m\n\u001b[0;32m--> 416\u001b[0;31m             \u001b[0mfid\u001b[0m \u001b[0;34m=\u001b[0m \u001b[0mstack\u001b[0m\u001b[0;34m.\u001b[0m\u001b[0menter_context\u001b[0m\u001b[0;34m(\u001b[0m\u001b[0mopen\u001b[0m\u001b[0;34m(\u001b[0m\u001b[0mos_fspath\u001b[0m\u001b[0;34m(\u001b[0m\u001b[0mfile\u001b[0m\u001b[0;34m)\u001b[0m\u001b[0;34m,\u001b[0m \u001b[0;34m\"rb\"\u001b[0m\u001b[0;34m)\u001b[0m\u001b[0;34m)\u001b[0m\u001b[0;34m\u001b[0m\u001b[0;34m\u001b[0m\u001b[0m\n\u001b[0m\u001b[1;32m    417\u001b[0m             \u001b[0mown_fid\u001b[0m \u001b[0;34m=\u001b[0m \u001b[0;32mTrue\u001b[0m\u001b[0;34m\u001b[0m\u001b[0;34m\u001b[0m\u001b[0m\n\u001b[1;32m    418\u001b[0m \u001b[0;34m\u001b[0m\u001b[0m\n",
      "\u001b[0;31mFileNotFoundError\u001b[0m: [Errno 2] No such file or directory: '../quantera/trajectories/[0.74, 6283.185307179586, 3472471.485641353, 42000.0, 20]/1itraj/rossler_real_traj_method/100periods/1000ppp/2rppp/times.npy'"
     ]
    }
   ],
   "source": [
    "### LOAD \"STROBOSCOPIC REAL\" trajectories (integrated with longer dt's, same noise)\n",
    "rossler_dt = {}\n",
    "windows = np.concatenate([(10**k)*np.arange(2,5) for k in range(1)])\n",
    "\n",
    "rppps = [1] + list(windows)\n",
    "for rppp in rppps:\n",
    "    rossler_dt[rppp], covs, signals, params, times = load_data(periods=periods, ppp=ppp, method=\"rossler\", rppp = rppp, exp_path=exp_path)\n",
    "\n",
    "errs_rossler_strobo = {}\n",
    "for rppp in rossler_dt.keys():\n",
    "    errs_rossler_strobo[rppp] = np.sqrt(np.mean(np.square(states[::rppp] - rossler_dt[rppp])))\n"
   ]
  },
  {
   "cell_type": "code",
   "execution_count": 45,
   "id": "dimensional-publication",
   "metadata": {},
   "outputs": [
    {
     "data": {
      "text/plain": [
       "array([1])"
      ]
     },
     "execution_count": 45,
     "metadata": {},
     "output_type": "execute_result"
    }
   ],
   "source": []
  },
  {
   "cell_type": "code",
   "execution_count": 2,
   "id": "imposed-header",
   "metadata": {},
   "outputs": [],
   "source": [
    "\n",
    "[eta, gamma, kappa, omega, n] = params\n",
    "[C, A, D , Lambda] = build_matrix_from_params(params)\n",
    "\n",
    "params = give_def_params()\n",
    "\n",
    "params[-2] = params[-2]/10\n",
    "omega1 = params[-2]\n",
    "params, exp_path = check_params(params)\n",
    "states1, covs, signals1, params, times = load_data(ppp=ppp, periods=periods, method=method, itraj=itraj, exp_path=exp_path , rppp = 1)\n",
    "params[-2] = params[-2]/100\n",
    "omega2 = params[-2]\n",
    "states2, covs, signals2, params, times = load_data(ppp=ppp, periods=periods, method=method, itraj=itraj, exp_path=exp_path , rppp = 1)\n"
   ]
  },
  {
   "cell_type": "code",
   "execution_count": 4,
   "id": "minimal-success",
   "metadata": {},
   "outputs": [],
   "source": [
    "Period = 2*np.pi/params[-2]"
   ]
  },
  {
   "cell_type": "code",
   "execution_count": 10,
   "id": "structural-latter",
   "metadata": {},
   "outputs": [],
   "source": [
    "dtt = 1/np.sqrt(C)[0,0]"
   ]
  },
  {
   "cell_type": "code",
   "execution_count": 16,
   "id": "above-memory",
   "metadata": {},
   "outputs": [
    {
     "data": {
      "text/plain": [
       "0.04018911059780682"
      ]
     },
     "execution_count": 16,
     "metadata": {},
     "output_type": "execute_result"
    }
   ],
   "source": [
    "(2*np.pi/dtt)*1e-3"
   ]
  },
  {
   "cell_type": "code",
   "execution_count": null,
   "id": "loose-claim",
   "metadata": {},
   "outputs": [],
   "source": []
  },
  {
   "cell_type": "code",
   "execution_count": null,
   "id": "personal-radius",
   "metadata": {},
   "outputs": [],
   "source": []
  },
  {
   "cell_type": "code",
   "execution_count": null,
   "id": "functional-israel",
   "metadata": {},
   "outputs": [],
   "source": []
  },
  {
   "cell_type": "code",
   "execution_count": 12,
   "id": "rising-fossil",
   "metadata": {},
   "outputs": [],
   "source": [
    "negs = 0\n",
    "Period = 2*np.pi/params[-2]\n",
    "\n",
    "fourier_state = np.fft.fft(states[:,0])\n",
    "freqs_state = np.fft.fftfreq(n = len(fourier_state), d= (2*np.pi/omega)/ppp)\n",
    "\n",
    "\n",
    "\n",
    "fourier_state1 = np.fft.fft(states1[:,0])\n",
    "freqs_state1 = np.fft.fftfreq(n = len(fourier_state), d= (2*np.pi/omega1)/ppp)\n",
    "\n",
    "filter_cond = freqs_state>=negs\n",
    "freqs_state = freqs_state[freqs_state>=negs]\n",
    "freqs_state1 = freqs_state1[freqs_state1>=negs]\n",
    "\n",
    "spectra_state = np.abs(fourier_state[filter_cond])**2\n",
    "spectra_state1 = np.abs(fourier_state1[filter_cond])**2\n",
    "\n",
    "ax = plt.subplot(111)\n",
    "ax.plot(freqs_state,spectra_state)\n",
    "ax.plot(freqs_state1,spectra_state1)\n",
    "\n",
    "ax.set_ylabel(\"|x(f)|^2\",size=20)\n",
    "#ax.yaxis.set_label_position(\"right\")\n",
    "ax.yaxis.tick_right()\n",
    "ax.set_xlabel(\"f\",size=20)\n",
    "ax.set_xscale(\"log\")\n",
    "ax.set_yscale(\"log\")\n"
   ]
  },
  {
   "cell_type": "code",
   "execution_count": 14,
   "id": "distinct-hundred",
   "metadata": {},
   "outputs": [
    {
     "data": {
      "image/png": "[encoded data removed]",
      "text/plain": [
       "<Figure size 432x288 with 1 Axes>"
      ]
     },
     "metadata": {
      "needs_background": "light"
     },
     "output_type": "display_data"
    }
   ],
   "source": []
  },
  {
   "cell_type": "code",
   "execution_count": 19,
   "id": "sealed-success",
   "metadata": {},
   "outputs": [
    {
     "data": {
      "text/plain": [
       "8.771053e-05"
      ]
     },
     "execution_count": 19,
     "metadata": {},
     "output_type": "execute_result"
    }
   ],
   "source": []
  },
  {
   "cell_type": "code",
   "execution_count": 18,
   "id": "complete-young",
   "metadata": {},
   "outputs": [
    {
     "data": {
      "image/png": "[encoded data removed]",
      "text/plain": [
       "<Figure size 432x288 with 1 Axes>"
      ]
     },
     "metadata": {
      "needs_background": "light"
     },
     "output_type": "display_data"
    }
   ],
   "source": [
    "negs = 0\n",
    "Period = 2*np.pi/params[-2]\n",
    "\n",
    "fourier_state = np.fft.fft(signals[:,0])\n",
    "freqs_state = np.fft.fftfreq(n = len(fourier_state), d= (2*np.pi/omega)/ppp)\n",
    "\n",
    "\n",
    "fourier_state1 = np.fft.fft(signals1[:,0])\n",
    "freqs_state1 = np.fft.fftfreq(n = len(fourier_state), d= (2*np.pi/omega1)/ppp)\n",
    "\n",
    "filter_cond = freqs_state>=negs\n",
    "freqs_state = freqs_state[freqs_state>=negs]\n",
    "freqs_state1 = freqs_state1[freqs_state1>=negs]\n",
    "\n",
    "spectra_state = np.abs(fourier_state[filter_cond])**2\n",
    "spectra_state1 = np.abs(fourier_state1[filter_cond])**2\n",
    "\n",
    "ax = plt.subplot(111)\n",
    "ax.plot(freqs_state,spectra_state)\n",
    "ax.plot(freqs_state1,spectra_state1)\n",
    "\n",
    "ax.set_ylabel(\"|x(f)|^2\",size=20)\n",
    "#ax.yaxis.set_label_position(\"right\")\n",
    "ax.yaxis.tick_right()\n",
    "ax.set_xlabel(\"f\",size=20)\n",
    "ax.set_xscale(\"log\")\n",
    "ax.set_yscale(\"log\")\n"
   ]
  },
  {
   "cell_type": "code",
   "execution_count": null,
   "id": "vocational-eugene",
   "metadata": {},
   "outputs": [],
   "source": []
  },
  {
   "cell_type": "code",
   "execution_count": 20,
   "id": "south-tackle",
   "metadata": {},
   "outputs": [
    {
     "data": {
      "text/plain": [
       "8.771053e-05"
      ]
     },
     "execution_count": 20,
     "metadata": {},
     "output_type": "execute_result"
    }
   ],
   "source": [
    "times[-1]"
   ]
  },
  {
   "cell_type": "code",
   "execution_count": 22,
   "id": "protective-hammer",
   "metadata": {},
   "outputs": [],
   "source": [
    "tf = 400*1e-6"
   ]
  },
  {
   "cell_type": "code",
   "execution_count": 23,
   "id": "useful-milan",
   "metadata": {},
   "outputs": [],
   "source": [
    "params = give_def_params()\n",
    "omega = params[-2]"
   ]
  },
  {
   "cell_type": "code",
   "execution_count": 24,
   "id": "productive-document",
   "metadata": {},
   "outputs": [],
   "source": [
    "period_length = 2*np.pi/omega\n",
    "periods_needed = tf/period_length"
   ]
  },
  {
   "cell_type": "code",
   "execution_count": 25,
   "id": "fallen-imagination",
   "metadata": {},
   "outputs": [
    {
     "data": {
      "text/plain": [
       "455.99999999999994"
      ]
     },
     "execution_count": 25,
     "metadata": {},
     "output_type": "execute_result"
    }
   ],
   "source": [
    "periods_needed"
   ]
  },
  {
   "cell_type": "markdown",
   "id": "metallic-habitat",
   "metadata": {},
   "source": [
    "what happens then for 1000 periods ? "
   ]
  },
  {
   "cell_type": "code",
   "execution_count": 26,
   "id": "significant-national",
   "metadata": {},
   "outputs": [],
   "source": [
    "params = give_def_params()\n",
    "params, exp_path = check_params(params)\n",
    "[eta, gamma, kappa, omega, n] = params\n",
    "\n",
    "\n",
    "periods = 1000\n",
    "ppp = 1000\n",
    "method = \"rossler\"\n",
    "rppp = 1\n",
    "itraj = 1\n",
    "states, covs, signals, params, times = load_data(ppp=ppp, periods=periods, method=method, itraj=itraj, exp_path=exp_path , rppp = 1)\n",
    "\n",
    "[eta, gamma, kappa, omega, n] = params\n",
    "[C, A, D , Lambda] = build_matrix_from_params(params)\n"
   ]
  },
  {
   "cell_type": "code",
   "execution_count": 27,
   "id": "collective-productivity",
   "metadata": {},
   "outputs": [
    {
     "data": {
      "image/png": "[encoded data removed]",
      "text/plain": [
       "<Figure size 432x288 with 1 Axes>"
      ]
     },
     "metadata": {
      "needs_background": "light"
     },
     "output_type": "display_data"
    }
   ],
   "source": [
    "negs = 0\n",
    "Period = 2*np.pi/params[-2]\n",
    "\n",
    "fourier_state = np.fft.fft(signals[:,0])\n",
    "freqs_state = np.fft.fftfreq(n = len(fourier_state), d= (2*np.pi/omega)/ppp)\n",
    "\n",
    "\n",
    "filter_cond = freqs_state>=negs\n",
    "freqs_state = freqs_state[freqs_state>=negs]\n",
    "\n",
    "spectra_state = np.abs(fourier_state[filter_cond])**2\n",
    "\n",
    "ax = plt.subplot(111)\n",
    "ax.plot(freqs_state,spectra_state)\n",
    "\n",
    "ax.set_ylabel(\"|x(f)|^2\",size=20)\n",
    "#ax.yaxis.set_label_position(\"right\")\n",
    "ax.yaxis.tick_right()\n",
    "ax.set_xlabel(\"f\",size=20)\n",
    "ax.set_xscale(\"log\")\n",
    "ax.set_yscale(\"log\")\n"
   ]
  },
  {
   "cell_type": "code",
   "execution_count": 28,
   "id": "infrared-porcelain",
   "metadata": {},
   "outputs": [
    {
     "data": {
      "image/png": "[encoded data removed]",
      "text/plain": [
       "<Figure size 432x288 with 1 Axes>"
      ]
     },
     "metadata": {
      "needs_background": "light"
     },
     "output_type": "display_data"
    }
   ],
   "source": [
    "negs = 0\n",
    "Period = 2*np.pi/params[-2]\n",
    "\n",
    "fourier_state = np.fft.fft(states[:,0])\n",
    "freqs_state = np.fft.fftfreq(n = len(fourier_state), d= (2*np.pi/omega)/ppp)\n",
    "\n",
    "\n",
    "filter_cond = freqs_state>=negs\n",
    "freqs_state = freqs_state[freqs_state>=negs]\n",
    "\n",
    "spectra_state = np.abs(fourier_state[filter_cond])**2\n",
    "\n",
    "ax = plt.subplot(111)\n",
    "ax.plot(freqs_state,spectra_state)\n",
    "\n",
    "ax.set_ylabel(\"|x(f)|^2\",size=20)\n",
    "#ax.yaxis.set_label_position(\"right\")\n",
    "ax.yaxis.tick_right()\n",
    "ax.set_xlabel(\"f\",size=20)\n",
    "ax.set_xscale(\"log\")\n",
    "ax.set_yscale(\"log\")\n"
   ]
  },
  {
   "cell_type": "markdown",
   "id": "continent-zoning",
   "metadata": {},
   "source": [
    "todo indica que la medida es una mierda :)"
   ]
  },
  {
   "cell_type": "code",
   "execution_count": null,
   "id": "later-geology",
   "metadata": {},
   "outputs": [],
   "source": []
  },
  {
   "cell_type": "code",
   "execution_count": null,
   "id": "monthly-armstrong",
   "metadata": {},
   "outputs": [],
   "source": []
  },
  {
   "cell_type": "code",
   "execution_count": null,
   "id": "accurate-functionality",
   "metadata": {},
   "outputs": [],
   "source": []
  },
  {
   "cell_type": "code",
   "execution_count": null,
   "id": "alpine-final",
   "metadata": {},
   "outputs": [],
   "source": []
  },
  {
   "cell_type": "code",
   "execution_count": 13,
   "id": "instructional-university",
   "metadata": {},
   "outputs": [
    {
     "data": {
      "image/png": "[encoded data removed]",
      "text/plain": [
       "<Figure size 432x288 with 2 Axes>"
      ]
     },
     "metadata": {
      "needs_background": "light"
     },
     "output_type": "display_data"
    }
   ],
   "source": [
    "ax = plt.subplot(211)\n",
    "ax.plot(freqs_state,spectra_state)\n",
    "ax.set_ylabel(\"|x(f)|^2\",size=20)\n",
    "#ax.yaxis.set_label_position(\"right\")\n",
    "ax.yaxis.tick_right()\n",
    "ax.set_xlabel(\"f\",size=20)\n",
    "ax.set_xscale(\"log\")\n",
    "ax.set_yscale(\"log\")\n",
    "\n",
    "ax = plt.subplot(211)\n",
    "ax.plot(freqs_state,spectra_state)\n",
    "ax.set_ylabel(\"|x(f)|^2\",size=20)\n",
    "#ax.yaxis.set_label_position(\"right\")\n",
    "ax.yaxis.tick_right()\n",
    "ax.set_xlabel(\"f\",size=20)\n",
    "ax.set_xscale(\"log\")\n",
    "ax.set_yscale(\"log\")"
   ]
  },
  {
   "cell_type": "code",
   "execution_count": null,
   "id": "surgical-computer",
   "metadata": {},
   "outputs": [],
   "source": [
    "\n",
    "\n",
    "plt.figure(figsize=(10,5))\n",
    "ax = plt.subplot(121)\n",
    "ax.plot(freqs_signal,spectra_signal)\n",
    "ax.set_ylabel(\"|dy(f)|^2\",size=20)\n",
    "ax.set_xlabel(\"f\",size=20)\n",
    "ax.axvline(params[-2]/(2*np.pi),color=\"black\")\n",
    "ax.set_xscale(\"log\")\n",
    "ax.set_yscale(\"log\")\n",
    "\n"
   ]
  },
  {
   "cell_type": "code",
   "execution_count": null,
   "id": "considered-cambodia",
   "metadata": {},
   "outputs": [],
   "source": []
  },
  {
   "cell_type": "code",
   "execution_count": null,
   "id": "patent-paris",
   "metadata": {},
   "outputs": [],
   "source": []
  },
  {
   "cell_type": "code",
   "execution_count": 3,
   "id": "italian-flash",
   "metadata": {},
   "outputs": [
    {
     "ename": "NameError",
     "evalue": "name 'C' is not defined",
     "output_type": "error",
     "traceback": [
      "\u001b[0;31m---------------------------------------------------------------------------\u001b[0m",
      "\u001b[0;31mNameError\u001b[0m                                 Traceback (most recent call last)",
      "\u001b[0;32m<ipython-input-3-c399b03650b3>\u001b[0m in \u001b[0;36m<module>\u001b[0;34m\u001b[0m\n\u001b[1;32m      3\u001b[0m \u001b[0mdt\u001b[0m \u001b[0;34m=\u001b[0m \u001b[0;34m(\u001b[0m\u001b[0mPeriod\u001b[0m\u001b[0;34m/\u001b[0m\u001b[0mppp\u001b[0m\u001b[0;34m)\u001b[0m\u001b[0;34m*\u001b[0m\u001b[0mrppp\u001b[0m \u001b[0;31m### this is because you might increase the dt as well! (1 for now)\u001b[0m\u001b[0;34m\u001b[0m\u001b[0;34m\u001b[0m\u001b[0m\n\u001b[1;32m      4\u001b[0m \u001b[0;34m\u001b[0m\u001b[0m\n\u001b[0;32m----> 5\u001b[0;31m \u001b[0mnp\u001b[0m\u001b[0;34m.\u001b[0m\u001b[0msquare\u001b[0m\u001b[0;34m(\u001b[0m\u001b[0msignals0\u001b[0m \u001b[0;34m-\u001b[0m \u001b[0mnp\u001b[0m\u001b[0;34m.\u001b[0m\u001b[0meinsum\u001b[0m\u001b[0;34m(\u001b[0m\u001b[0;34m'ij,bj->bi'\u001b[0m\u001b[0;34m,\u001b[0m\u001b[0mC\u001b[0m\u001b[0;34m,\u001b[0m\u001b[0mstates1\u001b[0m\u001b[0;34m[\u001b[0m\u001b[0;34m:\u001b[0m\u001b[0;34m-\u001b[0m\u001b[0;36m1\u001b[0m\u001b[0;34m]\u001b[0m\u001b[0;34m)\u001b[0m\u001b[0;34m*\u001b[0m\u001b[0mdt\u001b[0m\u001b[0;34m)\u001b[0m\u001b[0;34m\u001b[0m\u001b[0;34m\u001b[0m\u001b[0m\n\u001b[0m",
      "\u001b[0;31mNameError\u001b[0m: name 'C' is not defined"
     ]
    }
   ],
   "source": [
    "params = give_def_params()\n",
    "Period = 2*np.pi/omega ### \n",
    "dt = (Period/ppp)*rppp ### this is because you might increase the dt as well! (1 for now)\n",
    "\n",
    "np.square(signals0 - np.einsum('ij,bj->bi',C,states1[:-1])*dt)"
   ]
  },
  {
   "cell_type": "code",
   "execution_count": 175,
   "id": "overall-promise",
   "metadata": {},
   "outputs": [],
   "source": [
    "params = give_def_params()\n",
    "params, exp_path = check_params(params)\n",
    "[eta, gamma, kappa, omega, n] = params\n",
    "path_landscape= get_path_config(periods = periods, ppp= ppp, rppp=rppp, method=method, itraj=itraj, exp_path = exp_path)+\"landscape/\"\n",
    "loss = np.load(path_landscape+\"losses.npy\")"
   ]
  },
  {
   "cell_type": "code",
   "execution_count": 180,
   "id": "civilian-killing",
   "metadata": {},
   "outputs": [
    {
     "data": {
      "text/plain": [
       "[<matplotlib.lines.Line2D at 0x7f3a034edba8>]"
      ]
     },
     "execution_count": 180,
     "metadata": {},
     "output_type": "execute_result"
    },
    {
     "data": {
      "image/png": "[encoded data removed]",
      "text/plain": [
       "<Figure size 432x288 with 1 Axes>"
      ]
     },
     "metadata": {
      "needs_background": "light"
     },
     "output_type": "display_data"
    }
   ],
   "source": [
    "plt.plot(loss[:,-1])"
   ]
  },
  {
   "cell_type": "code",
   "execution_count": 151,
   "id": "nearby-salvation",
   "metadata": {},
   "outputs": [
    {
     "data": {
      "text/plain": [
       "[<matplotlib.lines.Line2D at 0x7f3a026b7f60>]"
      ]
     },
     "execution_count": 151,
     "metadata": {},
     "output_type": "execute_result"
    },
    {
     "data": {
      "image/png": "[encoded data removed]",
      "text/plain": [
       "<Figure size 432x288 with 1 Axes>"
      ]
     },
     "metadata": {
      "needs_background": "light"
     },
     "output_type": "display_data"
    }
   ],
   "source": [
    "a=0\n",
    "b=10**3\n",
    "plt.plot(times[a:b],states[:-1][:,0][a:b])"
   ]
  },
  {
   "cell_type": "code",
   "execution_count": null,
   "id": "charged-transmission",
   "metadata": {},
   "outputs": [],
   "source": [
    "params = give_def_params()\n",
    "\n",
    "Period = 2*np.pi/params[-2]\n",
    "dt = (Period/ppp)*rppp ### this is because you might increase the dt as well! (1 for now)"
   ]
  },
  {
   "cell_type": "code",
   "execution_count": null,
   "id": "aquatic-arnold",
   "metadata": {},
   "outputs": [],
   "source": []
  },
  {
   "cell_type": "code",
   "execution_count": 97,
   "id": "random-telescope",
   "metadata": {},
   "outputs": [
    {
     "data": {
      "text/plain": [
       "[<matplotlib.lines.Line2D at 0x7f3a03525f60>]"
      ]
     },
     "execution_count": 97,
     "metadata": {},
     "output_type": "execute_result"
    },
    {
     "data": {
      "image/png": "[encoded data removed]",
      "text/plain": [
       "<Figure size 432x288 with 1 Axes>"
      ]
     },
     "metadata": {
      "needs_background": "light"
     },
     "output_type": "display_data"
    }
   ],
   "source": [
    "plt.plot(states1[:,0])\n",
    "plt.plot(states[:,0])"
   ]
  },
  {
   "cell_type": "code",
   "execution_count": 156,
   "id": "interpreted-blink",
   "metadata": {},
   "outputs": [
    {
     "ename": "ValueError",
     "evalue": "operands could not be broadcast together with shapes (1000,2) (100000,2) ",
     "output_type": "error",
     "traceback": [
      "\u001b[0;31m---------------------------------------------------------------------------\u001b[0m",
      "\u001b[0;31mValueError\u001b[0m                                Traceback (most recent call last)",
      "\u001b[0;32m<ipython-input-156-1e7571f66c00>\u001b[0m in \u001b[0;36m<module>\u001b[0;34m\u001b[0m\n\u001b[0;32m----> 1\u001b[0;31m \u001b[0mnp\u001b[0m\u001b[0;34m.\u001b[0m\u001b[0msquare\u001b[0m\u001b[0;34m(\u001b[0m\u001b[0msignals0\u001b[0m \u001b[0;34m-\u001b[0m \u001b[0mnp\u001b[0m\u001b[0;34m.\u001b[0m\u001b[0meinsum\u001b[0m\u001b[0;34m(\u001b[0m\u001b[0;34m'ij,bj->bi'\u001b[0m\u001b[0;34m,\u001b[0m\u001b[0mC\u001b[0m\u001b[0;34m,\u001b[0m\u001b[0mstates1\u001b[0m\u001b[0;34m[\u001b[0m\u001b[0;34m:\u001b[0m\u001b[0;34m-\u001b[0m\u001b[0;36m1\u001b[0m\u001b[0;34m]\u001b[0m\u001b[0;34m)\u001b[0m\u001b[0;34m*\u001b[0m\u001b[0mdt\u001b[0m\u001b[0;34m)\u001b[0m\u001b[0;34m\u001b[0m\u001b[0;34m\u001b[0m\u001b[0m\n\u001b[0m",
      "\u001b[0;31mValueError\u001b[0m: operands could not be broadcast together with shapes (1000,2) (100000,2) "
     ]
    }
   ],
   "source": []
  },
  {
   "cell_type": "code",
   "execution_count": 157,
   "id": "editorial-mortality",
   "metadata": {},
   "outputs": [
    {
     "data": {
      "text/plain": [
       "1.0138098231614643"
      ]
     },
     "execution_count": 157,
     "metadata": {},
     "output_type": "execute_result"
    }
   ],
   "source": [
    "np.sum(np.square(signals0 - np.einsum('ij,bj->bi',C,states)[:-1]*dt))/(2*times[-1])"
   ]
  },
  {
   "cell_type": "code",
   "execution_count": 126,
   "id": "phantom-orbit",
   "metadata": {},
   "outputs": [
    {
     "data": {
      "text/plain": [
       "8.771929824561403e-11"
      ]
     },
     "execution_count": 126,
     "metadata": {},
     "output_type": "execute_result"
    }
   ],
   "source": [
    "dt"
   ]
  },
  {
   "cell_type": "code",
   "execution_count": 121,
   "id": "selective-origin",
   "metadata": {},
   "outputs": [
    {
     "data": {
      "text/plain": [
       "(array([2.8000e+01, 3.9700e+02, 3.2910e+03, 1.3812e+04, 2.9113e+04,\n",
       "        3.1061e+04, 1.7026e+04, 4.5820e+03, 6.3600e+02, 5.4000e+01]),\n",
       " array([-4.0527582e-05, -3.2571039e-05, -2.4614495e-05, -1.6657954e-05,\n",
       "        -8.7014105e-06, -7.4486707e-07,  7.2116759e-06,  1.5168219e-05,\n",
       "         2.3124761e-05,  3.1081305e-05,  3.9037848e-05], dtype=float32),\n",
       " <BarContainer object of 10 artists>)"
      ]
     },
     "execution_count": 121,
     "metadata": {},
     "output_type": "execute_result"
    },
    {
     "data": {
      "image/png": "[encoded data removed]",
      "text/plain": [
       "<Figure size 432x288 with 1 Axes>"
      ]
     },
     "metadata": {
      "needs_background": "light"
     },
     "output_type": "display_data"
    }
   ],
   "source": [
    "plt.hist(signals0[:,0])"
   ]
  },
  {
   "cell_type": "code",
   "execution_count": 122,
   "id": "forward-metabolism",
   "metadata": {},
   "outputs": [
    {
     "data": {
      "text/plain": [
       "(array([15996., 11135.,  8351.,  7281.,  6907.,  6939.,  7343.,  8414.,\n",
       "        11150., 16484.]),\n",
       " array([-4.25420824e-09, -3.40592188e-09, -2.55763553e-09, -1.70934917e-09,\n",
       "        -8.61062810e-10, -1.27764523e-11,  8.35509905e-10,  1.68379626e-09,\n",
       "         2.53208262e-09,  3.38036898e-09,  4.22865534e-09]),\n",
       " <BarContainer object of 10 artists>)"
      ]
     },
     "execution_count": 122,
     "metadata": {},
     "output_type": "execute_result"
    },
    {
     "data": {
      "image/png": "[encoded data removed]",
      "text/plain": [
       "<Figure size 432x288 with 1 Axes>"
      ]
     },
     "metadata": {
      "needs_background": "light"
     },
     "output_type": "display_data"
    }
   ],
   "source": [
    "plt.hist(np.einsum('ij,bj->bi',C,states)[:-1][:,0]*dt)"
   ]
  },
  {
   "cell_type": "code",
   "execution_count": 182,
   "id": "adapted-threat",
   "metadata": {},
   "outputs": [
    {
     "name": "stdout",
     "output_type": "stream",
     "text": [
      "Traj loaded \n",
      "ppp: 1000\n",
      "periods: 10\n",
      "method: rossler\n",
      "itraj: 1\n",
      "Traj loaded \n",
      "ppp: 1000\n",
      "periods: 10\n",
      "method: rossler\n",
      "itraj: 1\n",
      "Traj loaded \n",
      "ppp: 1000\n",
      "periods: 10\n",
      "method: rossler\n",
      "itraj: 1\n",
      "Traj loaded \n",
      "ppp: 1000\n",
      "periods: 10\n",
      "method: rossler\n",
      "itraj: 1\n",
      "Traj loaded \n",
      "ppp: 1000\n",
      "periods: 10\n",
      "method: rossler\n",
      "itraj: 1\n",
      "Traj loaded \n",
      "ppp: 1000\n",
      "periods: 10\n",
      "method: rossler\n",
      "itraj: 1\n",
      "Traj loaded \n",
      "ppp: 1000\n",
      "periods: 10\n",
      "method: rossler\n",
      "itraj: 1\n",
      "Traj loaded \n",
      "ppp: 1000\n",
      "periods: 10\n",
      "method: rossler\n",
      "itraj: 1\n",
      "Traj loaded \n",
      "ppp: 1000\n",
      "periods: 10\n",
      "method: rossler\n",
      "itraj: 1\n",
      "Traj loaded \n",
      "ppp: 1000\n",
      "periods: 10\n",
      "method: rossler\n",
      "itraj: 1\n",
      "Traj loaded \n",
      "ppp: 1000\n",
      "periods: 10\n",
      "method: rossler\n",
      "itraj: 1\n",
      "Traj loaded \n",
      "ppp: 1000\n",
      "periods: 10\n",
      "method: rossler\n",
      "itraj: 1\n",
      "Traj loaded \n",
      "ppp: 1000\n",
      "periods: 10\n",
      "method: rossler\n",
      "itraj: 1\n",
      "Traj loaded \n",
      "ppp: 1000\n",
      "periods: 10\n",
      "method: rossler\n",
      "itraj: 1\n",
      "Traj loaded \n",
      "ppp: 1000\n",
      "periods: 10\n",
      "method: rossler\n",
      "itraj: 1\n",
      "Traj loaded \n",
      "ppp: 1000\n",
      "periods: 10\n",
      "method: rossler\n",
      "itraj: 1\n",
      "Traj loaded \n",
      "ppp: 1000\n",
      "periods: 10\n",
      "method: rossler\n",
      "itraj: 1\n",
      "Traj loaded \n",
      "ppp: 1000\n",
      "periods: 10\n",
      "method: rossler\n",
      "itraj: 1\n",
      "Traj loaded \n",
      "ppp: 1000\n",
      "periods: 10\n",
      "method: rossler\n",
      "itraj: 1\n"
     ]
    }
   ],
   "source": [
    "params = give_def_params()\n",
    "params, exp_path = check_params(params)\n",
    "\n",
    "periods = 10\n",
    "ppp = 1000\n",
    "rossler_dt = {}\n",
    "windows = np.concatenate([(10**k)*np.arange(2,11) for k in range(2)])\n",
    "rppps = [1] + list(windows)\n",
    "for rppp in rppps:\n",
    "    rossler_dt[rppp], covs, signals, params, times = load_data(periods=periods, ppp=ppp, method=\"rossler\", rppp = rppp, exp_path=exp_path)\n",
    "    #states_euler[rppp], covs_euler, signals_euler, params_euler, times_euler = load_data(path=get_def_path()+\"rppp{}/\".format(rppp), \n",
    "     #                                                                              periods=periods, ppp=ppp, method=\"euler\")"
   ]
  },
  {
   "cell_type": "code",
   "execution_count": 194,
   "id": "centered-dispatch",
   "metadata": {},
   "outputs": [],
   "source": [
    "lls = [len(states[::k]) for k in rossler_dt.keys()]\n",
    "ll = [len(rossler_dt[k]) for k in rossler_dt.keys()]\n"
   ]
  },
  {
   "cell_type": "code",
   "execution_count": 189,
   "id": "brutal-library",
   "metadata": {},
   "outputs": [
    {
     "name": "stderr",
     "output_type": "stream",
     "text": [
      "/home/cooper-cooper/.local/lib/python3.6/site-packages/ipykernel_launcher.py:3: RuntimeWarning: overflow encountered in square\n",
      "  This is separate from the ipykernel package so we can avoid doing imports until\n",
      "/home/cooper-cooper/.local/lib/python3.6/site-packages/ipykernel_launcher.py:5: MatplotlibDeprecationWarning: Adding an axes using the same arguments as a previous axes currently reuses the earlier instance.  In a future version, a new instance will always be created and returned.  Meanwhile, this warning can be suppressed, and the future behavior ensured, by passing a unique label to each axes instance.\n",
      "  \"\"\"\n"
     ]
    },
    {
     "data": {
      "image/png": "[encoded data removed]",
      "text/plain": [
       "<Figure size 432x288 with 1 Axes>"
      ]
     },
     "metadata": {
      "needs_background": "light"
     },
     "output_type": "display_data"
    }
   ],
   "source": [
    "errs = {}\n",
    "for rppp in rossler_dt.keys():\n",
    "    errs[rppp] = np.sqrt(np.mean(np.square(states[::rppp] - rossler_dt[rppp])))\n",
    "plt.title(\"ppp = {}\\nperiods = {}\\n\".format(ppp,periods))\n",
    "ax = plt.subplot(111)\n",
    "ax.plot(errs.keys(), errs.values(), '.')\n",
    "ax.set_ylabel(r'$\\sqrt{MSE}$')\n",
    "ax.set_xlabel(r'$window \\; size$')\n",
    "ax.set_xscale(\"log\")\n",
    "ax.set_yscale(\"log\")"
   ]
  },
  {
   "cell_type": "code",
   "execution_count": 195,
   "id": "several-grill",
   "metadata": {},
   "outputs": [
    {
     "name": "stdout",
     "output_type": "stream",
     "text": [
      "Traj loaded \n",
      "ppp: 10000\n",
      "periods: 10\n",
      "method: rossler\n",
      "itraj: 1\n",
      "Traj loaded \n",
      "ppp: 10000\n",
      "periods: 10\n",
      "method: rossler\n",
      "itraj: 1\n",
      "Traj loaded \n",
      "ppp: 10000\n",
      "periods: 10\n",
      "method: rossler\n",
      "itraj: 1\n",
      "Traj loaded \n",
      "ppp: 10000\n",
      "periods: 10\n",
      "method: rossler\n",
      "itraj: 1\n",
      "Traj loaded \n",
      "ppp: 10000\n",
      "periods: 10\n",
      "method: rossler\n",
      "itraj: 1\n",
      "Traj loaded \n",
      "ppp: 10000\n",
      "periods: 10\n",
      "method: rossler\n",
      "itraj: 1\n",
      "Traj loaded \n",
      "ppp: 10000\n",
      "periods: 10\n",
      "method: rossler\n",
      "itraj: 1\n",
      "Traj loaded \n",
      "ppp: 10000\n",
      "periods: 10\n",
      "method: rossler\n",
      "itraj: 1\n",
      "Traj loaded \n",
      "ppp: 10000\n",
      "periods: 10\n",
      "method: rossler\n",
      "itraj: 1\n",
      "Traj loaded \n",
      "ppp: 10000\n",
      "periods: 10\n",
      "method: rossler\n",
      "itraj: 1\n",
      "Traj loaded \n",
      "ppp: 10000\n",
      "periods: 10\n",
      "method: rossler\n",
      "itraj: 1\n",
      "Traj loaded \n",
      "ppp: 10000\n",
      "periods: 10\n",
      "method: rossler\n",
      "itraj: 1\n",
      "Traj loaded \n",
      "ppp: 10000\n",
      "periods: 10\n",
      "method: rossler\n",
      "itraj: 1\n",
      "Traj loaded \n",
      "ppp: 10000\n",
      "periods: 10\n",
      "method: rossler\n",
      "itraj: 1\n",
      "Traj loaded \n",
      "ppp: 10000\n",
      "periods: 10\n",
      "method: rossler\n",
      "itraj: 1\n",
      "Traj loaded \n",
      "ppp: 10000\n",
      "periods: 10\n",
      "method: rossler\n",
      "itraj: 1\n",
      "Traj loaded \n",
      "ppp: 10000\n",
      "periods: 10\n",
      "method: rossler\n",
      "itraj: 1\n",
      "Traj loaded \n",
      "ppp: 10000\n",
      "periods: 10\n",
      "method: rossler\n",
      "itraj: 1\n",
      "Traj loaded \n",
      "ppp: 10000\n",
      "periods: 10\n",
      "method: rossler\n",
      "itraj: 1\n"
     ]
    }
   ],
   "source": [
    "params = give_def_params()\n",
    "params, exp_path = check_params(params)\n",
    "\n",
    "periods = 10\n",
    "ppp = 10000\n",
    "rossler_dt = {}\n",
    "windows = np.concatenate([(10**k)*np.arange(2,11) for k in range(2)])\n",
    "rppps = [1] + list(windows)\n",
    "for rppp in rppps:\n",
    "    rossler_dt[rppp], covs, signals, params, times = load_data(periods=periods, ppp=ppp, method=\"rossler\", rppp = rppp, exp_path=exp_path)\n",
    "    #states_euler[rppp], covs_euler, signals_euler, params_euler, times_euler = load_data(path=get_def_path()+\"rppp{}/\".format(rppp), \n",
    "     #                                                                              periods=periods, ppp=ppp, method=\"euler\")"
   ]
  },
  {
   "cell_type": "code",
   "execution_count": 197,
   "id": "industrial-green",
   "metadata": {},
   "outputs": [
    {
     "name": "stderr",
     "output_type": "stream",
     "text": [
      "/home/cooper-cooper/.local/lib/python3.6/site-packages/ipykernel_launcher.py:5: MatplotlibDeprecationWarning: Adding an axes using the same arguments as a previous axes currently reuses the earlier instance.  In a future version, a new instance will always be created and returned.  Meanwhile, this warning can be suppressed, and the future behavior ensured, by passing a unique label to each axes instance.\n",
      "  \"\"\"\n"
     ]
    },
    {
     "data": {
      "image/png": "[encoded data removed]",
      "text/plain": [
       "<Figure size 432x288 with 1 Axes>"
      ]
     },
     "metadata": {
      "needs_background": "light"
     },
     "output_type": "display_data"
    }
   ],
   "source": [
    "errs = {}\n",
    "for rppp in rossler_dt.keys():\n",
    "    errs[rppp] = np.sqrt(np.mean(np.square(rossler_dt[1][::rppp] - rossler_dt[rppp])))\n",
    "plt.title(\"ppp = {}\\nperiods = {}\\n\".format(ppp,periods))\n",
    "ax = plt.subplot(111)\n",
    "ax.plot(errs.keys(), errs.values(), '.')\n",
    "ax.set_ylabel(r'$\\sqrt{MSE}$')\n",
    "ax.set_xlabel(r'$window \\; size$')\n",
    "ax.set_xscale(\"log\")\n",
    "ax.set_yscale(\"log\")"
   ]
  },
  {
   "cell_type": "code",
   "execution_count": 202,
   "id": "destroyed-spider",
   "metadata": {},
   "outputs": [
    {
     "data": {
      "text/plain": [
       "[<matplotlib.lines.Line2D at 0x7f3a01f65898>]"
      ]
     },
     "execution_count": 202,
     "metadata": {},
     "output_type": "execute_result"
    },
    {
     "data": {
      "image/png": "[encoded data removed]",
      "text/plain": [
       "<Figure size 432x288 with 1 Axes>"
      ]
     },
     "metadata": {
      "needs_background": "light"
     },
     "output_type": "display_data"
    }
   ],
   "source": [
    "plt.plot(rossler_dt[1][:,0])"
   ]
  },
  {
   "cell_type": "code",
   "execution_count": null,
   "id": "preliminary-cover",
   "metadata": {},
   "outputs": [],
   "source": [
    "plt.plot(rossler_dt[1][:,0])"
   ]
  },
  {
   "cell_type": "code",
   "execution_count": 203,
   "id": "civilian-ultimate",
   "metadata": {},
   "outputs": [
    {
     "name": "stdout",
     "output_type": "stream",
     "text": [
      "Traj loaded \n",
      "ppp: 10000\n",
      "periods: 10\n",
      "method: rossler\n",
      "itraj: 1\n"
     ]
    }
   ],
   "source": [
    "    rossler_dt[rppp], covs, signals, params, times = load_data(periods=periods, ppp=ppp, method=\"rossler\", rppp = 1, exp_path=exp_path)\n"
   ]
  },
  {
   "cell_type": "code",
   "execution_count": 204,
   "id": "flush-tomato",
   "metadata": {},
   "outputs": [
    {
     "data": {
      "text/plain": [
       "[<matplotlib.lines.Line2D at 0x7f3a01f255f8>]"
      ]
     },
     "execution_count": 204,
     "metadata": {},
     "output_type": "execute_result"
    },
    {
     "data": {
      "image/png": "[encoded data removed]",
      "text/plain": [
       "<Figure size 432x288 with 1 Axes>"
      ]
     },
     "metadata": {
      "needs_background": "light"
     },
     "output_type": "display_data"
    }
   ],
   "source": [
    "plt.plot(signals[:,0])"
   ]
  },
  {
   "cell_type": "code",
   "execution_count": 206,
   "id": "legislative-winter",
   "metadata": {},
   "outputs": [],
   "source": [
    "aa = np.fft.fft(signals[:,0])"
   ]
  },
  {
   "cell_type": "code",
   "execution_count": 207,
   "id": "stopped-chaos",
   "metadata": {},
   "outputs": [
    {
     "name": "stderr",
     "output_type": "stream",
     "text": [
      "/home/cooper-cooper/.local/lib/python3.6/site-packages/numpy/core/_asarray.py:83: ComplexWarning: Casting complex values to real discards the imaginary part\n",
      "  return array(a, dtype, copy=False, order=order)\n"
     ]
    },
    {
     "data": {
      "image/png": "[encoded data removed]",
      "text/plain": [
       "<Figure size 432x288 with 1 Axes>"
      ]
     },
     "metadata": {
      "needs_background": "light"
     },
     "output_type": "display_data"
    }
   ],
   "source": [
    "aa = np.fft.fft(states[:,0])\n",
    "ax = plt.subplot(111)\n",
    "ax.plot(aa)\n",
    "ax.set_xscale(\"log\")\n",
    "ax.set_yscale(\"log\")"
   ]
  },
  {
   "cell_type": "code",
   "execution_count": 344,
   "id": "going-cooperation",
   "metadata": {},
   "outputs": [
    {
     "data": {
      "text/plain": [
       "8.771929518626239e-11"
      ]
     },
     "execution_count": 344,
     "metadata": {},
     "output_type": "execute_result"
    }
   ],
   "source": []
  },
  {
   "cell_type": "code",
   "execution_count": 340,
   "id": "primary-preview",
   "metadata": {},
   "outputs": [
    {
     "data": {
      "text/plain": [
       "array([0.00000000e+00, 1.14000004e+05, 2.28000008e+05, ...,\n",
       "       5.69965820e+09, 5.69977220e+09, 5.69988620e+09])"
      ]
     },
     "execution_count": 340,
     "metadata": {},
     "output_type": "execute_result"
    }
   ],
   "source": [
    "freqs_signal"
   ]
  },
  {
   "cell_type": "code",
   "execution_count": 338,
   "id": "productive-prophet",
   "metadata": {},
   "outputs": [],
   "source": []
  },
  {
   "cell_type": "code",
   "execution_count": 353,
   "id": "spare-recall",
   "metadata": {},
   "outputs": [
    {
     "name": "stderr",
     "output_type": "stream",
     "text": [
      "/home/cooper-cooper/.local/lib/python3.6/site-packages/ipykernel_launcher.py:12: RuntimeWarning: overflow encountered in power\n",
      "  if sys.path[0] == '':\n"
     ]
    },
    {
     "data": {
      "image/png": "[encoded data removed]",
      "text/plain": [
       "<Figure size 720x360 with 2 Axes>"
      ]
     },
     "metadata": {
      "needs_background": "light"
     },
     "output_type": "display_data"
    }
   ],
   "source": []
  },
  {
   "cell_type": "code",
   "execution_count": null,
   "id": "english-little",
   "metadata": {},
   "outputs": [],
   "source": []
  },
  {
   "cell_type": "code",
   "execution_count": null,
   "id": "dramatic-calcium",
   "metadata": {},
   "outputs": [],
   "source": []
  },
  {
   "cell_type": "code",
   "execution_count": null,
   "id": "invalid-catholic",
   "metadata": {},
   "outputs": [],
   "source": []
  },
  {
   "cell_type": "code",
   "execution_count": null,
   "id": "powered-banking",
   "metadata": {},
   "outputs": [],
   "source": []
  },
  {
   "cell_type": "code",
   "execution_count": 330,
   "id": "disciplinary-suspension",
   "metadata": {},
   "outputs": [],
   "source": [
    "fourier_states = np.fft.fft(states[:,0])\n",
    "freqs_states = np.fft.fftfreq(n = len(fourier_states), d= Period/ppp)\n"
   ]
  },
  {
   "cell_type": "code",
   "execution_count": 346,
   "id": "bizarre-herald",
   "metadata": {},
   "outputs": [
    {
     "name": "stderr",
     "output_type": "stream",
     "text": [
      "/home/cooper-cooper/.local/lib/python3.6/site-packages/numpy/core/_asarray.py:83: ComplexWarning: Casting complex values to real discards the imaginary part\n",
      "  return array(a, dtype, copy=False, order=order)\n",
      "/home/cooper-cooper/.local/lib/python3.6/site-packages/ipykernel_launcher.py:7: UserWarning: Attempted to set non-positive left xlim on a log-scaled axis.\n",
      "Invalid limit will be ignored.\n",
      "  import sys\n"
     ]
    },
    {
     "data": {
      "text/plain": [
       "(744582.6958872348, 500000000.0)"
      ]
     },
     "execution_count": 346,
     "metadata": {},
     "output_type": "execute_result"
    },
    {
     "data": {
      "image/png": "[encoded data removed]",
      "text/plain": [
       "<Figure size 432x288 with 1 Axes>"
      ]
     },
     "metadata": {
      "needs_background": "light"
     },
     "output_type": "display_data"
    }
   ],
   "source": [
    "\n",
    "ax = plt.subplot(111)\n",
    "ax.plot(freqs_states,fourier_states)\n",
    "ax.axvline(params[-2]/(2*np.pi),color=\"black\")\n",
    "ax.set_xscale(\"log\")\n",
    "ax.set_yscale(\"log\")\n",
    "ep=.5*1e9\n",
    "ax.set_xlim([-ep, ep])"
   ]
  },
  {
   "cell_type": "code",
   "execution_count": 241,
   "id": "honey-lesson",
   "metadata": {},
   "outputs": [
    {
     "data": {
      "text/plain": [
       "0.0"
      ]
     },
     "execution_count": 241,
     "metadata": {},
     "output_type": "execute_result"
    }
   ],
   "source": [
    "fff[0]"
   ]
  },
  {
   "cell_type": "code",
   "execution_count": 245,
   "id": "certified-appearance",
   "metadata": {},
   "outputs": [
    {
     "data": {
      "text/plain": [
       "5699943199.364683"
      ]
     },
     "execution_count": 245,
     "metadata": {},
     "output_type": "execute_result"
    }
   ],
   "source": []
  },
  {
   "cell_type": "code",
   "execution_count": 208,
   "id": "swedish-enough",
   "metadata": {},
   "outputs": [
    {
     "name": "stderr",
     "output_type": "stream",
     "text": [
      "/home/cooper-cooper/.local/lib/python3.6/site-packages/numpy/core/_asarray.py:83: ComplexWarning: Casting complex values to real discards the imaginary part\n",
      "  return array(a, dtype, copy=False, order=order)\n"
     ]
    },
    {
     "data": {
      "image/png": "[encoded data removed]",
      "text/plain": [
       "<Figure size 432x288 with 1 Axes>"
      ]
     },
     "metadata": {
      "needs_background": "light"
     },
     "output_type": "display_data"
    }
   ],
   "source": [
    "aa = np.fft.fft(rossler_dt[1][:,0])\n",
    "ax = plt.subplot(111)\n",
    "ax.plot(aa)\n",
    "ax.set_xscale(\"log\")\n",
    "ax.set_yscale(\"log\")"
   ]
  },
  {
   "cell_type": "code",
   "execution_count": 209,
   "id": "dependent-equivalent",
   "metadata": {},
   "outputs": [
    {
     "data": {
      "text/plain": [
       "8.771929824561403e-10"
      ]
     },
     "execution_count": 209,
     "metadata": {},
     "output_type": "execute_result"
    }
   ],
   "source": [
    "np.fft.fr"
   ]
  },
  {
   "cell_type": "code",
   "execution_count": null,
   "id": "ethical-covering",
   "metadata": {},
   "outputs": [],
   "source": []
  },
  {
   "cell_type": "code",
   "execution_count": 34,
   "id": "answering-projector",
   "metadata": {},
   "outputs": [],
   "source": []
  },
  {
   "cell_type": "code",
   "execution_count": 35,
   "id": "visible-valve",
   "metadata": {},
   "outputs": [],
   "source": [
    "xi = lambda cov,Lambda: np.dot(cov, C.T) + Lambda.T\n",
    "def evolve_simu_state(x,cov, dy, simu_A, internal_step):\n",
    "    XiCov = xi(cov, Lambda)\n",
    "    dx = np.dot(simu_A-np.dot(XiCov,C),x)*internal_step  + np.dot(XiCov,dy)\n",
    "    dcov = (np.dot(simu_A,cov) + np.dot(cov, ct(simu_A)) + D - np.dot(XiCov, XiCov.T))*internal_step\n",
    "    return [x + dx, cov + dcov]"
   ]
  },
  {
   "cell_type": "code",
   "execution_count": 36,
   "id": "downtown-mailing",
   "metadata": {},
   "outputs": [],
   "source": [
    "simu_states, simu_covs = {}, {}\n",
    "omegas = np.array([omega]) + np.linspace(-omega/10, omega/10, 11) ## even number required so we have omega !!"
   ]
  },
  {
   "cell_type": "code",
   "execution_count": 37,
   "id": "administrative-association",
   "metadata": {},
   "outputs": [],
   "source": [
    "Period = 2*np.pi/omega\n",
    "dt = (Period/ppp)*rppp ### this is because you might increase the dt as well! (1 for now)"
   ]
  },
  {
   "cell_type": "code",
   "execution_count": 41,
   "id": "sticky-beaver",
   "metadata": {},
   "outputs": [],
   "source": [
    "#cuts_final_time = np.unique(np.concatenate([(10**k)*np.arange(1,11,1) for k in range(1,5)]))\n",
    "#cuts_final_time = cuts_final_time[:(np.argmin(np.abs(cuts_final_time - len(times)))+1)] -1 #the -1 is for pyhton oindexing\n",
    "cuts_final_time = [len(times)]\n",
    "loss = np.zeros((len(omegas), len(cuts_final_time)))"
   ]
  },
  {
   "cell_type": "code",
   "execution_count": 42,
   "id": "signed-insight",
   "metadata": {
    "scrolled": true
   },
   "outputs": [
    {
     "name": "stderr",
     "output_type": "stream",
     "text": [
      "0it [00:00, ?it/s]\n",
      "  0%|          | 0/100001 [00:00<?, ?it/s]\u001b[A\n",
      "  1%|          | 1183/100001 [00:00<00:08, 11824.71it/s]\u001b[A\n",
      "  4%|▍         | 3845/100001 [00:00<00:04, 20523.47it/s]\u001b[A\n",
      "  7%|▋         | 6792/100001 [00:00<00:03, 24604.01it/s]\u001b[A\n",
      " 10%|▉         | 9808/100001 [00:00<00:03, 26794.98it/s]\u001b[A\n",
      " 13%|█▎        | 12758/100001 [00:00<00:03, 27768.09it/s]\u001b[A\n",
      " 16%|█▌        | 15748/100001 [00:00<00:02, 28489.02it/s]\u001b[A\n",
      " 19%|█▊        | 18665/100001 [00:00<00:02, 28706.94it/s]\u001b[A\n",
      " 22%|██▏       | 21672/100001 [00:00<00:02, 29139.71it/s]\u001b[A\n",
      " 25%|██▍       | 24761/100001 [00:00<00:02, 29683.26it/s]\u001b[A\n",
      " 28%|██▊       | 27730/100001 [00:01<00:02, 29650.16it/s]\u001b[A\n",
      " 31%|███       | 30696/100001 [00:01<00:02, 29641.38it/s]\u001b[A\n",
      " 34%|███▎      | 33661/100001 [00:01<00:02, 28681.05it/s]\u001b[A\n",
      " 37%|███▋      | 36536/100001 [00:01<00:02, 28514.75it/s]\u001b[A\n",
      " 39%|███▉      | 39444/100001 [00:01<00:02, 28677.65it/s]\u001b[A\n",
      " 42%|████▏     | 42423/100001 [00:01<00:01, 29005.60it/s]\u001b[A\n",
      " 45%|████▌     | 45493/100001 [00:01<00:01, 29507.41it/s]\u001b[A\n",
      " 48%|████▊     | 48447/100001 [00:01<00:01, 29358.62it/s]\u001b[A\n",
      " 52%|█████▏    | 51544/100001 [00:01<00:01, 29835.61it/s]\u001b[A\n",
      " 55%|█████▍    | 54640/100001 [00:01<00:01, 30168.19it/s]\u001b[A\n",
      " 58%|█████▊    | 57712/100001 [00:02<00:01, 30331.09it/s]\u001b[A\n",
      " 61%|██████    | 60747/100001 [00:02<00:01, 29546.37it/s]\u001b[A\n",
      " 64%|██████▎   | 63707/100001 [00:02<00:01, 29232.47it/s]\u001b[A\n",
      " 67%|██████▋   | 66634/100001 [00:02<00:01, 29166.33it/s]\u001b[A\n",
      " 70%|██████▉   | 69823/100001 [00:02<00:01, 29963.03it/s]\u001b[A\n",
      " 73%|███████▎  | 73056/100001 [00:02<00:00, 30663.15it/s]\u001b[A\n",
      " 76%|███████▌  | 76191/100001 [00:02<00:00, 30865.10it/s]\u001b[A\n",
      " 79%|███████▉  | 79388/100001 [00:02<00:00, 31191.92it/s]\u001b[A\n",
      " 83%|████████▎ | 82510/100001 [00:02<00:00, 31193.01it/s]\u001b[A\n",
      " 86%|████████▌ | 85674/100001 [00:02<00:00, 31324.38it/s]\u001b[A\n",
      " 89%|████████▉ | 88843/100001 [00:03<00:00, 31433.19it/s]\u001b[A\n",
      " 92%|█████████▏| 92061/100001 [00:03<00:00, 31655.97it/s]\u001b[A\n",
      " 95%|█████████▌| 95228/100001 [00:03<00:00, 31426.11it/s]\u001b[A\n",
      "100%|██████████| 100001/100001 [00:03<00:00, 29501.89it/s][A\n",
      "0it [00:03, ?it/s]\n"
     ]
    },
    {
     "ename": "IndexError",
     "evalue": "index 100001 is out of bounds for axis 0 with size 100001",
     "output_type": "error",
     "traceback": [
      "\u001b[0;31m---------------------------------------------------------------------------\u001b[0m",
      "\u001b[0;31mIndexError\u001b[0m                                Traceback (most recent call last)",
      "\u001b[0;32m<ipython-input-42-fd27839f25a5>\u001b[0m in \u001b[0;36m<module>\u001b[0;34m\u001b[0m\n\u001b[1;32m     10\u001b[0m \u001b[0;34m\u001b[0m\u001b[0m\n\u001b[1;32m     11\u001b[0m     \u001b[0;32mfor\u001b[0m \u001b[0mindcut\u001b[0m\u001b[0;34m,\u001b[0m \u001b[0mcut\u001b[0m \u001b[0;32min\u001b[0m \u001b[0menumerate\u001b[0m\u001b[0;34m(\u001b[0m\u001b[0mcuts_final_time\u001b[0m\u001b[0;34m)\u001b[0m\u001b[0;34m:\u001b[0m\u001b[0;34m\u001b[0m\u001b[0;34m\u001b[0m\u001b[0m\n\u001b[0;32m---> 12\u001b[0;31m         \u001b[0mloss\u001b[0m\u001b[0;34m[\u001b[0m\u001b[0mind_simu_omega\u001b[0m\u001b[0;34m,\u001b[0m \u001b[0mindcut\u001b[0m\u001b[0;34m]\u001b[0m \u001b[0;34m=\u001b[0m \u001b[0mnp\u001b[0m\u001b[0;34m.\u001b[0m\u001b[0msum\u001b[0m\u001b[0;34m(\u001b[0m\u001b[0mnp\u001b[0m\u001b[0;34m.\u001b[0m\u001b[0msquare\u001b[0m\u001b[0;34m(\u001b[0m\u001b[0msignals\u001b[0m\u001b[0;34m[\u001b[0m\u001b[0;34m:\u001b[0m\u001b[0mcut\u001b[0m\u001b[0;34m]\u001b[0m \u001b[0;34m-\u001b[0m \u001b[0mnp\u001b[0m\u001b[0;34m.\u001b[0m\u001b[0meinsum\u001b[0m\u001b[0;34m(\u001b[0m\u001b[0;34m'ij,bj->bi'\u001b[0m\u001b[0;34m,\u001b[0m\u001b[0mC\u001b[0m\u001b[0;34m,\u001b[0m\u001b[0msimu_states\u001b[0m\u001b[0;34m[\u001b[0m\u001b[0msimu_omega\u001b[0m\u001b[0;34m]\u001b[0m\u001b[0;34m[\u001b[0m\u001b[0;34m:\u001b[0m\u001b[0;34m-\u001b[0m\u001b[0;36m1\u001b[0m\u001b[0;34m]\u001b[0m\u001b[0;34m[\u001b[0m\u001b[0;34m:\u001b[0m\u001b[0mcut\u001b[0m\u001b[0;34m]\u001b[0m\u001b[0;34m)\u001b[0m\u001b[0;34m*\u001b[0m\u001b[0mdt\u001b[0m\u001b[0;34m)\u001b[0m\u001b[0;34m)\u001b[0m\u001b[0;34m/\u001b[0m\u001b[0;34m(\u001b[0m\u001b[0;36m2\u001b[0m\u001b[0;34m*\u001b[0m\u001b[0mtimes\u001b[0m\u001b[0;34m[\u001b[0m\u001b[0mcut\u001b[0m\u001b[0;34m]\u001b[0m\u001b[0;34m)\u001b[0m\u001b[0;34m\u001b[0m\u001b[0;34m\u001b[0m\u001b[0m\n\u001b[0m",
      "\u001b[0;31mIndexError\u001b[0m: index 100001 is out of bounds for axis 0 with size 100001"
     ]
    }
   ],
   "source": [
    "for ind_simu_omega, simu_omega in tqdm(enumerate(omegas)):\n",
    "    simu_A = np.array([[-.5*gamma, simu_omega], [-simu_omega, -0.5*gamma]])\n",
    "    simu_states[simu_omega] = [states[0]]\n",
    "    simu_covs[simu_omega] = [covs[0]]\n",
    "\n",
    "    for ind,dy in enumerate(tqdm(signals)):\n",
    "        simu = evolve_simu_state(simu_states[simu_omega][-1], simu_covs[simu_omega][-1], dy, simu_A,  dt)\n",
    "        simu_states[simu_omega].append(simu[0])\n",
    "        simu_covs[simu_omega].append(simu[1])\n",
    "\n",
    "    for indcut, cut in enumerate(cuts_final_time):\n",
    "        loss[ind_simu_omega, indcut] = np.sum(np.square(signals[:cut] - np.einsum('ij,bj->bi',C,simu_states[simu_omega][:-1][:cut])*dt))/(2*times[cut])\n"
   ]
  },
  {
   "cell_type": "code",
   "execution_count": 38,
   "id": "close-telephone",
   "metadata": {},
   "outputs": [
    {
     "data": {
      "text/plain": [
       "[554592.010219149,\n",
       " 11948322.656306505,\n",
       " 92511523.0173423,\n",
       " 33246917.547910087,\n",
       " 71628.31250184722,\n",
       " 199310.03441624518,\n",
       " 7162831.250184728,\n",
       " 1543185.21242424,\n",
       " 4294004.52217807,\n",
       " 716283125.0184736,\n",
       " 257418808.18440673]"
      ]
     },
     "execution_count": 38,
     "metadata": {},
     "output_type": "execute_result"
    }
   ],
   "source": [
    "loss[ind_simu_omega, indcut] = np.sum(np.square(signals[:cut] - np.einsum('ij,bj->bi',C,simu_states[simu_omega][:-1][:cut])*dt))/(2*times[cut])\n"
   ]
  },
  {
   "cell_type": "code",
   "execution_count": null,
   "id": "former-flight",
   "metadata": {},
   "outputs": [],
   "source": []
  },
  {
   "cell_type": "code",
   "execution_count": 29,
   "id": "becoming-penguin",
   "metadata": {},
   "outputs": [
    {
     "data": {
      "text/plain": [
       "array([[ 0.16634014,  0.7283633 ],\n",
       "       [ 0.7283633 , 14.423183  ]], dtype=float32)"
      ]
     },
     "execution_count": 29,
     "metadata": {},
     "output_type": "execute_result"
    }
   ],
   "source": [
    "covs[-1]"
   ]
  },
  {
   "cell_type": "code",
   "execution_count": 4,
   "id": "alternate-regression",
   "metadata": {},
   "outputs": [],
   "source": [
    "[eta, gamma, kappa, omega, n] = give_def_params()\n",
    "C,A, D , Lambda = build_matrix_from_params([eta, gamma, kappa, omega, n])"
   ]
  },
  {
   "cell_type": "code",
   "execution_count": 5,
   "id": "romantic-future",
   "metadata": {},
   "outputs": [
    {
     "data": {
      "text/plain": [
       "8.771929824561404e-07"
      ]
     },
     "execution_count": 5,
     "metadata": {},
     "output_type": "execute_result"
    }
   ],
   "source": [
    "2*np.pi/omega"
   ]
  },
  {
   "cell_type": "code",
   "execution_count": 6,
   "id": "measured-deposit",
   "metadata": {},
   "outputs": [],
   "source": [
    "vuc = n + 0.5 + (kappa/2)/gamma"
   ]
  },
  {
   "cell_type": "code",
   "execution_count": 7,
   "id": "hourly-heading",
   "metadata": {},
   "outputs": [
    {
     "data": {
      "text/plain": [
       "19.236842105263158"
      ]
     },
     "execution_count": 7,
     "metadata": {},
     "output_type": "execute_result"
    }
   ],
   "source": [
    "vuc"
   ]
  },
  {
   "cell_type": "code",
   "execution_count": 8,
   "id": "distinguished-compact",
   "metadata": {},
   "outputs": [],
   "source": [
    "mu = gamma/(4*eta*kappa)"
   ]
  },
  {
   "cell_type": "code",
   "execution_count": 9,
   "id": "balanced-maine",
   "metadata": {},
   "outputs": [],
   "source": [
    "vss = -mu + np.sqrt(mu*(mu + 2*vuc))"
   ]
  },
  {
   "cell_type": "code",
   "execution_count": 10,
   "id": "activated-student",
   "metadata": {},
   "outputs": [
    {
     "data": {
      "text/plain": [
       "1.136204809312643"
      ]
     },
     "execution_count": 10,
     "metadata": {},
     "output_type": "execute_result"
    }
   ],
   "source": [
    "vss"
   ]
  },
  {
   "cell_type": "code",
   "execution_count": 12,
   "id": "formal-genetics",
   "metadata": {},
   "outputs": [
    {
     "data": {
      "text/plain": [
       "array([[ 0.16634014,  0.7283633 ],\n",
       "       [ 0.7283633 , 14.423183  ]], dtype=float32)"
      ]
     },
     "execution_count": 12,
     "metadata": {},
     "output_type": "execute_result"
    }
   ],
   "source": [
    "covs[-1]"
   ]
  },
  {
   "cell_type": "markdown",
   "id": "instrumental-former",
   "metadata": {},
   "source": [
    "Ive a problem since in the paper they solve it for the ... ?"
   ]
  },
  {
   "cell_type": "code",
   "execution_count": 26,
   "id": "alike-union",
   "metadata": {},
   "outputs": [],
   "source": [
    "#rot_int = np.array([[np.cos(omega), np.sin(omega)],[-np.sin(omega), np.cos(omega)]])\n"
   ]
  },
  {
   "cell_type": "code",
   "execution_count": 25,
   "id": "single-cornwall",
   "metadata": {},
   "outputs": [
    {
     "data": {
      "text/plain": [
       "array([[ 0.16634014,  0.72836329],\n",
       "       [ 0.72836329, 14.42318344]])"
      ]
     },
     "execution_count": 25,
     "metadata": {},
     "output_type": "execute_result"
    }
   ],
   "source": [
    "np.dot(np.dot((rot_int.T),covs[-1]), rot_int)"
   ]
  },
  {
   "cell_type": "code",
   "execution_count": 28,
   "id": "earlier-fiction",
   "metadata": {},
   "outputs": [
    {
     "data": {
      "text/plain": [
       "array([[0.]])"
      ]
     },
     "execution_count": 28,
     "metadata": {},
     "output_type": "execute_result"
    }
   ],
   "source": []
  },
  {
   "cell_type": "code",
   "execution_count": 33,
   "id": "prostate-comment",
   "metadata": {},
   "outputs": [
    {
     "name": "stdout",
     "output_type": "stream",
     "text": [
      "Traj loaded \n",
      "ppp: 10000\n",
      "periods: 100\n",
      "method: rossler\n",
      "itraj: 1\n"
     ]
    },
    {
     "name": "stderr",
     "output_type": "stream",
     "text": [
      "/home/cooper-cooper/.local/lib/python3.6/site-packages/ipykernel_launcher.py:24: RuntimeWarning: overflow encountered in square\n"
     ]
    },
    {
     "data": {
      "text/plain": [
       "Text(0.5, 0, 'multiplying factor in the integration step')"
      ]
     },
     "execution_count": 33,
     "metadata": {},
     "output_type": "execute_result"
    },
    {
     "data": {
      "image/png": "[encoded data removed]",
      "text/plain": [
       "<Figure size 432x288 with 1 Axes>"
      ]
     },
     "metadata": {
      "needs_background": "light"
     },
     "output_type": "display_data"
    }
   ],
   "source": [
    "import os\n",
    "import numpy as np\n",
    "\n",
    "windows = np.concatenate([(10**k)*np.arange(2,11) for k in range(3)])\n",
    "method = \"rossler\"\n",
    "ppp = 10000\n",
    "periods = 100\n",
    "itraj = 1\n",
    "rppp=1\n",
    "\n",
    "states, covs, signals, params, times = load_data(ppp=ppp, periods=periods, method=method, itraj=itraj, path=get_def_path() + \"rppp{}/\".format(1)) #\"true states\"\n",
    "\n",
    "omega = 2*np.pi\n",
    "omegas = list(set([omega] + list(np.linspace(0, 2*omega, 10))))\n",
    "\n",
    "states_eu_opt = {}\n",
    "for eu_rppp in [1] + list(windows):\n",
    "    path_kalman_dt =get_def_path()+\"{}rppp/{}periods/{}ppp/{}/kalman_dt/euler_rppp{}/\".format(rppp,periods,ppp,itraj,eu_rppp)\n",
    "    states_eu_opt[eu_rppp] = np.load(path_kalman_dt+\"states/states{}.npy\".format(np.argmin(np.abs(np.array(omegas)-omega))))\n",
    "    \n",
    "    \n",
    "errs = {}\n",
    "for rdt in states_eu_opt.keys():\n",
    "    errs[rdt] = np.sqrt(np.mean(np.square(states[::rdt] - states_eu_opt[rdt])))\n",
    "    \n",
    "    \n",
    "ax = plt.subplot(111)\n",
    "ax.set_title(\"KALMAN UPDATE \\noriginal\\nperiods {}\\n ppp {}\".format(periods, ppp))\n",
    "ax.scatter(errs.keys(), errs.values(),s=100)\n",
    "ax.set_yscale(\"log\")\n",
    "ax.set_xscale(\"log\")\n",
    "ax.set_ylabel(r'$\\sqrt{MSE}$'+\"wrt rossler\",size=20)\n",
    "ax.set_xlabel(\"multiplying factor in the integration step\", size=20)"
   ]
  },
  {
   "cell_type": "code",
   "execution_count": 43,
   "id": "perfect-stadium",
   "metadata": {},
   "outputs": [
    {
     "name": "stderr",
     "output_type": "stream",
     "text": [
      "/home/cooper-cooper/.local/lib/python3.6/site-packages/ipykernel_launcher.py:12: RuntimeWarning: overflow encountered in square\n",
      "  if sys.path[0] == '':\n"
     ]
    },
    {
     "data": {
      "image/png": "[encoded data removed]",
      "text/plain": [
       "<Figure size 3600x360 with 11 Axes>"
      ]
     },
     "metadata": {
      "needs_background": "light"
     },
     "output_type": "display_data"
    }
   ],
   "source": [
    "plt.figure(figsize=(50,5))\n",
    "for ind_omega, omega in enumerate(omegas):\n",
    "\n",
    "    states_eu_opt = {}\n",
    "    for eu_rppp in [1] + list(windows):\n",
    "        path_kalman_dt =get_def_path()+\"{}rppp/{}periods/{}ppp/{}/kalman_dt/euler_rppp{}/\".format(rppp,periods,ppp,itraj,eu_rppp)\n",
    "        states_eu_opt[eu_rppp] = np.load(path_kalman_dt+\"states/states{}.npy\".format(ind_omega))#np.argmin(np.abs(np.array(omegas)-omega))))\n",
    "\n",
    "\n",
    "    errs = {}\n",
    "    for rdt in states_eu_opt.keys():\n",
    "        errs[rdt] = np.sqrt(np.mean(np.square(states[::rdt] - states_eu_opt[rdt])))\n",
    "\n",
    "\n",
    "    ax = plt.subplot2grid((1, len(omegas)),(0, ind_omega))\n",
    "    ax.set_title(\"KALMAN UPDATE \\noriginal\\nperiods {}\\n ppp {}\".format(periods, ppp))\n",
    "    ax.scatter(errs.keys(), errs.values(),s=100)\n",
    "    ax.set_yscale(\"log\")\n",
    "    ax.set_xscale(\"log\")\n",
    "    #ax.set_ylabel(r'$\\sqrt{MSE}$'+\"wrt rossler\",size=20)\n",
    "    #ax.set_xlabel(\"multiplying factor in the integration step\", size=20)"
   ]
  },
  {
   "cell_type": "code",
   "execution_count": null,
   "id": "false-causing",
   "metadata": {},
   "outputs": [],
   "source": []
  },
  {
   "cell_type": "code",
   "execution_count": 34,
   "id": "connected-guest",
   "metadata": {},
   "outputs": [
    {
     "data": {
      "text/plain": [
       "11"
      ]
     },
     "execution_count": 34,
     "metadata": {},
     "output_type": "execute_result"
    }
   ],
   "source": []
  },
  {
   "cell_type": "code",
   "execution_count": 23,
   "id": "extra-camel",
   "metadata": {},
   "outputs": [
    {
     "data": {
      "text/plain": [
       "{1: 0.003239809364242569,\n",
       " 2: 0.7825023525470783,\n",
       " 3: 1.0280056086537979,\n",
       " 4: 1.1397660211915148,\n",
       " 5: 1.2227025919765853,\n",
       " 6: 1.2236596558157415,\n",
       " 7: 1.2931298947551961,\n",
       " 8: 1.3366663453540057,\n",
       " 9: 1.3448086857782637,\n",
       " 10: 1.3695192373455845,\n",
       " 20: 1.44101164182424,\n",
       " 30: 1.4563834014342545,\n",
       " 40: 1.4783441928077006,\n",
       " 50: 1.4637609342866458,\n",
       " 60: 1.4756558064575838,\n",
       " 70: 1.4904947790016616,\n",
       " 80: 1.4878349175948258,\n",
       " 90: 1.4916671870449119,\n",
       " 100: 1.481518017880713,\n",
       " 200: nan,\n",
       " 300: nan,\n",
       " 400: nan,\n",
       " 500: nan,\n",
       " 600: nan,\n",
       " 700: nan,\n",
       " 800: nan,\n",
       " 900: nan,\n",
       " 1000: nan}"
      ]
     },
     "execution_count": 23,
     "metadata": {},
     "output_type": "execute_result"
    }
   ],
   "source": [
    "errs"
   ]
  }
 ],
 "metadata": {
  "kernelspec": {
   "display_name": "qenv_bilkis",
   "language": "python",
   "name": "qenv_bilkis"
  },
  "language_info": {
   "codemirror_mode": {
    "name": "ipython",
    "version": 3
   },
   "file_extension": ".py",
   "mimetype": "text/x-python",
   "name": "python",
   "nbconvert_exporter": "python",
   "pygments_lexer": "ipython3",
   "version": "3.6.8"
  }
 },
 "nbformat": 4,
 "nbformat_minor": 5
}
