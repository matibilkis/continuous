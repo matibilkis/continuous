{
 "cells": [
  {
   "cell_type": "code",
   "execution_count": 1,
   "id": "eleven-ribbon",
   "metadata": {},
   "outputs": [],
   "source": [
    "%load_ext autoreload\n",
    "%autoreload 2\n",
    "\n",
    "import numpy as np\n",
    "from scipy.stats import norm\n",
    "import matplotlib.pyplot as plt\n",
    "from tqdm import tqdm\n",
    "from misc import *\n",
    "import argparse\n",
    "import os\n",
    "import pickle"
   ]
  },
  {
   "cell_type": "code",
   "execution_count": 2,
   "id": "particular-intellectual",
   "metadata": {},
   "outputs": [],
   "source": [
    "params = give_def_params()\n",
    "params, exp_path = check_params(params)\n",
    "[eta, gamma, kappa, omega, n] = params\n",
    "\n",
    "train_id = 0\n",
    "periods = 10\n",
    "ppp = 1000\n",
    "itraj = 1\n",
    "rppp_reference = 1\n",
    "method=\"rossler\"\n",
    "\n",
    "\n",
    "\n",
    "states, covs, signals, params, times, u_th, covs_th = load_data(ppp=ppp, periods=periods, \n",
    "                                                 method=method, itraj=itraj, exp_path=exp_path , rppp = rppp_reference, fisher=True)\n"
   ]
  },
  {
   "cell_type": "code",
   "execution_count": 23,
   "id": "genuine-league",
   "metadata": {},
   "outputs": [],
   "source": [
    "Period = 2*np.pi/omega\n",
    "\n",
    "spectra_signal = np.abs(np.fft.fft(signals[:,0]))**2\n",
    "freqs_signal = np.fft.fftfreq(n = len(spectra_signal), d= Period/ppp)\n"
   ]
  },
  {
   "cell_type": "code",
   "execution_count": 24,
   "id": "charged-welcome",
   "metadata": {},
   "outputs": [
    {
     "data": {
      "image/png": "[encoded data removed]",
      "text/plain": [
       "<Figure size 432x288 with 1 Axes>"
      ]
     },
     "metadata": {
      "needs_background": "light"
     },
     "output_type": "display_data"
    }
   ],
   "source": [
    "ax = plt.subplot(111)\n",
    "ax.plot(freqs_signal,spectra_signal)\n",
    "ax.set_ylabel(\"|dy(f)|^2\")\n",
    "ax.set_xlabel(\"f\")\n",
    "fomega = omega/(2*np.pi)\n",
    "ax.set_xlim([-2*fomega,2*fomega])\n",
    "ax.set_yscale(\"log\")\n",
    "#ax.axvline(params[-2]/(2*np.pi),color=\"black\")\n",
    "#ax.axvline(-params[-2]/(2*np.pi),color=\"black\")"
   ]
  },
  {
   "cell_type": "code",
   "execution_count": 25,
   "id": "proud-origin",
   "metadata": {},
   "outputs": [],
   "source": [
    "Period = 2*np.pi/omega\n",
    "\n",
    "spectra_signal = spectra_signal[freqs_signal>=0]\n",
    "freqs_signal = freqs_signal[freqs_signal>=0]#np.fft.fftfreq(n = len(spectra_signal), d= Period/ppp)\n"
   ]
  },
  {
   "cell_type": "code",
   "execution_count": 26,
   "id": "dense-death",
   "metadata": {},
   "outputs": [
    {
     "data": {
      "image/png": "[encoded data removed]",
      "text/plain": [
       "<Figure size 432x288 with 1 Axes>"
      ]
     },
     "metadata": {
      "needs_background": "light"
     },
     "output_type": "display_data"
    }
   ],
   "source": [
    "ax = plt.subplot(111)\n",
    "ax.plot(freqs_signal,spectra_signal)\n",
    "ax.set_ylabel(\"|dy(f)|^2\")\n",
    "ax.set_xlabel(\"f\")\n",
    "fomega = omega/(2*np.pi)\n",
    "ax.set_xlim([0,2*fomega])\n",
    "ax.set_yscale(\"log\")\n",
    "#ax.axvline(params[-2]/(2*np.pi),color=\"black\")\n",
    "#ax.axvline(-params[-2]/(2*np.pi),color=\"black\")"
   ]
  },
  {
   "cell_type": "code",
   "execution_count": 36,
   "id": "worse-rebel",
   "metadata": {},
   "outputs": [],
   "source": [
    "from lmfit.models import LorentzianModel\n",
    "mod = LorentzianModel()"
   ]
  },
  {
   "cell_type": "code",
   "execution_count": 41,
   "id": "lasting-worcester",
   "metadata": {},
   "outputs": [],
   "source": [
    "pars = mod.guess(spectra_signal, x=freqs_signal)\n",
    "out = mod.fit(spectra_signal, pars, x=freqs_signal)"
   ]
  },
  {
   "cell_type": "code",
   "execution_count": 51,
   "id": "tamil-commercial",
   "metadata": {},
   "outputs": [
    {
     "data": {
      "text/plain": [
       "1562.6148518879083"
      ]
     },
     "execution_count": 51,
     "metadata": {},
     "output_type": "execute_result"
    }
   ],
   "source": [
    "out.values[\"center\"]"
   ]
  },
  {
   "cell_type": "code",
   "execution_count": 53,
   "id": "continental-shuttle",
   "metadata": {},
   "outputs": [],
   "source": [
    "def fit_lorentzian(signals):\n",
    "    Period = 2*np.pi/omega\n",
    "    spectra_signal = np.abs(np.fft.fft(signals[:,0]))**2\n",
    "    freqs_signal = np.fft.fftfreq(n = len(spectra_signal), d= Period/ppp)\n",
    "\n",
    "    \n",
    "    spectra_signal = spectra_signal[freqs_signal>=0]\n",
    "    freqs_signal = freqs_signal[freqs_signal>=0]#np.fft.fftfreq(n = len(spectra_signal), d= Period/ppp)\n",
    "\n",
    "    \n",
    "    mod = LorentzianModel()\n",
    "    \n",
    "    pars = mod.guess(spectra_signal, x=freqs_signal)\n",
    "    out = mod.fit(spectra_signal, pars, x=freqs_signal)\n",
    "    \n",
    "    return out.values[\"center\"]"
   ]
  },
  {
   "cell_type": "code",
   "execution_count": 54,
   "id": "bored-destiny",
   "metadata": {},
   "outputs": [
    {
     "data": {
      "text/plain": [
       "1562.6148518879083"
      ]
     },
     "execution_count": 54,
     "metadata": {},
     "output_type": "execute_result"
    }
   ],
   "source": [
    "for itraj in tqdm(range(1,501)):\n",
    "    \n",
    "    states, covs, signals, params, times = load_data(ppp=ppp, periods=periods, \n",
    "                                                     method=method, itraj=itraj, exp_path=exp_path , rppp = rppp_reference, fisher=False)\n",
    "\n",
    "    fits.append(fit_lorentzian(signals))"
   ]
  },
  {
   "cell_type": "code",
   "execution_count": null,
   "id": "textile-specification",
   "metadata": {},
   "outputs": [],
   "source": []
  },
  {
   "cell_type": "code",
   "execution_count": null,
   "id": "seeing-investing",
   "metadata": {},
   "outputs": [],
   "source": []
  }
 ],
 "metadata": {
  "kernelspec": {
   "display_name": "Python 3",
   "language": "python",
   "name": "python3"
  },
  "language_info": {
   "codemirror_mode": {
    "name": "ipython",
    "version": 3
   },
   "file_extension": ".py",
   "mimetype": "text/x-python",
   "name": "python",
   "nbconvert_exporter": "python",
   "pygments_lexer": "ipython3",
   "version": "3.6.9"
  }
 },
 "nbformat": 4,
 "nbformat_minor": 5
}
