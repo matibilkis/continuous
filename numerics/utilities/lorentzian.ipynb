{
 "cells": [
  {
   "cell_type": "code",
   "execution_count": 1,
   "id": "eleven-ribbon",
   "metadata": {},
   "outputs": [],
   "source": [
    "%load_ext autoreload\n",
    "%autoreload 2\n",
    "\n",
    "import numpy as np\n",
    "from scipy.stats import norm\n",
    "import matplotlib.pyplot as plt\n",
    "from tqdm import tqdm\n",
    "from misc import *\n",
    "import argparse\n",
    "import os\n",
    "import pickle"
   ]
  },
  {
   "cell_type": "code",
   "execution_count": 2,
   "id": "particular-intellectual",
   "metadata": {},
   "outputs": [],
   "source": [
    "params = give_def_params()\n",
    "params, exp_path = check_params(params)\n",
    "[eta, gamma, kappa, omega, n] = params\n",
    "\n",
    "train_id = 0\n",
    "periods = 10\n",
    "ppp = 1000\n",
    "itraj = 1\n",
    "rppp_reference = 1\n",
    "method=\"rossler\"\n",
    "\n",
    "\n",
    "\n",
    "states, covs, signals, params, times, u_th, covs_th = load_data(ppp=ppp, periods=periods, \n",
    "                                                 method=method, itraj=itraj, exp_path=exp_path , rppp = rppp_reference, fisher=True)\n"
   ]
  },
  {
   "cell_type": "code",
   "execution_count": 3,
   "id": "genuine-league",
   "metadata": {},
   "outputs": [],
   "source": [
    "Period = 2*np.pi/omega\n",
    "\n",
    "spectra_signal = np.abs(np.fft.fft(signals[:,0]))**2\n",
    "freqs_signal = np.fft.fftfreq(n = len(spectra_signal), d= Period/ppp)\n"
   ]
  },
  {
   "cell_type": "code",
   "execution_count": 4,
   "id": "charged-welcome",
   "metadata": {},
   "outputs": [
    {
     "data": {
      "image/png": "[encoded data removed]",
      "text/plain": [
       "<Figure size 432x288 with 1 Axes>"
      ]
     },
     "metadata": {
      "needs_background": "light"
     },
     "output_type": "display_data"
    }
   ],
   "source": [
    "ax = plt.subplot(111)\n",
    "ax.plot(freqs_signal,spectra_signal)\n",
    "ax.set_ylabel(\"|dy(f)|^2\")\n",
    "ax.set_xlabel(\"f\")\n",
    "fomega = omega/(2*np.pi)\n",
    "ax.set_xlim([-2*fomega,2*fomega])\n",
    "ax.set_yscale(\"log\")\n",
    "#ax.axvline(params[-2]/(2*np.pi),color=\"black\")\n",
    "#ax.axvline(-params[-2]/(2*np.pi),color=\"black\")"
   ]
  },
  {
   "cell_type": "code",
   "execution_count": 25,
   "id": "proud-origin",
   "metadata": {},
   "outputs": [],
   "source": [
    "Period = 2*np.pi/omega\n",
    "\n",
    "spectra_signal = spectra_signal[freqs_signal>=0]\n",
    "freqs_signal = freqs_signal[freqs_signal>=0]#np.fft.fftfreq(n = len(spectra_signal), d= Period/ppp)\n"
   ]
  },
  {
   "cell_type": "code",
   "execution_count": 26,
   "id": "dense-death",
   "metadata": {},
   "outputs": [
    {
     "data": {
      "image/png": "[encoded data removed]",
      "text/plain": [
       "<Figure size 432x288 with 1 Axes>"
      ]
     },
     "metadata": {
      "needs_background": "light"
     },
     "output_type": "display_data"
    }
   ],
   "source": [
    "ax = plt.subplot(111)\n",
    "ax.plot(freqs_signal,spectra_signal)\n",
    "ax.set_ylabel(\"|dy(f)|^2\")\n",
    "ax.set_xlabel(\"f\")\n",
    "fomega = omega/(2*np.pi)\n",
    "ax.set_xlim([0,2*fomega])\n",
    "ax.set_yscale(\"log\")\n",
    "#ax.axvline(params[-2]/(2*np.pi),color=\"black\")\n",
    "#ax.axvline(-params[-2]/(2*np.pi),color=\"black\")"
   ]
  },
  {
   "cell_type": "code",
   "execution_count": 5,
   "id": "worse-rebel",
   "metadata": {},
   "outputs": [],
   "source": [
    "from lmfit.models import LorentzianModel\n",
    "mod = LorentzianModel()"
   ]
  },
  {
   "cell_type": "code",
   "execution_count": 6,
   "id": "lasting-worcester",
   "metadata": {},
   "outputs": [],
   "source": [
    "pars = mod.guess(spectra_signal, x=freqs_signal)\n",
    "out = mod.fit(spectra_signal, pars, x=freqs_signal)"
   ]
  },
  {
   "cell_type": "code",
   "execution_count": 9,
   "id": "tamil-commercial",
   "metadata": {},
   "outputs": [
    {
     "data": {
      "text/plain": [
       "1.1457615110476826"
      ]
     },
     "execution_count": 9,
     "metadata": {},
     "output_type": "execute_result"
    }
   ],
   "source": [
    "out.values[\"center\"]"
   ]
  },
  {
   "cell_type": "code",
   "execution_count": 38,
   "id": "continental-shuttle",
   "metadata": {},
   "outputs": [],
   "source": [
    "def fit_lorentzian(signals):\n",
    "    Period = 2*np.pi/omega\n",
    "    spectra_signal = np.abs(np.fft.fft(signals[:,0]))**2\n",
    "    freqs_signal = np.fft.fftfreq(n = len(spectra_signal), d= Period/ppp)\n",
    "\n",
    "    \n",
    "    spectra_signal = spectra_signal[freqs_signal>=0]\n",
    "    freqs_signal = freqs_signal[freqs_signal>=0]#np.fft.fftfreq(n = len(spectra_signal), d= Period/ppp)\n",
    "\n",
    "    fomega = 2*np.pi*omega\n",
    "    spectra_signal = spectra_signal[freqs_signal < 2*fomega]\n",
    "    freqs_signal = freqs_signal[freqs_signal< 2*fomega]#np.fft.fftfreq(n = len(spectra_signal), d= Period/ppp)\n",
    "\n",
    "    \n",
    "    mod = LorentzianModel()\n",
    "    \n",
    "    pars = mod.guess(spectra_signal, x=freqs_signal)\n",
    "    out = mod.fit(spectra_signal, pars, x=freqs_signal)\n",
    "    \n",
    "    return out.values[\"center\"]"
   ]
  },
  {
   "cell_type": "code",
   "execution_count": 41,
   "id": "bored-destiny",
   "metadata": {},
   "outputs": [
    {
     "name": "stderr",
     "output_type": "stream",
     "text": [
      "100%|██████████| 500/500 [09:35<00:00,  1.15s/it]\n"
     ]
    }
   ],
   "source": [
    "fits = []\n",
    "for itraj in tqdm(range(1,501)):\n",
    "    \n",
    "    states, covs, signals, params, times = load_data(ppp=ppp, periods=periods, \n",
    "                                                     method=method, itraj=itraj, exp_path=exp_path , rppp = rppp_reference, fisher=False)\n",
    "\n",
    "    fits.append(fit_lorentzian(signals))\n"
   ]
  },
  {
   "cell_type": "code",
   "execution_count": 42,
   "id": "textile-specification",
   "metadata": {},
   "outputs": [
    {
     "data": {
      "text/plain": [
       "32.61525006032019"
      ]
     },
     "execution_count": 42,
     "metadata": {},
     "output_type": "execute_result"
    }
   ],
   "source": [
    "np.std(fits)"
   ]
  },
  {
   "cell_type": "code",
   "execution_count": null,
   "id": "e77aab59-ea21-44e8-a547-d1b5c0392a72",
   "metadata": {},
   "outputs": [],
   "source": []
  },
  {
   "cell_type": "code",
   "execution_count": 20,
   "id": "seeing-investing",
   "metadata": {},
   "outputs": [],
   "source": [
    "states, covs, signals, params, times = load_data(ppp=ppp, periods=periods, \n",
    "                                                     method=method, itraj=1, exp_path=exp_path , rppp = rppp_reference, fisher=False)\n",
    "\n",
    "Period = 2*np.pi/omega\n",
    "spectra_signal = np.abs(np.fft.fft(signals[:,0]))**2\n",
    "freqs_signal = np.fft.fftfreq(n = len(spectra_signal), d= Period/ppp)\n",
    "\n",
    "\n",
    "spectra_signal = spectra_signal[freqs_signal>=0]\n",
    "freqs_signal = freqs_signal[freqs_signal>=0]#np.fft.fftfreq(n = len(spectra_signal), d= Period/ppp)\n",
    "\n"
   ]
  },
  {
   "cell_type": "code",
   "execution_count": 23,
   "id": "d52da320-580e-403a-83a4-43788a3ffd91",
   "metadata": {},
   "outputs": [
    {
     "data": {
      "image/png": "[encoded data removed]",
      "text/plain": [
       "<Figure size 432x288 with 1 Axes>"
      ]
     },
     "metadata": {
      "needs_background": "light"
     },
     "output_type": "display_data"
    }
   ],
   "source": [
    "ax = plt.subplot(111)\n",
    "ax.plot(freqs_signal,spectra_signal)\n",
    "ax.set_yscale(\"log\")"
   ]
  },
  {
   "cell_type": "code",
   "execution_count": 36,
   "id": "7515c663-7f90-4931-9da0-4b2160b43af6",
   "metadata": {},
   "outputs": [],
   "source": [
    "fomega = 2*np.pi*omega\n",
    "spectra_signal = spectra_signal[freqs_signal < 2*fomega]\n",
    "freqs_signal = freqs_signal[freqs_signal< 2*fomega]#np.fft.fftfreq(n = len(spectra_signal), d= Period/ppp)\n",
    "\n",
    "\n",
    "\n",
    "mod = LorentzianModel()\n",
    "\n",
    "pars = mod.guess(spectra_signal, x=freqs_signal)\n",
    "out = mod.fit(spectra_signal, pars, x=freqs_signal)"
   ]
  },
  {
   "cell_type": "code",
   "execution_count": 37,
   "id": "2a51b6f8-ac3e-45dc-b211-a5a7cdc8e2dd",
   "metadata": {},
   "outputs": [
    {
     "data": {
      "text/plain": [
       "1562.61526121661"
      ]
     },
     "execution_count": 37,
     "metadata": {},
     "output_type": "execute_result"
    }
   ],
   "source": [
    "out.values[\"center\"]"
   ]
  },
  {
   "cell_type": "code",
   "execution_count": null,
   "id": "955ef205-e1ad-403a-8478-d8486c3b65cc",
   "metadata": {},
   "outputs": [],
   "source": []
  },
  {
   "cell_type": "code",
   "execution_count": 33,
   "id": "82343891-687f-4a62-873a-886d9a94f17c",
   "metadata": {},
   "outputs": [
    {
     "data": {
      "text/plain": [
       "62831.853071795864"
      ]
     },
     "execution_count": 33,
     "metadata": {},
     "output_type": "execute_result"
    }
   ],
   "source": [
    "fomega"
   ]
  },
  {
   "cell_type": "code",
   "execution_count": 13,
   "id": "1a2ac72f-03fc-4c30-891c-394a53d34859",
   "metadata": {},
   "outputs": [
    {
     "data": {
      "text/plain": [
       "-5036.529838381437"
      ]
     },
     "execution_count": 13,
     "metadata": {},
     "output_type": "execute_result"
    }
   ],
   "source": [
    "out.values[\"center\"]"
   ]
  },
  {
   "cell_type": "code",
   "execution_count": 17,
   "id": "ebbea717-6124-4ccd-97eb-1f1240691f3d",
   "metadata": {},
   "outputs": [
    {
     "data": {
      "text/plain": [
       "[<matplotlib.lines.Line2D at 0x2b65a0d96a20>]"
      ]
     },
     "execution_count": 17,
     "metadata": {},
     "output_type": "execute_result"
    },
    {
     "data": {
      "image/png": "[encoded data removed]",
      "text/plain": [
       "<Figure size 432x288 with 1 Axes>"
      ]
     },
     "metadata": {
      "needs_background": "light"
     },
     "output_type": "display_data"
    }
   ],
   "source": [
    "plt.plot(signals[:,0])"
   ]
  },
  {
   "cell_type": "code",
   "execution_count": null,
   "id": "0b10416f-7084-4e79-abae-76009f96ad66",
   "metadata": {},
   "outputs": [],
   "source": []
  }
 ],
 "metadata": {
  "kernelspec": {
   "display_name": "mateconda",
   "language": "python",
   "name": "mateconda"
  },
  "language_info": {
   "codemirror_mode": {
    "name": "ipython",
    "version": 3
   },
   "file_extension": ".py",
   "mimetype": "text/x-python",
   "name": "python",
   "nbconvert_exporter": "python",
   "pygments_lexer": "ipython3",
   "version": "3.9.5"
  }
 },
 "nbformat": 4,
 "nbformat_minor": 5
}
