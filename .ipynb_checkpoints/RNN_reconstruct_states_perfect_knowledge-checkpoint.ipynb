{
 "cells": [
  {
   "cell_type": "code",
   "execution_count": 97,
   "id": "surprised-richmond",
   "metadata": {},
   "outputs": [
    {
     "name": "stdout",
     "output_type": "stream",
     "text": [
      "The autoreload extension is already loaded. To reload it, use:\n",
      "  %reload_ext autoreload\n"
     ]
    }
   ],
   "source": [
    "from IPython.core.display import display, HTML\n",
    "\n",
    "import numpy as np\n",
    "means = np.load(\"data/means.npy\").astype(np.float32)\n",
    "covs = np.load(\"data/covs.npy\").astype(np.float32)\n",
    "xicovs = np.load(\"data/xicovs.npy\").astype(np.float32)\n",
    "signals = np.load(\"data/signals.npy\").astype(np.float32)\n",
    "A = np.load(\"data/A.npy\").astype(np.float32)\n",
    "dt = np.load(\"data/dt.npy\")[0]\n",
    "C = np.load(\"data/C.npy\").astype(np.float32)\n",
    "D = np.load(\"data/D.npy\").astype(np.float32)\n",
    "\n",
    "coeffs = [C, A, D , dt]\n",
    "\n",
    "\n",
    "\n",
    "from scipy.stats import norm\n",
    "import matplotlib.pyplot as plt\n",
    "from tqdm import tqdm\n",
    "from misc import *\n",
    "from RNN import *\n",
    "import tensorflow as tf\n",
    "%load_ext autoreload\n",
    "%autoreload 2\n",
    "\n",
    "tfsignals = tf.convert_to_tensor(signals)[:100]\n",
    "tfxicovs = tf.convert_to_tensor(xicovs)[:-1][:100]\n",
    "\n",
    "#toysignals = tfsignals[:10][tf.newaxis,:,:]\n",
    "#toyxicovs = tfxicovs[:10][tf.newaxis,:,:,:]\n",
    "#inputs = (toyxicovs, toysignals)\n"
   ]
  },
  {
   "cell_type": "code",
   "execution_count": null,
   "id": "banner-reliance",
   "metadata": {},
   "outputs": [],
   "source": []
  },
  {
   "cell_type": "code",
   "execution_count": 119,
   "id": "optional-health",
   "metadata": {},
   "outputs": [],
   "source": [
    "batched_signals = tf.stack(tf.split(tfsignals, 1)) \n",
    "batched_signals = batched_signals[:,:,:]\n",
    "batched_xicovs  = tf.stack(tf.split(tfxicovs, 1))\n",
    "\n",
    "inputs = (batched_xicovs, batched_signals)"
   ]
  },
  {
   "cell_type": "code",
   "execution_count": 120,
   "id": "velvet-zealand",
   "metadata": {},
   "outputs": [],
   "source": [
    "model = RecModel(coeffs)\n",
    "\n",
    "#model(dummy_inputs)"
   ]
  },
  {
   "cell_type": "code",
   "execution_count": 132,
   "id": "surface-stationery",
   "metadata": {},
   "outputs": [
    {
     "name": "stdout",
     "output_type": "stream",
     "text": [
      "inputs:  (<tf.Tensor: shape=(1, 2, 2), dtype=float32, numpy=\n",
      "array([[[1.8165902, 0.       ],\n",
      "        [0.       , 1.8165902]]], dtype=float32)>, <tf.Tensor: shape=(1, 1, 2), dtype=float32, numpy=array([[[-0.01571522, -0.00512357]]], dtype=float32)>)\n",
      "\n",
      "\n",
      "states:  <tf.Variable 'rec_model_40/rnn_39/Variable:0' shape=(1, 2) dtype=float32, numpy=array([[0., 0.]], dtype=float32)>\n",
      "***\n",
      "\n",
      "\n",
      "inputs:  (<tf.Tensor: shape=(1, 2, 2), dtype=float32, numpy=\n",
      "array([[[1.8165902, 0.       ],\n",
      "        [0.       , 1.8165902]]], dtype=float32)>, <tf.Tensor: shape=(1, 1, 2), dtype=float32, numpy=array([[[-0.01571522, -0.00512357]]], dtype=float32)>)\n",
      "\n",
      "\n",
      "states:  <tf.Variable 'rec_model_40/rnn_39/Variable:0' shape=(1, 2) dtype=float32, numpy=array([[0., 0.]], dtype=float32)>\n",
      "***\n",
      "\n",
      "\n"
     ]
    },
    {
     "ename": "ValueError",
     "evalue": "Tensor's shape (1, 1, 2) is not compatible with supplied shape (1, 2)",
     "output_type": "error",
     "traceback": [
      "\u001b[0;31m---------------------------------------------------------------------------\u001b[0m",
      "\u001b[0;31mValueError\u001b[0m                                Traceback (most recent call last)",
      "\u001b[0;32m<ipython-input-132-f32c78b05311>\u001b[0m in \u001b[0;36m<module>\u001b[0;34m\u001b[0m\n\u001b[1;32m      2\u001b[0m \u001b[0;34m\u001b[0m\u001b[0m\n\u001b[1;32m      3\u001b[0m \u001b[0mmodel\u001b[0m \u001b[0;34m=\u001b[0m \u001b[0mRecModel\u001b[0m\u001b[0;34m(\u001b[0m\u001b[0mcoeffs\u001b[0m\u001b[0;34m)\u001b[0m\u001b[0;34m\u001b[0m\u001b[0;34m\u001b[0m\u001b[0m\n\u001b[0;32m----> 4\u001b[0;31m \u001b[0mpreds\u001b[0m \u001b[0;34m=\u001b[0m \u001b[0mmodel\u001b[0m\u001b[0;34m(\u001b[0m\u001b[0minputs\u001b[0m \u001b[0;34m)\u001b[0m\u001b[0;34m\u001b[0m\u001b[0;34m\u001b[0m\u001b[0m\n\u001b[0m",
      "\u001b[0;32m~/.local/lib/python3.6/site-packages/tensorflow/python/keras/engine/base_layer.py\u001b[0m in \u001b[0;36m__call__\u001b[0;34m(self, *args, **kwargs)\u001b[0m\n\u001b[1;32m    983\u001b[0m \u001b[0;34m\u001b[0m\u001b[0m\n\u001b[1;32m    984\u001b[0m         \u001b[0;32mwith\u001b[0m \u001b[0mops\u001b[0m\u001b[0;34m.\u001b[0m\u001b[0menable_auto_cast_variables\u001b[0m\u001b[0;34m(\u001b[0m\u001b[0mself\u001b[0m\u001b[0;34m.\u001b[0m\u001b[0m_compute_dtype_object\u001b[0m\u001b[0;34m)\u001b[0m\u001b[0;34m:\u001b[0m\u001b[0;34m\u001b[0m\u001b[0;34m\u001b[0m\u001b[0m\n\u001b[0;32m--> 985\u001b[0;31m           \u001b[0moutputs\u001b[0m \u001b[0;34m=\u001b[0m \u001b[0mcall_fn\u001b[0m\u001b[0;34m(\u001b[0m\u001b[0minputs\u001b[0m\u001b[0;34m,\u001b[0m \u001b[0;34m*\u001b[0m\u001b[0margs\u001b[0m\u001b[0;34m,\u001b[0m \u001b[0;34m**\u001b[0m\u001b[0mkwargs\u001b[0m\u001b[0;34m)\u001b[0m\u001b[0;34m\u001b[0m\u001b[0;34m\u001b[0m\u001b[0m\n\u001b[0m\u001b[1;32m    986\u001b[0m \u001b[0;34m\u001b[0m\u001b[0m\n\u001b[1;32m    987\u001b[0m         \u001b[0;32mif\u001b[0m \u001b[0mself\u001b[0m\u001b[0;34m.\u001b[0m\u001b[0m_activity_regularizer\u001b[0m\u001b[0;34m:\u001b[0m\u001b[0;34m\u001b[0m\u001b[0;34m\u001b[0m\u001b[0m\n",
      "\u001b[0;32m~/continuous/RNN.py\u001b[0m in \u001b[0;36mcall\u001b[0;34m(self, inputs)\u001b[0m\n\u001b[1;32m     55\u001b[0m \u001b[0;34m\u001b[0m\u001b[0m\n\u001b[1;32m     56\u001b[0m     \u001b[0;32mdef\u001b[0m \u001b[0mcall\u001b[0m\u001b[0;34m(\u001b[0m\u001b[0mself\u001b[0m\u001b[0;34m,\u001b[0m \u001b[0minputs\u001b[0m\u001b[0;34m)\u001b[0m\u001b[0;34m:\u001b[0m\u001b[0;34m\u001b[0m\u001b[0;34m\u001b[0m\u001b[0m\n\u001b[0;32m---> 57\u001b[0;31m         \u001b[0mf\u001b[0m \u001b[0;34m=\u001b[0m \u001b[0mself\u001b[0m\u001b[0;34m.\u001b[0m\u001b[0mrec_layer\u001b[0m\u001b[0;34m(\u001b[0m\u001b[0minputs\u001b[0m\u001b[0;34m)\u001b[0m\u001b[0;31m#, initial_state = tf.convert_to_tensor(np.array([[[1.,0.]]]).astype(np.float32)))   #gru_layer(tfsignals[:,:10,:], initial_state=tf.convert_to_tensor([[1.,0.]]))\u001b[0m\u001b[0;34m\u001b[0m\u001b[0;34m\u001b[0m\u001b[0m\n\u001b[0m\u001b[1;32m     58\u001b[0m         \u001b[0;32mreturn\u001b[0m \u001b[0mf\u001b[0m\u001b[0;34m\u001b[0m\u001b[0;34m\u001b[0m\u001b[0m\n\u001b[1;32m     59\u001b[0m \u001b[0;34m\u001b[0m\u001b[0m\n",
      "\u001b[0;32m~/.local/lib/python3.6/site-packages/tensorflow/python/keras/layers/recurrent.py\u001b[0m in \u001b[0;36m__call__\u001b[0;34m(self, inputs, initial_state, constants, **kwargs)\u001b[0m\n\u001b[1;32m    657\u001b[0m \u001b[0;34m\u001b[0m\u001b[0m\n\u001b[1;32m    658\u001b[0m     \u001b[0;32mif\u001b[0m \u001b[0minitial_state\u001b[0m \u001b[0;32mis\u001b[0m \u001b[0;32mNone\u001b[0m \u001b[0;32mand\u001b[0m \u001b[0mconstants\u001b[0m \u001b[0;32mis\u001b[0m \u001b[0;32mNone\u001b[0m\u001b[0;34m:\u001b[0m\u001b[0;34m\u001b[0m\u001b[0;34m\u001b[0m\u001b[0m\n\u001b[0;32m--> 659\u001b[0;31m       \u001b[0;32mreturn\u001b[0m \u001b[0msuper\u001b[0m\u001b[0;34m(\u001b[0m\u001b[0mRNN\u001b[0m\u001b[0;34m,\u001b[0m \u001b[0mself\u001b[0m\u001b[0;34m)\u001b[0m\u001b[0;34m.\u001b[0m\u001b[0m__call__\u001b[0m\u001b[0;34m(\u001b[0m\u001b[0minputs\u001b[0m\u001b[0;34m,\u001b[0m \u001b[0;34m**\u001b[0m\u001b[0mkwargs\u001b[0m\u001b[0;34m)\u001b[0m\u001b[0;34m\u001b[0m\u001b[0;34m\u001b[0m\u001b[0m\n\u001b[0m\u001b[1;32m    660\u001b[0m \u001b[0;34m\u001b[0m\u001b[0m\n\u001b[1;32m    661\u001b[0m     \u001b[0;31m# If any of `initial_state` or `constants` are specified and are Keras\u001b[0m\u001b[0;34m\u001b[0m\u001b[0;34m\u001b[0m\u001b[0;34m\u001b[0m\u001b[0m\n",
      "\u001b[0;32m~/.local/lib/python3.6/site-packages/tensorflow/python/keras/engine/base_layer.py\u001b[0m in \u001b[0;36m__call__\u001b[0;34m(self, *args, **kwargs)\u001b[0m\n\u001b[1;32m    983\u001b[0m \u001b[0;34m\u001b[0m\u001b[0m\n\u001b[1;32m    984\u001b[0m         \u001b[0;32mwith\u001b[0m \u001b[0mops\u001b[0m\u001b[0;34m.\u001b[0m\u001b[0menable_auto_cast_variables\u001b[0m\u001b[0;34m(\u001b[0m\u001b[0mself\u001b[0m\u001b[0;34m.\u001b[0m\u001b[0m_compute_dtype_object\u001b[0m\u001b[0;34m)\u001b[0m\u001b[0;34m:\u001b[0m\u001b[0;34m\u001b[0m\u001b[0;34m\u001b[0m\u001b[0m\n\u001b[0;32m--> 985\u001b[0;31m           \u001b[0moutputs\u001b[0m \u001b[0;34m=\u001b[0m \u001b[0mcall_fn\u001b[0m\u001b[0;34m(\u001b[0m\u001b[0minputs\u001b[0m\u001b[0;34m,\u001b[0m \u001b[0;34m*\u001b[0m\u001b[0margs\u001b[0m\u001b[0;34m,\u001b[0m \u001b[0;34m**\u001b[0m\u001b[0mkwargs\u001b[0m\u001b[0;34m)\u001b[0m\u001b[0;34m\u001b[0m\u001b[0;34m\u001b[0m\u001b[0m\n\u001b[0m\u001b[1;32m    986\u001b[0m \u001b[0;34m\u001b[0m\u001b[0m\n\u001b[1;32m    987\u001b[0m         \u001b[0;32mif\u001b[0m \u001b[0mself\u001b[0m\u001b[0;34m.\u001b[0m\u001b[0m_activity_regularizer\u001b[0m\u001b[0;34m:\u001b[0m\u001b[0;34m\u001b[0m\u001b[0;34m\u001b[0m\u001b[0m\n",
      "\u001b[0;32m~/.local/lib/python3.6/site-packages/tensorflow/python/keras/layers/recurrent.py\u001b[0m in \u001b[0;36mcall\u001b[0;34m(self, inputs, mask, training, initial_state, constants)\u001b[0m\n\u001b[1;32m    801\u001b[0m         \u001b[0minput_length\u001b[0m\u001b[0;34m=\u001b[0m\u001b[0mrow_lengths\u001b[0m \u001b[0;32mif\u001b[0m \u001b[0mrow_lengths\u001b[0m \u001b[0;32mis\u001b[0m \u001b[0;32mnot\u001b[0m \u001b[0;32mNone\u001b[0m \u001b[0;32melse\u001b[0m \u001b[0mtimesteps\u001b[0m\u001b[0;34m,\u001b[0m\u001b[0;34m\u001b[0m\u001b[0;34m\u001b[0m\u001b[0m\n\u001b[1;32m    802\u001b[0m         \u001b[0mtime_major\u001b[0m\u001b[0;34m=\u001b[0m\u001b[0mself\u001b[0m\u001b[0;34m.\u001b[0m\u001b[0mtime_major\u001b[0m\u001b[0;34m,\u001b[0m\u001b[0;34m\u001b[0m\u001b[0;34m\u001b[0m\u001b[0m\n\u001b[0;32m--> 803\u001b[0;31m         zero_output_for_mask=self.zero_output_for_mask)\n\u001b[0m\u001b[1;32m    804\u001b[0m \u001b[0;34m\u001b[0m\u001b[0m\n\u001b[1;32m    805\u001b[0m     \u001b[0;32mif\u001b[0m \u001b[0mself\u001b[0m\u001b[0;34m.\u001b[0m\u001b[0mstateful\u001b[0m\u001b[0;34m:\u001b[0m\u001b[0;34m\u001b[0m\u001b[0;34m\u001b[0m\u001b[0m\n",
      "\u001b[0;32m~/.local/lib/python3.6/site-packages/tensorflow/python/util/dispatch.py\u001b[0m in \u001b[0;36mwrapper\u001b[0;34m(*args, **kwargs)\u001b[0m\n\u001b[1;32m    199\u001b[0m     \u001b[0;34m\"\"\"Call target, and fall back on dispatchers if there is a TypeError.\"\"\"\u001b[0m\u001b[0;34m\u001b[0m\u001b[0;34m\u001b[0m\u001b[0m\n\u001b[1;32m    200\u001b[0m     \u001b[0;32mtry\u001b[0m\u001b[0;34m:\u001b[0m\u001b[0;34m\u001b[0m\u001b[0;34m\u001b[0m\u001b[0m\n\u001b[0;32m--> 201\u001b[0;31m       \u001b[0;32mreturn\u001b[0m \u001b[0mtarget\u001b[0m\u001b[0;34m(\u001b[0m\u001b[0;34m*\u001b[0m\u001b[0margs\u001b[0m\u001b[0;34m,\u001b[0m \u001b[0;34m**\u001b[0m\u001b[0mkwargs\u001b[0m\u001b[0;34m)\u001b[0m\u001b[0;34m\u001b[0m\u001b[0;34m\u001b[0m\u001b[0m\n\u001b[0m\u001b[1;32m    202\u001b[0m     \u001b[0;32mexcept\u001b[0m \u001b[0;34m(\u001b[0m\u001b[0mTypeError\u001b[0m\u001b[0;34m,\u001b[0m \u001b[0mValueError\u001b[0m\u001b[0;34m)\u001b[0m\u001b[0;34m:\u001b[0m\u001b[0;34m\u001b[0m\u001b[0;34m\u001b[0m\u001b[0m\n\u001b[1;32m    203\u001b[0m       \u001b[0;31m# Note: convert_to_eager_tensor currently raises a ValueError, not a\u001b[0m\u001b[0;34m\u001b[0m\u001b[0;34m\u001b[0m\u001b[0;34m\u001b[0m\u001b[0m\n",
      "\u001b[0;32m~/.local/lib/python3.6/site-packages/tensorflow/python/keras/backend.py\u001b[0m in \u001b[0;36mrnn\u001b[0;34m(step_function, inputs, initial_states, go_backwards, mask, constants, unroll, input_length, time_major, zero_output_for_mask)\u001b[0m\n\u001b[1;32m   4359\u001b[0m           \u001b[0mbody\u001b[0m\u001b[0;34m=\u001b[0m\u001b[0m_step\u001b[0m\u001b[0;34m,\u001b[0m\u001b[0;34m\u001b[0m\u001b[0;34m\u001b[0m\u001b[0m\n\u001b[1;32m   4360\u001b[0m           \u001b[0mloop_vars\u001b[0m\u001b[0;34m=\u001b[0m\u001b[0;34m(\u001b[0m\u001b[0mtime\u001b[0m\u001b[0;34m,\u001b[0m \u001b[0moutput_ta\u001b[0m\u001b[0;34m)\u001b[0m \u001b[0;34m+\u001b[0m \u001b[0mstates\u001b[0m\u001b[0;34m,\u001b[0m\u001b[0;34m\u001b[0m\u001b[0;34m\u001b[0m\u001b[0m\n\u001b[0;32m-> 4361\u001b[0;31m           **while_loop_kwargs)\n\u001b[0m\u001b[1;32m   4362\u001b[0m       \u001b[0mnew_states\u001b[0m \u001b[0;34m=\u001b[0m \u001b[0mfinal_outputs\u001b[0m\u001b[0;34m[\u001b[0m\u001b[0;36m2\u001b[0m\u001b[0;34m:\u001b[0m\u001b[0;34m]\u001b[0m\u001b[0;34m\u001b[0m\u001b[0;34m\u001b[0m\u001b[0m\n\u001b[1;32m   4363\u001b[0m \u001b[0;34m\u001b[0m\u001b[0m\n",
      "\u001b[0;32m~/.local/lib/python3.6/site-packages/tensorflow/python/ops/control_flow_ops.py\u001b[0m in \u001b[0;36mwhile_loop\u001b[0;34m(cond, body, loop_vars, shape_invariants, parallel_iterations, back_prop, swap_memory, name, maximum_iterations, return_same_structure)\u001b[0m\n\u001b[1;32m   2733\u001b[0m                                               list(loop_vars))\n\u001b[1;32m   2734\u001b[0m       \u001b[0;32mwhile\u001b[0m \u001b[0mcond\u001b[0m\u001b[0;34m(\u001b[0m\u001b[0;34m*\u001b[0m\u001b[0mloop_vars\u001b[0m\u001b[0;34m)\u001b[0m\u001b[0;34m:\u001b[0m\u001b[0;34m\u001b[0m\u001b[0;34m\u001b[0m\u001b[0m\n\u001b[0;32m-> 2735\u001b[0;31m         \u001b[0mloop_vars\u001b[0m \u001b[0;34m=\u001b[0m \u001b[0mbody\u001b[0m\u001b[0;34m(\u001b[0m\u001b[0;34m*\u001b[0m\u001b[0mloop_vars\u001b[0m\u001b[0;34m)\u001b[0m\u001b[0;34m\u001b[0m\u001b[0;34m\u001b[0m\u001b[0m\n\u001b[0m\u001b[1;32m   2736\u001b[0m         \u001b[0;32mif\u001b[0m \u001b[0mtry_to_pack\u001b[0m \u001b[0;32mand\u001b[0m \u001b[0;32mnot\u001b[0m \u001b[0misinstance\u001b[0m\u001b[0;34m(\u001b[0m\u001b[0mloop_vars\u001b[0m\u001b[0;34m,\u001b[0m \u001b[0;34m(\u001b[0m\u001b[0mlist\u001b[0m\u001b[0;34m,\u001b[0m \u001b[0m_basetuple\u001b[0m\u001b[0;34m)\u001b[0m\u001b[0;34m)\u001b[0m\u001b[0;34m:\u001b[0m\u001b[0;34m\u001b[0m\u001b[0;34m\u001b[0m\u001b[0m\n\u001b[1;32m   2737\u001b[0m           \u001b[0mpacked\u001b[0m \u001b[0;34m=\u001b[0m \u001b[0;32mTrue\u001b[0m\u001b[0;34m\u001b[0m\u001b[0;34m\u001b[0m\u001b[0m\n",
      "\u001b[0;32m~/.local/lib/python3.6/site-packages/tensorflow/python/keras/backend.py\u001b[0m in \u001b[0;36m_step\u001b[0;34m(time, output_ta_t, *states)\u001b[0m\n\u001b[1;32m   4348\u001b[0m         \u001b[0;32mfor\u001b[0m \u001b[0mstate\u001b[0m\u001b[0;34m,\u001b[0m \u001b[0mnew_state\u001b[0m \u001b[0;32min\u001b[0m \u001b[0mzip\u001b[0m\u001b[0;34m(\u001b[0m\u001b[0mflat_state\u001b[0m\u001b[0;34m,\u001b[0m \u001b[0mflat_new_state\u001b[0m\u001b[0;34m)\u001b[0m\u001b[0;34m:\u001b[0m\u001b[0;34m\u001b[0m\u001b[0;34m\u001b[0m\u001b[0m\n\u001b[1;32m   4349\u001b[0m           \u001b[0;32mif\u001b[0m \u001b[0misinstance\u001b[0m\u001b[0;34m(\u001b[0m\u001b[0mnew_state\u001b[0m\u001b[0;34m,\u001b[0m \u001b[0mops\u001b[0m\u001b[0;34m.\u001b[0m\u001b[0mTensor\u001b[0m\u001b[0;34m)\u001b[0m\u001b[0;34m:\u001b[0m\u001b[0;34m\u001b[0m\u001b[0;34m\u001b[0m\u001b[0m\n\u001b[0;32m-> 4350\u001b[0;31m             \u001b[0mnew_state\u001b[0m\u001b[0;34m.\u001b[0m\u001b[0mset_shape\u001b[0m\u001b[0;34m(\u001b[0m\u001b[0mstate\u001b[0m\u001b[0;34m.\u001b[0m\u001b[0mshape\u001b[0m\u001b[0;34m)\u001b[0m\u001b[0;34m\u001b[0m\u001b[0;34m\u001b[0m\u001b[0m\n\u001b[0m\u001b[1;32m   4351\u001b[0m \u001b[0;34m\u001b[0m\u001b[0m\n\u001b[1;32m   4352\u001b[0m         \u001b[0mflat_output\u001b[0m \u001b[0;34m=\u001b[0m \u001b[0mnest\u001b[0m\u001b[0;34m.\u001b[0m\u001b[0mflatten\u001b[0m\u001b[0;34m(\u001b[0m\u001b[0moutput\u001b[0m\u001b[0;34m)\u001b[0m\u001b[0;34m\u001b[0m\u001b[0;34m\u001b[0m\u001b[0m\n",
      "\u001b[0;32m~/.local/lib/python3.6/site-packages/tensorflow/python/framework/ops.py\u001b[0m in \u001b[0;36mset_shape\u001b[0;34m(self, shape)\u001b[0m\n\u001b[1;32m   1207\u001b[0m       raise ValueError(\n\u001b[1;32m   1208\u001b[0m           \u001b[0;34m\"Tensor's shape %s is not compatible with supplied shape %s\"\u001b[0m \u001b[0;34m%\u001b[0m\u001b[0;34m\u001b[0m\u001b[0;34m\u001b[0m\u001b[0m\n\u001b[0;32m-> 1209\u001b[0;31m           (self.shape, shape))\n\u001b[0m\u001b[1;32m   1210\u001b[0m \u001b[0;34m\u001b[0m\u001b[0m\n\u001b[1;32m   1211\u001b[0m   \u001b[0;31m# Methods not supported / implemented for Eager Tensors.\u001b[0m\u001b[0;34m\u001b[0m\u001b[0;34m\u001b[0m\u001b[0;34m\u001b[0m\u001b[0m\n",
      "\u001b[0;31mValueError\u001b[0m: Tensor's shape (1, 1, 2) is not compatible with supplied shape (1, 2)"
     ]
    }
   ],
   "source": [
    "from RNN import *\n",
    "\n",
    "model = RecModel(coeffs)\n",
    "preds = model(inputs )"
   ]
  },
  {
   "cell_type": "code",
   "execution_count": null,
   "id": "former-tourist",
   "metadata": {},
   "outputs": [],
   "source": []
  },
  {
   "cell_type": "code",
   "execution_count": 93,
   "id": "enabling-netherlands",
   "metadata": {},
   "outputs": [
    {
     "data": {
      "text/plain": [
       "[<matplotlib.lines.Line2D at 0x7fc226808b70>]"
      ]
     },
     "execution_count": 93,
     "metadata": {},
     "output_type": "execute_result"
    },
    {
     "data": {
      "image/png": "[encoded data removed]",
      "text/plain": [
       "<Figure size 432x288 with 1 Axes>"
      ]
     },
     "metadata": {
      "needs_background": "light"
     },
     "output_type": "display_data"
    }
   ],
   "source": [
    "plt.plot(preds[0,:,0])\n",
    "plt.plot(means[:,0][:len(preds[0])],color=\"black\")"
   ]
  },
  {
   "cell_type": "code",
   "execution_count": null,
   "id": "excessive-arizona",
   "metadata": {},
   "outputs": [],
   "source": []
  },
  {
   "cell_type": "code",
   "execution_count": 32,
   "id": "surprising-corruption",
   "metadata": {},
   "outputs": [],
   "source": [
    "batched_signals = tf.stack(tf.split(tfsignals, 3)) \n",
    "batched_xicovs  = tf.stack(tf.split(tfxicovs, 3))\n",
    "\n",
    "inputs = (batched_xicovs, batched_signals)"
   ]
  },
  {
   "cell_type": "code",
   "execution_count": 29,
   "id": "closed-caribbean",
   "metadata": {},
   "outputs": [],
   "source": [
    "\n",
    "\n",
    "rec_layer = tf.keras.layers.RNN([MinimalRNNCell(2,  coeffs=coeffs)], stateful=True, return_sequences=True)"
   ]
  },
  {
   "cell_type": "code",
   "execution_count": 34,
   "id": "exotic-gothic",
   "metadata": {},
   "outputs": [
    {
     "data": {
      "text/plain": [
       "(<tf.Variable 'rnn_9/Variable:0' shape=(3, 2) dtype=float32, numpy=\n",
       " array([[ 0.01766635, -0.05018587],\n",
       "        [ 0.03260544,  0.09517433],\n",
       "        [ 0.0628103 ,  0.00783737]], dtype=float32)>,)"
      ]
     },
     "execution_count": 34,
     "metadata": {},
     "output_type": "execute_result"
    }
   ],
   "source": []
  },
  {
   "cell_type": "code",
   "execution_count": 30,
   "id": "spatial-joint",
   "metadata": {},
   "outputs": [
    {
     "name": "stdout",
     "output_type": "stream",
     "text": [
      "inputs:  (<tf.Tensor: shape=(3, 2, 2), dtype=float32, numpy=\n",
      "array([[[1.8165902 , 0.        ],\n",
      "        [0.        , 1.8165902 ]],\n",
      "\n",
      "       [[1.8165978 , 0.00379013],\n",
      "        [0.00379013, 1.816589  ]],\n",
      "\n",
      "       [[1.8166238 , 0.00751905],\n",
      "        [0.00751905, 1.8165847 ]]], dtype=float32)>, <tf.Tensor: shape=(3, 2), dtype=float32, numpy=\n",
      "array([[-0.01571522, -0.00512357],\n",
      "       [ 0.03421504,  0.05618984],\n",
      "       [-0.00211352, -0.01100273]], dtype=float32)>)\n",
      "\n",
      "\n",
      "states:  <tf.Variable 'rnn_9/Variable:0' shape=(3, 2) dtype=float32, numpy=\n",
      "array([[0., 0.],\n",
      "       [0., 0.],\n",
      "       [0., 0.]], dtype=float32)>\n",
      "***\n",
      "\n",
      "\n",
      "inputs:  (<tf.Tensor: shape=(3, 2, 2), dtype=float32, numpy=\n",
      "array([[[1.8165902 , 0.        ],\n",
      "        [0.        , 1.8165902 ]],\n",
      "\n",
      "       [[1.8165978 , 0.00379013],\n",
      "        [0.00379013, 1.816589  ]],\n",
      "\n",
      "       [[1.8166238 , 0.00751905],\n",
      "        [0.00751905, 1.8165847 ]]], dtype=float32)>, <tf.Tensor: shape=(3, 2), dtype=float32, numpy=\n",
      "array([[-0.01571522, -0.00512357],\n",
      "       [ 0.03421504,  0.05618984],\n",
      "       [-0.00211352, -0.01100273]], dtype=float32)>)\n",
      "\n",
      "\n",
      "states:  <tf.Variable 'rnn_9/Variable:0' shape=(3, 2) dtype=float32, numpy=\n",
      "array([[0., 0.],\n",
      "       [0., 0.],\n",
      "       [0., 0.]], dtype=float32)>\n",
      "***\n",
      "\n",
      "\n",
      "inputs:  (<tf.Tensor: shape=(3, 2, 2), dtype=float32, numpy=\n",
      "array([[[1.8165902e+00, 7.6296792e-04],\n",
      "        [7.6296792e-04, 1.8165902e+00]],\n",
      "\n",
      "       [[1.8166015e+00, 4.5407754e-03],\n",
      "        [4.5407754e-03, 1.8165884e+00]],\n",
      "\n",
      "       [[1.8166312e+00, 8.2575828e-03],\n",
      "        [8.2575828e-03, 1.8165834e+00]]], dtype=float32)>, <tf.Tensor: shape=(3, 2), dtype=float32, numpy=\n",
      "array([[ 0.01813254, -0.02771763],\n",
      "       [-0.00469602, -0.0161951 ],\n",
      "       [-0.00545372,  0.01673677]], dtype=float32)>)\n",
      "\n",
      "\n",
      "states:  tf.Tensor(\n",
      "[[-0.01571522 -0.00512357]\n",
      " [ 0.03421504  0.05618984]\n",
      " [-0.00211352 -0.01100273]], shape=(3, 2), dtype=float32)\n",
      "***\n",
      "\n",
      "\n",
      "inputs:  (<tf.Tensor: shape=(3, 2, 2), dtype=float32, numpy=\n",
      "array([[[1.8165910e+00, 1.5234564e-03],\n",
      "        [1.5234564e-03, 1.8165901e+00]],\n",
      "\n",
      "       [[1.8166060e+00, 5.2889856e-03],\n",
      "        [5.2889856e-03, 1.8165877e+00]],\n",
      "\n",
      "       [[1.8166392e+00, 8.9937095e-03],\n",
      "        [8.9937095e-03, 1.8165821e+00]]], dtype=float32)>, <tf.Tensor: shape=(3, 2), dtype=float32, numpy=\n",
      "array([[ 0.0548196 ,  0.02468396],\n",
      "       [-0.01710355,  0.00919939],\n",
      "       [-0.03683741,  0.00644525]], dtype=float32)>)\n",
      "\n",
      "\n",
      "states:  tf.Tensor(\n",
      "[[ 0.00244293 -0.03283277]\n",
      " [ 0.02946298  0.03990203]\n",
      " [-0.0075637   0.0057522 ]], shape=(3, 2), dtype=float32)\n",
      "***\n",
      "\n",
      "\n",
      "inputs:  (<tf.Tensor: shape=(3, 2, 2), dtype=float32, numpy=\n",
      "array([[[1.8165925 , 0.00228147],\n",
      "        [0.00228147, 1.8165898 ]],\n",
      "\n",
      "       [[1.8166112 , 0.00603476],\n",
      "        [0.00603476, 1.8165867 ]],\n",
      "\n",
      "       [[1.816648  , 0.00972744],\n",
      "        [0.00972744, 1.8165805 ]]], dtype=float32)>, <tf.Tensor: shape=(3, 2), dtype=float32, numpy=\n",
      "array([[0.00144484, 0.00763591],\n",
      "       [0.00527219, 0.01585352],\n",
      "       [0.03550524, 0.00223382]], dtype=float32)>)\n",
      "\n",
      "\n",
      "states:  tf.Tensor(\n",
      "[[ 0.05725865 -0.00809469]\n",
      " [ 0.01231118  0.04903556]\n",
      " [-0.04438884  0.01218801]], shape=(3, 2), dtype=float32)\n",
      "***\n",
      "\n",
      "\n",
      "inputs:  (<tf.Tensor: shape=(3, 2, 2), dtype=float32, numpy=\n",
      "array([[[1.8165947 , 0.00303703],\n",
      "        [0.00303703, 1.8165895 ]],\n",
      "\n",
      "       [[1.8166171 , 0.00677812],\n",
      "        [0.00677812, 1.8165858 ]],\n",
      "\n",
      "       [[1.8166574 , 0.01045879],\n",
      "        [0.01045879, 1.816579  ]]], dtype=float32)>, <tf.Tensor: shape=(3, 2), dtype=float32, numpy=\n",
      "array([[-0.04084845, -0.04974111],\n",
      "       [ 0.01507157,  0.03047304],\n",
      "       [ 0.07160753, -0.006541  ]], dtype=float32)>)\n",
      "\n",
      "\n",
      "states:  tf.Tensor(\n",
      "[[ 0.05861026 -0.00044544]\n",
      " [ 0.01756298  0.0648082 ]\n",
      " [-0.00881143  0.01440205]], shape=(3, 2), dtype=float32)\n",
      "***\n",
      "\n",
      "\n"
     ]
    },
    {
     "data": {
      "text/plain": [
       "<tf.Tensor: shape=(3, 5, 2), dtype=float32, numpy=\n",
       "array([[[-0.01571522, -0.00512357],\n",
       "        [ 0.00244293, -0.03283277],\n",
       "        [ 0.05725865, -0.00809469],\n",
       "        [ 0.05861026, -0.00044544],\n",
       "        [ 0.01766635, -0.05018587]],\n",
       "\n",
       "       [[ 0.03421504,  0.05618984],\n",
       "        [ 0.02946298,  0.03990203],\n",
       "        [ 0.01231118,  0.04903556],\n",
       "        [ 0.01756298,  0.0648082 ],\n",
       "        [ 0.03260544,  0.09517433]],\n",
       "\n",
       "       [[-0.00211352, -0.01100273],\n",
       "        [-0.0075637 ,  0.0057522 ],\n",
       "        [-0.04438884,  0.01218801],\n",
       "        [-0.00881143,  0.01440205],\n",
       "        [ 0.0628103 ,  0.00783737]]], dtype=float32)>"
      ]
     },
     "execution_count": 30,
     "metadata": {},
     "output_type": "execute_result"
    }
   ],
   "source": [
    "rec_layer(inputs)"
   ]
  },
  {
   "cell_type": "code",
   "execution_count": null,
   "id": "raised-poverty",
   "metadata": {},
   "outputs": [],
   "source": [
    "\n",
    "plt.plot(tf.reshape(preds, [-1,2])[:,0])\n",
    "plt.plot(means[:,0], color=\"red\")"
   ]
  },
  {
   "cell_type": "code",
   "execution_count": 22,
   "id": "phantom-preview",
   "metadata": {},
   "outputs": [
    {
     "data": {
      "text/plain": [
       "[<matplotlib.lines.Line2D at 0x7f1c44298518>]"
      ]
     },
     "execution_count": 22,
     "metadata": {},
     "output_type": "execute_result"
    },
    {
     "data": {
      "image/png": "[encoded data removed]",
      "text/plain": [
       "<Figure size 432x288 with 1 Axes>"
      ]
     },
     "metadata": {
      "needs_background": "light"
     },
     "output_type": "display_data"
    }
   ],
   "source": [
    "model = RecModel(coeffs)\n",
    "\n",
    "batched_signals = tf.stack(tf.split(tfsignals, 100)) \n",
    "batched_xicovs  = tf.stack(tf.split(tfxicovs, 100))\n",
    "\n",
    "inputs = (batched_xicovs, batched_signals)\n",
    "\n",
    "preds = model(inputs )\n",
    "\n",
    "plt.plot(tf.reshape(preds, [-1,2])[:,0])\n",
    "plt.plot(means[:,0], color=\"red\")"
   ]
  },
  {
   "cell_type": "code",
   "execution_count": 23,
   "id": "lonely-contrast",
   "metadata": {},
   "outputs": [
    {
     "data": {
      "text/plain": [
       "<tf.Tensor: shape=(40000, 2), dtype=float32, numpy=\n",
       "array([[-0.01571522, -0.00512357],\n",
       "       [ 0.01813254, -0.02771763],\n",
       "       [ 0.0548196 ,  0.02468396],\n",
       "       ...,\n",
       "       [ 0.04221111,  0.0035826 ],\n",
       "       [ 0.04017262, -0.01458438],\n",
       "       [-0.04898356, -0.01565416]], dtype=float32)>"
      ]
     },
     "execution_count": 23,
     "metadata": {},
     "output_type": "execute_result"
    }
   ],
   "source": [
    "tfsignals[:20]"
   ]
  },
  {
   "cell_type": "code",
   "execution_count": null,
   "id": "answering-vinyl",
   "metadata": {},
   "outputs": [],
   "source": []
  }
 ],
 "metadata": {
  "kernelspec": {
   "display_name": "Python 3",
   "language": "python",
   "name": "python3"
  },
  "language_info": {
   "codemirror_mode": {
    "name": "ipython",
    "version": 3
   },
   "file_extension": ".py",
   "mimetype": "text/x-python",
   "name": "python",
   "nbconvert_exporter": "python",
   "pygments_lexer": "ipython3",
   "version": "3.6.9"
  }
 },
 "nbformat": 4,
 "nbformat_minor": 5
}
