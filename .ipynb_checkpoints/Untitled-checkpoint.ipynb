{
 "cells": [
  {
   "cell_type": "code",
   "execution_count": 7,
   "id": "99b6fc63-0fa9-44ec-b242-ab9b53aacd20",
   "metadata": {},
   "outputs": [],
   "source": [
    "try:\n",
    "    from numerics.integration.steps import *\n",
    "except Exception:\n",
    "    pass\n",
    "import numpy as np"
   ]
  },
  {
   "cell_type": "code",
   "execution_count": 8,
   "id": "a05bf689",
   "metadata": {},
   "outputs": [],
   "source": [
    "def Ikpw(dW, h, n=5):\n",
    "    N = len(times)\n",
    "    m = 2 ### how many quadratures\n",
    "\n",
    "    A = Aterm(N, h, m, 1, dW)\n",
    "    for k in range(2, n+1):\n",
    "        A += Aterm(N, h, m, k, dW)\n",
    "    A = (h/(2.0*np.pi))*A\n",
    "    I = 0.5*(dot(dW, dW.transpose((0,2,1))) - np.diag(h*np.ones(m))) + A\n",
    "    dW = dW.reshape((N, -1)) # change back to shape (N, m)\n",
    "    return (A, I)"
   ]
  },
  {
   "cell_type": "code",
   "execution_count": 9,
   "id": "4391df33",
   "metadata": {},
   "outputs": [],
   "source": [
    "dt = 1e-5\n",
    "T=10\n",
    "times = np.arange(0,T+dt,dt)"
   ]
  },
  {
   "cell_type": "code",
   "execution_count": 11,
   "id": "25f8ebb9-bf4d-4d28-b01a-fb786154112a",
   "metadata": {},
   "outputs": [
    {
     "ename": "NameError",
     "evalue": "name 'dW' is not defined",
     "output_type": "error",
     "traceback": [
      "\u001b[0;31m---------------------------------------------------------------------------\u001b[0m",
      "\u001b[0;31mNameError\u001b[0m                                 Traceback (most recent call last)",
      "\u001b[0;32m/tmp/ipykernel_24902/1375031186.py\u001b[0m in \u001b[0;36m<module>\u001b[0;34m\u001b[0m\n\u001b[1;32m      2\u001b[0m \u001b[0md\u001b[0m \u001b[0;34m=\u001b[0m \u001b[0mN\u001b[0m\u001b[0;34m\u001b[0m\u001b[0;34m\u001b[0m\u001b[0m\n\u001b[1;32m      3\u001b[0m \u001b[0mm\u001b[0m \u001b[0;34m=\u001b[0m \u001b[0mN\u001b[0m\u001b[0;34m\u001b[0m\u001b[0;34m\u001b[0m\u001b[0m\n\u001b[0;32m----> 4\u001b[0;31m \u001b[0m_\u001b[0m\u001b[0;34m,\u001b[0m\u001b[0mI\u001b[0m\u001b[0;34m=\u001b[0m\u001b[0mIkpw\u001b[0m\u001b[0;34m(\u001b[0m\u001b[0mdW\u001b[0m\u001b[0;34m,\u001b[0m\u001b[0mdt\u001b[0m\u001b[0;34m)\u001b[0m\u001b[0;34m\u001b[0m\u001b[0;34m\u001b[0m\u001b[0m\n\u001b[0m",
      "\u001b[0;31mNameError\u001b[0m: name 'dW' is not defined"
     ]
    }
   ],
   "source": [
    "N = len(times)+1\n",
    "d = N\n",
    "m = N\n",
    "_,I=Ikpw(dW,dt)\n"
   ]
  },
  {
   "cell_type": "code",
   "execution_count": null,
   "id": "5875a87c",
   "metadata": {},
   "outputs": [],
   "source": []
  }
 ],
 "metadata": {
  "kernelspec": {
   "display_name": "Python 3 (ipykernel)",
   "language": "python",
   "name": "python3"
  },
  "language_info": {
   "codemirror_mode": {
    "name": "ipython",
    "version": 3
   },
   "file_extension": ".py",
   "mimetype": "text/x-python",
   "name": "python",
   "nbconvert_exporter": "python",
   "pygments_lexer": "ipython3",
   "version": "3.10.4"
  }
 },
 "nbformat": 4,
 "nbformat_minor": 5
}
