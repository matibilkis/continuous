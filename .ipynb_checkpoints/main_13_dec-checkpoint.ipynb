{
 "cells": [
  {
   "cell_type": "code",
   "execution_count": 6,
   "id": "surprised-richmond",
   "metadata": {},
   "outputs": [
    {
     "name": "stdout",
     "output_type": "stream",
     "text": [
      "The autoreload extension is already loaded. To reload it, use:\n",
      "  %reload_ext autoreload\n"
     ]
    }
   ],
   "source": [
    "from IPython.core.display import display, HTML\n",
    "\n",
    "import numpy as np\n",
    "means = np.load(\"data/means.npy\").astype(np.float32)\n",
    "covs = np.load(\"data/covs.npy\").astype(np.float32)\n",
    "xicovs = np.load(\"data/xicovs.npy\").astype(np.float32)\n",
    "signals = np.load(\"data/signals.npy\").astype(np.float32)\n",
    "A = np.load(\"data/A.npy\").astype(np.float32)\n",
    "dt = np.load(\"data/dt.npy\")[0]\n",
    "C = np.load(\"data/C.npy\").astype(np.float32)\n",
    "D = np.load(\"data/D.npy\").astype(np.float32)\n",
    "\n",
    "coeffs = [C, A, D , dt]\n",
    "\n",
    "\n",
    "\n",
    "from scipy.stats import norm\n",
    "import matplotlib.pyplot as plt\n",
    "from tqdm import tqdm\n",
    "from misc import *\n",
    "import tensorflow as tf\n",
    "%load_ext autoreload\n",
    "%autoreload 2\n",
    "\n",
    "tfsignals = tf.convert_to_tensor(signals)\n",
    "tfxicovs = tf.convert_to_tensor(xicovs)[:-1]\n"
   ]
  },
  {
   "cell_type": "code",
   "execution_count": 36,
   "id": "buried-peter",
   "metadata": {},
   "outputs": [
    {
     "name": "stderr",
     "output_type": "stream",
     "text": [
      "/home/cooper-cooper/.local/lib/python3.6/site-packages/numpy/core/_asarray.py:83: ComplexWarning: Casting complex values to real discards the imaginary part\n",
      "  return array(a, dtype, copy=False, order=order)\n"
     ]
    },
    {
     "data": {
      "text/plain": [
       "[<matplotlib.lines.Line2D at 0x7f8a96255390>]"
      ]
     },
     "execution_count": 36,
     "metadata": {},
     "output_type": "execute_result"
    },
    {
     "data": {
      "image/png": "[encoded data removed]",
      "text/plain": [
       "<Figure size 432x288 with 1 Axes>"
      ]
     },
     "metadata": {
      "needs_background": "light"
     },
     "output_type": "display_data"
    }
   ],
   "source": [
    "plt.plot(np.fft.fft(means[:,0])[:-1])"
   ]
  },
  {
   "cell_type": "code",
   "execution_count": 27,
   "id": "enclosed-singer",
   "metadata": {},
   "outputs": [
    {
     "data": {
      "text/plain": [
       "[<matplotlib.lines.Line2D at 0x7f8a966a6668>]"
      ]
     },
     "execution_count": 27,
     "metadata": {},
     "output_type": "execute_result"
    },
    {
     "data": {
      "image/png": "[encoded data removed]",
      "text/plain": [
       "<Figure size 432x288 with 1 Axes>"
      ]
     },
     "metadata": {
      "needs_background": "light"
     },
     "output_type": "display_data"
    }
   ],
   "source": [
    "plt.plot(means[:,0])"
   ]
  },
  {
   "cell_type": "code",
   "execution_count": 10,
   "id": "equal-issue",
   "metadata": {},
   "outputs": [],
   "source": [
    "batched_signals = tf.stack(tf.split(tfsignals, 10)) \n",
    "batched_xicovs  = tf.stack(tf.split(tfxicovs, 10))\n",
    "\n",
    "inputs = (batched_xicovs, batched_signals)"
   ]
  },
  {
   "cell_type": "code",
   "execution_count": 13,
   "id": "outdoor-subcommittee",
   "metadata": {},
   "outputs": [],
   "source": [
    "from RNN_models import *\n",
    "\n",
    "model = RecModel(coeffs, batch_size=len(batched_signals))\n",
    "model.compile(optimizer=tf.keras.optimizers.Adam(lr=0.1))"
   ]
  },
  {
   "cell_type": "code",
   "execution_count": 14,
   "id": "smaller-designation",
   "metadata": {},
   "outputs": [
    {
     "name": "stdout",
     "output_type": "stream",
     "text": [
      "Epoch 1/100\n",
      "WARNING:tensorflow:Gradients do not exist for variables ['rec_model_2/rnn_2/stacked_rnn_cells_2/minimal_rnn_cell_2/recurrent_kernel:0'] when minimizing the loss.\n",
      "WARNING:tensorflow:Gradients do not exist for variables ['rec_model_2/rnn_2/stacked_rnn_cells_2/minimal_rnn_cell_2/recurrent_kernel:0'] when minimizing the loss.\n",
      "1/1 [==============================] - 0s 1ms/step - total_loss: 5.0798e-04\n",
      "Epoch 2/100\n",
      "1/1 [==============================] - 0s 1ms/step - total_loss: 5.0777e-04\n",
      "Epoch 3/100\n",
      "1/1 [==============================] - 0s 1ms/step - total_loss: 5.0757e-04\n",
      "Epoch 4/100\n",
      "1/1 [==============================] - 0s 1ms/step - total_loss: 5.0742e-04\n",
      "Epoch 5/100\n",
      "1/1 [==============================] - 0s 1ms/step - total_loss: 5.0731e-04\n",
      "Epoch 6/100\n",
      "1/1 [==============================] - 0s 1ms/step - total_loss: 5.0724e-04\n",
      "Epoch 7/100\n",
      "1/1 [==============================] - 0s 1ms/step - total_loss: 5.0719e-04\n",
      "Epoch 8/100\n",
      "1/1 [==============================] - 0s 1ms/step - total_loss: 5.0713e-04\n",
      "Epoch 9/100\n",
      "1/1 [==============================] - 0s 1ms/step - total_loss: 5.0706e-04\n",
      "Epoch 10/100\n",
      "1/1 [==============================] - 0s 1ms/step - total_loss: 5.0699e-04\n",
      "Epoch 11/100\n",
      "1/1 [==============================] - 0s 1ms/step - total_loss: 5.0692e-04\n",
      "Epoch 12/100\n",
      "1/1 [==============================] - 0s 1ms/step - total_loss: 5.0685e-04\n",
      "Epoch 13/100\n",
      "1/1 [==============================] - 0s 1ms/step - total_loss: 5.0678e-04\n",
      "Epoch 14/100\n",
      "1/1 [==============================] - 0s 1ms/step - total_loss: 5.0673e-04\n",
      "Epoch 15/100\n",
      "1/1 [==============================] - 0s 1ms/step - total_loss: 5.0669e-04\n",
      "Epoch 16/100\n",
      "1/1 [==============================] - 0s 1ms/step - total_loss: 5.0666e-04\n",
      "Epoch 17/100\n",
      "1/1 [==============================] - 0s 1ms/step - total_loss: 5.0664e-04\n",
      "Epoch 18/100\n",
      "1/1 [==============================] - 0s 1ms/step - total_loss: 5.0662e-04\n",
      "Epoch 19/100\n",
      "1/1 [==============================] - 0s 1ms/step - total_loss: 5.0660e-04\n",
      "Epoch 20/100\n",
      "1/1 [==============================] - 0s 1ms/step - total_loss: 5.0659e-04\n",
      "Epoch 21/100\n",
      "1/1 [==============================] - 0s 1ms/step - total_loss: 5.0658e-04\n",
      "Epoch 22/100\n",
      "1/1 [==============================] - 0s 1ms/step - total_loss: 5.0658e-04\n",
      "Epoch 23/100\n",
      "1/1 [==============================] - 0s 1ms/step - total_loss: 5.0658e-04\n",
      "Epoch 24/100\n",
      "1/1 [==============================] - 0s 1ms/step - total_loss: 5.0658e-04\n",
      "Epoch 25/100\n",
      "1/1 [==============================] - 0s 1ms/step - total_loss: 5.0658e-04\n",
      "Epoch 26/100\n",
      "1/1 [==============================] - 0s 1ms/step - total_loss: 5.0658e-04\n",
      "Epoch 27/100\n",
      "1/1 [==============================] - 0s 1ms/step - total_loss: 5.0659e-04\n",
      "Epoch 28/100\n",
      "1/1 [==============================] - 0s 1ms/step - total_loss: 5.0659e-04\n",
      "Epoch 29/100\n",
      "1/1 [==============================] - 0s 973us/step - total_loss: 5.0659e-04\n",
      "Epoch 30/100\n",
      "1/1 [==============================] - 0s 1ms/step - total_loss: 5.0660e-04\n",
      "Epoch 31/100\n",
      "1/1 [==============================] - 0s 1ms/step - total_loss: 5.0660e-04\n",
      "Epoch 32/100\n",
      "1/1 [==============================] - 0s 1ms/step - total_loss: 5.0660e-04\n",
      "Epoch 33/100\n",
      "1/1 [==============================] - 0s 1ms/step - total_loss: 5.0660e-04\n",
      "Epoch 34/100\n",
      "1/1 [==============================] - 0s 1ms/step - total_loss: 5.0660e-04\n",
      "Epoch 35/100\n",
      "1/1 [==============================] - 0s 1ms/step - total_loss: 5.0660e-04\n",
      "Epoch 36/100\n",
      "1/1 [==============================] - 0s 1ms/step - total_loss: 5.0659e-04\n",
      "Epoch 37/100\n",
      "1/1 [==============================] - 0s 1ms/step - total_loss: 5.0659e-04\n",
      "Epoch 38/100\n",
      "1/1 [==============================] - 0s 1ms/step - total_loss: 5.0659e-04\n",
      "Epoch 39/100\n",
      "1/1 [==============================] - 0s 1ms/step - total_loss: 5.0658e-04\n",
      "Epoch 40/100\n",
      "1/1 [==============================] - 0s 986us/step - total_loss: 5.0658e-04\n",
      "Epoch 41/100\n",
      "1/1 [==============================] - 0s 1ms/step - total_loss: 5.0658e-04\n",
      "Epoch 42/100\n",
      "1/1 [==============================] - 0s 1ms/step - total_loss: 5.0658e-04\n",
      "Epoch 43/100\n",
      "1/1 [==============================] - 0s 1ms/step - total_loss: 5.0658e-04\n",
      "Epoch 44/100\n",
      "1/1 [==============================] - 0s 1ms/step - total_loss: 5.0657e-04\n",
      "Epoch 45/100\n",
      "1/1 [==============================] - 0s 1ms/step - total_loss: 5.0657e-04\n",
      "Epoch 46/100\n",
      "1/1 [==============================] - 0s 1ms/step - total_loss: 5.0657e-04\n",
      "Epoch 47/100\n",
      "1/1 [==============================] - 0s 1ms/step - total_loss: 5.0657e-04\n",
      "Epoch 48/100\n",
      "1/1 [==============================] - 0s 1ms/step - total_loss: 5.0657e-04\n",
      "Epoch 49/100\n",
      "1/1 [==============================] - 0s 1ms/step - total_loss: 5.0657e-04\n",
      "Epoch 50/100\n",
      "1/1 [==============================] - 0s 2ms/step - total_loss: 5.0657e-04\n",
      "Epoch 51/100\n",
      "1/1 [==============================] - 0s 1ms/step - total_loss: 5.0657e-04\n",
      "Epoch 52/100\n",
      "1/1 [==============================] - 0s 1ms/step - total_loss: 5.0657e-04\n",
      "Epoch 53/100\n",
      "1/1 [==============================] - 0s 1ms/step - total_loss: 5.0657e-04\n",
      "Epoch 54/100\n",
      "1/1 [==============================] - 0s 1ms/step - total_loss: 5.0657e-04\n",
      "Epoch 55/100\n",
      "1/1 [==============================] - 0s 1ms/step - total_loss: 5.0657e-04\n",
      "Epoch 56/100\n",
      "1/1 [==============================] - 0s 1ms/step - total_loss: 5.0657e-04\n",
      "Epoch 57/100\n",
      "1/1 [==============================] - 0s 1ms/step - total_loss: 5.0657e-04\n",
      "Epoch 58/100\n",
      "1/1 [==============================] - 0s 1ms/step - total_loss: 5.0657e-04\n",
      "Epoch 59/100\n",
      "1/1 [==============================] - 0s 1ms/step - total_loss: 5.0657e-04\n",
      "Epoch 60/100\n",
      "1/1 [==============================] - 0s 1ms/step - total_loss: 5.0657e-04\n",
      "Epoch 61/100\n",
      "1/1 [==============================] - 0s 1ms/step - total_loss: 5.0657e-04\n",
      "Epoch 62/100\n",
      "1/1 [==============================] - 0s 1ms/step - total_loss: 5.0657e-04\n",
      "Epoch 63/100\n",
      "1/1 [==============================] - 0s 1ms/step - total_loss: 5.0657e-04\n",
      "Epoch 64/100\n",
      "1/1 [==============================] - 0s 1ms/step - total_loss: 5.0657e-04\n",
      "Epoch 65/100\n",
      "1/1 [==============================] - 0s 1ms/step - total_loss: 5.0657e-04\n",
      "Epoch 66/100\n",
      "1/1 [==============================] - 0s 1ms/step - total_loss: 5.0657e-04\n",
      "Epoch 67/100\n",
      "1/1 [==============================] - 0s 983us/step - total_loss: 5.0657e-04\n",
      "Epoch 68/100\n",
      "1/1 [==============================] - 0s 981us/step - total_loss: 5.0657e-04\n",
      "Epoch 69/100\n",
      "1/1 [==============================] - 0s 1ms/step - total_loss: 5.0657e-04\n",
      "Epoch 70/100\n",
      "1/1 [==============================] - 0s 1ms/step - total_loss: 5.0657e-04\n",
      "Epoch 71/100\n",
      "1/1 [==============================] - 0s 1ms/step - total_loss: 5.0657e-04\n",
      "Epoch 72/100\n",
      "1/1 [==============================] - 0s 1ms/step - total_loss: 5.0657e-04\n",
      "Epoch 73/100\n",
      "1/1 [==============================] - 0s 1ms/step - total_loss: 5.0656e-04\n",
      "Epoch 74/100\n",
      "1/1 [==============================] - 0s 1ms/step - total_loss: 5.0656e-04\n",
      "Epoch 75/100\n",
      "1/1 [==============================] - 0s 1ms/step - total_loss: 5.0656e-04\n",
      "Epoch 76/100\n",
      "1/1 [==============================] - 0s 1ms/step - total_loss: 5.0656e-04\n",
      "Epoch 77/100\n",
      "1/1 [==============================] - 0s 1ms/step - total_loss: 5.0656e-04\n",
      "Epoch 78/100\n",
      "1/1 [==============================] - 0s 1ms/step - total_loss: 5.0657e-04\n",
      "Epoch 79/100\n",
      "1/1 [==============================] - 0s 1ms/step - total_loss: 5.0656e-04\n",
      "Epoch 80/100\n",
      "1/1 [==============================] - 0s 1ms/step - total_loss: 5.0656e-04\n",
      "Epoch 81/100\n",
      "1/1 [==============================] - 0s 960us/step - total_loss: 5.0656e-04\n",
      "Epoch 82/100\n",
      "1/1 [==============================] - 0s 1ms/step - total_loss: 5.0656e-04\n",
      "Epoch 83/100\n",
      "1/1 [==============================] - 0s 1ms/step - total_loss: 5.0656e-04\n",
      "Epoch 84/100\n",
      "1/1 [==============================] - 0s 1ms/step - total_loss: 5.0656e-04\n",
      "Epoch 85/100\n",
      "1/1 [==============================] - 0s 1ms/step - total_loss: 5.0656e-04\n",
      "Epoch 86/100\n",
      "1/1 [==============================] - 0s 1ms/step - total_loss: 5.0657e-04\n",
      "Epoch 87/100\n",
      "1/1 [==============================] - 0s 1ms/step - total_loss: 5.0656e-04\n",
      "Epoch 88/100\n",
      "1/1 [==============================] - 0s 1ms/step - total_loss: 5.0656e-04\n",
      "Epoch 89/100\n",
      "1/1 [==============================] - 0s 1ms/step - total_loss: 5.0656e-04\n",
      "Epoch 90/100\n",
      "1/1 [==============================] - 0s 1ms/step - total_loss: 5.0656e-04\n",
      "Epoch 91/100\n",
      "1/1 [==============================] - 0s 1ms/step - total_loss: 5.0656e-04\n",
      "Epoch 92/100\n",
      "1/1 [==============================] - 0s 1ms/step - total_loss: 5.0656e-04\n",
      "Epoch 93/100\n",
      "1/1 [==============================] - 0s 1ms/step - total_loss: 5.0656e-04\n",
      "Epoch 94/100\n",
      "1/1 [==============================] - 0s 1ms/step - total_loss: 5.0656e-04\n",
      "Epoch 95/100\n",
      "1/1 [==============================] - 0s 1ms/step - total_loss: 5.0656e-04\n",
      "Epoch 96/100\n",
      "1/1 [==============================] - 0s 1ms/step - total_loss: 5.0656e-04\n",
      "Epoch 97/100\n",
      "1/1 [==============================] - 0s 1ms/step - total_loss: 5.0656e-04\n",
      "Epoch 98/100\n",
      "1/1 [==============================] - 0s 1ms/step - total_loss: 5.0656e-04\n",
      "Epoch 99/100\n",
      "1/1 [==============================] - 0s 1ms/step - total_loss: 5.0656e-04\n",
      "Epoch 100/100\n",
      "1/1 [==============================] - 0s 1ms/step - total_loss: 5.0656e-04\n"
     ]
    },
    {
     "data": {
      "text/plain": [
       "<tensorflow.python.keras.callbacks.History at 0x7f8aad285e48>"
      ]
     },
     "execution_count": 14,
     "metadata": {},
     "output_type": "execute_result"
    }
   ],
   "source": [
    "\n",
    "model.fit(x=inputs, y=batched_signals, epochs=100, batch_size=model.batch_size)"
   ]
  },
  {
   "cell_type": "code",
   "execution_count": 15,
   "id": "objective-hostel",
   "metadata": {},
   "outputs": [
    {
     "data": {
      "text/plain": [
       "[<tf.Variable 'rec_model_2/rnn_2/stacked_rnn_cells_2/minimal_rnn_cell_2/kernel:0' shape=(2, 2) dtype=float32, numpy=\n",
       " array([[ 0.18228291,  1.03283   ],\n",
       "        [-0.18485638,  0.22689015]], dtype=float32)>,\n",
       " <tf.Variable 'rec_model_2/rnn_2/stacked_rnn_cells_2/minimal_rnn_cell_2/recurrent_kernel:0' shape=(2, 2) dtype=float32, numpy=\n",
       " array([[-0.03888273,  0.03934595],\n",
       "        [ 0.00317538, -0.04744083]], dtype=float32)>]"
      ]
     },
     "execution_count": 15,
     "metadata": {},
     "output_type": "execute_result"
    }
   ],
   "source": [
    "model.trainable_variables"
   ]
  },
  {
   "cell_type": "code",
   "execution_count": 16,
   "id": "prerequisite-bearing",
   "metadata": {},
   "outputs": [],
   "source": [
    "series = ( tfxicovs[tf.newaxis,:,:,:], tfsignals[tf.newaxis,:,:] )"
   ]
  },
  {
   "cell_type": "code",
   "execution_count": 17,
   "id": "piano-helen",
   "metadata": {},
   "outputs": [],
   "source": [
    "model.batch_size=1"
   ]
  },
  {
   "cell_type": "code",
   "execution_count": 18,
   "id": "important-sapphire",
   "metadata": {},
   "outputs": [],
   "source": [
    "predictions = model.rec_layer(series, initial_state=model.initial_state)"
   ]
  },
  {
   "cell_type": "code",
   "execution_count": 19,
   "id": "greek-shooting",
   "metadata": {},
   "outputs": [],
   "source": [
    "tfmeans = tf.convert_to_tensor(means.astype(np.float32))\n",
    "Cxdt=tf.einsum('ij,kj->ki',model.C, tfmeans)*model.dt"
   ]
  },
  {
   "cell_type": "code",
   "execution_count": 22,
   "id": "furnished-luxembourg",
   "metadata": {},
   "outputs": [
    {
     "data": {
      "text/plain": [
       "[<matplotlib.lines.Line2D at 0x7f8aacaa0e80>]"
      ]
     },
     "execution_count": 22,
     "metadata": {},
     "output_type": "execute_result"
    },
    {
     "data": {
      "image/png": "[encoded data removed]",
      "text/plain": [
       "<Figure size 720x720 with 1 Axes>"
      ]
     },
     "metadata": {
      "needs_background": "light"
     },
     "output_type": "display_data"
    }
   ],
   "source": [
    "plt.figure(figsize=(10,10))\n",
    "\n",
    "plt.plot(predictions[0][:,0])\n",
    "plt.plot(Cxdt[:,0])#[:10000])"
   ]
  },
  {
   "cell_type": "code",
   "execution_count": null,
   "id": "dressed-approach",
   "metadata": {},
   "outputs": [],
   "source": []
  }
 ],
 "metadata": {
  "kernelspec": {
   "display_name": "Python 3",
   "language": "python",
   "name": "python3"
  },
  "language_info": {
   "codemirror_mode": {
    "name": "ipython",
    "version": 3
   },
   "file_extension": ".py",
   "mimetype": "text/x-python",
   "name": "python",
   "nbconvert_exporter": "python",
   "pygments_lexer": "ipython3",
   "version": "3.6.9"
  }
 },
 "nbformat": 4,
 "nbformat_minor": 5
}
