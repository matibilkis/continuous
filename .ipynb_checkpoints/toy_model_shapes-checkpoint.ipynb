{
 "cells": [
  {
   "cell_type": "code",
   "execution_count": 53,
   "id": "behavioral-technical",
   "metadata": {},
   "outputs": [
    {
     "name": "stdout",
     "output_type": "stream",
     "text": [
      "The autoreload extension is already loaded. To reload it, use:\n",
      "  %reload_ext autoreload\n"
     ]
    }
   ],
   "source": [
    "import tensorflow as tf\n",
    "import numpy as np\n",
    "%load_ext autoreload\n",
    "%autoreload 2\n",
    "\n",
    "from toymodels import *\n"
   ]
  },
  {
   "cell_type": "code",
   "execution_count": 54,
   "id": "studied-jefferson",
   "metadata": {},
   "outputs": [],
   "source": [
    "\n",
    "cell = MinimalRNNCell(2)\n",
    "x = tf.keras.Input((None, 5))\n",
    "layer = tf.keras.layers.RNN(cell, return_sequences=True, )\n",
    "y = layer(x)\n",
    "#layer(tf.random.uniform((10,20,5)))"
   ]
  },
  {
   "cell_type": "code",
   "execution_count": 68,
   "id": "guilty-spelling",
   "metadata": {},
   "outputs": [],
   "source": [
    "from toymodels import *\n",
    "model = ToyModel()\n",
    "model.compile(optimizer=tf.keras.optimizers.Adam(lr=0.01))"
   ]
  },
  {
   "cell_type": "code",
   "execution_count": 69,
   "id": "acquired-peninsula",
   "metadata": {},
   "outputs": [
    {
     "data": {
      "text/plain": [
       "TensorShape([128, 20, 2])"
      ]
     },
     "execution_count": 69,
     "metadata": {},
     "output_type": "execute_result"
    }
   ],
   "source": [
    "input_data = tf.random.uniform((128,20,5))\n",
    "output_data = tf.random.uniform((128,20,2))\n",
    "model(input_data).shape"
   ]
  },
  {
   "cell_type": "code",
   "execution_count": 70,
   "id": "amber-democrat",
   "metadata": {},
   "outputs": [
    {
     "name": "stdout",
     "output_type": "stream",
     "text": [
      "Epoch 1/100\n",
      "1/1 [==============================] - 0s 843us/step - total_loss: 0.3684\n",
      "Epoch 2/100\n",
      "1/1 [==============================] - 0s 756us/step - total_loss: 0.3418\n",
      "Epoch 3/100\n",
      "1/1 [==============================] - 0s 734us/step - total_loss: 0.3168\n",
      "Epoch 4/100\n",
      "1/1 [==============================] - 0s 813us/step - total_loss: 0.2933\n",
      "Epoch 5/100\n",
      "1/1 [==============================] - 0s 810us/step - total_loss: 0.2711\n",
      "Epoch 6/100\n",
      "1/1 [==============================] - 0s 701us/step - total_loss: 0.2500\n",
      "Epoch 7/100\n",
      "1/1 [==============================] - 0s 798us/step - total_loss: 0.2299\n",
      "Epoch 8/100\n",
      "1/1 [==============================] - 0s 1ms/step - total_loss: 0.2107\n",
      "Epoch 9/100\n",
      "1/1 [==============================] - 0s 999us/step - total_loss: 0.1924\n",
      "Epoch 10/100\n",
      "1/1 [==============================] - 0s 1ms/step - total_loss: 0.1753\n",
      "Epoch 11/100\n",
      "1/1 [==============================] - 0s 877us/step - total_loss: 0.1593\n",
      "Epoch 12/100\n",
      "1/1 [==============================] - 0s 703us/step - total_loss: 0.1447\n",
      "Epoch 13/100\n",
      "1/1 [==============================] - 0s 599us/step - total_loss: 0.1317\n",
      "Epoch 14/100\n",
      "1/1 [==============================] - 0s 867us/step - total_loss: 0.1203\n",
      "Epoch 15/100\n",
      "1/1 [==============================] - 0s 717us/step - total_loss: 0.1108\n",
      "Epoch 16/100\n",
      "1/1 [==============================] - 0s 799us/step - total_loss: 0.1034\n",
      "Epoch 17/100\n",
      "1/1 [==============================] - 0s 712us/step - total_loss: 0.0983\n",
      "Epoch 18/100\n",
      "1/1 [==============================] - 0s 992us/step - total_loss: 0.0954\n",
      "Epoch 19/100\n",
      "1/1 [==============================] - 0s 701us/step - total_loss: 0.0949\n",
      "Epoch 20/100\n",
      "1/1 [==============================] - 0s 672us/step - total_loss: 0.0963\n",
      "Epoch 21/100\n",
      "1/1 [==============================] - 0s 729us/step - total_loss: 0.0993\n",
      "Epoch 22/100\n",
      "1/1 [==============================] - 0s 922us/step - total_loss: 0.1030\n",
      "Epoch 23/100\n",
      "1/1 [==============================] - 0s 1ms/step - total_loss: 0.1065\n",
      "Epoch 24/100\n",
      "1/1 [==============================] - 0s 724us/step - total_loss: 0.1090\n",
      "Epoch 25/100\n",
      "1/1 [==============================] - 0s 1ms/step - total_loss: 0.1101\n",
      "Epoch 26/100\n",
      "1/1 [==============================] - 0s 833us/step - total_loss: 0.1097\n",
      "Epoch 27/100\n",
      "1/1 [==============================] - 0s 836us/step - total_loss: 0.1083\n",
      "Epoch 28/100\n",
      "1/1 [==============================] - 0s 599us/step - total_loss: 0.1061\n",
      "Epoch 29/100\n",
      "1/1 [==============================] - 0s 923us/step - total_loss: 0.1038\n",
      "Epoch 30/100\n",
      "1/1 [==============================] - 0s 1ms/step - total_loss: 0.1013\n",
      "Epoch 31/100\n",
      "1/1 [==============================] - 0s 877us/step - total_loss: 0.0994\n",
      "Epoch 32/100\n",
      "1/1 [==============================] - 0s 1ms/step - total_loss: 0.0979\n",
      "Epoch 33/100\n",
      "1/1 [==============================] - 0s 1ms/step - total_loss: 0.0968\n",
      "Epoch 34/100\n",
      "1/1 [==============================] - 0s 954us/step - total_loss: 0.0963\n",
      "Epoch 35/100\n",
      "1/1 [==============================] - 0s 1ms/step - total_loss: 0.0961\n",
      "Epoch 36/100\n",
      "1/1 [==============================] - 0s 1ms/step - total_loss: 0.0962\n",
      "Epoch 37/100\n",
      "1/1 [==============================] - 0s 909us/step - total_loss: 0.0965\n",
      "Epoch 38/100\n",
      "1/1 [==============================] - 0s 1ms/step - total_loss: 0.0968\n",
      "Epoch 39/100\n",
      "1/1 [==============================] - 0s 998us/step - total_loss: 0.0972\n",
      "Epoch 40/100\n",
      "1/1 [==============================] - 0s 810us/step - total_loss: 0.0976\n",
      "Epoch 41/100\n",
      "1/1 [==============================] - 0s 1ms/step - total_loss: 0.0979\n",
      "Epoch 42/100\n",
      "1/1 [==============================] - 0s 2ms/step - total_loss: 0.0980\n",
      "Epoch 43/100\n",
      "1/1 [==============================] - 0s 914us/step - total_loss: 0.0981\n",
      "Epoch 44/100\n",
      "1/1 [==============================] - 0s 1ms/step - total_loss: 0.0980\n",
      "Epoch 45/100\n",
      "1/1 [==============================] - 0s 1ms/step - total_loss: 0.0978\n",
      "Epoch 46/100\n",
      "1/1 [==============================] - 0s 787us/step - total_loss: 0.0975\n",
      "Epoch 47/100\n",
      "1/1 [==============================] - 0s 1ms/step - total_loss: 0.0972\n",
      "Epoch 48/100\n",
      "1/1 [==============================] - 0s 1ms/step - total_loss: 0.0969\n",
      "Epoch 49/100\n",
      "1/1 [==============================] - 0s 755us/step - total_loss: 0.0966\n",
      "Epoch 50/100\n",
      "1/1 [==============================] - 0s 970us/step - total_loss: 0.0962\n",
      "Epoch 51/100\n",
      "1/1 [==============================] - 0s 3ms/step - total_loss: 0.0959\n",
      "Epoch 52/100\n",
      "1/1 [==============================] - 0s 790us/step - total_loss: 0.0957\n",
      "Epoch 53/100\n",
      "1/1 [==============================] - 0s 1ms/step - total_loss: 0.0955\n",
      "Epoch 54/100\n",
      "1/1 [==============================] - 0s 860us/step - total_loss: 0.0954\n",
      "Epoch 55/100\n",
      "1/1 [==============================] - 0s 1000us/step - total_loss: 0.0954\n",
      "Epoch 56/100\n",
      "1/1 [==============================] - 0s 1ms/step - total_loss: 0.0954\n",
      "Epoch 57/100\n",
      "1/1 [==============================] - 0s 1ms/step - total_loss: 0.0954\n",
      "Epoch 58/100\n",
      "1/1 [==============================] - 0s 1ms/step - total_loss: 0.0953\n",
      "Epoch 59/100\n",
      "1/1 [==============================] - 0s 1ms/step - total_loss: 0.0954\n",
      "Epoch 60/100\n",
      "1/1 [==============================] - 0s 2ms/step - total_loss: 0.0954\n",
      "Epoch 61/100\n",
      "1/1 [==============================] - 0s 703us/step - total_loss: 0.0953\n",
      "Epoch 62/100\n",
      "1/1 [==============================] - 0s 1ms/step - total_loss: 0.0952\n",
      "Epoch 63/100\n",
      "1/1 [==============================] - 0s 813us/step - total_loss: 0.0951\n",
      "Epoch 64/100\n",
      "1/1 [==============================] - 0s 930us/step - total_loss: 0.0951\n",
      "Epoch 65/100\n",
      "1/1 [==============================] - 0s 1ms/step - total_loss: 0.0949\n",
      "Epoch 66/100\n",
      "1/1 [==============================] - 0s 757us/step - total_loss: 0.0946\n",
      "Epoch 67/100\n",
      "1/1 [==============================] - 0s 785us/step - total_loss: 0.0947\n",
      "Epoch 68/100\n",
      "1/1 [==============================] - 0s 1ms/step - total_loss: 0.0945\n",
      "Epoch 69/100\n",
      "1/1 [==============================] - 0s 1ms/step - total_loss: 0.0944\n",
      "Epoch 70/100\n",
      "1/1 [==============================] - 0s 720us/step - total_loss: 0.0943\n",
      "Epoch 71/100\n",
      "1/1 [==============================] - 0s 1ms/step - total_loss: 0.0943\n",
      "Epoch 72/100\n",
      "1/1 [==============================] - 0s 1ms/step - total_loss: 0.0943\n",
      "Epoch 73/100\n",
      "1/1 [==============================] - 0s 749us/step - total_loss: 0.0941\n",
      "Epoch 74/100\n",
      "1/1 [==============================] - 0s 1ms/step - total_loss: 0.0941\n",
      "Epoch 75/100\n",
      "1/1 [==============================] - 0s 983us/step - total_loss: 0.0940\n",
      "Epoch 76/100\n",
      "1/1 [==============================] - 0s 829us/step - total_loss: 0.0938\n",
      "Epoch 77/100\n",
      "1/1 [==============================] - 0s 856us/step - total_loss: 0.0938\n",
      "Epoch 78/100\n",
      "1/1 [==============================] - 0s 794us/step - total_loss: 0.0938\n",
      "Epoch 79/100\n",
      "1/1 [==============================] - 0s 1ms/step - total_loss: 0.0936\n",
      "Epoch 80/100\n",
      "1/1 [==============================] - 0s 744us/step - total_loss: 0.0936\n",
      "Epoch 81/100\n",
      "1/1 [==============================] - 0s 1ms/step - total_loss: 0.0934\n",
      "Epoch 82/100\n",
      "1/1 [==============================] - 0s 904us/step - total_loss: 0.0934\n",
      "Epoch 83/100\n",
      "1/1 [==============================] - 0s 762us/step - total_loss: 0.0933\n",
      "Epoch 84/100\n",
      "1/1 [==============================] - 0s 736us/step - total_loss: 0.0931\n",
      "Epoch 85/100\n",
      "1/1 [==============================] - 0s 884us/step - total_loss: 0.0932\n",
      "Epoch 86/100\n",
      "1/1 [==============================] - 0s 1ms/step - total_loss: 0.0931\n",
      "Epoch 87/100\n",
      "1/1 [==============================] - 0s 753us/step - total_loss: 0.0931\n",
      "Epoch 88/100\n",
      "1/1 [==============================] - 0s 1ms/step - total_loss: 0.0930\n",
      "Epoch 89/100\n",
      "1/1 [==============================] - 0s 2ms/step - total_loss: 0.0928\n",
      "Epoch 90/100\n",
      "1/1 [==============================] - 0s 1ms/step - total_loss: 0.0928\n",
      "Epoch 91/100\n",
      "1/1 [==============================] - 0s 721us/step - total_loss: 0.0927\n",
      "Epoch 92/100\n",
      "1/1 [==============================] - 0s 679us/step - total_loss: 0.0927\n",
      "Epoch 93/100\n",
      "1/1 [==============================] - 0s 1ms/step - total_loss: 0.0926\n",
      "Epoch 94/100\n",
      "1/1 [==============================] - 0s 735us/step - total_loss: 0.0924\n",
      "Epoch 95/100\n",
      "1/1 [==============================] - 0s 692us/step - total_loss: 0.0925\n",
      "Epoch 96/100\n"
     ]
    },
    {
     "name": "stdout",
     "output_type": "stream",
     "text": [
      "1/1 [==============================] - 0s 917us/step - total_loss: 0.0923\n",
      "Epoch 97/100\n",
      "1/1 [==============================] - 0s 1ms/step - total_loss: 0.0922\n",
      "Epoch 98/100\n",
      "1/1 [==============================] - 0s 727us/step - total_loss: 0.0920\n",
      "Epoch 99/100\n",
      "1/1 [==============================] - 0s 1ms/step - total_loss: 0.0921\n",
      "Epoch 100/100\n",
      "1/1 [==============================] - 0s 740us/step - total_loss: 0.0921\n"
     ]
    },
    {
     "data": {
      "text/plain": [
       "<tensorflow.python.keras.callbacks.History at 0x7f9e09f97d30>"
      ]
     },
     "execution_count": 70,
     "metadata": {},
     "output_type": "execute_result"
    }
   ],
   "source": [
    "model.fit(x=input_data, y=output_data, epochs=100, batch_size=128)"
   ]
  },
  {
   "cell_type": "code",
   "execution_count": 44,
   "id": "grave-ghana",
   "metadata": {},
   "outputs": [
    {
     "data": {
      "text/plain": [
       "[None]"
      ]
     },
     "execution_count": 44,
     "metadata": {},
     "output_type": "execute_result"
    }
   ],
   "source": [
    "model.rec_layer.states"
   ]
  },
  {
   "cell_type": "code",
   "execution_count": null,
   "id": "grateful-valve",
   "metadata": {},
   "outputs": [],
   "source": []
  }
 ],
 "metadata": {
  "kernelspec": {
   "display_name": "Python 3",
   "language": "python",
   "name": "python3"
  },
  "language_info": {
   "codemirror_mode": {
    "name": "ipython",
    "version": 3
   },
   "file_extension": ".py",
   "mimetype": "text/x-python",
   "name": "python",
   "nbconvert_exporter": "python",
   "pygments_lexer": "ipython3",
   "version": "3.6.9"
  }
 },
 "nbformat": 4,
 "nbformat_minor": 5
}
