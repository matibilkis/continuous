{
 "cells": [
  {
   "cell_type": "code",
   "execution_count": 3,
   "id": "25e977a9-7993-4867-8db0-fe52080e4a63",
   "metadata": {},
   "outputs": [],
   "source": [
    "from misc import *\n",
    "import numpy as np"
   ]
  },
  {
   "cell_type": "code",
   "execution_count": 4,
   "id": "48bd709f-be31-4292-a866-d1d7509afbc7",
   "metadata": {},
   "outputs": [
    {
     "name": "stdout",
     "output_type": "stream",
     "text": [
      "Object `load_results` not found.\n"
     ]
    }
   ],
   "source": [
    "give_pred = lambda state: np.dot(C,state)*dt\n",
    "def evolve_state(states, AA, dy):\n",
    "    x, cov = states\n",
    "    XiCov = xi(cov)\n",
    "    dx = np.dot(AA - np.dot(XiCov,C), x)*dt + np.dot(XiCov, dy)  #evolution update (according to what you measure)\n",
    "    dcov = (np.dot(AA,cov) + np.dot(cov, ct(AA)) + D - np.dot(XiCov, ct(XiCov)))*dt  #covariance update\n",
    "    return [x + dx, cov + dcov]"
   ]
  },
  {
   "cell_type": "code",
   "execution_count": null,
   "id": "69741cf0-89b1-4698-8520-432ee77337ed",
   "metadata": {},
   "outputs": [],
   "source": []
  }
 ],
 "metadata": {
  "kernelspec": {
   "display_name": "qenv_bilkis",
   "language": "python",
   "name": "qenv_bilkis"
  },
  "language_info": {
   "codemirror_mode": {
    "name": "ipython",
    "version": 3
   },
   "file_extension": ".py",
   "mimetype": "text/x-python",
   "name": "python",
   "nbconvert_exporter": "python",
   "pygments_lexer": "ipython3",
   "version": "3.6.8"
  }
 },
 "nbformat": 4,
 "nbformat_minor": 5
}
