{
 "cells": [
  {
   "cell_type": "code",
   "execution_count": 19,
   "id": "close-egypt",
   "metadata": {},
   "outputs": [],
   "source": [
    "import numpy as np\n",
    "from misc import RK4, ct\n",
    "from scipy.integrate import solve_ivp\n",
    "import matplotlib.pyplot as plt\n",
    "ppp = 500\n",
    "periods = 10\n",
    "\n",
    "def vector_to_matrix(v):\n",
    "    return np.array([[v[0], v[1]],[v[2], v[3]]])\n",
    "def matrix_to_vector(v):\n",
    "    return np.array([v[0,0], v[0,1], v[1,0], v[1,1]])\n"
   ]
  },
  {
   "cell_type": "code",
   "execution_count": 29,
   "id": "comparable-bride",
   "metadata": {},
   "outputs": [],
   "source": [
    "kwargs = {}\n",
    "\n",
    "times = np.arange(0,periods+ dt, dt)\n",
    "dt = 1/ppp\n",
    "\n",
    "eta = kwargs.get(\"eta\",1) #efficiency\n",
    "gamma = kwargs.get(\"gamma\",0.3) # damping (related both to D and to A)\n",
    "Lambda = kwargs.get(\"Lambda\",0.8) #rate of measurement\n",
    "omega = kwargs.get(\"omega\",0) #rate of measurement\n",
    "\n",
    "n = kwargs.get(\"n\",1.0)\n",
    "\n",
    "A = np.array([[-.5*gamma, omega], [-omega, -0.5*gamma]])\n",
    "D = np.diag([(gamma*(n+0.5)) + Lambda]*2)\n",
    "C = np.diag([np.sqrt(4*eta*Lambda)]*2)\n",
    "\n",
    "#covariance in the stationary case.\n",
    "cov_in = np.diag([n + 0.5 + (Lambda/gamma)]*2)\n",
    "#σ11 = (sqrt(1+16.0*η1*Γ1*σu1/γ1)-1)*γ1/(8.0*η1*Γ1)\n",
    "xi = lambda cov: np.dot(cov, ct(C)) + ct(D)\n",
    "def dcovdt(t,cov):\n",
    "    cov= vector_to_matrix(cov)\n",
    "    XiCov = xi(cov)\n",
    "    ev_cov = np.dot(A,cov) + np.dot(cov, ct(A)) + D - np.dot(XiCov, ct(XiCov))\n",
    "    return matrix_to_vector(ev_cov)\n",
    "\n",
    "integrate_cov = solve_ivp(dcovdt, y0=matrix_to_vector(cov_in), t_span=(0,times[-1]), t_eval=times, max_step = dt, atol=1, rtol=1)\n",
    "covs = np.reshape(integrate_cov.y.T, (len(times),2,2))\n"
   ]
  },
  {
   "cell_type": "code",
   "execution_count": 32,
   "id": "competitive-terry",
   "metadata": {},
   "outputs": [
    {
     "data": {
      "text/plain": [
       "-0.06864397587254287"
      ]
     },
     "execution_count": 32,
     "metadata": {},
     "output_type": "execute_result"
    }
   ],
   "source": [
    "covs[:,1,1][-1]"
   ]
  },
  {
   "cell_type": "code",
   "execution_count": 33,
   "id": "alpine-personality",
   "metadata": {},
   "outputs": [
    {
     "data": {
      "text/plain": [
       "0.2986460060546247"
      ]
     },
     "execution_count": 33,
     "metadata": {},
     "output_type": "execute_result"
    }
   ],
   "source": [
    "(np.sqrt(1+(16*eta*Lambda)*(n + 0.5 + (Lambda/gamma))) -1)*gamma/(8.0*eta*Lambda)\n"
   ]
  },
  {
   "cell_type": "code",
   "execution_count": null,
   "id": "popular-validity",
   "metadata": {},
   "outputs": [],
   "source": [
    "σu1=n1+0.5+Γ1/γ1\n",
    "    #variance in the stationary case.\n",
    "σ11 = (sqrt(1+16.0*η1*Γ1*σu1/γ1)-1)*γ1/(8.0*η1*Γ1)"
   ]
  },
  {
   "cell_type": "code",
   "execution_count": null,
   "id": "august-purse",
   "metadata": {},
   "outputs": [],
   "source": []
  },
  {
   "cell_type": "code",
   "execution_count": null,
   "id": "suburban-computer",
   "metadata": {},
   "outputs": [],
   "source": []
  },
  {
   "cell_type": "code",
   "execution_count": 27,
   "id": "cleared-notebook",
   "metadata": {},
   "outputs": [
    {
     "data": {
      "text/plain": [
       "0.0"
      ]
     },
     "execution_count": 27,
     "metadata": {},
     "output_type": "execute_result"
    }
   ],
   "source": [
    "covs[:,0,1][-1]"
   ]
  },
  {
   "cell_type": "code",
   "execution_count": 20,
   "id": "straight-dancing",
   "metadata": {},
   "outputs": [
    {
     "data": {
      "text/plain": [
       "[<matplotlib.lines.Line2D at 0x7ff537209320>]"
      ]
     },
     "execution_count": 20,
     "metadata": {},
     "output_type": "execute_result"
    },
    {
     "data": {
      "image/png": "[encoded data removed]",
      "text/plain": [
       "<Figure size 432x288 with 1 Axes>"
      ]
     },
     "metadata": {
      "needs_background": "light"
     },
     "output_type": "display_data"
    }
   ],
   "source": [
    "plt.plot(covs[:,0,0])"
   ]
  },
  {
   "cell_type": "code",
   "execution_count": null,
   "id": "suspected-firmware",
   "metadata": {},
   "outputs": [],
   "source": []
  }
 ],
 "metadata": {
  "kernelspec": {
   "display_name": "Python 3",
   "language": "python",
   "name": "python3"
  },
  "language_info": {
   "codemirror_mode": {
    "name": "ipython",
    "version": 3
   },
   "file_extension": ".py",
   "mimetype": "text/x-python",
   "name": "python",
   "nbconvert_exporter": "python",
   "pygments_lexer": "ipython3",
   "version": "3.6.9"
  }
 },
 "nbformat": 4,
 "nbformat_minor": 5
}
