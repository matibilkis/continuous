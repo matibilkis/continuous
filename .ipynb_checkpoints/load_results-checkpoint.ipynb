{
 "cells": [
  {
   "cell_type": "code",
   "execution_count": 114,
   "id": "eb52b723-db76-43fa-aede-e79039808923",
   "metadata": {},
   "outputs": [
    {
     "data": {
      "text/plain": [
       "['2periods']"
      ]
     },
     "execution_count": 114,
     "metadata": {},
     "output_type": "execute_result"
    }
   ],
   "source": [
    "import os\n",
    "import numpy as np\n",
    "\n",
    "dire = \"/data/uab-giq/scratch/matias/quantera/trajectories/\"\n",
    "\n",
    "[f for f in os.listdir(dire)]"
   ]
  },
  {
   "cell_type": "code",
   "execution_count": 111,
   "id": "74f828fc-3089-4154-af42-1c9979c028a0",
   "metadata": {},
   "outputs": [],
   "source": [
    "distances = {}\n",
    "\n",
    "periods = [2]\n",
    "its = 8\n",
    "\n",
    "for p in periods:\n",
    "\n",
    "    dire = \"/data/uab-giq/scratch/matias/quantera/trajectories/{}periods/\".format(p)\n",
    "\n",
    "    As = []\n",
    "    for i in range(1,its+1):\n",
    "        As.append(np.load(dire+\"/{}/A_history.npy\".format(i))[-1])\n",
    "\n",
    "\n",
    "\n",
    "    Avar_mean,Avar_true=[], []\n",
    "    Atrue = np.array([[0,1],[-1,0]])\n",
    "    Amean = np.mean(As,axis=0)\n",
    "    for a in As:\n",
    "        Avar_mean.append(np.square(a-Amean))\n",
    "        Avar_true.append(np.square(a-Atrue))\n",
    "\n",
    "    var_mean = np.sqrt(np.sum(Avar_mean,axis=0)/(len(As)-1))\n",
    "    var_true = np.sqrt(np.sum(Avar_true,axis=0))/(len(As)-1)\n",
    "\n",
    "    distances[p] = [var_mean, var_true]"
   ]
  },
  {
   "cell_type": "code",
   "execution_count": 107,
   "id": "42ebc1c2-a7ec-411b-8654-0440eb13aa21",
   "metadata": {},
   "outputs": [],
   "source": []
  }
 ],
 "metadata": {
  "kernelspec": {
   "display_name": "qenv_bilkis",
   "language": "python",
   "name": "qenv_bilkis"
  },
  "language_info": {
   "codemirror_mode": {
    "name": "ipython",
    "version": 3
   },
   "file_extension": ".py",
   "mimetype": "text/x-python",
   "name": "python",
   "nbconvert_exporter": "python",
   "pygments_lexer": "ipython3",
   "version": "3.6.8"
  }
 },
 "nbformat": 4,
 "nbformat_minor": 5
}
