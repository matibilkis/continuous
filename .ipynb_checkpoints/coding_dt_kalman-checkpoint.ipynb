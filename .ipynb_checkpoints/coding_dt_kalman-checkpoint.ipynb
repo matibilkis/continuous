{
 "cells": [
  {
   "cell_type": "code",
   "execution_count": 1,
   "id": "eleven-ribbon",
   "metadata": {},
   "outputs": [],
   "source": [
    "%load_ext autoreload\n",
    "%autoreload 2\n",
    "\n",
    "\n",
    "import numpy as np\n",
    "from scipy.stats import norm\n",
    "import matplotlib.pyplot as plt\n",
    "from tqdm import tqdm\n",
    "from misc import *\n",
    "import argparse\n",
    "import os\n",
    "import pickle\n",
    "import ast"
   ]
  },
  {
   "cell_type": "code",
   "execution_count": 12,
   "id": "imposed-header",
   "metadata": {},
   "outputs": [],
   "source": [
    "periods = 1\n",
    "ppp = 10\n",
    "method = \"rossler\"\n",
    "rppp = 1\n",
    "itraj = 1\n",
    "euler_rppp = 2"
   ]
  },
  {
   "cell_type": "code",
   "execution_count": 17,
   "id": "interim-sleeve",
   "metadata": {},
   "outputs": [
    {
     "ename": "TypeError",
     "evalue": "can only concatenate list (not \"str\") to list",
     "output_type": "error",
     "traceback": [
      "\u001b[0;31m---------------------------------------------------------------------------\u001b[0m",
      "\u001b[0;31mTypeError\u001b[0m                                 Traceback (most recent call last)",
      "\u001b[0;32m<ipython-input-17-291302b9ab7a>\u001b[0m in \u001b[0;36m<module>\u001b[0;34m\u001b[0m\n\u001b[1;32m      3\u001b[0m     \u001b[0mexp_path\u001b[0m \u001b[0;34m=\u001b[0m \u001b[0;34m\"\"\u001b[0m\u001b[0;34m\u001b[0m\u001b[0;34m\u001b[0m\u001b[0m\n\u001b[1;32m      4\u001b[0m \u001b[0;32melse\u001b[0m\u001b[0;34m:\u001b[0m\u001b[0;34m\u001b[0m\u001b[0;34m\u001b[0m\u001b[0m\n\u001b[0;32m----> 5\u001b[0;31m     \u001b[0mexp_path\u001b[0m \u001b[0;34m=\u001b[0m \u001b[0mparams\u001b[0m \u001b[0;34m+\u001b[0m \u001b[0;34m\"/\"\u001b[0m\u001b[0;34m\u001b[0m\u001b[0;34m\u001b[0m\u001b[0m\n\u001b[0m\u001b[1;32m      6\u001b[0m     \u001b[0mparams\u001b[0m \u001b[0;34m=\u001b[0m \u001b[0mast\u001b[0m\u001b[0;34m.\u001b[0m\u001b[0mliteral_eval\u001b[0m\u001b[0;34m(\u001b[0m\u001b[0mparams\u001b[0m\u001b[0;34m)\u001b[0m\u001b[0;34m\u001b[0m\u001b[0;34m\u001b[0m\u001b[0m\n\u001b[1;32m      7\u001b[0m     \u001b[0;34m[\u001b[0m\u001b[0meta\u001b[0m\u001b[0;34m,\u001b[0m \u001b[0mgamma\u001b[0m\u001b[0;34m,\u001b[0m \u001b[0mkappa\u001b[0m\u001b[0;34m,\u001b[0m \u001b[0momega\u001b[0m\u001b[0;34m,\u001b[0m \u001b[0mn\u001b[0m\u001b[0;34m]\u001b[0m \u001b[0;34m=\u001b[0m \u001b[0mparams\u001b[0m\u001b[0;34m\u001b[0m\u001b[0;34m\u001b[0m\u001b[0m\n",
      "\u001b[0;31mTypeError\u001b[0m: can only concatenate list (not \"str\") to list"
     ]
    }
   ],
   "source": [
    "\n",
    "if params==\"\":\n",
    "    [eta, gamma, kappa, omega, n] = give_def_params()\n",
    "    exp_path = \"\"\n",
    "else:\n",
    "    exp_path = params_to_string(params) + \"/\"\n",
    "    params = ast.literal_eval(params)\n",
    "    [eta, gamma, kappa, omega, n] = params\n",
    "\n",
    "states, covs, signals, params, times = load_data(ppp=ppp, periods=periods, method=method, itraj=itraj, exp_path = exp_path)\n",
    "[eta, gamma, kappa, omega, n] = params"
   ]
  },
  {
   "cell_type": "code",
   "execution_count": 18,
   "id": "informational-record",
   "metadata": {},
   "outputs": [],
   "source": [
    "eta = 1\n",
    "gamma = .3\n",
    "kappa = 1\n",
    "n = 2\n",
    "omega = 2*np.pi\n",
    "params = [eta, gamma, kappa, omega, n]"
   ]
  },
  {
   "cell_type": "code",
   "execution_count": null,
   "id": "oriented-million",
   "metadata": {},
   "outputs": [],
   "source": []
  },
  {
   "cell_type": "code",
   "execution_count": 13,
   "id": "prostate-comment",
   "metadata": {},
   "outputs": [
    {
     "ename": "FileNotFoundError",
     "evalue": "[Errno 2] No such file or directory: \"../quantera/trajectories/'[1, 0.3, 1, 6.283185307179586, 2]'/1itraj/rossler_real_traj_method/1periods/10ppp/1rppp/times.npy\"",
     "output_type": "error",
     "traceback": [
      "\u001b[0;31m---------------------------------------------------------------------------\u001b[0m",
      "\u001b[0;31mFileNotFoundError\u001b[0m                         Traceback (most recent call last)",
      "\u001b[0;32m<ipython-input-13-eb51df2604b7>\u001b[0m in \u001b[0;36m<module>\u001b[0;34m\u001b[0m\n\u001b[1;32m      7\u001b[0m \u001b[0mexp_path\u001b[0m \u001b[0;34m=\u001b[0m \u001b[0mparams_to_string\u001b[0m\u001b[0;34m(\u001b[0m\u001b[0mparams\u001b[0m\u001b[0;34m)\u001b[0m \u001b[0;34m+\u001b[0m \u001b[0;34m\"/\"\u001b[0m\u001b[0;34m\u001b[0m\u001b[0;34m\u001b[0m\u001b[0m\n\u001b[1;32m      8\u001b[0m \u001b[0;34m\u001b[0m\u001b[0m\n\u001b[0;32m----> 9\u001b[0;31m \u001b[0mstates\u001b[0m\u001b[0;34m,\u001b[0m \u001b[0mcovs\u001b[0m\u001b[0;34m,\u001b[0m \u001b[0msignals\u001b[0m\u001b[0;34m,\u001b[0m \u001b[0mparams\u001b[0m\u001b[0;34m,\u001b[0m \u001b[0mtimes\u001b[0m \u001b[0;34m=\u001b[0m \u001b[0mload_data\u001b[0m\u001b[0;34m(\u001b[0m\u001b[0mppp\u001b[0m\u001b[0;34m=\u001b[0m\u001b[0mppp\u001b[0m\u001b[0;34m,\u001b[0m \u001b[0mperiods\u001b[0m\u001b[0;34m=\u001b[0m\u001b[0mperiods\u001b[0m\u001b[0;34m,\u001b[0m \u001b[0mmethod\u001b[0m\u001b[0;34m=\u001b[0m\u001b[0mmethod\u001b[0m\u001b[0;34m,\u001b[0m \u001b[0mitraj\u001b[0m\u001b[0;34m=\u001b[0m\u001b[0mitraj\u001b[0m\u001b[0;34m,\u001b[0m \u001b[0mexp_path\u001b[0m \u001b[0;34m=\u001b[0m \u001b[0mexp_path\u001b[0m\u001b[0;34m,\u001b[0m \u001b[0mrppp\u001b[0m\u001b[0;34m=\u001b[0m\u001b[0;36m1\u001b[0m\u001b[0;34m)\u001b[0m\u001b[0;34m\u001b[0m\u001b[0;34m\u001b[0m\u001b[0m\n\u001b[0m\u001b[1;32m     10\u001b[0m \u001b[0;34m[\u001b[0m\u001b[0meta\u001b[0m\u001b[0;34m,\u001b[0m \u001b[0mgamma\u001b[0m\u001b[0;34m,\u001b[0m \u001b[0mkappa\u001b[0m\u001b[0;34m,\u001b[0m \u001b[0momega\u001b[0m\u001b[0;34m,\u001b[0m \u001b[0mn\u001b[0m\u001b[0;34m]\u001b[0m \u001b[0;34m=\u001b[0m \u001b[0mparams\u001b[0m\u001b[0;34m\u001b[0m\u001b[0;34m\u001b[0m\u001b[0m\n\u001b[1;32m     11\u001b[0m \u001b[0;34m[\u001b[0m\u001b[0mC\u001b[0m\u001b[0;34m,\u001b[0m \u001b[0mA\u001b[0m\u001b[0;34m,\u001b[0m \u001b[0mD\u001b[0m \u001b[0;34m,\u001b[0m \u001b[0mLambda\u001b[0m\u001b[0;34m]\u001b[0m \u001b[0;34m=\u001b[0m \u001b[0mbuild_matrix_from_params\u001b[0m\u001b[0;34m(\u001b[0m\u001b[0mparams\u001b[0m\u001b[0;34m)\u001b[0m\u001b[0;34m\u001b[0m\u001b[0;34m\u001b[0m\u001b[0m\n",
      "\u001b[0;32m~/Desktop/continuous/misc.py\u001b[0m in \u001b[0;36mload_data\u001b[0;34m(exp_path, itraj, ppp, periods, rppp, method)\u001b[0m\n\u001b[1;32m     48\u001b[0m     \u001b[0mpath\u001b[0m \u001b[0;34m+=\u001b[0m \u001b[0mget_path_config\u001b[0m\u001b[0;34m(\u001b[0m\u001b[0mperiods\u001b[0m \u001b[0;34m=\u001b[0m \u001b[0mperiods\u001b[0m\u001b[0;34m,\u001b[0m \u001b[0mppp\u001b[0m\u001b[0;34m=\u001b[0m \u001b[0mppp\u001b[0m\u001b[0;34m,\u001b[0m \u001b[0mrppp\u001b[0m\u001b[0;34m=\u001b[0m\u001b[0mrppp\u001b[0m\u001b[0;34m,\u001b[0m \u001b[0mmethod\u001b[0m\u001b[0;34m=\u001b[0m\u001b[0mmethod\u001b[0m\u001b[0;34m,\u001b[0m \u001b[0mitraj\u001b[0m\u001b[0;34m=\u001b[0m\u001b[0mitraj\u001b[0m\u001b[0;34m)\u001b[0m\u001b[0;34m\u001b[0m\u001b[0;34m\u001b[0m\u001b[0m\n\u001b[1;32m     49\u001b[0m \u001b[0;34m\u001b[0m\u001b[0m\n\u001b[0;32m---> 50\u001b[0;31m     \u001b[0mtimes\u001b[0m \u001b[0;34m=\u001b[0m \u001b[0mnp\u001b[0m\u001b[0;34m.\u001b[0m\u001b[0mload\u001b[0m\u001b[0;34m(\u001b[0m\u001b[0mpath\u001b[0m\u001b[0;34m+\u001b[0m\u001b[0;34m\"times.npy\"\u001b[0m\u001b[0;34m,\u001b[0m \u001b[0mallow_pickle\u001b[0m\u001b[0;34m=\u001b[0m\u001b[0;32mTrue\u001b[0m\u001b[0;34m)\u001b[0m\u001b[0;34m.\u001b[0m\u001b[0mastype\u001b[0m\u001b[0;34m(\u001b[0m\u001b[0mnp\u001b[0m\u001b[0;34m.\u001b[0m\u001b[0mfloat32\u001b[0m\u001b[0;34m)\u001b[0m \u001b[0;31m### this is \\textbf{q}(t)\u001b[0m\u001b[0;34m\u001b[0m\u001b[0;34m\u001b[0m\u001b[0m\n\u001b[0m\u001b[1;32m     51\u001b[0m     \u001b[0mstates\u001b[0m \u001b[0;34m=\u001b[0m \u001b[0mnp\u001b[0m\u001b[0;34m.\u001b[0m\u001b[0mload\u001b[0m\u001b[0;34m(\u001b[0m\u001b[0mpath\u001b[0m\u001b[0;34m+\u001b[0m\u001b[0;34m\"states.npy\"\u001b[0m\u001b[0;34m,\u001b[0m \u001b[0mallow_pickle\u001b[0m\u001b[0;34m=\u001b[0m\u001b[0;32mTrue\u001b[0m\u001b[0;34m)\u001b[0m\u001b[0;34m.\u001b[0m\u001b[0mastype\u001b[0m\u001b[0;34m(\u001b[0m\u001b[0mnp\u001b[0m\u001b[0;34m.\u001b[0m\u001b[0mfloat32\u001b[0m\u001b[0;34m)\u001b[0m \u001b[0;31m### this is \\textbf{q}(t)\u001b[0m\u001b[0;34m\u001b[0m\u001b[0;34m\u001b[0m\u001b[0m\n\u001b[1;32m     52\u001b[0m     \u001b[0mcovs\u001b[0m \u001b[0;34m=\u001b[0m \u001b[0mnp\u001b[0m\u001b[0;34m.\u001b[0m\u001b[0mload\u001b[0m\u001b[0;34m(\u001b[0m\u001b[0mpath\u001b[0m\u001b[0;34m+\u001b[0m\u001b[0;34m\"covs.npy\"\u001b[0m\u001b[0;34m,\u001b[0m \u001b[0mallow_pickle\u001b[0m\u001b[0;34m=\u001b[0m\u001b[0;32mTrue\u001b[0m\u001b[0;34m)\u001b[0m\u001b[0;34m.\u001b[0m\u001b[0mastype\u001b[0m\u001b[0;34m(\u001b[0m\u001b[0mnp\u001b[0m\u001b[0;34m.\u001b[0m\u001b[0mfloat32\u001b[0m\u001b[0;34m)\u001b[0m \u001b[0;31m## this is the \\Sigma(t)\u001b[0m\u001b[0;34m\u001b[0m\u001b[0;34m\u001b[0m\u001b[0m\n",
      "\u001b[0;32m~/.local/lib/python3.6/site-packages/numpy/lib/npyio.py\u001b[0m in \u001b[0;36mload\u001b[0;34m(file, mmap_mode, allow_pickle, fix_imports, encoding)\u001b[0m\n\u001b[1;32m    414\u001b[0m             \u001b[0mown_fid\u001b[0m \u001b[0;34m=\u001b[0m \u001b[0;32mFalse\u001b[0m\u001b[0;34m\u001b[0m\u001b[0;34m\u001b[0m\u001b[0m\n\u001b[1;32m    415\u001b[0m         \u001b[0;32melse\u001b[0m\u001b[0;34m:\u001b[0m\u001b[0;34m\u001b[0m\u001b[0;34m\u001b[0m\u001b[0m\n\u001b[0;32m--> 416\u001b[0;31m             \u001b[0mfid\u001b[0m \u001b[0;34m=\u001b[0m \u001b[0mstack\u001b[0m\u001b[0;34m.\u001b[0m\u001b[0menter_context\u001b[0m\u001b[0;34m(\u001b[0m\u001b[0mopen\u001b[0m\u001b[0;34m(\u001b[0m\u001b[0mos_fspath\u001b[0m\u001b[0;34m(\u001b[0m\u001b[0mfile\u001b[0m\u001b[0;34m)\u001b[0m\u001b[0;34m,\u001b[0m \u001b[0;34m\"rb\"\u001b[0m\u001b[0;34m)\u001b[0m\u001b[0;34m)\u001b[0m\u001b[0;34m\u001b[0m\u001b[0;34m\u001b[0m\u001b[0m\n\u001b[0m\u001b[1;32m    417\u001b[0m             \u001b[0mown_fid\u001b[0m \u001b[0;34m=\u001b[0m \u001b[0;32mTrue\u001b[0m\u001b[0;34m\u001b[0m\u001b[0;34m\u001b[0m\u001b[0m\n\u001b[1;32m    418\u001b[0m \u001b[0;34m\u001b[0m\u001b[0m\n",
      "\u001b[0;31mFileNotFoundError\u001b[0m: [Errno 2] No such file or directory: \"../quantera/trajectories/'[1, 0.3, 1, 6.283185307179586, 2]'/1itraj/rossler_real_traj_method/1periods/10ppp/1rppp/times.npy\""
     ]
    }
   ],
   "source": [
    "\n",
    "exp_path = params_to_string(params) + \"/\"\n",
    "\n",
    "states, covs, signals, params, times = load_data(ppp=ppp, periods=periods, method=method, itraj=itraj, exp_path = exp_path, rppp=1)\n",
    "[eta, gamma, kappa, omega, n] = params\n",
    "[C, A, D , Lambda] = build_matrix_from_params(params)\n",
    "\n",
    "\n",
    "xi = lambda cov,D: np.dot(cov, ct(C)) + ct(Lambda)\n",
    "\n",
    "def evolve_simu_state(x,cov, dy, simu_A, internal_step):\n",
    "    XiCov = xi(cov, D)\n",
    "    dx = np.dot(simu_A-np.dot(XiCov,C),x)*internal_step  + np.dot(XiCov,dy)\n",
    "    dcov = (np.dot(simu_A,cov) + np.dot(cov, ct(simu_A)) + D - np.dot(XiCov.T, XiCov))*internal_step\n",
    "    return [x + dx, cov + dcov]\n",
    "\n",
    "simu_states, simu_covs = {}, {}\n",
    "\n",
    "omegas = list(set([omega] + list(np.linspace(0, 2*omega, 10))))\n",
    "\n",
    "\n",
    "remainder = (len(times)%euler_rppp)\n",
    "if remainder > 0:\n",
    "    tspan = times[:-remainder] #this is so we can split evenly\n",
    "    signals_jump = signals[:-remainder]\n",
    "else:\n",
    "    tspan = times\n",
    "    signals_jump = signals\n",
    "\n",
    "#signals_jump = signals_jump[::euler_rppp]\n",
    "signals_jump = [np.sum(signals_jump[k:(k+euler_rppp)]) for k in int(len(times)/euler_rppp)  ]"
   ]
  },
  {
   "cell_type": "code",
   "execution_count": 10,
   "id": "listed-admission",
   "metadata": {},
   "outputs": [],
   "source": [
    "states, covs, signals, params, times = load_data(ppp=ppp, periods=periods, method=method, itraj=itraj, path=get_def_path() + \"rppp{}/\".format(rppp))\n",
    "[eta, gamma, kappa, omega, n] = params\n",
    "[C, A, D , Lambda] = build_matrix_from_params(params)\n",
    "\n",
    "\n",
    "xi = lambda cov,D: np.dot(cov, ct(C)) + ct(Lambda)\n",
    "\n",
    "def evolve_simu_state(x,cov, dy, simu_A, internal_step):\n",
    "    XiCov = xi(cov, D)\n",
    "    dx = np.dot(simu_A-np.dot(XiCov,C),x)*internal_step  + np.dot(XiCov,dy)\n",
    "    dcov = (np.dot(simu_A,cov) + np.dot(cov, ct(simu_A)) + D - np.dot(XiCov.T, XiCov))*internal_step\n",
    "    return [x + dx, cov + dcov]\n",
    "\n",
    "simu_states, simu_covs = {}, {}\n",
    "\n",
    "omegas = list(set([omega] + list(np.linspace(0, 2*omega, 10))))\n",
    "\n",
    "\n",
    "remainder = (len(times)%euler_rppp)\n",
    "if remainder > 0:\n",
    "    tspan = times[:-remainder] #this is so we can split evenly\n",
    "    signals_jump = signals[:-remainder]\n",
    "else:\n",
    "    tspan = times\n",
    "    signals_jump = signals\n",
    "    \n",
    "signals_jump = signals_jump[::euler_rppp]\n",
    "\n",
    "dt = (1/ppp)*euler_rppp\n",
    "\n",
    "for ind_simu_omega, simu_omega in tqdm(enumerate(omegas)):\n",
    "    simu_A = np.array([[-.5*gamma, simu_omega], [-simu_omega, -0.5*gamma]])\n",
    "\n",
    "    simu_states[simu_omega] = [states[0]]\n",
    "    simu_covs[simu_omega] = [covs[0]]\n",
    "\n",
    "    for ind,dy in enumerate(tqdm(signals_jump)):\n",
    "        simu = evolve_simu_state(simu_states[simu_omega][-1], simu_covs[simu_omega][-1], dy, simu_A,  dt)\n",
    "        simu_states[simu_omega].append(simu[0])\n",
    "        simu_covs[simu_omega].append(simu[1])\n",
    "        \n",
    "path_kalman_dt =get_def_path()+\"{}rppp/{}periods/{}ppp/{}/kalman_dt/euler_rppp{}/\".format(rppp,periods,ppp,itraj,euler_rppp)\n",
    "\n",
    "os.makedirs(path_kalman_dt,exist_ok=True)\n",
    "os.makedirs(path_kalman_dt+\"states/\",exist_ok=True)\n",
    "\n",
    "for ind_simu_omega, simu_omega in enumerate(omegas):\n",
    "    np.save(path_kalman_dt+\"states/states{}\".format(ind_simu_omega),np.array(simu_states[simu_omega]))\n",
    "    np.save(path_kalman_dt+\"states/covs{}\".format(ind_simu_omega),np.array(simu_covs[simu_omega]))\n",
    "    \n",
    "np.save(path_kalman_dt+\"omegas\",omegas)\n"
   ]
  },
  {
   "cell_type": "code",
   "execution_count": 25,
   "id": "adolescent-tradition",
   "metadata": {},
   "outputs": [],
   "source": []
  },
  {
   "cell_type": "code",
   "execution_count": 26,
   "id": "norman-supervision",
   "metadata": {},
   "outputs": [
    {
     "data": {
      "text/plain": [
       "array([[ 1.        ,  0.        ],\n",
       "       [ 1.05314279, -0.01396263],\n",
       "       [ 0.98467462, -0.02864634],\n",
       "       ...,\n",
       "       [ 0.09661878, -0.01124727],\n",
       "       [ 0.11195942, -0.00859338],\n",
       "       [ 0.05885467, -0.023587  ]])"
      ]
     },
     "execution_count": 26,
     "metadata": {},
     "output_type": "execute_result"
    }
   ],
   "source": [
    "np.load(path_kalman_dt+\"states/states{}.npy\".format(1))"
   ]
  },
  {
   "cell_type": "code",
   "execution_count": null,
   "id": "designed-davis",
   "metadata": {},
   "outputs": [],
   "source": [
    "or_states, covs, signals, params, times = load_data(ppp=ppp, periods=periods, method=method, itraj=itraj, path=get_def_path() + \"rppp{}/\".format(rppp))\n",
    "[eta, gamma, kappa, omega, n] = params\n",
    "[C, A, D , Lambda] = build_matrix_from_params(params)"
   ]
  },
  {
   "cell_type": "markdown",
   "id": "awful-graduation",
   "metadata": {},
   "source": [
    "falta poner timestep timetrace"
   ]
  },
  {
   "cell_type": "code",
   "execution_count": null,
   "id": "hundred-change",
   "metadata": {},
   "outputs": [],
   "source": []
  }
 ],
 "metadata": {
  "kernelspec": {
   "display_name": "Python 3",
   "language": "python",
   "name": "python3"
  },
  "language_info": {
   "codemirror_mode": {
    "name": "ipython",
    "version": 3
   },
   "file_extension": ".py",
   "mimetype": "text/x-python",
   "name": "python",
   "nbconvert_exporter": "python",
   "pygments_lexer": "ipython3",
   "version": "3.6.9"
  }
 },
 "nbformat": 4,
 "nbformat_minor": 5
}
