{
 "cells": [
  {
   "cell_type": "code",
   "execution_count": 2,
   "id": "optimum-explanation",
   "metadata": {},
   "outputs": [],
   "source": [
    "import matplotlib.pyplot as plt \n",
    "from misc import *\n",
    "import tensorflow as tf\n",
    "from tqdm import tqdm\n",
    "import os \n",
    "from RNN_models import *\n",
    "\n",
    "\n",
    "%load_ext autoreload\n",
    "%autoreload 2"
   ]
  },
  {
   "cell_type": "code",
   "execution_count": 3,
   "id": "variable-basic",
   "metadata": {},
   "outputs": [],
   "source": [
    "from misc import load_data, get_def_path\n",
    "\n",
    "periods = 10\n",
    "ppp=1000\n",
    "defpath = get_def_path()\n",
    "path = defpath+\"{}periods/{}ppp/\".format(periods,ppp)\n"
   ]
  },
  {
   "cell_type": "code",
   "execution_count": 4,
   "id": "valid-hunter",
   "metadata": {},
   "outputs": [],
   "source": [
    "means, covs, signals, coeffs = load_data(path)\n",
    "tfsignals = tf.convert_to_tensor(signals)[tf.newaxis]\n",
    "A,dt,C,D = coeffs"
   ]
  },
  {
   "cell_type": "code",
   "execution_count": 5,
   "id": "apparent-marker",
   "metadata": {},
   "outputs": [
    {
     "data": {
      "text/plain": [
       "[<matplotlib.lines.Line2D at 0x7fd6b82c7a58>]"
      ]
     },
     "execution_count": 5,
     "metadata": {},
     "output_type": "execute_result"
    },
    {
     "data": {
      "image/png": "[encoded data removed]",
      "text/plain": [
       "<Figure size 432x288 with 1 Axes>"
      ]
     },
     "metadata": {
      "needs_background": "light"
     },
     "output_type": "display_data"
    }
   ],
   "source": [
    "times = np.linspace(0,periods*2*np.pi, periods*ppp+1)\n",
    "total_time = times[-1]\n",
    "plt.plot(times, means[:,0])"
   ]
  },
  {
   "cell_type": "code",
   "execution_count": 6,
   "id": "seasonal-honolulu",
   "metadata": {},
   "outputs": [
    {
     "data": {
      "text/plain": [
       "<tf.Tensor: shape=(1, 10, 2), dtype=float32, numpy=\n",
       "array([[[ 0.01256637,  0.        ],\n",
       "        [ 0.01382301, -0.00125664],\n",
       "        [ 0.01256637, -0.00251327],\n",
       "        [ 0.01382301, -0.00376991],\n",
       "        [ 0.01507965, -0.00502655],\n",
       "        [ 0.01633628, -0.00628319],\n",
       "        [ 0.01759292, -0.00753982],\n",
       "        [ 0.0173087 , -0.00879646],\n",
       "        [ 0.01856534, -0.0100531 ],\n",
       "        [ 0.0189236 , -0.01130973]]], dtype=float32)>"
      ]
     },
     "execution_count": 6,
     "metadata": {},
     "output_type": "execute_result"
    }
   ],
   "source": [
    "rmodel = GRNNmodel([C,D,dt, total_time], cov_in=tf.convert_to_tensor(covs[0].astype(np.float32)), stateful=False)\n",
    "rmodel.compile(optimizer=tf.keras.optimizers.Adam(lr=0.01))\n",
    "rmodel.recurrent_layer(tfsignals[:,:10,:], initial_state=rmodel.initial_state)\n",
    "#rmodel.trainable_variables[0].assign(tf.convert_to_tensor(A.astype(np.float32)))\n",
    "\n"
   ]
  },
  {
   "cell_type": "code",
   "execution_count": null,
   "id": "driven-glass",
   "metadata": {},
   "outputs": [],
   "source": []
  },
  {
   "cell_type": "code",
   "execution_count": null,
   "id": "identical-usage",
   "metadata": {},
   "outputs": [],
   "source": []
  },
  {
   "cell_type": "code",
   "execution_count": null,
   "id": "irish-translator",
   "metadata": {},
   "outputs": [],
   "source": []
  },
  {
   "cell_type": "code",
   "execution_count": null,
   "id": "marked-application",
   "metadata": {},
   "outputs": [
    {
     "name": "stdout",
     "output_type": "stream",
     "text": [
      "Epoch 1/100\n",
      "1/1 [==============================] - 0s 1ms/step - total_loss: 3.3104e-04 - Coeffs_A: -0.0101 - grads: 2.1450e-05\n",
      "Epoch 2/100\n",
      "1/1 [==============================] - 0s 1ms/step - total_loss: 3.2994e-04 - Coeffs_A: -0.0148 - grads: 2.1220e-05\n",
      "Epoch 3/100\n",
      "1/1 [==============================] - 0s 1ms/step - total_loss: 3.2882e-04 - Coeffs_A: -0.0196 - grads: 2.0941e-05\n",
      "Epoch 4/100\n",
      "1/1 [==============================] - 0s 1ms/step - total_loss: 3.2769e-04 - Coeffs_A: -0.0244 - grads: 2.0835e-05\n",
      "Epoch 5/100\n",
      "1/1 [==============================] - 0s 1ms/step - total_loss: 3.2656e-04 - Coeffs_A: -0.0293 - grads: 2.0599e-05\n",
      "Epoch 6/100\n",
      "1/1 [==============================] - 0s 1ms/step - total_loss: 3.2544e-04 - Coeffs_A: -0.0341 - grads: 2.0259e-05\n",
      "Epoch 7/100\n",
      "1/1 [==============================] - 0s 1ms/step - total_loss: 3.2432e-04 - Coeffs_A: -0.0389 - grads: 1.9907e-05\n",
      "Epoch 8/100\n"
     ]
    }
   ],
   "source": [
    "\n",
    "history = rmodel.fit(x=tfsignals, y=tfsignals, \n",
    "                     epochs = 10**2, callbacks = [tf.keras.callbacks.EarlyStopping(monitor='total_loss', \n",
    "                                                                                   min_delta=0, patience=500,\n",
    "                                                                                   verbose=0,\n",
    "                                                                                   mode='min')])\n",
    "\n"
   ]
  },
  {
   "cell_type": "code",
   "execution_count": 30,
   "id": "outer-cooperative",
   "metadata": {},
   "outputs": [
    {
     "data": {
      "text/plain": [
       "[<tf.Variable 'rnn/stacked_rnn_cells/rcell/kernel:0' shape=(2, 2) dtype=float32, numpy=\n",
       " array([[-0.6771794 ,  0.917597  ],\n",
       "        [-0.9310472 , -0.63289887]], dtype=float32)>]"
      ]
     },
     "execution_count": 30,
     "metadata": {},
     "output_type": "execute_result"
    }
   ],
   "source": [
    "rmodel.trainable_variables"
   ]
  },
  {
   "cell_type": "code",
   "execution_count": 31,
   "id": "sudden-spending",
   "metadata": {},
   "outputs": [],
   "source": [
    "histories = rmodel.history.history\n",
    "#keys_histories = list(histories.keys())\n",
    "#for k,v, in histories.items():\n",
    " #   np.save(train_path+\"{}\".format(k), v, allow_pickle=True)\n"
   ]
  },
  {
   "cell_type": "code",
   "execution_count": 34,
   "id": "guilty-sheriff",
   "metadata": {},
   "outputs": [
    {
     "data": {
      "text/plain": [
       "[<matplotlib.lines.Line2D at 0x7f48b4345a58>]"
      ]
     },
     "execution_count": 34,
     "metadata": {},
     "output_type": "execute_result"
    },
    {
     "data": {
      "image/png": "[encoded data removed]",
      "text/plain": [
       "<Figure size 432x288 with 1 Axes>"
      ]
     },
     "metadata": {
      "needs_background": "light"
     },
     "output_type": "display_data"
    }
   ],
   "source": [
    "plt.plot(histories[\"total_loss\"])"
   ]
  },
  {
   "cell_type": "code",
   "execution_count": null,
   "id": "blond-craft",
   "metadata": {},
   "outputs": [],
   "source": []
  }
 ],
 "metadata": {
  "kernelspec": {
   "display_name": "Python 3",
   "language": "python",
   "name": "python3"
  },
  "language_info": {
   "codemirror_mode": {
    "name": "ipython",
    "version": 3
   },
   "file_extension": ".py",
   "mimetype": "text/x-python",
   "name": "python",
   "nbconvert_exporter": "python",
   "pygments_lexer": "ipython3",
   "version": "3.6.9"
  }
 },
 "nbformat": 4,
 "nbformat_minor": 5
}
