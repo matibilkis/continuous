{
 "cells": [
  {
   "cell_type": "code",
   "execution_count": 1,
   "id": "english-madness",
   "metadata": {},
   "outputs": [],
   "source": [
    "%load_ext autoreload\n",
    "%autoreload 2\n",
    "\n",
    "import sympy as s\n",
    "import numpy as np"
   ]
  },
  {
   "cell_type": "code",
   "execution_count": 4,
   "id": "requested-record",
   "metadata": {},
   "outputs": [],
   "source": [
    "gamma = s.Symbol(\"gamma\")\n",
    "omega = s.Symbol(\"omega\") #freq harmonic oscillator\n",
    "eta = s.Symbol(\"eta\") #efficiency measurement (appearing in the CPTP decomposiion X,Y)\n",
    "kappa = s.Symbol(\"kappa\") #efficiency measurement (appearing in the CPTP decomposiion X,Y)\n",
    "n = s.Symbol(\"n\") #n_th\n",
    "\n",
    "Omega = s.Matrix(np.array([[0,1],[-1,0]])) ##Simplectic matrix"
   ]
  },
  {
   "cell_type": "code",
   "execution_count": 5,
   "id": "integrated-flavor",
   "metadata": {},
   "outputs": [],
   "source": [
    "Cint = -s.sqrt(gamma)*Omega # -\\ii \\Sigma_y\n",
    "\n",
    "aint = Omega*Cint*Omega*(Cint.T)/2\n",
    "Hs = s.eye(2)*omega\n",
    "asys = Omega*Hs\n",
    "A_matrix = aint + asys ##drift matrix\n",
    "#D_matrix = Omega*Cint*sigma_b*(Omega*Cint).T  #difussion matrix\n",
    "D_matrix = s.Matrix(np.diag([gamma*(n + 0.5)]*2))\n",
    "Gamma_matrix = s.Matrix(np.zeros((2,2)))\n",
    "C_matrix = s.Matrix(np.array([[s.sqrt(2*eta*kappa),0],[0,0]]))"
   ]
  },
  {
   "cell_type": "code",
   "execution_count": 8,
   "id": "accessible-cleaners",
   "metadata": {},
   "outputs": [],
   "source": [
    "varx, varp, covxp = [s.Symbol(k) for k in [\"varx\",\"varp\",\"covxp\"]]\n",
    "cov = s.Matrix([[varx, covxp],[covxp, varp]])\n",
    "\n",
    "ChiCov = cov*C_matrix.T + Gamma_matrix.T"
   ]
  },
  {
   "cell_type": "code",
   "execution_count": 9,
   "id": "announced-question",
   "metadata": {},
   "outputs": [
    {
     "data": {
      "text/plain": [
       "[(-2*covxp**2*eta*kappa + 2*covxp*omega - gamma*varx + gamma*(n + 0.5) - 2*varx**2*eta*kappa,\n",
       "  -covxp*gamma + omega*varp - omega*varx,\n",
       "  -2*covxp*omega - gamma*varp + gamma*(n + 0.5))]"
      ]
     },
     "execution_count": 9,
     "metadata": {},
     "output_type": "execute_result"
    }
   ],
   "source": [
    "dots = np.array(A_matrix*cov + cov*A_matrix.T + D_matrix - ChiCov.T*ChiCov)\n",
    "ders = dots[0,0], dots[0,1], dots[1,1]\n",
    "[ders]"
   ]
  },
  {
   "cell_type": "code",
   "execution_count": null,
   "id": "initial-measure",
   "metadata": {},
   "outputs": [],
   "source": []
  },
  {
   "cell_type": "code",
   "execution_count": 6,
   "id": "endless-childhood",
   "metadata": {},
   "outputs": [
    {
     "name": "stdout",
     "output_type": "stream",
     "text": [
      "Matrix([[-sqrt(gamma)*pb*xs + sqrt(gamma)*ps*xb]])\n"
     ]
    }
   ],
   "source": [
    "## interaction hamiltonian between the train of modes being measured and system\n",
    "\n",
    "Cint = -s.sqrt(gamma)*Omega # -\\ii \\Sigma_y\n",
    "s.Matrix(Omega)*(s.Matrix(Cint))\n",
    "Hint = np.block([[s.zeros(2), Cint], [Cint.T, s.zeros(2)]])/2\n",
    "\n",
    "xs, ps, xb, pb = s.Symbol(\"xs\"), s.Symbol(\"ps\"), s.Symbol(\"xb\"), s.Symbol(\"pb\")\n",
    "\n",
    "print((s.Matrix([xs,ps,xb,pb]).T)*Hint*s.Matrix([xs,ps,xb,pb])) #BS splitter\n",
    "aint = Omega*Cint*Omega*(Cint.T)/2\n",
    "Hs = s.eye(2)*omega\n",
    "asys = Omega*Hs\n"
   ]
  },
  {
   "cell_type": "code",
   "execution_count": 7,
   "id": "breathing-assets",
   "metadata": {},
   "outputs": [],
   "source": [
    "#noisy heterodyne measurement\n",
    "S = s.eye(2) \n",
    "sigma_m = S*(S.T)\n",
    "##lossy part\n",
    "Xstar = s.eye(2)/s.sqrt(eta)\n",
    "Ystar = s.eye(2)*(1-eta)/eta\n",
    "sigma_noisy_m = Xstar*(sigma_m)*(Xstar.T) + Ystar\n",
    "\n",
    "# state of B, subsystem being measured\n",
    "sigma_b = (2*N +1)*s.eye(2)\n",
    "\n",
    "Gamma_matrix = Omega*Cint*sigma_b   #auxiliar matrix for the ricatti\n",
    "\n",
    "C_matrix = (Cint*Omega*(sigma_b + sigma_noisy_m)**(-1/2)).T"
   ]
  },
  {
   "cell_type": "markdown",
   "id": "other-munich",
   "metadata": {},
   "source": [
    " Ricatti equation for covariance"
   ]
  },
  {
   "cell_type": "code",
   "execution_count": 13,
   "id": "grateful-vocabulary",
   "metadata": {},
   "outputs": [
    {
     "data": {
      "text/latex": [
       "$\\displaystyle \\left[\\begin{matrix}- \\frac{\\gamma}{2} & \\omega\\\\- \\omega & - \\frac{\\gamma}{2}\\end{matrix}\\right]$"
      ],
      "text/plain": [
       "Matrix([\n",
       "[-gamma/2,    omega],\n",
       "[  -omega, -gamma/2]])"
      ]
     },
     "execution_count": 13,
     "metadata": {},
     "output_type": "execute_result"
    }
   ],
   "source": [
    "A_matrix"
   ]
  },
  {
   "cell_type": "code",
   "execution_count": 14,
   "id": "received-prairie",
   "metadata": {},
   "outputs": [],
   "source": [
    "from scipy.linalg import solve_continuous_are\n",
    "A_tilde_matrix = A_matrix - (Omega*Cint*sigma_b*((sigma_b + sigma_noisy_m)**(-1))*Omega*Cint.T   )\n",
    "D_tilde_matrix = D_matrix + (Omega*Cint*sigma_b*((sigma_b + sigma_noisy_m)**(-1))*sigma_b*Cint.T*Omega)\n",
    "B_matrix = Cint*Omega*(sigma_b + sigma_noisy_m)**(-1/2)"
   ]
  },
  {
   "cell_type": "code",
   "execution_count": 15,
   "id": "scientific-security",
   "metadata": {},
   "outputs": [
    {
     "ename": "TypeError",
     "evalue": "can't convert expression to float",
     "output_type": "error",
     "traceback": [
      "\u001b[0;31m---------------------------------------------------------------------------\u001b[0m",
      "\u001b[0;31mTypeError\u001b[0m                                 Traceback (most recent call last)",
      "\u001b[0;32m<ipython-input-15-cae9bf0f5362>\u001b[0m in \u001b[0;36m<module>\u001b[0;34m\u001b[0m\n\u001b[0;32m----> 1\u001b[0;31m \u001b[0mAr\u001b[0m\u001b[0;34m,\u001b[0m \u001b[0mBr\u001b[0m\u001b[0;34m,\u001b[0m \u001b[0mDr\u001b[0m \u001b[0;34m=\u001b[0m \u001b[0;34m[\u001b[0m\u001b[0mnp\u001b[0m\u001b[0;34m.\u001b[0m\u001b[0marray\u001b[0m\u001b[0;34m(\u001b[0m\u001b[0mk\u001b[0m\u001b[0;34m.\u001b[0m\u001b[0msubs\u001b[0m\u001b[0;34m(\u001b[0m\u001b[0;34m{\u001b[0m\u001b[0momega\u001b[0m\u001b[0;34m:\u001b[0m\u001b[0;36m2\u001b[0m\u001b[0;34m*\u001b[0m\u001b[0mnp\u001b[0m\u001b[0;34m.\u001b[0m\u001b[0mpi\u001b[0m\u001b[0;34m,\u001b[0m \u001b[0mN\u001b[0m\u001b[0;34m:\u001b[0m\u001b[0;36m2\u001b[0m\u001b[0;34m,\u001b[0m \u001b[0meta\u001b[0m\u001b[0;34m:\u001b[0m\u001b[0;36m0.8\u001b[0m\u001b[0;34m}\u001b[0m\u001b[0;34m)\u001b[0m\u001b[0;34m)\u001b[0m\u001b[0;34m.\u001b[0m\u001b[0mastype\u001b[0m\u001b[0;34m(\u001b[0m\u001b[0mnp\u001b[0m\u001b[0;34m.\u001b[0m\u001b[0mfloat32\u001b[0m\u001b[0;34m)\u001b[0m \u001b[0;32mfor\u001b[0m \u001b[0mk\u001b[0m \u001b[0;32min\u001b[0m \u001b[0;34m[\u001b[0m\u001b[0mA_tilde_matrix\u001b[0m\u001b[0;34m,\u001b[0m \u001b[0mB_matrix\u001b[0m\u001b[0;34m,\u001b[0m \u001b[0mD_tilde_matrix\u001b[0m\u001b[0;34m]\u001b[0m\u001b[0;34m]\u001b[0m\u001b[0;34m\u001b[0m\u001b[0;34m\u001b[0m\u001b[0m\n\u001b[0m",
      "\u001b[0;32m<ipython-input-15-cae9bf0f5362>\u001b[0m in \u001b[0;36m<listcomp>\u001b[0;34m(.0)\u001b[0m\n\u001b[0;32m----> 1\u001b[0;31m \u001b[0mAr\u001b[0m\u001b[0;34m,\u001b[0m \u001b[0mBr\u001b[0m\u001b[0;34m,\u001b[0m \u001b[0mDr\u001b[0m \u001b[0;34m=\u001b[0m \u001b[0;34m[\u001b[0m\u001b[0mnp\u001b[0m\u001b[0;34m.\u001b[0m\u001b[0marray\u001b[0m\u001b[0;34m(\u001b[0m\u001b[0mk\u001b[0m\u001b[0;34m.\u001b[0m\u001b[0msubs\u001b[0m\u001b[0;34m(\u001b[0m\u001b[0;34m{\u001b[0m\u001b[0momega\u001b[0m\u001b[0;34m:\u001b[0m\u001b[0;36m2\u001b[0m\u001b[0;34m*\u001b[0m\u001b[0mnp\u001b[0m\u001b[0;34m.\u001b[0m\u001b[0mpi\u001b[0m\u001b[0;34m,\u001b[0m \u001b[0mN\u001b[0m\u001b[0;34m:\u001b[0m\u001b[0;36m2\u001b[0m\u001b[0;34m,\u001b[0m \u001b[0meta\u001b[0m\u001b[0;34m:\u001b[0m\u001b[0;36m0.8\u001b[0m\u001b[0;34m}\u001b[0m\u001b[0;34m)\u001b[0m\u001b[0;34m)\u001b[0m\u001b[0;34m.\u001b[0m\u001b[0mastype\u001b[0m\u001b[0;34m(\u001b[0m\u001b[0mnp\u001b[0m\u001b[0;34m.\u001b[0m\u001b[0mfloat32\u001b[0m\u001b[0;34m)\u001b[0m \u001b[0;32mfor\u001b[0m \u001b[0mk\u001b[0m \u001b[0;32min\u001b[0m \u001b[0;34m[\u001b[0m\u001b[0mA_tilde_matrix\u001b[0m\u001b[0;34m,\u001b[0m \u001b[0mB_matrix\u001b[0m\u001b[0;34m,\u001b[0m \u001b[0mD_tilde_matrix\u001b[0m\u001b[0;34m]\u001b[0m\u001b[0;34m]\u001b[0m\u001b[0;34m\u001b[0m\u001b[0;34m\u001b[0m\u001b[0m\n\u001b[0m",
      "\u001b[0;32m~/.local/lib/python3.6/site-packages/sympy/core/expr.py\u001b[0m in \u001b[0;36m__float__\u001b[0;34m(self)\u001b[0m\n\u001b[1;32m    323\u001b[0m         \u001b[0;32mif\u001b[0m \u001b[0mresult\u001b[0m\u001b[0;34m.\u001b[0m\u001b[0mis_number\u001b[0m \u001b[0;32mand\u001b[0m \u001b[0mresult\u001b[0m\u001b[0;34m.\u001b[0m\u001b[0mas_real_imag\u001b[0m\u001b[0;34m(\u001b[0m\u001b[0;34m)\u001b[0m\u001b[0;34m[\u001b[0m\u001b[0;36m1\u001b[0m\u001b[0;34m]\u001b[0m\u001b[0;34m:\u001b[0m\u001b[0;34m\u001b[0m\u001b[0;34m\u001b[0m\u001b[0m\n\u001b[1;32m    324\u001b[0m             \u001b[0;32mraise\u001b[0m \u001b[0mTypeError\u001b[0m\u001b[0;34m(\u001b[0m\u001b[0;34m\"can't convert complex to float\"\u001b[0m\u001b[0;34m)\u001b[0m\u001b[0;34m\u001b[0m\u001b[0;34m\u001b[0m\u001b[0m\n\u001b[0;32m--> 325\u001b[0;31m         \u001b[0;32mraise\u001b[0m \u001b[0mTypeError\u001b[0m\u001b[0;34m(\u001b[0m\u001b[0;34m\"can't convert expression to float\"\u001b[0m\u001b[0;34m)\u001b[0m\u001b[0;34m\u001b[0m\u001b[0;34m\u001b[0m\u001b[0m\n\u001b[0m\u001b[1;32m    326\u001b[0m \u001b[0;34m\u001b[0m\u001b[0m\n\u001b[1;32m    327\u001b[0m     \u001b[0;32mdef\u001b[0m \u001b[0m__complex__\u001b[0m\u001b[0;34m(\u001b[0m\u001b[0mself\u001b[0m\u001b[0;34m)\u001b[0m\u001b[0;34m:\u001b[0m\u001b[0;34m\u001b[0m\u001b[0;34m\u001b[0m\u001b[0m\n",
      "\u001b[0;31mTypeError\u001b[0m: can't convert expression to float"
     ]
    }
   ],
   "source": [
    "Ar, Br, Dr = [np.array(k.subs({omega:2*np.pi, N:2, eta:0.8})).astype(np.float32) for k in [A_tilde_matrix, B_matrix, D_tilde_matrix]]"
   ]
  },
  {
   "cell_type": "code",
   "execution_count": 164,
   "id": "sweet-happiness",
   "metadata": {},
   "outputs": [],
   "source": [
    "cov_stat = solve_continuous_are(Ar, Br, Dr, np.eye(2))"
   ]
  },
  {
   "cell_type": "code",
   "execution_count": 166,
   "id": "referenced-bruce",
   "metadata": {},
   "outputs": [],
   "source": [
    "varx, varp, covxp = [s.Symbol(k) for k in [\"varx\",\"varp\",\"covxp\"]]\n",
    "cov = s.Matrix([[varx, covxp],[covxp, varp]])"
   ]
  },
  {
   "cell_type": "code",
   "execution_count": 191,
   "id": "agricultural-circular",
   "metadata": {},
   "outputs": [
    {
     "data": {
      "text/plain": [
       "[(2*N + 2*covxp*omega + 2*varx*((2*N + 1)/(2*N + 1 + (1 - eta)/eta + 1/eta) - 1/2) - (2*N + 1)**2/(2*N + 1 + (1 - eta)/eta + 1/eta) - (2*N + 1 + (1 - eta)/eta + 1/eta)**(-1.0) + 1,\n",
       "  2*covxp*((2*N + 1)/(2*N + 1 + (1 - eta)/eta + 1/eta) - 1/2) + omega*varp - omega*varx,\n",
       "  2*N - 2*covxp*omega + 2*varp*((2*N + 1)/(2*N + 1 + (1 - eta)/eta + 1/eta) - 1/2) - (2*N + 1)**2/(2*N + 1 + (1 - eta)/eta + 1/eta) - (2*N + 1 + (1 - eta)/eta + 1/eta)**(-1.0) + 1)]"
      ]
     },
     "execution_count": 191,
     "metadata": {},
     "output_type": "execute_result"
    }
   ],
   "source": [
    "varx, varp, covxp = [s.Symbol(k) for k in [\"varx\",\"varp\",\"covxp\"]]\n",
    "cov = s.Matrix([[varx, covxp],[covxp, varp]])\n",
    "\n",
    "dots = np.array(A_tilde_matrix*cov + cov*A_tilde_matrix.T + D_tilde_matrix - B_matrix*B_matrix.T)\n",
    "ders = dots[0,0], dots[0,1], dots[1,1]\n",
    "[ders]"
   ]
  },
  {
   "cell_type": "code",
   "execution_count": 49,
   "id": "super-gamma",
   "metadata": {},
   "outputs": [],
   "source": [
    "a = ders[0]"
   ]
  },
  {
   "cell_type": "code",
   "execution_count": 63,
   "id": "sustained-footage",
   "metadata": {},
   "outputs": [
    {
     "data": {
      "text/plain": [
       "'-2*covxp**2*eta*kappa + 2*covxp*omega - gamma*varx + gamma*(n + 0.5) - 2*varx**2*eta*kappa'"
      ]
     },
     "execution_count": 63,
     "metadata": {},
     "output_type": "execute_result"
    }
   ],
   "source": []
  },
  {
   "cell_type": "code",
   "execution_count": null,
   "id": "continent-velvet",
   "metadata": {},
   "outputs": [],
   "source": [
    "def Euler(ff, G, y0, tspan, dt,**kwargs):\n",
    "    exp = kwargs.get(\"exp\",False)\n",
    "    N = len(tspan)\n",
    "    y = np.zeros((N, len(y0)))\n",
    "    y[0] = y0\n",
    "\n",
    "    if exp is True:\n",
    "        dint = 1.\n",
    "    else:\n",
    "        dint= dt\n",
    "\n",
    "    for ind,t in enumerate(tqdm(tspan[:-1])):\n",
    "        #dW = np.random.normal(0,np.sqrt(dt), (7))\n",
    "        w0 = np.random.normal()*np.sqrt(dt)\n",
    "        w1 = np.random.normal()*np.sqrt(dt)\n",
    "        dW = np.array([w0, w1, w0, w1 , 0.,0.,0.])\n",
    "        y[ind+1] = y[ind] + ff(y[ind], t, exp=exp, dt=dt)*dint + np.dot(G(y[ind], t), dW)\n",
    "    return y"
   ]
  },
  {
   "cell_type": "code",
   "execution_count": 194,
   "id": "informal-section",
   "metadata": {},
   "outputs": [],
   "source": [
    "from integrate import *"
   ]
  },
  {
   "cell_type": "code",
   "execution_count": 202,
   "id": "technological-assist",
   "metadata": {},
   "outputs": [
    {
     "name": "stderr",
     "output_type": "stream",
     "text": [
      "  0%|          | 0/10000 [00:00<?, ?it/s]\n"
     ]
    },
    {
     "ename": "NameError",
     "evalue": "name 'A' is not defined",
     "output_type": "error",
     "traceback": [
      "\u001b[0;31m---------------------------------------------------------------------------\u001b[0m",
      "\u001b[0;31mNameError\u001b[0m                                 Traceback (most recent call last)",
      "\u001b[0;32m<ipython-input-202-9e3a67b7362f>\u001b[0m in \u001b[0;36m<module>\u001b[0;34m\u001b[0m\n\u001b[1;32m     26\u001b[0m \u001b[0mparams\u001b[0m \u001b[0;34m=\u001b[0m \u001b[0;34m[\u001b[0m\u001b[0meta\u001b[0m\u001b[0;34m,\u001b[0m \u001b[0mgamma\u001b[0m\u001b[0;34m,\u001b[0m \u001b[0momega\u001b[0m\u001b[0;34m,\u001b[0m \u001b[0mN\u001b[0m\u001b[0;34m]\u001b[0m\u001b[0;34m\u001b[0m\u001b[0;34m\u001b[0m\u001b[0m\n\u001b[1;32m     27\u001b[0m \u001b[0;34m\u001b[0m\u001b[0m\n\u001b[0;32m---> 28\u001b[0;31m \u001b[0msolution\u001b[0m \u001b[0;34m=\u001b[0m \u001b[0mRosslerSRI2\u001b[0m\u001b[0;34m(\u001b[0m\u001b[0mFs\u001b[0m\u001b[0;34m,\u001b[0m \u001b[0mGs\u001b[0m\u001b[0;34m,\u001b[0m \u001b[0ms0\u001b[0m\u001b[0;34m,\u001b[0m \u001b[0mtimes\u001b[0m\u001b[0;34m,\u001b[0m \u001b[0mdt\u001b[0m\u001b[0;34m)\u001b[0m\u001b[0;34m\u001b[0m\u001b[0;34m\u001b[0m\u001b[0m\n\u001b[0m",
      "\u001b[0;32m~/Desktop/continuous/integrate.py\u001b[0m in \u001b[0;36mRosslerSRI2\u001b[0;34m(f, G, y0, times, dt)\u001b[0m\n\u001b[1;32m     80\u001b[0m \u001b[0;34m\u001b[0m\u001b[0m\n\u001b[1;32m     81\u001b[0m     \u001b[0;32mfor\u001b[0m \u001b[0mind\u001b[0m\u001b[0;34m,\u001b[0m \u001b[0mt\u001b[0m \u001b[0;32min\u001b[0m \u001b[0menumerate\u001b[0m\u001b[0;34m(\u001b[0m\u001b[0mtqdm\u001b[0m\u001b[0;34m(\u001b[0m\u001b[0mtimes\u001b[0m\u001b[0;34m[\u001b[0m\u001b[0;34m:\u001b[0m\u001b[0;34m-\u001b[0m\u001b[0;36m1\u001b[0m\u001b[0;34m]\u001b[0m\u001b[0;34m)\u001b[0m\u001b[0;34m)\u001b[0m\u001b[0;34m:\u001b[0m\u001b[0;34m\u001b[0m\u001b[0;34m\u001b[0m\u001b[0m\n\u001b[0;32m---> 82\u001b[0;31m         \u001b[0my\u001b[0m\u001b[0;34m[\u001b[0m\u001b[0mind\u001b[0m\u001b[0;34m+\u001b[0m\u001b[0;36m1\u001b[0m\u001b[0;34m]\u001b[0m \u001b[0;34m=\u001b[0m \u001b[0mRosslerStep\u001b[0m\u001b[0;34m(\u001b[0m\u001b[0mt\u001b[0m\u001b[0;34m,\u001b[0m\u001b[0my\u001b[0m\u001b[0;34m[\u001b[0m\u001b[0mind\u001b[0m\u001b[0;34m]\u001b[0m\u001b[0;34m,\u001b[0m \u001b[0mdW\u001b[0m\u001b[0;34m[\u001b[0m\u001b[0mind\u001b[0m\u001b[0;34m,\u001b[0m\u001b[0;34m:\u001b[0m\u001b[0;34m]\u001b[0m\u001b[0;34m,\u001b[0m \u001b[0mI\u001b[0m\u001b[0;34m[\u001b[0m\u001b[0mind\u001b[0m\u001b[0;34m,\u001b[0m\u001b[0;34m:\u001b[0m\u001b[0;34m,\u001b[0m\u001b[0;34m:\u001b[0m\u001b[0;34m]\u001b[0m\u001b[0;34m,\u001b[0m \u001b[0mdt\u001b[0m\u001b[0;34m,\u001b[0m \u001b[0mf\u001b[0m\u001b[0;34m,\u001b[0m\u001b[0mG\u001b[0m\u001b[0;34m,\u001b[0m \u001b[0md\u001b[0m\u001b[0;34m)\u001b[0m\u001b[0;34m\u001b[0m\u001b[0;34m\u001b[0m\u001b[0m\n\u001b[0m\u001b[1;32m     83\u001b[0m     \u001b[0;32mreturn\u001b[0m \u001b[0my\u001b[0m\u001b[0;34m\u001b[0m\u001b[0;34m\u001b[0m\u001b[0m\n\u001b[1;32m     84\u001b[0m \u001b[0;34m\u001b[0m\u001b[0m\n",
      "\u001b[0;32m~/Desktop/continuous/steps.py\u001b[0m in \u001b[0;36mRosslerStep\u001b[0;34m(t, Yn, Ik, Iij, dt, f, G, d)\u001b[0m\n\u001b[1;32m     89\u001b[0m \u001b[0;31m#\u001b[0m\u001b[0;34m\u001b[0m\u001b[0;34m\u001b[0m\u001b[0;34m\u001b[0m\u001b[0m\n\u001b[1;32m     90\u001b[0m \u001b[0;31m#     Iij = I[ind,:,:] # shape (m, m)\u001b[0m\u001b[0;34m\u001b[0m\u001b[0;34m\u001b[0m\u001b[0;34m\u001b[0m\u001b[0m\n\u001b[0;32m---> 91\u001b[0;31m     \u001b[0mfnh\u001b[0m \u001b[0;34m=\u001b[0m \u001b[0mf\u001b[0m\u001b[0;34m(\u001b[0m\u001b[0mYn\u001b[0m\u001b[0;34m,\u001b[0m \u001b[0mt\u001b[0m\u001b[0;34m)\u001b[0m\u001b[0;34m*\u001b[0m\u001b[0mdt\u001b[0m \u001b[0;31m# shape (d,)\u001b[0m\u001b[0;34m\u001b[0m\u001b[0;34m\u001b[0m\u001b[0m\n\u001b[0m\u001b[1;32m     92\u001b[0m \u001b[0;34m\u001b[0m\u001b[0m\n\u001b[1;32m     93\u001b[0m     \u001b[0mGn\u001b[0m \u001b[0;34m=\u001b[0m \u001b[0mG\u001b[0m\u001b[0;34m(\u001b[0m\u001b[0mYn\u001b[0m\u001b[0;34m,\u001b[0m \u001b[0mt\u001b[0m\u001b[0;34m)\u001b[0m\u001b[0;34m\u001b[0m\u001b[0;34m\u001b[0m\u001b[0m\n",
      "\u001b[0;32m~/Desktop/continuous/integrate.py\u001b[0m in \u001b[0;36mFs\u001b[0;34m(s, t, exp, coeffs, params, dt)\u001b[0m\n\u001b[1;32m     90\u001b[0m         \u001b[0mxdot\u001b[0m \u001b[0;34m=\u001b[0m \u001b[0mnp\u001b[0m\u001b[0;34m.\u001b[0m\u001b[0mdot\u001b[0m\u001b[0;34m(\u001b[0m\u001b[0mExpA\u001b[0m\u001b[0;34m-\u001b[0m\u001b[0mnp\u001b[0m\u001b[0;34m.\u001b[0m\u001b[0meye\u001b[0m\u001b[0;34m(\u001b[0m\u001b[0;36m2\u001b[0m\u001b[0;34m)\u001b[0m\u001b[0;34m,\u001b[0m \u001b[0mx\u001b[0m\u001b[0;34m)\u001b[0m  \u001b[0;31m#evolution update (according to what you measure)\u001b[0m\u001b[0;34m\u001b[0m\u001b[0;34m\u001b[0m\u001b[0m\n\u001b[1;32m     91\u001b[0m     \u001b[0;32melse\u001b[0m\u001b[0;34m:\u001b[0m\u001b[0;34m\u001b[0m\u001b[0;34m\u001b[0m\u001b[0m\n\u001b[0;32m---> 92\u001b[0;31m         \u001b[0mxdot\u001b[0m \u001b[0;34m=\u001b[0m \u001b[0mnp\u001b[0m\u001b[0;34m.\u001b[0m\u001b[0mdot\u001b[0m\u001b[0;34m(\u001b[0m\u001b[0mA\u001b[0m\u001b[0;34m,\u001b[0m\u001b[0mx\u001b[0m\u001b[0;34m)\u001b[0m\u001b[0;34m\u001b[0m\u001b[0;34m\u001b[0m\u001b[0m\n\u001b[0m\u001b[1;32m     93\u001b[0m \u001b[0;34m\u001b[0m\u001b[0m\n\u001b[1;32m     94\u001b[0m     \u001b[0my\u001b[0m \u001b[0;34m=\u001b[0m \u001b[0ms\u001b[0m\u001b[0;34m[\u001b[0m\u001b[0;36m2\u001b[0m\u001b[0;34m:\u001b[0m\u001b[0;36m4\u001b[0m\u001b[0;34m]\u001b[0m\u001b[0;34m\u001b[0m\u001b[0;34m\u001b[0m\u001b[0m\n",
      "\u001b[0;31mNameError\u001b[0m: name 'A' is not defined"
     ]
    }
   ],
   "source": [
    "x0 = 1.\n",
    "p0 = 0.\n",
    "yx0 = 0.\n",
    "yp0 = 0.\n",
    "varx0 = 1.\n",
    "varp0 = 1.\n",
    "covxy0 = 0.\n",
    "s0 = np.array([x0, p0, yx0, yp0, varx0, varp0,covxy0])\n",
    "\n",
    "gamma = 0.3\n",
    "N = 2.0\n",
    "eta = 0.8\n",
    "\n",
    "periods = 10\n",
    "ppp=1000\n",
    "dt = 1/ppp\n",
    "times = np.arange(0.,periods+dt,dt)\n",
    "\n",
    "global C, A , D \n",
    "C = C_matrix\n",
    "D = D_matrix\n",
    "A = A_matrix\n",
    "\n",
    "\n",
    "coeffs = [C, A, D , dt]\n",
    "params = [eta, gamma, omega, N]\n",
    "\n",
    "solution = RosslerSRI2(Fs, Gs, s0, times, dt)"
   ]
  },
  {
   "cell_type": "code",
   "execution_count": null,
   "id": "limited-diploma",
   "metadata": {},
   "outputs": [],
   "source": []
  }
 ],
 "metadata": {
  "kernelspec": {
   "display_name": "Python 3",
   "language": "python",
   "name": "python3"
  },
  "language_info": {
   "codemirror_mode": {
    "name": "ipython",
    "version": 3
   },
   "file_extension": ".py",
   "mimetype": "text/x-python",
   "name": "python",
   "nbconvert_exporter": "python",
   "pygments_lexer": "ipython3",
   "version": "3.6.9"
  }
 },
 "nbformat": 4,
 "nbformat_minor": 5
}
