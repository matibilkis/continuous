{
 "cells": [
  {
   "cell_type": "code",
   "execution_count": 1,
   "id": "eleven-ribbon",
   "metadata": {},
   "outputs": [],
   "source": [
    "import numpy as np\n",
    "from scipy.stats import norm\n",
    "import matplotlib.pyplot as plt\n",
    "from tqdm import tqdm\n",
    "from misc import *\n",
    "import argparse\n",
    "import os\n",
    "import pickle"
   ]
  },
  {
   "cell_type": "code",
   "execution_count": null,
   "id": "brief-dublin",
   "metadata": {},
   "outputs": [],
   "source": [
    "defpath = get_def_path()\n",
    "parser = argparse.ArgumentParser(add_help=False)\n",
    "parser.add_argument(\"--ppp\", type=int) ###points per period\n",
    "parser.add_argument(\"--periods\", type=int)\n",
    "parser.add_argument(\"--path\", type=str, default=defpath) #\n",
    "parser.add_argument(\"--itraj\", type=int, default=1)\n",
    "parser.add_argument(\"--rppp\", type=int, default=1)\n",
    "parser.add_argument(\"--method\", type=str, default=\"rossler\")\n",
    "parser.add_argument(\"--euler_rppp\", type=int, default=1)\n",
    "args = parser.parse_args()\n",
    "\n",
    "periods = args.periods\n",
    "ppp = args.ppp\n",
    "path = args.path\n",
    "itraj = args.itraj\n",
    "rppp = args.rppp\n",
    "method = args.method\n",
    "euler_rppp = args.euler_rppp"
   ]
  },
  {
   "cell_type": "code",
   "execution_count": 27,
   "id": "imposed-header",
   "metadata": {},
   "outputs": [],
   "source": [
    "periods = 5\n",
    "ppp = 1000\n",
    "path = get_def_path()\n",
    "method = \"rossler\"\n",
    "rppp = 1\n",
    "itraj = 1\n",
    "euler_rppp = 2"
   ]
  },
  {
   "cell_type": "code",
   "execution_count": 7,
   "id": "prostate-comment",
   "metadata": {},
   "outputs": [
    {
     "name": "stdout",
     "output_type": "stream",
     "text": [
      "Traj loaded \n",
      "ppp: 1000\n",
      "periods: 5\n",
      "method: rossler\n",
      "itraj: 1\n"
     ]
    }
   ],
   "source": []
  },
  {
   "cell_type": "code",
   "execution_count": 10,
   "id": "listed-admission",
   "metadata": {},
   "outputs": [],
   "source": [
    "states, covs, signals, params, times = load_data(ppp=ppp, periods=periods, method=method, itraj=itraj, path=get_def_path() + \"rppp{}/\".format(rppp))\n",
    "[eta, gamma, kappa, omega, n] = params\n",
    "[C, A, D , Lambda] = build_matrix_from_params(params)\n",
    "\n",
    "\n",
    "xi = lambda cov,D: np.dot(cov, ct(C)) + ct(Lambda)\n",
    "\n",
    "def evolve_simu_state(x,cov, dy, simu_A, internal_step):\n",
    "    XiCov = xi(cov, D)\n",
    "    dx = np.dot(simu_A-np.dot(XiCov,C),x)*internal_step  + np.dot(XiCov,dy)\n",
    "    dcov = (np.dot(simu_A,cov) + np.dot(cov, ct(simu_A)) + D - np.dot(XiCov.T, XiCov))*internal_step\n",
    "    return [x + dx, cov + dcov]\n",
    "\n",
    "simu_states, simu_covs = {}, {}\n",
    "\n",
    "omegas = list(set([omega] + list(np.linspace(0, 2*omega, 10))))\n",
    "\n",
    "\n",
    "remainder = (len(times)%euler_rppp)\n",
    "if remainder > 0:\n",
    "    tspan = times[:-remainder] #this is so we can split evenly\n",
    "    signals_jump = signals[:-remainder]\n",
    "else:\n",
    "    tspan = times\n",
    "    signals_jump = signals\n",
    "    \n",
    "signals_jump = signals_jump[::euler_rppp]\n",
    "\n",
    "dt = (1/ppp)*euler_rppp\n",
    "\n",
    "for ind_simu_omega, simu_omega in tqdm(enumerate(omegas)):\n",
    "    simu_A = np.array([[-.5*gamma, simu_omega], [-simu_omega, -0.5*gamma]])\n",
    "\n",
    "    simu_states[simu_omega] = [states[0]]\n",
    "    simu_covs[simu_omega] = [covs[0]]\n",
    "\n",
    "    for ind,dy in enumerate(tqdm(signals_jump)):\n",
    "        simu = evolve_simu_state(simu_states[simu_omega][-1], simu_covs[simu_omega][-1], dy, simu_A,  dt)\n",
    "        simu_states[simu_omega].append(simu[0])\n",
    "        simu_covs[simu_omega].append(simu[1])\n",
    "        \n",
    "path_kalman_dt =get_def_path()+\"{}rppp/{}periods/{}ppp/{}/kalman_dt/euler_rppp{}/\".format(rppp,periods,ppp,itraj,euler_rppp)\n",
    "\n",
    "os.makedirs(path_kalman_dt,exist_ok=True)\n",
    "os.makedirs(path_kalman_dt+\"states/\",exist_ok=True)\n",
    "\n",
    "for ind_simu_omega, simu_omega in enumerate(omegas):\n",
    "    np.save(path_kalman_dt+\"states/states{}\".format(ind_simu_omega),np.array(simu_states[simu_omega]))\n",
    "    np.save(path_kalman_dt+\"states/covs{}\".format(ind_simu_omega),np.array(simu_covs[simu_omega]))\n",
    "    \n",
    "np.save(path_kalman_dt+\"omegas\",omegas)\n"
   ]
  },
  {
   "cell_type": "code",
   "execution_count": 25,
   "id": "adolescent-tradition",
   "metadata": {},
   "outputs": [],
   "source": []
  },
  {
   "cell_type": "code",
   "execution_count": 26,
   "id": "norman-supervision",
   "metadata": {},
   "outputs": [
    {
     "data": {
      "text/plain": [
       "array([[ 1.        ,  0.        ],\n",
       "       [ 1.05314279, -0.01396263],\n",
       "       [ 0.98467462, -0.02864634],\n",
       "       ...,\n",
       "       [ 0.09661878, -0.01124727],\n",
       "       [ 0.11195942, -0.00859338],\n",
       "       [ 0.05885467, -0.023587  ]])"
      ]
     },
     "execution_count": 26,
     "metadata": {},
     "output_type": "execute_result"
    }
   ],
   "source": [
    "np.load(path_kalman_dt+\"states/states{}.npy\".format(1))"
   ]
  },
  {
   "cell_type": "code",
   "execution_count": null,
   "id": "designed-davis",
   "metadata": {},
   "outputs": [],
   "source": [
    "or_states, covs, signals, params, times = load_data(ppp=ppp, periods=periods, method=method, itraj=itraj, path=get_def_path() + \"rppp{}/\".format(rppp))\n",
    "[eta, gamma, kappa, omega, n] = params\n",
    "[C, A, D , Lambda] = build_matrix_from_params(params)"
   ]
  },
  {
   "cell_type": "markdown",
   "id": "awful-graduation",
   "metadata": {},
   "source": [
    "falta poner timestep timetrace"
   ]
  },
  {
   "cell_type": "code",
   "execution_count": null,
   "id": "hundred-change",
   "metadata": {},
   "outputs": [],
   "source": []
  }
 ],
 "metadata": {
  "kernelspec": {
   "display_name": "Python 3",
   "language": "python",
   "name": "python3"
  },
  "language_info": {
   "codemirror_mode": {
    "name": "ipython",
    "version": 3
   },
   "file_extension": ".py",
   "mimetype": "text/x-python",
   "name": "python",
   "nbconvert_exporter": "python",
   "pygments_lexer": "ipython3",
   "version": "3.6.9"
  }
 },
 "nbformat": 4,
 "nbformat_minor": 5
}
