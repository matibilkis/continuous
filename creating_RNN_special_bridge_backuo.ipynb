{
 "cells": [
  {
   "cell_type": "code",
   "execution_count": 1,
   "id": "surprised-richmond",
   "metadata": {},
   "outputs": [
    {
     "data": {
      "text/html": [
       "<style>.container { width:100% !important; }</style>"
      ],
      "text/plain": [
       "<IPython.core.display.HTML object>"
      ]
     },
     "metadata": {},
     "output_type": "display_data"
    }
   ],
   "source": [
    "from IPython.core.display import display, HTML\n",
    "display(HTML(\"<style>.container { width:100% !important; }</style>\"))\n",
    "\n",
    "import numpy as np\n",
    "means = np.load(\"data/means.npy\").astype(np.float32)\n",
    "covs = np.load(\"data/covs.npy\").astype(np.float32)\n",
    "xicovs = np.load(\"data/xicovs.npy\").astype(np.float32)\n",
    "signals = np.load(\"data/signals.npy\").astype(np.float32)\n",
    "A = np.load(\"data/A.npy\").astype(np.float32)\n",
    "dt = np.load(\"data/dt.npy\")[0]\n",
    "C = np.load(\"data/C.npy\").astype(np.float32)\n",
    "D = np.load(\"data/D.npy\").astype(np.float32)"
   ]
  },
  {
   "cell_type": "code",
   "execution_count": null,
   "id": "mechanical-exhaust",
   "metadata": {},
   "outputs": [],
   "source": [
    "\n",
    "from scipy.stats import norm\n",
    "import matplotlib.pyplot as plt\n",
    "from tqdm import tqdm\n",
    "from misc import *\n",
    "from RNN import *\n",
    "import tensorflow as tf\n",
    "%load_ext autoreload\n",
    "%autoreload 2\n",
    "\n",
    "coeffs = [C,A,D, dt]\n",
    "model = ModelA(coeffs)\n",
    "model.compile(optimizer=tf.keras.optimizers.Adam(lr=1e-2), loss=\"mse\")"
   ]
  },
  {
   "cell_type": "code",
   "execution_count": 2,
   "id": "optional-cloud",
   "metadata": {},
   "outputs": [],
   "source": [
    "from RNN import *\n",
    "\n",
    "batch_size = 100\n",
    "\n",
    "batched_signals = tf.stack(tf.split(signals, batch_size))\n",
    "batched_xicovs = tf.stack(tf.split( xicovs[:-1], batch_size)) #do not count the last step, we make predictions and we don't have the last measurement outcome"
   ]
  },
  {
   "cell_type": "code",
   "execution_count": null,
   "id": "utility-verification",
   "metadata": {},
   "outputs": [],
   "source": [
    "batched_xiC = tf.einsum('btij,jk->btik',batched_xicovs,model.C)"
   ]
  },
  {
   "cell_type": "code",
   "execution_count": null,
   "id": "purple-feature",
   "metadata": {},
   "outputs": [],
   "source": [
    "batched_A = tf.stack(tf.split(tf.repeat([A], len(signals), axis=0), batch_size))"
   ]
  },
  {
   "cell_type": "code",
   "execution_count": null,
   "id": "protected-carrier",
   "metadata": {
    "scrolled": true
   },
   "outputs": [],
   "source": [
    "coeffs = [C,A,D, dt]\n",
    "model = ModelA(coeffs)\n",
    "model.compile(optimizer=tf.keras.optimizers.Adam(lr=1e-2), loss=\"mse\")\n",
    "model.gru_layer(tf.stack(tf.split(signals, batch_size))[:10] )"
   ]
  },
  {
   "cell_type": "code",
   "execution_count": null,
   "id": "swiss-desperate",
   "metadata": {},
   "outputs": [],
   "source": []
  },
  {
   "cell_type": "code",
   "execution_count": null,
   "id": "reserved-lesson",
   "metadata": {},
   "outputs": [],
   "source": []
  },
  {
   "cell_type": "code",
   "execution_count": null,
   "id": "gross-indianapolis",
   "metadata": {},
   "outputs": [],
   "source": []
  },
  {
   "cell_type": "code",
   "execution_count": null,
   "id": "stuffed-dallas",
   "metadata": {},
   "outputs": [],
   "source": [
    "%load_ext autoreload\n",
    "%autoreload 2\n",
    "\n",
    "from RNN import *"
   ]
  },
  {
   "cell_type": "code",
   "execution_count": null,
   "id": "graduate-accountability",
   "metadata": {},
   "outputs": [],
   "source": [
    "rec_layer = tf.keras.layers.RNN(MinimalRNNCell(20), stateful=True, return_sequences=True)"
   ]
  },
  {
   "cell_type": "code",
   "execution_count": null,
   "id": "arbitrary-consciousness",
   "metadata": {},
   "outputs": [],
   "source": [
    "rec_layer(tf.random.uniform((1,2,5)))"
   ]
  },
  {
   "cell_type": "code",
   "execution_count": null,
   "id": "million-paraguay",
   "metadata": {},
   "outputs": [],
   "source": [
    "h = tf.keras.backend.dot(tf.random.uniform((1,2)), kgiq_cell.kernel)"
   ]
  },
  {
   "cell_type": "code",
   "execution_count": null,
   "id": "manual-metadata",
   "metadata": {},
   "outputs": [],
   "source": [
    "tf.keras.backend.dot(tf.random.uniform((1,1,2))[0], kgiq_cell.recurrent_kernel)"
   ]
  },
  {
   "cell_type": "code",
   "execution_count": null,
   "id": "given-values",
   "metadata": {},
   "outputs": [],
   "source": [
    "tf.random.uniform((1,2))[0]"
   ]
  },
  {
   "cell_type": "code",
   "execution_count": null,
   "id": "photographic-documentary",
   "metadata": {},
   "outputs": [],
   "source": []
  },
  {
   "cell_type": "code",
   "execution_count": null,
   "id": "radio-departure",
   "metadata": {},
   "outputs": [],
   "source": [
    "layer(x)"
   ]
  },
  {
   "cell_type": "code",
   "execution_count": null,
   "id": "corrected-numbers",
   "metadata": {},
   "outputs": [],
   "source": []
  }
 ],
 "metadata": {
  "kernelspec": {
   "display_name": "Python 3",
   "language": "python",
   "name": "python3"
  },
  "language_info": {
   "codemirror_mode": {
    "name": "ipython",
    "version": 3
   },
   "file_extension": ".py",
   "mimetype": "text/x-python",
   "name": "python",
   "nbconvert_exporter": "python",
   "pygments_lexer": "ipython3",
   "version": "3.6.9"
  }
 },
 "nbformat": 4,
 "nbformat_minor": 5
}
