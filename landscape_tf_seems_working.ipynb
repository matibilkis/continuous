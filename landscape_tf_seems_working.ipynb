{
 "cells": [
  {
   "cell_type": "code",
   "execution_count": 32,
   "id": "diagnostic-spell",
   "metadata": {},
   "outputs": [],
   "source": [
    "from misc import *\n",
    "from tqdm import tqdm\n",
    "import numpy as np\n",
    "import tensorflow as tf \n",
    "import matplotlib.pyplot as plt "
   ]
  },
  {
   "cell_type": "code",
   "execution_count": 12,
   "id": "laughing-factor",
   "metadata": {},
   "outputs": [],
   "source": [
    "periods = 40\n",
    "ppp = 500\n",
    "\n",
    "means, covs, signals, mis = load_data(get_def_path()+\"{}periods/{}ppp/\".format(periods,ppp))\n",
    "A, dt,C,D = mis\n",
    "coeffs = [C,D,dt]\n",
    "cov_in = covs[0]\n",
    "\n",
    "tfsignals = tf.convert_to_tensor(signals)[tf.newaxis]"
   ]
  },
  {
   "cell_type": "code",
   "execution_count": 14,
   "id": "circular-radio",
   "metadata": {},
   "outputs": [
    {
     "data": {
      "text/plain": [
       "<tf.Variable 'UnreadVariable' shape=(1, 1) dtype=float32, numpy=array([[6.2831855]], dtype=float32)>"
      ]
     },
     "execution_count": 14,
     "metadata": {},
     "output_type": "execute_result"
    }
   ],
   "source": [
    "from RNN_models import *\n",
    "\n",
    "rmod = GRNNmodel(coeffs = [C.astype(np.float32),D.astype(np.float32),dt, 10], traj_details=[periods, ppp, 0, get_def_path()], cov_in=tf.convert_to_tensor(cov_in.astype(np.float32)), stateful=False, max_update=100)\n",
    "rmod.compile(optimizer=tf.keras.optimizers.SGD(lr=0.01))\n",
    "\n",
    "rmod.recurrent_layer(tfsignals[:,:3,:], initial_state=rmod.initial_state)\n",
    "rmod.trainable_variables[0].assign(tf.convert_to_tensor(np.array([[2*np.pi]]).astype(np.float32)))"
   ]
  },
  {
   "cell_type": "code",
   "execution_count": 28,
   "id": "suburban-brunswick",
   "metadata": {},
   "outputs": [],
   "source": [
    "def loss_landscape(length_series):\n",
    "    parameters = np.arange(0,4*np.pi,np.pi)\n",
    "    l={}\n",
    "    for th in tqdm(parameters):\n",
    "        rmod.trainable_variables[0].assign(tf.convert_to_tensor(np.array([[th]]).astype(np.float32)))\n",
    "        dy = tfsignals[:,:length_series,:]\n",
    "        tr = rmod(dy)\n",
    "        diff = (tr - dy)[0]\n",
    "        l[th] = np.sum(tf.einsum('bj,bj->b',diff,diff))/2\n",
    "    loss_values = np.array(list(l.values()))/(dt*length_series)\n",
    "    return loss_values"
   ]
  },
  {
   "cell_type": "code",
   "execution_count": 30,
   "id": "urban-priority",
   "metadata": {},
   "outputs": [
    {
     "name": "stderr",
     "output_type": "stream",
     "text": [
      "100%|██████████| 4/4 [00:00<00:00,  7.67it/s]\n",
      "100%|██████████| 4/4 [00:04<00:00,  1.03s/it]\n",
      "100%|██████████| 4/4 [00:43<00:00, 10.98s/it]\n",
      "100%|██████████| 4/4 [10:00<00:00, 150.16s/it]\n"
     ]
    }
   ],
   "source": [
    "landscape = {}\n",
    "for ind,lt in enumerate(np.logspace(2, np.log10(len(means)), 4)):\n",
    "    landscape[ind] = loss_landscape(int(lt))"
   ]
  },
  {
   "cell_type": "code",
   "execution_count": 38,
   "id": "junior-deviation",
   "metadata": {},
   "outputs": [
    {
     "data": {
      "text/plain": [
       "<matplotlib.legend.Legend at 0x7fc950739358>"
      ]
     },
     "execution_count": 38,
     "metadata": {},
     "output_type": "execute_result"
    },
    {
     "data": {
      "image/png": "[encoded data removed]",
      "text/plain": [
       "<Figure size 432x288 with 1 Axes>"
      ]
     },
     "metadata": {
      "needs_background": "light"
     },
     "output_type": "display_data"
    }
   ],
   "source": [
    "for k,v in landscape.items():\n",
    "    plt.plot(parameters,v, label=k)\n",
    "plt.legend()"
   ]
  },
  {
   "cell_type": "code",
   "execution_count": 40,
   "id": "guided-canberra",
   "metadata": {},
   "outputs": [
    {
     "data": {
      "text/plain": [
       "array([1.00000000e+02, 1.00000333e+03, 1.00000667e+04, 1.00001000e+05])"
      ]
     },
     "execution_count": 40,
     "metadata": {},
     "output_type": "execute_result"
    }
   ],
   "source": [
    "np.logspace(2, np.log10(len(means)), 4)"
   ]
  },
  {
   "cell_type": "code",
   "execution_count": 42,
   "id": "verbal-accounting",
   "metadata": {},
   "outputs": [
    {
     "data": {
      "text/plain": [
       "[<matplotlib.lines.Line2D at 0x7fc9506e36a0>]"
      ]
     },
     "execution_count": 42,
     "metadata": {},
     "output_type": "execute_result"
    },
    {
     "data": {
      "image/png": "[encoded data removed]",
      "text/plain": [
       "<Figure size 432x288 with 1 Axes>"
      ]
     },
     "metadata": {
      "needs_background": "light"
     },
     "output_type": "display_data"
    }
   ],
   "source": [
    "plt.plot(landscape[3])"
   ]
  },
  {
   "cell_type": "code",
   "execution_count": 43,
   "id": "portuguese-cliff",
   "metadata": {},
   "outputs": [
    {
     "name": "stderr",
     "output_type": "stream",
     "text": [
      "100%|██████████| 4/4 [09:49<00:00, 147.49s/it]\n"
     ]
    }
   ],
   "source": [
    "vv = loss_landscape(len(means))"
   ]
  },
  {
   "cell_type": "code",
   "execution_count": null,
   "id": "robust-symbol",
   "metadata": {},
   "outputs": [],
   "source": []
  },
  {
   "cell_type": "markdown",
   "id": "nervous-television",
   "metadata": {},
   "source": [
    "Check another region (like previous)"
   ]
  }
 ],
 "metadata": {
  "kernelspec": {
   "display_name": "Python 3",
   "language": "python",
   "name": "python3"
  },
  "language_info": {
   "codemirror_mode": {
    "name": "ipython",
    "version": 3
   },
   "file_extension": ".py",
   "mimetype": "text/x-python",
   "name": "python",
   "nbconvert_exporter": "python",
   "pygments_lexer": "ipython3",
   "version": "3.6.9"
  }
 },
 "nbformat": 4,
 "nbformat_minor": 5
}
