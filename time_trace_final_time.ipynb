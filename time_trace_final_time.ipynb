{
 "cells": [
  {
   "cell_type": "code",
   "execution_count": 51,
   "id": "strategic-flash",
   "metadata": {},
   "outputs": [
    {
     "name": "stdout",
     "output_type": "stream",
     "text": [
      "Traj loaded \n",
      "ppp: 10000\n",
      "periods: 100\n",
      "method: rossler\n",
      "itraj: 1\n"
     ]
    }
   ],
   "source": [
    "from misc import *\n",
    "import matplotlib.pyplot as plt\n",
    "from tqdm import tqdm \n",
    "periods = 100\n",
    "ppp = 10000\n",
    "\n",
    "states = {}\n",
    "states_euler = {}\n",
    "windows = np.concatenate([(10**k)*np.arange(2,11) for k in range(4)])\n",
    "rppps = [1] #+ list(windows)\n",
    "for rppp in rppps:\n",
    "    states[rppp], covs, signals, params, times = load_data(path=get_def_path()+\"rppp{}/\".format(rppp), periods=periods, ppp=ppp, method=\"rossler\")\n",
    "    #states_euler[rppp], covs_euler, signals_euler, params_euler, times_euler = load_data(path=get_def_path()+\"rppp{}/\".format(rppp), \n",
    "     #                                                                              periods=periods, ppp=ppp, method=\"euler\")"
   ]
  },
  {
   "cell_type": "code",
   "execution_count": 49,
   "id": "alpine-insertion",
   "metadata": {},
   "outputs": [],
   "source": [
    "itraj = 1\n",
    "method = \"rossler\"\n",
    "path_landscape=get_def_path()+\"{}periods/{}ppp/{}/cost_landscape/{}\".format(periods,ppp,itraj,method)\n",
    "loss = np.load(path_landscape+\"losses.npy\")\n",
    "omegas = np.load(path_landscape+\"omegas.npy\")\n",
    "cuts_final_time = np.load(path_landscape+\"cuts.npy\")"
   ]
  },
  {
   "cell_type": "code",
   "execution_count": 69,
   "id": "impressive-harrison",
   "metadata": {},
   "outputs": [
    {
     "data": {
      "image/png": "[encoded data removed]",
      "text/plain": [
       "<Figure size 432x288 with 1 Axes>"
      ]
     },
     "metadata": {
      "needs_background": "light"
     },
     "output_type": "display_data"
    }
   ],
   "source": [
    "ax = plt.subplot(111)\n",
    "for k, cut in enumerate(cuts_final_time[1:]):\n",
    "    ax.plot(omegas, loss[:,k], label=times[cut])\n",
    "ax.set_yscale(\"log\")\n"
   ]
  },
  {
   "cell_type": "code",
   "execution_count": 38,
   "id": "extraordinary-typing",
   "metadata": {},
   "outputs": [
    {
     "data": {
      "text/plain": [
       "array([[1.34474749, 0.90092406, 0.87308237, 0.93143542, 0.79426201,\n",
       "        0.77614991, 0.82490492, 0.81735078, 0.84830991, 0.83807515,\n",
       "        0.94979749, 1.00037014, 1.00354243, 0.96609752, 0.97420145,\n",
       "        0.97146387, 0.99960052, 1.02271111, 1.01311435, 0.99785656,\n",
       "        1.00257137, 0.99825941, 0.99770649],\n",
       "       [1.34474786, 0.90092219, 0.87308164, 0.93143832, 0.79426573,\n",
       "        0.77614983, 0.8249068 , 0.81736339, 0.84834768, 0.83813105,\n",
       "        0.94975641, 1.00031949, 1.00325717, 0.96594664, 0.97349424,\n",
       "        0.97121734, 0.99958852, 1.02286636, 1.0133164 , 0.99783208,\n",
       "        1.00272601, 0.99838789, 0.99785223],\n",
       "       [1.34474898, 0.90091657, 0.87307947, 0.93144703, 0.79427688,\n",
       "        0.77614963, 0.8249125 , 0.81740125, 0.84846075, 0.83829825,\n",
       "        0.94964209, 1.00019776, 1.00254694, 0.9656728 , 0.97213304,\n",
       "        0.97090372, 0.99979642, 1.0233379 , 1.01387805, 0.99794004,\n",
       "        1.00242674, 0.9982404 , 0.9976879 ],\n",
       "       [1.34475083, 0.90090721, 0.87307585, 0.93146153, 0.79429548,\n",
       "        0.77614943, 0.8249222 , 0.81746434, 0.8486483 , 0.83857531,\n",
       "        0.94947962, 1.00007949, 1.00172964, 0.96555181, 0.9712092 ,\n",
       "        0.97079479, 0.99998875, 1.02343451, 1.0139163 , 0.99804819,\n",
       "        1.00252754, 0.99840254, 0.9978582 ],\n",
       "       [1.34475343, 0.90089411, 0.8730708 , 0.93148185, 0.79432158,\n",
       "        0.77614943, 0.82493617, 0.81755266, 0.84890901, 0.83895981,\n",
       "        0.94930573, 1.00004618, 1.00107799, 0.96561238, 0.97105844,\n",
       "        0.97058371, 0.99954066, 1.02264632, 1.01308122, 0.99739008,\n",
       "        1.00246372, 0.99813046, 0.99761577],\n",
       "       [1.34475501, 0.90088617, 0.87306774, 0.93149419, 0.79433745,\n",
       "        0.77614958, 0.82494486, 0.81760626, 0.84906624, 0.83919132,\n",
       "        0.9492276 , 1.00007938, 1.00085592, 0.96564709, 0.9712318 ,\n",
       "        0.97039767, 0.99912491, 1.02218734, 1.0126393 , 0.99725886,\n",
       "        1.00255183, 0.99814182, 0.9976719 ],\n",
       "       [1.34475678, 0.90087729, 0.87306433, 0.93150797, 0.7943552 ,\n",
       "        0.77614988, 0.82495478, 0.81766616, 0.849241  , 0.83944832,\n",
       "        0.94916241, 1.00014949, 1.00070524, 0.96564072, 0.97153186,\n",
       "        0.97022076, 0.99872607, 1.02185469, 1.012305  , 0.99744751,\n",
       "        1.00249557, 0.99809451, 0.99765846],\n",
       "       [1.34476086, 0.90085675, 0.87305646, 0.93153991, 0.79439642,\n",
       "        0.77615113, 0.82497849, 0.81780475, 0.84964178, 0.84003637,\n",
       "        0.94909024, 1.0003919 , 1.00058859, 0.96543397, 0.97239514,\n",
       "        0.97013912, 0.99826662, 1.02168165, 1.01220254, 0.99762688,\n",
       "        1.00257553, 0.99794484, 0.99765985],\n",
       "       [1.34476569, 0.9008325 , 0.87304721, 0.93157766, 0.79444528,\n",
       "        0.77615358, 0.82500784, 0.81796829, 0.85010832, 0.84071844,\n",
       "        0.94912262, 1.00072925, 1.00065886, 0.96503395, 0.97334122,\n",
       "        0.9704757 , 0.99836724, 1.02216313, 1.01296632, 0.99727599,\n",
       "        1.00219606, 0.99765014, 0.99740822],\n",
       "       [1.34477126, 0.90080456, 0.8730366 , 0.93162123, 0.79450186,\n",
       "        0.77615766, 0.82504342, 0.81815651, 0.85063694, 0.84148793,\n",
       "        0.94928182, 1.00109088, 1.00088156, 0.9646898 , 0.97388293,\n",
       "        0.97091626, 0.99904825, 1.0229985 , 1.01375884, 0.99790587,\n",
       "        1.00280322, 0.99841027, 0.99789288],\n",
       "       [1.34477758, 0.90077294, 0.87302467, 0.93167062, 0.79456622,\n",
       "        0.77616388, 0.82508584, 0.81836902, 0.85122335, 0.84233712,\n",
       "        0.94957711, 1.00140863, 1.00127624, 0.96460991, 0.97361057,\n",
       "        0.97122632, 0.99997539, 1.02347572, 1.01393896, 0.99770157,\n",
       "        1.00286995, 0.99848812, 0.99793393]])"
      ]
     },
     "execution_count": 38,
     "metadata": {},
     "output_type": "execute_result"
    }
   ],
   "source": [
    "plt.figure(figsize=(20,7))\n",
    "colors = plt.get_cmap(\"rainbow\")\n",
    "ax = plt.subplot2grid((1,1),(0,0))\n",
    "for ind,p in enumerate(landscape.values()):\n",
    "    plt.plot(omegas,p, color=colors(np.linspace(0,1,len(landscape)))[ind], marker='.', label=\"{}\".format(int(np.round(cut_series[ind]+1,0))),linewidth=3)\n",
    "plt.legend()\n",
    "plt.xlabel(r'$\\tilde{\\omega}$',size=30)\n",
    "plt.ylabel(r'$C(\\omega, \\tilde{\\omega})$',size=30)"
   ]
  }
 ],
 "metadata": {
  "kernelspec": {
   "display_name": "Python 3",
   "language": "python",
   "name": "python3"
  },
  "language_info": {
   "codemirror_mode": {
    "name": "ipython",
    "version": 3
   },
   "file_extension": ".py",
   "mimetype": "text/x-python",
   "name": "python",
   "nbconvert_exporter": "python",
   "pygments_lexer": "ipython3",
   "version": "3.6.9"
  }
 },
 "nbformat": 4,
 "nbformat_minor": 5
}
