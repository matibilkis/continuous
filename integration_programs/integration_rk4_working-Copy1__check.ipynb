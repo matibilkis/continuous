{
 "cells": [
  {
   "cell_type": "code",
   "execution_count": 2,
   "id": "capital-posting",
   "metadata": {},
   "outputs": [
    {
     "name": "stdout",
     "output_type": "stream",
     "text": [
      "The autoreload extension is already loaded. To reload it, use:\n",
      "  %reload_ext autoreload\n"
     ]
    }
   ],
   "source": [
    "%load_ext autoreload\n",
    "%autoreload 2\n",
    "\n",
    "from misc import *\n",
    "import numpy as np\n",
    "import matplotlib.pyplot as plt \n",
    "from tqdm import tqdm \n",
    "import os \n",
    "from tqdm import tqdm"
   ]
  },
  {
   "cell_type": "code",
   "execution_count": 3,
   "id": "consistent-process",
   "metadata": {},
   "outputs": [],
   "source": [
    "from integrations import RK4"
   ]
  },
  {
   "cell_type": "code",
   "execution_count": 35,
   "id": "incorrect-security",
   "metadata": {},
   "outputs": [],
   "source": [
    "def f(t,x,parameters=None):\n",
    "    return np.zeros(x.shape)#np.cos(parameters[0]*t)*parameters[0]"
   ]
  },
  {
   "cell_type": "code",
   "execution_count": 36,
   "id": "protected-protein",
   "metadata": {},
   "outputs": [],
   "source": [
    "def g(t,x,parameters=None):\n",
    "    w = np.random.random()\n",
    "    return np.random.randn(1)"
   ]
  },
  {
   "cell_type": "code",
   "execution_count": 44,
   "id": "royal-personal",
   "metadata": {},
   "outputs": [
    {
     "name": "stderr",
     "output_type": "stream",
     "text": [
      "100%|██████████| 1000000/1000000 [01:04<00:00, 15562.07it/s]\n"
     ]
    }
   ],
   "source": [
    "dt = 1e-5\n",
    "T = 10\n",
    "times = np.arange(0,T+dt,dt)\n",
    "parameters = [2*np.pi,dt]\n",
    "np.random.seed(0)\n",
    "result = np.zeros(len(times))\n",
    "for ind, t in enumerate(tqdm(times[:-1])):\n",
    "    integration_result = RK4(result[ind], t, dt, f, g, parameters)\n",
    "    result[ind+1] = integration_result"
   ]
  },
  {
   "cell_type": "code",
   "execution_count": 38,
   "id": "desperate-dividend",
   "metadata": {},
   "outputs": [
    {
     "data": {
      "text/plain": [
       "[<matplotlib.lines.Line2D at 0x7f2dbf152a58>]"
      ]
     },
     "execution_count": 38,
     "metadata": {},
     "output_type": "execute_result"
    },
    {
     "data": {
      "image/png": "[encoded data removed]",
      "text/plain": [
       "<Figure size 432x288 with 1 Axes>"
      ]
     },
     "metadata": {
      "needs_background": "light"
     },
     "output_type": "display_data"
    }
   ],
   "source": [
    "plt.plot(result)"
   ]
  },
  {
   "cell_type": "code",
   "execution_count": 45,
   "id": "enabling-testimony",
   "metadata": {},
   "outputs": [
    {
     "data": {
      "text/plain": [
       "array([[1, 0],\n",
       "       [0, 1]])"
      ]
     },
     "execution_count": 45,
     "metadata": {},
     "output_type": "execute_result"
    }
   ],
   "source": [
    "np.diag([1,1])"
   ]
  },
  {
   "cell_type": "code",
   "execution_count": null,
   "id": "instant-container",
   "metadata": {},
   "outputs": [],
   "source": []
  },
  {
   "cell_type": "code",
   "execution_count": 25,
   "id": "manual-insert",
   "metadata": {},
   "outputs": [
    {
     "data": {
      "image/png": "[encoded data removed]",
      "text/plain": [
       "<Figure size 432x288 with 1 Axes>"
      ]
     },
     "metadata": {
      "needs_background": "light"
     },
     "output_type": "display_data"
    }
   ],
   "source": [
    "freqs = np.fft.fftfreq(len(times),d=dt)\n",
    "ax = plt.subplot(111)\n",
    "ax.plot(2*np.pi*freqs[:-1], np.abs(np.fft.fft(result[:-1]))**2)\n",
    "ax.axvline(2*np.pi)\n",
    "ax.set_xscale(\"log\")\n",
    "ax.set_yscale(\"log\")"
   ]
  },
  {
   "cell_type": "markdown",
   "id": "three-trademark",
   "metadata": {},
   "source": [
    "Integrate our functions "
   ]
  },
  {
   "cell_type": "code",
   "execution_count": 201,
   "id": "ambient-discretion",
   "metadata": {},
   "outputs": [],
   "source": [
    "means, covs, signals, [A,C,dt,D] = load_data(periods=40, ppp=500, itraj=1)"
   ]
  },
  {
   "cell_type": "code",
   "execution_count": 340,
   "id": "distributed-commodity",
   "metadata": {},
   "outputs": [],
   "source": [
    "from scipy.integrate import solve_ivp\n",
    "\n",
    "def vector_to_matrix(v):\n",
    "    return np.array([[v[0], v[1]],[v[2], v[3]]])\n",
    "def matrix_to_vector(v):\n",
    "    return np.array([v[0,0], v[0,1], v[1,0], v[1,1]])\n",
    "\n",
    "\n",
    "\n",
    "gamma = 1 #damping from outside\n",
    "Gamma = 1 #measurement rate\n",
    "eta = 1 # measurement efficiency\n",
    "n = 2 # number of photons\n",
    "\n",
    "w = 2*np.pi\n",
    "T = (2*np.pi)/w\n",
    "\n",
    "dt = 1/ppp\n",
    "\n",
    "C = np.array([[np.sqrt(4*eta*Gamma), 0] ,[0, np.sqrt(4*eta*Gamma)]])\n",
    "\n",
    "A = np.array([\n",
    "    [0., w],\n",
    "    [-w, 0.]])\n",
    "\n",
    "D = np.array([[gamma*(n + 0.5) + Gamma, 0], [0,gamma*(n + 0.5) + Gamma]])\n",
    "\n",
    "su = n + 0.5 + Gamma/gamma\n",
    "cov_in = np.array([[np.sqrt(1+ (16*eta*Gamma*su/gamma) -1)*gamma/(8*eta*Gamma), 0],\n",
    "                   [0,np.sqrt(1+ (16*eta*Gamma*su/gamma) -1)*gamma/(8*eta*Gamma)]]) #np.ones((2,2))\n",
    "\n",
    "xi = lambda cov: np.dot(cov, ct(C)) + ct(D)"
   ]
  },
  {
   "cell_type": "code",
   "execution_count": 345,
   "id": "smoking-training",
   "metadata": {},
   "outputs": [],
   "source": [
    "periods = 1000\n",
    "ppp = 500\n",
    "dt = 1/ppp\n",
    "times = np.linspace(0,periods, int(ppp*periods))\n",
    "\n",
    "def dcovdt(t,cov):\n",
    "    cov= vector_to_matrix(cov)\n",
    "    XiCov = xi(cov)\n",
    "    ev_cov = np.dot(A,cov) + np.dot(cov, ct(A)) + D - np.dot(XiCov, ct(XiCov))\n",
    "    return matrix_to_vector(ev_cov)\n",
    "\n",
    "\n",
    "integrate_cov = solve_ivp(dcovdt, y0=matrix_to_vector(cov_in), t_span=(0,times[-1]), t_eval=times, max_step = dt, atol=1, rtol=1)\n",
    "covs = np.reshape(integrate_cov.y.T, (len(times),2,2))"
   ]
  },
  {
   "cell_type": "code",
   "execution_count": 346,
   "id": "excessive-oregon",
   "metadata": {},
   "outputs": [
    {
     "name": "stderr",
     "output_type": "stream",
     "text": [
      "100%|██████████| 499999/499999 [01:16<00:00, 6566.93it/s]\n"
     ]
    }
   ],
   "source": [
    "np.random.seed(1)\n",
    "\n",
    "def f(t,x,parameters=None):\n",
    "    return np.dot(A, x)\n",
    "\n",
    "xi = lambda cov: np.dot(cov, ct(C)) + ct(D)\n",
    "def g(t,x,parameters=None):\n",
    "    gg = np.dot(xi(covs[parameters]),[np.random.normal(), np.random.normal()])\n",
    "    return gg\n",
    "\n",
    "result = np.zeros((len(times),2))\n",
    "result[0] = np.array([1.,0.])\n",
    "for ind, t in enumerate(tqdm(times[:-1])):\n",
    "    ss = RK4(result[ind], t, dt, f, g, parameters=ind)\n",
    "    result[ind+1] = ss"
   ]
  },
  {
   "cell_type": "code",
   "execution_count": 347,
   "id": "drawn-mustang",
   "metadata": {},
   "outputs": [
    {
     "data": {
      "text/plain": [
       "[<matplotlib.lines.Line2D at 0x7fc896d5d048>]"
      ]
     },
     "execution_count": 347,
     "metadata": {},
     "output_type": "execute_result"
    },
    {
     "data": {
      "image/png": "[encoded data removed]",
      "text/plain": [
       "<Figure size 432x288 with 1 Axes>"
      ]
     },
     "metadata": {
      "needs_background": "light"
     },
     "output_type": "display_data"
    }
   ],
   "source": [
    "plt.plot(result[:,0])"
   ]
  },
  {
   "cell_type": "code",
   "execution_count": 337,
   "id": "vietnamese-rapid",
   "metadata": {},
   "outputs": [
    {
     "data": {
      "image/png": "[encoded data removed]",
      "text/plain": [
       "<Figure size 432x288 with 1 Axes>"
      ]
     },
     "metadata": {
      "needs_background": "light"
     },
     "output_type": "display_data"
    }
   ],
   "source": [
    "freqs = np.fft.fftfreq(len(times),d=dt)\n",
    "ax = plt.subplot(111)\n",
    "ax.plot(freqs, np.abs(np.fft.fft(result[:,1]))**2)\n",
    "omega = 2*np.pi\n",
    "period = 2*np.pi/omega\n",
    "ax.axvline(1/period)\n",
    "ax.set_xscale(\"log\")\n",
    "ax.set_yscale(\"log\")"
   ]
  },
  {
   "cell_type": "code",
   "execution_count": 235,
   "id": "afraid-anderson",
   "metadata": {},
   "outputs": [],
   "source": [
    "import os "
   ]
  },
  {
   "cell_type": "code",
   "execution_count": 350,
   "id": "lined-planning",
   "metadata": {},
   "outputs": [
    {
     "data": {
      "text/plain": [
       "0"
      ]
     },
     "execution_count": 350,
     "metadata": {},
     "output_type": "execute_result"
    }
   ],
   "source": [
    "os.system(\"python3 traj.py --method RK --ppp 500 --periods 1000 --itraj 1\")"
   ]
  },
  {
   "cell_type": "code",
   "execution_count": 351,
   "id": "atlantic-bottle",
   "metadata": {},
   "outputs": [
    {
     "data": {
      "text/plain": [
       "0"
      ]
     },
     "execution_count": 351,
     "metadata": {},
     "output_type": "execute_result"
    }
   ],
   "source": [
    "os.system(\"python3 traj.py --method euler --ppp 500 --periods 1000 --itraj 1\")"
   ]
  },
  {
   "cell_type": "code",
   "execution_count": 28,
   "id": "eleven-small",
   "metadata": {},
   "outputs": [],
   "source": [
    "means, covvs, signals, [A,C,dt,D] = load_data(periods=100, ppp=500, itraj=1)"
   ]
  },
  {
   "cell_type": "code",
   "execution_count": 34,
   "id": "seeing-patrol",
   "metadata": {},
   "outputs": [
    {
     "data": {
      "image/png": "[encoded data removed]",
      "text/plain": [
       "<Figure size 432x288 with 1 Axes>"
      ]
     },
     "metadata": {
      "needs_background": "light"
     },
     "output_type": "display_data"
    }
   ],
   "source": [
    "freqs = np.fft.fftfreq(len(signals),d=1/500)\n",
    "ax = plt.subplot(111)\n",
    "ax.plot(freqs, np.abs(np.fft.fft(means[:-1][:,1]))**2)\n",
    "omega = 2*np.pi\n",
    "period = 2*np.pi/omega\n",
    "#ax.axvline(1/period)\n",
    "ax.set_xscale(\"log\")\n",
    "ax.set_yscale(\"log\")"
   ]
  },
  {
   "cell_type": "code",
   "execution_count": null,
   "id": "available-semiconductor",
   "metadata": {},
   "outputs": [],
   "source": []
  }
 ],
 "metadata": {
  "kernelspec": {
   "display_name": "Python 3",
   "language": "python",
   "name": "python3"
  },
  "language_info": {
   "codemirror_mode": {
    "name": "ipython",
    "version": 3
   },
   "file_extension": ".py",
   "mimetype": "text/x-python",
   "name": "python",
   "nbconvert_exporter": "python",
   "pygments_lexer": "ipython3",
   "version": "3.6.9"
  }
 },
 "nbformat": 4,
 "nbformat_minor": 5
}
