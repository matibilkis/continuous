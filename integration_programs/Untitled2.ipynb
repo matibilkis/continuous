{
 "cells": [
  {
   "cell_type": "code",
   "execution_count": null,
   "id": "revised-tobago",
   "metadata": {},
   "outputs": [],
   "source": []
  }
 ],
 "metadata": {
  "kernelspec": {
   "display_name": "Xonsh",
   "language": "xonsh",
   "name": "xonsh"
  },
  "language_info": {
   "codemirror_mode": "shell",
   "file_extension": ".xsh",
   "mimetype": "text/x-sh",
   "name": "xonsh",
   "pygments_lexer": "xonsh",
   "version": "0.6.0"
  }
 },
 "nbformat": 4,
 "nbformat_minor": 5
}
