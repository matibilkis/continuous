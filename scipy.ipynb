{
 "cells": [
  {
   "cell_type": "code",
   "execution_count": 4,
   "id": "english-madness",
   "metadata": {},
   "outputs": [],
   "source": [
    "import sympy as s\n",
    "import numpy as np"
   ]
  },
  {
   "cell_type": "code",
   "execution_count": 144,
   "id": "entertaining-outreach",
   "metadata": {},
   "outputs": [],
   "source": [
    "omega = s.Symbol(\"omega\") #freq harmonic oscillator\n",
    "eta = s.Symbol(\"eta\") #efficiency measurement (appearing in the CPTP decomposiion X,Y)\n",
    "N = s.Symbol(\"N\") #mean number of excitations in system B (environment, thermal state)"
   ]
  },
  {
   "cell_type": "code",
   "execution_count": 145,
   "id": "revised-wayne",
   "metadata": {},
   "outputs": [],
   "source": [
    "Omega = s.Matrix(np.array([[0,1],[-1,0]]))"
   ]
  },
  {
   "cell_type": "code",
   "execution_count": 146,
   "id": "endless-childhood",
   "metadata": {},
   "outputs": [
    {
     "name": "stdout",
     "output_type": "stream",
     "text": [
      "Matrix([[-pb*xs + ps*xb]])\n"
     ]
    }
   ],
   "source": [
    "## interaction hamiltonian between the train of modes being measured and system\n",
    "\n",
    "Cint = -Omega # -\\ii \\Sigma_y\n",
    "s.Matrix(Omega)*(s.Matrix(Cint))\n",
    "Hint = np.block([[s.zeros(2), Cint], [Cint.T, s.zeros(2)]])/2\n",
    "\n",
    "xs, ps, xb, pb = s.Symbol(\"xs\"), s.Symbol(\"ps\"), s.Symbol(\"xb\"), s.Symbol(\"pb\")\n",
    "\n",
    "print((s.Matrix([xs,ps,xb,pb]).T)*Hint*s.Matrix([xs,ps,xb,pb])) #BS splitter\n",
    "\n",
    "\n",
    "aint = Omega*Cint*Omega*(Cint.T)/2\n",
    "\n",
    "Hs = s.eye(2)*omega\n",
    "asys = Omega*Hs\n",
    "\n",
    "A_matrix = aint + asys ##drift matrix"
   ]
  },
  {
   "cell_type": "code",
   "execution_count": 147,
   "id": "breathing-assets",
   "metadata": {},
   "outputs": [],
   "source": [
    "#noisy heterodyne measurement\n",
    "S = s.eye(2) \n",
    "sigma_m = S*(S.T)\n",
    "##lossy part\n",
    "Xstar = s.eye(2)/s.sqrt(eta)\n",
    "Ystar = s.eye(2)*(1-eta)/eta\n",
    "sigma_noisy_m = Xstar*(sigma_m)*(Xstar.T) + Ystar\n",
    "\n",
    "# state of B, subsystem being measured\n",
    "sigma_b = (2*N +1)*s.eye(2)\n",
    "\n",
    "D_matrix = Omega*Cint*sigma_b*(Omega*Cint).T  #difussion matrix\n",
    "Gamma_matrix = Omega*Cint*sigma_b   #auxiliar matrix for the ricatti\n",
    "\n",
    "C_matrix = (Cint*Omega*(sigma_b + sigma_noisy_m)**(-1/2)).T"
   ]
  },
  {
   "cell_type": "markdown",
   "id": "floppy-controversy",
   "metadata": {},
   "source": [
    " Ricatti equation for covariance"
   ]
  },
  {
   "cell_type": "code",
   "execution_count": 125,
   "id": "tutorial-bonus",
   "metadata": {},
   "outputs": [],
   "source": [
    "from scipy.linalg import solve_continuous_are\n",
    "A_tilde_matrix = A_matrix - (Omega*Cint*sigma_b*((sigma_b + sigma_noisy_m)**(-1))*Omega*Cint.T   )\n",
    "D_tilde_matrix = D_matrix + (Omega*Cint*sigma_b*((sigma_b + sigma_noisy_m)**(-1))*sigma_b*Cint.T*Omega)\n",
    "B_matrix = Cint*Omega*(sigma_b + sigma_noisy_m)**(-1/2)"
   ]
  },
  {
   "cell_type": "code",
   "execution_count": 158,
   "id": "legal-resolution",
   "metadata": {},
   "outputs": [],
   "source": [
    "Ar, Br, Dr = [np.array(k.subs({omega:2*np.pi, N:2, eta:0.8})).astype(np.float32) for k in [A_tilde_matrix, B_matrix, D_tilde_matrix]]"
   ]
  },
  {
   "cell_type": "code",
   "execution_count": 164,
   "id": "after-mining",
   "metadata": {},
   "outputs": [],
   "source": [
    "cov_stat = solve_continuous_are(Ar, Br, Dr, np.eye(2))"
   ]
  },
  {
   "cell_type": "code",
   "execution_count": 166,
   "id": "immediate-liver",
   "metadata": {},
   "outputs": [],
   "source": [
    "varx, varp, covxp = [s.Symbol(k) for k in [\"varx\",\"varp\",\"covxp\"]]\n",
    "cov = s.Matrix([[varx, covxp],[covxp, varp]])"
   ]
  },
  {
   "cell_type": "code",
   "execution_count": 181,
   "id": "sporting-arnold",
   "metadata": {},
   "outputs": [
    {
     "data": {
      "text/plain": [
       "[2*N + 2*covxp*omega + 2*varx*((2*N + 1)/(2*N + 1 + (1 - eta)/eta + 1/eta) - 1/2) - (2*N + 1)**2/(2*N + 1 + (1 - eta)/eta + 1/eta) - (2*N + 1 + (1 - eta)/eta + 1/eta)**(-1.0) + 1,\n",
       " 2*covxp*((2*N + 1)/(2*N + 1 + (1 - eta)/eta + 1/eta) - 1/2) + omega*varp - omega*varx,\n",
       " 2*covxp*((2*N + 1)/(2*N + 1 + (1 - eta)/eta + 1/eta) - 1/2) + omega*varp - omega*varx,\n",
       " 2*N - 2*covxp*omega + 2*varp*((2*N + 1)/(2*N + 1 + (1 - eta)/eta + 1/eta) - 1/2) - (2*N + 1)**2/(2*N + 1 + (1 - eta)/eta + 1/eta) - (2*N + 1 + (1 - eta)/eta + 1/eta)**(-1.0) + 1]"
      ]
     },
     "execution_count": 181,
     "metadata": {},
     "output_type": "execute_result"
    }
   ],
   "source": [
    "(A_tilde_matrix*cov + cov*A_tilde_matrix.T + D_tilde_matrix - B_matrix*B_matrix.T).values()"
   ]
  },
  {
   "cell_type": "code",
   "execution_count": null,
   "id": "banner-thunder",
   "metadata": {},
   "outputs": [],
   "source": [
    "def Euler(ff, G, y0, tspan, dt,**kwargs):\n",
    "    exp = kwargs.get(\"exp\",False)\n",
    "    N = len(tspan)\n",
    "    y = np.zeros((N, len(y0)))\n",
    "    y[0] = y0\n",
    "\n",
    "    if exp is True:\n",
    "        dint = 1.\n",
    "    else:\n",
    "        dint= dt\n",
    "\n",
    "    for ind,t in enumerate(tqdm(tspan[:-1])):\n",
    "        #dW = np.random.normal(0,np.sqrt(dt), (7))\n",
    "        w0 = np.random.normal()*np.sqrt(dt)\n",
    "        w1 = np.random.normal()*np.sqrt(dt)\n",
    "        dW = np.array([w0, w1, w0, w1 , 0.,0.,0.])\n",
    "        y[ind+1] = y[ind] + ff(y[ind], t, exp=exp, dt=dt)*dint + np.dot(G(y[ind], t), dW)\n",
    "    return y"
   ]
  }
 ],
 "metadata": {
  "kernelspec": {
   "display_name": "Python 3",
   "language": "python",
   "name": "python3"
  },
  "language_info": {
   "codemirror_mode": {
    "name": "ipython",
    "version": 3
   },
   "file_extension": ".py",
   "mimetype": "text/x-python",
   "name": "python",
   "nbconvert_exporter": "python",
   "pygments_lexer": "ipython3",
   "version": "3.6.9"
  }
 },
 "nbformat": 4,
 "nbformat_minor": 5
}
