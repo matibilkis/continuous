{
 "cells": [
  {
   "cell_type": "code",
   "execution_count": 1,
   "id": "pursuant-summer",
   "metadata": {},
   "outputs": [
    {
     "data": {
      "text/html": [
       "<style>.container { width:100% !important; }</style>"
      ],
      "text/plain": [
       "<IPython.core.display.HTML object>"
      ]
     },
     "metadata": {},
     "output_type": "display_data"
    }
   ],
   "source": [
    "from IPython.core.display import display, HTML\n",
    "display(HTML(\"<style>.container { width:100% !important; }</style>\"))\n",
    "\n",
    "import numpy as np\n",
    "from scipy.stats import norm\n",
    "import matplotlib.pyplot as plt\n",
    "from tqdm import tqdm\n",
    "from misc import *\n",
    "import os \n",
    "\n",
    "import tensorflow as tf\n",
    "%load_ext autoreload\n",
    "%autoreload 2"
   ]
  },
  {
   "cell_type": "markdown",
   "id": "familiar-victim",
   "metadata": {},
   "source": [
    "We consider an harmonic oscillator under continuous measurement, with $[q,p] = i \\hbar$. Defining normalized quadratures according to $q \\rightarrow \\sqrt{\\frac{m \\omega}{\\hbar}} q$, $p \\rightarrow \\frac{p}{\\sqrt{m \\omega \\hbar}}$,(¿under Ehrenfest theorem?), for the first moment of each quadrature we get\n",
    "\n",
    "$\\begin{equation}\n",
    "\\left( \\begin{array}{c} \\langle \\dot{q} \\rangle \\\\ \\langle \\dot{p} \\rangle \\\\ \\end{array}\\right)\n",
    "= \n",
    "\\left( \\begin{array}{cc}\n",
    "0 & \\omega \\\\\n",
    "-\\omega & 0\n",
    "\\end{array} \\right)\n",
    "\\left( \\begin{array}{c} \\langle q \\rangle \\\\ \\langle p \\rangle \\\\ \\end{array}\\right)\n",
    "\\end{equation}\n",
    "$\n",
    "\n",
    "or just $\\dot{\\textbf{q}} = A \\textbf{q}$. We now imagine the field is inside a cavity, and continuously monitored via homodyne detection (check matrix C below, does it correspond to homodyne? only first entry...). Under Langevin equation we get a stochastic evolution for the first two moments:\n",
    "\n",
    "\\begin{eqnarray}\n",
    " d\\textbf{q} &=& \\big(A -  \\chi(\\Sigma)  C \\big)\\textbf{q} dt + \\chi(\\Sigma) dy \\\\\n",
    "\\dot{\\Sigma} &=& A \\Sigma + \\Sigma A^\\dagger + \\Gamma - \\chi(\\Sigma) \\chi^\\dagger(\\Sigma) \\\\\n",
    "d\\textbf{y} &=&  C \\textbf{q} dt + dW \\\\\n",
    "\\end{eqnarray}\n",
    "\n",
    "where $\\textbf{y}$ is the measurement current and $\\chi(\\Sigma) = \\Sigma C^\\dagger + \\Gamma^\\dagger$"
   ]
  },
  {
   "cell_type": "code",
   "execution_count": null,
   "id": "outer-interval",
   "metadata": {},
   "outputs": [],
   "source": [
    "model.initial_state"
   ]
  },
  {
   "cell_type": "code",
   "execution_count": 8,
   "id": "lined-familiar",
   "metadata": {},
   "outputs": [
    {
     "name": "stderr",
     "output_type": "stream",
     "text": [
      "100%|██████████| 1999/1999 [00:00<00:00, 7158.80it/s]\n"
     ]
    }
   ],
   "source": [
    "\n",
    "path = \"/home/cooper-cooper/continous/\"\n",
    "periods = 5\n",
    "ppp = 400\n",
    "itraj = 0\n",
    "\n",
    "#define parameters\n",
    "gamma = 1 #damping from outside\n",
    "Gamma = 1 #measurement rate\n",
    "eta = 1 # measurement efficiency\n",
    "n = 2 # number of photons?\n",
    "w = 1\n",
    "T = 2*np.pi/w\n",
    "\n",
    "C = np.array([[np.sqrt(4*eta*Gamma), 0] ,[0, np.sqrt(4*eta*Gamma)]])\n",
    "\n",
    "A = np.array([\n",
    "    [0., w],\n",
    "    [-w, 0.]])\n",
    "\n",
    "D = np.array([[gamma*(n + 0.5) + Gamma, 0], [0,gamma*(n + 0.5) + Gamma]])\n",
    "\n",
    "su = n + 0.5 + Gamma/gamma\n",
    "cov_in = np.array([[np.sqrt(1+ (16*eta*Gamma*su/gamma) -1)*gamma/(8*eta*Gamma), 0],\n",
    "                   [0,np.sqrt(1+ (16*eta*Gamma*su/gamma) -1)*gamma/(8*eta*Gamma)]])\n",
    "\n",
    "dt = T/ppp\n",
    "total_points = int(T*periods/dt)\n",
    "\n",
    "xi = lambda cov: np.dot(cov, ct(C)) #+ ct(Gamma_matrix)\n",
    "\n",
    "signals = []\n",
    "covs = [cov_in]\n",
    "means = [np.array([1.,0.])] ## initial condition\n",
    "xicovs = [xi(covs[-1])]\n",
    "\n",
    "for k in tqdm(range(total_points)):\n",
    "    x = means[-1]\n",
    "    cov = covs[-1]\n",
    "    XiCov = xicovs[-1]\n",
    "\n",
    "    ##deterministic (just to check)\n",
    "    #dy = np.dot(C, x )*dt\n",
    "    dy = np.dot(C, x + np.dot(np.linalg.pinv(C), np.random.randn(2)/np.sqrt(dt)))*dt # signal\n",
    "    signals.append(dy)\n",
    "\n",
    "    dx = np.dot(A - np.dot(XiCov,C), x)*dt + np.dot(XiCov, dy)  #evolution update (according to what you measure)\n",
    "    dcov = (np.dot(A,cov) + np.dot(cov, ct(A)) + D - np.dot(XiCov, ct(XiCov)))*dt  #covariance update\n",
    "\n",
    "    covs.append(covs[-1] + dcov)\n",
    "    means.append(means[-1] + dx)\n",
    "    xicovs.append(xi(covs[-1]))\n",
    "\n",
    "os.makedirs(path+\"{}/\".format(itraj), exist_ok=True)\n",
    "np.save(path+\"{}/means\".format(itraj),np.array(means) )\n",
    "np.save(path+\"{}/covs\".format(itraj),np.array(covs) )\n",
    "np.save(path+\"{}/signals\".format(itraj),np.array(signals) )\n",
    "np.save(path+\"{}/xicovs\".format(itraj),np.array(xicovs) )\n",
    "np.save(path+\"{}/D\".format(itraj),D)\n",
    "np.save(path+\"{}/C\".format(itraj),C)\n",
    "np.save(path+\"{}/dt\".format(itraj),np.array([dt]))\n",
    "np.save(path+\"{}/A\".format(itraj),A)\n"
   ]
  },
  {
   "cell_type": "code",
   "execution_count": 9,
   "id": "supreme-gardening",
   "metadata": {},
   "outputs": [
    {
     "data": {
      "image/png": "[encoded data removed]",
      "text/plain": [
       "<Figure size 720x720 with 1 Axes>"
      ]
     },
     "metadata": {
      "needs_background": "light"
     },
     "output_type": "display_data"
    }
   ],
   "source": [
    "plt.figure(figsize=(10,10))\n",
    "plt.subplot(321)\n",
    "plt.title(r'$\\vec{x}(t)$')\n",
    "for ind, c in enumerate([\"red\"]):\n",
    "    plt.scatter(range(len(means)),np.array(means)[:,ind], s=1)"
   ]
  },
  {
   "cell_type": "code",
   "execution_count": 4,
   "id": "former-cameroon",
   "metadata": {},
   "outputs": [
    {
     "ename": "NameError",
     "evalue": "name 'j' is not defined",
     "output_type": "error",
     "traceback": [
      "\u001b[0;31m---------------------------------------------------------------------------\u001b[0m",
      "\u001b[0;31mNameError\u001b[0m                                 Traceback (most recent call last)",
      "\u001b[0;32m<ipython-input-4-164964e8e871>\u001b[0m in \u001b[0;36m<module>\u001b[0;34m\u001b[0m\n\u001b[1;32m      7\u001b[0m \u001b[0mplt\u001b[0m\u001b[0;34m.\u001b[0m\u001b[0mtitle\u001b[0m\u001b[0;34m(\u001b[0m\u001b[0;34mr'$\\vec{y}(t)$'\u001b[0m\u001b[0;34m)\u001b[0m\u001b[0;34m\u001b[0m\u001b[0;34m\u001b[0m\u001b[0m\n\u001b[1;32m      8\u001b[0m \u001b[0;32mfor\u001b[0m \u001b[0mind\u001b[0m\u001b[0;34m,\u001b[0m \u001b[0mc\u001b[0m \u001b[0;32min\u001b[0m \u001b[0menumerate\u001b[0m\u001b[0;34m(\u001b[0m\u001b[0;34m[\u001b[0m\u001b[0;34m\"red\"\u001b[0m\u001b[0;34m,\u001b[0m\u001b[0;34m\"blue\"\u001b[0m\u001b[0;34m]\u001b[0m\u001b[0;34m)\u001b[0m\u001b[0;34m:\u001b[0m\u001b[0;34m\u001b[0m\u001b[0;34m\u001b[0m\u001b[0m\n\u001b[0;32m----> 9\u001b[0;31m     \u001b[0mplt\u001b[0m\u001b[0;34m.\u001b[0m\u001b[0mplot\u001b[0m\u001b[0;34m(\u001b[0m\u001b[0mnp\u001b[0m\u001b[0;34m.\u001b[0m\u001b[0marray\u001b[0m\u001b[0;34m(\u001b[0m\u001b[0mj\u001b[0m\u001b[0;34m)\u001b[0m\u001b[0;34m[\u001b[0m\u001b[0;34m:\u001b[0m\u001b[0;34m,\u001b[0m\u001b[0mind\u001b[0m\u001b[0;34m]\u001b[0m\u001b[0;34m,\u001b[0m \u001b[0mcolor\u001b[0m\u001b[0;34m=\u001b[0m\u001b[0mc\u001b[0m\u001b[0;34m)\u001b[0m\u001b[0;34m\u001b[0m\u001b[0;34m\u001b[0m\u001b[0m\n\u001b[0m\u001b[1;32m     10\u001b[0m \u001b[0;34m\u001b[0m\u001b[0m\n\u001b[1;32m     11\u001b[0m \u001b[0mplt\u001b[0m\u001b[0;34m.\u001b[0m\u001b[0msubplot\u001b[0m\u001b[0;34m(\u001b[0m\u001b[0;36m323\u001b[0m\u001b[0;34m)\u001b[0m\u001b[0;34m\u001b[0m\u001b[0;34m\u001b[0m\u001b[0m\n",
      "\u001b[0;31mNameError\u001b[0m: name 'j' is not defined"
     ]
    },
    {
     "data": {
      "image/png": "[encoded data removed]",
      "text/plain": [
       "<Figure size 720x720 with 2 Axes>"
      ]
     },
     "metadata": {
      "needs_background": "light"
     },
     "output_type": "display_data"
    }
   ],
   "source": [
    "plt.figure(figsize=(10,10))\n",
    "plt.subplot(321)\n",
    "plt.title(r'$\\vec{x}(t)$')\n",
    "for ind, c in enumerate([\"red\",\"blue\"]):\n",
    "    plt.plot(np.array(means)[:,ind], color=c)\n",
    "plt.subplot(322)\n",
    "plt.title(r'$\\vec{y}(t)$')\n",
    "for ind, c in enumerate([\"red\",\"blue\"]):\n",
    "    plt.plot(np.array(j)[:,ind], color=c)\n",
    "    \n",
    "plt.subplot(323)\n",
    "plt.title(r'$d\\vec{y}(t)$')\n",
    "for ind, c in enumerate([\"red\",\"blue\"]):\n",
    "    plt.plot(np.array(signals)[:,ind], color=c, linewidth=0.1)"
   ]
  },
  {
   "cell_type": "code",
   "execution_count": null,
   "id": "human-basketball",
   "metadata": {},
   "outputs": [],
   "source": []
  }
 ],
 "metadata": {
  "kernelspec": {
   "display_name": "Python 3 (ipykernel)",
   "language": "python",
   "name": "python3"
  },
  "language_info": {
   "codemirror_mode": {
    "name": "ipython",
    "version": 3
   },
   "file_extension": ".py",
   "mimetype": "text/x-python",
   "name": "python",
   "nbconvert_exporter": "python",
   "pygments_lexer": "ipython3",
   "version": "3.9.2"
  }
 },
 "nbformat": 4,
 "nbformat_minor": 5
}
