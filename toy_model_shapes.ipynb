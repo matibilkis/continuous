{
 "cells": [
  {
   "cell_type": "code",
   "execution_count": 110,
   "id": "eligible-london",
   "metadata": {},
   "outputs": [
    {
     "name": "stdout",
     "output_type": "stream",
     "text": [
      "The autoreload extension is already loaded. To reload it, use:\n",
      "  %reload_ext autoreload\n"
     ]
    }
   ],
   "source": [
    "import tensorflow as tf\n",
    "import numpy as np\n",
    "%load_ext autoreload\n",
    "%autoreload 2\n",
    "\n",
    "from toymodels import *\n"
   ]
  },
  {
   "cell_type": "code",
   "execution_count": 111,
   "id": "connected-knock",
   "metadata": {
    "scrolled": true
   },
   "outputs": [
    {
     "name": "stdout",
     "output_type": "stream",
     "text": [
      "Tensor(\"rnn_27/strided_slice_2:0\", shape=(None, 5), dtype=float32)\n",
      "\\\\\\\n",
      "Tensor(\"rnn_27/zeros:0\", shape=(None, 2), dtype=float32)\n",
      "\n",
      "\n",
      "Tensor(\"rnn_27/while/TensorArrayV2Read/TensorListGetItem:0\", shape=(None, 5), dtype=float32)\n",
      "\\\\\\\n",
      "Tensor(\"rnn_27/while/Placeholder_2:0\", shape=(None, 2), dtype=float32)\n",
      "\n",
      "\n"
     ]
    }
   ],
   "source": [
    "\n",
    "cell = MinimalRNNCell(2)\n",
    "x = tf.keras.Input((None, 5))\n",
    "layer = tf.keras.layers.RNN(cell, return_sequences=True, )\n",
    "y = layer(x)\n",
    "#layer(tf.random.uniform((10,20,5)))"
   ]
  },
  {
   "cell_type": "code",
   "execution_count": 127,
   "id": "blessed-cologne",
   "metadata": {},
   "outputs": [],
   "source": [
    "from toymodels import *\n",
    "model = ToyModel(batch_size=10)\n",
    "model.compile(optimizer=tf.keras.optimizers.Adam(lr=0.01))"
   ]
  },
  {
   "cell_type": "code",
   "execution_count": 128,
   "id": "coated-mobile",
   "metadata": {
    "scrolled": true
   },
   "outputs": [],
   "source": [
    "input_data = tf.random.uniform((100,3,5))\n",
    "output_data = tf.random.uniform((100,3,2))\n",
    "#model(input_data)"
   ]
  },
  {
   "cell_type": "code",
   "execution_count": 129,
   "id": "technical-scoop",
   "metadata": {},
   "outputs": [
    {
     "name": "stdout",
     "output_type": "stream",
     "text": [
      "Epoch 1/100\n",
      "10/10 [==============================] - 0s 826us/step - total_loss: 0.1441\n",
      "Epoch 2/100\n",
      "10/10 [==============================] - 0s 946us/step - total_loss: 0.0950\n",
      "Epoch 3/100\n",
      "10/10 [==============================] - 0s 833us/step - total_loss: 0.1165\n",
      "Epoch 4/100\n",
      "10/10 [==============================] - 0s 991us/step - total_loss: 0.1091\n",
      "Epoch 5/100\n",
      "10/10 [==============================] - 0s 833us/step - total_loss: 0.0942\n",
      "Epoch 6/100\n",
      "10/10 [==============================] - 0s 875us/step - total_loss: 0.1035\n",
      "Epoch 7/100\n",
      "10/10 [==============================] - 0s 904us/step - total_loss: 0.0844\n",
      "Epoch 8/100\n",
      "10/10 [==============================] - 0s 1ms/step - total_loss: 0.0957\n",
      "Epoch 9/100\n",
      "10/10 [==============================] - 0s 831us/step - total_loss: 0.0930\n",
      "Epoch 10/100\n",
      "10/10 [==============================] - 0s 851us/step - total_loss: 0.0801\n",
      "Epoch 11/100\n",
      "10/10 [==============================] - 0s 916us/step - total_loss: 0.0930\n",
      "Epoch 12/100\n",
      "10/10 [==============================] - 0s 682us/step - total_loss: 0.0823\n",
      "Epoch 13/100\n",
      "10/10 [==============================] - 0s 672us/step - total_loss: 0.0838\n",
      "Epoch 14/100\n",
      "10/10 [==============================] - 0s 943us/step - total_loss: 0.0792\n",
      "Epoch 15/100\n",
      "10/10 [==============================] - 0s 850us/step - total_loss: 0.0994\n",
      "Epoch 16/100\n",
      "10/10 [==============================] - 0s 956us/step - total_loss: 0.1119\n",
      "Epoch 17/100\n",
      "10/10 [==============================] - 0s 754us/step - total_loss: 0.0821\n",
      "Epoch 18/100\n",
      "10/10 [==============================] - 0s 1ms/step - total_loss: 0.0738\n",
      "Epoch 19/100\n",
      "10/10 [==============================] - 0s 989us/step - total_loss: 0.0866\n",
      "Epoch 20/100\n",
      "10/10 [==============================] - 0s 767us/step - total_loss: 0.0818\n",
      "Epoch 21/100\n",
      "10/10 [==============================] - 0s 743us/step - total_loss: 0.0844\n",
      "Epoch 22/100\n",
      "10/10 [==============================] - 0s 826us/step - total_loss: 0.0817\n",
      "Epoch 23/100\n",
      "10/10 [==============================] - 0s 1000us/step - total_loss: 0.0980\n",
      "Epoch 24/100\n",
      "10/10 [==============================] - 0s 764us/step - total_loss: 0.0900\n",
      "Epoch 25/100\n",
      "10/10 [==============================] - 0s 1ms/step - total_loss: 0.0868\n",
      "Epoch 26/100\n",
      "10/10 [==============================] - 0s 904us/step - total_loss: 0.0745\n",
      "Epoch 27/100\n",
      "10/10 [==============================] - 0s 853us/step - total_loss: 0.0756\n",
      "Epoch 28/100\n",
      "10/10 [==============================] - 0s 1ms/step - total_loss: 0.0993\n",
      "Epoch 29/100\n",
      "10/10 [==============================] - 0s 1ms/step - total_loss: 0.0795\n",
      "Epoch 30/100\n",
      "10/10 [==============================] - 0s 929us/step - total_loss: 0.0809\n",
      "Epoch 31/100\n",
      "10/10 [==============================] - 0s 875us/step - total_loss: 0.0682\n",
      "Epoch 32/100\n",
      "10/10 [==============================] - 0s 956us/step - total_loss: 0.0859\n",
      "Epoch 33/100\n",
      "10/10 [==============================] - 0s 1ms/step - total_loss: 0.0712\n",
      "Epoch 34/100\n",
      "10/10 [==============================] - 0s 971us/step - total_loss: 0.0817\n",
      "Epoch 35/100\n",
      "10/10 [==============================] - 0s 888us/step - total_loss: 0.0594\n",
      "Epoch 36/100\n",
      "10/10 [==============================] - 0s 1ms/step - total_loss: 0.0734\n",
      "Epoch 37/100\n",
      "10/10 [==============================] - 0s 1ms/step - total_loss: 0.0834\n",
      "Epoch 38/100\n",
      "10/10 [==============================] - 0s 1ms/step - total_loss: 0.1089\n",
      "Epoch 39/100\n",
      "10/10 [==============================] - 0s 944us/step - total_loss: 0.0681\n",
      "Epoch 40/100\n",
      "10/10 [==============================] - 0s 1ms/step - total_loss: 0.0942\n",
      "Epoch 41/100\n",
      "10/10 [==============================] - 0s 1ms/step - total_loss: 0.0823\n",
      "Epoch 42/100\n",
      "10/10 [==============================] - 0s 1ms/step - total_loss: 0.0848\n",
      "Epoch 43/100\n",
      "10/10 [==============================] - 0s 1ms/step - total_loss: 0.1009\n",
      "Epoch 44/100\n",
      "10/10 [==============================] - 0s 1ms/step - total_loss: 0.0815\n",
      "Epoch 45/100\n",
      "10/10 [==============================] - 0s 962us/step - total_loss: 0.0887\n",
      "Epoch 46/100\n",
      "10/10 [==============================] - 0s 1ms/step - total_loss: 0.1030\n",
      "Epoch 47/100\n",
      "10/10 [==============================] - 0s 1ms/step - total_loss: 0.0842\n",
      "Epoch 48/100\n",
      "10/10 [==============================] - 0s 1ms/step - total_loss: 0.0725\n",
      "Epoch 49/100\n",
      "10/10 [==============================] - 0s 863us/step - total_loss: 0.0891\n",
      "Epoch 50/100\n",
      "10/10 [==============================] - 0s 922us/step - total_loss: 0.0767\n",
      "Epoch 51/100\n",
      "10/10 [==============================] - 0s 1ms/step - total_loss: 0.0865\n",
      "Epoch 52/100\n",
      "10/10 [==============================] - 0s 885us/step - total_loss: 0.0888\n",
      "Epoch 53/100\n",
      "10/10 [==============================] - 0s 910us/step - total_loss: 0.0679\n",
      "Epoch 54/100\n",
      "10/10 [==============================] - 0s 1ms/step - total_loss: 0.0804\n",
      "Epoch 55/100\n",
      "10/10 [==============================] - 0s 908us/step - total_loss: 0.0742\n",
      "Epoch 56/100\n",
      "10/10 [==============================] - 0s 879us/step - total_loss: 0.0822\n",
      "Epoch 57/100\n",
      "10/10 [==============================] - 0s 842us/step - total_loss: 0.0935\n",
      "Epoch 58/100\n",
      "10/10 [==============================] - 0s 854us/step - total_loss: 0.0830\n",
      "Epoch 59/100\n",
      "10/10 [==============================] - 0s 694us/step - total_loss: 0.0738\n",
      "Epoch 60/100\n",
      "10/10 [==============================] - 0s 842us/step - total_loss: 0.0763\n",
      "Epoch 61/100\n",
      "10/10 [==============================] - 0s 724us/step - total_loss: 0.0841\n",
      "Epoch 62/100\n",
      "10/10 [==============================] - 0s 730us/step - total_loss: 0.0939\n",
      "Epoch 63/100\n",
      "10/10 [==============================] - 0s 958us/step - total_loss: 0.0726\n",
      "Epoch 64/100\n",
      "10/10 [==============================] - 0s 735us/step - total_loss: 0.0966\n",
      "Epoch 65/100\n",
      "10/10 [==============================] - 0s 787us/step - total_loss: 0.0784\n",
      "Epoch 66/100\n",
      "10/10 [==============================] - 0s 711us/step - total_loss: 0.0723\n",
      "Epoch 67/100\n",
      "10/10 [==============================] - 0s 780us/step - total_loss: 0.0897\n",
      "Epoch 68/100\n",
      "10/10 [==============================] - 0s 798us/step - total_loss: 0.0972\n",
      "Epoch 69/100\n",
      "10/10 [==============================] - 0s 686us/step - total_loss: 0.0821\n",
      "Epoch 70/100\n",
      "10/10 [==============================] - 0s 833us/step - total_loss: 0.0958\n",
      "Epoch 71/100\n",
      "10/10 [==============================] - 0s 709us/step - total_loss: 0.0916\n",
      "Epoch 72/100\n",
      "10/10 [==============================] - 0s 845us/step - total_loss: 0.0786\n",
      "Epoch 73/100\n",
      "10/10 [==============================] - 0s 717us/step - total_loss: 0.0790\n",
      "Epoch 74/100\n",
      "10/10 [==============================] - 0s 721us/step - total_loss: 0.0802\n",
      "Epoch 75/100\n",
      "10/10 [==============================] - 0s 818us/step - total_loss: 0.0879\n",
      "Epoch 76/100\n",
      "10/10 [==============================] - 0s 736us/step - total_loss: 0.0872\n",
      "Epoch 77/100\n",
      "10/10 [==============================] - 0s 837us/step - total_loss: 0.0986\n",
      "Epoch 78/100\n",
      "10/10 [==============================] - 0s 720us/step - total_loss: 0.0822\n",
      "Epoch 79/100\n",
      "10/10 [==============================] - 0s 804us/step - total_loss: 0.0714\n",
      "Epoch 80/100\n",
      "10/10 [==============================] - 0s 734us/step - total_loss: 0.0831\n",
      "Epoch 81/100\n",
      "10/10 [==============================] - 0s 712us/step - total_loss: 0.0946\n",
      "Epoch 82/100\n",
      "10/10 [==============================] - 0s 822us/step - total_loss: 0.0740\n",
      "Epoch 83/100\n",
      "10/10 [==============================] - 0s 671us/step - total_loss: 0.0836\n",
      "Epoch 84/100\n",
      "10/10 [==============================] - 0s 856us/step - total_loss: 0.0660\n",
      "Epoch 85/100\n",
      "10/10 [==============================] - 0s 719us/step - total_loss: 0.0820\n",
      "Epoch 86/100\n",
      "10/10 [==============================] - 0s 795us/step - total_loss: 0.0874\n",
      "Epoch 87/100\n",
      "10/10 [==============================] - 0s 798us/step - total_loss: 0.0918\n",
      "Epoch 88/100\n",
      "10/10 [==============================] - 0s 715us/step - total_loss: 0.0832\n",
      "Epoch 89/100\n",
      "10/10 [==============================] - 0s 812us/step - total_loss: 0.0870\n",
      "Epoch 90/100\n",
      "10/10 [==============================] - 0s 730us/step - total_loss: 0.0760\n",
      "Epoch 91/100\n",
      "10/10 [==============================] - 0s 854us/step - total_loss: 0.0643\n",
      "Epoch 92/100\n",
      "10/10 [==============================] - 0s 803us/step - total_loss: 0.0882\n",
      "Epoch 93/100\n"
     ]
    },
    {
     "name": "stdout",
     "output_type": "stream",
     "text": [
      "10/10 [==============================] - 0s 827us/step - total_loss: 0.0758\n",
      "Epoch 94/100\n",
      "10/10 [==============================] - 0s 860us/step - total_loss: 0.0798\n",
      "Epoch 95/100\n",
      "10/10 [==============================] - 0s 704us/step - total_loss: 0.0797\n",
      "Epoch 96/100\n",
      "10/10 [==============================] - 0s 893us/step - total_loss: 0.0911\n",
      "Epoch 97/100\n",
      "10/10 [==============================] - 0s 810us/step - total_loss: 0.0784\n",
      "Epoch 98/100\n",
      "10/10 [==============================] - 0s 747us/step - total_loss: 0.0976\n",
      "Epoch 99/100\n",
      "10/10 [==============================] - 0s 905us/step - total_loss: 0.0849\n",
      "Epoch 100/100\n",
      "10/10 [==============================] - 0s 730us/step - total_loss: 0.0845\n"
     ]
    },
    {
     "data": {
      "text/plain": [
       "<tensorflow.python.keras.callbacks.History at 0x7f9df055ce48>"
      ]
     },
     "execution_count": 129,
     "metadata": {},
     "output_type": "execute_result"
    }
   ],
   "source": [
    "#You can try any batch_size that you like (128 should be dividible by it)\n",
    "model.fit(x=input_data, y=output_data, epochs=100, batch_size=model.batch_size) "
   ]
  },
  {
   "cell_type": "code",
   "execution_count": 130,
   "id": "tracked-gardening",
   "metadata": {},
   "outputs": [
    {
     "data": {
      "text/plain": [
       "[<tf.Variable 'toy_model_22/rnn_32/Variable:0' shape=(10, 2) dtype=float32, numpy=\n",
       " array([[0.45218867, 0.43792534],\n",
       "        [0.5180223 , 0.5074985 ],\n",
       "        [0.500852  , 0.4667963 ],\n",
       "        [0.3228364 , 0.3242917 ],\n",
       "        [0.40624678, 0.41550678],\n",
       "        [0.506872  , 0.4206905 ],\n",
       "        [0.48990119, 0.48575145],\n",
       "        [0.50824475, 0.45962274],\n",
       "        [0.5194607 , 0.46879008],\n",
       "        [0.46341756, 0.46807536]], dtype=float32)>]"
      ]
     },
     "execution_count": 130,
     "metadata": {},
     "output_type": "execute_result"
    }
   ],
   "source": [
    "model.rec_layer.states"
   ]
  },
  {
   "cell_type": "code",
   "execution_count": null,
   "id": "analyzed-affairs",
   "metadata": {},
   "outputs": [],
   "source": []
  }
 ],
 "metadata": {
  "kernelspec": {
   "display_name": "Python 3",
   "language": "python",
   "name": "python3"
  },
  "language_info": {
   "codemirror_mode": {
    "name": "ipython",
    "version": 3
   },
   "file_extension": ".py",
   "mimetype": "text/x-python",
   "name": "python",
   "nbconvert_exporter": "python",
   "pygments_lexer": "ipython3",
   "version": "3.6.9"
  }
 },
 "nbformat": 4,
 "nbformat_minor": 5
}
