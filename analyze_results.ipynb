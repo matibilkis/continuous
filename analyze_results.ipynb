{
 "cells": [
  {
   "cell_type": "code",
   "execution_count": 1,
   "id": "badff440-c8f4-41fe-b8ec-6eb0aa51bafa",
   "metadata": {},
   "outputs": [],
   "source": [
    "import tensorflow as tf\n",
    "import numpy as np\n",
    "from misc import *\n",
    "import matplotlib.pyplot as plt \n",
    "from tqdm import tqdm\n",
    "import pickle"
   ]
  },
  {
   "cell_type": "code",
   "execution_count": 2,
   "id": "4f0d80d8-a71f-452a-9cf1-cf8567e957f8",
   "metadata": {},
   "outputs": [],
   "source": [
    "periods = 40\n",
    "ppp = 500\n",
    "train_id = 0"
   ]
  },
  {
   "cell_type": "code",
   "execution_count": 3,
   "id": "16b0db35-09b0-4243-8ab7-91d348698e0f",
   "metadata": {},
   "outputs": [
    {
     "name": "stderr",
     "output_type": "stream",
     "text": [
      "100%|██████████| 999/999 [00:30<00:00, 33.17it/s] \n"
     ]
    }
   ],
   "source": [
    "\n",
    "\n",
    "coeffs_A = {}\n",
    "loss_vals = {}\n",
    "grads = {}\n",
    "missing = {}\n",
    "\n",
    "for train_id in range(9,10):\n",
    "    coeffs_A[train_id] = []\n",
    "    loss_vals[train_id] = []\n",
    "    grads[train_id] = []\n",
    "    missing[train_id] = []\n",
    "    for itraj in tqdm(range(1,1000)):\n",
    "        try:\n",
    "            coeffs_A[train_id].append(np.load(get_def_path()+\"{}periods/{}ppp/{}/training/train_id_{}/Coeffs_A.npy\".format(periods,ppp,itraj,train_id)))\n",
    "            loss_vals[train_id].append(np.load(get_def_path()+\"{}periods/{}ppp/{}/training/train_id_{}/total_loss.npy\".format(periods,ppp,itraj,train_id)))    \n",
    "            grads[train_id].append(np.load(get_def_path()+\"{}periods/{}ppp/{}/training/train_id_{}/grads.npy\".format(periods,ppp,itraj,train_id)))     \n",
    "        except Exception:\n",
    "            missing[train_id].append(itraj)"
   ]
  },
  {
   "cell_type": "code",
   "execution_count": 5,
   "id": "52ce0596-65fb-4232-bfbb-cc711a02596a",
   "metadata": {},
   "outputs": [
    {
     "data": {
      "text/plain": [
       "[492]"
      ]
     },
     "execution_count": 5,
     "metadata": {},
     "output_type": "execute_result"
    }
   ],
   "source": [
    "[len(missing[k]) for k in missing.keys()]"
   ]
  },
  {
   "cell_type": "code",
   "execution_count": 6,
   "id": "0f1e6074-0cc9-4c5c-8850-075cc8c0a4a4",
   "metadata": {},
   "outputs": [],
   "source": [
    "import os \n",
    "collected_path = get_def_path()+\"{}periods/{}ppp/training/data_collected/\".format(periods,ppp)\n",
    "os.makedirs(collected_path,exist_ok=True)\n"
   ]
  },
  {
   "cell_type": "code",
   "execution_count": 8,
   "id": "7e2f49c8-ec7b-499c-9883-32c2f1455b64",
   "metadata": {},
   "outputs": [],
   "source": [
    "with open(collected_path+\"coeffsA.pickle\", 'wb') as handle:\n",
    "    pickle.dump(coeffs_A, handle, protocol=pickle.HIGHEST_PROTOCOL)"
   ]
  },
  {
   "cell_type": "code",
   "execution_count": 9,
   "id": "9defd26e-a204-4009-82dd-e11717f143a4",
   "metadata": {},
   "outputs": [],
   "source": [
    "with open(collected_path+\"grads.pickle\", 'wb') as handle:\n",
    "    pickle.dump(grads, handle, protocol=pickle.HIGHEST_PROTOCOL)"
   ]
  },
  {
   "cell_type": "code",
   "execution_count": 10,
   "id": "f659b23e-e270-4e36-94bb-65d761dfc2cf",
   "metadata": {},
   "outputs": [],
   "source": [
    "with open(collected_path+\"loss_vals.pickle\", 'wb') as handle:\n",
    "    pickle.dump(loss_vals, handle, protocol=pickle.HIGHEST_PROTOCOL)"
   ]
  },
  {
   "cell_type": "code",
   "execution_count": 11,
   "id": "589b5de9-22e4-4e0c-bb8c-2a2f73b6a507",
   "metadata": {},
   "outputs": [],
   "source": [
    "with open(collected_path+\"missing.pickle\", 'wb') as handle:\n",
    "    pickle.dump(missing, handle, protocol=pickle.HIGHEST_PROTOCOL)"
   ]
  },
  {
   "cell_type": "code",
   "execution_count": 6,
   "id": "be38f2b5-71c8-4e84-b38a-f3fcd041ebef",
   "metadata": {},
   "outputs": [],
   "source": [
    "import pickle\n",
    "with open(collected_path+\"coeffsA.pickle\", 'rb') as handle:\n",
    "    coeffs_A = pickle.load(handle)"
   ]
  },
  {
   "cell_type": "code",
   "execution_count": 12,
   "id": "b261c391-5e82-44c3-9798-d452de091e9f",
   "metadata": {},
   "outputs": [
    {
     "name": "stderr",
     "output_type": "stream",
     "text": [
      "100%|██████████| 508/508 [00:00<00:00, 442790.20it/s]\n"
     ]
    }
   ],
   "source": [
    "AA={}\n",
    "for train_id in coeffs_A.keys():\n",
    "    AA[train_id] = []\n",
    "    for k in tqdm(coeffs_A[train_id]):\n",
    "        AA[train_id].append(k[-1])"
   ]
  },
  {
   "cell_type": "code",
   "execution_count": 13,
   "id": "21453660-42fe-4fcf-a2de-3143b9549dbb",
   "metadata": {},
   "outputs": [],
   "source": [
    "sstds = [np.std(AA[train_id], axis=0) for train_id in AA.keys()]"
   ]
  },
  {
   "cell_type": "code",
   "execution_count": 14,
   "id": "e88d6f8e-9fbb-4e7c-b57b-27111ee63d56",
   "metadata": {},
   "outputs": [
    {
     "data": {
      "text/plain": [
       "[array([[0.6415406, 2.2475197],\n",
       "        [2.238902 , 0.6393765]], dtype=float32)]"
      ]
     },
     "execution_count": 14,
     "metadata": {},
     "output_type": "execute_result"
    }
   ],
   "source": [
    "sstds"
   ]
  },
  {
   "cell_type": "code",
   "execution_count": 15,
   "id": "58e189af-70f5-4bea-8c20-6fd4c3c81098",
   "metadata": {},
   "outputs": [],
   "source": [
    "mmeans = [np.mean(AA[train_id], axis=0) for train_id in AA.keys()]"
   ]
  },
  {
   "cell_type": "code",
   "execution_count": 16,
   "id": "953e4380-13a9-48a6-9a6c-be2ba01ea06f",
   "metadata": {},
   "outputs": [
    {
     "data": {
      "text/plain": [
       "[array([[-1.030065 ,  3.2364964],\n",
       "        [-3.172012 , -1.0456165]], dtype=float32)]"
      ]
     },
     "execution_count": 16,
     "metadata": {},
     "output_type": "execute_result"
    }
   ],
   "source": [
    "mmeans"
   ]
  },
  {
   "cell_type": "code",
   "execution_count": 30,
   "id": "369dab6e-11ad-4baf-ac0d-f093f3965ef6",
   "metadata": {},
   "outputs": [
    {
     "data": {
      "image/png": "[encoded data removed]",
      "text/plain": [
       "<Figure size 504x504 with 4 Axes>"
      ]
     },
     "metadata": {
      "needs_background": "light"
     },
     "output_type": "display_data"
    }
   ],
   "source": [
    "times = np.linspace(0,periods,ppp*periods)\n",
    "\n",
    "truncation_times = [k for k in np.logspace(times[10],np.log10(times[-1]), 10)]\n",
    "\n",
    "epochs = 10**np.array(truncation_times[3:-1])\n",
    "\n",
    "lbsize = 20\n",
    "fig=plt.figure(figsize=(7,7))\n",
    "for i in range(4):\n",
    "    ax=plt.subplot(221+i)\n",
    "    ax.plot(epochs,np.array(mmeans[3:])[:,i//2,i%2], linewidth=4, color=\"blue\", alpha=0.5)\n",
    "    ax.plot(epochs, [0,2*np.pi,-2*np.pi,0][i]*np.ones(len(epochs)), '--',linewidth=4, alpha=0.5, color=\"red\")\n",
    "allaxes = fig.get_axes()\n",
    "for ind,ax in enumerate(allaxes):\n",
    "    ax.set_xlabel(\"training step\",size=lbsize)\n",
    "    ax.set_ylabel(r'$\\tilde{A}$'+\"({},{})\".format(ind//2,ind%2),size=lbsize)\n",
    "    ax.tick_params(axis='both', which='major', labelsize=10)\n",
    "    if ind%2 == 1:\n",
    "        ax.yaxis.tick_right()\n",
    "    if ind//2 == 0:\n",
    "        ax.set_xticks([])\n",
    "        ax.set_xlabel(\"\")"
   ]
  },
  {
   "cell_type": "code",
   "execution_count": null,
   "id": "49abf2f1-25f4-4bc2-8e3c-42fcdf59124a",
   "metadata": {},
   "outputs": [],
   "source": []
  },
  {
   "cell_type": "code",
   "execution_count": null,
   "id": "e92e9610-4311-48a8-b67a-d995c17a491d",
   "metadata": {},
   "outputs": [],
   "source": []
  }
 ],
 "metadata": {
  "kernelspec": {
   "display_name": "qenv_bilkis",
   "language": "python",
   "name": "qenv_bilkis"
  },
  "language_info": {
   "codemirror_mode": {
    "name": "ipython",
    "version": 3
   },
   "file_extension": ".py",
   "mimetype": "text/x-python",
   "name": "python",
   "nbconvert_exporter": "python",
   "pygments_lexer": "ipython3",
   "version": "3.6.8"
  }
 },
 "nbformat": 4,
 "nbformat_minor": 5
}
