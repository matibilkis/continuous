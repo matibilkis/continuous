{
 "cells": [
  {
   "cell_type": "code",
   "execution_count": 2,
   "id": "surprised-richmond",
   "metadata": {},
   "outputs": [
    {
     "ename": "ModuleNotFoundError",
     "evalue": "No module named 'matplotlib'",
     "output_type": "error",
     "traceback": [
      "\u001b[0;31m---------------------------------------------------------------------------\u001b[0m",
      "\u001b[0;31mModuleNotFoundError\u001b[0m                       Traceback (most recent call last)",
      "\u001b[0;32m<ipython-input-2-a1e0e4c719e4>\u001b[0m in \u001b[0;36m<module>\u001b[0;34m\u001b[0m\n\u001b[1;32m     15\u001b[0m \u001b[0;34m\u001b[0m\u001b[0m\n\u001b[1;32m     16\u001b[0m \u001b[0;34m\u001b[0m\u001b[0m\n\u001b[0;32m---> 17\u001b[0;31m \u001b[0;32mimport\u001b[0m \u001b[0mmatplotlib\u001b[0m\u001b[0;34m.\u001b[0m\u001b[0mpyplot\u001b[0m \u001b[0;32mas\u001b[0m \u001b[0mplt\u001b[0m\u001b[0;34m\u001b[0m\u001b[0;34m\u001b[0m\u001b[0m\n\u001b[0m\u001b[1;32m     18\u001b[0m \u001b[0;32mfrom\u001b[0m \u001b[0mtqdm\u001b[0m \u001b[0;32mimport\u001b[0m \u001b[0mtqdm\u001b[0m\u001b[0;34m\u001b[0m\u001b[0;34m\u001b[0m\u001b[0m\n\u001b[1;32m     19\u001b[0m \u001b[0;32mfrom\u001b[0m \u001b[0mmisc\u001b[0m \u001b[0;32mimport\u001b[0m \u001b[0;34m*\u001b[0m\u001b[0;34m\u001b[0m\u001b[0;34m\u001b[0m\u001b[0m\n",
      "\u001b[0;31mModuleNotFoundError\u001b[0m: No module named 'matplotlib'"
     ]
    }
   ],
   "source": [
    "from IPython.core.display import display, HTML\n",
    "\n",
    "import numpy as np\n",
    "means = np.load(\"data/means.npy\").astype(np.float32)\n",
    "covs = np.load(\"data/covs.npy\").astype(np.float32)\n",
    "xicovs = np.load(\"data/xicovs.npy\").astype(np.float32)\n",
    "signals = np.load(\"data/signals.npy\").astype(np.float32)\n",
    "A = np.load(\"data/A.npy\").astype(np.float32)\n",
    "dt = np.load(\"data/dt.npy\")[0]\n",
    "C = np.load(\"data/C.npy\").astype(np.float32)\n",
    "D = np.load(\"data/D.npy\").astype(np.float32)\n",
    "\n",
    "coeffs = [C, A, D , dt]\n",
    "\n",
    "\n",
    "\n",
    "import matplotlib.pyplot as plt\n",
    "from tqdm import tqdm\n",
    "from misc import *\n",
    "import tensorflow as tf\n",
    "%load_ext autoreload\n",
    "%autoreload 2\n",
    "\n",
    "tfsignals = tf.convert_to_tensor(signals)\n",
    "tfxicovs = tf.convert_to_tensor(xicovs)[:-1]\n"
   ]
  },
  {
   "cell_type": "code",
   "execution_count": 38,
   "id": "equal-issue",
   "metadata": {},
   "outputs": [],
   "source": [
    "batched_signals = tf.stack(tf.split(tfsignals, 10)) \n",
    "batched_xicovs  = tf.stack(tf.split(tfxicovs, 10))\n",
    "\n",
    "inputs = (batched_xicovs, batched_signals)"
   ]
  },
  {
   "cell_type": "code",
   "execution_count": 41,
   "id": "smaller-designation",
   "metadata": {},
   "outputs": [
    {
     "name": "stdout",
     "output_type": "stream",
     "text": [
      "Epoch 1/100\n",
      "WARNING:tensorflow:Gradients do not exist for variables ['rec_model_10/rnn_10/stacked_rnn_cells_10/minimal_rnn_cell_10/recurrent_kernel:0'] when minimizing the loss.\n",
      "WARNING:tensorflow:Gradients do not exist for variables ['rec_model_10/rnn_10/stacked_rnn_cells_10/minimal_rnn_cell_10/recurrent_kernel:0'] when minimizing the loss.\n",
      "1/1 [==============================] - 0s 1ms/step - total_loss: 5.0787e-04\n",
      "Epoch 2/100\n",
      "1/1 [==============================] - 0s 1ms/step - total_loss: 5.0769e-04\n",
      "Epoch 3/100\n",
      "1/1 [==============================] - 0s 1ms/step - total_loss: 5.0752e-04\n",
      "Epoch 4/100\n",
      "1/1 [==============================] - 0s 964us/step - total_loss: 5.0739e-04\n",
      "Epoch 5/100\n",
      "1/1 [==============================] - 0s 1ms/step - total_loss: 5.0729e-04\n",
      "Epoch 6/100\n",
      "1/1 [==============================] - 0s 1ms/step - total_loss: 5.0723e-04\n",
      "Epoch 7/100\n",
      "1/1 [==============================] - 0s 984us/step - total_loss: 5.0717e-04\n",
      "Epoch 8/100\n",
      "1/1 [==============================] - 0s 978us/step - total_loss: 5.0711e-04\n",
      "Epoch 9/100\n",
      "1/1 [==============================] - 0s 1ms/step - total_loss: 5.0704e-04\n",
      "Epoch 10/100\n",
      "1/1 [==============================] - 0s 991us/step - total_loss: 5.0696e-04\n",
      "Epoch 11/100\n",
      "1/1 [==============================] - 0s 962us/step - total_loss: 5.0688e-04\n",
      "Epoch 12/100\n",
      "1/1 [==============================] - 0s 977us/step - total_loss: 5.0681e-04\n",
      "Epoch 13/100\n",
      "1/1 [==============================] - 0s 2ms/step - total_loss: 5.0676e-04\n",
      "Epoch 14/100\n",
      "1/1 [==============================] - 0s 986us/step - total_loss: 5.0671e-04\n",
      "Epoch 15/100\n",
      "1/1 [==============================] - 0s 1ms/step - total_loss: 5.0668e-04\n",
      "Epoch 16/100\n",
      "1/1 [==============================] - 0s 970us/step - total_loss: 5.0665e-04\n",
      "Epoch 17/100\n",
      "1/1 [==============================] - 0s 1ms/step - total_loss: 5.0664e-04\n",
      "Epoch 18/100\n",
      "1/1 [==============================] - 0s 987us/step - total_loss: 5.0662e-04\n",
      "Epoch 19/100\n",
      "1/1 [==============================] - 0s 2ms/step - total_loss: 5.0660e-04\n",
      "Epoch 20/100\n",
      "1/1 [==============================] - 0s 1ms/step - total_loss: 5.0659e-04\n",
      "Epoch 21/100\n",
      "1/1 [==============================] - 0s 990us/step - total_loss: 5.0658e-04\n",
      "Epoch 22/100\n",
      "1/1 [==============================] - 0s 1ms/step - total_loss: 5.0657e-04\n",
      "Epoch 23/100\n",
      "1/1 [==============================] - 0s 1ms/step - total_loss: 5.0657e-04\n",
      "Epoch 24/100\n",
      "1/1 [==============================] - 0s 1ms/step - total_loss: 5.0657e-04\n",
      "Epoch 25/100\n",
      "1/1 [==============================] - 0s 1ms/step - total_loss: 5.0657e-04\n",
      "Epoch 26/100\n",
      "1/1 [==============================] - 0s 1ms/step - total_loss: 5.0658e-04\n",
      "Epoch 27/100\n",
      "1/1 [==============================] - 0s 973us/step - total_loss: 5.0659e-04\n",
      "Epoch 28/100\n",
      "1/1 [==============================] - 0s 2ms/step - total_loss: 5.0659e-04\n",
      "Epoch 29/100\n",
      "1/1 [==============================] - 0s 1ms/step - total_loss: 5.0660e-04\n",
      "Epoch 30/100\n",
      "1/1 [==============================] - 0s 1ms/step - total_loss: 5.0660e-04\n",
      "Epoch 31/100\n",
      "1/1 [==============================] - 0s 2ms/step - total_loss: 5.0660e-04\n",
      "Epoch 32/100\n",
      "1/1 [==============================] - 0s 2ms/step - total_loss: 5.0660e-04\n",
      "Epoch 33/100\n",
      "1/1 [==============================] - 0s 1ms/step - total_loss: 5.0660e-04\n",
      "Epoch 34/100\n",
      "1/1 [==============================] - 0s 1ms/step - total_loss: 5.0659e-04\n",
      "Epoch 35/100\n",
      "1/1 [==============================] - 0s 3ms/step - total_loss: 5.0659e-04\n",
      "Epoch 36/100\n",
      "1/1 [==============================] - 0s 957us/step - total_loss: 5.0659e-04\n",
      "Epoch 37/100\n",
      "1/1 [==============================] - 0s 1ms/step - total_loss: 5.0659e-04\n",
      "Epoch 38/100\n",
      "1/1 [==============================] - 0s 935us/step - total_loss: 5.0659e-04\n",
      "Epoch 39/100\n",
      "1/1 [==============================] - 0s 1ms/step - total_loss: 5.0659e-04\n",
      "Epoch 40/100\n",
      "1/1 [==============================] - 0s 973us/step - total_loss: 5.0658e-04\n",
      "Epoch 41/100\n",
      "1/1 [==============================] - 0s 982us/step - total_loss: 5.0658e-04\n",
      "Epoch 42/100\n",
      "1/1 [==============================] - 0s 1ms/step - total_loss: 5.0658e-04\n",
      "Epoch 43/100\n",
      "1/1 [==============================] - 0s 1ms/step - total_loss: 5.0657e-04\n",
      "Epoch 44/100\n",
      "1/1 [==============================] - 0s 2ms/step - total_loss: 5.0657e-04\n",
      "Epoch 45/100\n",
      "1/1 [==============================] - 0s 1ms/step - total_loss: 5.0657e-04\n",
      "Epoch 46/100\n",
      "1/1 [==============================] - 0s 1ms/step - total_loss: 5.0657e-04\n",
      "Epoch 47/100\n",
      "1/1 [==============================] - 0s 1ms/step - total_loss: 5.0657e-04\n",
      "Epoch 48/100\n",
      "1/1 [==============================] - 0s 937us/step - total_loss: 5.0657e-04\n",
      "Epoch 49/100\n",
      "1/1 [==============================] - 0s 1ms/step - total_loss: 5.0657e-04\n",
      "Epoch 50/100\n",
      "1/1 [==============================] - 0s 1ms/step - total_loss: 5.0657e-04\n",
      "Epoch 51/100\n",
      "1/1 [==============================] - 0s 1ms/step - total_loss: 5.0657e-04\n",
      "Epoch 52/100\n",
      "1/1 [==============================] - 0s 975us/step - total_loss: 5.0657e-04\n",
      "Epoch 53/100\n",
      "1/1 [==============================] - 0s 1ms/step - total_loss: 5.0657e-04\n",
      "Epoch 54/100\n",
      "1/1 [==============================] - 0s 1ms/step - total_loss: 5.0657e-04\n",
      "Epoch 55/100\n",
      "1/1 [==============================] - 0s 1ms/step - total_loss: 5.0657e-04\n",
      "Epoch 56/100\n",
      "1/1 [==============================] - 0s 1ms/step - total_loss: 5.0657e-04\n",
      "Epoch 57/100\n",
      "1/1 [==============================] - 0s 985us/step - total_loss: 5.0657e-04\n",
      "Epoch 58/100\n",
      "1/1 [==============================] - 0s 1ms/step - total_loss: 5.0657e-04\n",
      "Epoch 59/100\n",
      "1/1 [==============================] - 0s 982us/step - total_loss: 5.0657e-04\n",
      "Epoch 60/100\n",
      "1/1 [==============================] - 0s 1ms/step - total_loss: 5.0657e-04\n",
      "Epoch 61/100\n"
     ]
    },
    {
     "ename": "KeyboardInterrupt",
     "evalue": "",
     "output_type": "error",
     "traceback": [
      "\u001b[0;31m---------------------------------------------------------------------------\u001b[0m",
      "\u001b[0;31mKeyboardInterrupt\u001b[0m                         Traceback (most recent call last)",
      "\u001b[0;32m<ipython-input-41-aef04256019f>\u001b[0m in \u001b[0;36m<module>\u001b[0;34m\u001b[0m\n\u001b[1;32m      4\u001b[0m \u001b[0mmodel\u001b[0m\u001b[0;34m.\u001b[0m\u001b[0mcompile\u001b[0m\u001b[0;34m(\u001b[0m\u001b[0moptimizer\u001b[0m\u001b[0;34m=\u001b[0m\u001b[0mtf\u001b[0m\u001b[0;34m.\u001b[0m\u001b[0mkeras\u001b[0m\u001b[0;34m.\u001b[0m\u001b[0moptimizers\u001b[0m\u001b[0;34m.\u001b[0m\u001b[0mAdam\u001b[0m\u001b[0;34m(\u001b[0m\u001b[0mlr\u001b[0m\u001b[0;34m=\u001b[0m\u001b[0;36m0.1\u001b[0m\u001b[0;34m)\u001b[0m\u001b[0;34m)\u001b[0m\u001b[0;34m\u001b[0m\u001b[0;34m\u001b[0m\u001b[0m\n\u001b[1;32m      5\u001b[0m \u001b[0;34m\u001b[0m\u001b[0m\n\u001b[0;32m----> 6\u001b[0;31m \u001b[0mmodel\u001b[0m\u001b[0;34m.\u001b[0m\u001b[0mfit\u001b[0m\u001b[0;34m(\u001b[0m\u001b[0mx\u001b[0m\u001b[0;34m=\u001b[0m\u001b[0minputs\u001b[0m\u001b[0;34m,\u001b[0m \u001b[0my\u001b[0m\u001b[0;34m=\u001b[0m\u001b[0mbatched_signals\u001b[0m\u001b[0;34m,\u001b[0m \u001b[0mepochs\u001b[0m\u001b[0;34m=\u001b[0m\u001b[0;36m100\u001b[0m\u001b[0;34m,\u001b[0m \u001b[0mbatch_size\u001b[0m\u001b[0;34m=\u001b[0m\u001b[0mmodel\u001b[0m\u001b[0;34m.\u001b[0m\u001b[0mbatch_size\u001b[0m\u001b[0;34m)\u001b[0m\u001b[0;34m\u001b[0m\u001b[0;34m\u001b[0m\u001b[0m\n\u001b[0m",
      "\u001b[0;32m~/.local/lib/python3.6/site-packages/tensorflow/python/keras/engine/training.py\u001b[0m in \u001b[0;36m_method_wrapper\u001b[0;34m(self, *args, **kwargs)\u001b[0m\n\u001b[1;32m    106\u001b[0m   \u001b[0;32mdef\u001b[0m \u001b[0m_method_wrapper\u001b[0m\u001b[0;34m(\u001b[0m\u001b[0mself\u001b[0m\u001b[0;34m,\u001b[0m \u001b[0;34m*\u001b[0m\u001b[0margs\u001b[0m\u001b[0;34m,\u001b[0m \u001b[0;34m**\u001b[0m\u001b[0mkwargs\u001b[0m\u001b[0;34m)\u001b[0m\u001b[0;34m:\u001b[0m\u001b[0;34m\u001b[0m\u001b[0;34m\u001b[0m\u001b[0m\n\u001b[1;32m    107\u001b[0m     \u001b[0;32mif\u001b[0m \u001b[0;32mnot\u001b[0m \u001b[0mself\u001b[0m\u001b[0;34m.\u001b[0m\u001b[0m_in_multi_worker_mode\u001b[0m\u001b[0;34m(\u001b[0m\u001b[0;34m)\u001b[0m\u001b[0;34m:\u001b[0m  \u001b[0;31m# pylint: disable=protected-access\u001b[0m\u001b[0;34m\u001b[0m\u001b[0;34m\u001b[0m\u001b[0m\n\u001b[0;32m--> 108\u001b[0;31m       \u001b[0;32mreturn\u001b[0m \u001b[0mmethod\u001b[0m\u001b[0;34m(\u001b[0m\u001b[0mself\u001b[0m\u001b[0;34m,\u001b[0m \u001b[0;34m*\u001b[0m\u001b[0margs\u001b[0m\u001b[0;34m,\u001b[0m \u001b[0;34m**\u001b[0m\u001b[0mkwargs\u001b[0m\u001b[0;34m)\u001b[0m\u001b[0;34m\u001b[0m\u001b[0;34m\u001b[0m\u001b[0m\n\u001b[0m\u001b[1;32m    109\u001b[0m \u001b[0;34m\u001b[0m\u001b[0m\n\u001b[1;32m    110\u001b[0m     \u001b[0;31m# Running inside `run_distribute_coordinator` already.\u001b[0m\u001b[0;34m\u001b[0m\u001b[0;34m\u001b[0m\u001b[0;34m\u001b[0m\u001b[0m\n",
      "\u001b[0;32m~/.local/lib/python3.6/site-packages/tensorflow/python/keras/engine/training.py\u001b[0m in \u001b[0;36mfit\u001b[0;34m(self, x, y, batch_size, epochs, verbose, callbacks, validation_split, validation_data, shuffle, class_weight, sample_weight, initial_epoch, steps_per_epoch, validation_steps, validation_batch_size, validation_freq, max_queue_size, workers, use_multiprocessing)\u001b[0m\n\u001b[1;32m   1096\u001b[0m                 batch_size=batch_size):\n\u001b[1;32m   1097\u001b[0m               \u001b[0mcallbacks\u001b[0m\u001b[0;34m.\u001b[0m\u001b[0mon_train_batch_begin\u001b[0m\u001b[0;34m(\u001b[0m\u001b[0mstep\u001b[0m\u001b[0;34m)\u001b[0m\u001b[0;34m\u001b[0m\u001b[0;34m\u001b[0m\u001b[0m\n\u001b[0;32m-> 1098\u001b[0;31m               \u001b[0mtmp_logs\u001b[0m \u001b[0;34m=\u001b[0m \u001b[0mtrain_function\u001b[0m\u001b[0;34m(\u001b[0m\u001b[0miterator\u001b[0m\u001b[0;34m)\u001b[0m\u001b[0;34m\u001b[0m\u001b[0;34m\u001b[0m\u001b[0m\n\u001b[0m\u001b[1;32m   1099\u001b[0m               \u001b[0;32mif\u001b[0m \u001b[0mdata_handler\u001b[0m\u001b[0;34m.\u001b[0m\u001b[0mshould_sync\u001b[0m\u001b[0;34m:\u001b[0m\u001b[0;34m\u001b[0m\u001b[0;34m\u001b[0m\u001b[0m\n\u001b[1;32m   1100\u001b[0m                 \u001b[0mcontext\u001b[0m\u001b[0;34m.\u001b[0m\u001b[0masync_wait\u001b[0m\u001b[0;34m(\u001b[0m\u001b[0;34m)\u001b[0m\u001b[0;34m\u001b[0m\u001b[0;34m\u001b[0m\u001b[0m\n",
      "\u001b[0;32m~/.local/lib/python3.6/site-packages/tensorflow/python/eager/def_function.py\u001b[0m in \u001b[0;36m__call__\u001b[0;34m(self, *args, **kwds)\u001b[0m\n\u001b[1;32m    778\u001b[0m       \u001b[0;32melse\u001b[0m\u001b[0;34m:\u001b[0m\u001b[0;34m\u001b[0m\u001b[0;34m\u001b[0m\u001b[0m\n\u001b[1;32m    779\u001b[0m         \u001b[0mcompiler\u001b[0m \u001b[0;34m=\u001b[0m \u001b[0;34m\"nonXla\"\u001b[0m\u001b[0;34m\u001b[0m\u001b[0;34m\u001b[0m\u001b[0m\n\u001b[0;32m--> 780\u001b[0;31m         \u001b[0mresult\u001b[0m \u001b[0;34m=\u001b[0m \u001b[0mself\u001b[0m\u001b[0;34m.\u001b[0m\u001b[0m_call\u001b[0m\u001b[0;34m(\u001b[0m\u001b[0;34m*\u001b[0m\u001b[0margs\u001b[0m\u001b[0;34m,\u001b[0m \u001b[0;34m**\u001b[0m\u001b[0mkwds\u001b[0m\u001b[0;34m)\u001b[0m\u001b[0;34m\u001b[0m\u001b[0;34m\u001b[0m\u001b[0m\n\u001b[0m\u001b[1;32m    781\u001b[0m \u001b[0;34m\u001b[0m\u001b[0m\n\u001b[1;32m    782\u001b[0m       \u001b[0mnew_tracing_count\u001b[0m \u001b[0;34m=\u001b[0m \u001b[0mself\u001b[0m\u001b[0;34m.\u001b[0m\u001b[0m_get_tracing_count\u001b[0m\u001b[0;34m(\u001b[0m\u001b[0;34m)\u001b[0m\u001b[0;34m\u001b[0m\u001b[0;34m\u001b[0m\u001b[0m\n",
      "\u001b[0;32m~/.local/lib/python3.6/site-packages/tensorflow/python/eager/def_function.py\u001b[0m in \u001b[0;36m_call\u001b[0;34m(self, *args, **kwds)\u001b[0m\n\u001b[1;32m    812\u001b[0m       \u001b[0;31m# In this case we have not created variables on the first call. So we can\u001b[0m\u001b[0;34m\u001b[0m\u001b[0;34m\u001b[0m\u001b[0;34m\u001b[0m\u001b[0m\n\u001b[1;32m    813\u001b[0m       \u001b[0;31m# run the first trace but we should fail if variables are created.\u001b[0m\u001b[0;34m\u001b[0m\u001b[0;34m\u001b[0m\u001b[0;34m\u001b[0m\u001b[0m\n\u001b[0;32m--> 814\u001b[0;31m       \u001b[0mresults\u001b[0m \u001b[0;34m=\u001b[0m \u001b[0mself\u001b[0m\u001b[0;34m.\u001b[0m\u001b[0m_stateful_fn\u001b[0m\u001b[0;34m(\u001b[0m\u001b[0;34m*\u001b[0m\u001b[0margs\u001b[0m\u001b[0;34m,\u001b[0m \u001b[0;34m**\u001b[0m\u001b[0mkwds\u001b[0m\u001b[0;34m)\u001b[0m\u001b[0;34m\u001b[0m\u001b[0;34m\u001b[0m\u001b[0m\n\u001b[0m\u001b[1;32m    815\u001b[0m       \u001b[0;32mif\u001b[0m \u001b[0mself\u001b[0m\u001b[0;34m.\u001b[0m\u001b[0m_created_variables\u001b[0m\u001b[0;34m:\u001b[0m\u001b[0;34m\u001b[0m\u001b[0;34m\u001b[0m\u001b[0m\n\u001b[1;32m    816\u001b[0m         raise ValueError(\"Creating variables on a non-first call to a function\"\n",
      "\u001b[0;32m~/.local/lib/python3.6/site-packages/tensorflow/python/eager/function.py\u001b[0m in \u001b[0;36m__call__\u001b[0;34m(self, *args, **kwargs)\u001b[0m\n\u001b[1;32m   2827\u001b[0m     \u001b[0;32mwith\u001b[0m \u001b[0mself\u001b[0m\u001b[0;34m.\u001b[0m\u001b[0m_lock\u001b[0m\u001b[0;34m:\u001b[0m\u001b[0;34m\u001b[0m\u001b[0;34m\u001b[0m\u001b[0m\n\u001b[1;32m   2828\u001b[0m       \u001b[0mgraph_function\u001b[0m\u001b[0;34m,\u001b[0m \u001b[0margs\u001b[0m\u001b[0;34m,\u001b[0m \u001b[0mkwargs\u001b[0m \u001b[0;34m=\u001b[0m \u001b[0mself\u001b[0m\u001b[0;34m.\u001b[0m\u001b[0m_maybe_define_function\u001b[0m\u001b[0;34m(\u001b[0m\u001b[0margs\u001b[0m\u001b[0;34m,\u001b[0m \u001b[0mkwargs\u001b[0m\u001b[0;34m)\u001b[0m\u001b[0;34m\u001b[0m\u001b[0;34m\u001b[0m\u001b[0m\n\u001b[0;32m-> 2829\u001b[0;31m     \u001b[0;32mreturn\u001b[0m \u001b[0mgraph_function\u001b[0m\u001b[0;34m.\u001b[0m\u001b[0m_filtered_call\u001b[0m\u001b[0;34m(\u001b[0m\u001b[0margs\u001b[0m\u001b[0;34m,\u001b[0m \u001b[0mkwargs\u001b[0m\u001b[0;34m)\u001b[0m  \u001b[0;31m# pylint: disable=protected-access\u001b[0m\u001b[0;34m\u001b[0m\u001b[0;34m\u001b[0m\u001b[0m\n\u001b[0m\u001b[1;32m   2830\u001b[0m \u001b[0;34m\u001b[0m\u001b[0m\n\u001b[1;32m   2831\u001b[0m   \u001b[0;34m@\u001b[0m\u001b[0mproperty\u001b[0m\u001b[0;34m\u001b[0m\u001b[0;34m\u001b[0m\u001b[0m\n",
      "\u001b[0;32m~/.local/lib/python3.6/site-packages/tensorflow/python/eager/function.py\u001b[0m in \u001b[0;36m_filtered_call\u001b[0;34m(self, args, kwargs, cancellation_manager)\u001b[0m\n\u001b[1;32m   1846\u001b[0m                            resource_variable_ops.BaseResourceVariable))],\n\u001b[1;32m   1847\u001b[0m         \u001b[0mcaptured_inputs\u001b[0m\u001b[0;34m=\u001b[0m\u001b[0mself\u001b[0m\u001b[0;34m.\u001b[0m\u001b[0mcaptured_inputs\u001b[0m\u001b[0;34m,\u001b[0m\u001b[0;34m\u001b[0m\u001b[0;34m\u001b[0m\u001b[0m\n\u001b[0;32m-> 1848\u001b[0;31m         cancellation_manager=cancellation_manager)\n\u001b[0m\u001b[1;32m   1849\u001b[0m \u001b[0;34m\u001b[0m\u001b[0m\n\u001b[1;32m   1850\u001b[0m   \u001b[0;32mdef\u001b[0m \u001b[0m_call_flat\u001b[0m\u001b[0;34m(\u001b[0m\u001b[0mself\u001b[0m\u001b[0;34m,\u001b[0m \u001b[0margs\u001b[0m\u001b[0;34m,\u001b[0m \u001b[0mcaptured_inputs\u001b[0m\u001b[0;34m,\u001b[0m \u001b[0mcancellation_manager\u001b[0m\u001b[0;34m=\u001b[0m\u001b[0;32mNone\u001b[0m\u001b[0;34m)\u001b[0m\u001b[0;34m:\u001b[0m\u001b[0;34m\u001b[0m\u001b[0;34m\u001b[0m\u001b[0m\n",
      "\u001b[0;32m~/.local/lib/python3.6/site-packages/tensorflow/python/eager/function.py\u001b[0m in \u001b[0;36m_call_flat\u001b[0;34m(self, args, captured_inputs, cancellation_manager)\u001b[0m\n\u001b[1;32m   1922\u001b[0m       \u001b[0;31m# No tape is watching; skip to running the function.\u001b[0m\u001b[0;34m\u001b[0m\u001b[0;34m\u001b[0m\u001b[0;34m\u001b[0m\u001b[0m\n\u001b[1;32m   1923\u001b[0m       return self._build_call_outputs(self._inference_function.call(\n\u001b[0;32m-> 1924\u001b[0;31m           ctx, args, cancellation_manager=cancellation_manager))\n\u001b[0m\u001b[1;32m   1925\u001b[0m     forward_backward = self._select_forward_and_backward_functions(\n\u001b[1;32m   1926\u001b[0m         \u001b[0margs\u001b[0m\u001b[0;34m,\u001b[0m\u001b[0;34m\u001b[0m\u001b[0;34m\u001b[0m\u001b[0m\n",
      "\u001b[0;32m~/.local/lib/python3.6/site-packages/tensorflow/python/eager/function.py\u001b[0m in \u001b[0;36mcall\u001b[0;34m(self, ctx, args, cancellation_manager)\u001b[0m\n\u001b[1;32m    548\u001b[0m               \u001b[0minputs\u001b[0m\u001b[0;34m=\u001b[0m\u001b[0margs\u001b[0m\u001b[0;34m,\u001b[0m\u001b[0;34m\u001b[0m\u001b[0;34m\u001b[0m\u001b[0m\n\u001b[1;32m    549\u001b[0m               \u001b[0mattrs\u001b[0m\u001b[0;34m=\u001b[0m\u001b[0mattrs\u001b[0m\u001b[0;34m,\u001b[0m\u001b[0;34m\u001b[0m\u001b[0;34m\u001b[0m\u001b[0m\n\u001b[0;32m--> 550\u001b[0;31m               ctx=ctx)\n\u001b[0m\u001b[1;32m    551\u001b[0m         \u001b[0;32melse\u001b[0m\u001b[0;34m:\u001b[0m\u001b[0;34m\u001b[0m\u001b[0;34m\u001b[0m\u001b[0m\n\u001b[1;32m    552\u001b[0m           outputs = execute.execute_with_cancellation(\n",
      "\u001b[0;32m~/.local/lib/python3.6/site-packages/tensorflow/python/eager/execute.py\u001b[0m in \u001b[0;36mquick_execute\u001b[0;34m(op_name, num_outputs, inputs, attrs, ctx, name)\u001b[0m\n\u001b[1;32m     58\u001b[0m     \u001b[0mctx\u001b[0m\u001b[0;34m.\u001b[0m\u001b[0mensure_initialized\u001b[0m\u001b[0;34m(\u001b[0m\u001b[0;34m)\u001b[0m\u001b[0;34m\u001b[0m\u001b[0;34m\u001b[0m\u001b[0m\n\u001b[1;32m     59\u001b[0m     tensors = pywrap_tfe.TFE_Py_Execute(ctx._handle, device_name, op_name,\n\u001b[0;32m---> 60\u001b[0;31m                                         inputs, attrs, num_outputs)\n\u001b[0m\u001b[1;32m     61\u001b[0m   \u001b[0;32mexcept\u001b[0m \u001b[0mcore\u001b[0m\u001b[0;34m.\u001b[0m\u001b[0m_NotOkStatusException\u001b[0m \u001b[0;32mas\u001b[0m \u001b[0me\u001b[0m\u001b[0;34m:\u001b[0m\u001b[0;34m\u001b[0m\u001b[0;34m\u001b[0m\u001b[0m\n\u001b[1;32m     62\u001b[0m     \u001b[0;32mif\u001b[0m \u001b[0mname\u001b[0m \u001b[0;32mis\u001b[0m \u001b[0;32mnot\u001b[0m \u001b[0;32mNone\u001b[0m\u001b[0;34m:\u001b[0m\u001b[0;34m\u001b[0m\u001b[0;34m\u001b[0m\u001b[0m\n",
      "\u001b[0;31mKeyboardInterrupt\u001b[0m: "
     ]
    }
   ],
   "source": [
    "from RNN_models import *\n",
    "\n",
    "model = RecModel(coeffs, batch_size=len(batched_signals))\n",
    "model.compile(optimizer=tf.keras.optimizers.Adam(lr=0.1))\n",
    "\n",
    "model.fit(x=inputs, y=batched_signals, epochs=100, batch_size=model.batch_size)"
   ]
  },
  {
   "cell_type": "code",
   "execution_count": 42,
   "id": "stuck-cause",
   "metadata": {},
   "outputs": [
    {
     "data": {
      "text/plain": [
       "[<tf.Variable 'rec_model_10/rnn_10/stacked_rnn_cells_10/minimal_rnn_cell_10/kernel:0' shape=(2, 2) dtype=float32, numpy=\n",
       " array([[ 0.18557718,  0.9924961 ],\n",
       "        [-0.18697305,  0.24097972]], dtype=float32)>,\n",
       " <tf.Variable 'rec_model_10/rnn_10/stacked_rnn_cells_10/minimal_rnn_cell_10/recurrent_kernel:0' shape=(2, 2) dtype=float32, numpy=\n",
       " array([[ 0.00281123, -0.02341263],\n",
       "        [-0.02238129, -0.03452218]], dtype=float32)>]"
      ]
     },
     "execution_count": 42,
     "metadata": {},
     "output_type": "execute_result"
    }
   ],
   "source": [
    "model.trainable_variables"
   ]
  },
  {
   "cell_type": "code",
   "execution_count": 43,
   "id": "adverse-import",
   "metadata": {},
   "outputs": [
    {
     "data": {
      "text/plain": [
       "array([[ 0.  ,  1.  ],\n",
       "       [-0.16,  0.  ]], dtype=float32)"
      ]
     },
     "execution_count": 43,
     "metadata": {},
     "output_type": "execute_result"
    }
   ],
   "source": [
    "model.A"
   ]
  },
  {
   "cell_type": "code",
   "execution_count": 45,
   "id": "compatible-flood",
   "metadata": {},
   "outputs": [],
   "source": [
    "series = ( tfxicovs[tf.newaxis,:1000,:,:], tfsignals[tf.newaxis,:1000,:] )"
   ]
  },
  {
   "cell_type": "code",
   "execution_count": 46,
   "id": "complimentary-collector",
   "metadata": {},
   "outputs": [],
   "source": [
    "model.batch_size=1"
   ]
  },
  {
   "cell_type": "code",
   "execution_count": 47,
   "id": "disturbed-expert",
   "metadata": {},
   "outputs": [],
   "source": [
    "predictions = model.rec_layer(series, initial_state=model.initial_state)"
   ]
  },
  {
   "cell_type": "code",
   "execution_count": null,
   "id": "enhanced-dylan",
   "metadata": {},
   "outputs": [],
   "source": []
  },
  {
   "cell_type": "code",
   "execution_count": 52,
   "id": "level-colorado",
   "metadata": {},
   "outputs": [
    {
     "data": {
      "text/plain": [
       "[<matplotlib.lines.Line2D at 0x7fd131889ac8>]"
      ]
     },
     "execution_count": 52,
     "metadata": {},
     "output_type": "execute_result"
    },
    {
     "data": {
      "image/png": "[encoded data removed]",
      "text/plain": [
       "<Figure size 432x288 with 1 Axes>"
      ]
     },
     "metadata": {
      "needs_background": "light"
     },
     "output_type": "display_data"
    }
   ],
   "source": [
    "plt.plot(predictions[0][:,0])\n",
    "#plt.plot(means[:,0][:1000])"
   ]
  },
  {
   "cell_type": "code",
   "execution_count": null,
   "id": "genuine-cambodia",
   "metadata": {},
   "outputs": [],
   "source": []
  }
 ],
 "metadata": {
  "kernelspec": {
   "display_name": "mlenv",
   "language": "python",
   "name": "mlenv"
  },
  "language_info": {
   "codemirror_mode": {
    "name": "ipython",
    "version": 3
   },
   "file_extension": ".py",
   "mimetype": "text/x-python",
   "name": "python",
   "nbconvert_exporter": "python",
   "pygments_lexer": "ipython3",
   "version": "3.6.8"
  }
 },
 "nbformat": 4,
 "nbformat_minor": 5
}
