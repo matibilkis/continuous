{
 "cells": [
  {
   "cell_type": "code",
   "execution_count": 5,
   "id": "pursuant-summer",
   "metadata": {},
   "outputs": [
    {
     "data": {
      "text/html": [
       "<style>.container { width:100% !important; }</style>"
      ],
      "text/plain": [
       "<IPython.core.display.HTML object>"
      ]
     },
     "metadata": {},
     "output_type": "display_data"
    },
    {
     "name": "stdout",
     "output_type": "stream",
     "text": [
      "The autoreload extension is already loaded. To reload it, use:\n",
      "  %reload_ext autoreload\n"
     ]
    }
   ],
   "source": [
    "from IPython.core.display import display, HTML\n",
    "display(HTML(\"<style>.container { width:100% !important; }</style>\"))\n",
    "\n",
    "import numpy as np\n",
    "from scipy.stats import norm\n",
    "import matplotlib.pyplot as plt\n",
    "from tqdm import tqdm\n",
    "from misc import *\n",
    "import tensorflow as tf\n",
    "%load_ext autoreload\n",
    "%autoreload 2\n"
   ]
  },
  {
   "cell_type": "code",
   "execution_count": 15,
   "id": "lined-familiar",
   "metadata": {},
   "outputs": [
    {
     "name": "stderr",
     "output_type": "stream",
     "text": [
      "100%|██████████| 40000/40000 [00:01<00:00, 25379.45it/s]\n"
     ]
    }
   ],
   "source": [
    "covs = []\n",
    "means = []\n",
    "signals = []\n",
    "xicovs = []\n",
    "\n",
    "#define parameters\n",
    "gamma = 1.0 #damping from outside \n",
    "Gamma = 0.8 #measurement rate\n",
    "eta = 1 # measurement efficiency\n",
    "n = 2 # number of photons?\n",
    "w = 0.4 # hamornic oscillator freq mecanical\n",
    "m = 1 # mass harmonic oscillator mechanical\n",
    "T = 2*np.pi/w\n",
    "\n",
    "C= np.array([[np.sqrt(4*eta*Gamma), 0] ,[0, np.sqrt(4*eta*Gamma)]])\n",
    "\n",
    "A = np.array([\n",
    "    [0., 1/m],\n",
    "    [-m*w**2, 0.]])\n",
    "\n",
    "D = np.array([[gamma*(n + 0.5) + Gamma, 0], [0,gamma*(n + 0.5) + Gamma]])\n",
    "\n",
    "## initial condition\n",
    "su = n + 0.5 + Gamma/gamma\n",
    "cov_in = np.array([[np.sqrt(1+ (16*eta*Gamma*su/gamma) -1)*gamma/(8*eta*Gamma), 0],\n",
    "                   [0,np.sqrt(1+ (16*eta*Gamma*su/gamma) -1)*gamma/(8*eta*Gamma)]])\n",
    "x_in = np.array([1,0])\n",
    "\n",
    "\n",
    "\n",
    "dt = 5e-4\n",
    "tfinal = 20\n",
    "tot_steps = int(tfinal/dt)\n",
    "\n",
    "xi = lambda cov: np.dot(cov, ct(C)) #+ ct(Gamma_matrix)\n",
    "\n",
    "covs = [cov_in]\n",
    "means = [x_in]\n",
    "xicovs = [xi(covs[-1])]\n",
    "for k in tqdm(range(tot_steps)):\n",
    "    \n",
    "    x = means[-1]\n",
    "    cov = covs[-1]\n",
    "    XiCov = xicovs[-1]\n",
    "\n",
    "    dy = np.dot(C, x + np.dot(np.linalg.inv(C), np.random.randn(2)/np.sqrt(dt)))*dt # signal\n",
    "    signals.append(dy)\n",
    "    \n",
    "    dx = np.dot(A - np.dot(XiCov,C), x)*dt + np.dot(XiCov, dy)  #evolution update (according to what you measure)\n",
    "    dcov = (np.dot(A,cov) + np.dot(cov, ct(A)) + D - np.dot(XiCov, ct(XiCov)))*dt  #covariance update\n",
    "    \n",
    "    covs.append(covs[-1] + dcov)\n",
    "    means.append(means[-1] + dx)\n",
    "    xicovs.append(xi(covs[-1]))"
   ]
  },
  {
   "cell_type": "code",
   "execution_count": 16,
   "id": "annual-alfred",
   "metadata": {},
   "outputs": [],
   "source": [
    "import os \n",
    "os.makedirs(\"data\", exist_ok=True)\n",
    "np.save(\"data/means\",np.array(means) )\n",
    "np.save(\"data/covs\",np.array(covs) )\n",
    "np.save(\"data/signals\",np.array(signals) )\n",
    "np.save(\"data/xicovs\",np.array(xicovs) )\n",
    "np.save(\"data/D\",D)\n",
    "np.save(\"data/C\",C)\n",
    "np.save(\"data/dt\",np.array([dt]))\n",
    "np.save(\"data/A\",A)"
   ]
  },
  {
   "cell_type": "code",
   "execution_count": 17,
   "id": "banned-toronto",
   "metadata": {},
   "outputs": [
    {
     "data": {
      "text/plain": [
       "[<matplotlib.lines.Line2D at 0x7f713e6ce5f8>]"
      ]
     },
     "execution_count": 17,
     "metadata": {},
     "output_type": "execute_result"
    },
    {
     "data": {
      "image/png": "[encoded data removed]",
      "text/plain": [
       "<Figure size 432x288 with 1 Axes>"
      ]
     },
     "metadata": {
      "needs_background": "light"
     },
     "output_type": "display_data"
    }
   ],
   "source": [
    "plt.plot([signals[k][0] for k in range(len(signals))])"
   ]
  },
  {
   "cell_type": "code",
   "execution_count": 18,
   "id": "wireless-diploma",
   "metadata": {},
   "outputs": [
    {
     "data": {
      "text/plain": [
       "[<matplotlib.lines.Line2D at 0x7f713df49320>]"
      ]
     },
     "execution_count": 18,
     "metadata": {},
     "output_type": "execute_result"
    },
    {
     "data": {
      "image/png": "[encoded data removed]",
      "text/plain": [
       "<Figure size 432x288 with 1 Axes>"
      ]
     },
     "metadata": {
      "needs_background": "light"
     },
     "output_type": "display_data"
    }
   ],
   "source": [
    "plt.plot([means[k][0] for k in range(len(means))])"
   ]
  },
  {
   "cell_type": "code",
   "execution_count": 9,
   "id": "grateful-boutique",
   "metadata": {},
   "outputs": [],
   "source": [
    "from models import *\n",
    "\n",
    "quantities = [A, xicovs, means, signals, C, dt]\n",
    "    \n",
    "model = ModelA(quantities)\n",
    "tfsignals = tf.cast(tf.convert_to_tensor(signals), np.float32)\n"
   ]
  },
  {
   "cell_type": "code",
   "execution_count": 66,
   "id": "visible-bridal",
   "metadata": {},
   "outputs": [],
   "source": [
    "model.compile(optimizer=tf.keras.optimizers.Adam(lr=1e-2), loss=\"mse\")"
   ]
  },
  {
   "cell_type": "code",
   "execution_count": 68,
   "id": "dated-cream",
   "metadata": {},
   "outputs": [],
   "source": [
    "with tf.GradientTape() as tape:\n",
    "    tape.watch(model.trainable_variables)\n",
    "    A_pred = model.spit_A()\n",
    "    dx0 = A_pred - tf.einsum('tij,jl->til',model.tfxicovs[:-1], model.C)\n",
    "    dx1 = tf.einsum('tij,tj->ti', dx0, model.tfmeans[:-1])*model.dt\n",
    "    dx2 = dx1 + tf.einsum('tik,tk->ti', model.tfxicovs[:-1], model.tfsignals)\n",
    "    x = dx2 + model.tfmeans[:-1]    #this gives tfmeansx[1:]\n",
    "    lt1 = tf.einsum('ij,tj->ti',model.C,x)*model.dt\n",
    "    loss = tf.keras.losses.MeanSquaredError()(lt1[:-1], model.tfsignals[1:])\n",
    "\n",
    "grads = tape.gradient(loss, model.trainable_variables)\n"
   ]
  },
  {
   "cell_type": "code",
   "execution_count": 69,
   "id": "immediate-bryan",
   "metadata": {},
   "outputs": [
    {
     "data": {
      "text/plain": [
       "[<tf.Tensor: shape=(1, 32), dtype=float32, numpy=\n",
       " array([[-2.3759282e-12, -2.4385522e-12,  1.7074296e-12,  1.4422804e-12,\n",
       "          1.3319681e-11,  4.9773033e-12,  5.8760245e-13,  2.1806775e-12,\n",
       "          1.0515628e-13,  1.0407146e-12,  1.9296423e-13,  3.7475869e-12,\n",
       "         -5.7878828e-12,  5.2441228e-12, -1.5413325e-11,  7.9889472e-12,\n",
       "          9.4066803e-12, -1.1695531e-12, -8.1135723e-12, -1.9889711e-11,\n",
       "         -6.0270933e-12,  3.4509346e-12, -2.7491687e-12,  1.3281228e-12,\n",
       "         -1.1921321e-11,  2.0493724e-12,  3.4116159e-13,  3.8500960e-12,\n",
       "         -4.9658875e-12,  7.3727023e-12, -5.8650628e-12, -1.0011222e-11]],\n",
       "       dtype=float32)>,\n",
       " <tf.Tensor: shape=(32,), dtype=float32, numpy=\n",
       " array([-2.3759282e-12, -2.4385522e-12,  1.7074296e-12,  1.4422804e-12,\n",
       "         1.3319681e-11,  4.9773033e-12,  5.8760245e-13,  2.1806775e-12,\n",
       "         1.0515628e-13,  1.0407146e-12,  1.9296423e-13,  3.7475869e-12,\n",
       "        -5.7878828e-12,  5.2441228e-12, -1.5413325e-11,  7.9889472e-12,\n",
       "         9.4066803e-12, -1.1695531e-12, -8.1135723e-12, -1.9889711e-11,\n",
       "        -6.0270933e-12,  3.4509346e-12, -2.7491687e-12,  1.3281228e-12,\n",
       "        -1.1921321e-11,  2.0493724e-12,  3.4116159e-13,  3.8500960e-12,\n",
       "        -4.9658875e-12,  7.3727023e-12, -5.8650628e-12, -1.0011222e-11],\n",
       "       dtype=float32)>,\n",
       " <tf.Tensor: shape=(32, 32), dtype=float32, numpy=\n",
       " array([[ 7.6527194e-11, -1.4169591e-10,  1.2568924e-10, ...,\n",
       "          6.3614281e-11,  2.5181471e-11, -4.2724751e-11],\n",
       "        [ 7.3374189e-11, -1.3585787e-10,  1.2051070e-10, ...,\n",
       "          6.0993301e-11,  2.4143966e-11, -4.0964440e-11],\n",
       "        [ 7.5105318e-11, -1.3906318e-10,  1.2335392e-10, ...,\n",
       "          6.2432323e-11,  2.4713599e-11, -4.1930921e-11],\n",
       "        ...,\n",
       "        [ 7.5465668e-11, -1.3973041e-10,  1.2394577e-10, ...,\n",
       "          6.2731875e-11,  2.4832173e-11, -4.2132103e-11],\n",
       "        [ 7.3396102e-11, -1.3589843e-10,  1.2054668e-10, ...,\n",
       "          6.1011515e-11,  2.4151176e-11, -4.0976673e-11],\n",
       "        [ 7.5615660e-11, -1.4000812e-10,  1.2419213e-10, ...,\n",
       "          6.2856553e-11,  2.4881529e-11, -4.2215845e-11]], dtype=float32)>,\n",
       " <tf.Tensor: shape=(32,), dtype=float32, numpy=\n",
       " array([ 1.50450805e-10, -2.78571055e-10,  2.47102311e-10, -2.25547414e-10,\n",
       "         5.04476072e-13, -8.95881980e-11,  3.10554915e-11, -1.75115922e-10,\n",
       "        -1.78630846e-10, -2.20207338e-10,  2.24855662e-10, -7.48776111e-11,\n",
       "        -1.83438903e-10,  1.01219345e-10,  8.94190347e-11, -2.48450184e-11,\n",
       "         2.48722293e-10, -1.50266577e-10,  1.24327978e-10, -1.88940905e-10,\n",
       "        -9.88618909e-11,  1.90880450e-10,  1.17244589e-10, -2.17751844e-10,\n",
       "        -2.46712761e-10,  1.50829488e-10, -7.10646542e-11,  9.98947869e-11,\n",
       "         1.22749783e-10,  1.25064292e-10,  4.95062255e-11, -8.39959283e-11],\n",
       "       dtype=float32)>,\n",
       " <tf.Tensor: shape=(32, 4), dtype=float32, numpy=\n",
       " array([[-9.1459312e-10, -4.2837457e-12, -8.4600593e-10, -2.3928506e-10],\n",
       "        [-9.1020502e-10, -4.2631931e-12, -8.4194690e-10, -2.3813701e-10],\n",
       "        [-8.3355806e-10, -3.9041960e-12, -7.7104784e-10, -2.1808386e-10],\n",
       "        [-8.4953927e-10, -3.9790484e-12, -7.8583057e-10, -2.2226503e-10],\n",
       "        [-8.3689905e-10, -3.9198445e-12, -7.7413831e-10, -2.1895796e-10],\n",
       "        [-8.4615914e-10, -3.9632169e-12, -7.8270396e-10, -2.2138068e-10],\n",
       "        [-8.0548285e-10, -3.7726983e-12, -7.4507805e-10, -2.1073854e-10],\n",
       "        [-8.5235879e-10, -3.9922544e-12, -7.8843865e-10, -2.2300269e-10],\n",
       "        [-8.6355306e-10, -4.0446856e-12, -7.9879342e-10, -2.2593145e-10],\n",
       "        [-8.4403440e-10, -3.9532648e-12, -7.8073853e-10, -2.2082479e-10],\n",
       "        [-8.5801483e-10, -4.0187458e-12, -7.9367057e-10, -2.2448249e-10],\n",
       "        [-8.6163815e-10, -4.0357166e-12, -7.9702217e-10, -2.2543045e-10],\n",
       "        [-8.7657515e-10, -4.1056785e-12, -8.1083901e-10, -2.2933842e-10],\n",
       "        [-8.3509044e-10, -3.9113734e-12, -7.7246531e-10, -2.1848477e-10],\n",
       "        [-8.4673552e-10, -3.9659161e-12, -7.8323709e-10, -2.2153147e-10],\n",
       "        [-8.2457158e-10, -3.8621055e-12, -7.6273526e-10, -2.1573272e-10],\n",
       "        [-8.6159491e-10, -4.0355141e-12, -7.9698215e-10, -2.2541913e-10],\n",
       "        [-9.1063579e-10, -4.2652106e-12, -8.4234536e-10, -2.3824970e-10],\n",
       "        [-8.5218660e-10, -3.9914478e-12, -7.8827933e-10, -2.2295764e-10],\n",
       "        [-8.9389157e-10, -4.1867846e-12, -8.2685681e-10, -2.3386892e-10],\n",
       "        [-8.8128427e-10, -4.1277346e-12, -8.1519497e-10, -2.3057047e-10],\n",
       "        [-7.9371526e-10, -3.7175814e-12, -7.3419293e-10, -2.0765979e-10],\n",
       "        [-8.1823043e-10, -3.8324049e-12, -7.5686968e-10, -2.1407369e-10],\n",
       "        [-8.9336427e-10, -4.1843148e-12, -8.2636903e-10, -2.3373095e-10],\n",
       "        [-7.9315104e-10, -3.7149389e-12, -7.3367101e-10, -2.0751216e-10],\n",
       "        [-8.9498231e-10, -4.1918934e-12, -8.2786578e-10, -2.3415428e-10],\n",
       "        [-8.5600282e-10, -4.0093224e-12, -7.9180940e-10, -2.2395608e-10],\n",
       "        [-8.4282459e-10, -3.9475983e-12, -7.7961948e-10, -2.2050826e-10],\n",
       "        [-9.0899288e-10, -4.2575158e-12, -8.4082563e-10, -2.3781987e-10],\n",
       "        [-8.9802576e-10, -4.2061485e-12, -8.3068102e-10, -2.3495056e-10],\n",
       "        [-7.9054141e-10, -3.7027161e-12, -7.3125711e-10, -2.0682941e-10],\n",
       "        [-8.2702933e-10, -3.8736171e-12, -7.6500872e-10, -2.1637575e-10]],\n",
       "       dtype=float32)>,\n",
       " <tf.Tensor: shape=(4,), dtype=float32, numpy=\n",
       " array([-1.7161664e-09, -8.0381327e-12, -1.5874676e-09, -4.4900075e-10],\n",
       "       dtype=float32)>]"
      ]
     },
     "execution_count": 69,
     "metadata": {},
     "output_type": "execute_result"
    }
   ],
   "source": [
    "grads"
   ]
  },
  {
   "cell_type": "code",
   "execution_count": 6,
   "id": "conditional-witch",
   "metadata": {},
   "outputs": [
    {
     "ename": "NameError",
     "evalue": "name 'model' is not defined",
     "output_type": "error",
     "traceback": [
      "\u001b[0;31m---------------------------------------------------------------------------\u001b[0m",
      "\u001b[0;31mNameError\u001b[0m                                 Traceback (most recent call last)",
      "\u001b[0;32m<ipython-input-6-e6206f317a04>\u001b[0m in \u001b[0;36m<module>\u001b[0;34m\u001b[0m\n\u001b[0;32m----> 1\u001b[0;31m history = model.fit(x = tfsignals, y = tfsignals, epochs=200, batch_size=len(tfsignals), \n\u001b[0m\u001b[1;32m      2\u001b[0m                    callbacks = [tf.keras.callbacks.EarlyStopping(monitor='total_loss', patience=100, mode=\"min\", min_delta=0.0)])\n",
      "\u001b[0;31mNameError\u001b[0m: name 'model' is not defined"
     ]
    }
   ],
   "source": [
    "history = model.fit(x = tfsignals, y = tfsignals, epochs=200, batch_size=len(tfsignals), \n",
    "                   callbacks = [tf.keras.callbacks.EarlyStopping(monitor='total_loss', patience=100, mode=\"min\", min_delta=0.0)])"
   ]
  },
  {
   "cell_type": "code",
   "execution_count": 64,
   "id": "professional-consultancy",
   "metadata": {},
   "outputs": [
    {
     "data": {
      "text/plain": [
       "<tf.Tensor: shape=(2, 2), dtype=float32, numpy=\n",
       "array([[ 6.8723707, -1.2892938],\n",
       "       [ 7.00585  ,  3.904284 ]], dtype=float32)>"
      ]
     },
     "execution_count": 64,
     "metadata": {},
     "output_type": "execute_result"
    }
   ],
   "source": [
    "model.spit_A()"
   ]
  },
  {
   "cell_type": "code",
   "execution_count": 49,
   "id": "viral-beverage",
   "metadata": {},
   "outputs": [],
   "source": []
  },
  {
   "cell_type": "code",
   "execution_count": 50,
   "id": "useful-nevada",
   "metadata": {},
   "outputs": [
    {
     "data": {
      "text/plain": [
       "<tf.Tensor: shape=(), dtype=float64, numpy=0.0005015095230191946>"
      ]
     },
     "execution_count": 50,
     "metadata": {},
     "output_type": "execute_result"
    }
   ],
   "source": [
    "loss"
   ]
  },
  {
   "cell_type": "code",
   "execution_count": null,
   "id": "helpful-yacht",
   "metadata": {},
   "outputs": [],
   "source": []
  }
 ],
 "metadata": {
  "kernelspec": {
   "display_name": "Python 3",
   "language": "python",
   "name": "python3"
  },
  "language_info": {
   "codemirror_mode": {
    "name": "ipython",
    "version": 3
   },
   "file_extension": ".py",
   "mimetype": "text/x-python",
   "name": "python",
   "nbconvert_exporter": "python",
   "pygments_lexer": "ipython3",
   "version": "3.6.9"
  }
 },
 "nbformat": 4,
 "nbformat_minor": 5
}
