{
 "cells": [
  {
   "cell_type": "code",
   "execution_count": 1,
   "id": "surprised-richmond",
   "metadata": {},
   "outputs": [],
   "source": [
    "from IPython.core.display import display, HTML\n",
    "\n",
    "import numpy as np\n",
    "means = np.load(\"data/means.npy\").astype(np.float32)\n",
    "covs = np.load(\"data/covs.npy\").astype(np.float32)\n",
    "xicovs = np.load(\"data/xicovs.npy\").astype(np.float32)\n",
    "signals = np.load(\"data/signals.npy\").astype(np.float32)\n",
    "A = np.load(\"data/A.npy\").astype(np.float32)\n",
    "dt = np.load(\"data/dt.npy\")[0]\n",
    "C = np.load(\"data/C.npy\").astype(np.float32)\n",
    "D = np.load(\"data/D.npy\").astype(np.float32)"
   ]
  },
  {
   "cell_type": "code",
   "execution_count": 27,
   "id": "mechanical-exhaust",
   "metadata": {},
   "outputs": [
    {
     "name": "stdout",
     "output_type": "stream",
     "text": [
      "The autoreload extension is already loaded. To reload it, use:\n",
      "  %reload_ext autoreload\n"
     ]
    }
   ],
   "source": [
    "\n",
    "from scipy.stats import norm\n",
    "import matplotlib.pyplot as plt\n",
    "from tqdm import tqdm\n",
    "from misc import *\n",
    "from RNN import *\n",
    "import tensorflow as tf\n",
    "%load_ext autoreload\n",
    "%autoreload 2\n",
    "\n"
   ]
  },
  {
   "cell_type": "code",
   "execution_count": 33,
   "id": "graduate-accountability",
   "metadata": {},
   "outputs": [],
   "source": [
    "rec_layer = tf.keras.layers.RNN([MinimalRNNCell(2)], stateful=True, return_sequences=True)"
   ]
  },
  {
   "cell_type": "code",
   "execution_count": 34,
   "id": "arbitrary-consciousness",
   "metadata": {},
   "outputs": [
    {
     "data": {
      "text/plain": [
       "<tf.Tensor: shape=(1, 20, 2), dtype=float32, numpy=\n",
       "array([[[-0.00220745,  0.00241735],\n",
       "        [ 0.00378933, -0.00082914],\n",
       "        [-0.00502508,  0.00596653],\n",
       "        [-0.00362976,  0.00457912],\n",
       "        [-0.00235881,  0.00326951],\n",
       "        [-0.00355154,  0.00410452],\n",
       "        [-0.00112109,  0.00410986],\n",
       "        [-0.00923121,  0.00924448],\n",
       "        [ 0.00584611, -0.00185574],\n",
       "        [-0.00168401,  0.00172367],\n",
       "        [-0.01082525,  0.00910991],\n",
       "        [-0.00826666,  0.00793699],\n",
       "        [-0.01128412,  0.00864519],\n",
       "        [-0.0029081 ,  0.00503895],\n",
       "        [-0.01596618,  0.01336796],\n",
       "        [-0.01571734,  0.01269136],\n",
       "        [-0.01652416,  0.01270723],\n",
       "        [-0.01187695,  0.01104665],\n",
       "        [ 0.00262432, -0.0004779 ],\n",
       "        [-0.00973699,  0.00718729]]], dtype=float32)>"
      ]
     },
     "execution_count": 34,
     "metadata": {},
     "output_type": "execute_result"
    }
   ],
   "source": [
    "rec_layer(tf.random.uniform((1,20,2)))"
   ]
  },
  {
   "cell_type": "code",
   "execution_count": 30,
   "id": "agreed-guarantee",
   "metadata": {},
   "outputs": [
    {
     "data": {
      "text/plain": [
       "[<tf.Variable 'rnn_6/stacked_rnn_cells/minimal_rnn_cell_6/kernel:0' shape=(2, 2) dtype=float32, numpy=\n",
       " array([[ 0.03123149, -0.04009056],\n",
       "        [-0.00789871, -0.04851898]], dtype=float32)>,\n",
       " <tf.Variable 'rnn_6/stacked_rnn_cells/minimal_rnn_cell_6/recurrent_kernel:0' shape=(2, 2) dtype=float32, numpy=\n",
       " array([[-0.00188458, -0.0253111 ],\n",
       "        [ 0.01047443,  0.00777745]], dtype=float32)>]"
      ]
     },
     "execution_count": 30,
     "metadata": {},
     "output_type": "execute_result"
    }
   ],
   "source": [
    "rec_layer.trainable_variables"
   ]
  },
  {
   "cell_type": "code",
   "execution_count": 22,
   "id": "pending-advisory",
   "metadata": {},
   "outputs": [
    {
     "data": {
      "text/plain": [
       "<tensorflow.python.keras.layers.recurrent.RNN at 0x7f73647bc668>"
      ]
     },
     "execution_count": 22,
     "metadata": {},
     "output_type": "execute_result"
    }
   ],
   "source": [
    "rec_layer"
   ]
  },
  {
   "cell_type": "code",
   "execution_count": 24,
   "id": "proper-watershed",
   "metadata": {},
   "outputs": [
    {
     "data": {
      "text/plain": [
       "[<tf.Variable 'rnn_5/minimal_rnn_cell_5/kernel:0' shape=(2, 2) dtype=float32, numpy=\n",
       " array([[-0.00971331,  0.04170433],\n",
       "        [-0.02159089,  0.0262006 ]], dtype=float32)>,\n",
       " <tf.Variable 'rnn_5/minimal_rnn_cell_5/recurrent_kernel:0' shape=(2, 2) dtype=float32, numpy=\n",
       " array([[-0.00431148, -0.03923997],\n",
       "        [-0.04932798, -0.02419574]], dtype=float32)>]"
      ]
     },
     "execution_count": 24,
     "metadata": {},
     "output_type": "execute_result"
    }
   ],
   "source": [
    "rec_layer.trainable_variables"
   ]
  },
  {
   "cell_type": "code",
   "execution_count": null,
   "id": "coral-prison",
   "metadata": {},
   "outputs": [],
   "source": []
  }
 ],
 "metadata": {
  "kernelspec": {
   "display_name": "Python 3",
   "language": "python",
   "name": "python3"
  },
  "language_info": {
   "codemirror_mode": {
    "name": "ipython",
    "version": 3
   },
   "file_extension": ".py",
   "mimetype": "text/x-python",
   "name": "python",
   "nbconvert_exporter": "python",
   "pygments_lexer": "ipython3",
   "version": "3.6.9"
  }
 },
 "nbformat": 4,
 "nbformat_minor": 5
}
