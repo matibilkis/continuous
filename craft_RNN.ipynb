{
 "cells": [
  {
   "cell_type": "code",
   "execution_count": 8,
   "id": "surprised-richmond",
   "metadata": {},
   "outputs": [],
   "source": [
    "from IPython.core.display import display, HTML\n",
    "\n",
    "import numpy as np\n",
    "means = np.load(\"data/means.npy\").astype(np.float32)\n",
    "covs = np.load(\"data/covs.npy\").astype(np.float32)\n",
    "xicovs = np.load(\"data/xicovs.npy\").astype(np.float32)\n",
    "signals = np.load(\"data/signals.npy\").astype(np.float32)\n",
    "A = np.load(\"data/A.npy\").astype(np.float32)\n",
    "dt = np.load(\"data/dt.npy\")[0]\n",
    "C = np.load(\"data/C.npy\").astype(np.float32)\n",
    "D = np.load(\"data/D.npy\").astype(np.float32)"
   ]
  },
  {
   "cell_type": "code",
   "execution_count": 28,
   "id": "mechanical-exhaust",
   "metadata": {},
   "outputs": [
    {
     "name": "stdout",
     "output_type": "stream",
     "text": [
      "The autoreload extension is already loaded. To reload it, use:\n",
      "  %reload_ext autoreload\n"
     ]
    }
   ],
   "source": [
    "\n",
    "from scipy.stats import norm\n",
    "import matplotlib.pyplot as plt\n",
    "from tqdm import tqdm\n",
    "from misc import *\n",
    "from RNN import *\n",
    "import tensorflow as tf\n",
    "%load_ext autoreload\n",
    "%autoreload 2\n",
    "\n",
    "tfsignals = tf.convert_to_tensor(signals)\n",
    "tfxicovs = tf.convert_to_tensor(xicovs)[:-1]"
   ]
  },
  {
   "cell_type": "code",
   "execution_count": 29,
   "id": "asian-philosophy",
   "metadata": {},
   "outputs": [],
   "source": [
    "coeffs = [C,A,D,dt]"
   ]
  },
  {
   "cell_type": "code",
   "execution_count": 30,
   "id": "graduate-accountability",
   "metadata": {},
   "outputs": [],
   "source": [
    "model = RecModel(coeffs)"
   ]
  },
  {
   "cell_type": "code",
   "execution_count": 12,
   "id": "liked-sister",
   "metadata": {},
   "outputs": [],
   "source": [
    "\n",
    "\n",
    "toysignals = tfsignals[:10][tf.newaxis,:,:]\n",
    "toyxicovs = tfxicovs[:10][tf.newaxis,:,:,:]"
   ]
  },
  {
   "cell_type": "code",
   "execution_count": 15,
   "id": "historic-savings",
   "metadata": {},
   "outputs": [],
   "source": [
    "inputs = (toyxicovs, toysignals)\n"
   ]
  },
  {
   "cell_type": "code",
   "execution_count": 33,
   "id": "greek-programmer",
   "metadata": {},
   "outputs": [
    {
     "data": {
      "text/plain": [
       "<tf.Tensor: shape=(40000, 2), dtype=float32, numpy=\n",
       "array([[-0.01571522, -0.00512357],\n",
       "       [ 0.01813254, -0.02771763],\n",
       "       [ 0.0548196 ,  0.02468396],\n",
       "       ...,\n",
       "       [ 0.04221111,  0.0035826 ],\n",
       "       [ 0.04017262, -0.01458438],\n",
       "       [-0.04898356, -0.01565416]], dtype=float32)>"
      ]
     },
     "execution_count": 33,
     "metadata": {},
     "output_type": "execute_result"
    }
   ],
   "source": [
    "tfsignals"
   ]
  },
  {
   "cell_type": "code",
   "execution_count": 31,
   "id": "equivalent-reflection",
   "metadata": {},
   "outputs": [
    {
     "data": {
      "text/plain": [
       "<tf.Tensor: shape=(1, 10, 2), dtype=float32, numpy=\n",
       "array([[[-0.01571522, -0.00512357],\n",
       "        [ 0.00244314, -0.03283308],\n",
       "        [ 0.05725918, -0.00809588],\n",
       "        [ 0.0586103 , -0.00044626],\n",
       "        [ 0.01766581, -0.0501861 ],\n",
       "        [ 0.05185269,  0.00608524],\n",
       "        [ 0.04707159, -0.01011931],\n",
       "        [ 0.02989107, -0.00090317],\n",
       "        [ 0.03511429,  0.01495202],\n",
       "        [ 0.05012804,  0.04540104]]], dtype=float32)>"
      ]
     },
     "execution_count": 31,
     "metadata": {},
     "output_type": "execute_result"
    }
   ],
   "source": [
    "model(inputs)"
   ]
  },
  {
   "cell_type": "code",
   "execution_count": 32,
   "id": "coral-prison",
   "metadata": {},
   "outputs": [
    {
     "data": {
      "text/plain": [
       "array([[ 1.        ,  0.        ],\n",
       "       [ 0.96982706, -0.00938743],\n",
       "       [ 1.0011649 , -0.05978817],\n",
       "       ...,\n",
       "       [-9.186868  , -7.5970454 ],\n",
       "       [-9.101876  , -7.5992446 ],\n",
       "       [-9.184132  , -7.623677  ]], dtype=float32)"
      ]
     },
     "execution_count": 32,
     "metadata": {},
     "output_type": "execute_result"
    }
   ],
   "source": [
    "means"
   ]
  },
  {
   "cell_type": "code",
   "execution_count": null,
   "id": "qualified-ferry",
   "metadata": {},
   "outputs": [],
   "source": []
  }
 ],
 "metadata": {
  "kernelspec": {
   "display_name": "Python 3",
   "language": "python",
   "name": "python3"
  },
  "language_info": {
   "codemirror_mode": {
    "name": "ipython",
    "version": 3
   },
   "file_extension": ".py",
   "mimetype": "text/x-python",
   "name": "python",
   "nbconvert_exporter": "python",
   "pygments_lexer": "ipython3",
   "version": "3.6.9"
  }
 },
 "nbformat": 4,
 "nbformat_minor": 5
}
