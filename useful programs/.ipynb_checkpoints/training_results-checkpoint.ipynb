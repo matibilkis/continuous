{
 "cells": [
  {
   "cell_type": "code",
   "execution_count": 125,
   "id": "9272a2e0-9a30-407c-ae8c-4f2132f33850",
   "metadata": {},
   "outputs": [
    {
     "name": "stdout",
     "output_type": "stream",
     "text": [
      "The autoreload extension is already loaded. To reload it, use:\n",
      "  %reload_ext autoreload\n"
     ]
    }
   ],
   "source": [
    "%load_ext autoreload\n",
    "%autoreload 2\n",
    "\n",
    "\n",
    "\n",
    "\n",
    "import numpy as np\n",
    "from misc import *\n",
    "import matplotlib.pyplot as plt\n",
    "from analyze import *\n",
    "import ast\n",
    "from tqdm import tqdm"
   ]
  },
  {
   "cell_type": "code",
   "execution_count": 113,
   "id": "e1374fc2-b67f-4015-a008-fafdc7206ce7",
   "metadata": {},
   "outputs": [],
   "source": [
    "periods, ppp, itraj = 40, 500, 0\n",
    "\n",
    "import os \n",
    "os.makedirs(\"figures/\",exist_ok=True)"
   ]
  },
  {
   "cell_type": "code",
   "execution_count": 22,
   "id": "404d3d90-d657-4651-9565-c7190c5e9201",
   "metadata": {},
   "outputs": [],
   "source": [
    "histories={}\n",
    "for k in range(1,9):\n",
    "    try:\n",
    "        histories[k] = load_train_results(periods=periods, ppp=ppp, train_id=k, train_path = \"0itraj/\")\n",
    "    except Exception:\n",
    "        pass"
   ]
  },
  {
   "cell_type": "code",
   "execution_count": null,
   "id": "e1b86925-4eea-4af9-9a88-5aeee0f7c12b",
   "metadata": {},
   "outputs": [],
   "source": []
  },
  {
   "cell_type": "code",
   "execution_count": 121,
   "id": "a105e2b5-73a3-4f0a-be74-62276c97a38f",
   "metadata": {},
   "outputs": [
    {
     "data": {
      "text/plain": [
       "{'name': 'Adam',\n",
       " 'learning_rate': 0.01,\n",
       " 'decay': 0.0,\n",
       " 'beta_1': 0.9,\n",
       " 'beta_2': 0.999,\n",
       " 'epsilon': 1e-07,\n",
       " 'amsgrad': False}"
      ]
     },
     "execution_count": 121,
     "metadata": {},
     "output_type": "execute_result"
    }
   ],
   "source": [
    "train_id = 8\n",
    "with open(\"/data/uab-giq/scratch/matias/quantera/trajectories/40periods/500ppp/0itraj/training/train_id_{}/training_details.txt\".format(train_id),\"r\") as f:\n",
    "    a = f.read()\n",
    "training_details = ast.literal_eval(a)\n",
    "training_details"
   ]
  },
  {
   "cell_type": "code",
   "execution_count": 146,
   "id": "c6347edd-e9f9-4a39-9b75-641cc194a43b",
   "metadata": {},
   "outputs": [
    {
     "name": "stderr",
     "output_type": "stream",
     "text": [
      "100%|██████████| 8/8 [00:19<00:00,  2.45s/it]\n"
     ]
    }
   ],
   "source": [
    "for train_id in tqdm(range(1,9)):\n",
    "\n",
    "    hist_A, hist_loss, hist_grads = histories[train_id]\n",
    "    with open(\"/data/uab-giq/scratch/matias/quantera/trajectories/40periods/500ppp/0itraj/training/train_id_{}/training_details.txt\".format(train_id),\"r\") as f:\n",
    "        a = f.read()\n",
    "    training_details = ast.literal_eval(a)\n",
    "\n",
    "    epochs = range(len(hist_A))\n",
    "    lbsize = 20\n",
    "    fig=plt.figure(figsize=(7,7))\n",
    "    fig.suptitle(training_details[\"name\"] + \", lr: {}\".format(np.round(training_details[\"learning_rate\"],3)), size=20)\n",
    "    for i in range(4):\n",
    "        ax=plt.subplot(221+i)\n",
    "        ax.plot(hist_A[:,i//2,i%2], linewidth=4, color=\"blue\", alpha=0.5)\n",
    "        ax.plot(epochs, [0,2*np.pi,-2*np.pi,0][i]*np.ones(len(epochs)), '--',linewidth=4, alpha=0.5, color=\"red\")\n",
    "    allaxes = fig.get_axes()\n",
    "    for ind,ax in enumerate(allaxes):\n",
    "        ax.set_xlabel(\"training step\",size=lbsize)\n",
    "        ax.set_ylabel(r'$\\tilde{A}$'+\"({},{})\".format(ind//2,ind%2),size=lbsize)\n",
    "        ax.tick_params(axis='both', which='major', labelsize=10)\n",
    "        if ind%2 == 1:\n",
    "            ax.yaxis.tick_right()\n",
    "        if ind//2 == 0:\n",
    "            ax.set_xticks([])\n",
    "            ax.set_xlabel(\"\")\n",
    "    plt.savefig(\"figures/coeffs_{}.pdf\".format(train_id))\n",
    "    plt.close()\n",
    "    \n",
    "    fig=plt.figure(figsize=(7,7))\n",
    "    ax = plt.subplot(111)\n",
    "    fig.suptitle(training_details[\"name\"] + \", lr: {}\".format(np.round(training_details[\"learning_rate\"],3)), size=20)\n",
    "    ax.plot(hist_loss,  linewidth=4, alpha=0.5,color=\"blue\")\n",
    "    ax.plot(epochs, np.ones(len(epochs)), '--', linewidth=4, alpha=0.5,color=\"red\")\n",
    "\n",
    "    ax.set_xlabel(\"trainig step\",size=lbsize)\n",
    "    ax.set_ylabel(\"cost value\",size=lbsize)\n",
    "    plt.savefig(\"figures/cost_{}.pdf\".format(train_id))\n",
    "    plt.close()\n",
    "    \n",
    "\n",
    "    epochs = range(len(hist_A))\n",
    "    lbsize = 20\n",
    "    fig=plt.figure(figsize=(7,7))\n",
    "    fig.suptitle(training_details[\"name\"] + \", lr: {}\".format(np.round(training_details[\"learning_rate\"],3)), size=20)\n",
    "    for i in range(4):\n",
    "        ax=plt.subplot(221+i)\n",
    "        ax.plot(np.abs(hist_grads[:,0,i//2,i%2]), linewidth=4, color=\"blue\", alpha=0.5)\n",
    "        ax.set_yscale('log')\n",
    "\n",
    "    allaxes = fig.get_axes()\n",
    "    for ind,ax in enumerate(allaxes):\n",
    "        ax.set_xlabel(\"training step\",size=lbsize)\n",
    "        ax.set_ylabel(r'$\\nabla_\\tilde{\\theta}} $'+\"C\",size=lbsize)\n",
    "        ax.tick_params(axis='both', which='major', labelsize=10)\n",
    "        if ind%2 == 1:\n",
    "            ax.yaxis.tick_right()\n",
    "        if ind//2 == 0:\n",
    "            ax.set_xticks([])\n",
    "            ax.set_xlabel(\"\")\n",
    "    plt.savefig(\"figures/grads_{}.pdf\".format(train_id))\n",
    "    plt.close()"
   ]
  },
  {
   "cell_type": "code",
   "execution_count": 12,
   "id": "f8c94b8c-f8c6-4f76-b02c-09648b33dbe5",
   "metadata": {},
   "outputs": [],
   "source": []
  },
  {
   "cell_type": "code",
   "execution_count": 10,
   "id": "c4fadf71-bd32-4432-9f51-85be75e3bb54",
   "metadata": {},
   "outputs": [],
   "source": []
  },
  {
   "cell_type": "code",
   "execution_count": 12,
   "id": "8b642000-9b1f-45c9-b06b-1c5ec92d0c3d",
   "metadata": {},
   "outputs": [
    {
     "data": {
      "text/plain": [
       "array([[ 0.       ,  6.2831855],\n",
       "       [-6.2831855,  0.       ]], dtype=float32)"
      ]
     },
     "execution_count": 12,
     "metadata": {},
     "output_type": "execute_result"
    }
   ],
   "source": []
  },
  {
   "cell_type": "code",
   "execution_count": 2,
   "id": "c3cc9153-b8e9-4ecc-8669-f2e6bfc79a67",
   "metadata": {},
   "outputs": [],
   "source": []
  },
  {
   "cell_type": "code",
   "execution_count": null,
   "id": "fcd54bf9-96fa-46c8-a1d1-0433e2e32ada",
   "metadata": {},
   "outputs": [],
   "source": []
  },
  {
   "cell_type": "code",
   "execution_count": 9,
   "id": "48b72971-ebb8-4777-b22b-a60240018869",
   "metadata": {},
   "outputs": [
    {
     "name": "stderr",
     "output_type": "stream",
     "text": [
      "100%|██████████| 999/999 [00:24<00:00, 40.55it/s] \n"
     ]
    }
   ],
   "source": []
  },
  {
   "cell_type": "code",
   "execution_count": 10,
   "id": "48037f78-e6f5-4923-b8e9-c281ddff38c5",
   "metadata": {},
   "outputs": [],
   "source": []
  },
  {
   "cell_type": "code",
   "execution_count": 11,
   "id": "9e35d714-4bf0-4df1-8fda-0523ed3cdb94",
   "metadata": {},
   "outputs": [
    {
     "data": {
      "text/plain": [
       "[<matplotlib.lines.Line2D at 0x2b05bf601978>]"
      ]
     },
     "execution_count": 11,
     "metadata": {},
     "output_type": "execute_result"
    },
    {
     "data": {
      "image/png": "[encoded data removed]",
      "text/plain": [
       "<Figure size 432x288 with 2 Axes>"
      ]
     },
     "metadata": {
      "needs_background": "light"
     },
     "output_type": "display_data"
    }
   ],
   "source": []
  },
  {
   "cell_type": "markdown",
   "id": "7a917125-ac55-41af-87a5-46a700214517",
   "metadata": {},
   "source": [
    "The gap here should be fisher info right?"
   ]
  },
  {
   "cell_type": "code",
   "execution_count": 8,
   "id": "32df83f2-87d2-4776-81ba-340fc0a85bc0",
   "metadata": {},
   "outputs": [
    {
     "data": {
      "text/plain": [
       "Text(0, 0.5, 'std single param')"
      ]
     },
     "execution_count": 8,
     "metadata": {},
     "output_type": "execute_result"
    },
    {
     "data": {
      "image/png": "[encoded data removed]",
      "text/plain": [
       "<Figure size 432x288 with 1 Axes>"
      ]
     },
     "metadata": {
      "needs_background": "light"
     },
     "output_type": "display_data"
    }
   ],
   "source": []
  },
  {
   "cell_type": "code",
   "execution_count": null,
   "id": "4d68d448-0f59-4bb5-821b-b37e7d68250b",
   "metadata": {},
   "outputs": [],
   "source": []
  }
 ],
 "metadata": {
  "kernelspec": {
   "display_name": "qenv_bilkis",
   "language": "python",
   "name": "qenv_bilkis"
  },
  "language_info": {
   "codemirror_mode": {
    "name": "ipython",
    "version": 3
   },
   "file_extension": ".py",
   "mimetype": "text/x-python",
   "name": "python",
   "nbconvert_exporter": "python",
   "pygments_lexer": "ipython3",
   "version": "3.6.8"
  }
 },
 "nbformat": 4,
 "nbformat_minor": 5
}
