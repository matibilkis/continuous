{
 "cells": [
  {
   "cell_type": "code",
   "execution_count": 27,
   "id": "25e977a9-7993-4867-8db0-fe52080e4a63",
   "metadata": {},
   "outputs": [],
   "source": [
    "from misc import *\n",
    "import numpy as np\n",
    "from tqdm import tqdm\n",
    "import matplotlib.pyplot as plt\n",
    "import os"
   ]
  },
  {
   "cell_type": "code",
   "execution_count": 30,
   "id": "48bd709f-be31-4292-a866-d1d7509afbc7",
   "metadata": {},
   "outputs": [],
   "source": [
    "itraj = 0\n",
    "periods=40\n",
    "ppp=500\n",
    "means, covs, signals, coeffs = load_data(get_def_path()+\"{}periods/{}ppp/\".format(periods,ppp), itraj=itraj)\n",
    "A, dt, C, D  = coeffs \n",
    "xi = lambda cov: np.dot(cov, ct(C)) + ct(D)"
   ]
  },
  {
   "cell_type": "code",
   "execution_count": 15,
   "id": "9cf3de4f-0a1b-4e74-baef-6cfb1d52d3bd",
   "metadata": {},
   "outputs": [],
   "source": [
    "symplectic = np.array([[0,1],[-1,0]])\n",
    "parameters = np.array([2*np.pi]) + np.linspace(-2,2,41)\n",
    "predictions, states = {t:[] for t in range(len(parameters))},{t:[means[0], covs[0]] for t in range(len(parameters))}\n",
    "\n",
    "give_pred = lambda state: np.dot(C,state)*dt\n",
    "def evolve_state(states, AA, dy):\n",
    "    x, cov = states\n",
    "    XiCov = xi(cov)\n",
    "    dx = np.dot(AA - np.dot(XiCov,C), x)*dt + np.dot(XiCov, dy)  #evolution update (according to what you measure)\n",
    "    dcov = (np.dot(AA,cov) + np.dot(cov, ct(AA)) + D - np.dot(XiCov, ct(XiCov)))*dt  #covariance update\n",
    "    return [x + dx, cov + dcov]\n"
   ]
  },
  {
   "cell_type": "code",
   "execution_count": 16,
   "id": "db03c8eb-cd59-467a-b700-e099ae7c7475",
   "metadata": {},
   "outputs": [
    {
     "name": "stderr",
     "output_type": "stream",
     "text": [
      "100%|██████████| 20000/20000 [00:45<00:00, 444.13it/s]\n"
     ]
    }
   ],
   "source": [
    "for dy in tqdm(signals):\n",
    "    for i in range(len(parameters)):\n",
    "        predictions[i].append(give_pred(states[i][-1][0]))\n",
    "        states[i].append(evolve_state(states[i][-1], parameters[i]*symplectic, dy))"
   ]
  },
  {
   "cell_type": "code",
   "execution_count": 25,
   "id": "ad068705-5067-4745-a0e6-c6beb5e914f4",
   "metadata": {},
   "outputs": [
    {
     "name": "stderr",
     "output_type": "stream",
     "text": [
      "100%|██████████| 20/20 [00:13<00:00,  1.48it/s]\n"
     ]
    }
   ],
   "source": [
    "optimal_param, loss_val = {}, {}\n",
    "cut_series = np.logspace(2,np.log10(len(signals)),20)\n",
    "for length_series in tqdm(cut_series):\n",
    "    losses = []\n",
    "    length_series = int(length_series)\n",
    "    sigs = signals[:length_series]\n",
    "    \n",
    "    for i in range(len(parameters)):\n",
    "        preds = np.array(predictions[i])[:length_series]\n",
    "        losses.append(np.sum(np.square(preds - sigs))/(2*dt*length_series))\n",
    "    optimal_param[length_series] = parameters[np.argmin(losses)]\n",
    "    loss_val[length_series] = np.min(losses)"
   ]
  },
  {
   "cell_type": "code",
   "execution_count": null,
   "id": "opening-balloon",
   "metadata": {},
   "outputs": [],
   "source": []
  },
  {
   "cell_type": "code",
   "execution_count": 26,
   "id": "53e7dce6-e0f5-4fab-b850-1d01ed53fd34",
   "metadata": {},
   "outputs": [
    {
     "data": {
      "text/plain": [
       "[<matplotlib.lines.Line2D at 0x7f628edde7f0>]"
      ]
     },
     "execution_count": 26,
     "metadata": {},
     "output_type": "execute_result"
    },
    {
     "data": {
      "image/png": "[encoded data removed]",
      "text/plain": [
       "<Figure size 432x288 with 2 Axes>"
      ]
     },
     "metadata": {
      "needs_background": "light"
     },
     "output_type": "display_data"
    }
   ],
   "source": [
    "ax1, ax2 = plt.subplot2grid((1,2),(0,0)), plt.subplot2grid((1,2),(0,1))\n",
    "ax1.plot(cut_series, loss_val.values())\n",
    "ax2.plot(cut_series, optimal_param.values())"
   ]
  },
  {
   "cell_type": "code",
   "execution_count": 34,
   "id": "native-radiation",
   "metadata": {},
   "outputs": [],
   "source": [
    "convergence_path = get_def_path()+\"{}periods/{}ppp/convergence/{}/\".format(periods,ppp, itraj)\n",
    "os.makedirs(convergence_path, exist_ok=True)\n",
    "np.save(convergence_path+\"optimal_parameters\",np.array(list(optimal_param.values())))\n",
    "np.save(convergence_path+\"loss_evolution\",list(loss_val.values()))"
   ]
  },
  {
   "cell_type": "code",
   "execution_count": null,
   "id": "technological-minnesota",
   "metadata": {},
   "outputs": [],
   "source": []
  },
  {
   "cell_type": "code",
   "execution_count": null,
   "id": "extended-smith",
   "metadata": {},
   "outputs": [],
   "source": []
  }
 ],
 "metadata": {
  "kernelspec": {
   "display_name": "Python 3 (ipykernel)",
   "language": "python",
   "name": "python3"
  },
  "language_info": {
   "codemirror_mode": {
    "name": "ipython",
    "version": 3
   },
   "file_extension": ".py",
   "mimetype": "text/x-python",
   "name": "python",
   "nbconvert_exporter": "python",
   "pygments_lexer": "ipython3",
   "version": "3.9.2"
  }
 },
 "nbformat": 4,
 "nbformat_minor": 5
}
