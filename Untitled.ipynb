{
 "cells": [
  {
   "cell_type": "code",
   "execution_count": 23,
   "id": "25e977a9-7993-4867-8db0-fe52080e4a63",
   "metadata": {},
   "outputs": [],
   "source": [
    "from misc import *\n",
    "import numpy as np\n",
    "from tqdm import tqdm"
   ]
  },
  {
   "cell_type": "code",
   "execution_count": 27,
   "id": "48bd709f-be31-4292-a866-d1d7509afbc7",
   "metadata": {},
   "outputs": [],
   "source": [
    "periods=40\n",
    "ppp=500\n",
    "means, covs, signals, coeffs = load_data(get_def_path()+\"{}periods/{}ppp/\".format(periods,ppp), itraj=15)\n",
    "A, dt, C, D  = coeffs \n",
    "xi = lambda cov: np.dot(cov, ct(C)) + ct(D)"
   ]
  },
  {
   "cell_type": "code",
   "execution_count": 25,
   "id": "9cf3de4f-0a1b-4e74-baef-6cfb1d52d3bd",
   "metadata": {},
   "outputs": [],
   "source": [
    "symplectic = np.array([[0,1],[-1,0]])\n",
    "parameters = np.array([2*np.pi]) + np.linspace(-1,1,3)\n",
    "predictions, states = {t:[] for t in range(len(parameters))},{t:[means[0], covs[0]] for t in range(len(parameters))}\n",
    "\n",
    "give_pred = lambda state: np.dot(C,state)*dt\n",
    "def evolve_state(states, AA, dy):\n",
    "    x, cov = states\n",
    "    XiCov = xi(cov)\n",
    "    dx = np.dot(AA - np.dot(XiCov,C), x)*dt + np.dot(XiCov, dy)  #evolution update (according to what you measure)\n",
    "    dcov = (np.dot(AA,cov) + np.dot(cov, ct(AA)) + D - np.dot(XiCov, ct(XiCov)))*dt  #covariance update\n",
    "    return [x + dx, cov + dcov]\n"
   ]
  },
  {
   "cell_type": "code",
   "execution_count": 28,
   "id": "db03c8eb-cd59-467a-b700-e099ae7c7475",
   "metadata": {},
   "outputs": [
    {
     "name": "stderr",
     "output_type": "stream",
     "text": [
      "100%|██████████| 20000/20000 [00:07<00:00, 2831.01it/s]\n"
     ]
    }
   ],
   "source": [
    "for dy in tqdm(signals):\n",
    "    for i in range(len(parameters)):\n",
    "        predictions[i].append(give_pred(states[i][-1][0]))\n",
    "        states[i].append(evolve_state(states[i][-1], parameters[i]*symplectic, dy))"
   ]
  },
  {
   "cell_type": "code",
   "execution_count": 33,
   "id": "ad068705-5067-4745-a0e6-c6beb5e914f4",
   "metadata": {},
   "outputs": [],
   "source": [
    "length_series = 10\n",
    "\n",
    "preds = np.array(predictions[0])[:length_series]\n",
    "sigs = signals[:length_series]\n",
    "\n"
   ]
  },
  {
   "cell_type": "code",
   "execution_count": 43,
   "id": "53e7dce6-e0f5-4fab-b850-1d01ed53fd34",
   "metadata": {},
   "outputs": [
    {
     "data": {
      "text/plain": [
       "0.5521072945038014"
      ]
     },
     "execution_count": 43,
     "metadata": {},
     "output_type": "execute_result"
    }
   ],
   "source": [
    "np.sum(np.square(preds - sigs))/(2*dt*length_series)"
   ]
  },
  {
   "cell_type": "code",
   "execution_count": null,
   "id": "4bd20966-172f-44d7-899d-de2509ad0234",
   "metadata": {},
   "outputs": [],
   "source": []
  },
  {
   "cell_type": "code",
   "execution_count": null,
   "id": "156a21a1-4c3e-4273-aad2-041e4c82c33d",
   "metadata": {},
   "outputs": [],
   "source": []
  },
  {
   "cell_type": "code",
   "execution_count": null,
   "id": "0d800574-b116-40d1-8036-db795f10ee50",
   "metadata": {},
   "outputs": [],
   "source": []
  }
 ],
 "metadata": {
  "kernelspec": {
   "display_name": "qenv_bilkis",
   "language": "python",
   "name": "qenv_bilkis"
  },
  "language_info": {
   "codemirror_mode": {
    "name": "ipython",
    "version": 3
   },
   "file_extension": ".py",
   "mimetype": "text/x-python",
   "name": "python",
   "nbconvert_exporter": "python",
   "pygments_lexer": "ipython3",
   "version": "3.6.8"
  }
 },
 "nbformat": 4,
 "nbformat_minor": 5
}
