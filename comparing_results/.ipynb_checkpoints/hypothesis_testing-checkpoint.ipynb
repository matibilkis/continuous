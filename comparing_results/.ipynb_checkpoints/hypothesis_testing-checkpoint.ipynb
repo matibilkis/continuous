{
 "cells": [
  {
   "cell_type": "code",
   "execution_count": 1,
   "id": "2be72649",
   "metadata": {},
   "outputs": [
    {
     "data": {
      "text/html": [
       "<style>.container { width:100% !important; }</style>"
      ],
      "text/plain": [
       "<IPython.core.display.HTML object>"
      ]
     },
     "metadata": {},
     "output_type": "display_data"
    }
   ],
   "source": [
    "%load_ext autoreload\n",
    "%autoreload 2\n",
    "from IPython.core.display import display, HTML\n",
    "display(HTML(\"<style>.container { width:100% !important; }</style>\"))"
   ]
  },
  {
   "cell_type": "code",
   "execution_count": 2,
   "id": "80ef0fb7",
   "metadata": {},
   "outputs": [],
   "source": [
    "\n",
    "import os \n",
    "os.chdir(\"..\")"
   ]
  },
  {
   "cell_type": "code",
   "execution_count": 3,
   "id": "b7ab8e53",
   "metadata": {},
   "outputs": [],
   "source": [
    "\n",
    "from numerics.integration.steps import *\n",
    "import numpy as np\n",
    "import matplotlib.pyplot as plt\n",
    "from tqdm import tqdm\n",
    "from numerics.utilities.misc import *"
   ]
  },
  {
   "cell_type": "code",
   "execution_count": 466,
   "id": "4ebfab3b",
   "metadata": {},
   "outputs": [],
   "source": [
    "pars = give_def_params_discrimination(h1true=1)\n",
    "params, exp_path = check_params(pars)\n",
    "times, l0, l1, states, states1, signals, covs, covs1 = load_data_discrimination(exp_path = exp_path, method=\"rossler\",periods = 2, ppp=100000, itraj=1)\n",
    "\n",
    "ep0 = 1e-30\n",
    "ep1 = 1e-30\n",
    "b = lambda ep1: np.log((1-ep1)/ep1)\n",
    "a = lambda ep0: np.log(ep0/(1-ep0))\n",
    "ep_a = lambda bound: np.exp(bound)/(1+np.exp(bound))\n",
    "ep_b = lambda bound: 1/(1+np.exp(bound))\n",
    "\n",
    "\n",
    "log_lik_ratio = l0-l1"
   ]
  },
  {
   "cell_type": "code",
   "execution_count": 467,
   "id": "095339d1",
   "metadata": {},
   "outputs": [
    {
     "data": {
      "text/plain": [
       "[<matplotlib.lines.Line2D at 0x7fb323366fd0>]"
      ]
     },
     "execution_count": 467,
     "metadata": {},
     "output_type": "execute_result"
    },
    {
     "data": {
      "image/png": "[encoded data removed]",
      "text/plain": [
       "<Figure size 432x288 with 1 Axes>"
      ]
     },
     "metadata": {
      "needs_background": "light"
     },
     "output_type": "display_data"
    }
   ],
   "source": [
    "plt.plot(log_lik_ratio)"
   ]
  },
  {
   "cell_type": "code",
   "execution_count": 422,
   "id": "f13f74b4",
   "metadata": {},
   "outputs": [],
   "source": [
    "        \n",
    "pars = give_def_params_discrimination(h1true=1)\n",
    "params, exp_path = check_params(pars)\n",
    "times, l0, l1, states, states1, signals, covs, covs1 = load_data_discrimination(exp_path = exp_path, method=\"euler\",periods = 2, ppp=100000, itraj=1)\n",
    "\n",
    "ep0 = 1e-30\n",
    "ep1 = 1e-30\n",
    "b = lambda ep1: np.log((1-ep1)/ep1)\n",
    "a = lambda ep0: np.log(ep0/(1-ep0))\n",
    "ep_a = lambda bound: np.exp(bound)/(1+np.exp(bound))\n",
    "ep_b = lambda bound: 1/(1+np.exp(bound))\n",
    "\n",
    "\n",
    "log_lik_ratio = l0-l1"
   ]
  },
  {
   "cell_type": "code",
   "execution_count": 423,
   "id": "bff90769",
   "metadata": {},
   "outputs": [
    {
     "data": {
      "text/plain": [
       "[<matplotlib.lines.Line2D at 0x7fb3203b2cd0>]"
      ]
     },
     "execution_count": 423,
     "metadata": {},
     "output_type": "execute_result"
    },
    {
     "data": {
      "image/png": "[encoded data removed]",
      "text/plain": [
       "<Figure size 432x288 with 1 Axes>"
      ]
     },
     "metadata": {
      "needs_background": "light"
     },
     "output_type": "display_data"
    }
   ],
   "source": [
    "plt.plot(log_lik_ratio)"
   ]
  },
  {
   "cell_type": "code",
   "execution_count": 150,
   "id": "8435cd8b",
   "metadata": {},
   "outputs": [],
   "source": [
    "pars = give_def_params_discrimination(h1true=1)\n",
    "params, exp_path = check_params(pars)\n",
    "times, l0, l1, states, states1, signals, covs, covs1 = load_data_discrimination(exp_path = exp_path, periods = 2, ppp=100000, itraj=1)\n",
    "\n",
    "ep0 = 1e-30\n",
    "ep1 = 1e-30\n",
    "b = lambda ep1: np.log((1-ep1)/ep1)\n",
    "a = lambda ep0: np.log(ep0/(1-ep0))\n",
    "ep_a = lambda bound: np.exp(bound)/(1+np.exp(bound))\n",
    "ep_b = lambda bound: 1/(1+np.exp(bound))\n",
    "\n",
    "\n",
    "log_lik_ratio = l0-l1"
   ]
  },
  {
   "cell_type": "code",
   "execution_count": 437,
   "id": "5a0741bd",
   "metadata": {},
   "outputs": [
    {
     "data": {
      "text/plain": [
       "[0.00176,\n",
       " 0.00117,\n",
       " 0.00043,\n",
       " 0.00386,\n",
       " 0.00117,\n",
       " 0.00363,\n",
       " 0.00101,\n",
       " 0.00408,\n",
       " 0.00081,\n",
       " 0.00242,\n",
       " 0.00075,\n",
       " 0.00305,\n",
       " 0.001,\n",
       " 0.00118,\n",
       " 0.00096,\n",
       " 0.00261,\n",
       " 0.00085,\n",
       " 0.00079,\n",
       " 0.00049,\n",
       " 0.00212,\n",
       " 0.00214,\n",
       " 0.00097,\n",
       " 0.00101,\n",
       " 0.00154,\n",
       " 0.00175,\n",
       " 0.00292,\n",
       " 0.00169,\n",
       " 0.00592,\n",
       " 0.00382,\n",
       " 0.0022,\n",
       " 0.00172,\n",
       " 0.0007,\n",
       " 0.00117,\n",
       " 0.00361,\n",
       " 0.00617,\n",
       " 0.0016,\n",
       " 0.00184,\n",
       " 0.0022,\n",
       " 0.00038,\n",
       " 0.00377,\n",
       " 0.0014,\n",
       " 0.00128,\n",
       " 0.00217,\n",
       " 0.00416,\n",
       " 0.00199,\n",
       " 0.0013,\n",
       " 0.00175,\n",
       " 0.00212,\n",
       " 0.00419,\n",
       " 0.0036,\n",
       " 0.00237,\n",
       " 0.00151,\n",
       " 0.00173,\n",
       " 0.00245,\n",
       " 0.0007,\n",
       " 0.00364,\n",
       " 0.00253,\n",
       " 0.00064,\n",
       " 0.00095,\n",
       " 0.00109,\n",
       " 0.00484,\n",
       " 0.00092,\n",
       " 0.00157,\n",
       " 0.00106,\n",
       " 0.00045,\n",
       " 0.00123,\n",
       " 0.00468,\n",
       " 0.00126,\n",
       " 0.00166,\n",
       " 0.00186,\n",
       " 0.00223,\n",
       " 0.00093,\n",
       " 0.00315,\n",
       " 0.00294,\n",
       " 0.00102,\n",
       " 0.00102,\n",
       " 0.00249,\n",
       " 0.00122,\n",
       " 0.00165,\n",
       " 0.00093,\n",
       " 0.00127,\n",
       " 0.00521,\n",
       " 0.00151,\n",
       " 0.00137,\n",
       " 0.00065,\n",
       " 0.0019,\n",
       " 0.00316,\n",
       " 0.00189,\n",
       " 0.00256,\n",
       " 0.00617,\n",
       " 0.00348,\n",
       " 0.0018,\n",
       " 0.00844,\n",
       " 0.00367,\n",
       " 0.00103,\n",
       " 0.00359,\n",
       " 0.00576,\n",
       " 0.00109,\n",
       " 0.00682,\n",
       " 0.00141,\n",
       " 0.00156,\n",
       " 0.00338,\n",
       " 0.00494,\n",
       " 0.0011,\n",
       " 0.00128,\n",
       " 0.00049,\n",
       " 0.00168,\n",
       " 0.00086,\n",
       " 0.00084,\n",
       " 0.00101,\n",
       " 0.00149,\n",
       " 0.00114,\n",
       " 0.00205,\n",
       " 0.00223,\n",
       " 0.00291,\n",
       " 0.00414,\n",
       " 0.00158,\n",
       " 0.00082,\n",
       " 0.00164,\n",
       " 0.00071,\n",
       " 0.0013,\n",
       " 0.00133,\n",
       " 0.00194,\n",
       " 0.00383,\n",
       " 0.00111,\n",
       " 0.00124,\n",
       " 0.00161,\n",
       " 0.00188,\n",
       " 0.00282,\n",
       " 0.00085,\n",
       " 0.00097,\n",
       " 0.00283,\n",
       " 0.00164,\n",
       " 0.00118,\n",
       " 0.00196,\n",
       " 0.00461,\n",
       " 0.00273,\n",
       " 0.00388,\n",
       " 0.00081,\n",
       " 0.00094,\n",
       " 0.00095,\n",
       " 0.00033,\n",
       " 0.00187,\n",
       " 0.00098,\n",
       " 0.00385,\n",
       " 0.00097,\n",
       " 0.00733,\n",
       " 0.00355,\n",
       " 0.00262,\n",
       " 0.002,\n",
       " 0.00171,\n",
       " 0.00092,\n",
       " 0.00122,\n",
       " 0.00138,\n",
       " 0.0053,\n",
       " 0.00134,\n",
       " 0.00366,\n",
       " 0.00513,\n",
       " 0.00095,\n",
       " 0.0029,\n",
       " 0.00088,\n",
       " 0.00175,\n",
       " 0.00107,\n",
       " 0.00357,\n",
       " 0.00211,\n",
       " 0.00126,\n",
       " 0.00157,\n",
       " 0.00256,\n",
       " 0.00337,\n",
       " 0.00157,\n",
       " 0.00107,\n",
       " 0.00145,\n",
       " 0.00056,\n",
       " 0.00041,\n",
       " 0.00132,\n",
       " 0.00166,\n",
       " 0.00128,\n",
       " 0.00264,\n",
       " 0.00087,\n",
       " 0.00236,\n",
       " 0.00353,\n",
       " 0.00114,\n",
       " 0.00125,\n",
       " 0.00231,\n",
       " 0.00136,\n",
       " 0.00148,\n",
       " 0.00244,\n",
       " 0.00163,\n",
       " 0.00147,\n",
       " 0.00063,\n",
       " 0.00089,\n",
       " 0.00101,\n",
       " 0.00118,\n",
       " 0.00324,\n",
       " 0.00147,\n",
       " 0.00136,\n",
       " 0.00134,\n",
       " 0.00218,\n",
       " 0.00217,\n",
       " 0.0006,\n",
       " 0.00125,\n",
       " 0.00181,\n",
       " 0.00112,\n",
       " 0.00178,\n",
       " 0.00054,\n",
       " 0.00207,\n",
       " 0.00391,\n",
       " 0.00173,\n",
       " 0.00216,\n",
       " 0.00174,\n",
       " 0.00301,\n",
       " 0.00178,\n",
       " 0.00137,\n",
       " 0.00202,\n",
       " 0.00119,\n",
       " 0.00077,\n",
       " 0.0022,\n",
       " 0.00094,\n",
       " 0.00129,\n",
       " 0.00058,\n",
       " 0.00105,\n",
       " 0.00205,\n",
       " 0.00103,\n",
       " 0.00043,\n",
       " 0.00217,\n",
       " 0.00213,\n",
       " 0.00126,\n",
       " 0.00153,\n",
       " 0.00294,\n",
       " 0.00053,\n",
       " 0.00098,\n",
       " 0.00041,\n",
       " 0.00112,\n",
       " 0.00249,\n",
       " 0.0023,\n",
       " 0.00141,\n",
       " 0.00118,\n",
       " 0.00077,\n",
       " 0.00158,\n",
       " 0.00484,\n",
       " 0.00052,\n",
       " 0.00572,\n",
       " 0.00435,\n",
       " 0.00157,\n",
       " 0.0011,\n",
       " 0.00028,\n",
       " 0.00284,\n",
       " 0.00332,\n",
       " 0.00476,\n",
       " 0.0022,\n",
       " 0.00247,\n",
       " 0.00125,\n",
       " 0.00082,\n",
       " 0.00108,\n",
       " 0.00064,\n",
       " 0.00311,\n",
       " 0.00118,\n",
       " 0.00099,\n",
       " 0.00102,\n",
       " 0.00343,\n",
       " 0.00342,\n",
       " 0.0013,\n",
       " 0.00165,\n",
       " 0.00115,\n",
       " 0.00128,\n",
       " 0.00345,\n",
       " 0.00164,\n",
       " 0.0018,\n",
       " 0.00231,\n",
       " 0.00149,\n",
       " 0.00128,\n",
       " 0.00095,\n",
       " 0.00101,\n",
       " 0.0011,\n",
       " 0.00085,\n",
       " 0.00137,\n",
       " 0.00022,\n",
       " 0.00607,\n",
       " 0.0007,\n",
       " 0.00459,\n",
       " 0.00086,\n",
       " 0.00075,\n",
       " 0.00438,\n",
       " 0.00475,\n",
       " 0.0005,\n",
       " 0.00059,\n",
       " 0.00134,\n",
       " 0.00069,\n",
       " 0.00466,\n",
       " 0.00372,\n",
       " 0.00289,\n",
       " 0.00107,\n",
       " 0.00417,\n",
       " 0.00107,\n",
       " 0.00155,\n",
       " 0.00177,\n",
       " 0.00024,\n",
       " 0.00131,\n",
       " 0.00139,\n",
       " 0.00183,\n",
       " 0.00317,\n",
       " 0.00439,\n",
       " 0.00089,\n",
       " 0.00147,\n",
       " 0.0013,\n",
       " 0.0012,\n",
       " 0.0012,\n",
       " 0.00169,\n",
       " 0.00232,\n",
       " 0.00171,\n",
       " 0.00103,\n",
       " 0.00052,\n",
       " 0.00046,\n",
       " 0.0008,\n",
       " 0.00094,\n",
       " 0.00104,\n",
       " 0.00157,\n",
       " 0.00114,\n",
       " 0.00055,\n",
       " 0.0031,\n",
       " 0.00239,\n",
       " 0.00143,\n",
       " 0.00301,\n",
       " 0.00125,\n",
       " 0.00164,\n",
       " 0.00049,\n",
       " 0.00141,\n",
       " 0.00262,\n",
       " 0.00341,\n",
       " 0.00047,\n",
       " 0.0022,\n",
       " 0.00145,\n",
       " 0.00451,\n",
       " 0.00101,\n",
       " 0.00298,\n",
       " 0.00213,\n",
       " 0.00213,\n",
       " 0.00274,\n",
       " 0.00137,\n",
       " 0.00107,\n",
       " 0.00085,\n",
       " 0.00218,\n",
       " 0.00278,\n",
       " 0.00214,\n",
       " 0.00111,\n",
       " 0.00205,\n",
       " 0.00131,\n",
       " 0.00081,\n",
       " 0.0028,\n",
       " 0.00074,\n",
       " 0.00491,\n",
       " 0.00068,\n",
       " 0.00177,\n",
       " 0.00125,\n",
       " 0.0035,\n",
       " 0.00116,\n",
       " 0.00075,\n",
       " 0.00072,\n",
       " 0.00108,\n",
       " 0.00568,\n",
       " 0.00395,\n",
       " 0.00125,\n",
       " 0.0057,\n",
       " 0.00089,\n",
       " 0.00091,\n",
       " 0.00161,\n",
       " 0.00505,\n",
       " 0.00059,\n",
       " 0.00093,\n",
       " 0.00173,\n",
       " 0.00065,\n",
       " 0.00438,\n",
       " 0.00077,\n",
       " 0.00148,\n",
       " 0.00306,\n",
       " 0.00048,\n",
       " 0.00286,\n",
       " 0.00142,\n",
       " 0.00242,\n",
       " 0.00034,\n",
       " 0.00207,\n",
       " 0.00244,\n",
       " 0.00313,\n",
       " 0.00092,\n",
       " 0.0024,\n",
       " 0.00379,\n",
       " 0.00187,\n",
       " 0.00057,\n",
       " 0.00059,\n",
       " 0.00301,\n",
       " 0.00098,\n",
       " 0.00266,\n",
       " 0.00166,\n",
       " 0.00374,\n",
       " 0.00061,\n",
       " 0.00092,\n",
       " 0.00245,\n",
       " 0.00075,\n",
       " 0.00192,\n",
       " 0.00368,\n",
       " 0.00185,\n",
       " 0.00454,\n",
       " 0.0014,\n",
       " 0.00131,\n",
       " 0.00103,\n",
       " 0.00292,\n",
       " 0.00116,\n",
       " 0.00645,\n",
       " 0.00228,\n",
       " 0.0015,\n",
       " 0.00152,\n",
       " 0.00181,\n",
       " 0.00097,\n",
       " 0.00054,\n",
       " 0.0013,\n",
       " 0.00231,\n",
       " 0.00505,\n",
       " 0.00355,\n",
       " 0.00152,\n",
       " 0.00202,\n",
       " 0.0016,\n",
       " 0.00768,\n",
       " 0.00066,\n",
       " 0.00319,\n",
       " 0.00031,\n",
       " 0.00433,\n",
       " 0.00144,\n",
       " 0.00328,\n",
       " 0.00133,\n",
       " 0.0011,\n",
       " 0.00148,\n",
       " 0.00136,\n",
       " 0.00164,\n",
       " 0.00059,\n",
       " 0.00164,\n",
       " 0.00083,\n",
       " 0.00079,\n",
       " 0.001,\n",
       " 0.00184,\n",
       " 0.00372,\n",
       " 0.00036,\n",
       " 0.00193,\n",
       " 0.00121,\n",
       " 0.0053,\n",
       " 0.00559,\n",
       " 0.00138,\n",
       " 0.0012,\n",
       " 0.0068,\n",
       " 0.00894,\n",
       " 0.00111,\n",
       " 0.00101,\n",
       " 0.00143,\n",
       " 0.00097,\n",
       " 0.0014,\n",
       " 0.00102,\n",
       " 0.00396,\n",
       " 0.00375,\n",
       " 0.00191,\n",
       " 0.00076,\n",
       " 0.00201,\n",
       " 0.00303,\n",
       " 0.00282,\n",
       " 0.00054,\n",
       " 0.00075,\n",
       " 0.00229,\n",
       " 0.00332,\n",
       " 0.00104,\n",
       " 0.00234,\n",
       " 0.00314,\n",
       " 0.00258,\n",
       " 0.00206,\n",
       " 0.00053,\n",
       " 0.00146,\n",
       " 0.00108,\n",
       " 0.00241,\n",
       " 0.00281,\n",
       " 0.00147,\n",
       " 0.00213,\n",
       " 0.00042,\n",
       " 0.00061,\n",
       " 0.00158,\n",
       " 0.00073,\n",
       " 0.00038,\n",
       " 0.00108,\n",
       " 0.0013,\n",
       " 0.00113,\n",
       " 0.0023,\n",
       " 0.0049,\n",
       " 0.00095,\n",
       " 0.00084,\n",
       " 0.00325,\n",
       " 0.00123,\n",
       " 0.00045,\n",
       " 0.00059,\n",
       " 0.00388,\n",
       " 0.00075,\n",
       " 0.0008,\n",
       " 0.001,\n",
       " 0.00086,\n",
       " 0.00309,\n",
       " 0.00117,\n",
       " 0.00168,\n",
       " 0.00153,\n",
       " 0.00126,\n",
       " 0.00068,\n",
       " 0.00116,\n",
       " 0.00143,\n",
       " 0.00109,\n",
       " 0.00142,\n",
       " 0.00112,\n",
       " 0.00069,\n",
       " 0.00116,\n",
       " 0.00328,\n",
       " 0.00138,\n",
       " 0.00275,\n",
       " 0.00037,\n",
       " 0.00081,\n",
       " 0.00319,\n",
       " 0.00108,\n",
       " 0.00123,\n",
       " 0.00362,\n",
       " 0.00468,\n",
       " 0.00147,\n",
       " 0.00048,\n",
       " 0.00133,\n",
       " 0.00291,\n",
       " 0.00105,\n",
       " 0.00128,\n",
       " 0.00141,\n",
       " 0.00406,\n",
       " 0.00126,\n",
       " 0.00351,\n",
       " 0.00257,\n",
       " 0.00081,\n",
       " 0.00492,\n",
       " 0.00189,\n",
       " 0.00046,\n",
       " 0.00228,\n",
       " 0.00084,\n",
       " 0.00164,\n",
       " 0.00142,\n",
       " 0.00115,\n",
       " 0.00268,\n",
       " 0.00169,\n",
       " 0.00281,\n",
       " 0.00117,\n",
       " 0.00027,\n",
       " 0.00069,\n",
       " 0.00091,\n",
       " 0.00446,\n",
       " 0.00101,\n",
       " 0.00134,\n",
       " 0.00083,\n",
       " 0.00056,\n",
       " 0.0016,\n",
       " 0.00202,\n",
       " 0.00099,\n",
       " 0.0011,\n",
       " 0.00108,\n",
       " 0.00666,\n",
       " 0.00274,\n",
       " 0.00175,\n",
       " 0.00119,\n",
       " 0.00132,\n",
       " 0.00164,\n",
       " 0.01193,\n",
       " 0.00139,\n",
       " 0.00334,\n",
       " 0.00048,\n",
       " 0.00317,\n",
       " 0.00065,\n",
       " 0.00281,\n",
       " 0.00057,\n",
       " 0.00128,\n",
       " 0.00143,\n",
       " 0.00098,\n",
       " 0.00841,\n",
       " 0.009,\n",
       " 0.00084,\n",
       " 0.00479,\n",
       " 0.00302,\n",
       " 0.00055,\n",
       " 0.00064,\n",
       " 0.00045,\n",
       " 0.00302,\n",
       " 0.00134,\n",
       " 0.00376,\n",
       " 0.00181,\n",
       " 0.00159,\n",
       " 0.00162,\n",
       " 0.00499,\n",
       " 0.00214,\n",
       " 0.00396,\n",
       " 0.00116,\n",
       " 0.00115,\n",
       " 0.00112,\n",
       " 0.0011,\n",
       " 0.00232,\n",
       " 0.00281,\n",
       " 0.00125,\n",
       " 0.00122,\n",
       " 0.003,\n",
       " 0.00153,\n",
       " 0.00042,\n",
       " 0.0018,\n",
       " 0.00115,\n",
       " 0.00309,\n",
       " 0.00089,\n",
       " 0.00346,\n",
       " 0.00087,\n",
       " 0.00066,\n",
       " 0.00329,\n",
       " 0.00192,\n",
       " 0.00039,\n",
       " 0.00229,\n",
       " 0.00053,\n",
       " 0.00098,\n",
       " 0.00117,\n",
       " 0.00165,\n",
       " 0.00084,\n",
       " 0.00129,\n",
       " 0.00267,\n",
       " 0.00254,\n",
       " 0.00111,\n",
       " 0.00151,\n",
       " 0.00357,\n",
       " 0.00109,\n",
       " 0.00282,\n",
       " 0.00038,\n",
       " 0.00278,\n",
       " 0.00067,\n",
       " 0.00116,\n",
       " 0.00391,\n",
       " 0.00074,\n",
       " 0.00356,\n",
       " 0.00336,\n",
       " 0.00206,\n",
       " 0.00116,\n",
       " 0.002,\n",
       " 0.00205,\n",
       " 0.00115,\n",
       " 0.00049,\n",
       " 0.00469,\n",
       " 0.00224,\n",
       " 0.00078,\n",
       " 0.00164,\n",
       " 0.00056,\n",
       " 0.00184,\n",
       " 0.00032,\n",
       " 0.00339,\n",
       " 0.00051,\n",
       " 0.00136,\n",
       " 0.00059,\n",
       " 0.00237,\n",
       " 0.0019,\n",
       " 0.00067,\n",
       " 0.00149,\n",
       " 0.00125,\n",
       " 0.00086,\n",
       " 0.00091,\n",
       " 0.0018,\n",
       " 0.0012,\n",
       " 0.00107,\n",
       " 0.00127,\n",
       " 0.00041,\n",
       " 0.00197,\n",
       " 0.00111,\n",
       " 0.00064,\n",
       " 0.00215,\n",
       " 0.00348,\n",
       " 0.00153,\n",
       " 0.00174,\n",
       " 0.00065,\n",
       " 0.00071,\n",
       " 0.00093,\n",
       " 0.00212,\n",
       " 0.00295,\n",
       " 0.00193,\n",
       " 0.00281,\n",
       " 0.00513,\n",
       " 0.00129,\n",
       " 0.00177,\n",
       " 0.00251,\n",
       " 0.00088,\n",
       " 0.00164,\n",
       " 0.00168,\n",
       " 0.00172,\n",
       " 0.00262,\n",
       " 0.00213,\n",
       " 0.00704,\n",
       " 0.00043,\n",
       " 0.00093,\n",
       " 0.00167,\n",
       " 0.00226,\n",
       " 0.01032,\n",
       " 0.00179,\n",
       " 0.00146,\n",
       " 0.00195,\n",
       " 0.00198,\n",
       " 0.00215,\n",
       " 0.00102,\n",
       " 0.00145,\n",
       " 0.00368,\n",
       " 0.00764,\n",
       " 0.00117,\n",
       " 0.00291,\n",
       " 0.00117,\n",
       " 0.00063,\n",
       " 0.00101,\n",
       " 0.00231,\n",
       " 0.00065,\n",
       " 0.0007,\n",
       " 0.0017,\n",
       " 0.00315,\n",
       " 0.00297,\n",
       " 0.00177,\n",
       " 0.00275,\n",
       " 0.00135,\n",
       " 0.0003,\n",
       " 0.0017,\n",
       " 0.00198,\n",
       " 0.00069,\n",
       " 0.0014,\n",
       " 0.00193,\n",
       " 0.00028,\n",
       " 0.00131,\n",
       " 0.00333,\n",
       " 0.00285,\n",
       " 0.00164,\n",
       " 0.00286,\n",
       " 0.00273,\n",
       " 0.00249,\n",
       " 0.00115,\n",
       " 0.00078,\n",
       " 0.00206,\n",
       " 0.0011,\n",
       " 0.00125,\n",
       " 0.00231,\n",
       " 0.00121,\n",
       " 0.00085,\n",
       " 0.00152,\n",
       " 0.0043,\n",
       " 0.00269,\n",
       " 0.00659,\n",
       " 0.00164,\n",
       " 0.00127,\n",
       " 0.00138,\n",
       " 0.00142,\n",
       " 0.00101,\n",
       " 0.00192,\n",
       " 0.00308,\n",
       " 0.00112,\n",
       " 0.00493,\n",
       " 0.00289,\n",
       " 0.00034,\n",
       " 0.00503,\n",
       " 0.00116,\n",
       " 0.00359,\n",
       " 0.00196,\n",
       " 0.00596,\n",
       " 0.00054,\n",
       " 0.00121,\n",
       " 0.00054,\n",
       " 0.00121,\n",
       " 0.00133,\n",
       " 0.00094,\n",
       " 0.00086,\n",
       " 0.00087,\n",
       " 0.00095,\n",
       " 0.00367,\n",
       " 0.00286,\n",
       " 0.0035,\n",
       " 0.00288,\n",
       " 0.0021,\n",
       " 0.00034,\n",
       " 0.0015,\n",
       " 0.00398,\n",
       " 0.00208,\n",
       " 0.00115,\n",
       " 0.00143,\n",
       " 0.00257,\n",
       " 0.00102,\n",
       " 0.00556,\n",
       " 0.00088,\n",
       " 0.00114,\n",
       " 0.00522,\n",
       " 0.00285,\n",
       " 0.0015,\n",
       " 0.00278,\n",
       " 0.0025,\n",
       " 0.00103,\n",
       " 0.00181,\n",
       " 0.00073,\n",
       " 0.00092,\n",
       " 0.00166,\n",
       " 0.00316,\n",
       " 0.00414,\n",
       " 0.00273,\n",
       " 0.00166,\n",
       " 0.00187,\n",
       " 0.00067,\n",
       " 0.00201,\n",
       " 0.00097,\n",
       " 0.0006,\n",
       " 0.0006,\n",
       " 0.00182,\n",
       " 0.00171,\n",
       " 0.00105,\n",
       " 0.00069,\n",
       " 0.00094,\n",
       " 0.00226,\n",
       " 0.00058,\n",
       " 0.00371,\n",
       " 0.0004,\n",
       " 0.00137,\n",
       " 0.00337,\n",
       " 0.00098,\n",
       " 0.00284,\n",
       " 0.00365,\n",
       " 0.00078,\n",
       " 0.00058,\n",
       " 0.00144,\n",
       " 0.00161,\n",
       " 0.00202,\n",
       " 0.00132,\n",
       " 0.00168,\n",
       " 0.00388,\n",
       " 0.00096,\n",
       " 0.0016,\n",
       " 0.00237,\n",
       " 0.00084,\n",
       " 0.00114,\n",
       " 0.0008,\n",
       " 0.0038,\n",
       " 0.00079,\n",
       " 0.00139,\n",
       " 0.00404,\n",
       " 0.00239,\n",
       " 0.00078,\n",
       " 0.00069,\n",
       " 0.00073,\n",
       " 0.00203,\n",
       " 0.00097,\n",
       " 0.00077,\n",
       " 0.00221,\n",
       " 0.00085,\n",
       " 0.00204,\n",
       " 0.0038,\n",
       " 0.00091,\n",
       " 0.00225,\n",
       " 0.00405,\n",
       " 0.00231,\n",
       " 0.00094,\n",
       " 0.00209,\n",
       " 0.00229,\n",
       " 0.00354,\n",
       " 0.00105,\n",
       " 0.00177,\n",
       " 0.00097,\n",
       " 0.00107,\n",
       " 0.00122,\n",
       " 0.00045,\n",
       " 0.00134,\n",
       " 0.00248,\n",
       " 0.00233,\n",
       " 0.00107,\n",
       " 0.00716,\n",
       " 0.00143,\n",
       " 0.00267,\n",
       " 0.00401,\n",
       " 0.00092,\n",
       " 0.00042,\n",
       " 0.00182,\n",
       " 0.00049,\n",
       " 0.00213,\n",
       " 0.00128,\n",
       " 0.00345,\n",
       " 0.00146,\n",
       " 0.00065,\n",
       " 0.00049,\n",
       " 0.00081,\n",
       " 0.00371,\n",
       " 0.00508,\n",
       " 0.00108,\n",
       " 0.00393,\n",
       " 0.00082,\n",
       " 0.00164,\n",
       " 0.0084,\n",
       " 0.00353,\n",
       " 0.00185,\n",
       " 0.00201,\n",
       " 0.00077,\n",
       " 0.00159,\n",
       " 0.00164,\n",
       " 0.00049,\n",
       " 0.00203,\n",
       " 0.00481,\n",
       " 0.00052,\n",
       " 0.00056,\n",
       " 0.00295,\n",
       " 0.00207,\n",
       " 0.0012,\n",
       " 0.0014,\n",
       " 0.00141,\n",
       " 0.00297,\n",
       " 0.0018,\n",
       " 0.00096,\n",
       " 0.00154,\n",
       " 0.00051,\n",
       " 0.00123,\n",
       " 0.00074,\n",
       " 0.00188,\n",
       " 0.00075,\n",
       " 0.00058,\n",
       " 0.001,\n",
       " 0.00211,\n",
       " 0.00099,\n",
       " 0.00488,\n",
       " 0.00066,\n",
       " 0.00217,\n",
       " 0.00202,\n",
       " 0.00183,\n",
       " 0.00087,\n",
       " 0.00171,\n",
       " 0.0023,\n",
       " 0.00173,\n",
       " 0.00133,\n",
       " 0.00057,\n",
       " 0.00413,\n",
       " 0.00106,\n",
       " 0.00205,\n",
       " 0.0042,\n",
       " 0.00064,\n",
       " 0.00241,\n",
       " 0.00249,\n",
       " 0.00186,\n",
       " 0.00068,\n",
       " 0.00194,\n",
       " 0.0045,\n",
       " 0.00212,\n",
       " 0.00053,\n",
       " 0.00065,\n",
       " 0.00299,\n",
       " 0.00151,\n",
       " 0.00095,\n",
       " 0.00063,\n",
       " 0.00204,\n",
       " 0.00337,\n",
       " 0.00232,\n",
       " 0.00161,\n",
       " 0.00142,\n",
       " 0.00434,\n",
       " 0.0015,\n",
       " 0.00072,\n",
       " 0.00092,\n",
       " 0.00076,\n",
       " 0.00118,\n",
       " 0.00127,\n",
       " 0.002,\n",
       " 0.00121,\n",
       " 0.00131,\n",
       " 0.00135,\n",
       " 0.00264,\n",
       " 0.00066,\n",
       " 0.00577,\n",
       " 0.00138,\n",
       " 0.00369,\n",
       " 0.00104,\n",
       " 0.00283,\n",
       " 0.00067,\n",
       " 0.00055,\n",
       " 0.00119,\n",
       " 0.00176,\n",
       " 0.00365,\n",
       " 0.00046,\n",
       " 0.00206,\n",
       " 0.00072,\n",
       " 0.0004,\n",
       " 0.00074,\n",
       " 0.00151,\n",
       " 0.00383,\n",
       " 0.00113,\n",
       " 0.00137,\n",
       " 0.00077,\n",
       " 0.00211,\n",
       " 0.00155,\n",
       " 0.00163,\n",
       " 0.00185,\n",
       " 0.00036,\n",
       " 0.00043,\n",
       " 0.001,\n",
       " 0.00155,\n",
       " 0.00306,\n",
       " 0.00042,\n",
       " 0.00136,\n",
       " 0.00157,\n",
       " 0.003,\n",
       " 0.00472,\n",
       " 0.00118,\n",
       " 0.0019]"
      ]
     },
     "execution_count": 437,
     "metadata": {},
     "output_type": "execute_result"
    }
   ],
   "source": [
    "st"
   ]
  },
  {
   "cell_type": "code",
   "execution_count": 153,
   "id": "a4743d0b",
   "metadata": {},
   "outputs": [
    {
     "data": {
      "text/plain": [
       "0.04742587317756678"
      ]
     },
     "execution_count": 153,
     "metadata": {},
     "output_type": "execute_result"
    }
   ],
   "source": [
    "ep_b(3)"
   ]
  },
  {
   "cell_type": "code",
   "execution_count": 98,
   "id": "6c7ccf98",
   "metadata": {},
   "outputs": [
    {
     "data": {
      "text/plain": [
       "<matplotlib.lines.Line2D at 0x7fb32d030d90>"
      ]
     },
     "execution_count": 98,
     "metadata": {},
     "output_type": "execute_result"
    },
    {
     "data": {
      "image/png": "[encoded data removed]",
      "text/plain": [
       "<Figure size 432x288 with 1 Axes>"
      ]
     },
     "metadata": {
      "needs_background": "light"
     },
     "output_type": "display_data"
    }
   ],
   "source": [
    "ax = plt.subplot(111)\n",
    "bb=len(log_lik_ratio)\n",
    "ax.plot(log_lik_ratio[:-1])\n",
    "ax.axhline(a(ep0), color=\"blue\")\n",
    "ax.axhline(b(ep1), color=\"black\")"
   ]
  },
  {
   "cell_type": "code",
   "execution_count": 348,
   "id": "a6739182",
   "metadata": {},
   "outputs": [],
   "source": [
    "pars = give_def_params_discrimination(h1true=1)\n",
    "params, exp_path = check_params(pars)\n",
    "times, l0, l1, states, states1, signals, covs, covs1 = load_data_discrimination(exp_path = exp_path, periods = 2, ppp=100000,itraj=itraj)\n",
    "log_lik_ratio = l1-l0"
   ]
  },
  {
   "cell_type": "code",
   "execution_count": null,
   "id": "07b299bf",
   "metadata": {},
   "outputs": [],
   "source": []
  },
  {
   "cell_type": "code",
   "execution_count": 431,
   "id": "73ef86c3",
   "metadata": {},
   "outputs": [],
   "source": [
    "def stop_time(itraj, a=-3, b=3):\n",
    "    pars = give_def_params_discrimination(h1true=1) ## H0 is the true hypothesis\n",
    "    params, exp_path = check_params(pars)\n",
    "    times, lH1, lH0, states, states1, signals, covs, covs1 = load_data_discrimination(exp_path = exp_path, periods = 2, ppp=100000,itraj=itraj)\n",
    "    log_lik_ratio = lH1 - lH0  ### \n",
    "    stopping_time_ind =np.argmin(np.logical_and(log_lik_ratio < b, log_lik_ratio > a))\n",
    "    return times[stopping_time_ind]"
   ]
  },
  {
   "cell_type": "code",
   "execution_count": 469,
   "id": "314552cf",
   "metadata": {},
   "outputs": [
    {
     "data": {
      "text/plain": [
       "[<matplotlib.lines.Line2D at 0x7fb322eb7250>]"
      ]
     },
     "execution_count": 469,
     "metadata": {},
     "output_type": "execute_result"
    },
    {
     "data": {
      "image/png": "[encoded data removed]",
      "text/plain": [
       "<Figure size 432x288 with 1 Axes>"
      ]
     },
     "metadata": {
      "needs_background": "light"
     },
     "output_type": "display_data"
    }
   ],
   "source": [
    "itraj = 1\n",
    "pars = give_def_params_discrimination(h1true=1) ## H0 is the true hypothesis\n",
    "params, exp_path = check_params(pars)\n",
    "times, lH1, lH0, states, states1, signals, covs, covs1 = load_data_discrimination(exp_path = exp_path, periods = 2, ppp=100000,itraj=itraj)\n",
    "log_lik_ratio = lH1 - lH0  ### \n",
    "plt.plot(log_lik_ratio)"
   ]
  },
  {
   "cell_type": "code",
   "execution_count": 432,
   "id": "dc4a2aa7",
   "metadata": {},
   "outputs": [],
   "source": [
    "#if l > b ---> choose H1. If l<a ----> choose H0"
   ]
  },
  {
   "cell_type": "code",
   "execution_count": null,
   "id": "b3fa6c23",
   "metadata": {},
   "outputs": [
    {
     "name": "stderr",
     "output_type": "stream",
     "text": [
      " 95%|████████████████████████████████████████████████████████████████████████████████████████████████████████████████████████████████████▌       | 947/1000 [00:12<00:00, 93.10it/s]"
     ]
    }
   ],
   "source": [
    "st = []\n",
    "for itraj in tqdm(range(20)):\n",
    "    try:\n",
    "        st.append(stop_time(itraj, b=3, a=-3))\n",
    "    except Exception:\n",
    "        pass"
   ]
  },
  {
   "cell_type": "code",
   "execution_count": 453,
   "id": "5b6b1b57",
   "metadata": {},
   "outputs": [
    {
     "data": {
      "text/plain": [
       "0.00097"
      ]
     },
     "execution_count": 453,
     "metadata": {},
     "output_type": "execute_result"
    }
   ],
   "source": [
    "np.max(st)"
   ]
  },
  {
   "cell_type": "code",
   "execution_count": 455,
   "id": "d6f4fbb5",
   "metadata": {},
   "outputs": [
    {
     "data": {
      "text/plain": [
       "0.00449"
      ]
     },
     "execution_count": 455,
     "metadata": {},
     "output_type": "execute_result"
    }
   ],
   "source": [
    "np.max(st)"
   ]
  },
  {
   "cell_type": "code",
   "execution_count": 457,
   "id": "2c7a42c4",
   "metadata": {},
   "outputs": [
    {
     "data": {
      "text/plain": [
       "0.01181"
      ]
     },
     "execution_count": 457,
     "metadata": {},
     "output_type": "execute_result"
    }
   ],
   "source": [
    "np.max(st)"
   ]
  },
  {
   "cell_type": "code",
   "execution_count": 459,
   "id": "129aff01",
   "metadata": {},
   "outputs": [
    {
     "data": {
      "text/plain": [
       "0.02726"
      ]
     },
     "execution_count": 459,
     "metadata": {},
     "output_type": "execute_result"
    }
   ],
   "source": [
    "np.max(st)"
   ]
  },
  {
   "cell_type": "code",
   "execution_count": 442,
   "id": "d93e9a23",
   "metadata": {},
   "outputs": [
    {
     "data": {
      "image/png": "[encoded data removed]",
      "text/plain": [
       "<Figure size 432x288 with 1 Axes>"
      ]
     },
     "metadata": {
      "needs_background": "light"
     },
     "output_type": "display_data"
    }
   ],
   "source": [
    "counts, bins, bars = plt.hist(st, bins=int(len(st)/5),  density=False)"
   ]
  },
  {
   "cell_type": "code",
   "execution_count": 443,
   "id": "bffaa0cd",
   "metadata": {},
   "outputs": [
    {
     "data": {
      "text/plain": [
       "[<matplotlib.lines.Line2D at 0x7fb3260a9c70>]"
      ]
     },
     "execution_count": 443,
     "metadata": {},
     "output_type": "execute_result"
    },
    {
     "data": {
      "image/png": "[encoded data removed]",
      "text/plain": [
       "<Figure size 432x288 with 1 Axes>"
      ]
     },
     "metadata": {
      "needs_background": "light"
     },
     "output_type": "display_data"
    }
   ],
   "source": [
    "plt.plot(100*counts/len(st))"
   ]
  },
  {
   "cell_type": "code",
   "execution_count": 428,
   "id": "8ba5d5fe",
   "metadata": {},
   "outputs": [
    {
     "data": {
      "text/plain": [
       "6.0"
      ]
     },
     "execution_count": 428,
     "metadata": {},
     "output_type": "execute_result"
    }
   ],
   "source": [
    "np.log10(1/ppp)"
   ]
  },
  {
   "cell_type": "code",
   "execution_count": 444,
   "id": "69c5c4bd",
   "metadata": {},
   "outputs": [],
   "source": [
    "def ggiulio_prob(t, b, kappa0, kappa1, eta0 , eta1, n0, n1, gamma0, gamma1):\n",
    "    Su1 = n1 + 0.5 + (kappa1 / gamma1)\n",
    "    Su0 = n0 + 0.5 + (kappa0 / gamma0)\n",
    "\n",
    "    S1 = (np.sqrt(1 + (16.0*eta1*kappa1*Su1/gamma1)) - 1)*(gamma1/(8.0*eta1*kappa1))\n",
    "    S0 = (np.sqrt(1 + (16.0*eta0*kappa0*Su0/gamma0)) - 1)*( gamma0/(8.0*eta0*kappa0))\n",
    "\n",
    "    lam = gamma0 + (8*eta0*kappa0*S0)\n",
    "\n",
    "    aa = (4*eta1*kappa1*(S1**2))/gamma1\n",
    "    bb =(4*eta0*kappa0*S0**2)*(1+((16.0*eta1*kappa1*S1)/ (gamma1 + lam)) + (64.0*(eta1 * kappa1 * S1)**(2)/(gamma1 * (gamma1 + lam))))/ lam\n",
    "    c =8 *(S0*S1*(eta0*kappa0 *eta1*kappa1)**(0.5)) * (gamma1+ (4.0*eta1*kappa1*S1) ) / ((gamma1 + lam)*gamma1)\n",
    "\n",
    "    mu = 4*(eta1*kappa1*aa + (eta0*kappa0*bb) - 2*np.sqrt(eta1*kappa1*eta0*kappa0)*c)\n",
    "    S= np.sqrt(2*mu)\n",
    "\n",
    "    div = (np.sqrt(2*np.pi)*S*(t**(3/2)))\n",
    "    return  abs(b)*np.exp(-((abs(b)-mu*t)**2)/(2*t*(S**2)))/div"
   ]
  },
  {
   "cell_type": "code",
   "execution_count": 445,
   "id": "4c15b3ee",
   "metadata": {},
   "outputs": [
    {
     "name": "stderr",
     "output_type": "stream",
     "text": [
      "/tmp/ipykernel_168943/208130951.py:18: RuntimeWarning: divide by zero encountered in double_scalars\n",
      "  return  abs(b)*np.exp(-((abs(b)-mu*t)**2)/(2*t*(S**2)))/div\n",
      "/tmp/ipykernel_168943/208130951.py:18: RuntimeWarning: invalid value encountered in double_scalars\n",
      "  return  abs(b)*np.exp(-((abs(b)-mu*t)**2)/(2*t*(S**2)))/div\n"
     ]
    }
   ],
   "source": [
    "[gamma1, omega1, n1, eta1, kappa1], [gamma0, omega0, n0, eta0, kappa0] = params\n",
    "gp1 = [ggiulio_prob(t, 3, kappa0, kappa1, eta0, eta1, n0, n1, gamma0,gamma1) for t in times]"
   ]
  },
  {
   "cell_type": "code",
   "execution_count": 446,
   "id": "94b80659",
   "metadata": {},
   "outputs": [
    {
     "data": {
      "text/plain": [
       "[<matplotlib.lines.Line2D at 0x7fb322445160>]"
      ]
     },
     "execution_count": 446,
     "metadata": {},
     "output_type": "execute_result"
    },
    {
     "data": {
      "image/png": "[encoded data removed]",
      "text/plain": [
       "<Figure size 432x288 with 1 Axes>"
      ]
     },
     "metadata": {
      "needs_background": "light"
     },
     "output_type": "display_data"
    }
   ],
   "source": [
    "plt.plot(times,gp1)\n",
    "plt.plot(np.linspace(0,2,len(counts)),counts/10)"
   ]
  },
  {
   "cell_type": "code",
   "execution_count": null,
   "id": "dcdff184",
   "metadata": {},
   "outputs": [],
   "source": [
    "[True,]"
   ]
  },
  {
   "cell_type": "code",
   "execution_count": 451,
   "id": "917dd183",
   "metadata": {},
   "outputs": [
    {
     "data": {
      "text/plain": [
       "(0.01181, 2.0)"
      ]
     },
     "execution_count": 451,
     "metadata": {},
     "output_type": "execute_result"
    }
   ],
   "source": [
    "np.max(st), times[-1]"
   ]
  },
  {
   "cell_type": "code",
   "execution_count": 449,
   "id": "8cce5866",
   "metadata": {},
   "outputs": [
    {
     "data": {
      "text/plain": [
       "0.0015443800687789918"
      ]
     },
     "execution_count": 449,
     "metadata": {},
     "output_type": "execute_result"
    }
   ],
   "source": [
    "np.sum(st)/len(st)"
   ]
  },
  {
   "cell_type": "code",
   "execution_count": 448,
   "id": "1f8b541a",
   "metadata": {},
   "outputs": [
    {
     "data": {
      "text/plain": [
       "0.0011563537"
      ]
     },
     "execution_count": 448,
     "metadata": {},
     "output_type": "execute_result"
    }
   ],
   "source": [
    "np.std(st)"
   ]
  },
  {
   "cell_type": "code",
   "execution_count": null,
   "id": "75d82ddf",
   "metadata": {},
   "outputs": [],
   "source": []
  },
  {
   "cell_type": "code",
   "execution_count": null,
   "id": "d5ebc600",
   "metadata": {},
   "outputs": [],
   "source": []
  },
  {
   "cell_type": "code",
   "execution_count": null,
   "id": "27004f89",
   "metadata": {},
   "outputs": [],
   "source": []
  },
  {
   "cell_type": "code",
   "execution_count": null,
   "id": "330a21ba",
   "metadata": {},
   "outputs": [],
   "source": [
    "[gamma0, omega0, n0, eta0, kappa0], [gamma1, omega1, n1, eta1, kappa1] = params\n",
    "gp0 = [giulio_prob(t, kappa0, kappa1, eta0, eta1, n0, n1, gamma0,gamma1) for t in np.linspace(0,10,100)]\n"
   ]
  },
  {
   "cell_type": "code",
   "execution_count": 234,
   "id": "d4bba719",
   "metadata": {},
   "outputs": [
    {
     "data": {
      "text/plain": [
       "array([ 51.23826252, 102.47652504, 170.7942084 , 290.35015428,\n",
       "       290.35015428, 375.74725848, 256.1913126 , 444.06494184,\n",
       "       375.74725848, 426.985521  , 478.22378353, 375.74725848,\n",
       "       597.77972941, 495.30320437, 478.22378353, 529.46204605,\n",
       "       614.85915025, 461.14436268, 512.38262521, 461.14436268,\n",
       "       392.82667932, 358.66783764, 307.42957512, 341.5884168 ,\n",
       "       495.30320437, 290.35015428, 324.50899596, 239.11189176,\n",
       "       222.03247092, 204.95305008, 273.27073344, 273.27073344,\n",
       "       324.50899596, 222.03247092, 102.47652504, 290.35015428,\n",
       "       102.47652504, 153.71478756, 153.71478756,  85.3971042 ,\n",
       "       119.55594588,  85.3971042 ,  85.3971042 , 119.55594588,\n",
       "       256.1913126 , 170.7942084 , 136.63536672, 170.7942084 ,\n",
       "        68.31768336, 102.47652504, 136.63536672,  34.15884168,\n",
       "        85.3971042 , 119.55594588,  68.31768336,  85.3971042 ,\n",
       "       136.63536672, 119.55594588, 136.63536672, 119.55594588,\n",
       "        85.3971042 , 102.47652504,  68.31768336, 102.47652504,\n",
       "        34.15884168,  68.31768336,  51.23826252,  68.31768336,\n",
       "         0.        ,  17.07942084,  51.23826252,  51.23826252,\n",
       "        17.07942084,  51.23826252,  34.15884168,  17.07942084,\n",
       "        68.31768336,  34.15884168,  68.31768336,  34.15884168,\n",
       "        68.31768336,  17.07942084,  51.23826252,  51.23826252,\n",
       "         0.        ,  34.15884168,  34.15884168,   0.        ,\n",
       "         0.        ,   0.        ,   0.        ,  34.15884168,\n",
       "         0.        ,  51.23826252,  34.15884168,   0.        ,\n",
       "         0.        ,  17.07942084,  17.07942084,  17.07942084,\n",
       "         0.        ,  34.15884168,   0.        ,   0.        ,\n",
       "         0.        ,   0.        ,  17.07942084,   0.        ,\n",
       "        17.07942084,  17.07942084,   0.        ,   0.        ,\n",
       "        34.15884168,   0.        ,   0.        ,   0.        ,\n",
       "        17.07942084,   0.        ,  17.07942084,   0.        ,\n",
       "         0.        ,  17.07942084,   0.        ,   0.        ,\n",
       "         0.        ,   0.        ,  17.07942084,  17.07942084,\n",
       "         0.        ,   0.        ,   0.        ,   0.        ,\n",
       "         0.        ,   0.        ,   0.        ,   0.        ,\n",
       "         0.        ,   0.        ,   0.        ,  34.15884168,\n",
       "        17.07942084,   0.        ,   0.        ,   0.        ,\n",
       "         0.        ,   0.        ,   0.        ,   0.        ,\n",
       "        17.07942084,  17.07942084,   0.        ,   0.        ,\n",
       "         0.        ,   0.        ,   0.        ,   0.        ,\n",
       "         0.        ,   0.        ,   0.        ,   0.        ,\n",
       "         0.        ,   0.        ,   0.        ,   0.        ,\n",
       "         0.        ,   0.        ,   0.        ,   0.        ,\n",
       "         0.        ,   0.        ,   0.        ,   0.        ,\n",
       "        17.07942084,   0.        ,   0.        ,   0.        ,\n",
       "         0.        ,   0.        ,   0.        ,   0.        ,\n",
       "         0.        ,   0.        ,   0.        ,   0.        ,\n",
       "         0.        ,   0.        ,   0.        ,   0.        ,\n",
       "         0.        ,   0.        ,   0.        ,   0.        ,\n",
       "         0.        ,   0.        ,   0.        ,   0.        ,\n",
       "         0.        ,   0.        ,   0.        ,  17.07942084])"
      ]
     },
     "execution_count": 234,
     "metadata": {},
     "output_type": "execute_result"
    }
   ],
   "source": [
    "counts/(np.sum(counts)*eps)"
   ]
  },
  {
   "cell_type": "code",
   "execution_count": 233,
   "id": "9b688179",
   "metadata": {},
   "outputs": [
    {
     "data": {
      "text/plain": [
       "<BarContainer object of 200 artists>"
      ]
     },
     "execution_count": 233,
     "metadata": {},
     "output_type": "execute_result"
    },
    {
     "data": {
      "image/png": "[encoded data removed]",
      "text/plain": [
       "<Figure size 432x288 with 1 Axes>"
      ]
     },
     "metadata": {
      "needs_background": "light"
     },
     "output_type": "display_data"
    }
   ],
   "source": [
    "eps = bins[1]-bins[0]\n",
    "plt.bar(bins[:-1],counts/(np.sum(counts)*eps), width=eps)\n"
   ]
  },
  {
   "cell_type": "code",
   "execution_count": 227,
   "id": "d240d656",
   "metadata": {},
   "outputs": [
    {
     "data": {
      "text/plain": [
       "[<matplotlib.lines.Line2D at 0x7fb324580160>]"
      ]
     },
     "execution_count": 227,
     "metadata": {},
     "output_type": "execute_result"
    },
    {
     "data": {
      "image/png": "[encoded data removed]",
      "text/plain": [
       "<Figure size 432x288 with 1 Axes>"
      ]
     },
     "metadata": {
      "needs_background": "light"
     },
     "output_type": "display_data"
    }
   ],
   "source": [
    "plt.bar(bins[:-1],counts/np.sum(counts), width=bins[1]-bins[0])\n",
    "plt.plot(bins[:-1],[giulio_prob(5000*t, kappa0, kappa1, eta0, eta1, n0, n1, gamma0,gamma1) for t in bins[:-1]], color=\"red\")"
   ]
  },
  {
   "cell_type": "code",
   "execution_count": 172,
   "id": "ae1f343a",
   "metadata": {},
   "outputs": [
    {
     "data": {
      "text/plain": [
       "[<matplotlib.lines.Line2D at 0x7fb32ef89940>]"
      ]
     },
     "execution_count": 172,
     "metadata": {},
     "output_type": "execute_result"
    },
    {
     "data": {
      "image/png": "[encoded data removed]",
      "text/plain": [
       "<Figure size 432x288 with 1 Axes>"
      ]
     },
     "metadata": {
      "needs_background": "light"
     },
     "output_type": "display_data"
    }
   ],
   "source": [
    "plt.plot(np.linspace(0,10,100),gp1)\n",
    "plt.plot(np.linspace(0,10,100),gp0)"
   ]
  },
  {
   "cell_type": "code",
   "execution_count": 163,
   "id": "7b587d75",
   "metadata": {},
   "outputs": [
    {
     "name": "stderr",
     "output_type": "stream",
     "text": [
      "100%|█████████████████████████████████████████████████████████████████████████████████████████████████████████████████████████████████████████████| 500/500 [00:05<00:00, 89.83it/s]\n"
     ]
    }
   ],
   "source": [
    "#### SPRT ####\n",
    "\n",
    "\n",
    "stprt_stop = {}\n",
    "stprt_stop[\"h0\"] = []\n",
    "stprt_stop[\"h1\"] = []\n",
    "\n",
    "sprt_errs = {}\n",
    "sprt_errs[\"h0/h1\"] = []\n",
    "sprt_errs[\"h1/h0\"] = []\n",
    "\n",
    "b = 3\n",
    "a = -3\n",
    "for itraj in tqdm(range(1000)):\n",
    "        \n",
    "    pars = give_def_params_discrimination(h1true=1)\n",
    "    params, exp_path = check_params(pars)\n",
    "    \n",
    "    times, l0, l1, states, states1, signals, covs, covs1 = load_data_discrimination(exp_path = exp_path, periods = 2, ppp=100000,itraj=itraj)\n",
    "    log_lik_ratio = l0-l1\n",
    "    \n",
    "    ind_stop_time = np.argmin(np.logical_and(log_lik_ratio <= b, log_lik_ratio >= a))\n",
    "    stprt_stop[\"h1\"].append(times[ind_stop_time])\n",
    "    \n",
    "    h0 = log_lik_ratio[ind_stop_time] <= a\n",
    "    sprt_errs[\"h0/h1\"].append(int(h0))\n",
    "    \n",
    "    #### for the other hypothesis, flip the parameters\n",
    "\n",
    "    pars = give_def_params_discrimination(h1true=0)\n",
    "    params, exp_path = check_params(pars)\n",
    "    \n",
    "    times, l0, l1, states, states1, signals, covs, covs1 = load_data_discrimination(exp_path = exp_path, periods = 2, ppp=100000,itraj=itraj)\n",
    "    log_lik_ratio = l0-l1\n",
    "    \n",
    "    ind_stop_time = np.argmin(np.logical_and(log_lik_ratio <= b, log_lik_ratio >= a))\n",
    "    stprt_stop[\"h0\"].append(times[ind_stop_time])\n",
    "    \n",
    "    h1 = log_lik_ratio[ind_stop_time] <= a\n",
    "    sprt_errs[\"h1/h0\"].append(int(h1))\n",
    "    "
   ]
  },
  {
   "cell_type": "code",
   "execution_count": 164,
   "id": "18360e75",
   "metadata": {},
   "outputs": [
    {
     "data": {
      "text/plain": [
       "(0.00198434, 0.00201386)"
      ]
     },
     "execution_count": 164,
     "metadata": {},
     "output_type": "execute_result"
    }
   ],
   "source": [
    "np.mean(stprt_stop[\"h1\"]), np.mean(stprt_stop[\"h0\"])"
   ]
  },
  {
   "cell_type": "code",
   "execution_count": 165,
   "id": "750e9cff",
   "metadata": {},
   "outputs": [
    {
     "data": {
      "text/plain": [
       "0.084"
      ]
     },
     "execution_count": 165,
     "metadata": {},
     "output_type": "execute_result"
    }
   ],
   "source": [
    "np.mean(sprt_errs[\"h0/h1\"])"
   ]
  },
  {
   "cell_type": "code",
   "execution_count": 166,
   "id": "5f4e23fb",
   "metadata": {},
   "outputs": [
    {
     "data": {
      "text/plain": [
       "0.924"
      ]
     },
     "execution_count": 166,
     "metadata": {},
     "output_type": "execute_result"
    }
   ],
   "source": [
    "np.mean(sprt_errs[\"h1/h0\"])"
   ]
  },
  {
   "cell_type": "code",
   "execution_count": 167,
   "id": "434dd4ec",
   "metadata": {},
   "outputs": [
    {
     "name": "stderr",
     "output_type": "stream",
     "text": [
      "100%|█████████████████████████████████████████████████████████████████████████████████████████████████████████████████████████████████████████████| 500/500 [00:05<00:00, 91.42it/s]\n"
     ]
    }
   ],
   "source": [
    "ind_time_sprt_avg_stop_time = np.argmin(np.abs(times - np.mean(stprt_stop[\"h1\"])))\n",
    "\n",
    "stprt_stop = {}\n",
    "stprt_stop[\"h0\"] = []\n",
    "stprt_stop[\"h1\"] = []\n",
    "\n",
    "np_errs = {}\n",
    "np_errs[\"h0/h1\"] = []\n",
    "np_errs[\"h1/h0\"] = []\n",
    "\n",
    "for itraj in tqdm(range(1000)):\n",
    "        \n",
    "    pars = give_def_params_discrimination(h1true=1)\n",
    "    params, exp_path = check_params(pars)\n",
    "    \n",
    "    times, l0, l1, states, states1, signals, covs, covs1 = load_data_discrimination(exp_path = exp_path, periods = 2, ppp=100000,itraj=itraj)\n",
    "    log_lik_ratio = (l0-l1)\n",
    "    \n",
    "    ### stand up at the equal likelihood point ---> you choose max-likelihood hypothesis!\n",
    "    h0 = log_lik_ratio[ind_time_sprt_avg_stop_time] <= 0\n",
    "    np_errs[\"h0/h1\"].append(int(h0))\n",
    "    \n",
    "    #### for the other hypothesis, flip the parameters\n",
    "\n",
    "    pars = give_def_params_discrimination(h1true=0)\n",
    "    params, exp_path = check_params(pars)\n",
    "    \n",
    "    times, l0, l1, states, states1, signals, covs, covs1 = load_data_discrimination(exp_path = exp_path, periods = 2, ppp=100000,itraj=itraj)\n",
    "    log_lik_ratio = (l0-l1)\n",
    "    \n",
    "    ### stand up at the equal likelihood point ---> you choose max-likelihood hypothesis!\n",
    "    h1 = log_lik_ratio[ind_time_sprt_avg_stop_time] <= 0\n",
    "    np_errs[\"h1/h0\"].append(int(h1))\n",
    "    "
   ]
  },
  {
   "cell_type": "code",
   "execution_count": 168,
   "id": "f01ffddd",
   "metadata": {},
   "outputs": [
    {
     "name": "stdout",
     "output_type": "stream",
     "text": [
      "0.158 0.816\n",
      "0.084 0.924\n"
     ]
    }
   ],
   "source": [
    "print(np.mean(np_errs[\"h0/h1\"]), np.mean(np_errs[\"h1/h0\"]))\n",
    "print(np.mean(sprt_errs[\"h0/h1\"]), np.mean(sprt_errs[\"h1/h0\"]))"
   ]
  },
  {
   "cell_type": "code",
   "execution_count": 173,
   "id": "275f684c",
   "metadata": {},
   "outputs": [
    {
     "data": {
      "text/plain": [
       "0.049787068367863944"
      ]
     },
     "execution_count": 173,
     "metadata": {},
     "output_type": "execute_result"
    }
   ],
   "source": [
    "1- np.e"
   ]
  },
  {
   "cell_type": "code",
   "execution_count": null,
   "id": "728e48b8",
   "metadata": {},
   "outputs": [],
   "source": []
  },
  {
   "cell_type": "code",
   "execution_count": 70,
   "id": "4b088e3c",
   "metadata": {},
   "outputs": [],
   "source": [
    "pars = give_def_params_discrimination(h1true=1)\n",
    "params, exp_path = check_params(pars)\n",
    "\n",
    "times, l0, l1, states, states1, signals, covs, covs1 = load_data_discrimination(exp_path = exp_path, periods = 2, ppp=100000,itraj=1)\n",
    "log_lik_ratio = l0-l1\n",
    "\n",
    "bools = np.logical_and(log_lik_ratio <= b(ep1), a(ep0) <= log_lik_ratio)\n",
    "indi = np.argmin(bools)\n",
    "stprt_stop[\"h1\"] = times[indi]\n",
    "\n",
    "h0 = log_lik_ratio[indi] <= a(ep0)"
   ]
  },
  {
   "cell_type": "code",
   "execution_count": 72,
   "id": "d3830b64",
   "metadata": {},
   "outputs": [
    {
     "data": {
      "text/plain": [
       "1"
      ]
     },
     "execution_count": 72,
     "metadata": {},
     "output_type": "execute_result"
    }
   ],
   "source": [
    "int(h0)"
   ]
  },
  {
   "cell_type": "code",
   "execution_count": null,
   "id": "2e86aae4",
   "metadata": {},
   "outputs": [],
   "source": []
  },
  {
   "cell_type": "code",
   "execution_count": null,
   "id": "1bbc2a8f",
   "metadata": {},
   "outputs": [],
   "source": []
  },
  {
   "cell_type": "code",
   "execution_count": 40,
   "id": "34c4e30b",
   "metadata": {},
   "outputs": [
    {
     "name": "stderr",
     "output_type": "stream",
     "text": [
      "  0%|                                                                                                                                                         | 0/9 [00:00<?, ?it/s]\n"
     ]
    },
    {
     "ename": "FileNotFoundError",
     "evalue": "[Errno 2] No such file or directory: '../quantera/trajectories/discrimination/[[1.0, 0, 20, 1.0, 1.0], [0.3, 0, 2, 1.0, 1.0]]/1itraj/rossler_real_traj_method/50periods/1000ppp/1rppp/states.npy'",
     "output_type": "error",
     "traceback": [
      "\u001b[0;31m---------------------------------------------------------------------------\u001b[0m",
      "\u001b[0;31mFileNotFoundError\u001b[0m                         Traceback (most recent call last)",
      "\u001b[0;32m/tmp/ipykernel_136570/775941159.py\u001b[0m in \u001b[0;36m<module>\u001b[0;34m\u001b[0m\n\u001b[1;32m      4\u001b[0m \u001b[0;32mfor\u001b[0m \u001b[0mitraj\u001b[0m \u001b[0;32min\u001b[0m \u001b[0mtqdm\u001b[0m\u001b[0;34m(\u001b[0m\u001b[0mrange\u001b[0m\u001b[0;34m(\u001b[0m\u001b[0;36m1\u001b[0m\u001b[0;34m,\u001b[0m\u001b[0;36m10\u001b[0m\u001b[0;34m)\u001b[0m\u001b[0;34m)\u001b[0m\u001b[0;34m:\u001b[0m\u001b[0;34m\u001b[0m\u001b[0;34m\u001b[0m\u001b[0m\n\u001b[1;32m      5\u001b[0m \u001b[0;34m\u001b[0m\u001b[0m\n\u001b[0;32m----> 6\u001b[0;31m     \u001b[0mtimes\u001b[0m\u001b[0;34m,\u001b[0m \u001b[0ml0\u001b[0m\u001b[0;34m,\u001b[0m \u001b[0ml1\u001b[0m\u001b[0;34m,\u001b[0m \u001b[0mstates\u001b[0m\u001b[0;34m,\u001b[0m \u001b[0mstates1\u001b[0m\u001b[0;34m,\u001b[0m \u001b[0msignals\u001b[0m\u001b[0;34m,\u001b[0m \u001b[0mcovs\u001b[0m\u001b[0;34m,\u001b[0m \u001b[0mcovs1\u001b[0m \u001b[0;34m=\u001b[0m \u001b[0mload_data\u001b[0m\u001b[0;34m(\u001b[0m\u001b[0mexp_path\u001b[0m \u001b[0;34m=\u001b[0m \u001b[0mexp_path\u001b[0m\u001b[0;34m,\u001b[0m \u001b[0mperiods\u001b[0m \u001b[0;34m=\u001b[0m \u001b[0;36m50\u001b[0m\u001b[0;34m,\u001b[0m \u001b[0mppp\u001b[0m\u001b[0;34m=\u001b[0m\u001b[0;36m1000\u001b[0m\u001b[0;34m,\u001b[0m \u001b[0mitraj\u001b[0m\u001b[0;34m=\u001b[0m\u001b[0mitraj\u001b[0m\u001b[0;34m)\u001b[0m\u001b[0;34m\u001b[0m\u001b[0;34m\u001b[0m\u001b[0m\n\u001b[0m\u001b[1;32m      7\u001b[0m     \u001b[0mlog_lik_ratio\u001b[0m \u001b[0;34m=\u001b[0m \u001b[0ml0\u001b[0m\u001b[0;34m-\u001b[0m\u001b[0ml1\u001b[0m\u001b[0;34m\u001b[0m\u001b[0;34m\u001b[0m\u001b[0m\n\u001b[1;32m      8\u001b[0m \u001b[0;34m\u001b[0m\u001b[0m\n",
      "\u001b[0;32m~/Desktop/continuous/numerics/utilities/misc.py\u001b[0m in \u001b[0;36mload_data\u001b[0;34m(exp_path, itraj, ppp, periods, rppp, method, display)\u001b[0m\n\u001b[1;32m    169\u001b[0m \u001b[0;34m\u001b[0m\u001b[0m\n\u001b[1;32m    170\u001b[0m     \u001b[0mtimes\u001b[0m \u001b[0;34m=\u001b[0m \u001b[0mnp\u001b[0m\u001b[0;34m.\u001b[0m\u001b[0mload\u001b[0m\u001b[0;34m(\u001b[0m\u001b[0mpath\u001b[0m\u001b[0;34m+\u001b[0m\u001b[0;34m\"times.npy\"\u001b[0m\u001b[0;34m,\u001b[0m \u001b[0mallow_pickle\u001b[0m\u001b[0;34m=\u001b[0m\u001b[0;32mTrue\u001b[0m\u001b[0;34m)\u001b[0m\u001b[0;34m.\u001b[0m\u001b[0mastype\u001b[0m\u001b[0;34m(\u001b[0m\u001b[0mnp\u001b[0m\u001b[0;34m.\u001b[0m\u001b[0mfloat32\u001b[0m\u001b[0;34m)\u001b[0m \u001b[0;31m### this is \\textbf{q}(t)\u001b[0m\u001b[0;34m\u001b[0m\u001b[0;34m\u001b[0m\u001b[0m\n\u001b[0;32m--> 171\u001b[0;31m     \u001b[0mstates\u001b[0m \u001b[0;34m=\u001b[0m \u001b[0mnp\u001b[0m\u001b[0;34m.\u001b[0m\u001b[0mload\u001b[0m\u001b[0;34m(\u001b[0m\u001b[0mpath\u001b[0m\u001b[0;34m+\u001b[0m\u001b[0;34m\"states.npy\"\u001b[0m\u001b[0;34m,\u001b[0m \u001b[0mallow_pickle\u001b[0m\u001b[0;34m=\u001b[0m\u001b[0;32mTrue\u001b[0m\u001b[0;34m)\u001b[0m\u001b[0;34m.\u001b[0m\u001b[0mastype\u001b[0m\u001b[0;34m(\u001b[0m\u001b[0mnp\u001b[0m\u001b[0;34m.\u001b[0m\u001b[0mfloat32\u001b[0m\u001b[0;34m)\u001b[0m \u001b[0;31m### this is \\textbf{q}(t)\u001b[0m\u001b[0;34m\u001b[0m\u001b[0;34m\u001b[0m\u001b[0m\n\u001b[0m\u001b[1;32m    172\u001b[0m     \u001b[0mcovs\u001b[0m \u001b[0;34m=\u001b[0m \u001b[0mnp\u001b[0m\u001b[0;34m.\u001b[0m\u001b[0mload\u001b[0m\u001b[0;34m(\u001b[0m\u001b[0mpath\u001b[0m\u001b[0;34m+\u001b[0m\u001b[0;34m\"covs.npy\"\u001b[0m\u001b[0;34m,\u001b[0m \u001b[0mallow_pickle\u001b[0m\u001b[0;34m=\u001b[0m\u001b[0;32mTrue\u001b[0m\u001b[0;34m)\u001b[0m\u001b[0;34m.\u001b[0m\u001b[0mastype\u001b[0m\u001b[0;34m(\u001b[0m\u001b[0mnp\u001b[0m\u001b[0;34m.\u001b[0m\u001b[0mfloat32\u001b[0m\u001b[0;34m)\u001b[0m \u001b[0;31m## this is the \\Sigma(t)\u001b[0m\u001b[0;34m\u001b[0m\u001b[0;34m\u001b[0m\u001b[0m\n\u001b[1;32m    173\u001b[0m     \u001b[0mstates1\u001b[0m \u001b[0;34m=\u001b[0m \u001b[0mnp\u001b[0m\u001b[0;34m.\u001b[0m\u001b[0mload\u001b[0m\u001b[0;34m(\u001b[0m\u001b[0mpath\u001b[0m\u001b[0;34m+\u001b[0m\u001b[0;34m\"states1.npy\"\u001b[0m\u001b[0;34m,\u001b[0m \u001b[0mallow_pickle\u001b[0m\u001b[0;34m=\u001b[0m\u001b[0;32mTrue\u001b[0m\u001b[0;34m)\u001b[0m\u001b[0;34m.\u001b[0m\u001b[0mastype\u001b[0m\u001b[0;34m(\u001b[0m\u001b[0mnp\u001b[0m\u001b[0;34m.\u001b[0m\u001b[0mfloat32\u001b[0m\u001b[0;34m)\u001b[0m \u001b[0;31m### this is \\textbf{q}(t)\u001b[0m\u001b[0;34m\u001b[0m\u001b[0;34m\u001b[0m\u001b[0m\n",
      "\u001b[0;32m~/.local/lib/python3.9/site-packages/numpy/lib/npyio.py\u001b[0m in \u001b[0;36mload\u001b[0;34m(file, mmap_mode, allow_pickle, fix_imports, encoding)\u001b[0m\n\u001b[1;32m    415\u001b[0m             \u001b[0mown_fid\u001b[0m \u001b[0;34m=\u001b[0m \u001b[0;32mFalse\u001b[0m\u001b[0;34m\u001b[0m\u001b[0;34m\u001b[0m\u001b[0m\n\u001b[1;32m    416\u001b[0m         \u001b[0;32melse\u001b[0m\u001b[0;34m:\u001b[0m\u001b[0;34m\u001b[0m\u001b[0;34m\u001b[0m\u001b[0m\n\u001b[0;32m--> 417\u001b[0;31m             \u001b[0mfid\u001b[0m \u001b[0;34m=\u001b[0m \u001b[0mstack\u001b[0m\u001b[0;34m.\u001b[0m\u001b[0menter_context\u001b[0m\u001b[0;34m(\u001b[0m\u001b[0mopen\u001b[0m\u001b[0;34m(\u001b[0m\u001b[0mos_fspath\u001b[0m\u001b[0;34m(\u001b[0m\u001b[0mfile\u001b[0m\u001b[0;34m)\u001b[0m\u001b[0;34m,\u001b[0m \u001b[0;34m\"rb\"\u001b[0m\u001b[0;34m)\u001b[0m\u001b[0;34m)\u001b[0m\u001b[0;34m\u001b[0m\u001b[0;34m\u001b[0m\u001b[0m\n\u001b[0m\u001b[1;32m    418\u001b[0m             \u001b[0mown_fid\u001b[0m \u001b[0;34m=\u001b[0m \u001b[0;32mTrue\u001b[0m\u001b[0;34m\u001b[0m\u001b[0;34m\u001b[0m\u001b[0m\n\u001b[1;32m    419\u001b[0m \u001b[0;34m\u001b[0m\u001b[0m\n",
      "\u001b[0;31mFileNotFoundError\u001b[0m: [Errno 2] No such file or directory: '../quantera/trajectories/discrimination/[[1.0, 0, 20, 1.0, 1.0], [0.3, 0, 2, 1.0, 1.0]]/1itraj/rossler_real_traj_method/50periods/1000ppp/1rppp/states.npy'"
     ]
    }
   ],
   "source": [
    "alpha = 0\n",
    "beta = 0\n",
    "\n",
    "for itraj in tqdm(range(1,10)):\n",
    "\n",
    "    pars = give_def_params_discrimination(h1true=1)\n",
    "    params, exp_path = check_params(pars)\n",
    "    \n",
    "    times, l0, l1, states, states1, signals, covs, covs1 = load_data(exp_path = exp_path, periods = 50, ppp=1000, itraj=itraj)\n",
    "    log_lik_ratio = l0-l1\n",
    "\n",
    "    bools = np.logical_and(log_lik_ratio <= b(ep1), a(ep0) <= log_lik_ratio)\n",
    "    indi = np.argmin(bools)\n",
    "\n",
    "    h1 = log_lik_ratio[indi] >= b(ep1)\n",
    "    h0 = log_lik_ratio[indi] <= a(ep0)\n",
    "    \n",
    "    alpha += h0"
   ]
  },
  {
   "cell_type": "code",
   "execution_count": null,
   "id": "a7051b8e",
   "metadata": {},
   "outputs": [],
   "source": []
  }
 ],
 "metadata": {
  "kernelspec": {
   "display_name": "Python 3 (ipykernel)",
   "language": "python",
   "name": "python3"
  },
  "language_info": {
   "codemirror_mode": {
    "name": "ipython",
    "version": 3
   },
   "file_extension": ".py",
   "mimetype": "text/x-python",
   "name": "python",
   "nbconvert_exporter": "python",
   "pygments_lexer": "ipython3",
   "version": "3.9.7"
  }
 },
 "nbformat": 4,
 "nbformat_minor": 5
}
