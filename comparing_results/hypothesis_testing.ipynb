{
 "cells": [
  {
   "cell_type": "code",
   "execution_count": 1,
   "id": "2be72649",
   "metadata": {},
   "outputs": [
    {
     "name": "stderr",
     "output_type": "stream",
     "text": [
      "/tmp/ipykernel_90/3509738684.py:3: DeprecationWarning: Importing display from IPython.core.display is deprecated since IPython 7.14, please import from IPython display\n",
      "  from IPython.core.display import display, HTML\n"
     ]
    },
    {
     "data": {
      "text/html": [
       "<style>.container { width:100% !important; }</style>"
      ],
      "text/plain": [
       "<IPython.core.display.HTML object>"
      ]
     },
     "metadata": {},
     "output_type": "display_data"
    }
   ],
   "source": [
    "%load_ext autoreload\n",
    "%autoreload 2\n",
    "from IPython.core.display import display, HTML\n",
    "display(HTML(\"<style>.container { width:100% !important; }</style>\"))"
   ]
  },
  {
   "cell_type": "code",
   "execution_count": 5,
   "id": "80ef0fb7",
   "metadata": {},
   "outputs": [],
   "source": [
    "\n",
    "import os \n",
    "os.chdir(\"..\")"
   ]
  },
  {
   "cell_type": "code",
   "execution_count": 6,
   "id": "b7ab8e53",
   "metadata": {},
   "outputs": [],
   "source": [
    "from numerics.integration.steps import *\n",
    "import numpy as np\n",
    "import matplotlib.pyplot as plt\n",
    "from tqdm import tqdm\n",
    "from numerics.utilities.misc import *"
   ]
  },
  {
   "cell_type": "code",
   "execution_count": 14,
   "id": "written-differential",
   "metadata": {},
   "outputs": [],
   "source": [
    "pars = give_def_params_discrimination(flip=0) ## H0 is the true hypothesis\n",
    "params, exp_path = check_params(pars)"
   ]
  },
  {
   "cell_type": "code",
   "execution_count": 16,
   "id": "architectural-cutting",
   "metadata": {},
   "outputs": [],
   "source": [
    "times, logliks, states1, states0, signals, covs1, covs0 =load_data_discrimination(itraj=1, total_time = 4, dt=1e-6, exp_path = exp_path)"
   ]
  },
  {
   "cell_type": "code",
   "execution_count": 17,
   "id": "moral-robertson",
   "metadata": {},
   "outputs": [],
   "source": [
    "l0,l1 = logliks[:,0], logliks[:,1]"
   ]
  },
  {
   "cell_type": "code",
   "execution_count": 18,
   "id": "postal-command",
   "metadata": {},
   "outputs": [
    {
     "data": {
      "text/plain": [
       "[<matplotlib.lines.Line2D at 0x2b0312e21dd8>]"
      ]
     },
     "execution_count": 18,
     "metadata": {},
     "output_type": "execute_result"
    },
    {
     "data": {
      "image/png": "[encoded data removed]",
      "text/plain": [
       "<Figure size 432x288 with 1 Axes>"
      ]
     },
     "metadata": {
      "needs_background": "light"
     },
     "output_type": "display_data"
    }
   ],
   "source": [
    "aa = -1\n",
    "plt.plot(times[:aa], (l1-l0)[:-1][:aa])"
   ]
  },
  {
   "cell_type": "code",
   "execution_count": 19,
   "id": "73ef86c3",
   "metadata": {},
   "outputs": [],
   "source": [
    "def stop_time(itraj, a=-3, b=3):\n",
    "    pars = give_def_params_discrimination(flip=0) ## H0 is the true hypothesis\n",
    "    params, exp_path = check_params(pars)\n",
    "    times, logliks, states1, states0, signals, covs1, covs0 =load_data_discrimination(itraj=itraj, total_time = 4, dt=1e-6, exp_path = exp_path)\n",
    "    l0,l1 = logliks[:,0], logliks[:,1]\n",
    "    log_lik_ratio = l1 - l0  ###\n",
    "    stopping_time_ind =np.argmin(np.logical_and(log_lik_ratio < b, log_lik_ratio > a))\n",
    "    return times[stopping_time_ind]"
   ]
  },
  {
   "cell_type": "code",
   "execution_count": null,
   "id": "b3fa6c23",
   "metadata": {},
   "outputs": [
    {
     "name": "stderr",
     "output_type": "stream",
     "text": [
      "  0%|          | 5/1000 [00:11<36:15,  2.19s/it]"
     ]
    }
   ],
   "source": [
    "st = []\n",
    "for itraj in tqdm(range(1,1001)):\n",
    "    st.append(stop_time(itraj, b=3, a=-3))"
   ]
  },
  {
   "cell_type": "code",
   "execution_count": null,
   "id": "d93e9a23",
   "metadata": {},
   "outputs": [],
   "source": [
    "counts, bins, bars = plt.hist(st, bins=int(len(st)/5),  density=True)"
   ]
  },
  {
   "cell_type": "code",
   "execution_count": null,
   "id": "69c5c4bd",
   "metadata": {},
   "outputs": [],
   "source": [
    "def ggiulio_prob(t, b, kappa0, kappa1, eta0 , eta1, n0, n1, gamma0, gamma1):\n",
    "    Su1 = n1 + 0.5 + (kappa1 / gamma1)\n",
    "    Su0 = n0 + 0.5 + (kappa0 / gamma0)\n",
    "\n",
    "    S1 = (np.sqrt(1 + (16.0*eta1*kappa1*Su1/gamma1)) - 1)*(gamma1/(8.0*eta1*kappa1))\n",
    "    S0 = (np.sqrt(1 + (16.0*eta0*kappa0*Su0/gamma0)) - 1)*( gamma0/(8.0*eta0*kappa0))\n",
    "\n",
    "    lam = gamma0 + (8*eta0*kappa0*S0)\n",
    "\n",
    "    aa = (4*eta1*kappa1*(S1**2))/gamma1\n",
    "    bb =(4*eta0*kappa0*S0**2)*(1+((16.0*eta1*kappa1*S1)/ (gamma1 + lam)) + (64.0*(eta1 * kappa1 * S1)**(2)/(gamma1 * (gamma1 + lam))))/ lam\n",
    "    c =8 *(S0*S1*(eta0*kappa0 *eta1*kappa1)**(0.5)) * (gamma1+ (4.0*eta1*kappa1*S1) ) / ((gamma1 + lam)*gamma1)\n",
    "\n",
    "    mu = 4*(eta1*kappa1*aa + (eta0*kappa0*bb) - 2*np.sqrt(eta1*kappa1*eta0*kappa0)*c)\n",
    "    S= np.sqrt(2*mu)\n",
    "\n",
    "    div = (np.sqrt(2*np.pi)*S*(t**(3/2)))\n",
    "    return  abs(b)*np.exp(-((abs(b)-mu*t)**2)/(2*t*(S**2)))/div"
   ]
  },
  {
   "cell_type": "code",
   "execution_count": null,
   "id": "5c39b50a",
   "metadata": {},
   "outputs": [],
   "source": [
    "[gamma1, omega1, n1, eta1, kappa1], [gamma0, omega0, n0, eta0, kappa0] = params\n",
    "gp1 = [ggiulio_prob(t, 3, kappa0, kappa1, eta0, eta1, n0, n1, gamma0,gamma1) for t in times]"
   ]
  },
  {
   "cell_type": "code",
   "execution_count": null,
   "id": "5f6d6b65-27ce-4c78-a32a-b9c094c930e0",
   "metadata": {},
   "outputs": [],
   "source": [
    "np.save(\""
   ]
  },
  {
   "cell_type": "code",
   "execution_count": 30,
   "id": "01c6e691-3aef-42e6-af88-47d68ebd7730",
   "metadata": {},
   "outputs": [
    {
     "data": {
      "text/plain": [
       "array([0.03213987, 0.09010562, 0.14807138, 0.20603713, 0.2640029 ,\n",
       "       0.32196862, 0.37993437, 0.43790013, 0.49586588, 0.55383164,\n",
       "       0.6117974 , 0.66976315, 0.7277289 , 0.78569466, 0.84366035,\n",
       "       0.9016261 , 0.95959187, 1.0175576 , 1.0755234 , 1.1334891 ],\n",
       "      dtype=float32)"
      ]
     },
     "execution_count": 30,
     "metadata": {},
     "output_type": "execute_result"
    }
   ],
   "source": []
  },
  {
   "cell_type": "code",
   "execution_count": 46,
   "id": "fbcf6610",
   "metadata": {},
   "outputs": [
    {
     "data": {
      "text/plain": [
       "<matplotlib.legend.Legend at 0x2b032d5a0438>"
      ]
     },
     "execution_count": 46,
     "metadata": {},
     "output_type": "execute_result"
    },
    {
     "data": {
      "image/png": "[encoded data removed]",
      "text/plain": [
       "<Figure size 432x288 with 1 Axes>"
      ]
     },
     "metadata": {
      "needs_background": "light"
     },
     "output_type": "display_data"
    }
   ],
   "source": [
    "plt.plot(times,gp1,linewidth=5, label=\"stopping time - giulio\")\n",
    "plt.bar(.5*(bins[1:]+bins[:-1]),counts, alpha=0.75,width=bins[1]-bins[0],color=\"black\", label=\"simulation\")\n",
    "plt.legend()"
   ]
  },
  {
   "cell_type": "code",
   "execution_count": null,
   "id": "1fc44a67",
   "metadata": {},
   "outputs": [],
   "source": [
    "[True,]"
   ]
  },
  {
   "cell_type": "code",
   "execution_count": 451,
   "id": "a4db2650",
   "metadata": {},
   "outputs": [
    {
     "data": {
      "text/plain": [
       "(0.01181, 2.0)"
      ]
     },
     "execution_count": 451,
     "metadata": {},
     "output_type": "execute_result"
    }
   ],
   "source": [
    "np.max(st), times[-1]"
   ]
  },
  {
   "cell_type": "code",
   "execution_count": 449,
   "id": "19d703d1",
   "metadata": {},
   "outputs": [
    {
     "data": {
      "text/plain": [
       "0.0015443800687789918"
      ]
     },
     "execution_count": 449,
     "metadata": {},
     "output_type": "execute_result"
    }
   ],
   "source": [
    "np.sum(st)/len(st)"
   ]
  },
  {
   "cell_type": "code",
   "execution_count": 448,
   "id": "171e1d08",
   "metadata": {},
   "outputs": [
    {
     "data": {
      "text/plain": [
       "0.0011563537"
      ]
     },
     "execution_count": 448,
     "metadata": {},
     "output_type": "execute_result"
    }
   ],
   "source": [
    "np.std(st)"
   ]
  },
  {
   "cell_type": "code",
   "execution_count": null,
   "id": "2d431bb1",
   "metadata": {},
   "outputs": [],
   "source": []
  },
  {
   "cell_type": "code",
   "execution_count": null,
   "id": "131fd9b0",
   "metadata": {},
   "outputs": [],
   "source": []
  },
  {
   "cell_type": "code",
   "execution_count": null,
   "id": "9e90acaf",
   "metadata": {},
   "outputs": [],
   "source": []
  },
  {
   "cell_type": "code",
   "execution_count": null,
   "id": "828b3aa1",
   "metadata": {},
   "outputs": [],
   "source": [
    "[gamma0, omega0, n0, eta0, kappa0], [gamma1, omega1, n1, eta1, kappa1] = params\n",
    "gp0 = [giulio_prob(t, kappa0, kappa1, eta0, eta1, n0, n1, gamma0,gamma1) for t in np.linspace(0,10,100)]\n"
   ]
  },
  {
   "cell_type": "code",
   "execution_count": 234,
   "id": "16186e17",
   "metadata": {},
   "outputs": [
    {
     "data": {
      "text/plain": [
       "array([ 51.23826252, 102.47652504, 170.7942084 , 290.35015428,\n",
       "       290.35015428, 375.74725848, 256.1913126 , 444.06494184,\n",
       "       375.74725848, 426.985521  , 478.22378353, 375.74725848,\n",
       "       597.77972941, 495.30320437, 478.22378353, 529.46204605,\n",
       "       614.85915025, 461.14436268, 512.38262521, 461.14436268,\n",
       "       392.82667932, 358.66783764, 307.42957512, 341.5884168 ,\n",
       "       495.30320437, 290.35015428, 324.50899596, 239.11189176,\n",
       "       222.03247092, 204.95305008, 273.27073344, 273.27073344,\n",
       "       324.50899596, 222.03247092, 102.47652504, 290.35015428,\n",
       "       102.47652504, 153.71478756, 153.71478756,  85.3971042 ,\n",
       "       119.55594588,  85.3971042 ,  85.3971042 , 119.55594588,\n",
       "       256.1913126 , 170.7942084 , 136.63536672, 170.7942084 ,\n",
       "        68.31768336, 102.47652504, 136.63536672,  34.15884168,\n",
       "        85.3971042 , 119.55594588,  68.31768336,  85.3971042 ,\n",
       "       136.63536672, 119.55594588, 136.63536672, 119.55594588,\n",
       "        85.3971042 , 102.47652504,  68.31768336, 102.47652504,\n",
       "        34.15884168,  68.31768336,  51.23826252,  68.31768336,\n",
       "         0.        ,  17.07942084,  51.23826252,  51.23826252,\n",
       "        17.07942084,  51.23826252,  34.15884168,  17.07942084,\n",
       "        68.31768336,  34.15884168,  68.31768336,  34.15884168,\n",
       "        68.31768336,  17.07942084,  51.23826252,  51.23826252,\n",
       "         0.        ,  34.15884168,  34.15884168,   0.        ,\n",
       "         0.        ,   0.        ,   0.        ,  34.15884168,\n",
       "         0.        ,  51.23826252,  34.15884168,   0.        ,\n",
       "         0.        ,  17.07942084,  17.07942084,  17.07942084,\n",
       "         0.        ,  34.15884168,   0.        ,   0.        ,\n",
       "         0.        ,   0.        ,  17.07942084,   0.        ,\n",
       "        17.07942084,  17.07942084,   0.        ,   0.        ,\n",
       "        34.15884168,   0.        ,   0.        ,   0.        ,\n",
       "        17.07942084,   0.        ,  17.07942084,   0.        ,\n",
       "         0.        ,  17.07942084,   0.        ,   0.        ,\n",
       "         0.        ,   0.        ,  17.07942084,  17.07942084,\n",
       "         0.        ,   0.        ,   0.        ,   0.        ,\n",
       "         0.        ,   0.        ,   0.        ,   0.        ,\n",
       "         0.        ,   0.        ,   0.        ,  34.15884168,\n",
       "        17.07942084,   0.        ,   0.        ,   0.        ,\n",
       "         0.        ,   0.        ,   0.        ,   0.        ,\n",
       "        17.07942084,  17.07942084,   0.        ,   0.        ,\n",
       "         0.        ,   0.        ,   0.        ,   0.        ,\n",
       "         0.        ,   0.        ,   0.        ,   0.        ,\n",
       "         0.        ,   0.        ,   0.        ,   0.        ,\n",
       "         0.        ,   0.        ,   0.        ,   0.        ,\n",
       "         0.        ,   0.        ,   0.        ,   0.        ,\n",
       "        17.07942084,   0.        ,   0.        ,   0.        ,\n",
       "         0.        ,   0.        ,   0.        ,   0.        ,\n",
       "         0.        ,   0.        ,   0.        ,   0.        ,\n",
       "         0.        ,   0.        ,   0.        ,   0.        ,\n",
       "         0.        ,   0.        ,   0.        ,   0.        ,\n",
       "         0.        ,   0.        ,   0.        ,   0.        ,\n",
       "         0.        ,   0.        ,   0.        ,  17.07942084])"
      ]
     },
     "execution_count": 234,
     "metadata": {},
     "output_type": "execute_result"
    }
   ],
   "source": [
    "counts/(np.sum(counts)*eps)"
   ]
  },
  {
   "cell_type": "code",
   "execution_count": 233,
   "id": "7e6f61a6",
   "metadata": {},
   "outputs": [
    {
     "data": {
      "text/plain": [
       "<BarContainer object of 200 artists>"
      ]
     },
     "execution_count": 233,
     "metadata": {},
     "output_type": "execute_result"
    },
    {
     "data": {
      "image/png": "[encoded data removed]",
      "text/plain": [
       "<Figure size 432x288 with 1 Axes>"
      ]
     },
     "metadata": {
      "needs_background": "light"
     },
     "output_type": "display_data"
    }
   ],
   "source": [
    "eps = bins[1]-bins[0]\n",
    "plt.bar(bins[:-1],counts/(np.sum(counts)*eps), width=eps)\n"
   ]
  },
  {
   "cell_type": "code",
   "execution_count": 227,
   "id": "b4990eb5",
   "metadata": {},
   "outputs": [
    {
     "data": {
      "text/plain": [
       "[<matplotlib.lines.Line2D at 0x7fb324580160>]"
      ]
     },
     "execution_count": 227,
     "metadata": {},
     "output_type": "execute_result"
    },
    {
     "data": {
      "image/png": "[encoded data removed]",
      "text/plain": [
       "<Figure size 432x288 with 1 Axes>"
      ]
     },
     "metadata": {
      "needs_background": "light"
     },
     "output_type": "display_data"
    }
   ],
   "source": [
    "plt.bar(bins[:-1],counts/np.sum(counts), width=bins[1]-bins[0])\n",
    "plt.plot(bins[:-1],[giulio_prob(5000*t, kappa0, kappa1, eta0, eta1, n0, n1, gamma0,gamma1) for t in bins[:-1]], color=\"red\")"
   ]
  },
  {
   "cell_type": "code",
   "execution_count": 172,
   "id": "a64f986e",
   "metadata": {},
   "outputs": [
    {
     "data": {
      "text/plain": [
       "[<matplotlib.lines.Line2D at 0x7fb32ef89940>]"
      ]
     },
     "execution_count": 172,
     "metadata": {},
     "output_type": "execute_result"
    },
    {
     "data": {
      "image/png": "[encoded data removed]",
      "text/plain": [
       "<Figure size 432x288 with 1 Axes>"
      ]
     },
     "metadata": {
      "needs_background": "light"
     },
     "output_type": "display_data"
    }
   ],
   "source": [
    "plt.plot(np.linspace(0,10,100),gp1)\n",
    "plt.plot(np.linspace(0,10,100),gp0)"
   ]
  },
  {
   "cell_type": "code",
   "execution_count": 163,
   "id": "471407f7",
   "metadata": {},
   "outputs": [
    {
     "name": "stderr",
     "output_type": "stream",
     "text": [
      "100%|█████████████████████████████████████████████████████████████████████████████████████████████████████████████████████████████████████████████| 500/500 [00:05<00:00, 89.83it/s]\n"
     ]
    }
   ],
   "source": [
    "#### SPRT ####\n",
    "\n",
    "\n",
    "stprt_stop = {}\n",
    "stprt_stop[\"h0\"] = []\n",
    "stprt_stop[\"h1\"] = []\n",
    "\n",
    "sprt_errs = {}\n",
    "sprt_errs[\"h0/h1\"] = []\n",
    "sprt_errs[\"h1/h0\"] = []\n",
    "\n",
    "b = 3\n",
    "a = -3\n",
    "for itraj in tqdm(range(1000)):\n",
    "        \n",
    "    pars = give_def_params_discrimination(h1true=1)\n",
    "    params, exp_path = check_params(pars)\n",
    "    \n",
    "    times, l0, l1, states, states1, signals, covs, covs1 = load_data_discrimination(exp_path = exp_path, periods = 2, ppp=100000,itraj=itraj)\n",
    "    log_lik_ratio = l0-l1\n",
    "    \n",
    "    ind_stop_time = np.argmin(np.logical_and(log_lik_ratio <= b, log_lik_ratio >= a))\n",
    "    stprt_stop[\"h1\"].append(times[ind_stop_time])\n",
    "    \n",
    "    h0 = log_lik_ratio[ind_stop_time] <= a\n",
    "    sprt_errs[\"h0/h1\"].append(int(h0))\n",
    "    \n",
    "    #### for the other hypothesis, flip the parameters\n",
    "\n",
    "    pars = give_def_params_discrimination(h1true=0)\n",
    "    params, exp_path = check_params(pars)\n",
    "    \n",
    "    times, l0, l1, states, states1, signals, covs, covs1 = load_data_discrimination(exp_path = exp_path, periods = 2, ppp=100000,itraj=itraj)\n",
    "    log_lik_ratio = l0-l1\n",
    "    \n",
    "    ind_stop_time = np.argmin(np.logical_and(log_lik_ratio <= b, log_lik_ratio >= a))\n",
    "    stprt_stop[\"h0\"].append(times[ind_stop_time])\n",
    "    \n",
    "    h1 = log_lik_ratio[ind_stop_time] <= a\n",
    "    sprt_errs[\"h1/h0\"].append(int(h1))\n",
    "    "
   ]
  },
  {
   "cell_type": "code",
   "execution_count": 164,
   "id": "f2812128",
   "metadata": {},
   "outputs": [
    {
     "data": {
      "text/plain": [
       "(0.00198434, 0.00201386)"
      ]
     },
     "execution_count": 164,
     "metadata": {},
     "output_type": "execute_result"
    }
   ],
   "source": [
    "np.mean(stprt_stop[\"h1\"]), np.mean(stprt_stop[\"h0\"])"
   ]
  },
  {
   "cell_type": "code",
   "execution_count": 165,
   "id": "e456b710",
   "metadata": {},
   "outputs": [
    {
     "data": {
      "text/plain": [
       "0.084"
      ]
     },
     "execution_count": 165,
     "metadata": {},
     "output_type": "execute_result"
    }
   ],
   "source": [
    "np.mean(sprt_errs[\"h0/h1\"])"
   ]
  },
  {
   "cell_type": "code",
   "execution_count": 166,
   "id": "146f6310",
   "metadata": {},
   "outputs": [
    {
     "data": {
      "text/plain": [
       "0.924"
      ]
     },
     "execution_count": 166,
     "metadata": {},
     "output_type": "execute_result"
    }
   ],
   "source": [
    "np.mean(sprt_errs[\"h1/h0\"])"
   ]
  },
  {
   "cell_type": "code",
   "execution_count": 167,
   "id": "8c40ae87",
   "metadata": {},
   "outputs": [
    {
     "name": "stderr",
     "output_type": "stream",
     "text": [
      "100%|█████████████████████████████████████████████████████████████████████████████████████████████████████████████████████████████████████████████| 500/500 [00:05<00:00, 91.42it/s]\n"
     ]
    }
   ],
   "source": [
    "ind_time_sprt_avg_stop_time = np.argmin(np.abs(times - np.mean(stprt_stop[\"h1\"])))\n",
    "\n",
    "stprt_stop = {}\n",
    "stprt_stop[\"h0\"] = []\n",
    "stprt_stop[\"h1\"] = []\n",
    "\n",
    "np_errs = {}\n",
    "np_errs[\"h0/h1\"] = []\n",
    "np_errs[\"h1/h0\"] = []\n",
    "\n",
    "for itraj in tqdm(range(1000)):\n",
    "        \n",
    "    pars = give_def_params_discrimination(h1true=1)\n",
    "    params, exp_path = check_params(pars)\n",
    "    \n",
    "    times, l0, l1, states, states1, signals, covs, covs1 = load_data_discrimination(exp_path = exp_path, periods = 2, ppp=100000,itraj=itraj)\n",
    "    log_lik_ratio = (l0-l1)\n",
    "    \n",
    "    ### stand up at the equal likelihood point ---> you choose max-likelihood hypothesis!\n",
    "    h0 = log_lik_ratio[ind_time_sprt_avg_stop_time] <= 0\n",
    "    np_errs[\"h0/h1\"].append(int(h0))\n",
    "    \n",
    "    #### for the other hypothesis, flip the parameters\n",
    "\n",
    "    pars = give_def_params_discrimination(h1true=0)\n",
    "    params, exp_path = check_params(pars)\n",
    "    \n",
    "    times, l0, l1, states, states1, signals, covs, covs1 = load_data_discrimination(exp_path = exp_path, periods = 2, ppp=100000,itraj=itraj)\n",
    "    log_lik_ratio = (l0-l1)\n",
    "    \n",
    "    ### stand up at the equal likelihood point ---> you choose max-likelihood hypothesis!\n",
    "    h1 = log_lik_ratio[ind_time_sprt_avg_stop_time] <= 0\n",
    "    np_errs[\"h1/h0\"].append(int(h1))\n",
    "    "
   ]
  },
  {
   "cell_type": "code",
   "execution_count": 168,
   "id": "2d2ea536",
   "metadata": {},
   "outputs": [
    {
     "name": "stdout",
     "output_type": "stream",
     "text": [
      "0.158 0.816\n",
      "0.084 0.924\n"
     ]
    }
   ],
   "source": [
    "print(np.mean(np_errs[\"h0/h1\"]), np.mean(np_errs[\"h1/h0\"]))\n",
    "print(np.mean(sprt_errs[\"h0/h1\"]), np.mean(sprt_errs[\"h1/h0\"]))"
   ]
  },
  {
   "cell_type": "code",
   "execution_count": 173,
   "id": "5a9ecfd0",
   "metadata": {},
   "outputs": [
    {
     "data": {
      "text/plain": [
       "0.049787068367863944"
      ]
     },
     "execution_count": 173,
     "metadata": {},
     "output_type": "execute_result"
    }
   ],
   "source": [
    "1- np.e"
   ]
  },
  {
   "cell_type": "code",
   "execution_count": null,
   "id": "cd2c125f",
   "metadata": {},
   "outputs": [],
   "source": []
  },
  {
   "cell_type": "code",
   "execution_count": 70,
   "id": "0ffa0e8e",
   "metadata": {},
   "outputs": [],
   "source": [
    "pars = give_def_params_discrimination(h1true=1)\n",
    "params, exp_path = check_params(pars)\n",
    "\n",
    "times, l0, l1, states, states1, signals, covs, covs1 = load_data_discrimination(exp_path = exp_path, periods = 2, ppp=100000,itraj=1)\n",
    "log_lik_ratio = l0-l1\n",
    "\n",
    "bools = np.logical_and(log_lik_ratio <= b(ep1), a(ep0) <= log_lik_ratio)\n",
    "indi = np.argmin(bools)\n",
    "stprt_stop[\"h1\"] = times[indi]\n",
    "\n",
    "h0 = log_lik_ratio[indi] <= a(ep0)"
   ]
  },
  {
   "cell_type": "code",
   "execution_count": 72,
   "id": "78ea0579",
   "metadata": {},
   "outputs": [
    {
     "data": {
      "text/plain": [
       "1"
      ]
     },
     "execution_count": 72,
     "metadata": {},
     "output_type": "execute_result"
    }
   ],
   "source": [
    "int(h0)"
   ]
  },
  {
   "cell_type": "code",
   "execution_count": null,
   "id": "b833d7a9",
   "metadata": {},
   "outputs": [],
   "source": []
  },
  {
   "cell_type": "code",
   "execution_count": null,
   "id": "5bb2e122",
   "metadata": {},
   "outputs": [],
   "source": []
  },
  {
   "cell_type": "code",
   "execution_count": 40,
   "id": "34c4e30b",
   "metadata": {},
   "outputs": [
    {
     "name": "stderr",
     "output_type": "stream",
     "text": [
      "  0%|                                                                                                                                                         | 0/9 [00:00<?, ?it/s]\n"
     ]
    },
    {
     "ename": "FileNotFoundError",
     "evalue": "[Errno 2] No such file or directory: '../quantera/trajectories/discrimination/[[1.0, 0, 20, 1.0, 1.0], [0.3, 0, 2, 1.0, 1.0]]/1itraj/rossler_real_traj_method/50periods/1000ppp/1rppp/states.npy'",
     "output_type": "error",
     "traceback": [
      "\u001b[0;31m---------------------------------------------------------------------------\u001b[0m",
      "\u001b[0;31mFileNotFoundError\u001b[0m                         Traceback (most recent call last)",
      "\u001b[0;32m/tmp/ipykernel_136570/775941159.py\u001b[0m in \u001b[0;36m<module>\u001b[0;34m\u001b[0m\n\u001b[1;32m      4\u001b[0m \u001b[0;32mfor\u001b[0m \u001b[0mitraj\u001b[0m \u001b[0;32min\u001b[0m \u001b[0mtqdm\u001b[0m\u001b[0;34m(\u001b[0m\u001b[0mrange\u001b[0m\u001b[0;34m(\u001b[0m\u001b[0;36m1\u001b[0m\u001b[0;34m,\u001b[0m\u001b[0;36m10\u001b[0m\u001b[0;34m)\u001b[0m\u001b[0;34m)\u001b[0m\u001b[0;34m:\u001b[0m\u001b[0;34m\u001b[0m\u001b[0;34m\u001b[0m\u001b[0m\n\u001b[1;32m      5\u001b[0m \u001b[0;34m\u001b[0m\u001b[0m\n\u001b[0;32m----> 6\u001b[0;31m     \u001b[0mtimes\u001b[0m\u001b[0;34m,\u001b[0m \u001b[0ml0\u001b[0m\u001b[0;34m,\u001b[0m \u001b[0ml1\u001b[0m\u001b[0;34m,\u001b[0m \u001b[0mstates\u001b[0m\u001b[0;34m,\u001b[0m \u001b[0mstates1\u001b[0m\u001b[0;34m,\u001b[0m \u001b[0msignals\u001b[0m\u001b[0;34m,\u001b[0m \u001b[0mcovs\u001b[0m\u001b[0;34m,\u001b[0m \u001b[0mcovs1\u001b[0m \u001b[0;34m=\u001b[0m \u001b[0mload_data\u001b[0m\u001b[0;34m(\u001b[0m\u001b[0mexp_path\u001b[0m \u001b[0;34m=\u001b[0m \u001b[0mexp_path\u001b[0m\u001b[0;34m,\u001b[0m \u001b[0mperiods\u001b[0m \u001b[0;34m=\u001b[0m \u001b[0;36m50\u001b[0m\u001b[0;34m,\u001b[0m \u001b[0mppp\u001b[0m\u001b[0;34m=\u001b[0m\u001b[0;36m1000\u001b[0m\u001b[0;34m,\u001b[0m \u001b[0mitraj\u001b[0m\u001b[0;34m=\u001b[0m\u001b[0mitraj\u001b[0m\u001b[0;34m)\u001b[0m\u001b[0;34m\u001b[0m\u001b[0;34m\u001b[0m\u001b[0m\n\u001b[0m\u001b[1;32m      7\u001b[0m     \u001b[0mlog_lik_ratio\u001b[0m \u001b[0;34m=\u001b[0m \u001b[0ml0\u001b[0m\u001b[0;34m-\u001b[0m\u001b[0ml1\u001b[0m\u001b[0;34m\u001b[0m\u001b[0;34m\u001b[0m\u001b[0m\n\u001b[1;32m      8\u001b[0m \u001b[0;34m\u001b[0m\u001b[0m\n",
      "\u001b[0;32m~/Desktop/continuous/numerics/utilities/misc.py\u001b[0m in \u001b[0;36mload_data\u001b[0;34m(exp_path, itraj, ppp, periods, rppp, method, display)\u001b[0m\n\u001b[1;32m    169\u001b[0m \u001b[0;34m\u001b[0m\u001b[0m\n\u001b[1;32m    170\u001b[0m     \u001b[0mtimes\u001b[0m \u001b[0;34m=\u001b[0m \u001b[0mnp\u001b[0m\u001b[0;34m.\u001b[0m\u001b[0mload\u001b[0m\u001b[0;34m(\u001b[0m\u001b[0mpath\u001b[0m\u001b[0;34m+\u001b[0m\u001b[0;34m\"times.npy\"\u001b[0m\u001b[0;34m,\u001b[0m \u001b[0mallow_pickle\u001b[0m\u001b[0;34m=\u001b[0m\u001b[0;32mTrue\u001b[0m\u001b[0;34m)\u001b[0m\u001b[0;34m.\u001b[0m\u001b[0mastype\u001b[0m\u001b[0;34m(\u001b[0m\u001b[0mnp\u001b[0m\u001b[0;34m.\u001b[0m\u001b[0mfloat32\u001b[0m\u001b[0;34m)\u001b[0m \u001b[0;31m### this is \\textbf{q}(t)\u001b[0m\u001b[0;34m\u001b[0m\u001b[0;34m\u001b[0m\u001b[0m\n\u001b[0;32m--> 171\u001b[0;31m     \u001b[0mstates\u001b[0m \u001b[0;34m=\u001b[0m \u001b[0mnp\u001b[0m\u001b[0;34m.\u001b[0m\u001b[0mload\u001b[0m\u001b[0;34m(\u001b[0m\u001b[0mpath\u001b[0m\u001b[0;34m+\u001b[0m\u001b[0;34m\"states.npy\"\u001b[0m\u001b[0;34m,\u001b[0m \u001b[0mallow_pickle\u001b[0m\u001b[0;34m=\u001b[0m\u001b[0;32mTrue\u001b[0m\u001b[0;34m)\u001b[0m\u001b[0;34m.\u001b[0m\u001b[0mastype\u001b[0m\u001b[0;34m(\u001b[0m\u001b[0mnp\u001b[0m\u001b[0;34m.\u001b[0m\u001b[0mfloat32\u001b[0m\u001b[0;34m)\u001b[0m \u001b[0;31m### this is \\textbf{q}(t)\u001b[0m\u001b[0;34m\u001b[0m\u001b[0;34m\u001b[0m\u001b[0m\n\u001b[0m\u001b[1;32m    172\u001b[0m     \u001b[0mcovs\u001b[0m \u001b[0;34m=\u001b[0m \u001b[0mnp\u001b[0m\u001b[0;34m.\u001b[0m\u001b[0mload\u001b[0m\u001b[0;34m(\u001b[0m\u001b[0mpath\u001b[0m\u001b[0;34m+\u001b[0m\u001b[0;34m\"covs.npy\"\u001b[0m\u001b[0;34m,\u001b[0m \u001b[0mallow_pickle\u001b[0m\u001b[0;34m=\u001b[0m\u001b[0;32mTrue\u001b[0m\u001b[0;34m)\u001b[0m\u001b[0;34m.\u001b[0m\u001b[0mastype\u001b[0m\u001b[0;34m(\u001b[0m\u001b[0mnp\u001b[0m\u001b[0;34m.\u001b[0m\u001b[0mfloat32\u001b[0m\u001b[0;34m)\u001b[0m \u001b[0;31m## this is the \\Sigma(t)\u001b[0m\u001b[0;34m\u001b[0m\u001b[0;34m\u001b[0m\u001b[0m\n\u001b[1;32m    173\u001b[0m     \u001b[0mstates1\u001b[0m \u001b[0;34m=\u001b[0m \u001b[0mnp\u001b[0m\u001b[0;34m.\u001b[0m\u001b[0mload\u001b[0m\u001b[0;34m(\u001b[0m\u001b[0mpath\u001b[0m\u001b[0;34m+\u001b[0m\u001b[0;34m\"states1.npy\"\u001b[0m\u001b[0;34m,\u001b[0m \u001b[0mallow_pickle\u001b[0m\u001b[0;34m=\u001b[0m\u001b[0;32mTrue\u001b[0m\u001b[0;34m)\u001b[0m\u001b[0;34m.\u001b[0m\u001b[0mastype\u001b[0m\u001b[0;34m(\u001b[0m\u001b[0mnp\u001b[0m\u001b[0;34m.\u001b[0m\u001b[0mfloat32\u001b[0m\u001b[0;34m)\u001b[0m \u001b[0;31m### this is \\textbf{q}(t)\u001b[0m\u001b[0;34m\u001b[0m\u001b[0;34m\u001b[0m\u001b[0m\n",
      "\u001b[0;32m~/.local/lib/python3.9/site-packages/numpy/lib/npyio.py\u001b[0m in \u001b[0;36mload\u001b[0;34m(file, mmap_mode, allow_pickle, fix_imports, encoding)\u001b[0m\n\u001b[1;32m    415\u001b[0m             \u001b[0mown_fid\u001b[0m \u001b[0;34m=\u001b[0m \u001b[0;32mFalse\u001b[0m\u001b[0;34m\u001b[0m\u001b[0;34m\u001b[0m\u001b[0m\n\u001b[1;32m    416\u001b[0m         \u001b[0;32melse\u001b[0m\u001b[0;34m:\u001b[0m\u001b[0;34m\u001b[0m\u001b[0;34m\u001b[0m\u001b[0m\n\u001b[0;32m--> 417\u001b[0;31m             \u001b[0mfid\u001b[0m \u001b[0;34m=\u001b[0m \u001b[0mstack\u001b[0m\u001b[0;34m.\u001b[0m\u001b[0menter_context\u001b[0m\u001b[0;34m(\u001b[0m\u001b[0mopen\u001b[0m\u001b[0;34m(\u001b[0m\u001b[0mos_fspath\u001b[0m\u001b[0;34m(\u001b[0m\u001b[0mfile\u001b[0m\u001b[0;34m)\u001b[0m\u001b[0;34m,\u001b[0m \u001b[0;34m\"rb\"\u001b[0m\u001b[0;34m)\u001b[0m\u001b[0;34m)\u001b[0m\u001b[0;34m\u001b[0m\u001b[0;34m\u001b[0m\u001b[0m\n\u001b[0m\u001b[1;32m    418\u001b[0m             \u001b[0mown_fid\u001b[0m \u001b[0;34m=\u001b[0m \u001b[0;32mTrue\u001b[0m\u001b[0;34m\u001b[0m\u001b[0;34m\u001b[0m\u001b[0m\n\u001b[1;32m    419\u001b[0m \u001b[0;34m\u001b[0m\u001b[0m\n",
      "\u001b[0;31mFileNotFoundError\u001b[0m: [Errno 2] No such file or directory: '../quantera/trajectories/discrimination/[[1.0, 0, 20, 1.0, 1.0], [0.3, 0, 2, 1.0, 1.0]]/1itraj/rossler_real_traj_method/50periods/1000ppp/1rppp/states.npy'"
     ]
    }
   ],
   "source": [
    "alpha = 0\n",
    "beta = 0\n",
    "\n",
    "for itraj in tqdm(range(1,10)):\n",
    "\n",
    "    pars = give_def_params_discrimination(h1true=1)\n",
    "    params, exp_path = check_params(pars)\n",
    "    \n",
    "    times, l0, l1, states, states1, signals, covs, covs1 = load_data(exp_path = exp_path, periods = 50, ppp=1000, itraj=itraj)\n",
    "    log_lik_ratio = l0-l1\n",
    "\n",
    "    bools = np.logical_and(log_lik_ratio <= b(ep1), a(ep0) <= log_lik_ratio)\n",
    "    indi = np.argmin(bools)\n",
    "\n",
    "    h1 = log_lik_ratio[indi] >= b(ep1)\n",
    "    h0 = log_lik_ratio[indi] <= a(ep0)\n",
    "    \n",
    "    alpha += h0"
   ]
  },
  {
   "cell_type": "code",
   "execution_count": null,
   "id": "a7051b8e",
   "metadata": {},
   "outputs": [],
   "source": []
  }
 ],
 "metadata": {
  "kernelspec": {
   "display_name": "qenv_bilkis",
   "language": "python",
   "name": "qenv_bilkis"
  },
  "language_info": {
   "codemirror_mode": {
    "name": "ipython",
    "version": 3
   },
   "file_extension": ".py",
   "mimetype": "text/x-python",
   "name": "python",
   "nbconvert_exporter": "python",
   "pygments_lexer": "ipython3",
   "version": "3.6.8"
  }
 },
 "nbformat": 4,
 "nbformat_minor": 5
}
