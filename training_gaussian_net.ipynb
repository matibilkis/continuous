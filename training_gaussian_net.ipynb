{
 "cells": [
  {
   "cell_type": "code",
   "execution_count": 24,
   "id": "optimum-explanation",
   "metadata": {},
   "outputs": [
    {
     "name": "stdout",
     "output_type": "stream",
     "text": [
      "The autoreload extension is already loaded. To reload it, use:\n",
      "  %reload_ext autoreload\n"
     ]
    }
   ],
   "source": [
    "import matplotlib.pyplot as plt \n",
    "from misc import *\n",
    "import tensorflow as tf\n",
    "from tqdm import tqdm\n",
    "import os \n",
    "from RNN_models import *\n",
    "\n",
    "\n",
    "%load_ext autoreload\n",
    "%autoreload 2"
   ]
  },
  {
   "cell_type": "code",
   "execution_count": 25,
   "id": "variable-basic",
   "metadata": {},
   "outputs": [],
   "source": [
    "from misc import load_data, get_def_path\n",
    "\n",
    "periods = 5\n",
    "ppp=1000\n",
    "defpath = get_def_path()\n",
    "path = defpath+\"{}periods/{}ppp/\".format(periods,ppp)\n"
   ]
  },
  {
   "cell_type": "code",
   "execution_count": 26,
   "id": "valid-hunter",
   "metadata": {},
   "outputs": [],
   "source": [
    "means, covs, signals, coeffs = load_data(path)\n",
    "tfsignals = tf.convert_to_tensor(signals)[tf.newaxis]\n",
    "A,dt,C,D = coeffs"
   ]
  },
  {
   "cell_type": "code",
   "execution_count": 27,
   "id": "apparent-marker",
   "metadata": {},
   "outputs": [
    {
     "data": {
      "text/plain": [
       "[<matplotlib.lines.Line2D at 0x7f4910267e80>]"
      ]
     },
     "execution_count": 27,
     "metadata": {},
     "output_type": "execute_result"
    },
    {
     "data": {
      "image/png": "[encoded data removed]",
      "text/plain": [
       "<Figure size 432x288 with 1 Axes>"
      ]
     },
     "metadata": {
      "needs_background": "light"
     },
     "output_type": "display_data"
    }
   ],
   "source": [
    "times = np.linspace(0,periods*2*np.pi, periods*ppp+1)\n",
    "total_time = times[-1]\n",
    "plt.plot(times, means[:,0])"
   ]
  },
  {
   "cell_type": "code",
   "execution_count": 28,
   "id": "seasonal-honolulu",
   "metadata": {},
   "outputs": [
    {
     "data": {
      "text/plain": [
       "<tf.Tensor: shape=(1, 10, 2), dtype=float32, numpy=\n",
       "array([[[ 0.01256637,  0.        ],\n",
       "        [ 0.01382301, -0.00114198],\n",
       "        [ 0.0128796 , -0.00239861],\n",
       "        [ 0.01413624, -0.00365525],\n",
       "        [ 0.01539287, -0.00491189],\n",
       "        [ 0.01607983, -0.00548227],\n",
       "        [ 0.01733647, -0.00673891],\n",
       "        [ 0.01685808, -0.00762582],\n",
       "        [ 0.01811472, -0.00888246],\n",
       "        [ 0.01792888, -0.01013909]]], dtype=float32)>"
      ]
     },
     "execution_count": 28,
     "metadata": {},
     "output_type": "execute_result"
    }
   ],
   "source": [
    "rmodel = GRNNmodel([C,D,dt, total_time], cov_in=tf.convert_to_tensor(covs[0].astype(np.float32)), stateful=False)\n",
    "rmodel.compile(optimizer=tf.keras.optimizers.Adam(lr=0.01))\n",
    "rmodel.recurrent_layer(tfsignals[:,:10,:], initial_state=rmodel.initial_state)\n",
    "#rmodel.trainable_variables[0].assign(tf.convert_to_tensor(A.astype(np.float32)))\n",
    "\n"
   ]
  },
  {
   "cell_type": "code",
   "execution_count": 29,
   "id": "marked-application",
   "metadata": {},
   "outputs": [
    {
     "name": "stdout",
     "output_type": "stream",
     "text": [
      "Epoch 1/1000\n",
      "1/1 [==============================] - 0s 1ms/step - total_loss: 2.9310e-04 - Coeffs_A: -6.3296e-04 - grads: 9.0046e-06\n",
      "Epoch 2/1000\n",
      "1/1 [==============================] - 0s 1ms/step - total_loss: 2.9234e-04 - Coeffs_A: -0.0051 - grads: 8.9418e-06\n",
      "Epoch 3/1000\n",
      "1/1 [==============================] - 0s 1ms/step - total_loss: 2.9156e-04 - Coeffs_A: -0.0096 - grads: 8.8568e-06\n",
      "Epoch 4/1000\n",
      "1/1 [==============================] - 0s 1ms/step - total_loss: 2.9075e-04 - Coeffs_A: -0.0142 - grads: 8.7957e-06\n",
      "Epoch 5/1000\n",
      "1/1 [==============================] - 0s 1ms/step - total_loss: 2.8995e-04 - Coeffs_A: -0.0189 - grads: 8.7332e-06\n",
      "Epoch 6/1000\n",
      "1/1 [==============================] - 0s 1ms/step - total_loss: 2.8914e-04 - Coeffs_A: -0.0235 - grads: 8.7315e-06\n",
      "Epoch 7/1000\n",
      "1/1 [==============================] - 0s 1ms/step - total_loss: 2.8833e-04 - Coeffs_A: -0.0282 - grads: 8.6897e-06\n",
      "Epoch 8/1000\n",
      "1/1 [==============================] - 0s 1ms/step - total_loss: 2.8751e-04 - Coeffs_A: -0.0329 - grads: 8.6012e-06\n",
      "Epoch 9/1000\n",
      "1/1 [==============================] - 0s 1ms/step - total_loss: 2.8670e-04 - Coeffs_A: -0.0376 - grads: 8.5297e-06\n",
      "Epoch 10/1000\n",
      "1/1 [==============================] - 0s 1ms/step - total_loss: 2.8589e-04 - Coeffs_A: -0.0423 - grads: 8.4427e-06\n",
      "Epoch 11/1000\n",
      "1/1 [==============================] - 0s 1ms/step - total_loss: 2.8508e-04 - Coeffs_A: -0.0470 - grads: 8.3811e-06\n",
      "Epoch 12/1000\n",
      "1/1 [==============================] - 0s 2ms/step - total_loss: 2.8427e-04 - Coeffs_A: -0.0518 - grads: 8.3519e-06\n",
      "Epoch 13/1000\n",
      "1/1 [==============================] - 0s 1ms/step - total_loss: 2.8347e-04 - Coeffs_A: -0.0565 - grads: 8.2651e-06\n",
      "Epoch 14/1000\n",
      "1/1 [==============================] - 0s 1ms/step - total_loss: 2.8266e-04 - Coeffs_A: -0.0612 - grads: 8.1760e-06\n",
      "Epoch 15/1000\n",
      "1/1 [==============================] - 0s 1ms/step - total_loss: 2.8186e-04 - Coeffs_A: -0.0659 - grads: 8.0761e-06\n",
      "Epoch 16/1000\n",
      "1/1 [==============================] - 0s 1ms/step - total_loss: 2.8107e-04 - Coeffs_A: -0.0706 - grads: 7.9897e-06\n",
      "Epoch 17/1000\n",
      "1/1 [==============================] - 0s 1ms/step - total_loss: 2.8028e-04 - Coeffs_A: -0.0753 - grads: 7.9129e-06\n",
      "Epoch 18/1000\n",
      "1/1 [==============================] - 0s 1ms/step - total_loss: 2.7949e-04 - Coeffs_A: -0.0800 - grads: 7.8483e-06\n",
      "Epoch 19/1000\n",
      "1/1 [==============================] - 0s 1ms/step - total_loss: 2.7870e-04 - Coeffs_A: -0.0847 - grads: 7.7714e-06\n",
      "Epoch 20/1000\n",
      "1/1 [==============================] - 0s 1ms/step - total_loss: 2.7792e-04 - Coeffs_A: -0.0894 - grads: 7.6921e-06\n",
      "Epoch 21/1000\n",
      "1/1 [==============================] - 0s 2ms/step - total_loss: 2.7715e-04 - Coeffs_A: -0.0940 - grads: 7.6095e-06\n",
      "Epoch 22/1000\n",
      "1/1 [==============================] - 0s 1ms/step - total_loss: 2.7637e-04 - Coeffs_A: -0.0987 - grads: 7.5153e-06\n",
      "Epoch 23/1000\n",
      "1/1 [==============================] - 0s 1ms/step - total_loss: 2.7560e-04 - Coeffs_A: -0.1033 - grads: 7.4411e-06\n",
      "Epoch 24/1000\n",
      "1/1 [==============================] - 0s 1ms/step - total_loss: 2.7483e-04 - Coeffs_A: -0.1080 - grads: 7.3425e-06\n",
      "Epoch 25/1000\n",
      "1/1 [==============================] - 0s 1ms/step - total_loss: 2.7407e-04 - Coeffs_A: -0.1126 - grads: 7.2349e-06\n",
      "Epoch 26/1000\n",
      "1/1 [==============================] - 0s 1ms/step - total_loss: 2.7331e-04 - Coeffs_A: -0.1172 - grads: 7.1321e-06\n",
      "Epoch 27/1000\n",
      "1/1 [==============================] - 0s 1ms/step - total_loss: 2.7256e-04 - Coeffs_A: -0.1217 - grads: 7.0278e-06\n",
      "Epoch 28/1000\n",
      "1/1 [==============================] - 0s 1ms/step - total_loss: 2.7181e-04 - Coeffs_A: -0.1263 - grads: 6.9460e-06\n",
      "Epoch 29/1000\n",
      "1/1 [==============================] - 0s 1ms/step - total_loss: 2.7107e-04 - Coeffs_A: -0.1308 - grads: 6.8329e-06\n",
      "Epoch 30/1000\n",
      "1/1 [==============================] - 0s 1ms/step - total_loss: 2.7034e-04 - Coeffs_A: -0.1353 - grads: 6.7563e-06\n",
      "Epoch 31/1000\n",
      "1/1 [==============================] - 0s 1ms/step - total_loss: 2.6961e-04 - Coeffs_A: -0.1398 - grads: 6.6595e-06\n",
      "Epoch 32/1000\n",
      "1/1 [==============================] - 0s 1ms/step - total_loss: 2.6888e-04 - Coeffs_A: -0.1443 - grads: 6.5533e-06\n",
      "Epoch 33/1000\n",
      "1/1 [==============================] - 0s 1ms/step - total_loss: 2.6816e-04 - Coeffs_A: -0.1487 - grads: 6.4454e-06\n",
      "Epoch 34/1000\n",
      "1/1 [==============================] - 0s 1ms/step - total_loss: 2.6745e-04 - Coeffs_A: -0.1531 - grads: 6.3275e-06\n",
      "Epoch 35/1000\n",
      "1/1 [==============================] - 0s 1ms/step - total_loss: 2.6675e-04 - Coeffs_A: -0.1575 - grads: 6.1913e-06\n",
      "Epoch 36/1000\n",
      "1/1 [==============================] - 0s 1ms/step - total_loss: 2.6605e-04 - Coeffs_A: -0.1619 - grads: 6.0958e-06\n",
      "Epoch 37/1000\n",
      "1/1 [==============================] - 0s 1ms/step - total_loss: 2.6536e-04 - Coeffs_A: -0.1662 - grads: 6.0198e-06\n",
      "Epoch 38/1000\n",
      "1/1 [==============================] - 0s 1ms/step - total_loss: 2.6467e-04 - Coeffs_A: -0.1705 - grads: 5.9096e-06\n",
      "Epoch 39/1000\n",
      "1/1 [==============================] - 0s 1ms/step - total_loss: 2.6399e-04 - Coeffs_A: -0.1747 - grads: 5.8007e-06\n",
      "Epoch 40/1000\n",
      "1/1 [==============================] - 0s 1ms/step - total_loss: 2.6332e-04 - Coeffs_A: -0.1789 - grads: 5.7084e-06\n",
      "Epoch 41/1000\n",
      "1/1 [==============================] - 0s 1ms/step - total_loss: 2.6266e-04 - Coeffs_A: -0.1831 - grads: 5.6057e-06\n",
      "Epoch 42/1000\n",
      "1/1 [==============================] - 0s 1ms/step - total_loss: 2.6200e-04 - Coeffs_A: -0.1873 - grads: 5.4760e-06\n",
      "Epoch 43/1000\n",
      "1/1 [==============================] - 0s 1ms/step - total_loss: 2.6134e-04 - Coeffs_A: -0.1914 - grads: 5.3804e-06\n",
      "Epoch 44/1000\n",
      "1/1 [==============================] - 0s 1ms/step - total_loss: 2.6070e-04 - Coeffs_A: -0.1955 - grads: 5.2294e-06\n",
      "Epoch 45/1000\n",
      "1/1 [==============================] - 0s 2ms/step - total_loss: 2.6006e-04 - Coeffs_A: -0.1995 - grads: 5.1507e-06\n",
      "Epoch 46/1000\n",
      "1/1 [==============================] - 0s 2ms/step - total_loss: 2.5943e-04 - Coeffs_A: -0.2035 - grads: 5.0552e-06\n",
      "Epoch 47/1000\n",
      "1/1 [==============================] - 0s 1ms/step - total_loss: 2.5880e-04 - Coeffs_A: -0.2075 - grads: 4.9378e-06\n",
      "Epoch 48/1000\n",
      "1/1 [==============================] - 0s 1ms/step - total_loss: 2.5819e-04 - Coeffs_A: -0.2114 - grads: 4.7933e-06\n",
      "Epoch 49/1000\n",
      "1/1 [==============================] - 0s 2ms/step - total_loss: 2.5758e-04 - Coeffs_A: -0.2152 - grads: 4.6665e-06\n",
      "Epoch 50/1000\n",
      "1/1 [==============================] - 0s 1ms/step - total_loss: 2.5698e-04 - Coeffs_A: -0.2191 - grads: 4.5706e-06\n",
      "Epoch 51/1000\n",
      "1/1 [==============================] - 0s 2ms/step - total_loss: 2.5638e-04 - Coeffs_A: -0.2228 - grads: 4.4782e-06\n",
      "Epoch 52/1000\n",
      "1/1 [==============================] - 0s 1ms/step - total_loss: 2.5580e-04 - Coeffs_A: -0.2266 - grads: 4.3546e-06\n",
      "Epoch 53/1000\n",
      "1/1 [==============================] - 0s 1ms/step - total_loss: 2.5522e-04 - Coeffs_A: -0.2302 - grads: 4.2487e-06\n",
      "Epoch 54/1000\n",
      "1/1 [==============================] - 0s 1ms/step - total_loss: 2.5465e-04 - Coeffs_A: -0.2339 - grads: 4.1320e-06\n",
      "Epoch 55/1000\n",
      "1/1 [==============================] - 0s 1ms/step - total_loss: 2.5408e-04 - Coeffs_A: -0.2375 - grads: 3.9846e-06\n",
      "Epoch 56/1000\n",
      "1/1 [==============================] - 0s 2ms/step - total_loss: 2.5352e-04 - Coeffs_A: -0.2410 - grads: 3.8574e-06\n",
      "Epoch 57/1000\n",
      "1/1 [==============================] - 0s 1ms/step - total_loss: 2.5297e-04 - Coeffs_A: -0.2445 - grads: 3.7355e-06\n",
      "Epoch 58/1000\n",
      "1/1 [==============================] - 0s 1ms/step - total_loss: 2.5243e-04 - Coeffs_A: -0.2479 - grads: 3.6566e-06\n",
      "Epoch 59/1000\n",
      "1/1 [==============================] - 0s 1ms/step - total_loss: 2.5190e-04 - Coeffs_A: -0.2513 - grads: 3.5425e-06\n",
      "Epoch 60/1000\n",
      "1/1 [==============================] - 0s 2ms/step - total_loss: 2.5137e-04 - Coeffs_A: -0.2546 - grads: 3.3974e-06\n",
      "Epoch 61/1000\n",
      "1/1 [==============================] - 0s 2ms/step - total_loss: 2.5085e-04 - Coeffs_A: -0.2578 - grads: 3.2652e-06\n",
      "Epoch 62/1000\n",
      "1/1 [==============================] - 0s 1ms/step - total_loss: 2.5034e-04 - Coeffs_A: -0.2610 - grads: 3.0730e-06\n",
      "Epoch 63/1000\n",
      "1/1 [==============================] - 0s 1ms/step - total_loss: 2.4983e-04 - Coeffs_A: -0.2641 - grads: 2.9366e-06\n",
      "Epoch 64/1000\n"
     ]
    },
    {
     "name": "stdout",
     "output_type": "stream",
     "text": [
      "1/1 [==============================] - 0s 1ms/step - total_loss: 2.4933e-04 - Coeffs_A: -0.2672 - grads: 2.8239e-06\n",
      "Epoch 65/1000\n",
      "1/1 [==============================] - 0s 1ms/step - total_loss: 2.4884e-04 - Coeffs_A: -0.2702 - grads: 2.6878e-06\n",
      "Epoch 66/1000\n",
      "1/1 [==============================] - 0s 1ms/step - total_loss: 2.4836e-04 - Coeffs_A: -0.2731 - grads: 2.5831e-06\n",
      "Epoch 67/1000\n",
      "1/1 [==============================] - 0s 1ms/step - total_loss: 2.4788e-04 - Coeffs_A: -0.2760 - grads: 2.4835e-06\n",
      "Epoch 68/1000\n",
      "1/1 [==============================] - 0s 1ms/step - total_loss: 2.4742e-04 - Coeffs_A: -0.2788 - grads: 2.3701e-06\n",
      "Epoch 69/1000\n",
      "1/1 [==============================] - 0s 1ms/step - total_loss: 2.4695e-04 - Coeffs_A: -0.2815 - grads: 2.2852e-06\n",
      "Epoch 70/1000\n",
      "1/1 [==============================] - 0s 1ms/step - total_loss: 2.4650e-04 - Coeffs_A: -0.2842 - grads: 2.1830e-06\n",
      "Epoch 71/1000\n",
      "1/1 [==============================] - 0s 1ms/step - total_loss: 2.4605e-04 - Coeffs_A: -0.2868 - grads: 2.0864e-06\n",
      "Epoch 72/1000\n",
      "1/1 [==============================] - 0s 1ms/step - total_loss: 2.4560e-04 - Coeffs_A: -0.2893 - grads: 1.9907e-06\n",
      "Epoch 73/1000\n",
      "1/1 [==============================] - 0s 1ms/step - total_loss: 2.4516e-04 - Coeffs_A: -0.2918 - grads: 1.8806e-06\n",
      "Epoch 74/1000\n",
      "1/1 [==============================] - 0s 1ms/step - total_loss: 2.4473e-04 - Coeffs_A: -0.2942 - grads: 1.7752e-06\n",
      "Epoch 75/1000\n",
      "1/1 [==============================] - 0s 1ms/step - total_loss: 2.4431e-04 - Coeffs_A: -0.2965 - grads: 1.6749e-06\n",
      "Epoch 76/1000\n",
      "1/1 [==============================] - 0s 1ms/step - total_loss: 2.4389e-04 - Coeffs_A: -0.2988 - grads: 1.5635e-06\n",
      "Epoch 77/1000\n",
      "1/1 [==============================] - 0s 1ms/step - total_loss: 2.4347e-04 - Coeffs_A: -0.3010 - grads: 1.4749e-06\n",
      "Epoch 78/1000\n",
      "1/1 [==============================] - 0s 1ms/step - total_loss: 2.4306e-04 - Coeffs_A: -0.3031 - grads: 1.3933e-06\n",
      "Epoch 79/1000\n",
      "1/1 [==============================] - 0s 1ms/step - total_loss: 2.4266e-04 - Coeffs_A: -0.3052 - grads: 1.3068e-06\n",
      "Epoch 80/1000\n",
      "1/1 [==============================] - 0s 1ms/step - total_loss: 2.4226e-04 - Coeffs_A: -0.3072 - grads: 1.2261e-06\n",
      "Epoch 81/1000\n",
      "1/1 [==============================] - 0s 2ms/step - total_loss: 2.4187e-04 - Coeffs_A: -0.3091 - grads: 1.1439e-06\n",
      "Epoch 82/1000\n",
      "1/1 [==============================] - 0s 1ms/step - total_loss: 2.4148e-04 - Coeffs_A: -0.3110 - grads: 1.0615e-06\n",
      "Epoch 83/1000\n",
      "1/1 [==============================] - 0s 1ms/step - total_loss: 2.4110e-04 - Coeffs_A: -0.3128 - grads: 9.8879e-07\n",
      "Epoch 84/1000\n",
      "1/1 [==============================] - 0s 1ms/step - total_loss: 2.4072e-04 - Coeffs_A: -0.3146 - grads: 8.9354e-07\n",
      "Epoch 85/1000\n",
      "1/1 [==============================] - 0s 1ms/step - total_loss: 2.4035e-04 - Coeffs_A: -0.3163 - grads: 8.4545e-07\n",
      "Epoch 86/1000\n",
      "1/1 [==============================] - 0s 1ms/step - total_loss: 2.3998e-04 - Coeffs_A: -0.3179 - grads: 7.9717e-07\n",
      "Epoch 87/1000\n",
      "1/1 [==============================] - 0s 1ms/step - total_loss: 2.3962e-04 - Coeffs_A: -0.3195 - grads: 7.0670e-07\n",
      "Epoch 88/1000\n",
      "1/1 [==============================] - 0s 1ms/step - total_loss: 2.3926e-04 - Coeffs_A: -0.3210 - grads: 6.2422e-07\n",
      "Epoch 89/1000\n",
      "1/1 [==============================] - 0s 1ms/step - total_loss: 2.3891e-04 - Coeffs_A: -0.3224 - grads: 5.6299e-07\n",
      "Epoch 90/1000\n",
      "1/1 [==============================] - 0s 1ms/step - total_loss: 2.3856e-04 - Coeffs_A: -0.3238 - grads: 5.2446e-07\n",
      "Epoch 91/1000\n",
      "1/1 [==============================] - 0s 1ms/step - total_loss: 2.3821e-04 - Coeffs_A: -0.3251 - grads: 4.6882e-07\n",
      "Epoch 92/1000\n",
      "1/1 [==============================] - 0s 1ms/step - total_loss: 2.3787e-04 - Coeffs_A: -0.3264 - grads: 4.0495e-07\n",
      "Epoch 93/1000\n",
      "1/1 [==============================] - 0s 1ms/step - total_loss: 2.3753e-04 - Coeffs_A: -0.3276 - grads: 3.3443e-07\n",
      "Epoch 94/1000\n",
      "1/1 [==============================] - 0s 1ms/step - total_loss: 2.3720e-04 - Coeffs_A: -0.3287 - grads: 2.8664e-07\n",
      "Epoch 95/1000\n",
      "1/1 [==============================] - 0s 1ms/step - total_loss: 2.3687e-04 - Coeffs_A: -0.3298 - grads: 2.1445e-07\n",
      "Epoch 96/1000\n"
     ]
    },
    {
     "ename": "KeyboardInterrupt",
     "evalue": "",
     "output_type": "error",
     "traceback": [
      "\u001b[0;31m---------------------------------------------------------------------------\u001b[0m",
      "\u001b[0;31mKeyboardInterrupt\u001b[0m                         Traceback (most recent call last)",
      "\u001b[0;32m<ipython-input-29-c2f4593878aa>\u001b[0m in \u001b[0;36m<module>\u001b[0;34m\u001b[0m\n\u001b[1;32m      3\u001b[0m                                                                                    \u001b[0mmin_delta\u001b[0m\u001b[0;34m=\u001b[0m\u001b[0;36m0\u001b[0m\u001b[0;34m,\u001b[0m \u001b[0mpatience\u001b[0m\u001b[0;34m=\u001b[0m\u001b[0;36m500\u001b[0m\u001b[0;34m,\u001b[0m\u001b[0;34m\u001b[0m\u001b[0;34m\u001b[0m\u001b[0m\n\u001b[1;32m      4\u001b[0m                                                                                    \u001b[0mverbose\u001b[0m\u001b[0;34m=\u001b[0m\u001b[0;36m0\u001b[0m\u001b[0;34m,\u001b[0m\u001b[0;34m\u001b[0m\u001b[0;34m\u001b[0m\u001b[0m\n\u001b[0;32m----> 5\u001b[0;31m                                                                                    mode='min')])\n\u001b[0m\u001b[1;32m      6\u001b[0m \u001b[0;34m\u001b[0m\u001b[0m\n",
      "\u001b[0;32m~/.local/lib/python3.6/site-packages/tensorflow/python/keras/engine/training.py\u001b[0m in \u001b[0;36m_method_wrapper\u001b[0;34m(self, *args, **kwargs)\u001b[0m\n\u001b[1;32m    106\u001b[0m   \u001b[0;32mdef\u001b[0m \u001b[0m_method_wrapper\u001b[0m\u001b[0;34m(\u001b[0m\u001b[0mself\u001b[0m\u001b[0;34m,\u001b[0m \u001b[0;34m*\u001b[0m\u001b[0margs\u001b[0m\u001b[0;34m,\u001b[0m \u001b[0;34m**\u001b[0m\u001b[0mkwargs\u001b[0m\u001b[0;34m)\u001b[0m\u001b[0;34m:\u001b[0m\u001b[0;34m\u001b[0m\u001b[0;34m\u001b[0m\u001b[0m\n\u001b[1;32m    107\u001b[0m     \u001b[0;32mif\u001b[0m \u001b[0;32mnot\u001b[0m \u001b[0mself\u001b[0m\u001b[0;34m.\u001b[0m\u001b[0m_in_multi_worker_mode\u001b[0m\u001b[0;34m(\u001b[0m\u001b[0;34m)\u001b[0m\u001b[0;34m:\u001b[0m  \u001b[0;31m# pylint: disable=protected-access\u001b[0m\u001b[0;34m\u001b[0m\u001b[0;34m\u001b[0m\u001b[0m\n\u001b[0;32m--> 108\u001b[0;31m       \u001b[0;32mreturn\u001b[0m \u001b[0mmethod\u001b[0m\u001b[0;34m(\u001b[0m\u001b[0mself\u001b[0m\u001b[0;34m,\u001b[0m \u001b[0;34m*\u001b[0m\u001b[0margs\u001b[0m\u001b[0;34m,\u001b[0m \u001b[0;34m**\u001b[0m\u001b[0mkwargs\u001b[0m\u001b[0;34m)\u001b[0m\u001b[0;34m\u001b[0m\u001b[0;34m\u001b[0m\u001b[0m\n\u001b[0m\u001b[1;32m    109\u001b[0m \u001b[0;34m\u001b[0m\u001b[0m\n\u001b[1;32m    110\u001b[0m     \u001b[0;31m# Running inside `run_distribute_coordinator` already.\u001b[0m\u001b[0;34m\u001b[0m\u001b[0;34m\u001b[0m\u001b[0;34m\u001b[0m\u001b[0m\n",
      "\u001b[0;32m~/.local/lib/python3.6/site-packages/tensorflow/python/keras/engine/training.py\u001b[0m in \u001b[0;36mfit\u001b[0;34m(self, x, y, batch_size, epochs, verbose, callbacks, validation_split, validation_data, shuffle, class_weight, sample_weight, initial_epoch, steps_per_epoch, validation_steps, validation_batch_size, validation_freq, max_queue_size, workers, use_multiprocessing)\u001b[0m\n\u001b[1;32m   1096\u001b[0m                 batch_size=batch_size):\n\u001b[1;32m   1097\u001b[0m               \u001b[0mcallbacks\u001b[0m\u001b[0;34m.\u001b[0m\u001b[0mon_train_batch_begin\u001b[0m\u001b[0;34m(\u001b[0m\u001b[0mstep\u001b[0m\u001b[0;34m)\u001b[0m\u001b[0;34m\u001b[0m\u001b[0;34m\u001b[0m\u001b[0m\n\u001b[0;32m-> 1098\u001b[0;31m               \u001b[0mtmp_logs\u001b[0m \u001b[0;34m=\u001b[0m \u001b[0mtrain_function\u001b[0m\u001b[0;34m(\u001b[0m\u001b[0miterator\u001b[0m\u001b[0;34m)\u001b[0m\u001b[0;34m\u001b[0m\u001b[0;34m\u001b[0m\u001b[0m\n\u001b[0m\u001b[1;32m   1099\u001b[0m               \u001b[0;32mif\u001b[0m \u001b[0mdata_handler\u001b[0m\u001b[0;34m.\u001b[0m\u001b[0mshould_sync\u001b[0m\u001b[0;34m:\u001b[0m\u001b[0;34m\u001b[0m\u001b[0;34m\u001b[0m\u001b[0m\n\u001b[1;32m   1100\u001b[0m                 \u001b[0mcontext\u001b[0m\u001b[0;34m.\u001b[0m\u001b[0masync_wait\u001b[0m\u001b[0;34m(\u001b[0m\u001b[0;34m)\u001b[0m\u001b[0;34m\u001b[0m\u001b[0;34m\u001b[0m\u001b[0m\n",
      "\u001b[0;32m~/.local/lib/python3.6/site-packages/tensorflow/python/eager/def_function.py\u001b[0m in \u001b[0;36m__call__\u001b[0;34m(self, *args, **kwds)\u001b[0m\n\u001b[1;32m    778\u001b[0m       \u001b[0;32melse\u001b[0m\u001b[0;34m:\u001b[0m\u001b[0;34m\u001b[0m\u001b[0;34m\u001b[0m\u001b[0m\n\u001b[1;32m    779\u001b[0m         \u001b[0mcompiler\u001b[0m \u001b[0;34m=\u001b[0m \u001b[0;34m\"nonXla\"\u001b[0m\u001b[0;34m\u001b[0m\u001b[0;34m\u001b[0m\u001b[0m\n\u001b[0;32m--> 780\u001b[0;31m         \u001b[0mresult\u001b[0m \u001b[0;34m=\u001b[0m \u001b[0mself\u001b[0m\u001b[0;34m.\u001b[0m\u001b[0m_call\u001b[0m\u001b[0;34m(\u001b[0m\u001b[0;34m*\u001b[0m\u001b[0margs\u001b[0m\u001b[0;34m,\u001b[0m \u001b[0;34m**\u001b[0m\u001b[0mkwds\u001b[0m\u001b[0;34m)\u001b[0m\u001b[0;34m\u001b[0m\u001b[0;34m\u001b[0m\u001b[0m\n\u001b[0m\u001b[1;32m    781\u001b[0m \u001b[0;34m\u001b[0m\u001b[0m\n\u001b[1;32m    782\u001b[0m       \u001b[0mnew_tracing_count\u001b[0m \u001b[0;34m=\u001b[0m \u001b[0mself\u001b[0m\u001b[0;34m.\u001b[0m\u001b[0m_get_tracing_count\u001b[0m\u001b[0;34m(\u001b[0m\u001b[0;34m)\u001b[0m\u001b[0;34m\u001b[0m\u001b[0;34m\u001b[0m\u001b[0m\n",
      "\u001b[0;32m~/.local/lib/python3.6/site-packages/tensorflow/python/eager/def_function.py\u001b[0m in \u001b[0;36m_call\u001b[0;34m(self, *args, **kwds)\u001b[0m\n\u001b[1;32m    812\u001b[0m       \u001b[0;31m# In this case we have not created variables on the first call. So we can\u001b[0m\u001b[0;34m\u001b[0m\u001b[0;34m\u001b[0m\u001b[0;34m\u001b[0m\u001b[0m\n\u001b[1;32m    813\u001b[0m       \u001b[0;31m# run the first trace but we should fail if variables are created.\u001b[0m\u001b[0;34m\u001b[0m\u001b[0;34m\u001b[0m\u001b[0;34m\u001b[0m\u001b[0m\n\u001b[0;32m--> 814\u001b[0;31m       \u001b[0mresults\u001b[0m \u001b[0;34m=\u001b[0m \u001b[0mself\u001b[0m\u001b[0;34m.\u001b[0m\u001b[0m_stateful_fn\u001b[0m\u001b[0;34m(\u001b[0m\u001b[0;34m*\u001b[0m\u001b[0margs\u001b[0m\u001b[0;34m,\u001b[0m \u001b[0;34m**\u001b[0m\u001b[0mkwds\u001b[0m\u001b[0;34m)\u001b[0m\u001b[0;34m\u001b[0m\u001b[0;34m\u001b[0m\u001b[0m\n\u001b[0m\u001b[1;32m    815\u001b[0m       \u001b[0;32mif\u001b[0m \u001b[0mself\u001b[0m\u001b[0;34m.\u001b[0m\u001b[0m_created_variables\u001b[0m\u001b[0;34m:\u001b[0m\u001b[0;34m\u001b[0m\u001b[0;34m\u001b[0m\u001b[0m\n\u001b[1;32m    816\u001b[0m         raise ValueError(\"Creating variables on a non-first call to a function\"\n",
      "\u001b[0;32m~/.local/lib/python3.6/site-packages/tensorflow/python/eager/function.py\u001b[0m in \u001b[0;36m__call__\u001b[0;34m(self, *args, **kwargs)\u001b[0m\n\u001b[1;32m   2827\u001b[0m     \u001b[0;32mwith\u001b[0m \u001b[0mself\u001b[0m\u001b[0;34m.\u001b[0m\u001b[0m_lock\u001b[0m\u001b[0;34m:\u001b[0m\u001b[0;34m\u001b[0m\u001b[0;34m\u001b[0m\u001b[0m\n\u001b[1;32m   2828\u001b[0m       \u001b[0mgraph_function\u001b[0m\u001b[0;34m,\u001b[0m \u001b[0margs\u001b[0m\u001b[0;34m,\u001b[0m \u001b[0mkwargs\u001b[0m \u001b[0;34m=\u001b[0m \u001b[0mself\u001b[0m\u001b[0;34m.\u001b[0m\u001b[0m_maybe_define_function\u001b[0m\u001b[0;34m(\u001b[0m\u001b[0margs\u001b[0m\u001b[0;34m,\u001b[0m \u001b[0mkwargs\u001b[0m\u001b[0;34m)\u001b[0m\u001b[0;34m\u001b[0m\u001b[0;34m\u001b[0m\u001b[0m\n\u001b[0;32m-> 2829\u001b[0;31m     \u001b[0;32mreturn\u001b[0m \u001b[0mgraph_function\u001b[0m\u001b[0;34m.\u001b[0m\u001b[0m_filtered_call\u001b[0m\u001b[0;34m(\u001b[0m\u001b[0margs\u001b[0m\u001b[0;34m,\u001b[0m \u001b[0mkwargs\u001b[0m\u001b[0;34m)\u001b[0m  \u001b[0;31m# pylint: disable=protected-access\u001b[0m\u001b[0;34m\u001b[0m\u001b[0;34m\u001b[0m\u001b[0m\n\u001b[0m\u001b[1;32m   2830\u001b[0m \u001b[0;34m\u001b[0m\u001b[0m\n\u001b[1;32m   2831\u001b[0m   \u001b[0;34m@\u001b[0m\u001b[0mproperty\u001b[0m\u001b[0;34m\u001b[0m\u001b[0;34m\u001b[0m\u001b[0m\n",
      "\u001b[0;32m~/.local/lib/python3.6/site-packages/tensorflow/python/eager/function.py\u001b[0m in \u001b[0;36m_filtered_call\u001b[0;34m(self, args, kwargs, cancellation_manager)\u001b[0m\n\u001b[1;32m   1846\u001b[0m                            resource_variable_ops.BaseResourceVariable))],\n\u001b[1;32m   1847\u001b[0m         \u001b[0mcaptured_inputs\u001b[0m\u001b[0;34m=\u001b[0m\u001b[0mself\u001b[0m\u001b[0;34m.\u001b[0m\u001b[0mcaptured_inputs\u001b[0m\u001b[0;34m,\u001b[0m\u001b[0;34m\u001b[0m\u001b[0;34m\u001b[0m\u001b[0m\n\u001b[0;32m-> 1848\u001b[0;31m         cancellation_manager=cancellation_manager)\n\u001b[0m\u001b[1;32m   1849\u001b[0m \u001b[0;34m\u001b[0m\u001b[0m\n\u001b[1;32m   1850\u001b[0m   \u001b[0;32mdef\u001b[0m \u001b[0m_call_flat\u001b[0m\u001b[0;34m(\u001b[0m\u001b[0mself\u001b[0m\u001b[0;34m,\u001b[0m \u001b[0margs\u001b[0m\u001b[0;34m,\u001b[0m \u001b[0mcaptured_inputs\u001b[0m\u001b[0;34m,\u001b[0m \u001b[0mcancellation_manager\u001b[0m\u001b[0;34m=\u001b[0m\u001b[0;32mNone\u001b[0m\u001b[0;34m)\u001b[0m\u001b[0;34m:\u001b[0m\u001b[0;34m\u001b[0m\u001b[0;34m\u001b[0m\u001b[0m\n",
      "\u001b[0;32m~/.local/lib/python3.6/site-packages/tensorflow/python/eager/function.py\u001b[0m in \u001b[0;36m_call_flat\u001b[0;34m(self, args, captured_inputs, cancellation_manager)\u001b[0m\n\u001b[1;32m   1922\u001b[0m       \u001b[0;31m# No tape is watching; skip to running the function.\u001b[0m\u001b[0;34m\u001b[0m\u001b[0;34m\u001b[0m\u001b[0;34m\u001b[0m\u001b[0m\n\u001b[1;32m   1923\u001b[0m       return self._build_call_outputs(self._inference_function.call(\n\u001b[0;32m-> 1924\u001b[0;31m           ctx, args, cancellation_manager=cancellation_manager))\n\u001b[0m\u001b[1;32m   1925\u001b[0m     forward_backward = self._select_forward_and_backward_functions(\n\u001b[1;32m   1926\u001b[0m         \u001b[0margs\u001b[0m\u001b[0;34m,\u001b[0m\u001b[0;34m\u001b[0m\u001b[0;34m\u001b[0m\u001b[0m\n",
      "\u001b[0;32m~/.local/lib/python3.6/site-packages/tensorflow/python/eager/function.py\u001b[0m in \u001b[0;36mcall\u001b[0;34m(self, ctx, args, cancellation_manager)\u001b[0m\n\u001b[1;32m    548\u001b[0m               \u001b[0minputs\u001b[0m\u001b[0;34m=\u001b[0m\u001b[0margs\u001b[0m\u001b[0;34m,\u001b[0m\u001b[0;34m\u001b[0m\u001b[0;34m\u001b[0m\u001b[0m\n\u001b[1;32m    549\u001b[0m               \u001b[0mattrs\u001b[0m\u001b[0;34m=\u001b[0m\u001b[0mattrs\u001b[0m\u001b[0;34m,\u001b[0m\u001b[0;34m\u001b[0m\u001b[0;34m\u001b[0m\u001b[0m\n\u001b[0;32m--> 550\u001b[0;31m               ctx=ctx)\n\u001b[0m\u001b[1;32m    551\u001b[0m         \u001b[0;32melse\u001b[0m\u001b[0;34m:\u001b[0m\u001b[0;34m\u001b[0m\u001b[0;34m\u001b[0m\u001b[0m\n\u001b[1;32m    552\u001b[0m           outputs = execute.execute_with_cancellation(\n",
      "\u001b[0;32m~/.local/lib/python3.6/site-packages/tensorflow/python/eager/execute.py\u001b[0m in \u001b[0;36mquick_execute\u001b[0;34m(op_name, num_outputs, inputs, attrs, ctx, name)\u001b[0m\n\u001b[1;32m     58\u001b[0m     \u001b[0mctx\u001b[0m\u001b[0;34m.\u001b[0m\u001b[0mensure_initialized\u001b[0m\u001b[0;34m(\u001b[0m\u001b[0;34m)\u001b[0m\u001b[0;34m\u001b[0m\u001b[0;34m\u001b[0m\u001b[0m\n\u001b[1;32m     59\u001b[0m     tensors = pywrap_tfe.TFE_Py_Execute(ctx._handle, device_name, op_name,\n\u001b[0;32m---> 60\u001b[0;31m                                         inputs, attrs, num_outputs)\n\u001b[0m\u001b[1;32m     61\u001b[0m   \u001b[0;32mexcept\u001b[0m \u001b[0mcore\u001b[0m\u001b[0;34m.\u001b[0m\u001b[0m_NotOkStatusException\u001b[0m \u001b[0;32mas\u001b[0m \u001b[0me\u001b[0m\u001b[0;34m:\u001b[0m\u001b[0;34m\u001b[0m\u001b[0;34m\u001b[0m\u001b[0m\n\u001b[1;32m     62\u001b[0m     \u001b[0;32mif\u001b[0m \u001b[0mname\u001b[0m \u001b[0;32mis\u001b[0m \u001b[0;32mnot\u001b[0m \u001b[0;32mNone\u001b[0m\u001b[0;34m:\u001b[0m\u001b[0;34m\u001b[0m\u001b[0;34m\u001b[0m\u001b[0m\n",
      "\u001b[0;31mKeyboardInterrupt\u001b[0m: "
     ]
    }
   ],
   "source": [
    "\n",
    "history = rmodel.fit(x=tfsignals, y=tfsignals, \n",
    "                     epochs = 10**3, callbacks = [tf.keras.callbacks.EarlyStopping(monitor='total_loss', \n",
    "                                                                                   min_delta=0, patience=500,\n",
    "                                                                                   verbose=0,\n",
    "                                                                                   mode='min')])\n",
    "\n"
   ]
  },
  {
   "cell_type": "code",
   "execution_count": 30,
   "id": "outer-cooperative",
   "metadata": {},
   "outputs": [
    {
     "data": {
      "text/plain": [
       "[<tf.Variable 'rnn/stacked_rnn_cells/rcell/kernel:0' shape=(2, 2) dtype=float32, numpy=\n",
       " array([[-0.6771794 ,  0.917597  ],\n",
       "        [-0.9310472 , -0.63289887]], dtype=float32)>]"
      ]
     },
     "execution_count": 30,
     "metadata": {},
     "output_type": "execute_result"
    }
   ],
   "source": [
    "rmodel.trainable_variables"
   ]
  },
  {
   "cell_type": "code",
   "execution_count": 31,
   "id": "sudden-spending",
   "metadata": {},
   "outputs": [],
   "source": [
    "histories = rmodel.history.history\n",
    "#keys_histories = list(histories.keys())\n",
    "#for k,v, in histories.items():\n",
    " #   np.save(train_path+\"{}\".format(k), v, allow_pickle=True)\n"
   ]
  },
  {
   "cell_type": "code",
   "execution_count": 34,
   "id": "guilty-sheriff",
   "metadata": {},
   "outputs": [
    {
     "data": {
      "text/plain": [
       "[<matplotlib.lines.Line2D at 0x7f48b4345a58>]"
      ]
     },
     "execution_count": 34,
     "metadata": {},
     "output_type": "execute_result"
    },
    {
     "data": {
      "image/png": "[encoded data removed]",
      "text/plain": [
       "<Figure size 432x288 with 1 Axes>"
      ]
     },
     "metadata": {
      "needs_background": "light"
     },
     "output_type": "display_data"
    }
   ],
   "source": [
    "plt.plot(histories[\"total_loss\"])"
   ]
  },
  {
   "cell_type": "code",
   "execution_count": null,
   "id": "blond-craft",
   "metadata": {},
   "outputs": [],
   "source": []
  }
 ],
 "metadata": {
  "kernelspec": {
   "display_name": "Python 3",
   "language": "python",
   "name": "python3"
  },
  "language_info": {
   "codemirror_mode": {
    "name": "ipython",
    "version": 3
   },
   "file_extension": ".py",
   "mimetype": "text/x-python",
   "name": "python",
   "nbconvert_exporter": "python",
   "pygments_lexer": "ipython3",
   "version": "3.6.9"
  }
 },
 "nbformat": 4,
 "nbformat_minor": 5
}
