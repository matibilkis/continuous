{
 "cells": [
  {
   "cell_type": "code",
   "execution_count": 1,
   "id": "adolescent-orange",
   "metadata": {},
   "outputs": [],
   "source": [
    "import tensorflow as tf \n",
    "import numpy as np \n",
    "import matplotlib.pyplot as plt\n",
    "from tqdm import tqdm\n",
    "%load_ext autoreload\n",
    "%autoreload 2"
   ]
  },
  {
   "cell_type": "code",
   "execution_count": 9,
   "id": "thirty-prayer",
   "metadata": {},
   "outputs": [
    {
     "data": {
      "text/plain": [
       "0"
      ]
     },
     "execution_count": 9,
     "metadata": {},
     "output_type": "execute_result"
    }
   ],
   "source": [
    "import os \n",
    "os.system(\"python3 main_traj.py --periods 5 --ppp 100\")"
   ]
  },
  {
   "cell_type": "code",
   "execution_count": 12,
   "id": "ready-richmond",
   "metadata": {},
   "outputs": [
    {
     "data": {
      "text/plain": [
       "[<matplotlib.lines.Line2D at 0x7f3644670e80>]"
      ]
     },
     "execution_count": 12,
     "metadata": {},
     "output_type": "execute_result"
    },
    {
     "data": {
      "image/png": "[encoded data removed]",
      "text/plain": [
       "<Figure size 432x288 with 1 Axes>"
      ]
     },
     "metadata": {
      "needs_background": "light"
     },
     "output_type": "display_data"
    }
   ],
   "source": [
    "from visual_model import *\n",
    "\n",
    "from misc import load_data, get_def_path\n",
    "\n",
    "periods = 20\n",
    "ppp=100\n",
    "train_id = 0\n",
    "defpath = get_def_path()\n",
    "path = defpath+\"{}periods/{}ppp/\".format(periods,ppp)\n",
    "means, covs, signals, coeffs = load_data(path)\n",
    "tfsignals = tf.convert_to_tensor(signals)[tf.newaxis]\n",
    "A,dt,C,D = coeffs\n",
    "times = np.linspace(0,periods*2*np.pi, periods*ppp)\n",
    "total_time = times[-1]\n",
    "plt.plot(times, means[:,0])"
   ]
  },
  {
   "cell_type": "code",
   "execution_count": 13,
   "id": "defined-inspiration",
   "metadata": {},
   "outputs": [
    {
     "data": {
      "text/plain": [
       "<tf.Tensor: shape=(1, 10, 2), dtype=float32, numpy=\n",
       "array([[[ 0.12566371,  0.        ],\n",
       "        [ 0.13823009, -0.01256637],\n",
       "        [ 0.15079646, -0.02513274],\n",
       "        [ 0.16336283, -0.03769911],\n",
       "        [ 0.1759292 , -0.05026549],\n",
       "        [ 0.18849559, -0.06283186],\n",
       "        [ 0.20106196, -0.07539823],\n",
       "        [ 0.21362834, -0.0879646 ],\n",
       "        [ 0.22619471, -0.10053098],\n",
       "        [ 0.23876108, -0.11309735]]], dtype=float32)>"
      ]
     },
     "execution_count": 13,
     "metadata": {},
     "output_type": "execute_result"
    }
   ],
   "source": [
    "rmodel = GRNNmodelVisual(coeffs = [C,D,dt, total_time], traj_details=[periods, ppp, train_id, path], cov_in=tf.convert_to_tensor(covs[0].astype(np.float32)), stateful=False)\n",
    "rmodel.compile(optimizer=tf.keras.optimizers.Adam(lr=0.01))\n",
    "rmodel.recurrent_layer(tfsignals[:,:10,:], initial_state=rmodel.initial_state)\n",
    "#rmodel.trainable_variables[0].assign(tf.convert_to_tensor(A.astype(np.float32)))"
   ]
  },
  {
   "cell_type": "code",
   "execution_count": 5,
   "id": "stylish-breed",
   "metadata": {},
   "outputs": [
    {
     "data": {
      "text/plain": [
       "[<tf.Variable 'rnn/stacked_rnn_cells/rcell/kernel:0' shape=(1, 1) dtype=float32, numpy=array([[0.04047849]], dtype=float32)>]"
      ]
     },
     "execution_count": 5,
     "metadata": {},
     "output_type": "execute_result"
    }
   ],
   "source": [
    "rmodel.trainable_variables"
   ]
  },
  {
   "cell_type": "code",
   "execution_count": 6,
   "id": "aboriginal-association",
   "metadata": {},
   "outputs": [],
   "source": [
    "parameters = np.linspace(0,5,100)"
   ]
  },
  {
   "cell_type": "code",
   "execution_count": 7,
   "id": "lasting-lawsuit",
   "metadata": {},
   "outputs": [
    {
     "data": {
      "text/plain": [
       "50000"
      ]
     },
     "execution_count": 7,
     "metadata": {},
     "output_type": "execute_result"
    }
   ],
   "source": []
  },
  {
   "cell_type": "code",
   "execution_count": 23,
   "id": "native-environment",
   "metadata": {},
   "outputs": [
    {
     "data": {
      "text/plain": [
       "<tf.Tensor: shape=(1, 499), dtype=float32, numpy=\n",
       "array([[ 5.32826722e-01,  2.68072426e-01,  5.74027240e-01,\n",
       "         8.36446702e-01,  5.62354445e-01,  8.39722753e-01,\n",
       "         4.48343039e-01,  7.53438950e-01,  4.48729545e-01,\n",
       "         4.42095250e-01,  1.02662623e-01,  4.84651923e-01,\n",
       "         4.85357195e-01,  2.30421856e-01,  1.31862879e-01,\n",
       "        -4.96157035e-02, -1.47540092e-01, -2.44290069e-01,\n",
       "        -4.59132284e-01,  1.07922994e-01, -3.20047885e-01,\n",
       "        -5.28233290e-01, -4.32137460e-01, -4.46305752e-01,\n",
       "        -5.05675673e-01, -4.96629655e-01, -8.79325628e-01,\n",
       "        -7.50432193e-01, -5.36834061e-01, -6.57936811e-01,\n",
       "        -9.27223623e-01, -6.73281431e-01, -6.60894156e-01,\n",
       "        -4.80560392e-01, -1.56534597e-01, -9.35769022e-01,\n",
       "        -6.19360566e-01, -5.71121156e-01, -7.02739239e-01,\n",
       "        -5.85620463e-01, -6.79196596e-01, -5.78173697e-01,\n",
       "        -5.50888121e-01, -7.39684224e-01, -5.60413599e-01,\n",
       "        -2.59445846e-01, -5.53072274e-01, -3.41751277e-01,\n",
       "        -4.76481348e-01, -5.31250536e-01, -4.88038272e-01,\n",
       "        -2.60684133e-01, -5.65998018e-01, -1.20308354e-01,\n",
       "        -2.77121753e-01, -5.20684838e-01,  5.22319041e-03,\n",
       "        -1.67464968e-02, -4.36245501e-02,  2.90479243e-01,\n",
       "         1.09033801e-01,  4.74252045e-01, -1.97806090e-01,\n",
       "         6.10984087e-01,  4.63787094e-02,  2.79499590e-01,\n",
       "         5.62163480e-02,  5.37626147e-01,  5.63546836e-01,\n",
       "         7.08524048e-01,  5.45860112e-01,  8.35443497e-01,\n",
       "         8.34864438e-01,  7.86493361e-01,  8.61226261e-01,\n",
       "         7.69552290e-01,  1.11940181e+00,  1.04849303e+00,\n",
       "         9.52008367e-01,  1.00080109e+00,  8.81780267e-01,\n",
       "         1.04913449e+00,  1.12372339e+00,  1.26917946e+00,\n",
       "         1.61776698e+00,  1.02090919e+00,  1.75279140e+00,\n",
       "         1.25173056e+00,  1.54452312e+00,  1.42138898e+00,\n",
       "         9.27852273e-01,  1.24768960e+00,  1.06948185e+00,\n",
       "         1.17803669e+00,  1.08018684e+00,  1.25372314e+00,\n",
       "         1.44091284e+00,  1.17073071e+00,  1.12546301e+00,\n",
       "         1.13337338e+00,  7.95230269e-01,  6.49166703e-01,\n",
       "         3.40647310e-01,  1.03909902e-01,  5.23629263e-02,\n",
       "         9.22276452e-02,  3.47225785e-01, -2.69067258e-01,\n",
       "         2.92968862e-02,  1.70641422e-01,  2.13014945e-01,\n",
       "         2.01860383e-01, -4.92004603e-01, -4.83039349e-01,\n",
       "        -6.32250607e-01, -5.14792562e-01, -4.72237080e-01,\n",
       "        -7.02762783e-01, -1.04046488e+00, -1.29978061e+00,\n",
       "        -1.16953933e+00, -1.13383412e+00, -1.40574348e+00,\n",
       "        -1.14262474e+00, -8.57258797e-01, -1.33726513e+00,\n",
       "        -2.01729226e+00, -1.43190610e+00, -1.01758397e+00,\n",
       "        -1.33064091e+00, -1.40559876e+00, -1.24248052e+00,\n",
       "        -1.37710619e+00, -1.34292018e+00, -1.32967591e+00,\n",
       "        -1.16804779e+00, -1.13023829e+00, -1.47658038e+00,\n",
       "        -1.64201295e+00, -1.40017724e+00, -1.50853407e+00,\n",
       "        -1.28533220e+00, -1.23547482e+00, -1.18147361e+00,\n",
       "        -1.39727449e+00, -1.15741634e+00, -9.20959234e-01,\n",
       "        -9.55092013e-01, -7.51236737e-01, -9.85100865e-01,\n",
       "        -1.92178532e-01, -6.99317455e-01, -5.15716136e-01,\n",
       "        -3.65788728e-01, -1.11649171e-01,  1.50449917e-01,\n",
       "         3.81726891e-01,  9.75380063e-01,  6.55966699e-01,\n",
       "         4.48407143e-01,  6.51137710e-01,  8.40058029e-01,\n",
       "         1.02787757e+00,  8.12107444e-01,  9.68134224e-01,\n",
       "         1.20443606e+00,  9.51577902e-01,  1.58746195e+00,\n",
       "         8.74288321e-01,  7.05260932e-01,  1.13863099e+00,\n",
       "         1.14959753e+00,  1.24954045e+00,  1.26741385e+00,\n",
       "         1.44919515e+00,  1.64209640e+00,  1.41802919e+00,\n",
       "         1.29605186e+00,  1.48330796e+00,  1.34668088e+00,\n",
       "         1.29238594e+00,  9.03317094e-01,  1.20563424e+00,\n",
       "         1.36487627e+00,  1.39516926e+00,  1.25587261e+00,\n",
       "         1.42915726e+00,  1.68236923e+00,  1.81705892e+00,\n",
       "         9.14876521e-01,  1.40517592e+00,  7.93152153e-01,\n",
       "         1.17570937e+00,  9.54448998e-01,  6.64178729e-01,\n",
       "         4.02713507e-01,  4.68610108e-01,  2.18687579e-01,\n",
       "        -1.40385270e-01,  1.25493243e-01, -2.77518958e-01,\n",
       "        -9.97110363e-03, -2.61300117e-01, -7.87217319e-01,\n",
       "        -3.32254946e-01, -5.60574591e-01, -1.30589455e-01,\n",
       "        -1.12877703e+00, -9.14689600e-01, -7.45969355e-01,\n",
       "        -9.14023876e-01, -1.01983571e+00, -4.79323745e-01,\n",
       "        -1.03886032e+00, -9.84054267e-01, -7.20873415e-01,\n",
       "        -7.75932074e-01, -6.75625324e-01, -8.00997078e-01,\n",
       "        -7.06545770e-01, -7.59881437e-01, -1.13837600e+00,\n",
       "        -1.00291920e+00, -1.14843035e+00, -1.07217932e+00,\n",
       "        -1.11494648e+00, -8.17743599e-01, -6.37445271e-01,\n",
       "        -1.01897550e+00, -9.82419789e-01, -9.07231510e-01,\n",
       "        -5.36799729e-01, -7.12446570e-01, -5.38818896e-01,\n",
       "        -3.56968433e-01, -2.70142615e-01, -4.09743041e-01,\n",
       "        -4.15866584e-01, -7.55796850e-01, -1.99915126e-01,\n",
       "        -9.28370059e-02, -3.20954114e-01,  2.52145499e-01,\n",
       "         3.35090518e-01,  4.31577146e-01,  2.77364373e-01,\n",
       "         2.61113405e-01,  1.34893293e-02,  5.17740309e-01,\n",
       "         2.02893943e-01,  3.87069099e-02,  2.20408291e-01,\n",
       "         3.59601170e-01,  3.16005319e-01,  3.20509046e-01,\n",
       "         9.05966759e-01,  6.69606984e-01,  8.55486810e-01,\n",
       "         5.57660460e-01,  7.90487885e-01,  1.14887929e+00,\n",
       "         9.36995983e-01,  1.18213618e+00,  1.35466075e+00,\n",
       "         1.29314017e+00,  1.60044920e+00,  1.25038457e+00,\n",
       "         1.24230218e+00,  1.48150218e+00,  9.07887757e-01,\n",
       "         1.14349973e+00,  8.27617288e-01,  5.57124496e-01,\n",
       "         9.01486218e-01,  1.25846887e+00,  9.39346850e-01,\n",
       "         1.19544601e+00,  9.24762368e-01,  8.46373081e-01,\n",
       "         6.20877028e-01,  9.53393221e-01,  1.08716369e+00,\n",
       "         3.57352227e-01,  7.79444695e-01,  2.61622190e-01,\n",
       "         3.69667083e-01,  5.04039586e-01,  4.21928793e-01,\n",
       "         4.46748137e-01,  2.88473159e-01,  4.76324916e-01,\n",
       "         7.59111531e-03,  4.68684763e-01,  6.38864338e-01,\n",
       "         2.93815643e-01,  6.79798275e-02,  2.50558615e-01,\n",
       "         9.96479094e-02,  2.02951327e-01, -9.15936306e-02,\n",
       "        -3.18493873e-01, -3.93714517e-01, -6.17760062e-01,\n",
       "        -2.91122824e-01, -7.38771617e-01, -4.37082916e-01,\n",
       "        -3.39134991e-01, -1.00567114e+00, -3.54416996e-01,\n",
       "        -4.14889246e-01, -5.04224360e-01, -3.18286538e-01,\n",
       "        -3.55616182e-01, -3.58755052e-01, -3.55796635e-01,\n",
       "        -7.97746241e-01, -6.32337332e-01, -6.97060227e-01,\n",
       "        -8.36953759e-01, -9.73915160e-01, -5.68000317e-01,\n",
       "        -1.04699695e+00, -1.10506976e+00, -1.38358223e+00,\n",
       "        -1.14284539e+00, -6.84712589e-01, -5.55665016e-01,\n",
       "        -9.14088309e-01, -5.69132626e-01, -7.88329899e-01,\n",
       "        -7.56347835e-01, -8.23687851e-01, -5.43506086e-01,\n",
       "        -7.40478098e-01, -9.20993090e-01, -1.16798234e+00,\n",
       "        -6.71045363e-01, -9.41192687e-01, -6.49116218e-01,\n",
       "        -6.28483772e-01, -5.10677159e-01, -8.35540295e-01,\n",
       "        -7.51297027e-02, -2.69067049e-01, -1.08715333e-01,\n",
       "        -4.22931910e-01, -3.04462045e-01, -2.13626191e-01,\n",
       "         1.58297822e-01, -2.67805845e-01, -1.69388652e-01,\n",
       "         3.57227772e-02,  1.81155425e-04, -1.68366134e-01,\n",
       "         7.69060031e-02,  7.96512738e-02,  2.60837436e-01,\n",
       "         4.05280352e-01,  3.40089977e-01,  5.45783103e-01,\n",
       "         3.64081636e-02,  3.76779646e-01,  2.24767447e-01,\n",
       "         5.63333094e-01,  5.75632453e-01,  9.08464432e-01,\n",
       "         1.62194979e+00,  9.56386387e-01,  1.19942737e+00,\n",
       "         4.92535979e-01,  1.07424378e+00,  7.07247376e-01,\n",
       "         1.00752807e+00,  1.19748247e+00,  1.19945025e+00,\n",
       "         1.54209864e+00,  1.58372891e+00,  1.49103522e+00,\n",
       "         1.14037144e+00,  1.30420125e+00,  1.68377244e+00,\n",
       "         1.09429908e+00,  1.42552614e+00,  1.40391874e+00,\n",
       "         7.29521453e-01,  1.09061384e+00,  1.28115320e+00,\n",
       "         1.30351377e+00,  8.32987070e-01,  1.07131636e+00,\n",
       "         1.06747603e+00,  7.66832530e-01,  1.05271828e+00,\n",
       "         5.27326226e-01,  4.32550788e-01, -7.87680373e-02,\n",
       "         3.26289594e-01,  4.18767273e-01,  3.82486939e-01,\n",
       "         2.43847698e-01,  1.97896361e-01, -4.37633932e-01,\n",
       "        -2.89591104e-01, -5.71073890e-01, -4.83393103e-01,\n",
       "        -7.67403901e-01, -7.18512237e-01, -2.39595503e-01,\n",
       "        -5.02917767e-01, -8.95386696e-01, -8.31154943e-01,\n",
       "        -1.01432967e+00, -1.33615911e+00, -1.06400216e+00,\n",
       "        -1.25060093e+00, -1.27620947e+00, -1.37669408e+00,\n",
       "        -1.46317613e+00, -1.59416068e+00, -1.45225823e+00,\n",
       "        -1.18735707e+00, -1.34959400e+00, -1.32943809e+00,\n",
       "        -1.67023945e+00, -1.56704402e+00, -1.39449418e+00,\n",
       "        -1.49451411e+00, -1.30514145e+00, -1.15844095e+00,\n",
       "        -1.15878844e+00, -1.47647834e+00, -1.11688578e+00,\n",
       "        -1.28722429e+00, -1.06610239e+00, -9.47885931e-01,\n",
       "        -7.06354022e-01, -4.28641587e-01, -6.70619905e-01,\n",
       "        -4.56512183e-01, -4.54710931e-01, -3.32129329e-01,\n",
       "        -2.86386311e-01, -4.10216391e-01, -2.89869815e-01,\n",
       "        -5.35636880e-02,  9.51186493e-02, -6.55140758e-01,\n",
       "        -3.67898285e-01, -2.18867883e-01,  1.83688611e-01,\n",
       "         6.57864660e-02,  3.87979418e-01,  3.44636708e-01,\n",
       "         9.18791175e-01,  1.08251524e+00,  1.10432196e+00,\n",
       "         6.91947460e-01,  1.15487003e+00,  1.03082943e+00,\n",
       "         1.03948152e+00,  1.42810678e+00,  1.64275479e+00,\n",
       "         1.20518124e+00,  1.35238111e+00,  1.57457817e+00,\n",
       "         1.92019284e+00,  1.41197145e+00,  1.54637289e+00,\n",
       "         1.83924639e+00,  1.89652526e+00,  1.98805106e+00,\n",
       "         2.01025438e+00,  1.85126519e+00,  1.72985590e+00,\n",
       "         2.06885886e+00,  1.75490081e+00,  1.85701060e+00,\n",
       "         1.48615313e+00,  1.86741519e+00,  1.72492838e+00,\n",
       "         1.59850049e+00,  1.43096042e+00,  1.09360695e+00,\n",
       "         1.20799506e+00,  1.23671460e+00,  1.10700130e+00,\n",
       "         7.70588696e-01,  1.18789577e+00,  1.19607009e-01,\n",
       "         6.05813622e-01,  5.47788501e-01,  3.49591166e-01,\n",
       "         1.34090036e-01,  8.18277448e-02, -2.28316680e-01,\n",
       "        -2.22061813e-01, -2.92956769e-01, -1.79411262e-01,\n",
       "        -1.12978601e+00]], dtype=float32)>"
      ]
     },
     "execution_count": 23,
     "metadata": {},
     "output_type": "execute_result"
    }
   ],
   "source": [
    "dy[:,:,0]"
   ]
  },
  {
   "cell_type": "code",
   "execution_count": 14,
   "id": "after-accuracy",
   "metadata": {},
   "outputs": [
    {
     "name": "stderr",
     "output_type": "stream",
     "text": [
      "100%|██████████| 100/100 [01:37<00:00,  1.03it/s]\n"
     ]
    }
   ],
   "source": [
    "loss_values = {}\n",
    "\n",
    "for length_series in [len(signals)]:\n",
    "\n",
    "    l={}\n",
    "    for th in tqdm(parameters):\n",
    "        rmodel.trainable_variables[0].assign(tf.convert_to_tensor(np.array([[th]]).astype(np.float32)))\n",
    "        dy = tfsignals[:,:length_series,:]\n",
    "        l[th] = tf.keras.losses.MeanSquaredError()(dy,rmodel(dy)).numpy()\n",
    "    loss_values[length_series] = np.array(list(l.values()))*(dy.shape[1]/total_time)\n"
   ]
  },
  {
   "cell_type": "code",
   "execution_count": 15,
   "id": "thorough-support",
   "metadata": {},
   "outputs": [
    {
     "data": {
      "text/plain": [
       "Text(0.5, 1.0, '$\\\\omega = 1$')"
      ]
     },
     "execution_count": 15,
     "metadata": {},
     "output_type": "execute_result"
    },
    {
     "data": {
      "image/png": "[encoded data removed]",
      "text/plain": [
       "<Figure size 720x720 with 1 Axes>"
      ]
     },
     "metadata": {
      "needs_background": "light"
     },
     "output_type": "display_data"
    }
   ],
   "source": [
    "plt.figure(figsize=(10,10))\n",
    "for ind,length_series in enumerate([len(signals)]):\n",
    "    \n",
    "    plt.plot(parameters, total_time*loss_values[length_series]/(dt*length_series), label=\"T=\" + str(length_series), color=[\"red\",\"blue\",\"green\"][ind], linewidth=6)\n",
    "plt.xlabel(r'$\\hat{\\omega}$', size=40)\n",
    "plt.ylabel(\"Loss\",size=40)\n",
    "plt.legend(prop={'size':30})\n",
    "plt.title(r'$\\omega = 1$',size=40)"
   ]
  },
  {
   "cell_type": "code",
   "execution_count": 16,
   "id": "convertible-subscription",
   "metadata": {},
   "outputs": [],
   "source": [
    "tfmeans = tf.convert_to_tensor(means)"
   ]
  },
  {
   "cell_type": "code",
   "execution_count": 17,
   "id": "protecting-administrator",
   "metadata": {},
   "outputs": [],
   "source": [
    "Cxdt = tf.einsum('ij,bj->bi',C,tfmeans)*dt"
   ]
  },
  {
   "cell_type": "code",
   "execution_count": 18,
   "id": "unsigned-nicaragua",
   "metadata": {},
   "outputs": [
    {
     "data": {
      "text/plain": [
       "30.04486"
      ]
     },
     "execution_count": 18,
     "metadata": {},
     "output_type": "execute_result"
    }
   ],
   "source": [
    "np.sum(np.square(Cxdt[:-1,0] - tfsignals[0,:,0]))"
   ]
  },
  {
   "cell_type": "code",
   "execution_count": null,
   "id": "bacterial-ethernet",
   "metadata": {},
   "outputs": [],
   "source": []
  },
  {
   "cell_type": "code",
   "execution_count": null,
   "id": "cellular-armenia",
   "metadata": {},
   "outputs": [],
   "source": []
  },
  {
   "cell_type": "code",
   "execution_count": 25,
   "id": "amended-distribution",
   "metadata": {},
   "outputs": [
    {
     "name": "stderr",
     "output_type": "stream",
     "text": [
      "100%|██████████| 100/100 [01:58<00:00,  1.19s/it]\n"
     ]
    }
   ],
   "source": [
    "loss_values = {}\n",
    "\n",
    "for length_series in [len(signals)]:\n",
    "\n",
    "    l={}\n",
    "    for th in tqdm(parameters):\n",
    "        rmodel.trainable_variables[0].assign(tf.convert_to_tensor(np.array([[th]]).astype(np.float32)))\n",
    "        dy = tfsignals[:,:length_series,:]\n",
    "        l[th] = tf.keras.losses.MeanSquaredError()(dy[:,:length_series,0],rmodel(dy)[:,:,0]).numpy()\n",
    "    loss_values[length_series] = np.array(list(l.values()))*(dy.shape[1]/total_time)\n"
   ]
  },
  {
   "cell_type": "code",
   "execution_count": 26,
   "id": "sound-conditioning",
   "metadata": {},
   "outputs": [
    {
     "data": {
      "text/plain": [
       "Text(0.5, 1.0, '$\\\\omega = 1$')"
      ]
     },
     "execution_count": 26,
     "metadata": {},
     "output_type": "execute_result"
    },
    {
     "data": {
      "image/png": "[encoded data removed]",
      "text/plain": [
       "<Figure size 720x720 with 1 Axes>"
      ]
     },
     "metadata": {
      "needs_background": "light"
     },
     "output_type": "display_data"
    }
   ],
   "source": [
    "plt.figure(figsize=(10,10))\n",
    "for ind,length_series in enumerate([len(signals)]):\n",
    "    \n",
    "    plt.plot(parameters, total_time*loss_values[length_series]/(dt*length_series), label=\"T=\" + str(length_series), color=[\"red\",\"blue\",\"green\"][ind], linewidth=6)\n",
    "plt.xlabel(r'$\\hat{\\omega}$', size=40)\n",
    "plt.ylabel(\"Loss\",size=40)\n",
    "plt.legend(prop={'size':30})\n",
    "plt.title(r'$\\omega = 1$',size=40)"
   ]
  },
  {
   "cell_type": "code",
   "execution_count": null,
   "id": "honest-calvin",
   "metadata": {},
   "outputs": [
    {
     "name": "stderr",
     "output_type": "stream",
     "text": [
      " 48%|████▊     | 48/100 [00:48<00:42,  1.23it/s]"
     ]
    }
   ],
   "source": [
    "loss_values = {}\n",
    "\n",
    "for length_series in [len(signals)]:\n",
    "\n",
    "    l={}\n",
    "    for th in tqdm(parameters):\n",
    "        rmodel.trainable_variables[0].assign(tf.convert_to_tensor(np.array([[th]]).astype(np.float32)))\n",
    "        dy = tfsignals[:,:length_series,:]\n",
    "        l[th] = tf.keras.losses.MeanSquaredError()(dy[:,:length_series,1],rmodel(dy)[:,:,1]).numpy()\n",
    "    loss_values[length_series] = np.array(list(l.values()))*(dy.shape[1]/total_time)\n",
    "\n",
    "\n",
    "\n",
    "\n",
    "plt.figure(figsize=(10,10))\n",
    "for ind,length_series in enumerate([len(signals)]):\n",
    "    \n",
    "    plt.plot(parameters, total_time*loss_values[length_series]/(dt*length_series), label=\"T=\" + str(length_series), color=[\"red\",\"blue\",\"green\"][ind], linewidth=6)\n",
    "plt.xlabel(r'$\\hat{\\omega}$', size=40)\n",
    "plt.ylabel(\"Loss\",size=40)\n",
    "plt.legend(prop={'size':30})\n",
    "plt.title(r'$\\omega = 1$',size=40)"
   ]
  },
  {
   "cell_type": "code",
   "execution_count": null,
   "id": "clear-union",
   "metadata": {},
   "outputs": [],
   "source": []
  },
  {
   "cell_type": "code",
   "execution_count": 45,
   "id": "linear-century",
   "metadata": {},
   "outputs": [],
   "source": [
    "a = np.zeros((1,10,2))\n",
    "a[:,:,0] = 1\n",
    "a[:,:,1] = 10\n",
    "a = tf.convert_to_tensor(a)\n",
    "\n",
    "\n",
    "b = np.zeros((1,10,2))\n",
    "b[:,:,0] = 0.5\n",
    "b[:,:,1] = 20\n",
    "b = tf.convert_to_tensor(b)"
   ]
  },
  {
   "cell_type": "code",
   "execution_count": 51,
   "id": "resistant-findings",
   "metadata": {},
   "outputs": [
    {
     "data": {
      "text/plain": [
       "<tf.Tensor: shape=(1,), dtype=float64, numpy=array([50.125])>"
      ]
     },
     "execution_count": 51,
     "metadata": {},
     "output_type": "execute_result"
    }
   ],
   "source": [
    "tf.einsum('bij,bij->b',a-b,a-b)/20"
   ]
  },
  {
   "cell_type": "code",
   "execution_count": 50,
   "id": "initial-jones",
   "metadata": {},
   "outputs": [
    {
     "data": {
      "text/plain": [
       "<tf.Tensor: shape=(), dtype=float64, numpy=50.125>"
      ]
     },
     "execution_count": 50,
     "metadata": {},
     "output_type": "execute_result"
    }
   ],
   "source": [
    "tf.keras.losses.MeanSquaredError()(a,b)"
   ]
  },
  {
   "cell_type": "code",
   "execution_count": null,
   "id": "exceptional-rebound",
   "metadata": {},
   "outputs": [],
   "source": []
  }
 ],
 "metadata": {
  "kernelspec": {
   "display_name": "Python 3",
   "language": "python",
   "name": "python3"
  },
  "language_info": {
   "codemirror_mode": {
    "name": "ipython",
    "version": 3
   },
   "file_extension": ".py",
   "mimetype": "text/x-python",
   "name": "python",
   "nbconvert_exporter": "python",
   "pygments_lexer": "ipython3",
   "version": "3.6.9"
  }
 },
 "nbformat": 4,
 "nbformat_minor": 5
}
