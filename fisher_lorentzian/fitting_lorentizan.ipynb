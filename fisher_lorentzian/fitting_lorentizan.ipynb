{
 "cells": [
  {
   "cell_type": "code",
   "execution_count": 1,
   "id": "eleven-ribbon",
   "metadata": {},
   "outputs": [
    {
     "data": {
      "text/html": [
       "<style>.container { width:100% !important; }</style>"
      ],
      "text/plain": [
       "<IPython.core.display.HTML object>"
      ]
     },
     "metadata": {},
     "output_type": "display_data"
    }
   ],
   "source": [
    "%load_ext autoreload\n",
    "%autoreload 2\n",
    "import os \n",
    "os.chdir(\"..\")\n",
    "\n",
    "from IPython.core.display import display, HTML\n",
    "display(HTML(\"<style>.container { width:100% !important; }</style>\"))\n",
    "\n",
    "from numerics.integration.steps import *\n",
    "import numpy as np\n",
    "import matplotlib.pyplot as plt\n",
    "from tqdm import tqdm\n",
    "from numerics.utilities.misc import *\n",
    "from lmfit.models import LorentzianModel"
   ]
  },
  {
   "cell_type": "code",
   "execution_count": 3,
   "id": "6db81877",
   "metadata": {},
   "outputs": [],
   "source": [
    "params = give_def_params()\n",
    "params, exp_path = check_params(params)\n",
    "[eta, gamma, kappa, omega, n] = params\n",
    "\n",
    "train_id = 0\n",
    "periods = 10\n",
    "ppp = 1000\n",
    "itraj = 1\n",
    "rppp_reference = 1\n",
    "method=\"rossler\"\n",
    "dt = (2*np.pi/(omega*ppp))"
   ]
  },
  {
   "cell_type": "markdown",
   "id": "6b48b92c",
   "metadata": {},
   "source": [
    "loop over all trajs.."
   ]
  },
  {
   "cell_type": "code",
   "execution_count": 4,
   "id": "2c59021b",
   "metadata": {},
   "outputs": [],
   "source": [
    "def fit_lorentzian(signals):\n",
    "    Period = 2*np.pi/omega\n",
    "    spectra_signal = np.abs(np.fft.fft(signals[:,0]))**2\n",
    "    freqs_signal = np.fft.fftfreq(n = len(spectra_signal), d= Period/ppp)*(2*np.pi)\n",
    "\n",
    "    cutoff = 10*omega \n",
    "    cond  = np.logical_and(freqs_signal < cutoff, freqs_signal>=0)\n",
    "    spectra_signal = spectra_signal[cond]\n",
    "    freqs_signal = freqs_signal[cond]\n",
    "\n",
    "    mod = LorentzianModel()\n",
    "\n",
    "    pars = mod.guess(spectra_signal, x=freqs_signal)\n",
    "    out = mod.fit(spectra_signal, pars, x=freqs_signal)\n",
    "    \n",
    "    return out.values[\"center\"]\n"
   ]
  },
  {
   "cell_type": "code",
   "execution_count": 5,
   "id": "particular-intellectual",
   "metadata": {},
   "outputs": [
    {
     "name": "stderr",
     "output_type": "stream",
     "text": [
      "100%|█████████████████████████████████████████████████████████████████████████████████████████████████████████████████████████████████████████████████████████████████████████████████████████████████████████████████████████████████████████████| 9999/9999 [27:17<00:00,  6.11it/s]\n"
     ]
    }
   ],
   "source": [
    "params = give_def_params()\n",
    "params, exp_path = check_params(params)\n",
    "[eta, gamma, kappa, omega, n] = params\n",
    "\n",
    "train_id = 0\n",
    "periods = 10\n",
    "ppp = 1000\n",
    "itraj = 1\n",
    "rppp_reference = 1\n",
    "method=\"rossler\"\n",
    "\n",
    "\n",
    "fits = []\n",
    "for itraj in tqdm(range(1,10000)):\n",
    "    try:\n",
    "        \n",
    "        states, covs, signals, params, times, u_th, covs_th = load_data(ppp=ppp, periods=periods, \n",
    "                                                         method=method, itraj=itraj, exp_path=exp_path , rppp = rppp_reference)\n",
    "        fits.append(fit_lorentzian(signals))    \n",
    "    except Exception:\n",
    "        pass"
   ]
  },
  {
   "cell_type": "code",
   "execution_count": 6,
   "id": "3167285a",
   "metadata": {},
   "outputs": [],
   "source": [
    "os.makedirs(\"fisher_lorentzian/fits_statistics\")\n",
    "with open(\"fisher_lorentzian/fits_statistics/results_trajs_{}.txt\".format(len(fits)),\"w\") as f:\n",
    "    f.write(str((np.mean(fits),np.std(fits))))\n",
    "    f.close()"
   ]
  },
  {
   "cell_type": "code",
   "execution_count": null,
   "id": "8ba9a576",
   "metadata": {},
   "outputs": [],
   "source": []
  }
 ],
 "metadata": {
  "kernelspec": {
   "display_name": "Python 3 (ipykernel)",
   "language": "python",
   "name": "python3"
  },
  "language_info": {
   "codemirror_mode": {
    "name": "ipython",
    "version": 3
   },
   "file_extension": ".py",
   "mimetype": "text/x-python",
   "name": "python",
   "nbconvert_exporter": "python",
   "pygments_lexer": "ipython3",
   "version": "3.9.7"
  }
 },
 "nbformat": 4,
 "nbformat_minor": 5
}
