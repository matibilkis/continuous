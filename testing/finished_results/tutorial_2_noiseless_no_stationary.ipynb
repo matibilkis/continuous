{
 "cells": [
  {
   "cell_type": "markdown",
   "id": "0a2266e5",
   "metadata": {},
   "source": [
    "This is a noise-less trajectory, beggining with initial state stationary"
   ]
  },
  {
   "cell_type": "code",
   "execution_count": 1,
   "id": "b691ede8",
   "metadata": {},
   "outputs": [
    {
     "name": "stderr",
     "output_type": "stream",
     "text": [
      "/tmp/ipykernel_9642/3685532613.py:1: DeprecationWarning: Importing display from IPython.core.display is deprecated since IPython 7.14, please import from IPython display\n",
      "  from IPython.core.display import display, HTML\n"
     ]
    },
    {
     "data": {
      "text/html": [
       "<style>.container {width:90% !important;</style>"
      ],
      "text/plain": [
       "<IPython.core.display.HTML object>"
      ]
     },
     "metadata": {},
     "output_type": "display_data"
    },
    {
     "name": "stderr",
     "output_type": "stream",
     "text": [
      "2022-05-16 23:10:43.892790: I tensorflow/stream_executor/cuda/cuda_gpu_executor.cc:936] successful NUMA node read from SysFS had negative value (-1), but there must be at least one NUMA node, so returning NUMA node zero\n",
      "2022-05-16 23:10:43.914604: I tensorflow/stream_executor/cuda/cuda_gpu_executor.cc:936] successful NUMA node read from SysFS had negative value (-1), but there must be at least one NUMA node, so returning NUMA node zero\n",
      "2022-05-16 23:10:43.914708: I tensorflow/stream_executor/cuda/cuda_gpu_executor.cc:936] successful NUMA node read from SysFS had negative value (-1), but there must be at least one NUMA node, so returning NUMA node zero\n"
     ]
    }
   ],
   "source": [
    "from IPython.core.display import display, HTML\n",
    "display(HTML(\"<style>.container {width:90% !important;</style>\"))\n",
    "import os \n",
    "os.chdir(\"..\")\n",
    "%load_ext autoreload\n",
    "%autoreload 2\n",
    "from tqdm import tqdm\n",
    "from numerics.integration.matrices import *\n",
    "from numerics.utilities.misc import *\n",
    "import tensorflow as tf\n",
    "from numerics.machine_learning.models import * \n",
    "import matplotlib.pyplot as plt\n",
    "physical_devices = tf.config.list_physical_devices('GPU') \n",
    "for device in physical_devices:\n",
    "    tf.config.experimental.set_memory_growth(device, True)\n"
   ]
  },
  {
   "cell_type": "code",
   "execution_count": 2,
   "id": "46b29494",
   "metadata": {},
   "outputs": [
    {
     "name": "stderr",
     "output_type": "stream",
     "text": [
      "2022-05-16 23:10:43.943037: I tensorflow/core/platform/cpu_feature_guard.cc:151] This TensorFlow binary is optimized with oneAPI Deep Neural Network Library (oneDNN) to use the following CPU instructions in performance-critical operations:  AVX2 FMA\n",
      "To enable them in other operations, rebuild TensorFlow with the appropriate compiler flags.\n",
      "2022-05-16 23:10:43.944003: I tensorflow/stream_executor/cuda/cuda_gpu_executor.cc:936] successful NUMA node read from SysFS had negative value (-1), but there must be at least one NUMA node, so returning NUMA node zero\n",
      "2022-05-16 23:10:43.944136: I tensorflow/stream_executor/cuda/cuda_gpu_executor.cc:936] successful NUMA node read from SysFS had negative value (-1), but there must be at least one NUMA node, so returning NUMA node zero\n",
      "2022-05-16 23:10:43.944207: I tensorflow/stream_executor/cuda/cuda_gpu_executor.cc:936] successful NUMA node read from SysFS had negative value (-1), but there must be at least one NUMA node, so returning NUMA node zero\n",
      "2022-05-16 23:10:44.290747: I tensorflow/stream_executor/cuda/cuda_gpu_executor.cc:936] successful NUMA node read from SysFS had negative value (-1), but there must be at least one NUMA node, so returning NUMA node zero\n",
      "2022-05-16 23:10:44.290855: I tensorflow/stream_executor/cuda/cuda_gpu_executor.cc:936] successful NUMA node read from SysFS had negative value (-1), but there must be at least one NUMA node, so returning NUMA node zero\n",
      "2022-05-16 23:10:44.290933: I tensorflow/stream_executor/cuda/cuda_gpu_executor.cc:936] successful NUMA node read from SysFS had negative value (-1), but there must be at least one NUMA node, so returning NUMA node zero\n",
      "2022-05-16 23:10:44.291008: I tensorflow/core/common_runtime/gpu/gpu_device.cc:1525] Created device /job:localhost/replica:0/task:0/device:GPU:0 with 21721 MB memory:  -> device: 0, name: NVIDIA GeForce RTX 3090, pci bus id: 0000:01:00.0, compute capability: 8.6\n"
     ]
    }
   ],
   "source": [
    "params, exp_path = def_params()\n",
    "total_time = 2500.\n",
    "dt = 1e-1\n",
    "states_si, dys_si = load(itraj=1, exp_path=exp_path, total_time=total_time, dt=dt, ext_signal=1)\n",
    "\n",
    "times = get_time(total_time,dt).astype(np.float32)\n",
    "dd = tf.unstack(dys_si.astype(np.float32),axis=1)\n",
    "\n",
    "tfsignals = tf.stack([times[:-1],dd[0], dd[1]])\n",
    "tfsignals = tf.transpose(tfsignals)[tf.newaxis]"
   ]
  },
  {
   "cell_type": "code",
   "execution_count": 3,
   "id": "5d1b41c4",
   "metadata": {},
   "outputs": [],
   "source": [
    "params, exp_path = def_params()\n",
    "\n",
    "initial_parameters = np.array([1., 2*np.pi/10]).astype(np.float32)\n",
    "true_parameters = np.array([10., 2*np.pi/10]).astype(np.float32)\n",
    "\n",
    "\n",
    "A, D , E, B  = genoni_matrices(*params)\n",
    "xicov, covss = genoni_xi_cov(A,D, E, B ,params, stat=True)\n",
    "\n",
    "BS = 1#len(tfsignals[0])\n",
    "batch_shape = [BS, None, 3]\n",
    "model = Model(params=params, dt=dt, initial_parameters=initial_parameters,\n",
    "              true_parameters=true_parameters, initial_states = np.zeros((1,5)).astype(np.float32),\n",
    "              cov_in=covss, batch_size=tuple([None,None,3]))#tuple(batch_shape))\n",
    "model.recurrent_layer.build(tf.TensorShape(batch_shape))\n",
    "model.compile(optimizer=tf.keras.optimizers.Adam(learning_rate=1e-2))"
   ]
  },
  {
   "cell_type": "code",
   "execution_count": 4,
   "id": "5962bf1f",
   "metadata": {},
   "outputs": [],
   "source": [
    "spp = tf.split(tfsignals, 5000, axis=1)"
   ]
  },
  {
   "cell_type": "code",
   "execution_count": 5,
   "id": "25e6b532",
   "metadata": {},
   "outputs": [],
   "source": [
    "n_epochs = 100"
   ]
  },
  {
   "cell_type": "code",
   "execution_count": 6,
   "id": "f3438c31",
   "metadata": {},
   "outputs": [
    {
     "name": "stderr",
     "output_type": "stream",
     "text": [
      "2022-05-16 23:10:48.071485: I tensorflow/stream_executor/cuda/cuda_blas.cc:1786] TensorFloat-32 will be used for the matrix multiplication. This will only be logged once.\n"
     ]
    },
    {
     "name": "stdout",
     "output_type": "stream",
     "text": [
      "\r",
      " EPOCH 0/100   loss:3.439026841078885e-11    params[9.999991   0.62831855]    grads[-7.056134e-07  0.000000e+00]"
     ]
    }
   ],
   "source": [
    "cc = []\n",
    "for epoch in range(n_epochs):\n",
    "    model.reset_states()  \n",
    "    for k in spp:\n",
    "        bb = model.train_step((k,k))\n",
    "        cc+=[bb]\n",
    "    loss =  np.squeeze(bb[\"LOSS\"].numpy())\n",
    "    print(\"\\r EPOCH {}/{}   loss:{}    params{}    grads{}\".format(epoch, n_epochs,loss, np.squeeze(bb[\"PARAMS\"].numpy()), np.squeeze(bb[\"GRADS\"].numpy())),end=\"\")\n",
    "    if loss<1e-10:\n",
    "        break"
   ]
  },
  {
   "cell_type": "code",
   "execution_count": 7,
   "id": "10c75327",
   "metadata": {},
   "outputs": [
    {
     "data": {
      "text/plain": [
       "array([[0., 0., 0., 0., 0., 0.]])"
      ]
     },
     "execution_count": 7,
     "metadata": {},
     "output_type": "execute_result"
    }
   ],
   "source": [
    "np.zeros((1,6))"
   ]
  },
  {
   "cell_type": "code",
   "execution_count": 8,
   "id": "99baefd2",
   "metadata": {},
   "outputs": [
    {
     "data": {
      "text/plain": [
       "[]"
      ]
     },
     "execution_count": 8,
     "metadata": {},
     "output_type": "execute_result"
    },
    {
     "data": {
      "image/png": "[encoded data removed]",
      "text/plain": [
       "<Figure size 432x288 with 1 Axes>"
      ]
     },
     "metadata": {
      "needs_background": "light"
     },
     "output_type": "display_data"
    }
   ],
   "source": [
    "plt.plot(np.squeeze([cc[k][\"LOSS\"] for k in range(len(cc))]))\n",
    "plt.loglog()"
   ]
  },
  {
   "cell_type": "code",
   "execution_count": 9,
   "id": "7a84a403",
   "metadata": {},
   "outputs": [
    {
     "data": {
      "text/plain": [
       "[<matplotlib.lines.Line2D at 0x7ffa40295270>,\n",
       " <matplotlib.lines.Line2D at 0x7ffa402952a0>]"
      ]
     },
     "execution_count": 9,
     "metadata": {},
     "output_type": "execute_result"
    },
    {
     "data": {
      "image/png": "[encoded data removed]",
      "text/plain": [
       "<Figure size 432x288 with 1 Axes>"
      ]
     },
     "metadata": {
      "needs_background": "light"
     },
     "output_type": "display_data"
    }
   ],
   "source": [
    "plt.plot(np.squeeze([cc[k][\"PARAMS\"] for k in range(len(cc))]))"
   ]
  },
  {
   "cell_type": "code",
   "execution_count": 14,
   "id": "3eeed284",
   "metadata": {},
   "outputs": [
    {
     "data": {
      "text/plain": [
       "[<tf.Variable 'Variable:0' shape=(1, 5) dtype=float32, numpy=array([[19.99998, 19.99998,  0.     ,  0.     ,  0.     ]], dtype=float32)>]"
      ]
     },
     "execution_count": 14,
     "metadata": {},
     "output_type": "execute_result"
    }
   ],
   "source": [
    "model.recurrent_layer.states"
   ]
  },
  {
   "cell_type": "code",
   "execution_count": 18,
   "id": "23057028",
   "metadata": {},
   "outputs": [],
   "source": [
    "preds = model.predict(tfsignals)"
   ]
  },
  {
   "cell_type": "code",
   "execution_count": 17,
   "id": "243efc9a",
   "metadata": {},
   "outputs": [
    {
     "data": {
      "text/plain": [
       "<tf.Tensor: shape=(1, 5), dtype=float32, numpy=array([[0., 0., 0., 0., 0.]], dtype=float32)>"
      ]
     },
     "execution_count": 17,
     "metadata": {},
     "output_type": "execute_result"
    }
   ],
   "source": [
    "model.reset_states()"
   ]
  },
  {
   "cell_type": "code",
   "execution_count": 26,
   "id": "eca78032",
   "metadata": {},
   "outputs": [
    {
     "data": {
      "text/plain": [
       "[<matplotlib.lines.Line2D at 0x7ff8dd07ac50>]"
      ]
     },
     "execution_count": 26,
     "metadata": {},
     "output_type": "execute_result"
    },
    {
     "data": {
      "image/png": "[encoded data removed]",
      "text/plain": [
       "<Figure size 432x288 with 1 Axes>"
      ]
     },
     "metadata": {
      "needs_background": "light"
     },
     "output_type": "display_data"
    }
   ],
   "source": [
    "plt.plot(np.squeeze(preds)[:,0])\n",
    "plt.plot(tfsignals[0][:,1])"
   ]
  },
  {
   "cell_type": "code",
   "execution_count": null,
   "id": "298ff069",
   "metadata": {},
   "outputs": [],
   "source": []
  }
 ],
 "metadata": {
  "kernelspec": {
   "display_name": "Python 3 (ipykernel)",
   "language": "python",
   "name": "python3"
  },
  "language_info": {
   "codemirror_mode": {
    "name": "ipython",
    "version": 3
   },
   "file_extension": ".py",
   "mimetype": "text/x-python",
   "name": "python",
   "nbconvert_exporter": "python",
   "pygments_lexer": "ipython3",
   "version": "3.10.4"
  }
 },
 "nbformat": 4,
 "nbformat_minor": 5
}
