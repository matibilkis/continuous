{
 "cells": [
  {
   "cell_type": "markdown",
   "id": "0a2266e5",
   "metadata": {},
   "source": [
    "This is a noise-less trajectory, beggining with initial state stationary"
   ]
  },
  {
   "cell_type": "code",
   "execution_count": 3,
   "id": "b691ede8",
   "metadata": {},
   "outputs": [
    {
     "name": "stderr",
     "output_type": "stream",
     "text": [
      "/tmp/ipykernel_4738/2984223652.py:1: DeprecationWarning: Importing display from IPython.core.display is deprecated since IPython 7.14, please import from IPython display\n",
      "  from IPython.core.display import display, HTML\n"
     ]
    },
    {
     "data": {
      "text/html": [
       "<style>.container {width:90% !important;</style>"
      ],
      "text/plain": [
       "<IPython.core.display.HTML object>"
      ]
     },
     "metadata": {},
     "output_type": "display_data"
    },
    {
     "name": "stdout",
     "output_type": "stream",
     "text": [
      "The autoreload extension is already loaded. To reload it, use:\n",
      "  %reload_ext autoreload\n"
     ]
    }
   ],
   "source": [
    "from IPython.core.display import display, HTML\n",
    "display(HTML(\"<style>.container {width:90% !important;</style>\"))\n",
    "import os \n",
    "os.chdir(\"..\")\n",
    "%load_ext autoreload\n",
    "%autoreload 2\n",
    "from tqdm import tqdm\n",
    "from numerics.integration.matrices import *\n",
    "from numerics.utilities.misc import *\n",
    "import tensorflow as tf\n",
    "from numerics.machine_learning.models import * \n",
    "import matplotlib.pyplot as plt\n",
    "physical_devices = tf.config.list_physical_devices('GPU') \n",
    "for device in physical_devices:\n",
    "    tf.config.experimental.set_memory_growth(device, True)\n"
   ]
  },
  {
   "cell_type": "code",
   "execution_count": 69,
   "id": "46b29494",
   "metadata": {},
   "outputs": [],
   "source": [
    "params, exp_path = def_params()\n",
    "total_time = 2500.\n",
    "dt = 1e-1\n",
    "states_si, dys_si = load(itraj=1, exp_path=exp_path, total_time=total_time, dt=dt, ext_signal=1)\n",
    "\n",
    "times = get_time(total_time,dt).astype(np.float32)\n",
    "dd = tf.unstack(dys_si.astype(np.float32),axis=1)\n",
    "\n",
    "tfsignals = tf.stack([times[:-1],dd[0], dd[1]])\n",
    "tfsignals = tf.transpose(tfsignals)[tf.newaxis]"
   ]
  },
  {
   "cell_type": "code",
   "execution_count": 70,
   "id": "5d1b41c4",
   "metadata": {},
   "outputs": [],
   "source": [
    "params, exp_path = def_params()\n",
    "\n",
    "initial_parameters = np.array([1., 2*np.pi/10]).astype(np.float32)\n",
    "true_parameters = np.array([10., 2*np.pi/10]).astype(np.float32)\n",
    "\n",
    "\n",
    "A, D , E, B  = genoni_matrices(*params)\n",
    "xicov, covss = genoni_xi_cov(A,D, E, B ,params, stat=True)\n",
    "\n",
    "BS = 1#len(tfsignals[0])\n",
    "batch_shape = [BS, None, 3]\n",
    "model = Model(params=params, dt=dt, initial_parameters=initial_parameters,\n",
    "              true_parameters=true_parameters, cov_in=covss, batch_size=tuple([None,None,3]))#tuple(batch_shape))\n",
    "model.recurrent_layer.build(tf.TensorShape(batch_shape))\n",
    "model.compile(optimizer=tf.keras.optimizers.Adam(learning_rate=1e-2))"
   ]
  },
  {
   "cell_type": "code",
   "execution_count": 72,
   "id": "5962bf1f",
   "metadata": {},
   "outputs": [],
   "source": [
    "spp = tf.split(tfsignals, 5000, axis=1)"
   ]
  },
  {
   "cell_type": "code",
   "execution_count": 73,
   "id": "25e6b532",
   "metadata": {},
   "outputs": [],
   "source": [
    "n_epochs = 100"
   ]
  },
  {
   "cell_type": "code",
   "execution_count": 74,
   "id": "f3438c31",
   "metadata": {},
   "outputs": [
    {
     "name": "stdout",
     "output_type": "stream",
     "text": [
      "\r",
      " EPOCH 0/100   loss:3.439026841078885e-11    params[9.999991   0.62831855]    grads[-7.056134e-07  0.000000e+00]"
     ]
    }
   ],
   "source": [
    "cc = []\n",
    "for epoch in range(n_epochs):\n",
    "    model.reset_states()  \n",
    "    for k in spp:\n",
    "        bb = model.train_step((k,k))\n",
    "        cc+=[bb]\n",
    "    loss =  np.squeeze(bb[\"LOSS\"].numpy())\n",
    "    print(\"\\r EPOCH {}/{}   loss:{}    params{}    grads{}\".format(epoch, n_epochs,loss, np.squeeze(bb[\"PARAMS\"].numpy()), np.squeeze(bb[\"GRADS\"].numpy())),end=\"\")\n",
    "    if loss<1e-10:\n",
    "        break"
   ]
  },
  {
   "cell_type": "code",
   "execution_count": 75,
   "id": "99baefd2",
   "metadata": {},
   "outputs": [
    {
     "data": {
      "text/plain": [
       "[]"
      ]
     },
     "execution_count": 75,
     "metadata": {},
     "output_type": "execute_result"
    },
    {
     "data": {
      "image/png": "[encoded data removed]",
      "text/plain": [
       "<Figure size 432x288 with 1 Axes>"
      ]
     },
     "metadata": {
      "needs_background": "light"
     },
     "output_type": "display_data"
    }
   ],
   "source": [
    "plt.plot(np.squeeze([cc[k][\"LOSS\"] for k in range(len(cc))]))\n",
    "plt.loglog()"
   ]
  },
  {
   "cell_type": "code",
   "execution_count": 76,
   "id": "edcbf544",
   "metadata": {},
   "outputs": [
    {
     "data": {
      "text/plain": [
       "[<matplotlib.lines.Line2D at 0x7fdde81f6b60>,\n",
       " <matplotlib.lines.Line2D at 0x7fdde81f6bc0>]"
      ]
     },
     "execution_count": 76,
     "metadata": {},
     "output_type": "execute_result"
    },
    {
     "data": {
      "image/png": "[encoded data removed]",
      "text/plain": [
       "<Figure size 432x288 with 1 Axes>"
      ]
     },
     "metadata": {
      "needs_background": "light"
     },
     "output_type": "display_data"
    }
   ],
   "source": [
    "plt.plot(np.squeeze([cc[k][\"PARAMS\"] for k in range(len(cc))]))"
   ]
  }
 ],
 "metadata": {
  "kernelspec": {
   "display_name": "Python 3 (ipykernel)",
   "language": "python",
   "name": "python3"
  },
  "language_info": {
   "codemirror_mode": {
    "name": "ipython",
    "version": 3
   },
   "file_extension": ".py",
   "mimetype": "text/x-python",
   "name": "python",
   "nbconvert_exporter": "python",
   "pygments_lexer": "ipython3",
   "version": "3.10.4"
  }
 },
 "nbformat": 4,
 "nbformat_minor": 5
}
