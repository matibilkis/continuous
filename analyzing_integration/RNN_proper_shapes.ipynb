{
 "cells": [
  {
   "cell_type": "code",
   "execution_count": 1,
   "id": "84b7bb3c",
   "metadata": {},
   "outputs": [],
   "source": [
    "import os\n",
    "os.environ[\"CUDA_DEVICE_ORDER\"]=\"PCI_BUS_ID\"\n",
    "os.environ[\"CUDA_VISIBLE_DEVICES\"]=\"0,2,3,4\"\n"
   ]
  },
  {
   "cell_type": "code",
   "execution_count": 4,
   "id": "surprised-richmond",
   "metadata": {},
   "outputs": [],
   "source": [
    "from IPython.core.display import display, HTML\n",
    "\n",
    "import numpy as np\n",
    "means = np.load(\"data/means.npy\").astype(np.float32)\n",
    "covs = np.load(\"data/covs.npy\").astype(np.float32)\n",
    "xicovs = np.load(\"data/xicovs.npy\").astype(np.float32)\n",
    "signals = np.load(\"data/signals.npy\").astype(np.float32)\n",
    "A = np.load(\"data/A.npy\").astype(np.float32)\n",
    "dt = np.load(\"data/dt.npy\")[0]\n",
    "C = np.load(\"data/C.npy\").astype(np.float32)\n",
    "D = np.load(\"data/D.npy\").astype(np.float32)\n",
    "\n",
    "coeffs = [C, A, D , dt]\n",
    "\n",
    "\n",
    "\n",
    "from scipy.stats import norm\n",
    "import matplotlib.pyplot as plt\n",
    "from tqdm import tqdm\n",
    "from misc import *\n",
    "import tensorflow as tf \n",
    "\n",
    "tfsignals = tf.convert_to_tensor(signals)\n",
    "tfxicovs = tf.convert_to_tensor(xicovs)[:-1]\n"
   ]
  },
  {
   "cell_type": "code",
   "execution_count": 3,
   "id": "1fc09802",
   "metadata": {},
   "outputs": [],
   "source": [
    "import os\n",
    "os.environ['TF_CPP_MIN_LOG_LEVEL'] = '2'\n",
    "os.environ[\"CUDA_DEVICE_ORDER\"]=\"PCI_BUS_ID\"   # see issue #152\n",
    "os.environ[\"CUDA_VISIBLE_DEVICES\"]=\"0\""
   ]
  },
  {
   "cell_type": "code",
   "execution_count": 8,
   "id": "ca4f52f9",
   "metadata": {},
   "outputs": [],
   "source": [
    "import tensorflow as tf\n"
   ]
  },
  {
   "cell_type": "code",
   "execution_count": 5,
   "id": "ba893b64",
   "metadata": {},
   "outputs": [
    {
     "data": {
      "text/plain": [
       "[PhysicalDevice(name='/physical_device:CPU:0', device_type='CPU')]"
      ]
     },
     "execution_count": 5,
     "metadata": {},
     "output_type": "execute_result"
    }
   ],
   "source": [
    "tf.config.list_physical_devices()"
   ]
  },
  {
   "cell_type": "code",
   "execution_count": 22,
   "id": "equal-issue",
   "metadata": {},
   "outputs": [],
   "source": [
    "batched_signals = tf.stack(tf.split(tfsignals, 10)) \n",
    "batched_xicovs  = tf.stack(tf.split(tfxicovs, 10))\n",
    "\n",
    "inputs = (batched_xicovs, batched_signals)"
   ]
  },
  {
   "cell_type": "code",
   "execution_count": 23,
   "id": "smaller-designation",
   "metadata": {},
   "outputs": [
    {
     "name": "stderr",
     "output_type": "stream",
     "text": [
      "/home/matias/.local/lib/python3.9/site-packages/keras/optimizer_v2/adam.py:105: UserWarning: The `lr` argument is deprecated, use `learning_rate` instead.\n",
      "  super(Adam, self).__init__(name, **kwargs)\n",
      "/home/matias/.local/lib/python3.9/site-packages/keras/engine/training.py:1841: UserWarning: Metric Metrica implements a `reset_states()` method; rename it to `reset_state()` (without the final \"s\"). The name `reset_states()` has been deprecated to improve API consistency.\n",
      "  m.reset_state()\n"
     ]
    },
    {
     "name": "stdout",
     "output_type": "stream",
     "text": [
      "Epoch 1/100\n",
      "WARNING:tensorflow:Gradients do not exist for variables ['rec_model/rnn/stacked_rnn_cells/minimal_rnn_cell/recurrent_kernel:0'] when minimizing the loss. If you're using `model.compile()`, did you forget to provide a `loss`argument?\n",
      "WARNING:tensorflow:Gradients do not exist for variables ['rec_model/rnn/stacked_rnn_cells/minimal_rnn_cell/recurrent_kernel:0'] when minimizing the loss. If you're using `model.compile()`, did you forget to provide a `loss`argument?\n",
      "1/1 [==============================] - 1s 734ms/step - total_loss: 5.0614e-04\n",
      "Epoch 2/100\n",
      "1/1 [==============================] - 0s 217ms/step - total_loss: 5.0592e-04\n",
      "Epoch 3/100\n",
      "1/1 [==============================] - 0s 209ms/step - total_loss: 5.0571e-04\n",
      "Epoch 4/100\n",
      "1/1 [==============================] - 0s 222ms/step - total_loss: 5.0553e-04\n",
      "Epoch 5/100\n",
      "1/1 [==============================] - 0s 221ms/step - total_loss: 5.0540e-04\n",
      "Epoch 6/100\n",
      "1/1 [==============================] - 0s 213ms/step - total_loss: 5.0531e-04\n",
      "Epoch 7/100\n",
      "1/1 [==============================] - 0s 220ms/step - total_loss: 5.0525e-04\n",
      "Epoch 8/100\n",
      "1/1 [==============================] - 0s 221ms/step - total_loss: 5.0521e-04\n",
      "Epoch 9/100\n",
      "1/1 [==============================] - 0s 198ms/step - total_loss: 5.0517e-04\n",
      "Epoch 10/100\n",
      "1/1 [==============================] - 0s 234ms/step - total_loss: 5.0512e-04\n",
      "Epoch 11/100\n",
      "1/1 [==============================] - 0s 212ms/step - total_loss: 5.0505e-04\n",
      "Epoch 12/100\n",
      "1/1 [==============================] - 0s 224ms/step - total_loss: 5.0498e-04\n",
      "Epoch 13/100\n",
      "1/1 [==============================] - 0s 213ms/step - total_loss: 5.0491e-04\n",
      "Epoch 14/100\n",
      "1/1 [==============================] - 0s 222ms/step - total_loss: 5.0485e-04\n",
      "Epoch 15/100\n",
      "1/1 [==============================] - 0s 218ms/step - total_loss: 5.0479e-04\n",
      "Epoch 16/100\n",
      "1/1 [==============================] - 0s 224ms/step - total_loss: 5.0475e-04\n",
      "Epoch 17/100\n",
      "1/1 [==============================] - 0s 235ms/step - total_loss: 5.0473e-04\n",
      "Epoch 18/100\n",
      "1/1 [==============================] - 0s 211ms/step - total_loss: 5.0471e-04\n",
      "Epoch 19/100\n",
      "1/1 [==============================] - 0s 209ms/step - total_loss: 5.0471e-04\n",
      "Epoch 20/100\n",
      "1/1 [==============================] - 0s 238ms/step - total_loss: 5.0470e-04\n",
      "Epoch 21/100\n",
      "1/1 [==============================] - 0s 221ms/step - total_loss: 5.0470e-04\n",
      "Epoch 22/100\n",
      "1/1 [==============================] - 0s 211ms/step - total_loss: 5.0470e-04\n",
      "Epoch 23/100\n",
      "1/1 [==============================] - 0s 215ms/step - total_loss: 5.0469e-04\n",
      "Epoch 24/100\n",
      "1/1 [==============================] - 0s 222ms/step - total_loss: 5.0469e-04\n",
      "Epoch 25/100\n",
      "1/1 [==============================] - 0s 217ms/step - total_loss: 5.0469e-04\n",
      "Epoch 26/100\n",
      "1/1 [==============================] - 0s 194ms/step - total_loss: 5.0469e-04\n",
      "Epoch 27/100\n",
      "1/1 [==============================] - 0s 217ms/step - total_loss: 5.0469e-04\n",
      "Epoch 28/100\n",
      "1/1 [==============================] - 0s 199ms/step - total_loss: 5.0469e-04\n",
      "Epoch 29/100\n",
      "1/1 [==============================] - 0s 221ms/step - total_loss: 5.0470e-04\n",
      "Epoch 30/100\n",
      "1/1 [==============================] - 0s 229ms/step - total_loss: 5.0470e-04\n",
      "Epoch 31/100\n",
      "1/1 [==============================] - 0s 220ms/step - total_loss: 5.0471e-04\n",
      "Epoch 32/100\n",
      "1/1 [==============================] - 0s 208ms/step - total_loss: 5.0471e-04\n",
      "Epoch 33/100\n",
      "1/1 [==============================] - 0s 222ms/step - total_loss: 5.0471e-04\n",
      "Epoch 34/100\n",
      "1/1 [==============================] - 0s 219ms/step - total_loss: 5.0471e-04\n",
      "Epoch 35/100\n",
      "1/1 [==============================] - 0s 206ms/step - total_loss: 5.0470e-04\n",
      "Epoch 36/100\n",
      "1/1 [==============================] - 0s 224ms/step - total_loss: 5.0470e-04\n",
      "Epoch 37/100\n",
      "1/1 [==============================] - 0s 218ms/step - total_loss: 5.0470e-04\n",
      "Epoch 38/100\n",
      "1/1 [==============================] - 0s 234ms/step - total_loss: 5.0469e-04\n",
      "Epoch 39/100\n",
      "1/1 [==============================] - 0s 213ms/step - total_loss: 5.0469e-04\n",
      "Epoch 40/100\n",
      "1/1 [==============================] - 0s 197ms/step - total_loss: 5.0469e-04\n",
      "Epoch 41/100\n",
      "1/1 [==============================] - 0s 204ms/step - total_loss: 5.0469e-04\n",
      "Epoch 42/100\n",
      "1/1 [==============================] - 0s 215ms/step - total_loss: 5.0469e-04\n",
      "Epoch 43/100\n",
      "1/1 [==============================] - 0s 204ms/step - total_loss: 5.0468e-04\n",
      "Epoch 44/100\n",
      "1/1 [==============================] - 0s 206ms/step - total_loss: 5.0468e-04\n",
      "Epoch 45/100\n",
      "1/1 [==============================] - 0s 238ms/step - total_loss: 5.0468e-04\n",
      "Epoch 46/100\n",
      "1/1 [==============================] - 0s 196ms/step - total_loss: 5.0468e-04\n",
      "Epoch 47/100\n",
      "1/1 [==============================] - 0s 199ms/step - total_loss: 5.0468e-04\n",
      "Epoch 48/100\n",
      "1/1 [==============================] - 0s 235ms/step - total_loss: 5.0468e-04\n",
      "Epoch 49/100\n",
      "1/1 [==============================] - 0s 208ms/step - total_loss: 5.0467e-04\n",
      "Epoch 50/100\n",
      "1/1 [==============================] - 0s 196ms/step - total_loss: 5.0467e-04\n",
      "Epoch 51/100\n",
      "1/1 [==============================] - 0s 203ms/step - total_loss: 5.0467e-04\n",
      "Epoch 52/100\n",
      "1/1 [==============================] - 0s 218ms/step - total_loss: 5.0467e-04\n",
      "Epoch 53/100\n",
      "1/1 [==============================] - 0s 215ms/step - total_loss: 5.0467e-04\n",
      "Epoch 54/100\n",
      "1/1 [==============================] - 0s 213ms/step - total_loss: 5.0467e-04\n",
      "Epoch 55/100\n",
      "1/1 [==============================] - 0s 223ms/step - total_loss: 5.0467e-04\n",
      "Epoch 56/100\n",
      "1/1 [==============================] - 0s 211ms/step - total_loss: 5.0467e-04\n",
      "Epoch 57/100\n",
      "1/1 [==============================] - 0s 221ms/step - total_loss: 5.0467e-04\n",
      "Epoch 58/100\n",
      "1/1 [==============================] - 0s 213ms/step - total_loss: 5.0467e-04\n",
      "Epoch 59/100\n",
      "1/1 [==============================] - 0s 245ms/step - total_loss: 5.0467e-04\n",
      "Epoch 60/100\n",
      "1/1 [==============================] - 0s 248ms/step - total_loss: 5.0467e-04\n",
      "Epoch 61/100\n",
      "1/1 [==============================] - 0s 211ms/step - total_loss: 5.0467e-04\n",
      "Epoch 62/100\n",
      "1/1 [==============================] - 0s 224ms/step - total_loss: 5.0467e-04\n",
      "Epoch 63/100\n",
      "1/1 [==============================] - 0s 230ms/step - total_loss: 5.0467e-04\n",
      "Epoch 64/100\n",
      "1/1 [==============================] - 0s 228ms/step - total_loss: 5.0467e-04\n",
      "Epoch 65/100\n",
      "1/1 [==============================] - 0s 214ms/step - total_loss: 5.0467e-04\n",
      "Epoch 66/100\n",
      "1/1 [==============================] - 0s 215ms/step - total_loss: 5.0467e-04\n",
      "Epoch 67/100\n",
      "1/1 [==============================] - 0s 199ms/step - total_loss: 5.0467e-04\n",
      "Epoch 68/100\n",
      "1/1 [==============================] - 0s 195ms/step - total_loss: 5.0467e-04\n",
      "Epoch 69/100\n",
      "1/1 [==============================] - 0s 222ms/step - total_loss: 5.0467e-04\n",
      "Epoch 70/100\n",
      "1/1 [==============================] - 0s 214ms/step - total_loss: 5.0467e-04\n",
      "Epoch 71/100\n",
      "1/1 [==============================] - 0s 210ms/step - total_loss: 5.0467e-04\n",
      "Epoch 72/100\n",
      "1/1 [==============================] - 0s 211ms/step - total_loss: 5.0467e-04\n",
      "Epoch 73/100\n",
      "1/1 [==============================] - 0s 224ms/step - total_loss: 5.0467e-04\n",
      "Epoch 74/100\n",
      "1/1 [==============================] - 0s 220ms/step - total_loss: 5.0467e-04\n",
      "Epoch 75/100\n",
      "1/1 [==============================] - 0s 224ms/step - total_loss: 5.0467e-04\n",
      "Epoch 76/100\n",
      "1/1 [==============================] - 0s 204ms/step - total_loss: 5.0467e-04\n",
      "Epoch 77/100\n",
      "1/1 [==============================] - 0s 233ms/step - total_loss: 5.0467e-04\n",
      "Epoch 78/100\n",
      "1/1 [==============================] - 0s 212ms/step - total_loss: 5.0467e-04\n",
      "Epoch 79/100\n",
      "1/1 [==============================] - 0s 237ms/step - total_loss: 5.0467e-04\n",
      "Epoch 80/100\n",
      "1/1 [==============================] - 0s 227ms/step - total_loss: 5.0467e-04\n",
      "Epoch 81/100\n",
      "1/1 [==============================] - 0s 205ms/step - total_loss: 5.0467e-04\n",
      "Epoch 82/100\n",
      "1/1 [==============================] - 0s 218ms/step - total_loss: 5.0467e-04\n",
      "Epoch 83/100\n",
      "1/1 [==============================] - 0s 209ms/step - total_loss: 5.0467e-04\n",
      "Epoch 84/100\n",
      "1/1 [==============================] - 0s 230ms/step - total_loss: 5.0467e-04\n",
      "Epoch 85/100\n",
      "1/1 [==============================] - 0s 219ms/step - total_loss: 5.0467e-04\n",
      "Epoch 86/100\n"
     ]
    },
    {
     "name": "stdout",
     "output_type": "stream",
     "text": [
      "1/1 [==============================] - 0s 208ms/step - total_loss: 5.0467e-04\n",
      "Epoch 87/100\n",
      "1/1 [==============================] - 0s 203ms/step - total_loss: 5.0467e-04\n",
      "Epoch 88/100\n",
      "1/1 [==============================] - 0s 228ms/step - total_loss: 5.0467e-04\n",
      "Epoch 89/100\n",
      "1/1 [==============================] - 0s 224ms/step - total_loss: 5.0467e-04\n",
      "Epoch 90/100\n",
      "1/1 [==============================] - 0s 214ms/step - total_loss: 5.0467e-04\n",
      "Epoch 91/100\n",
      "1/1 [==============================] - 0s 214ms/step - total_loss: 5.0467e-04\n",
      "Epoch 92/100\n",
      "1/1 [==============================] - 0s 230ms/step - total_loss: 5.0467e-04\n",
      "Epoch 93/100\n",
      "1/1 [==============================] - 0s 227ms/step - total_loss: 5.0467e-04\n",
      "Epoch 94/100\n",
      "1/1 [==============================] - 0s 232ms/step - total_loss: 5.0467e-04\n",
      "Epoch 95/100\n",
      "1/1 [==============================] - 0s 211ms/step - total_loss: 5.0467e-04\n",
      "Epoch 96/100\n",
      "1/1 [==============================] - 0s 212ms/step - total_loss: 5.0467e-04\n",
      "Epoch 97/100\n",
      "1/1 [==============================] - 0s 233ms/step - total_loss: 5.0467e-04\n",
      "Epoch 98/100\n",
      "1/1 [==============================] - 0s 215ms/step - total_loss: 5.0467e-04\n",
      "Epoch 99/100\n",
      "1/1 [==============================] - 0s 205ms/step - total_loss: 5.0467e-04\n",
      "Epoch 100/100\n",
      "1/1 [==============================] - 0s 230ms/step - total_loss: 5.0467e-04\n"
     ]
    },
    {
     "data": {
      "text/plain": [
       "<keras.callbacks.History at 0x7f088849c880>"
      ]
     },
     "execution_count": 23,
     "metadata": {},
     "output_type": "execute_result"
    }
   ],
   "source": [
    "from RNN_models import *\n",
    "\n",
    "model = RecModel(coeffs, batch_size=len(batched_signals))\n",
    "model.compile(optimizer=tf.keras.optimizers.Adam(lr=0.1))\n",
    "\n",
    "model.fit(x=inputs, y=batched_signals, epochs=100, batch_size=model.batch_size)"
   ]
  },
  {
   "cell_type": "code",
   "execution_count": 25,
   "id": "applicable-demographic",
   "metadata": {},
   "outputs": [
    {
     "data": {
      "text/plain": [
       "[<tf.Variable 'rec_model/rnn/stacked_rnn_cells/minimal_rnn_cell/kernel:0' shape=(2, 2) dtype=float32, numpy=\n",
       " array([[ 0.1792006 ,  1.0316011 ],\n",
       "        [-0.19924954,  0.30155066]], dtype=float32)>,\n",
       " <tf.Variable 'rec_model/rnn/stacked_rnn_cells/minimal_rnn_cell/recurrent_kernel:0' shape=(2, 2) dtype=float32, numpy=\n",
       " array([[-0.04651369,  0.03144619],\n",
       "        [ 0.02611082, -0.00654482]], dtype=float32)>]"
      ]
     },
     "execution_count": 25,
     "metadata": {},
     "output_type": "execute_result"
    }
   ],
   "source": [
    "model.trainable_variables"
   ]
  },
  {
   "cell_type": "code",
   "execution_count": 26,
   "id": "automatic-philip",
   "metadata": {},
   "outputs": [
    {
     "data": {
      "text/plain": [
       "array([[ 0.  ,  1.  ],\n",
       "       [-0.16,  0.  ]], dtype=float32)"
      ]
     },
     "execution_count": 26,
     "metadata": {},
     "output_type": "execute_result"
    }
   ],
   "source": [
    "model.A"
   ]
  },
  {
   "cell_type": "code",
   "execution_count": 27,
   "id": "prerequisite-bearing",
   "metadata": {},
   "outputs": [],
   "source": [
    "series = ( tfxicovs[tf.newaxis,:10000,:,:], tfsignals[tf.newaxis,:10000,:] )"
   ]
  },
  {
   "cell_type": "code",
   "execution_count": 28,
   "id": "piano-helen",
   "metadata": {},
   "outputs": [],
   "source": [
    "model.batch_size=1"
   ]
  },
  {
   "cell_type": "code",
   "execution_count": 29,
   "id": "important-sapphire",
   "metadata": {},
   "outputs": [],
   "source": [
    "predictions = model.rec_layer(series, initial_state=model.initial_state)"
   ]
  },
  {
   "cell_type": "code",
   "execution_count": 30,
   "id": "greek-shooting",
   "metadata": {},
   "outputs": [],
   "source": [
    "tfmeans = tf.convert_to_tensor(means.astype(np.float32))\n",
    "Cxdt=tf.einsum('ij,kj->ki',model.C, tfmeans)*model.dt"
   ]
  },
  {
   "cell_type": "code",
   "execution_count": 31,
   "id": "furnished-luxembourg",
   "metadata": {},
   "outputs": [
    {
     "data": {
      "text/plain": [
       "[<matplotlib.lines.Line2D at 0x7f08800c3820>]"
      ]
     },
     "execution_count": 31,
     "metadata": {},
     "output_type": "execute_result"
    },
    {
     "data": {
      "image/png": "[encoded data removed]",
      "text/plain": [
       "<Figure size 432x288 with 1 Axes>"
      ]
     },
     "metadata": {
      "needs_background": "light"
     },
     "output_type": "display_data"
    }
   ],
   "source": [
    "plt.plot(predictions[0][:,0])\n",
    "plt.plot(Cxdt[:,0][:10000])"
   ]
  },
  {
   "cell_type": "code",
   "execution_count": null,
   "id": "dressed-approach",
   "metadata": {},
   "outputs": [],
   "source": []
  }
 ],
 "metadata": {
  "kernelspec": {
   "display_name": "Python 3 (ipykernel)",
   "language": "python",
   "name": "python3"
  },
  "language_info": {
   "codemirror_mode": {
    "name": "ipython",
    "version": 3
   },
   "file_extension": ".py",
   "mimetype": "text/x-python",
   "name": "python",
   "nbconvert_exporter": "python",
   "pygments_lexer": "ipython3",
   "version": "3.9.7"
  }
 },
 "nbformat": 4,
 "nbformat_minor": 5
}
